{
 "cells": [
  {
   "cell_type": "code",
   "execution_count": 1,
   "outputs": [],
   "source": [
    "import os\n",
    "\n",
    "from fedot_ind.api.main import FedotIndustrial\n",
    "from fedot_ind.core.architecture.postprocessing.results_picker import ResultsPicker\n",
    "from fedot_ind.core.ensemble.rank_ensembler import RankEnsemble"
   ],
   "metadata": {
    "collapsed": false,
    "pycharm": {
     "name": "#%%\n"
    }
   }
  },
  {
   "cell_type": "code",
   "execution_count": 19,
   "outputs": [],
   "source": [
    "generators = ['topological', 'quantile', 'recurrence']\n",
    "dataset_name = 'DistalPhalanxOutlineAgeGroup'\n",
    "output_folder = os.path.abspath('./results_of_experiments')\n",
    "os.makedirs(output_folder, exist_ok=True)"
   ],
   "metadata": {
    "collapsed": false,
    "pycharm": {
     "name": "#%%\n"
    }
   }
  },
  {
   "cell_type": "code",
   "execution_count": 20,
   "outputs": [
    {
     "name": "stdout",
     "output_type": "stream",
     "text": [
      "2023-04-06 17:11:50,036 - Initialising experiment setup\n",
      "2023-04-06 17:11:50,048 - Experiment setup:\n",
      "        dataset - DistalPhalanxOutlineAgeGroup,\n",
      "        feature generator - topological,\n",
      "        use_cache - False,\n",
      "        error_correction - False,\n",
      "        n_jobs - 2,\n",
      "        timeout - 1,\n",
      "        ensemble - None\n",
      "2023-04-06 17:11:50,050 - Initialising solver\n",
      "2023-04-06 17:11:50,052 - TimeSeriesClassifier initialised\n",
      "2023-04-06 17:11:50,054 - Trying to read DistalPhalanxOutlineAgeGroup data locally\n",
      "2023-04-06 17:11:50,099 - Loaded data from DistalPhalanxOutlineAgeGroup local data folder\n",
      "2023-04-06 17:11:50,100 - 3 classes detected\n",
      "2023-04-06 17:11:50,103 - Fitting model\n",
      "2023-04-06 17:11:50,105 - Topological features extraction started\n",
      "2023-04-06 17:11:50,109 - Searching optimal Takens embedding parameters\n"
     ]
    },
    {
     "name": "stderr",
     "output_type": "stream",
     "text": [
      "Time series processed: 100%|\u001B[30m██████████\u001B[0m| 400/400 [00:09<00:00, 42.34ts/s]"
     ]
    },
    {
     "name": "stdout",
     "output_type": "stream",
     "text": [
      "2023-04-06 17:11:59,562 - Optimal TE parameters: dimension = 3, time_delay = 1\n"
     ]
    },
    {
     "name": "stderr",
     "output_type": "stream",
     "text": [
      "\n"
     ]
    },
    {
     "name": "stdout",
     "output_type": "stream",
     "text": [
      "2023-04-06 17:12:06,854 - AssumptionsHandler - Initial pipeline fitting started\n",
      "2023-04-06 17:12:07,954 - AssumptionsHandler - Initial pipeline was fitted successfully\n",
      "2023-04-06 17:12:07,956 - AssumptionsHandler - Memory consumption for fitting of the initial pipeline in main session: current 0.3 MiB, max: 1.5 MiB\n",
      "2023-04-06 17:12:07,958 - ApiComposer - Initial pipeline was fitted in 1.1 sec.\n",
      "2023-04-06 17:12:07,960 - AssumptionsHandler - Preset was changed to best_quality due to fit time estimation for initial model.\n",
      "2023-04-06 17:12:07,975 - ApiComposer - AutoML configured. Parameters tuning: True. Time limit: 1 min. Set of candidate models: ['poly_features', 'bernb', 'lgbm', 'pca', 'dt', 'isolation_forest_class', 'rf', 'mlp', 'fast_ica', 'resample', 'knn', 'logit', 'normalization', 'scaling', 'qda', 'poly_features', 'bernb', 'lgbm', 'pca', 'dt', 'isolation_forest_class', 'rf', 'mlp', 'fast_ica', 'resample', 'knn', 'logit', 'normalization', 'scaling', 'qda'].\n",
      "2023-04-06 17:12:07,980 - ApiComposer - Pipeline composition started.\n",
      "2023-04-06 17:12:07,982 - DataSourceSplitter - K-folds cross validation is applied.\n"
     ]
    },
    {
     "name": "stderr",
     "output_type": "stream",
     "text": [
      "Generations:   0%|          | 1/10000 [00:00<?, ?gen/s]"
     ]
    },
    {
     "name": "stdout",
     "output_type": "stream",
     "text": [
      "2023-04-06 17:12:07,988 - MultiprocessingDispatcher - Number of used CPU's: 2\n",
      "2023-04-06 17:12:15,265 - MultiprocessingDispatcher - 1 individuals out of 1 in previous population were evaluated successfully.\n",
      "2023-04-06 17:12:15,271 - EvoGraphOptimizer - Generation num: 1 size: 1\n",
      "2023-04-06 17:12:15,273 - EvoGraphOptimizer - Best individuals: HallOfFame archive fitness (1): ['<ClassificationMetricsEnum.ROCAUC_penalty=-0.893 ComplexityMetricsEnum.node_num=0.200>']\n",
      "2023-04-06 17:12:17,773 - MultiprocessingDispatcher - Number of used CPU's: 2\n",
      "2023-04-06 17:12:25,017 - MultiprocessingDispatcher - 21 individuals out of 21 in previous population were evaluated successfully.\n",
      "2023-04-06 17:12:25,022 - EvoGraphOptimizer - Generation num: 2 size: 21\n",
      "2023-04-06 17:12:25,024 - EvoGraphOptimizer - Best individuals: HallOfFame archive fitness (1): ['<ClassificationMetricsEnum.ROCAUC_penalty=-0.898 ComplexityMetricsEnum.node_num=0.400>']\n",
      "2023-04-06 17:12:25,027 - EvoGraphOptimizer - Next population size: 21; max graph depth: 10\n",
      "2023-04-06 17:12:26,316 - MultiprocessingDispatcher - Number of used CPU's: 2\n",
      "2023-04-06 17:12:26,576 - PipelineObjectiveEvaluate - Unsuccessful pipeline fit during fitness evaluation. Skipping the pipeline. Exception <array must not contain infs or NaNs> on ((/n_fast_ica_{'whiten': 'unit-variance'};)/n_scaling;)/n_rf_{'n_jobs': 1, 'criterion': 'gini', 'max_features': 0.9788282291292926, 'min_samples_split': 7, 'min_samples_leaf': 7, 'bootstrap': False}\n",
      "2023-04-06 17:12:29,748 - MultiprocessingDispatcher - 19 individuals out of 20 in previous population were evaluated successfully.\n",
      "2023-04-06 17:12:29,758 - EvoGraphOptimizer - Generation num: 3 size: 21\n",
      "2023-04-06 17:12:29,761 - EvoGraphOptimizer - Best individuals: HallOfFame archive fitness (1): ['<ClassificationMetricsEnum.ROCAUC_penalty=-0.898 ComplexityMetricsEnum.node_num=0.400>']\n",
      "2023-04-06 17:12:29,763 - EvoGraphOptimizer - no improvements for 1 iterations\n",
      "2023-04-06 17:12:29,765 - EvoGraphOptimizer - spent time: 0.4 min\n",
      "2023-04-06 17:12:29,767 - EvoGraphOptimizer - Next population size: 34; max graph depth: 10\n",
      "2023-04-06 17:12:31,008 - MultiprocessingDispatcher - Number of used CPU's: 2\n",
      "2023-04-06 17:12:33,965 - MultiprocessingDispatcher - 20 individuals out of 20 in previous population were evaluated successfully.\n",
      "2023-04-06 17:12:33,976 - EvoGraphOptimizer - Generation num: 4 size: 34\n",
      "2023-04-06 17:12:33,978 - EvoGraphOptimizer - Best individuals: HallOfFame archive fitness (1): ['<ClassificationMetricsEnum.ROCAUC_penalty=-0.898 ComplexityMetricsEnum.node_num=0.400>']\n",
      "2023-04-06 17:12:33,980 - EvoGraphOptimizer - no improvements for 2 iterations\n",
      "2023-04-06 17:12:33,983 - EvoGraphOptimizer - spent time: 0.4 min\n",
      "2023-04-06 17:12:33,985 - EvoGraphOptimizer - Next population size: 55; max graph depth: 10\n",
      "2023-04-06 17:12:35,455 - MultiprocessingDispatcher - Number of used CPU's: 2\n",
      "2023-04-06 17:12:40,610 - MultiprocessingDispatcher - 32 individuals out of 32 in previous population were evaluated successfully.\n",
      "2023-04-06 17:12:40,633 - EvoGraphOptimizer - Generation num: 5 size: 55\n",
      "2023-04-06 17:12:40,635 - EvoGraphOptimizer - Best individuals: HallOfFame archive fitness (1): ['<ClassificationMetricsEnum.ROCAUC_penalty=-0.898 ComplexityMetricsEnum.node_num=0.400>']\n",
      "2023-04-06 17:12:40,637 - EvoGraphOptimizer - no improvements for 3 iterations\n",
      "2023-04-06 17:12:40,639 - EvoGraphOptimizer - spent time: 0.5 min\n",
      "2023-04-06 17:12:40,643 - GroupedCondition - Optimisation stopped: Time limit is reached\n"
     ]
    },
    {
     "name": "stderr",
     "output_type": "stream",
     "text": [
      "Generations:   0%|          | 1/10000 [00:32<?, ?gen/s]"
     ]
    },
    {
     "name": "stdout",
     "output_type": "stream",
     "text": [
      "2023-04-06 17:12:40,647 - OptimisationTimer - Composition time: 0.544 min\n",
      "2023-04-06 17:12:40,649 - OptimisationTimer - Algorithm was terminated due to processing time limit\n",
      "2023-04-06 17:12:40,652 - EvoGraphOptimizer - Generation num: 6 size: 1\n",
      "2023-04-06 17:12:40,654 - EvoGraphOptimizer - Best individuals: HallOfFame archive fitness (1): ['<ClassificationMetricsEnum.ROCAUC_penalty=-0.898 ComplexityMetricsEnum.node_num=0.400>']\n",
      "2023-04-06 17:12:40,657 - EvoGraphOptimizer - no improvements for 4 iterations\n",
      "2023-04-06 17:12:40,659 - EvoGraphOptimizer - spent time: 0.5 min\n",
      "2023-04-06 17:12:40,667 - GPComposer - GP composition finished\n",
      "2023-04-06 17:12:40,672 - DataSourceSplitter - K-folds cross validation is applied.\n",
      "2023-04-06 17:12:40,676 - ApiComposer - Hyperparameters tuning started with 0 min. timeout\n",
      "2023-04-06 17:12:40,682 - SimultaneousTuner - Hyperparameters optimization start: estimation of metric for initial pipeline\n"
     ]
    },
    {
     "name": "stderr",
     "output_type": "stream",
     "text": [
      "\n"
     ]
    },
    {
     "name": "stdout",
     "output_type": "stream",
     "text": [
      "2023-04-06 17:12:43,004 - SimultaneousTuner - Initial graph: {'depth': 2, 'length': 4, 'nodes': [rf, scaling, poly_features, normalization]}\n",
      "rf - {'n_jobs': 1}\n",
      "scaling - {}\n",
      "poly_features - {'degree': 3, 'interaction_only': False}\n",
      "normalization - {} \n",
      "Initial metric: 0.891\n",
      "  0%|          | 0/10 [00:00<?, ?trial/s, best loss=?]2023-04-06 17:12:43,046 - build_posterior_wrapper took 0.017705 seconds\n",
      "2023-04-06 17:12:43,048 - TPE using 0 trials\n",
      " 10%|█         | 1/10 [00:03<00:29,  3.26s/trial, best loss: -0.8976]2023-04-06 17:12:46,300 - build_posterior_wrapper took 0.013342 seconds\n",
      "2023-04-06 17:12:46,303 - TPE using 1/1 trials with best loss -0.897600\n",
      " 20%|██        | 2/10 [00:07<00:28,  3.55s/trial, best loss: -0.8976]2023-04-06 17:12:50,056 - build_posterior_wrapper took 0.013399 seconds\n",
      "2023-04-06 17:12:50,059 - TPE using 2/2 trials with best loss -0.897600\n",
      " 30%|███       | 3/10 [00:10<00:25,  3.65s/trial, best loss: -0.8976]2023-04-06 17:12:53,817 - build_posterior_wrapper took 0.014825 seconds\n",
      "2023-04-06 17:12:53,820 - TPE using 3/3 trials with best loss -0.897600\n",
      " 40%|████      | 4/10 [00:15<00:23,  3.98s/trial, best loss: -0.8976]2023-04-06 17:12:58,311 - build_posterior_wrapper took 0.014106 seconds\n",
      "2023-04-06 17:12:58,314 - TPE using 4/4 trials with best loss -0.897600\n",
      " 50%|█████     | 5/10 [00:17<00:16,  3.38s/trial, best loss: -0.8976]2023-04-06 17:13:00,637 - build_posterior_wrapper took 0.013474 seconds\n",
      "2023-04-06 17:13:00,640 - TPE using 5/5 trials with best loss -0.897600\n",
      " 60%|██████    | 6/10 [00:21<00:13,  3.39s/trial, best loss: -0.8976]2023-04-06 17:13:04,044 - build_posterior_wrapper took 0.013541 seconds\n",
      "2023-04-06 17:13:04,046 - TPE using 6/6 trials with best loss -0.897600\n",
      " 70%|███████   | 7/10 [00:23<00:09,  3.15s/trial, best loss: -0.8976]2023-04-06 17:13:06,700 - build_posterior_wrapper took 0.014525 seconds\n",
      "2023-04-06 17:13:06,703 - TPE using 7/7 trials with best loss -0.897600\n",
      " 80%|████████  | 8/10 [00:26<00:06,  3.28s/trial, best loss: -0.8976]\n",
      "2023-04-06 17:13:09,262 - SimultaneousTuner - Tunner stopped after initial search due to the lack of time\n",
      "2023-04-06 17:13:09,265 - SimultaneousTuner - Exception local variable 'best' referenced before assignment occurred during tuning\n",
      "2023-04-06 17:13:09,274 - ApiComposer - Hyperparameters tuning finished\n",
      "2023-04-06 17:13:09,520 - ApiComposer - Model generation finished\n",
      "2023-04-06 17:13:10,951 - FEDOT logger - Final pipeline was fitted\n",
      "2023-04-06 17:13:10,954 - FEDOT logger - Final pipeline: {'depth': 2, 'length': 4, 'nodes': [rf, scaling, poly_features, normalization]}\n",
      "rf - {'n_jobs': 2, 'bootstrap': True, 'criterion': 'entropy', 'max_features': 0.20547062198206967, 'min_samples_leaf': 12, 'min_samples_split': 3}\n",
      "scaling - {}\n",
      "poly_features - {'degree': 3, 'interaction_only': False}\n",
      "normalization - {}\n",
      "Memory consumption for finish in main session: current 0.7 MiB, max: 3.1 MiB\n",
      "2023-04-06 17:13:10,965 - Solver fitted: topological_extractor -> fedot_pipeline ({'depth': 2, 'length': 4, 'nodes': [rf, scaling, poly_features, normalization]})\n",
      "2023-04-06 17:13:10,968 - Predicting with topological generator\n",
      "2023-04-06 17:13:10,970 - Topological features extraction started\n",
      "2023-04-06 17:13:17,421 - Predicting with topological generator\n",
      "2023-04-06 17:13:17,445 - Calculating metrics: ['f1', 'roc_auc']\n",
      "2023-04-06 17:13:17,454 - Metrics are: {'f1': 0.688, 'roc_auc': 0.805}\n",
      "2023-04-06 17:13:17,455 - Saving predicted labels to /Users/technocreep/Desktop/Working-Folder/fedot-industrial/Fedot.Industrial/examples/time_series_classification/results_of_experiments/topological/DistalPhalanxOutlineAgeGroup\n",
      "2023-04-06 17:13:17,459 - Saving predicted probs to /Users/technocreep/Desktop/Working-Folder/fedot-industrial/Fedot.Industrial/examples/time_series_classification/results_of_experiments/topological/DistalPhalanxOutlineAgeGroup\n",
      "2023-04-06 17:13:17,462 - Saving predicted metrics to /Users/technocreep/Desktop/Working-Folder/fedot-industrial/Fedot.Industrial/examples/time_series_classification/results_of_experiments/topological/DistalPhalanxOutlineAgeGroup\n",
      "2023-04-06 17:13:17,465 - Initialising experiment setup\n",
      "2023-04-06 17:13:17,470 - Experiment setup:\n",
      "        dataset - DistalPhalanxOutlineAgeGroup,\n",
      "        feature generator - quantile,\n",
      "        use_cache - False,\n",
      "        error_correction - False,\n",
      "        n_jobs - 2,\n",
      "        timeout - 1,\n",
      "        ensemble - None\n",
      "2023-04-06 17:13:17,471 - Initialising solver\n",
      "2023-04-06 17:13:17,473 - TimeSeriesClassifier initialised\n",
      "2023-04-06 17:13:17,474 - Trying to read DistalPhalanxOutlineAgeGroup data locally\n",
      "2023-04-06 17:13:17,495 - Loaded data from DistalPhalanxOutlineAgeGroup local data folder\n",
      "2023-04-06 17:13:17,496 - 3 classes detected\n",
      "2023-04-06 17:13:17,497 - Fitting model\n",
      "2023-04-06 17:13:17,499 - Window mode: True\n",
      "2023-04-06 17:13:17,501 - Statistical features extraction started\n"
     ]
    },
    {
     "name": "stderr",
     "output_type": "stream",
     "text": [
      "TS processed: 100%|\u001B[32m██████████\u001B[0m| 400/400 [00:05<00:00, 78.78 ts/s] "
     ]
    },
    {
     "name": "stdout",
     "output_type": "stream",
     "text": [
      "2023-04-06 17:13:22,768 - Statistical features extraction finished\n"
     ]
    },
    {
     "name": "stderr",
     "output_type": "stream",
     "text": [
      "\n"
     ]
    },
    {
     "name": "stdout",
     "output_type": "stream",
     "text": [
      "2023-04-06 17:13:23,307 - AssumptionsHandler - Initial pipeline fitting started\n",
      "2023-04-06 17:13:24,606 - AssumptionsHandler - Initial pipeline was fitted successfully\n",
      "2023-04-06 17:13:24,608 - AssumptionsHandler - Memory consumption for fitting of the initial pipeline in main session: current 1.2 MiB, max: 2.2 MiB\n",
      "2023-04-06 17:13:24,610 - ApiComposer - Initial pipeline was fitted in 1.3 sec.\n",
      "2023-04-06 17:13:24,613 - AssumptionsHandler - Preset was changed to fast_train due to fit time estimation for initial model.\n",
      "2023-04-06 17:13:24,627 - ApiComposer - AutoML configured. Parameters tuning: True. Time limit: 1 min. Set of candidate models: ['bernb', 'dt', 'pca', 'rf', 'knn', 'logit', 'normalization', 'scaling', 'qda', 'bernb', 'dt', 'pca', 'rf', 'knn', 'logit', 'normalization', 'scaling', 'qda'].\n",
      "2023-04-06 17:13:24,632 - ApiComposer - Timeout is too small for composing and is skipped because fit_time is 1.305389 sec.\n",
      "2023-04-06 17:13:24,636 - DataSourceSplitter - K-folds cross validation is applied.\n",
      "2023-04-06 17:13:24,639 - ApiComposer - Hyperparameters tuning started with 1 min. timeout\n",
      "2023-04-06 17:13:24,643 - SimultaneousTuner - Hyperparameters optimization start: estimation of metric for initial pipeline\n",
      "2023-04-06 17:13:26,609 - SimultaneousTuner - Initial graph: {'depth': 2, 'length': 2, 'nodes': [rf, scaling]}\n",
      "rf - {'n_jobs': 2}\n",
      "scaling - {} \n",
      "Initial metric: 0.941\n",
      "  0%|          | 0/100000 [00:00<?, ?trial/s, best loss=?]2023-04-06 17:13:26,638 - build_posterior_wrapper took 0.009467 seconds\n",
      "2023-04-06 17:13:26,641 - TPE using 0 trials\n",
      "  0%|          | 1/100000 [00:02<57:05:55,  2.06s/trial, best loss: -0.9421120000000001]2023-04-06 17:13:28,695 - build_posterior_wrapper took 0.009786 seconds\n",
      "2023-04-06 17:13:28,698 - TPE using 1/1 trials with best loss -0.942112\n",
      "  0%|          | 2/100000 [00:04<59:43:17,  2.15s/trial, best loss: -0.9421120000000001]2023-04-06 17:13:30,912 - build_posterior_wrapper took 0.010173 seconds\n",
      "2023-04-06 17:13:30,915 - TPE using 2/2 trials with best loss -0.942112\n",
      "  0%|          | 3/100000 [00:05<53:37:29,  1.93s/trial, best loss: -0.9421120000000001]2023-04-06 17:13:32,581 - build_posterior_wrapper took 0.009887 seconds\n",
      "2023-04-06 17:13:32,583 - TPE using 3/3 trials with best loss -0.942112\n",
      "  0%|          | 4/100000 [00:08<55:22:18,  1.99s/trial, best loss: -0.944108]          2023-04-06 17:13:34,671 - build_posterior_wrapper took 0.010256 seconds\n",
      "2023-04-06 17:13:34,674 - TPE using 4/4 trials with best loss -0.944108\n",
      "  0%|          | 5/100000 [00:09<53:36:02,  1.93s/trial, best loss: -0.944108]2023-04-06 17:13:36,488 - build_posterior_wrapper took 0.010274 seconds\n",
      "2023-04-06 17:13:36,490 - TPE using 5/5 trials with best loss -0.944108\n",
      "  0%|          | 6/100000 [00:11<50:47:44,  1.83s/trial, best loss: -0.944108]2023-04-06 17:13:38,120 - build_posterior_wrapper took 0.009979 seconds\n",
      "2023-04-06 17:13:38,123 - TPE using 6/6 trials with best loss -0.944108\n",
      "  0%|          | 7/100000 [00:13<49:35:24,  1.79s/trial, best loss: -0.944108]2023-04-06 17:13:39,817 - build_posterior_wrapper took 0.010576 seconds\n",
      "2023-04-06 17:13:39,820 - TPE using 7/7 trials with best loss -0.944108\n",
      "  0%|          | 8/100000 [00:15<52:31:47,  1.89s/trial, best loss: -0.944108]2023-04-06 17:13:41,938 - build_posterior_wrapper took 0.013533 seconds\n",
      "2023-04-06 17:13:41,940 - TPE using 8/8 trials with best loss -0.944108\n",
      "  0%|          | 9/100000 [00:16<50:15:03,  1.81s/trial, best loss: -0.944108]2023-04-06 17:13:43,563 - build_posterior_wrapper took 0.009824 seconds\n",
      "2023-04-06 17:13:43,565 - TPE using 9/9 trials with best loss -0.944108\n",
      "  0%|          | 10/100000 [00:18<49:03:40,  1.77s/trial, best loss: -0.944108]2023-04-06 17:13:45,235 - build_posterior_wrapper took 0.011590 seconds\n",
      "2023-04-06 17:13:45,238 - TPE using 10/10 trials with best loss -0.944108\n",
      "  0%|          | 11/100000 [00:20<48:02:57,  1.73s/trial, best loss: -0.944108]2023-04-06 17:13:46,881 - build_posterior_wrapper took 0.009848 seconds\n",
      "2023-04-06 17:13:46,883 - TPE using 11/11 trials with best loss -0.944108\n",
      "  0%|          | 12/100000 [00:21<47:20:13,  1.70s/trial, best loss: -0.944108]2023-04-06 17:13:48,527 - build_posterior_wrapper took 0.010503 seconds\n",
      "2023-04-06 17:13:48,530 - TPE using 12/12 trials with best loss -0.944108\n",
      "  0%|          | 13/100000 [00:23<50:19:25,  1.81s/trial, best loss: -0.944108]2023-04-06 17:13:50,586 - build_posterior_wrapper took 0.010021 seconds\n",
      "2023-04-06 17:13:50,588 - TPE using 13/13 trials with best loss -0.944108\n",
      "  0%|          | 14/100000 [00:25<48:57:49,  1.76s/trial, best loss: -0.944108]2023-04-06 17:13:52,237 - build_posterior_wrapper took 0.011287 seconds\n",
      "2023-04-06 17:13:52,240 - TPE using 14/14 trials with best loss -0.944108\n",
      "  0%|          | 15/100000 [00:27<47:51:50,  1.72s/trial, best loss: -0.944108]2023-04-06 17:13:53,868 - build_posterior_wrapper took 0.010103 seconds\n",
      "2023-04-06 17:13:53,870 - TPE using 15/15 trials with best loss -0.944108\n",
      "  0%|          | 16/100000 [00:29<51:32:28,  1.86s/trial, best loss: -0.944108]2023-04-06 17:13:56,032 - build_posterior_wrapper took 0.010778 seconds\n",
      "2023-04-06 17:13:56,034 - TPE using 16/16 trials with best loss -0.944108\n",
      "  0%|          | 17/100000 [00:31<53:21:26,  1.92s/trial, best loss: -0.944108]2023-04-06 17:13:58,104 - build_posterior_wrapper took 0.009850 seconds\n",
      "2023-04-06 17:13:58,106 - TPE using 17/17 trials with best loss -0.944108\n",
      "  0%|          | 18/100000 [00:33<55:01:21,  1.98s/trial, best loss: -0.944108]2023-04-06 17:14:00,227 - build_posterior_wrapper took 0.012429 seconds\n",
      "2023-04-06 17:14:00,231 - TPE using 18/18 trials with best loss -0.944108\n",
      "  0%|          | 19/100000 [00:35<52:58:32,  1.91s/trial, best loss: -0.944108]2023-04-06 17:14:01,961 - build_posterior_wrapper took 0.009844 seconds\n",
      "2023-04-06 17:14:01,963 - TPE using 19/19 trials with best loss -0.944108\n",
      "  0%|          | 20/100000 [00:37<54:40:07,  1.97s/trial, best loss: -0.944108]2023-04-06 17:14:04,076 - build_posterior_wrapper took 0.014445 seconds\n",
      "2023-04-06 17:14:04,079 - TPE using 20/20 trials with best loss -0.944108\n",
      "  0%|          | 21/100000 [00:39<55:34:36,  2.00s/trial, best loss: -0.944108]2023-04-06 17:14:06,149 - build_posterior_wrapper took 0.010051 seconds\n",
      "2023-04-06 17:14:06,151 - TPE using 21/21 trials with best loss -0.944108\n",
      "  0%|          | 22/100000 [00:41<56:39:39,  2.04s/trial, best loss: -0.945106]2023-04-06 17:14:08,281 - build_posterior_wrapper took 0.010621 seconds\n",
      "2023-04-06 17:14:08,283 - TPE using 22/22 trials with best loss -0.945106\n",
      "  0%|          | 23/100000 [00:43<56:53:29,  2.05s/trial, best loss: -0.945106]2023-04-06 17:14:10,348 - build_posterior_wrapper took 0.010123 seconds\n",
      "2023-04-06 17:14:10,351 - TPE using 23/23 trials with best loss -0.945106\n",
      "  0%|          | 24/100000 [00:45<57:35:24,  2.07s/trial, best loss: -0.946603]2023-04-06 17:14:12,481 - build_posterior_wrapper took 0.010848 seconds\n",
      "2023-04-06 17:14:12,484 - TPE using 24/24 trials with best loss -0.946603\n",
      "  0%|          | 25/100000 [00:47<57:52:34,  2.08s/trial, best loss: -0.946603]2023-04-06 17:14:14,589 - build_posterior_wrapper took 0.010068 seconds\n",
      "2023-04-06 17:14:14,591 - TPE using 25/25 trials with best loss -0.946603\n",
      "  0%|          | 26/100000 [00:50<58:25:17,  2.10s/trial, best loss: -0.946603]2023-04-06 17:14:16,739 - build_posterior_wrapper took 0.011104 seconds\n",
      "2023-04-06 17:14:16,742 - TPE using 26/26 trials with best loss -0.946603\n",
      "  0%|          | 27/100000 [00:52<58:23:19,  2.10s/trial, best loss: -0.946603]2023-04-06 17:14:18,838 - build_posterior_wrapper took 0.010391 seconds\n",
      "2023-04-06 17:14:18,841 - TPE using 27/27 trials with best loss -0.946603\n",
      "  0%|          | 28/100000 [00:54<53:52:19,  1.94s/trial, best loss: -0.946603]\n",
      "2023-04-06 17:14:22,953 - SimultaneousTuner - Hyperparameters optimization finished\n",
      "2023-04-06 17:14:22,955 - SimultaneousTuner - Return tuned graph due to the fact that obtained metric 0.947 equal or better than initial (+ 0.05% deviation) 0.941\n",
      "2023-04-06 17:14:22,957 - SimultaneousTuner - Final graph: {'depth': 2, 'length': 2, 'nodes': [rf, scaling]}\n",
      "rf - {'n_jobs': 2, 'bootstrap': True, 'criterion': 'entropy', 'max_features': 0.21296557754138382, 'min_samples_leaf': 11, 'min_samples_split': 5}\n",
      "scaling - {}\n",
      "2023-04-06 17:14:22,960 - SimultaneousTuner - Final metric: 0.947\n",
      "2023-04-06 17:14:22,967 - ApiComposer - Hyperparameters tuning finished\n",
      "2023-04-06 17:14:23,204 - ApiComposer - Model generation finished\n",
      "2023-04-06 17:14:24,218 - FEDOT logger - Final pipeline was fitted\n",
      "2023-04-06 17:14:24,220 - FEDOT logger - Final pipeline: {'depth': 2, 'length': 2, 'nodes': [rf, scaling]}\n",
      "rf - {'n_jobs': 2, 'bootstrap': True, 'criterion': 'entropy', 'max_features': 0.21296557754138382, 'min_samples_leaf': 11, 'min_samples_split': 5}\n",
      "scaling - {}\n",
      "Memory consumption for finish in main session: current 1.6 MiB, max: 2.3 MiB\n",
      "2023-04-06 17:14:24,235 - Solver fitted: quantile_extractor -> fedot_pipeline ({'depth': 2, 'length': 2, 'nodes': [rf, scaling]})\n",
      "2023-04-06 17:14:24,238 - Predicting with quantile generator\n",
      "2023-04-06 17:14:24,239 - Window mode: True\n",
      "2023-04-06 17:14:24,240 - Statistical features extraction started\n"
     ]
    },
    {
     "name": "stderr",
     "output_type": "stream",
     "text": [
      "TS processed: 100%|\u001B[32m██████████\u001B[0m| 139/139 [00:02<00:00, 51.93 ts/s] \n"
     ]
    },
    {
     "name": "stdout",
     "output_type": "stream",
     "text": [
      "2023-04-06 17:14:27,045 - Statistical features extraction finished\n",
      "2023-04-06 17:14:27,125 - Predicting with quantile generator\n",
      "2023-04-06 17:14:27,179 - Calculating metrics: ['f1', 'roc_auc']\n",
      "2023-04-06 17:14:27,187 - Metrics are: {'f1': 0.735, 'roc_auc': 0.891}\n",
      "2023-04-06 17:14:27,188 - Saving predicted labels to /Users/technocreep/Desktop/Working-Folder/fedot-industrial/Fedot.Industrial/examples/time_series_classification/results_of_experiments/quantile/DistalPhalanxOutlineAgeGroup\n",
      "2023-04-06 17:14:27,192 - Saving predicted probs to /Users/technocreep/Desktop/Working-Folder/fedot-industrial/Fedot.Industrial/examples/time_series_classification/results_of_experiments/quantile/DistalPhalanxOutlineAgeGroup\n",
      "2023-04-06 17:14:27,196 - Saving predicted metrics to /Users/technocreep/Desktop/Working-Folder/fedot-industrial/Fedot.Industrial/examples/time_series_classification/results_of_experiments/quantile/DistalPhalanxOutlineAgeGroup\n",
      "2023-04-06 17:14:27,198 - Initialising experiment setup\n",
      "2023-04-06 17:14:27,203 - Experiment setup:\n",
      "        dataset - DistalPhalanxOutlineAgeGroup,\n",
      "        feature generator - recurrence,\n",
      "        use_cache - False,\n",
      "        error_correction - False,\n",
      "        n_jobs - 2,\n",
      "        timeout - 1,\n",
      "        ensemble - None\n",
      "2023-04-06 17:14:27,204 - Initialising solver\n",
      "2023-04-06 17:14:27,206 - TimeSeriesClassifier initialised\n",
      "2023-04-06 17:14:27,207 - Trying to read DistalPhalanxOutlineAgeGroup data locally\n",
      "2023-04-06 17:14:27,227 - Loaded data from DistalPhalanxOutlineAgeGroup local data folder\n",
      "2023-04-06 17:14:27,228 - 3 classes detected\n",
      "2023-04-06 17:14:27,229 - Fitting model\n",
      "2023-04-06 17:14:27,231 - Recurrence feature extraction started\n"
     ]
    },
    {
     "name": "stderr",
     "output_type": "stream",
     "text": [
      "Feature Generation. TS processed: 100%|\u001B[30m██████████\u001B[0m| 400/400 [00:02<00:00, 177.72 ts/s]"
     ]
    },
    {
     "name": "stdout",
     "output_type": "stream",
     "text": [
      "2023-04-06 17:14:29,595 - Recurrence feature extraction finished\n"
     ]
    },
    {
     "name": "stderr",
     "output_type": "stream",
     "text": [
      "\n"
     ]
    },
    {
     "name": "stdout",
     "output_type": "stream",
     "text": [
      "2023-04-06 17:14:29,700 - AssumptionsHandler - Initial pipeline fitting started\n",
      "2023-04-06 17:14:30,805 - AssumptionsHandler - Initial pipeline was fitted successfully\n",
      "2023-04-06 17:14:30,807 - AssumptionsHandler - Memory consumption for fitting of the initial pipeline in main session: current 0.5 MiB, max: 1.9 MiB\n",
      "2023-04-06 17:14:30,810 - ApiComposer - Initial pipeline was fitted in 1.1 sec.\n",
      "2023-04-06 17:14:30,812 - AssumptionsHandler - Preset was changed to best_quality due to fit time estimation for initial model.\n",
      "2023-04-06 17:14:30,826 - ApiComposer - AutoML configured. Parameters tuning: True. Time limit: 1 min. Set of candidate models: ['poly_features', 'bernb', 'lgbm', 'pca', 'dt', 'isolation_forest_class', 'rf', 'mlp', 'fast_ica', 'resample', 'knn', 'logit', 'normalization', 'scaling', 'qda', 'poly_features', 'bernb', 'lgbm', 'pca', 'dt', 'isolation_forest_class', 'rf', 'mlp', 'fast_ica', 'resample', 'knn', 'logit', 'normalization', 'scaling', 'qda'].\n",
      "2023-04-06 17:14:30,831 - ApiComposer - Pipeline composition started.\n",
      "2023-04-06 17:14:30,835 - DataSourceSplitter - K-folds cross validation is applied.\n"
     ]
    },
    {
     "name": "stderr",
     "output_type": "stream",
     "text": [
      "Generations:   0%|          | 1/10000 [00:00<?, ?gen/s]"
     ]
    },
    {
     "name": "stdout",
     "output_type": "stream",
     "text": [
      "2023-04-06 17:14:30,841 - MultiprocessingDispatcher - Number of used CPU's: 2\n",
      "2023-04-06 17:14:37,175 - MultiprocessingDispatcher - 1 individuals out of 1 in previous population were evaluated successfully.\n",
      "2023-04-06 17:14:37,181 - EvoGraphOptimizer - Generation num: 1 size: 1\n",
      "2023-04-06 17:14:37,183 - EvoGraphOptimizer - Best individuals: HallOfFame archive fitness (1): ['<ClassificationMetricsEnum.ROCAUC_penalty=-0.920 ComplexityMetricsEnum.node_num=0.200>']\n",
      "2023-04-06 17:14:39,485 - MultiprocessingDispatcher - Number of used CPU's: 2\n",
      "2023-04-06 17:14:46,822 - MultiprocessingDispatcher - 21 individuals out of 21 in previous population were evaluated successfully.\n",
      "2023-04-06 17:14:46,825 - EvoGraphOptimizer - Generation num: 2 size: 21\n",
      "2023-04-06 17:14:46,827 - EvoGraphOptimizer - Best individuals: HallOfFame archive fitness (1): ['<ClassificationMetricsEnum.ROCAUC_penalty=-0.927 ComplexityMetricsEnum.node_num=0.100>']\n",
      "2023-04-06 17:14:46,829 - EvoGraphOptimizer - Next population size: 13; max graph depth: 10\n",
      "2023-04-06 17:14:47,580 - MultiprocessingDispatcher - Number of used CPU's: 2\n",
      "2023-04-06 17:14:50,014 - MultiprocessingDispatcher - 12 individuals out of 12 in previous population were evaluated successfully.\n",
      "2023-04-06 17:14:50,021 - EvoGraphOptimizer - Generation num: 3 size: 13\n",
      "2023-04-06 17:14:50,023 - EvoGraphOptimizer - Best individuals: HallOfFame archive fitness (1): ['<ClassificationMetricsEnum.ROCAUC_penalty=-0.927 ComplexityMetricsEnum.node_num=0.100>']\n",
      "2023-04-06 17:14:50,025 - EvoGraphOptimizer - no improvements for 1 iterations\n",
      "2023-04-06 17:14:50,027 - EvoGraphOptimizer - spent time: 0.3 min\n",
      "2023-04-06 17:14:50,029 - EvoGraphOptimizer - Next population size: 21; max graph depth: 10\n",
      "2023-04-06 17:14:50,756 - MultiprocessingDispatcher - Number of used CPU's: 2\n",
      "2023-04-06 17:14:52,330 - MultiprocessingDispatcher - 12 individuals out of 12 in previous population were evaluated successfully.\n",
      "2023-04-06 17:14:52,340 - EvoGraphOptimizer - Generation num: 4 size: 21\n",
      "2023-04-06 17:14:52,342 - EvoGraphOptimizer - Best individuals: HallOfFame archive fitness (1): ['<ClassificationMetricsEnum.ROCAUC_penalty=-0.927 ComplexityMetricsEnum.node_num=0.100>']\n",
      "2023-04-06 17:14:52,345 - EvoGraphOptimizer - no improvements for 2 iterations\n",
      "2023-04-06 17:14:52,348 - EvoGraphOptimizer - spent time: 0.4 min\n",
      "2023-04-06 17:14:52,351 - EvoGraphOptimizer - Next population size: 34; max graph depth: 10\n",
      "2023-04-06 17:14:53,992 - MultiprocessingDispatcher - Number of used CPU's: 2\n",
      "2023-04-06 17:14:58,634 - MultiprocessingDispatcher - 20 individuals out of 20 in previous population were evaluated successfully.\n",
      "2023-04-06 17:14:58,647 - EvoGraphOptimizer - Generation num: 5 size: 34\n",
      "2023-04-06 17:14:58,650 - EvoGraphOptimizer - Best individuals: HallOfFame archive fitness (1): ['<ClassificationMetricsEnum.ROCAUC_penalty=-0.927 ComplexityMetricsEnum.node_num=0.100>']\n",
      "2023-04-06 17:14:58,653 - EvoGraphOptimizer - no improvements for 3 iterations\n",
      "2023-04-06 17:14:58,656 - EvoGraphOptimizer - spent time: 0.5 min\n",
      "2023-04-06 17:14:58,659 - EvoGraphOptimizer - Next population size: 55; max graph depth: 10\n",
      "2023-04-06 17:15:01,224 - MultiprocessingDispatcher - Number of used CPU's: 2\n",
      "2023-04-06 17:15:06,667 - MultiprocessingDispatcher - 32 individuals out of 32 in previous population were evaluated successfully.\n",
      "2023-04-06 17:15:06,696 - EvoGraphOptimizer - Generation num: 6 size: 55\n",
      "2023-04-06 17:15:06,698 - EvoGraphOptimizer - Best individuals: HallOfFame archive fitness (1): ['<ClassificationMetricsEnum.ROCAUC_penalty=-0.927 ComplexityMetricsEnum.node_num=0.100>']\n",
      "2023-04-06 17:15:06,700 - EvoGraphOptimizer - no improvements for 4 iterations\n",
      "2023-04-06 17:15:06,702 - EvoGraphOptimizer - spent time: 0.6 min\n",
      "2023-04-06 17:15:06,705 - GroupedCondition - Optimisation stopped: Time limit is reached\n"
     ]
    },
    {
     "name": "stderr",
     "output_type": "stream",
     "text": [
      "Generations:   0%|          | 1/10000 [00:35<?, ?gen/s]"
     ]
    },
    {
     "name": "stdout",
     "output_type": "stream",
     "text": [
      "2023-04-06 17:15:06,709 - OptimisationTimer - Composition time: 0.598 min\n",
      "2023-04-06 17:15:06,712 - OptimisationTimer - Algorithm was terminated due to processing time limit\n",
      "2023-04-06 17:15:06,714 - EvoGraphOptimizer - Generation num: 7 size: 1\n",
      "2023-04-06 17:15:06,716 - EvoGraphOptimizer - Best individuals: HallOfFame archive fitness (1): ['<ClassificationMetricsEnum.ROCAUC_penalty=-0.927 ComplexityMetricsEnum.node_num=0.100>']\n",
      "2023-04-06 17:15:06,719 - EvoGraphOptimizer - no improvements for 5 iterations\n",
      "2023-04-06 17:15:06,721 - EvoGraphOptimizer - spent time: 0.6 min\n",
      "2023-04-06 17:15:06,725 - GPComposer - GP composition finished\n",
      "2023-04-06 17:15:06,729 - DataSourceSplitter - K-folds cross validation is applied.\n",
      "2023-04-06 17:15:06,732 - ApiComposer - Hyperparameters tuning started with 0 min. timeout\n",
      "2023-04-06 17:15:06,736 - SimultaneousTuner - Hyperparameters optimization start: estimation of metric for initial pipeline\n"
     ]
    },
    {
     "name": "stderr",
     "output_type": "stream",
     "text": [
      "\n"
     ]
    },
    {
     "name": "stdout",
     "output_type": "stream",
     "text": [
      "2023-04-06 17:15:08,932 - SimultaneousTuner - Initial graph: {'depth': 1, 'length': 1, 'nodes': [rf]}\n",
      "rf - {'n_jobs': 1} \n",
      "Initial metric: 0.922\n",
      "  0%|          | 0/100000 [00:00<?, ?trial/s, best loss=?]2023-04-06 17:15:08,961 - build_posterior_wrapper took 0.009748 seconds\n",
      "2023-04-06 17:15:08,963 - TPE using 0 trials\n",
      "  0%|          | 1/100000 [00:01<44:12:12,  1.59s/trial, best loss: -0.924883]2023-04-06 17:15:10,553 - build_posterior_wrapper took 0.009198 seconds\n",
      "2023-04-06 17:15:10,555 - TPE using 1/1 trials with best loss -0.924883\n",
      "  0%|          | 2/100000 [00:03<57:12:47,  2.06s/trial, best loss: -0.9248830000000001]2023-04-06 17:15:12,942 - build_posterior_wrapper took 0.009816 seconds\n",
      "2023-04-06 17:15:12,944 - TPE using 2/2 trials with best loss -0.924883\n",
      "  0%|          | 3/100000 [00:06<60:25:51,  2.18s/trial, best loss: -0.9253826666666667]2023-04-06 17:15:15,254 - build_posterior_wrapper took 0.009212 seconds\n",
      "2023-04-06 17:15:15,257 - TPE using 3/3 trials with best loss -0.925383\n",
      "  0%|          | 4/100000 [00:08<62:47:49,  2.26s/trial, best loss: -0.9253826666666667]2023-04-06 17:15:17,647 - build_posterior_wrapper took 0.010019 seconds\n",
      "2023-04-06 17:15:17,649 - TPE using 4/4 trials with best loss -0.925383\n",
      "  0%|          | 5/100000 [00:10<63:04:23,  2.27s/trial, best loss: -0.9253826666666667]2023-04-06 17:15:19,934 - build_posterior_wrapper took 0.009626 seconds\n",
      "2023-04-06 17:15:19,937 - TPE using 5/5 trials with best loss -0.925383\n",
      "  0%|          | 6/100000 [00:12<57:17:44,  2.06s/trial, best loss: -0.9253826666666667]2023-04-06 17:15:21,593 - build_posterior_wrapper took 0.009565 seconds\n",
      "2023-04-06 17:15:21,596 - TPE using 6/6 trials with best loss -0.925383\n",
      "  0%|          | 7/100000 [00:14<53:04:47,  1.91s/trial, best loss: -0.9253826666666667]2023-04-06 17:15:23,192 - build_posterior_wrapper took 0.009463 seconds\n",
      "2023-04-06 17:15:23,194 - TPE using 7/7 trials with best loss -0.925383\n",
      "  0%|          | 8/100000 [00:16<56:54:05,  2.05s/trial, best loss: -0.9253826666666667]2023-04-06 17:15:25,536 - build_posterior_wrapper took 0.009914 seconds\n",
      "2023-04-06 17:15:25,538 - TPE using 8/8 trials with best loss -0.925383\n",
      "  0%|          | 9/100000 [00:18<56:06:40,  2.02s/trial, best loss: -0.9253826666666667]\n",
      "2023-04-06 17:15:29,386 - SimultaneousTuner - Hyperparameters optimization finished\n",
      "2023-04-06 17:15:29,389 - SimultaneousTuner - Return tuned graph due to the fact that obtained metric 0.925 equal or better than initial (+ 0.05% deviation) 0.923\n",
      "2023-04-06 17:15:29,391 - SimultaneousTuner - Final graph: {'depth': 1, 'length': 1, 'nodes': [rf]}\n",
      "rf - {'n_jobs': 1, 'bootstrap': True, 'criterion': 'gini', 'max_features': 0.7080406111148548, 'min_samples_leaf': 7, 'min_samples_split': 10}\n",
      "2023-04-06 17:15:29,394 - SimultaneousTuner - Final metric: 0.925\n",
      "2023-04-06 17:15:29,398 - ApiComposer - Hyperparameters tuning finished\n",
      "2023-04-06 17:15:29,637 - ApiComposer - Model generation finished\n",
      "2023-04-06 17:15:30,717 - FEDOT logger - Final pipeline was fitted\n",
      "2023-04-06 17:15:30,720 - FEDOT logger - Final pipeline: {'depth': 1, 'length': 1, 'nodes': [rf]}\n",
      "rf - {'n_jobs': 2, 'bootstrap': True, 'criterion': 'gini', 'max_features': 0.7080406111148548, 'min_samples_leaf': 7, 'min_samples_split': 10}\n",
      "Memory consumption for finish in main session: current 1.3 MiB, max: 2.0 MiB\n",
      "2023-04-06 17:15:30,734 - Solver fitted: recurrence_extractor -> fedot_pipeline ({'depth': 1, 'length': 1, 'nodes': [rf]})\n",
      "2023-04-06 17:15:30,737 - Predicting with recurrence generator\n",
      "2023-04-06 17:15:30,739 - Recurrence feature extraction started\n"
     ]
    },
    {
     "name": "stderr",
     "output_type": "stream",
     "text": [
      "Feature Generation. TS processed: 100%|\u001B[30m██████████\u001B[0m| 139/139 [00:02<00:00, 67.19 ts/s] "
     ]
    },
    {
     "name": "stdout",
     "output_type": "stream",
     "text": [
      "2023-04-06 17:15:32,907 - Recurrence feature extraction finished\n",
      "2023-04-06 17:15:32,941 - Predicting with recurrence generator\n"
     ]
    },
    {
     "name": "stderr",
     "output_type": "stream",
     "text": [
      "\n"
     ]
    },
    {
     "name": "stdout",
     "output_type": "stream",
     "text": [
      "2023-04-06 17:15:32,968 - Calculating metrics: ['f1', 'roc_auc']\n",
      "2023-04-06 17:15:32,977 - Metrics are: {'f1': 0.686, 'roc_auc': 0.832}\n",
      "2023-04-06 17:15:32,978 - Saving predicted labels to /Users/technocreep/Desktop/Working-Folder/fedot-industrial/Fedot.Industrial/examples/time_series_classification/results_of_experiments/recurrence/DistalPhalanxOutlineAgeGroup\n",
      "2023-04-06 17:15:32,982 - Saving predicted probs to /Users/technocreep/Desktop/Working-Folder/fedot-industrial/Fedot.Industrial/examples/time_series_classification/results_of_experiments/recurrence/DistalPhalanxOutlineAgeGroup\n",
      "2023-04-06 17:15:32,985 - Saving predicted metrics to /Users/technocreep/Desktop/Working-Folder/fedot-industrial/Fedot.Industrial/examples/time_series_classification/results_of_experiments/recurrence/DistalPhalanxOutlineAgeGroup\n"
     ]
    }
   ],
   "source": [
    "for generator in generators:\n",
    "    config = dict(task='ts_classification',\n",
    "                  dataset=dataset_name,\n",
    "                  feature_generator=generator,\n",
    "                  use_cache=False,\n",
    "                  timeout=1,\n",
    "                  n_jobs=2,\n",
    "                  window_sizes='auto',\n",
    "                  logging_level=20)\n",
    "\n",
    "    industrial = FedotIndustrial(input_config=config, output_folder=output_folder)\n",
    "    train_data, test_data, _ = industrial.reader.read(dataset_name=dataset_name)\n",
    "    model = industrial.fit(train_features=train_data[0], train_target=train_data[1])\n",
    "\n",
    "    labels = industrial.predict(test_features=test_data[0])\n",
    "    probs = industrial.predict_proba(test_features=test_data[0])\n",
    "    metric = industrial.get_metrics(target=test_data[1],\n",
    "                                    metric_names=['f1', 'roc_auc'])\n",
    "\n",
    "    for pred, kind in zip([labels, probs], ['labels', 'probs']):\n",
    "        industrial.save_predict(predicted_data=pred, kind=kind)\n",
    "\n",
    "    industrial.save_metrics(metrics=metric)"
   ],
   "metadata": {
    "collapsed": false,
    "pycharm": {
     "name": "#%%\n"
    }
   }
  },
  {
   "cell_type": "code",
   "execution_count": 21,
   "outputs": [],
   "source": [
    "picker = ResultsPicker(path=output_folder)\n",
    "proba_dict, metric_dict = picker.run()"
   ],
   "metadata": {
    "collapsed": false,
    "pycharm": {
     "name": "#%%\n"
    }
   }
  },
  {
   "cell_type": "code",
   "execution_count": 22,
   "outputs": [
    {
     "name": "stderr",
     "output_type": "stream",
     "text": [
      "/Users/technocreep/Desktop/Working-Folder/fedot-industrial/Fedot.Industrial/core/architecture/postprocessing/results_picker.py:68: FutureWarning: The frame.append method is deprecated and will be removed from pandas in a future version. Use pandas.concat instead.\n",
      "  metrics_df = metrics_df.append({'dataset': ds, 'experiment': exp,\n",
      "/Users/technocreep/Desktop/Working-Folder/fedot-industrial/Fedot.Industrial/core/architecture/postprocessing/results_picker.py:68: FutureWarning: The frame.append method is deprecated and will be removed from pandas in a future version. Use pandas.concat instead.\n",
      "  metrics_df = metrics_df.append({'dataset': ds, 'experiment': exp,\n",
      "/Users/technocreep/Desktop/Working-Folder/fedot-industrial/Fedot.Industrial/core/architecture/postprocessing/results_picker.py:68: FutureWarning: The frame.append method is deprecated and will be removed from pandas in a future version. Use pandas.concat instead.\n",
      "  metrics_df = metrics_df.append({'dataset': ds, 'experiment': exp,\n",
      "/Users/technocreep/Desktop/Working-Folder/fedot-industrial/Fedot.Industrial/core/architecture/postprocessing/results_picker.py:68: FutureWarning: The frame.append method is deprecated and will be removed from pandas in a future version. Use pandas.concat instead.\n",
      "  metrics_df = metrics_df.append({'dataset': ds, 'experiment': exp,\n",
      "/Users/technocreep/Desktop/Working-Folder/fedot-industrial/Fedot.Industrial/core/architecture/postprocessing/results_picker.py:68: FutureWarning: The frame.append method is deprecated and will be removed from pandas in a future version. Use pandas.concat instead.\n",
      "  metrics_df = metrics_df.append({'dataset': ds, 'experiment': exp,\n",
      "/Users/technocreep/Desktop/Working-Folder/fedot-industrial/Fedot.Industrial/core/architecture/postprocessing/results_picker.py:68: FutureWarning: The frame.append method is deprecated and will be removed from pandas in a future version. Use pandas.concat instead.\n",
      "  metrics_df = metrics_df.append({'dataset': ds, 'experiment': exp,\n"
     ]
    },
    {
     "data": {
      "text/plain": "                        dataset   experiment     f1  roc_auc accuracy  \\\n0                       ECG5000   recurrence  0.006    0.857     None   \n1                       ECG5000     quantile  0.007    0.939     None   \n2                       ECG5000  topological  0.002    0.801     None   \n3  DistalPhalanxOutlineAgeGroup   recurrence  0.686    0.832     None   \n4  DistalPhalanxOutlineAgeGroup     quantile  0.735    0.891     None   \n5  DistalPhalanxOutlineAgeGroup  topological  0.688    0.805     None   \n\n  precision logloss  train_size  test_size  length  multivariate_flag  \\\n0      None    None         500       4500     140                  0   \n1      None    None         500       4500     140                  0   \n2      None    None         500       4500     140                  0   \n3      None    None         400        139      80                  0   \n4      None    None         400        139      80                  0   \n5      None    None         400        139      80                  0   \n\n   number_of_classes   type  \n0                  5    ecg  \n1                  5    ecg  \n2                  5    ecg  \n3                  3  image  \n4                  3  image  \n5                  3  image  ",
      "text/html": "<div>\n<style scoped>\n    .dataframe tbody tr th:only-of-type {\n        vertical-align: middle;\n    }\n\n    .dataframe tbody tr th {\n        vertical-align: top;\n    }\n\n    .dataframe thead th {\n        text-align: right;\n    }\n</style>\n<table border=\"1\" class=\"dataframe\">\n  <thead>\n    <tr style=\"text-align: right;\">\n      <th></th>\n      <th>dataset</th>\n      <th>experiment</th>\n      <th>f1</th>\n      <th>roc_auc</th>\n      <th>accuracy</th>\n      <th>precision</th>\n      <th>logloss</th>\n      <th>train_size</th>\n      <th>test_size</th>\n      <th>length</th>\n      <th>multivariate_flag</th>\n      <th>number_of_classes</th>\n      <th>type</th>\n    </tr>\n  </thead>\n  <tbody>\n    <tr>\n      <th>0</th>\n      <td>ECG5000</td>\n      <td>recurrence</td>\n      <td>0.006</td>\n      <td>0.857</td>\n      <td>None</td>\n      <td>None</td>\n      <td>None</td>\n      <td>500</td>\n      <td>4500</td>\n      <td>140</td>\n      <td>0</td>\n      <td>5</td>\n      <td>ecg</td>\n    </tr>\n    <tr>\n      <th>1</th>\n      <td>ECG5000</td>\n      <td>quantile</td>\n      <td>0.007</td>\n      <td>0.939</td>\n      <td>None</td>\n      <td>None</td>\n      <td>None</td>\n      <td>500</td>\n      <td>4500</td>\n      <td>140</td>\n      <td>0</td>\n      <td>5</td>\n      <td>ecg</td>\n    </tr>\n    <tr>\n      <th>2</th>\n      <td>ECG5000</td>\n      <td>topological</td>\n      <td>0.002</td>\n      <td>0.801</td>\n      <td>None</td>\n      <td>None</td>\n      <td>None</td>\n      <td>500</td>\n      <td>4500</td>\n      <td>140</td>\n      <td>0</td>\n      <td>5</td>\n      <td>ecg</td>\n    </tr>\n    <tr>\n      <th>3</th>\n      <td>DistalPhalanxOutlineAgeGroup</td>\n      <td>recurrence</td>\n      <td>0.686</td>\n      <td>0.832</td>\n      <td>None</td>\n      <td>None</td>\n      <td>None</td>\n      <td>400</td>\n      <td>139</td>\n      <td>80</td>\n      <td>0</td>\n      <td>3</td>\n      <td>image</td>\n    </tr>\n    <tr>\n      <th>4</th>\n      <td>DistalPhalanxOutlineAgeGroup</td>\n      <td>quantile</td>\n      <td>0.735</td>\n      <td>0.891</td>\n      <td>None</td>\n      <td>None</td>\n      <td>None</td>\n      <td>400</td>\n      <td>139</td>\n      <td>80</td>\n      <td>0</td>\n      <td>3</td>\n      <td>image</td>\n    </tr>\n    <tr>\n      <th>5</th>\n      <td>DistalPhalanxOutlineAgeGroup</td>\n      <td>topological</td>\n      <td>0.688</td>\n      <td>0.805</td>\n      <td>None</td>\n      <td>None</td>\n      <td>None</td>\n      <td>400</td>\n      <td>139</td>\n      <td>80</td>\n      <td>0</td>\n      <td>3</td>\n      <td>image</td>\n    </tr>\n  </tbody>\n</table>\n</div>"
     },
     "execution_count": 22,
     "metadata": {},
     "output_type": "execute_result"
    }
   ],
   "source": [
    "metrics_df = picker.run(get_metrics_df=True, add_info=True)\n",
    "metrics_df"
   ],
   "metadata": {
    "collapsed": false,
    "pycharm": {
     "name": "#%%\n"
    }
   }
  },
  {
   "cell_type": "code",
   "execution_count": 23,
   "outputs": [
    {
     "name": "stdout",
     "output_type": "stream",
     "text": [
      "2023-04-06 17:20:59,887 - Trying to read DistalPhalanxOutlineAgeGroup data locally\n",
      "2023-04-06 17:20:59,906 - --------BASE RESULT FOR MODEL - recurrence--------\n",
      "2023-04-06 17:20:59,907 - ----TYPE OF ML TASK - multiclass. Metric - f1-----\n",
      "2023-04-06 17:20:59,908 - {'f1': 0.686, 'roc_auc': 0.832}\n",
      "2023-04-06 17:20:59,909 - ---------BASE RESULT FOR MODEL - quantile---------\n",
      "2023-04-06 17:20:59,910 - ----TYPE OF ML TASK - multiclass. Metric - f1-----\n",
      "2023-04-06 17:20:59,911 - {'f1': 0.735, 'roc_auc': 0.891}\n",
      "2023-04-06 17:20:59,912 - -------BASE RESULT FOR MODEL - topological--------\n",
      "2023-04-06 17:20:59,914 - ----TYPE OF ML TASK - multiclass. Metric - f1-----\n",
      "2023-04-06 17:20:59,915 - {'f1': 0.688, 'roc_auc': 0.805}\n",
      "2023-04-06 17:20:59,916 - --CURRENT BEST METRIC - 0.735. MODEL - quantile---\n",
      "2023-04-06 17:20:59,917 - Applying ensemble dict_keys(['MeanEnsemble', 'MedianEnsemble', 'MinEnsemble', 'MaxEnsemble', 'ProductEnsemble']) strategy for 2 models\n",
      "2023-04-06 17:20:59,919 - Calculating metrics: None\n",
      "2023-04-06 17:20:59,935 - Metrics are: {'f1': 0.748, 'roc_auc': 0.872, 'accuracy': 0.748, 'logloss': 0.598, 'precision': 0.777}\n",
      "2023-04-06 17:20:59,936 - Calculating metrics: None\n",
      "2023-04-06 17:20:59,949 - Metrics are: {'f1': 0.748, 'roc_auc': 0.872, 'accuracy': 0.748, 'logloss': 0.598, 'precision': 0.777}\n",
      "2023-04-06 17:20:59,951 - Calculating metrics: None\n",
      "2023-04-06 17:20:59,962 - Metrics are: {'f1': 0.734, 'roc_auc': 0.86, 'accuracy': 0.734, 'logloss': 0.601, 'precision': 0.76}\n",
      "2023-04-06 17:20:59,964 - Calculating metrics: None\n",
      "2023-04-06 17:20:59,975 - Metrics are: {'f1': 0.748, 'roc_auc': 0.871, 'accuracy': 0.748, 'logloss': 0.611, 'precision': 0.777}\n",
      "2023-04-06 17:20:59,976 - Calculating metrics: None\n",
      "2023-04-06 17:20:59,988 - Metrics are: {'f1': 0.748, 'roc_auc': 0.87, 'accuracy': 0.748, 'logloss': 0.714, 'precision': 0.777}\n",
      "2023-04-06 17:20:59,989 - Calculating metrics: ['f1']\n",
      "2023-04-06 17:20:59,993 - Metrics are: {'f1': 0.748}\n",
      "2023-04-06 17:20:59,994 - Calculating metrics: ['f1']\n",
      "2023-04-06 17:20:59,997 - Metrics are: {'f1': 0.748}\n",
      "2023-04-06 17:20:59,998 - Calculating metrics: ['f1']\n",
      "2023-04-06 17:21:00,002 - Metrics are: {'f1': 0.734}\n",
      "2023-04-06 17:21:00,002 - Calculating metrics: ['f1']\n",
      "2023-04-06 17:21:00,006 - Metrics are: {'f1': 0.748}\n",
      "2023-04-06 17:21:00,008 - Calculating metrics: ['f1']\n",
      "2023-04-06 17:21:00,011 - Metrics are: {'f1': 0.748}\n",
      "2023-04-06 17:21:00,012 - Accomplished metric improvement by MeanEnsemble:New best metric – 0.748\n",
      "2023-04-06 17:21:00,013 - Applying ensemble dict_keys(['MeanEnsemble', 'MedianEnsemble', 'MinEnsemble', 'MaxEnsemble', 'ProductEnsemble']) strategy for 3 models\n",
      "2023-04-06 17:21:00,014 - Calculating metrics: None\n",
      "2023-04-06 17:21:00,025 - Metrics are: {'f1': 0.725, 'roc_auc': 0.873, 'accuracy': 0.727, 'logloss': 0.602, 'precision': 0.754}\n",
      "2023-04-06 17:21:00,027 - Calculating metrics: None\n",
      "2023-04-06 17:21:00,038 - Metrics are: {'f1': 0.735, 'roc_auc': 0.874, 'accuracy': 0.734, 'logloss': 0.584, 'precision': 0.751}\n",
      "2023-04-06 17:21:00,039 - Calculating metrics: None\n",
      "2023-04-06 17:21:00,050 - Metrics are: {'f1': 0.705, 'roc_auc': 0.846, 'accuracy': 0.705, 'logloss': 0.64, 'precision': 0.726}\n",
      "2023-04-06 17:21:00,051 - Calculating metrics: None\n",
      "2023-04-06 17:21:00,062 - Metrics are: {'f1': 0.712, 'roc_auc': 0.865, 'accuracy': 0.712, 'logloss': 0.632, 'precision': 0.737}\n",
      "2023-04-06 17:21:00,064 - Calculating metrics: None\n",
      "2023-04-06 17:21:00,075 - Metrics are: {'f1': 0.719, 'roc_auc': 0.868, 'accuracy': 0.719, 'logloss': 0.967, 'precision': 0.745}\n",
      "2023-04-06 17:21:00,076 - Calculating metrics: ['f1']\n",
      "2023-04-06 17:21:00,079 - Metrics are: {'f1': 0.725}\n",
      "2023-04-06 17:21:00,080 - Calculating metrics: ['f1']\n",
      "2023-04-06 17:21:00,084 - Metrics are: {'f1': 0.735}\n",
      "2023-04-06 17:21:00,085 - Calculating metrics: ['f1']\n",
      "2023-04-06 17:21:00,088 - Metrics are: {'f1': 0.705}\n",
      "2023-04-06 17:21:00,089 - Calculating metrics: ['f1']\n",
      "2023-04-06 17:21:00,092 - Metrics are: {'f1': 0.712}\n",
      "2023-04-06 17:21:00,093 - Calculating metrics: ['f1']\n",
      "2023-04-06 17:21:00,096 - Metrics are: {'f1': 0.719}\n",
      "2023-04-06 17:21:00,097 - No improvement accomplished for ['recurrence', 'quantile', 'topological'] combination\n"
     ]
    },
    {
     "data": {
      "text/plain": "{'Base_model': 'quantile',\n 'Base_metric': 0.735,\n 'Ensemble_models': ['quantile', 'topological'],\n 'Ensemble_method': 'MeanEnsemble',\n 'Best_ensemble_metric': 0.748}"
     },
     "execution_count": 23,
     "metadata": {},
     "output_type": "execute_result"
    }
   ],
   "source": [
    "ensembler = RankEnsemble(dataset_name=dataset_name,\n",
    "                         proba_dict=proba_dict,\n",
    "                         metric_dict=metric_dict)\n",
    "ensembler.ensemble()"
   ],
   "metadata": {
    "collapsed": false,
    "pycharm": {
     "name": "#%%\n"
    }
   }
  },
  {
   "cell_type": "code",
   "execution_count": null,
   "outputs": [],
   "source": [],
   "metadata": {
    "collapsed": false,
    "pycharm": {
     "name": "#%%\n"
    }
   }
  }
 ],
 "metadata": {
  "kernelspec": {
   "display_name": "Python 3",
   "language": "python",
   "name": "python3"
  },
  "language_info": {
   "codemirror_mode": {
    "name": "ipython",
    "version": 2
   },
   "file_extension": ".py",
   "mimetype": "text/x-python",
   "name": "python",
   "nbconvert_exporter": "python",
   "pygments_lexer": "ipython2",
   "version": "2.7.6"
  }
 },
 "nbformat": 4,
 "nbformat_minor": 0
}