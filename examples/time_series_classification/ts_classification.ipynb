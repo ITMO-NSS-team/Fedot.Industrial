{
 "cells": [
  {
   "cell_type": "markdown",
   "metadata": {},
   "source": [
    "In this example we will consider the mechanism of interaction with API of FEDOT.Industrial framework to solve the problem of time series classification\n",
    "\n",
    "First of all, it is necessary to import the base class FedotIndustrial and determine the parameters of the experiment"
   ]
  },
  {
   "cell_type": "code",
   "execution_count": 1,
   "metadata": {
    "ExecuteTime": {
     "start_time": "2023-04-28T13:14:53.107967Z",
     "end_time": "2023-04-28T13:14:56.186659Z"
    }
   },
   "outputs": [],
   "source": [
    "from fedot_ind.core.architecture.preprocessing.DatasetLoader import DataLoader\n",
    "from fedot_ind.api.main import FedotIndustrial"
   ]
  },
  {
   "cell_type": "markdown",
   "metadata": {},
   "source": [
    "The parameters of the experiment are:"
   ]
  },
  {
   "cell_type": "code",
   "execution_count": 2,
   "metadata": {
    "ExecuteTime": {
     "start_time": "2023-04-28T13:14:56.191653Z",
     "end_time": "2023-04-28T13:14:56.200247Z"
    }
   },
   "outputs": [
    {
     "name": "stdout",
     "output_type": "stream",
     "text": [
      "2023-04-28 13:14:56,189 - Initialising experiment setup\n",
      "2023-04-28 13:14:56,192 - Experiment setup:\n",
      "        dataset - ItalyPowerDemand,\n",
      "        strategy - statistical,\n",
      "        use_cache - True,\n",
      "        n_jobs - 2,\n",
      "        timeout - 10\n",
      "2023-04-28 13:14:56,193 - Initialising solver\n",
      "2023-04-28 13:14:56,194 - TimeSeriesClassifier initialised\n"
     ]
    }
   ],
   "source": [
    "industrial = FedotIndustrial(task='ts_classification',\n",
    "                             dataset='ItalyPowerDemand',\n",
    "                             strategy='statistical',\n",
    "                             use_cache=False,\n",
    "                             timeout=10,\n",
    "                             n_jobs=2,\n",
    "                             logging_level=20,\n",
    "                             output_folder=None)"
   ]
  },
  {
   "cell_type": "markdown",
   "metadata": {},
   "source": [
    "Now we must download the dataset. It could be done by using `DataReader` class that implemented as attribute of `FedotIndustrial` class. This class firstly tries to read the data from local project folder `data` and then if it is not possible, it downloads the data from the UCR/UEA archive. The data will be saved in the `data` folder."
   ]
  },
  {
   "cell_type": "code",
   "execution_count": 3,
   "metadata": {
    "ExecuteTime": {
     "start_time": "2023-04-28T13:14:56.202355Z",
     "end_time": "2023-04-28T13:14:56.239539Z"
    }
   },
   "outputs": [
    {
     "name": "stdout",
     "output_type": "stream",
     "text": [
      "2023-04-28 13:14:56,212 - Data readed successfully from local folder\n"
     ]
    }
   ],
   "source": [
    "train_data, test_data = DataLoader(dataset_name='ItalyPowerDemand').load_data()"
   ]
  },
  {
   "cell_type": "markdown",
   "metadata": {},
   "source": [
    "Next steps are quite straightforward. We need to fit the model and then predict the values for the test data just like for any other model in sklearn.\n",
    "\n",
    "At the `fit` stage FedotIndustrial will transform initial time series data into features dataframe and will train Fedot classification model."
   ]
  },
  {
   "cell_type": "code",
   "execution_count": 5,
   "metadata": {
    "ExecuteTime": {
     "start_time": "2023-04-28T13:15:16.023978Z",
     "end_time": "2023-04-28T13:25:19.770124Z"
    }
   },
   "outputs": [
    {
     "name": "stdout",
     "output_type": "stream",
     "text": [
      "2023-04-28 13:15:16,021 - Fitting model\n",
      "2023-04-28 13:15:16,037 - Trying to load features from cache\n",
      "2023-04-28 13:15:16,038 - Cache not found. Generating features\n",
      "2023-04-28 13:15:16,630 - Caching features\n",
      "2023-04-28 13:15:18,186 - AssumptionsHandler - Initial pipeline fitting started\n",
      "2023-04-28 13:15:19,277 - AssumptionsHandler - Initial pipeline was fitted successfully\n",
      "2023-04-28 13:15:19,279 - AssumptionsHandler - Memory consumption for fitting of the initial pipeline in main session: current 20.3 MiB, max: 20.8 MiB\n",
      "2023-04-28 13:15:19,281 - ApiComposer - Initial pipeline was fitted in 1.1 sec.\n",
      "2023-04-28 13:15:19,284 - AssumptionsHandler - Preset was changed to best_quality due to fit time estimation for initial model.\n",
      "2023-04-28 13:15:19,300 - ApiComposer - AutoML configured. Parameters tuning: True. Time limit: 10 min. Set of candidate models: ['dt', 'qda', 'fast_ica', 'scaling', 'bernb', 'logit', 'isolation_forest_class', 'normalization', 'rf', 'pca', 'mlp', 'knn', 'poly_features', 'lgbm', 'resample', 'dt', 'qda', 'fast_ica', 'scaling', 'bernb', 'logit', 'isolation_forest_class', 'normalization', 'rf', 'pca', 'mlp', 'knn', 'poly_features', 'lgbm', 'resample'].\n",
      "2023-04-28 13:15:19,305 - ApiComposer - Pipeline composition started.\n",
      "2023-04-28 13:15:19,307 - DataSourceSplitter - K-folds cross validation is applied.\n"
     ]
    },
    {
     "name": "stderr",
     "output_type": "stream",
     "text": [
      "Generations:   0%|          | 1/10000 [00:00<?, ?gen/s]"
     ]
    },
    {
     "name": "stdout",
     "output_type": "stream",
     "text": [
      "2023-04-28 13:15:19,335 - MultiprocessingDispatcher - Number of used CPU's: 2\n",
      "2023-04-28 13:15:24,178 - MultiprocessingDispatcher - 1 individuals out of 1 in previous population were evaluated successfully.\n",
      "2023-04-28 13:15:24,185 - EvoGraphOptimizer - Generation num: 1 size: 1\n",
      "2023-04-28 13:15:24,187 - EvoGraphOptimizer - Best individuals: HallOfFame archive fitness (1): ['<ClassificationMetricsEnum.ROCAUC_penalty=-0.886 ComplexityMetricsEnum.node_num=0.200>']\n",
      "2023-04-28 13:15:26,830 - MultiprocessingDispatcher - Number of used CPU's: 2\n",
      "2023-04-28 13:15:34,340 - MultiprocessingDispatcher - 21 individuals out of 21 in previous population were evaluated successfully.\n",
      "2023-04-28 13:15:34,343 - EvoGraphOptimizer - Generation num: 2 size: 21\n",
      "2023-04-28 13:15:34,345 - EvoGraphOptimizer - Best individuals: HallOfFame archive fitness (1): ['<ClassificationMetricsEnum.ROCAUC_penalty=-0.887 ComplexityMetricsEnum.node_num=0.200>']\n",
      "2023-04-28 13:15:34,348 - EvoGraphOptimizer - Next population size: 21; max graph depth: 10\n",
      "2023-04-28 13:15:36,520 - MultiprocessingDispatcher - Number of used CPU's: 2\n",
      "2023-04-28 13:15:39,475 - MultiprocessingDispatcher - 20 individuals out of 20 in previous population were evaluated successfully.\n",
      "2023-04-28 13:15:39,490 - EvoGraphOptimizer - Generation num: 3 size: 21\n",
      "2023-04-28 13:15:39,492 - EvoGraphOptimizer - Best individuals: HallOfFame archive fitness (1): ['<ClassificationMetricsEnum.ROCAUC_penalty=-0.887 ComplexityMetricsEnum.node_num=0.200>']\n",
      "2023-04-28 13:15:39,495 - EvoGraphOptimizer - no improvements for 1 iterations\n",
      "2023-04-28 13:15:39,497 - EvoGraphOptimizer - spent time: 0.3 min\n",
      "2023-04-28 13:15:39,500 - EvoGraphOptimizer - Next population size: 34; max graph depth: 10\n",
      "2023-04-28 13:15:41,043 - MultiprocessingDispatcher - Number of used CPU's: 2\n",
      "2023-04-28 13:15:44,265 - MultiprocessingDispatcher - 20 individuals out of 20 in previous population were evaluated successfully.\n",
      "2023-04-28 13:15:44,276 - EvoGraphOptimizer - Generation num: 4 size: 34\n",
      "2023-04-28 13:15:44,279 - EvoGraphOptimizer - Best individuals: HallOfFame archive fitness (1): ['<ClassificationMetricsEnum.ROCAUC_penalty=-0.887 ComplexityMetricsEnum.node_num=0.200>']\n",
      "2023-04-28 13:15:44,281 - EvoGraphOptimizer - no improvements for 2 iterations\n",
      "2023-04-28 13:15:44,283 - EvoGraphOptimizer - spent time: 0.4 min\n",
      "2023-04-28 13:15:44,287 - EvoGraphOptimizer - Next population size: 55; max graph depth: 10\n",
      "2023-04-28 13:15:46,871 - MultiprocessingDispatcher - Number of used CPU's: 2\n",
      "2023-04-28 13:15:51,587 - MultiprocessingDispatcher - 32 individuals out of 32 in previous population were evaluated successfully.\n",
      "2023-04-28 13:15:51,619 - EvoGraphOptimizer - Generation num: 5 size: 55\n",
      "2023-04-28 13:15:51,621 - EvoGraphOptimizer - Best individuals: HallOfFame archive fitness (1): ['<ClassificationMetricsEnum.ROCAUC_penalty=-0.887 ComplexityMetricsEnum.node_num=0.200>']\n",
      "2023-04-28 13:15:51,624 - EvoGraphOptimizer - no improvements for 3 iterations\n",
      "2023-04-28 13:15:51,627 - EvoGraphOptimizer - spent time: 0.5 min\n",
      "2023-04-28 13:15:51,630 - EvoGraphOptimizer - Next population size: 55; max graph depth: 10\n",
      "2023-04-28 13:15:54,352 - MultiprocessingDispatcher - Number of used CPU's: 2\n",
      "2023-04-28 13:16:04,171 - MultiprocessingDispatcher - 54 individuals out of 54 in previous population were evaluated successfully.\n",
      "2023-04-28 13:16:04,209 - EvoGraphOptimizer - Generation num: 6 size: 55\n",
      "2023-04-28 13:16:04,210 - EvoGraphOptimizer - Best individuals: HallOfFame archive fitness (1): ['<ClassificationMetricsEnum.ROCAUC_penalty=-0.887 ComplexityMetricsEnum.node_num=0.200>']\n",
      "2023-04-28 13:16:04,213 - EvoGraphOptimizer - no improvements for 4 iterations\n",
      "2023-04-28 13:16:04,216 - EvoGraphOptimizer - spent time: 0.7 min\n",
      "2023-04-28 13:16:04,219 - EvoGraphOptimizer - Next population size: 55; max graph depth: 10\n",
      "2023-04-28 13:16:07,366 - MultiprocessingDispatcher - Number of used CPU's: 2\n",
      "2023-04-28 13:16:16,544 - MultiprocessingDispatcher - 54 individuals out of 54 in previous population were evaluated successfully.\n",
      "2023-04-28 13:16:16,588 - EvoGraphOptimizer - Generation num: 7 size: 55\n",
      "2023-04-28 13:16:16,591 - EvoGraphOptimizer - Best individuals: HallOfFame archive fitness (1): ['<ClassificationMetricsEnum.ROCAUC_penalty=-0.887 ComplexityMetricsEnum.node_num=0.200>']\n",
      "2023-04-28 13:16:16,593 - EvoGraphOptimizer - no improvements for 5 iterations\n",
      "2023-04-28 13:16:16,595 - EvoGraphOptimizer - spent time: 1.0 min\n",
      "2023-04-28 13:16:16,597 - GroupedCondition - Optimisation finished: Early stopping iterations criteria was satisfied\n"
     ]
    },
    {
     "name": "stderr",
     "output_type": "stream",
     "text": [
      "Generations:   0%|          | 1/10000 [00:57<?, ?gen/s]"
     ]
    },
    {
     "name": "stdout",
     "output_type": "stream",
     "text": [
      "2023-04-28 13:16:16,601 - OptimisationTimer - Composition time: 0.955 min\n",
      "2023-04-28 13:16:16,603 - EvoGraphOptimizer - Generation num: 8 size: 1\n",
      "2023-04-28 13:16:16,606 - EvoGraphOptimizer - Best individuals: HallOfFame archive fitness (1): ['<ClassificationMetricsEnum.ROCAUC_penalty=-0.887 ComplexityMetricsEnum.node_num=0.200>']\n",
      "2023-04-28 13:16:16,607 - EvoGraphOptimizer - no improvements for 6 iterations\n",
      "2023-04-28 13:16:16,610 - EvoGraphOptimizer - spent time: 1.0 min\n",
      "2023-04-28 13:16:16,618 - GPComposer - GP composition finished\n",
      "2023-04-28 13:16:16,624 - DataSourceSplitter - K-folds cross validation is applied.\n",
      "2023-04-28 13:16:16,628 - ApiComposer - Hyperparameters tuning started with 9 min. timeout\n",
      "2023-04-28 13:16:16,634 - SimultaneousTuner - Hyperparameters optimization start: estimation of metric for initial pipeline\n"
     ]
    },
    {
     "name": "stderr",
     "output_type": "stream",
     "text": [
      "\n"
     ]
    },
    {
     "name": "stdout",
     "output_type": "stream",
     "text": [
      "2023-04-28 13:16:18,834 - SimultaneousTuner - Initial graph: {'depth': 2, 'length': 2, 'nodes': [rf, normalization]}\n",
      "rf - {'n_jobs': 1}\n",
      "normalization - {} \n",
      "Initial metric: 0.897\n",
      "  0%|          | 0/100000 [00:00<?, ?trial/s, best loss=?]2023-04-28 13:16:18,863 - build_posterior_wrapper took 0.010429 seconds\n",
      "2023-04-28 13:16:18,865 - TPE using 0 trials\n",
      "  0%|          | 1/100000 [00:01<44:26:03,  1.60s/trial, best loss: -0.859777]2023-04-28 13:16:20,464 - build_posterior_wrapper took 0.009935 seconds\n",
      "2023-04-28 13:16:20,466 - TPE using 1/1 trials with best loss -0.859777\n",
      "  0%|          | 2/100000 [00:03<44:09:10,  1.59s/trial, best loss: -0.859777]2023-04-28 13:16:22,047 - build_posterior_wrapper took 0.010004 seconds\n",
      "2023-04-28 13:16:22,049 - TPE using 2/2 trials with best loss -0.859777\n",
      "  0%|          | 3/100000 [00:04<44:04:56,  1.59s/trial, best loss: -0.859777]2023-04-28 13:16:23,631 - build_posterior_wrapper took 0.010669 seconds\n",
      "2023-04-28 13:16:23,635 - TPE using 3/3 trials with best loss -0.859777\n",
      "  0%|          | 4/100000 [00:06<44:27:58,  1.60s/trial, best loss: -0.859777]2023-04-28 13:16:25,253 - build_posterior_wrapper took 0.010587 seconds\n",
      "2023-04-28 13:16:25,256 - TPE using 4/4 trials with best loss -0.859777\n",
      "  0%|          | 5/100000 [00:08<51:39:26,  1.86s/trial, best loss: -0.859777]2023-04-28 13:16:27,572 - build_posterior_wrapper took 0.010045 seconds\n",
      "2023-04-28 13:16:27,574 - TPE using 5/5 trials with best loss -0.859777\n",
      "  0%|          | 6/100000 [00:11<56:21:55,  2.03s/trial, best loss: -0.859777]2023-04-28 13:16:29,930 - build_posterior_wrapper took 0.010549 seconds\n",
      "2023-04-28 13:16:29,933 - TPE using 6/6 trials with best loss -0.859777\n",
      "  0%|          | 7/100000 [00:13<59:01:10,  2.12s/trial, best loss: -0.859777]2023-04-28 13:16:32,251 - build_posterior_wrapper took 0.009916 seconds\n",
      "2023-04-28 13:16:32,254 - TPE using 7/7 trials with best loss -0.859777\n",
      "  0%|          | 8/100000 [00:15<54:31:04,  1.96s/trial, best loss: -0.859777]2023-04-28 13:16:33,868 - build_posterior_wrapper took 0.010460 seconds\n",
      "2023-04-28 13:16:33,870 - TPE using 8/8 trials with best loss -0.859777\n",
      "  0%|          | 9/100000 [00:16<51:16:21,  1.85s/trial, best loss: -0.859777]2023-04-28 13:16:35,457 - build_posterior_wrapper took 0.010696 seconds\n",
      "2023-04-28 13:16:35,460 - TPE using 9/9 trials with best loss -0.859777\n",
      "  0%|          | 10/100000 [00:18<49:19:42,  1.78s/trial, best loss: -0.859777]2023-04-28 13:16:37,076 - build_posterior_wrapper took 0.010537 seconds\n",
      "2023-04-28 13:16:37,079 - TPE using 10/10 trials with best loss -0.859777\n",
      "  0%|          | 11/100000 [00:19<47:41:34,  1.72s/trial, best loss: -0.859777]2023-04-28 13:16:38,661 - build_posterior_wrapper took 0.010876 seconds\n",
      "2023-04-28 13:16:38,663 - TPE using 11/11 trials with best loss -0.859777\n",
      "  0%|          | 12/100000 [00:21<46:50:53,  1.69s/trial, best loss: -0.859777]2023-04-28 13:16:40,277 - build_posterior_wrapper took 0.010524 seconds\n",
      "2023-04-28 13:16:40,279 - TPE using 12/12 trials with best loss -0.859777\n",
      "  0%|          | 13/100000 [00:23<52:04:16,  1.87s/trial, best loss: -0.859777]2023-04-28 13:16:42,584 - build_posterior_wrapper took 0.009889 seconds\n",
      "2023-04-28 13:16:42,586 - TPE using 13/13 trials with best loss -0.859777\n",
      "  0%|          | 14/100000 [00:26<56:04:44,  2.02s/trial, best loss: -0.859777]2023-04-28 13:16:44,937 - build_posterior_wrapper took 0.010345 seconds\n",
      "2023-04-28 13:16:44,940 - TPE using 14/14 trials with best loss -0.859777\n",
      "  0%|          | 15/100000 [00:28<58:56:52,  2.12s/trial, best loss: -0.859777]2023-04-28 13:16:47,299 - build_posterior_wrapper took 0.010482 seconds\n",
      "2023-04-28 13:16:47,302 - TPE using 15/15 trials with best loss -0.859777\n",
      "  0%|          | 16/100000 [00:30<61:23:54,  2.21s/trial, best loss: -0.859777]2023-04-28 13:16:49,715 - build_posterior_wrapper took 0.010444 seconds\n",
      "2023-04-28 13:16:49,717 - TPE using 16/16 trials with best loss -0.859777\n",
      "  0%|          | 17/100000 [00:32<56:13:24,  2.02s/trial, best loss: -0.859777]2023-04-28 13:16:51,306 - build_posterior_wrapper took 0.010241 seconds\n",
      "2023-04-28 13:16:51,308 - TPE using 17/17 trials with best loss -0.859777\n",
      "  0%|          | 18/100000 [00:34<52:45:17,  1.90s/trial, best loss: -0.859777]2023-04-28 13:16:52,914 - build_posterior_wrapper took 0.010065 seconds\n",
      "2023-04-28 13:16:52,917 - TPE using 18/18 trials with best loss -0.859777\n",
      "  0%|          | 19/100000 [00:36<55:54:59,  2.01s/trial, best loss: -0.859777]2023-04-28 13:16:55,195 - build_posterior_wrapper took 0.011841 seconds\n",
      "2023-04-28 13:16:55,198 - TPE using 19/19 trials with best loss -0.859777\n",
      "  0%|          | 20/100000 [00:37<52:33:31,  1.89s/trial, best loss: -0.859777]2023-04-28 13:16:56,804 - build_posterior_wrapper took 0.010470 seconds\n",
      "2023-04-28 13:16:56,807 - TPE using 20/20 trials with best loss -0.859777\n",
      "  0%|          | 21/100000 [00:40<56:22:58,  2.03s/trial, best loss: -0.859777]2023-04-28 13:16:59,155 - build_posterior_wrapper took 0.010238 seconds\n",
      "2023-04-28 13:16:59,158 - TPE using 21/21 trials with best loss -0.859777\n",
      "  0%|          | 22/100000 [00:42<59:31:10,  2.14s/trial, best loss: -0.8787389999999999]2023-04-28 13:17:01,562 - build_posterior_wrapper took 0.010070 seconds\n",
      "2023-04-28 13:17:01,564 - TPE using 22/22 trials with best loss -0.878739\n",
      "  0%|          | 23/100000 [00:45<61:12:30,  2.20s/trial, best loss: -0.8787389999999999]2023-04-28 13:17:03,910 - build_posterior_wrapper took 0.012496 seconds\n",
      "2023-04-28 13:17:03,913 - TPE using 23/23 trials with best loss -0.878739\n",
      "  0%|          | 24/100000 [00:47<62:48:45,  2.26s/trial, best loss: -0.8787389999999999]2023-04-28 13:17:06,307 - build_posterior_wrapper took 0.013127 seconds\n",
      "2023-04-28 13:17:06,310 - TPE using 24/24 trials with best loss -0.878739\n",
      "  0%|          | 25/100000 [00:49<63:27:09,  2.28s/trial, best loss: -0.8787389999999999]2023-04-28 13:17:08,643 - build_posterior_wrapper took 0.009736 seconds\n",
      "2023-04-28 13:17:08,645 - TPE using 25/25 trials with best loss -0.878739\n",
      "  0%|          | 26/100000 [00:51<58:11:17,  2.10s/trial, best loss: -0.8787389999999999]2023-04-28 13:17:10,296 - build_posterior_wrapper took 0.010392 seconds\n",
      "2023-04-28 13:17:10,299 - TPE using 26/26 trials with best loss -0.878739\n",
      "  0%|          | 27/100000 [00:53<54:05:24,  1.95s/trial, best loss: -0.8787389999999999]2023-04-28 13:17:11,900 - build_posterior_wrapper took 0.010301 seconds\n",
      "2023-04-28 13:17:11,902 - TPE using 27/27 trials with best loss -0.878739\n",
      "  0%|          | 28/100000 [00:55<57:55:40,  2.09s/trial, best loss: -0.8787389999999999]2023-04-28 13:17:14,309 - build_posterior_wrapper took 0.010987 seconds\n",
      "2023-04-28 13:17:14,311 - TPE using 28/28 trials with best loss -0.878739\n",
      "  0%|          | 29/100000 [00:57<53:56:00,  1.94s/trial, best loss: -0.8787389999999999]2023-04-28 13:17:15,914 - build_posterior_wrapper took 0.009868 seconds\n",
      "2023-04-28 13:17:15,917 - TPE using 29/29 trials with best loss -0.878739\n",
      "  0%|          | 30/100000 [00:59<58:05:27,  2.09s/trial, best loss: -0.8787389999999999]2023-04-28 13:17:18,356 - build_posterior_wrapper took 0.010491 seconds\n",
      "2023-04-28 13:17:18,359 - TPE using 30/30 trials with best loss -0.878739\n",
      "  0%|          | 31/100000 [01:01<54:04:18,  1.95s/trial, best loss: -0.8787389999999999]2023-04-28 13:17:19,965 - build_posterior_wrapper took 0.009983 seconds\n",
      "2023-04-28 13:17:19,968 - TPE using 31/31 trials with best loss -0.878739\n",
      "  0%|          | 32/100000 [01:02<51:28:22,  1.85s/trial, best loss: -0.8787389999999999]2023-04-28 13:17:21,601 - build_posterior_wrapper took 0.010233 seconds\n",
      "2023-04-28 13:17:21,604 - TPE using 32/32 trials with best loss -0.878739\n",
      "  0%|          | 33/100000 [01:04<49:27:24,  1.78s/trial, best loss: -0.8787389999999999]2023-04-28 13:17:23,215 - build_posterior_wrapper took 0.012783 seconds\n",
      "2023-04-28 13:17:23,219 - TPE using 33/33 trials with best loss -0.878739\n",
      "  0%|          | 34/100000 [01:06<54:34:37,  1.97s/trial, best loss: -0.8787389999999999]2023-04-28 13:17:25,608 - build_posterior_wrapper took 0.010085 seconds\n",
      "2023-04-28 13:17:25,611 - TPE using 34/34 trials with best loss -0.878739\n",
      "  0%|          | 35/100000 [01:08<51:32:12,  1.86s/trial, best loss: -0.8787389999999999]2023-04-28 13:17:27,209 - build_posterior_wrapper took 0.009954 seconds\n",
      "2023-04-28 13:17:27,211 - TPE using 35/35 trials with best loss -0.878739\n",
      "  0%|          | 36/100000 [01:10<56:03:02,  2.02s/trial, best loss: -0.8787389999999999]2023-04-28 13:17:29,610 - build_posterior_wrapper took 0.013171 seconds\n",
      "2023-04-28 13:17:29,613 - TPE using 36/36 trials with best loss -0.878739\n",
      "  0%|          | 37/100000 [01:12<52:35:35,  1.89s/trial, best loss: -0.8787389999999999]2023-04-28 13:17:31,210 - build_posterior_wrapper took 0.009701 seconds\n",
      "2023-04-28 13:17:31,212 - TPE using 37/37 trials with best loss -0.878739\n",
      "  0%|          | 38/100000 [01:14<56:44:29,  2.04s/trial, best loss: -0.8787389999999999]2023-04-28 13:17:33,602 - build_posterior_wrapper took 0.010234 seconds\n",
      "2023-04-28 13:17:33,605 - TPE using 38/38 trials with best loss -0.878739\n",
      "  0%|          | 39/100000 [01:16<53:03:30,  1.91s/trial, best loss: -0.8787389999999999]2023-04-28 13:17:35,203 - build_posterior_wrapper took 0.009724 seconds\n",
      "2023-04-28 13:17:35,206 - TPE using 39/39 trials with best loss -0.878739\n",
      "  0%|          | 40/100000 [01:18<57:09:45,  2.06s/trial, best loss: -0.8787389999999999]2023-04-28 13:17:37,608 - build_posterior_wrapper took 0.010622 seconds\n",
      "2023-04-28 13:17:37,611 - TPE using 40/40 trials with best loss -0.878739\n",
      "  0%|          | 41/100000 [01:20<53:20:37,  1.92s/trial, best loss: -0.8787389999999999]2023-04-28 13:17:39,207 - build_posterior_wrapper took 0.009778 seconds\n",
      "2023-04-28 13:17:39,210 - TPE using 41/41 trials with best loss -0.878739\n",
      "  0%|          | 42/100000 [01:22<51:08:31,  1.84s/trial, best loss: -0.8787389999999999]2023-04-28 13:17:40,865 - build_posterior_wrapper took 0.010422 seconds\n",
      "2023-04-28 13:17:40,867 - TPE using 42/42 trials with best loss -0.878739\n",
      "  0%|          | 43/100000 [01:24<55:16:49,  1.99s/trial, best loss: -0.8787389999999999]2023-04-28 13:17:43,203 - build_posterior_wrapper took 0.009839 seconds\n",
      "2023-04-28 13:17:43,205 - TPE using 43/43 trials with best loss -0.878739\n",
      "  0%|          | 44/100000 [01:25<52:20:23,  1.89s/trial, best loss: -0.8787389999999999]2023-04-28 13:17:44,844 - build_posterior_wrapper took 0.012487 seconds\n",
      "2023-04-28 13:17:44,848 - TPE using 44/44 trials with best loss -0.878739\n",
      "  0%|          | 45/100000 [01:28<56:08:16,  2.02s/trial, best loss: -0.8787389999999999]2023-04-28 13:17:47,182 - build_posterior_wrapper took 0.010025 seconds\n",
      "2023-04-28 13:17:47,185 - TPE using 45/45 trials with best loss -0.878739\n",
      "  0%|          | 46/100000 [01:29<53:02:14,  1.91s/trial, best loss: -0.8787389999999999]2023-04-28 13:17:48,833 - build_posterior_wrapper took 0.010801 seconds\n",
      "2023-04-28 13:17:48,836 - TPE using 46/46 trials with best loss -0.878739\n",
      "  0%|          | 47/100000 [01:32<56:33:37,  2.04s/trial, best loss: -0.8787389999999999]2023-04-28 13:17:51,165 - build_posterior_wrapper took 0.009960 seconds\n",
      "2023-04-28 13:17:51,168 - TPE using 47/47 trials with best loss -0.878739\n",
      "  0%|          | 48/100000 [01:33<53:17:28,  1.92s/trial, best loss: -0.8787389999999999]2023-04-28 13:17:52,810 - build_posterior_wrapper took 0.010432 seconds\n",
      "2023-04-28 13:17:52,813 - TPE using 48/48 trials with best loss -0.878739\n",
      "  0%|          | 49/100000 [01:36<56:36:02,  2.04s/trial, best loss: -0.8787389999999999]2023-04-28 13:17:55,127 - build_posterior_wrapper took 0.009753 seconds\n",
      "2023-04-28 13:17:55,129 - TPE using 49/49 trials with best loss -0.878739\n",
      "  0%|          | 50/100000 [01:37<53:24:43,  1.92s/trial, best loss: -0.8787389999999999]2023-04-28 13:17:56,784 - build_posterior_wrapper took 0.010941 seconds\n",
      "2023-04-28 13:17:56,786 - TPE using 50/50 trials with best loss -0.878739\n",
      "  0%|          | 51/100000 [01:40<57:34:40,  2.07s/trial, best loss: -0.8787389999999999]2023-04-28 13:17:59,206 - build_posterior_wrapper took 0.009773 seconds\n",
      "2023-04-28 13:17:59,208 - TPE using 51/51 trials with best loss -0.878739\n",
      "  0%|          | 52/100000 [01:42<60:24:18,  2.18s/trial, best loss: -0.8787389999999999]2023-04-28 13:18:01,620 - build_posterior_wrapper took 0.010247 seconds\n",
      "2023-04-28 13:18:01,623 - TPE using 52/52 trials with best loss -0.878739\n",
      "  0%|          | 53/100000 [01:44<55:46:06,  2.01s/trial, best loss: -0.8787389999999999]2023-04-28 13:18:03,239 - build_posterior_wrapper took 0.009971 seconds\n",
      "2023-04-28 13:18:03,242 - TPE using 53/53 trials with best loss -0.878739\n",
      "  0%|          | 54/100000 [01:46<59:22:23,  2.14s/trial, best loss: -0.879238]          2023-04-28 13:18:05,682 - build_posterior_wrapper took 0.011190 seconds\n",
      "2023-04-28 13:18:05,685 - TPE using 54/54 trials with best loss -0.879238\n",
      "  0%|          | 55/100000 [01:49<61:11:41,  2.20s/trial, best loss: -0.879238]2023-04-28 13:18:08,038 - build_posterior_wrapper took 0.010016 seconds\n",
      "2023-04-28 13:18:08,041 - TPE using 55/55 trials with best loss -0.879238\n",
      "  0%|          | 56/100000 [01:51<62:53:18,  2.27s/trial, best loss: -0.879238]2023-04-28 13:18:10,447 - build_posterior_wrapper took 0.011403 seconds\n",
      "2023-04-28 13:18:10,450 - TPE using 56/56 trials with best loss -0.879238\n",
      "  0%|          | 57/100000 [01:53<63:29:22,  2.29s/trial, best loss: -0.879238]2023-04-28 13:18:12,783 - build_posterior_wrapper took 0.010006 seconds\n",
      "2023-04-28 13:18:12,786 - TPE using 57/57 trials with best loss -0.879238\n",
      "  0%|          | 58/100000 [01:56<64:25:20,  2.32s/trial, best loss: -0.879238]2023-04-28 13:18:15,183 - build_posterior_wrapper took 0.010645 seconds\n",
      "2023-04-28 13:18:15,186 - TPE using 58/58 trials with best loss -0.879238\n",
      "  0%|          | 59/100000 [01:58<64:46:02,  2.33s/trial, best loss: -0.879238]2023-04-28 13:18:17,545 - build_posterior_wrapper took 0.010679 seconds\n",
      "2023-04-28 13:18:17,547 - TPE using 59/59 trials with best loss -0.879238\n",
      "  0%|          | 60/100000 [02:01<65:18:28,  2.35s/trial, best loss: -0.879238]2023-04-28 13:18:19,944 - build_posterior_wrapper took 0.011771 seconds\n",
      "2023-04-28 13:18:19,948 - TPE using 60/60 trials with best loss -0.879238\n",
      "  0%|          | 61/100000 [02:03<65:11:58,  2.35s/trial, best loss: -0.879238]2023-04-28 13:18:22,282 - build_posterior_wrapper took 0.009932 seconds\n",
      "2023-04-28 13:18:22,284 - TPE using 61/61 trials with best loss -0.879238\n",
      "  0%|          | 62/100000 [02:05<65:37:45,  2.36s/trial, best loss: -0.879238]2023-04-28 13:18:24,683 - build_posterior_wrapper took 0.010613 seconds\n",
      "2023-04-28 13:18:24,685 - TPE using 62/62 trials with best loss -0.879238\n",
      "  0%|          | 63/100000 [02:08<65:29:37,  2.36s/trial, best loss: -0.879238]2023-04-28 13:18:27,031 - build_posterior_wrapper took 0.010597 seconds\n",
      "2023-04-28 13:18:27,033 - TPE using 63/63 trials with best loss -0.879238\n",
      "  0%|          | 64/100000 [02:10<66:03:01,  2.38s/trial, best loss: -0.879238]2023-04-28 13:18:29,457 - build_posterior_wrapper took 0.010352 seconds\n",
      "2023-04-28 13:18:29,460 - TPE using 64/64 trials with best loss -0.879238\n",
      "  0%|          | 65/100000 [02:12<65:46:58,  2.37s/trial, best loss: -0.879238]2023-04-28 13:18:31,803 - build_posterior_wrapper took 0.009727 seconds\n",
      "2023-04-28 13:18:31,806 - TPE using 65/65 trials with best loss -0.879238\n",
      "  0%|          | 66/100000 [02:14<59:49:41,  2.16s/trial, best loss: -0.879238]2023-04-28 13:18:33,458 - build_posterior_wrapper took 0.010066 seconds\n",
      "2023-04-28 13:18:33,461 - TPE using 66/66 trials with best loss -0.879238\n",
      "  0%|          | 67/100000 [02:16<55:18:25,  1.99s/trial, best loss: -0.879238]2023-04-28 13:18:35,071 - build_posterior_wrapper took 0.010516 seconds\n",
      "2023-04-28 13:18:35,074 - TPE using 67/67 trials with best loss -0.879238\n",
      "  0%|          | 68/100000 [02:18<58:49:08,  2.12s/trial, best loss: -0.8937090000000001]2023-04-28 13:18:37,487 - build_posterior_wrapper took 0.012061 seconds\n",
      "2023-04-28 13:18:37,490 - TPE using 68/68 trials with best loss -0.893709\n",
      "  0%|          | 69/100000 [02:20<60:43:03,  2.19s/trial, best loss: -0.8937090000000001]2023-04-28 13:18:39,832 - build_posterior_wrapper took 0.009892 seconds\n",
      "2023-04-28 13:18:39,834 - TPE using 69/69 trials with best loss -0.893709\n",
      "  0%|          | 70/100000 [02:23<62:34:36,  2.25s/trial, best loss: -0.8937090000000001]2023-04-28 13:18:42,243 - build_posterior_wrapper took 0.010578 seconds\n",
      "2023-04-28 13:18:42,246 - TPE using 70/70 trials with best loss -0.893709\n",
      "  0%|          | 71/100000 [02:25<63:26:25,  2.29s/trial, best loss: -0.8937090000000001]2023-04-28 13:18:44,603 - build_posterior_wrapper took 0.012037 seconds\n",
      "2023-04-28 13:18:44,607 - TPE using 71/71 trials with best loss -0.893709\n",
      "  0%|          | 72/100000 [02:28<65:28:32,  2.36s/trial, best loss: -0.8937090000000001]2023-04-28 13:18:47,132 - build_posterior_wrapper took 0.010937 seconds\n",
      "2023-04-28 13:18:47,135 - TPE using 72/72 trials with best loss -0.893709\n",
      "  0%|          | 73/100000 [02:30<65:24:09,  2.36s/trial, best loss: -0.8937090000000001]2023-04-28 13:18:49,481 - build_posterior_wrapper took 0.010015 seconds\n",
      "2023-04-28 13:18:49,484 - TPE using 73/73 trials with best loss -0.893709\n",
      "  0%|          | 74/100000 [02:33<65:45:35,  2.37s/trial, best loss: -0.8937090000000001]2023-04-28 13:18:51,881 - build_posterior_wrapper took 0.010707 seconds\n",
      "2023-04-28 13:18:51,884 - TPE using 74/74 trials with best loss -0.893709\n",
      "  0%|          | 75/100000 [02:35<65:39:19,  2.37s/trial, best loss: -0.8937090000000001]2023-04-28 13:18:54,237 - build_posterior_wrapper took 0.009986 seconds\n",
      "2023-04-28 13:18:54,239 - TPE using 75/75 trials with best loss -0.893709\n",
      "  0%|          | 76/100000 [02:37<65:57:49,  2.38s/trial, best loss: -0.90319]           2023-04-28 13:18:56,640 - build_posterior_wrapper took 0.010598 seconds\n",
      "2023-04-28 13:18:56,642 - TPE using 76/76 trials with best loss -0.903190\n",
      "  0%|          | 77/100000 [02:40<65:50:28,  2.37s/trial, best loss: -0.90319]2023-04-28 13:18:59,001 - build_posterior_wrapper took 0.010056 seconds\n",
      "2023-04-28 13:18:59,004 - TPE using 77/77 trials with best loss -0.903190\n",
      "  0%|          | 78/100000 [02:42<66:06:15,  2.38s/trial, best loss: -0.90319]2023-04-28 13:19:01,405 - build_posterior_wrapper took 0.010342 seconds\n",
      "2023-04-28 13:19:01,408 - TPE using 78/78 trials with best loss -0.903190\n",
      "  0%|          | 79/100000 [02:44<65:51:34,  2.37s/trial, best loss: -0.90319]2023-04-28 13:19:03,757 - build_posterior_wrapper took 0.009882 seconds\n",
      "2023-04-28 13:19:03,759 - TPE using 79/79 trials with best loss -0.903190\n",
      "  0%|          | 80/100000 [02:47<66:09:09,  2.38s/trial, best loss: -0.90319]2023-04-28 13:19:06,166 - build_posterior_wrapper took 0.010558 seconds\n",
      "2023-04-28 13:19:06,169 - TPE using 80/80 trials with best loss -0.903190\n",
      "  0%|          | 81/100000 [02:49<65:56:51,  2.38s/trial, best loss: -0.90319]2023-04-28 13:19:08,524 - build_posterior_wrapper took 0.009869 seconds\n",
      "2023-04-28 13:19:08,527 - TPE using 81/81 trials with best loss -0.903190\n",
      "  0%|          | 82/100000 [02:52<66:15:57,  2.39s/trial, best loss: -0.90319]2023-04-28 13:19:10,938 - build_posterior_wrapper took 0.009843 seconds\n",
      "2023-04-28 13:19:10,941 - TPE using 82/82 trials with best loss -0.903190\n",
      "  0%|          | 83/100000 [02:54<65:57:48,  2.38s/trial, best loss: -0.90319]2023-04-28 13:19:13,289 - build_posterior_wrapper took 0.009781 seconds\n",
      "2023-04-28 13:19:13,292 - TPE using 83/83 trials with best loss -0.903190\n",
      "  0%|          | 84/100000 [02:56<66:29:04,  2.40s/trial, best loss: -0.90319]2023-04-28 13:19:15,730 - build_posterior_wrapper took 0.010756 seconds\n",
      "2023-04-28 13:19:15,733 - TPE using 84/84 trials with best loss -0.903190\n",
      "  0%|          | 85/100000 [02:59<66:44:51,  2.40s/trial, best loss: -0.90319]2023-04-28 13:19:18,157 - build_posterior_wrapper took 0.010638 seconds\n",
      "2023-04-28 13:19:18,159 - TPE using 85/85 trials with best loss -0.903190\n",
      "  0%|          | 86/100000 [03:01<67:35:22,  2.44s/trial, best loss: -0.90319]2023-04-28 13:19:20,667 - build_posterior_wrapper took 0.013502 seconds\n",
      "2023-04-28 13:19:20,669 - TPE using 86/86 trials with best loss -0.903190\n",
      "  0%|          | 87/100000 [03:04<67:24:13,  2.43s/trial, best loss: -0.90319]2023-04-28 13:19:23,075 - build_posterior_wrapper took 0.009961 seconds\n",
      "2023-04-28 13:19:23,078 - TPE using 87/87 trials with best loss -0.903190\n",
      "  0%|          | 88/100000 [03:06<67:37:29,  2.44s/trial, best loss: -0.90319]2023-04-28 13:19:25,532 - build_posterior_wrapper took 0.011032 seconds\n",
      "2023-04-28 13:19:25,534 - TPE using 88/88 trials with best loss -0.903190\n",
      "  0%|          | 89/100000 [03:09<67:22:19,  2.43s/trial, best loss: -0.90319]2023-04-28 13:19:27,937 - build_posterior_wrapper took 0.010201 seconds\n",
      "2023-04-28 13:19:27,940 - TPE using 89/89 trials with best loss -0.903190\n",
      "  0%|          | 90/100000 [03:11<67:50:36,  2.44s/trial, best loss: -0.90319]2023-04-28 13:19:30,421 - build_posterior_wrapper took 0.010213 seconds\n",
      "2023-04-28 13:19:30,425 - TPE using 90/90 trials with best loss -0.903190\n",
      "  0%|          | 91/100000 [03:13<67:28:38,  2.43s/trial, best loss: -0.90319]2023-04-28 13:19:32,822 - build_posterior_wrapper took 0.010033 seconds\n",
      "2023-04-28 13:19:32,825 - TPE using 91/91 trials with best loss -0.903190\n",
      "  0%|          | 92/100000 [03:16<67:25:26,  2.43s/trial, best loss: -0.90319]2023-04-28 13:19:35,248 - build_posterior_wrapper took 0.010572 seconds\n",
      "2023-04-28 13:19:35,250 - TPE using 92/92 trials with best loss -0.903190\n",
      "  0%|          | 93/100000 [03:18<66:57:41,  2.41s/trial, best loss: -0.90319]2023-04-28 13:19:37,624 - build_posterior_wrapper took 0.013288 seconds\n",
      "2023-04-28 13:19:37,628 - TPE using 93/93 trials with best loss -0.903190\n",
      "  0%|          | 94/100000 [03:21<67:00:16,  2.41s/trial, best loss: -0.90319]2023-04-28 13:19:40,040 - build_posterior_wrapper took 0.010409 seconds\n",
      "2023-04-28 13:19:40,043 - TPE using 94/94 trials with best loss -0.903190\n",
      "  0%|          | 95/100000 [03:23<66:35:16,  2.40s/trial, best loss: -0.90319]2023-04-28 13:19:42,404 - build_posterior_wrapper took 0.010011 seconds\n",
      "2023-04-28 13:19:42,407 - TPE using 95/95 trials with best loss -0.903190\n",
      "  0%|          | 96/100000 [03:25<66:45:02,  2.41s/trial, best loss: -0.90319]2023-04-28 13:19:44,823 - build_posterior_wrapper took 0.010541 seconds\n",
      "2023-04-28 13:19:44,827 - TPE using 96/96 trials with best loss -0.903190\n",
      "  0%|          | 97/100000 [03:28<66:45:31,  2.41s/trial, best loss: -0.90319]2023-04-28 13:19:47,231 - build_posterior_wrapper took 0.012057 seconds\n",
      "2023-04-28 13:19:47,234 - TPE using 97/97 trials with best loss -0.903190\n",
      "  0%|          | 98/100000 [03:30<66:58:15,  2.41s/trial, best loss: -0.90319]2023-04-28 13:19:49,661 - build_posterior_wrapper took 0.010249 seconds\n",
      "2023-04-28 13:19:49,663 - TPE using 98/98 trials with best loss -0.903190\n",
      "  0%|          | 99/100000 [03:33<66:29:45,  2.40s/trial, best loss: -0.90319]2023-04-28 13:19:52,018 - build_posterior_wrapper took 0.011077 seconds\n",
      "2023-04-28 13:19:52,021 - TPE using 99/99 trials with best loss -0.903190\n",
      "  0%|          | 100/100000 [03:35<66:40:26,  2.40s/trial, best loss: -0.90319]2023-04-28 13:19:54,436 - build_posterior_wrapper took 0.010760 seconds\n",
      "2023-04-28 13:19:54,438 - TPE using 100/100 trials with best loss -0.903190\n",
      "  0%|          | 101/100000 [03:37<66:25:40,  2.39s/trial, best loss: -0.90319]2023-04-28 13:19:56,808 - build_posterior_wrapper took 0.010295 seconds\n",
      "2023-04-28 13:19:56,811 - TPE using 101/101 trials with best loss -0.903190\n",
      "  0%|          | 102/100000 [03:39<60:24:01,  2.18s/trial, best loss: -0.90319]2023-04-28 13:19:58,479 - build_posterior_wrapper took 0.011550 seconds\n",
      "2023-04-28 13:19:58,483 - TPE using 102/102 trials with best loss -0.903190\n",
      "  0%|          | 103/100000 [03:41<61:44:02,  2.22s/trial, best loss: -0.90319]2023-04-28 13:20:00,815 - build_posterior_wrapper took 0.010626 seconds\n",
      "2023-04-28 13:20:00,818 - TPE using 103/103 trials with best loss -0.903190\n",
      "  0%|          | 104/100000 [03:44<63:30:31,  2.29s/trial, best loss: -0.90319]2023-04-28 13:20:03,255 - build_posterior_wrapper took 0.012211 seconds\n",
      "2023-04-28 13:20:03,257 - TPE using 104/104 trials with best loss -0.903190\n",
      "  0%|          | 105/100000 [03:46<64:06:01,  2.31s/trial, best loss: -0.90319]2023-04-28 13:20:05,612 - build_posterior_wrapper took 0.009953 seconds\n",
      "2023-04-28 13:20:05,615 - TPE using 105/105 trials with best loss -0.903190\n",
      "  0%|          | 106/100000 [03:48<58:46:36,  2.12s/trial, best loss: -0.90319]2023-04-28 13:20:07,284 - build_posterior_wrapper took 0.010944 seconds\n",
      "2023-04-28 13:20:07,286 - TPE using 106/106 trials with best loss -0.903190\n",
      "  0%|          | 107/100000 [03:50<60:49:35,  2.19s/trial, best loss: -0.90319]2023-04-28 13:20:09,647 - build_posterior_wrapper took 0.009992 seconds\n",
      "2023-04-28 13:20:09,650 - TPE using 107/107 trials with best loss -0.903190\n",
      "  0%|          | 108/100000 [03:53<62:40:41,  2.26s/trial, best loss: -0.90319]2023-04-28 13:20:12,063 - build_posterior_wrapper took 0.010569 seconds\n",
      "2023-04-28 13:20:12,065 - TPE using 108/108 trials with best loss -0.903190\n",
      "  0%|          | 109/100000 [03:55<63:37:02,  2.29s/trial, best loss: -0.90319]2023-04-28 13:20:14,434 - build_posterior_wrapper took 0.010068 seconds\n",
      "2023-04-28 13:20:14,437 - TPE using 109/109 trials with best loss -0.903190\n",
      "  0%|          | 110/100000 [03:57<58:28:05,  2.11s/trial, best loss: -0.90319]2023-04-28 13:20:16,108 - build_posterior_wrapper took 0.010348 seconds\n",
      "2023-04-28 13:20:16,111 - TPE using 110/110 trials with best loss -0.903190\n",
      "  0%|          | 111/100000 [03:59<60:50:00,  2.19s/trial, best loss: -0.90319]2023-04-28 13:20:18,500 - build_posterior_wrapper took 0.010964 seconds\n",
      "2023-04-28 13:20:18,504 - TPE using 111/111 trials with best loss -0.903190\n",
      "  0%|          | 112/100000 [04:02<62:48:23,  2.26s/trial, best loss: -0.90319]2023-04-28 13:20:20,931 - build_posterior_wrapper took 0.011596 seconds\n",
      "2023-04-28 13:20:20,933 - TPE using 112/112 trials with best loss -0.903190\n",
      "  0%|          | 113/100000 [04:04<63:48:59,  2.30s/trial, best loss: -0.90319]2023-04-28 13:20:23,316 - build_posterior_wrapper took 0.011747 seconds\n",
      "2023-04-28 13:20:23,318 - TPE using 113/113 trials with best loss -0.903190\n",
      "  0%|          | 114/100000 [04:06<64:51:15,  2.34s/trial, best loss: -0.90319]2023-04-28 13:20:25,739 - build_posterior_wrapper took 0.010394 seconds\n",
      "2023-04-28 13:20:25,742 - TPE using 114/114 trials with best loss -0.903190\n",
      "  0%|          | 115/100000 [04:08<59:03:44,  2.13s/trial, best loss: -0.90319]2023-04-28 13:20:27,381 - build_posterior_wrapper took 0.010587 seconds\n",
      "2023-04-28 13:20:27,384 - TPE using 115/115 trials with best loss -0.903190\n",
      "  0%|          | 116/100000 [04:10<61:31:25,  2.22s/trial, best loss: -0.90319]2023-04-28 13:20:29,805 - build_posterior_wrapper took 0.010529 seconds\n",
      "2023-04-28 13:20:29,808 - TPE using 116/116 trials with best loss -0.903190\n",
      "  0%|          | 117/100000 [04:13<62:55:45,  2.27s/trial, best loss: -0.90319]2023-04-28 13:20:32,191 - build_posterior_wrapper took 0.010331 seconds\n",
      "2023-04-28 13:20:32,195 - TPE using 117/117 trials with best loss -0.903190\n",
      "  0%|          | 118/100000 [04:15<64:19:22,  2.32s/trial, best loss: -0.90319]2023-04-28 13:20:34,627 - build_posterior_wrapper took 0.010527 seconds\n",
      "2023-04-28 13:20:34,631 - TPE using 118/118 trials with best loss -0.903190\n",
      "  0%|          | 119/100000 [04:18<64:49:49,  2.34s/trial, best loss: -0.90319]2023-04-28 13:20:37,006 - build_posterior_wrapper took 0.010210 seconds\n",
      "2023-04-28 13:20:37,009 - TPE using 119/119 trials with best loss -0.903190\n",
      "  0%|          | 120/100000 [04:19<59:20:46,  2.14s/trial, best loss: -0.90319]2023-04-28 13:20:38,685 - build_posterior_wrapper took 0.010780 seconds\n",
      "2023-04-28 13:20:38,689 - TPE using 120/120 trials with best loss -0.903190\n",
      "  0%|          | 121/100000 [04:22<61:18:39,  2.21s/trial, best loss: -0.90319]2023-04-28 13:20:41,059 - build_posterior_wrapper took 0.010046 seconds\n",
      "2023-04-28 13:20:41,062 - TPE using 121/121 trials with best loss -0.903190\n",
      "  0%|          | 122/100000 [04:24<63:15:46,  2.28s/trial, best loss: -0.90319]2023-04-28 13:20:43,504 - build_posterior_wrapper took 0.010445 seconds\n",
      "2023-04-28 13:20:43,507 - TPE using 122/122 trials with best loss -0.903190\n",
      "  0%|          | 123/100000 [04:27<63:57:15,  2.31s/trial, best loss: -0.90319]2023-04-28 13:20:45,867 - build_posterior_wrapper took 0.010076 seconds\n",
      "2023-04-28 13:20:45,870 - TPE using 123/123 trials with best loss -0.903190\n",
      "  0%|          | 124/100000 [04:29<65:10:41,  2.35s/trial, best loss: -0.90319]2023-04-28 13:20:48,320 - build_posterior_wrapper took 0.010369 seconds\n",
      "2023-04-28 13:20:48,323 - TPE using 124/124 trials with best loss -0.903190\n",
      "  0%|          | 125/100000 [04:31<59:13:53,  2.14s/trial, best loss: -0.90319]2023-04-28 13:20:49,956 - build_posterior_wrapper took 0.011533 seconds\n",
      "2023-04-28 13:20:49,959 - TPE using 125/125 trials with best loss -0.903190\n",
      "  0%|          | 126/100000 [04:33<61:41:12,  2.22s/trial, best loss: -0.90319]2023-04-28 13:20:52,385 - build_posterior_wrapper took 0.010432 seconds\n",
      "2023-04-28 13:20:52,388 - TPE using 126/126 trials with best loss -0.903190\n",
      "  0%|          | 127/100000 [04:35<62:50:16,  2.27s/trial, best loss: -0.90319]2023-04-28 13:20:54,746 - build_posterior_wrapper took 0.009838 seconds\n",
      "2023-04-28 13:20:54,749 - TPE using 127/127 trials with best loss -0.903190\n",
      "  0%|          | 128/100000 [04:38<64:09:15,  2.31s/trial, best loss: -0.90319]2023-04-28 13:20:57,170 - build_posterior_wrapper took 0.010727 seconds\n",
      "2023-04-28 13:20:57,173 - TPE using 128/128 trials with best loss -0.903190\n",
      "  0%|          | 129/100000 [04:40<64:36:25,  2.33s/trial, best loss: -0.90319]2023-04-28 13:20:59,539 - build_posterior_wrapper took 0.012222 seconds\n",
      "2023-04-28 13:20:59,542 - TPE using 129/129 trials with best loss -0.903190\n",
      "  0%|          | 130/100000 [04:42<59:12:51,  2.13s/trial, best loss: -0.90319]2023-04-28 13:21:01,218 - build_posterior_wrapper took 0.010615 seconds\n",
      "2023-04-28 13:21:01,221 - TPE using 130/130 trials with best loss -0.903190\n",
      "  0%|          | 131/100000 [04:44<61:12:33,  2.21s/trial, best loss: -0.90319]2023-04-28 13:21:03,592 - build_posterior_wrapper took 0.010205 seconds\n",
      "2023-04-28 13:21:03,595 - TPE using 131/131 trials with best loss -0.903190\n",
      "  0%|          | 132/100000 [04:47<63:04:09,  2.27s/trial, best loss: -0.90319]2023-04-28 13:21:06,024 - build_posterior_wrapper took 0.011607 seconds\n",
      "2023-04-28 13:21:06,027 - TPE using 132/132 trials with best loss -0.903190\n",
      "  0%|          | 133/100000 [04:49<63:54:21,  2.30s/trial, best loss: -0.90319]2023-04-28 13:21:08,396 - build_posterior_wrapper took 0.009764 seconds\n",
      "2023-04-28 13:21:08,398 - TPE using 133/133 trials with best loss -0.903190\n",
      "  0%|          | 134/100000 [04:51<65:00:11,  2.34s/trial, best loss: -0.90319]2023-04-28 13:21:10,832 - build_posterior_wrapper took 0.010628 seconds\n",
      "2023-04-28 13:21:10,836 - TPE using 134/134 trials with best loss -0.903190\n",
      "  0%|          | 135/100000 [04:53<59:10:41,  2.13s/trial, best loss: -0.90319]2023-04-28 13:21:12,475 - build_posterior_wrapper took 0.010388 seconds\n",
      "2023-04-28 13:21:12,478 - TPE using 135/135 trials with best loss -0.903190\n",
      "  0%|          | 136/100000 [04:56<61:37:58,  2.22s/trial, best loss: -0.90319]2023-04-28 13:21:14,904 - build_posterior_wrapper took 0.010649 seconds\n",
      "2023-04-28 13:21:14,907 - TPE using 136/136 trials with best loss -0.903190\n",
      "  0%|          | 137/100000 [04:58<63:20:58,  2.28s/trial, best loss: -0.90319]2023-04-28 13:21:17,332 - build_posterior_wrapper took 0.010600 seconds\n",
      "2023-04-28 13:21:17,336 - TPE using 137/137 trials with best loss -0.903190\n",
      "  0%|          | 138/100000 [05:00<65:10:14,  2.35s/trial, best loss: -0.90319]2023-04-28 13:21:19,835 - build_posterior_wrapper took 0.010525 seconds\n",
      "2023-04-28 13:21:19,837 - TPE using 138/138 trials with best loss -0.903190\n",
      "  0%|          | 139/100000 [05:03<65:21:11,  2.36s/trial, best loss: -0.90319]2023-04-28 13:21:22,206 - build_posterior_wrapper took 0.010538 seconds\n",
      "2023-04-28 13:21:22,209 - TPE using 139/139 trials with best loss -0.903190\n",
      "  0%|          | 140/100000 [05:05<59:49:58,  2.16s/trial, best loss: -0.90319]2023-04-28 13:21:23,899 - build_posterior_wrapper took 0.011007 seconds\n",
      "2023-04-28 13:21:23,902 - TPE using 140/140 trials with best loss -0.903190\n",
      "  0%|          | 141/100000 [05:07<61:34:00,  2.22s/trial, best loss: -0.90319]2023-04-28 13:21:26,264 - build_posterior_wrapper took 0.010199 seconds\n",
      "2023-04-28 13:21:26,266 - TPE using 141/141 trials with best loss -0.903190\n",
      "  0%|          | 142/100000 [05:09<63:19:04,  2.28s/trial, best loss: -0.90319]2023-04-28 13:21:28,694 - build_posterior_wrapper took 0.010364 seconds\n",
      "2023-04-28 13:21:28,697 - TPE using 142/142 trials with best loss -0.903190\n",
      "  0%|          | 143/100000 [05:12<64:04:54,  2.31s/trial, best loss: -0.90319]2023-04-28 13:21:31,068 - build_posterior_wrapper took 0.010072 seconds\n",
      "2023-04-28 13:21:31,071 - TPE using 143/143 trials with best loss -0.903190\n",
      "  0%|          | 144/100000 [05:14<65:05:24,  2.35s/trial, best loss: -0.90319]2023-04-28 13:21:33,501 - build_posterior_wrapper took 0.011284 seconds\n",
      "2023-04-28 13:21:33,504 - TPE using 144/144 trials with best loss -0.903190\n",
      "  0%|          | 145/100000 [05:17<65:16:55,  2.35s/trial, best loss: -0.90319]2023-04-28 13:21:35,870 - build_posterior_wrapper took 0.010414 seconds\n",
      "2023-04-28 13:21:35,873 - TPE using 145/145 trials with best loss -0.903190\n",
      "  0%|          | 146/100000 [05:19<66:00:34,  2.38s/trial, best loss: -0.90319]2023-04-28 13:21:38,313 - build_posterior_wrapper took 0.011543 seconds\n",
      "2023-04-28 13:21:38,315 - TPE using 146/146 trials with best loss -0.903190\n",
      "  0%|          | 147/100000 [05:21<65:55:04,  2.38s/trial, best loss: -0.90319]2023-04-28 13:21:40,679 - build_posterior_wrapper took 0.009844 seconds\n",
      "2023-04-28 13:21:40,682 - TPE using 147/147 trials with best loss -0.903190\n",
      "  0%|          | 148/100000 [05:24<66:25:51,  2.40s/trial, best loss: -0.90319]2023-04-28 13:21:43,118 - build_posterior_wrapper took 0.010527 seconds\n",
      "2023-04-28 13:21:43,121 - TPE using 148/148 trials with best loss -0.903190\n",
      "  0%|          | 149/100000 [05:26<66:15:57,  2.39s/trial, best loss: -0.90319]2023-04-28 13:21:45,493 - build_posterior_wrapper took 0.010221 seconds\n",
      "2023-04-28 13:21:45,496 - TPE using 149/149 trials with best loss -0.903190\n",
      "  0%|          | 150/100000 [05:29<66:48:27,  2.41s/trial, best loss: -0.90319]2023-04-28 13:21:47,949 - build_posterior_wrapper took 0.010849 seconds\n",
      "2023-04-28 13:21:47,952 - TPE using 150/150 trials with best loss -0.903190\n",
      "  0%|          | 151/100000 [05:31<66:54:04,  2.41s/trial, best loss: -0.90319]2023-04-28 13:21:50,367 - build_posterior_wrapper took 0.009816 seconds\n",
      "2023-04-28 13:21:50,370 - TPE using 151/151 trials with best loss -0.903190\n",
      "  0%|          | 152/100000 [05:33<67:06:37,  2.42s/trial, best loss: -0.90319]2023-04-28 13:21:52,805 - build_posterior_wrapper took 0.010359 seconds\n",
      "2023-04-28 13:21:52,808 - TPE using 152/152 trials with best loss -0.903190\n",
      "  0%|          | 153/100000 [05:36<66:43:47,  2.41s/trial, best loss: -0.90319]2023-04-28 13:21:55,182 - build_posterior_wrapper took 0.013141 seconds\n",
      "2023-04-28 13:21:55,186 - TPE using 153/153 trials with best loss -0.903190\n",
      "  0%|          | 154/100000 [05:38<66:59:35,  2.42s/trial, best loss: -0.90319]2023-04-28 13:21:57,616 - build_posterior_wrapper took 0.010034 seconds\n",
      "2023-04-28 13:21:57,619 - TPE using 154/154 trials with best loss -0.903190\n",
      "  0%|          | 155/100000 [05:41<66:37:15,  2.40s/trial, best loss: -0.90319]2023-04-28 13:21:59,988 - build_posterior_wrapper took 0.010644 seconds\n",
      "2023-04-28 13:21:59,992 - TPE using 155/155 trials with best loss -0.903190\n",
      "  0%|          | 156/100000 [05:43<66:50:36,  2.41s/trial, best loss: -0.90319]2023-04-28 13:22:02,417 - build_posterior_wrapper took 0.010475 seconds\n",
      "2023-04-28 13:22:02,420 - TPE using 156/156 trials with best loss -0.903190\n",
      "  0%|          | 157/100000 [05:45<66:33:34,  2.40s/trial, best loss: -0.90319]2023-04-28 13:22:04,792 - build_posterior_wrapper took 0.009896 seconds\n",
      "2023-04-28 13:22:04,795 - TPE using 157/157 trials with best loss -0.903190\n",
      "  0%|          | 158/100000 [05:48<66:55:31,  2.41s/trial, best loss: -0.90319]2023-04-28 13:22:07,237 - build_posterior_wrapper took 0.010925 seconds\n",
      "2023-04-28 13:22:07,241 - TPE using 158/158 trials with best loss -0.903190\n",
      "  0%|          | 159/100000 [05:50<66:42:32,  2.41s/trial, best loss: -0.90319]2023-04-28 13:22:09,624 - build_posterior_wrapper took 0.010444 seconds\n",
      "2023-04-28 13:22:09,626 - TPE using 159/159 trials with best loss -0.903190\n",
      "  0%|          | 160/100000 [05:53<66:58:43,  2.42s/trial, best loss: -0.90319]2023-04-28 13:22:12,062 - build_posterior_wrapper took 0.010672 seconds\n",
      "2023-04-28 13:22:12,065 - TPE using 160/160 trials with best loss -0.903190\n",
      "  0%|          | 161/100000 [05:55<66:39:36,  2.40s/trial, best loss: -0.90319]2023-04-28 13:22:14,438 - build_posterior_wrapper took 0.009730 seconds\n",
      "2023-04-28 13:22:14,441 - TPE using 161/161 trials with best loss -0.903190\n",
      "  0%|          | 162/100000 [05:57<60:40:51,  2.19s/trial, best loss: -0.90319]2023-04-28 13:22:16,124 - build_posterior_wrapper took 0.010564 seconds\n",
      "2023-04-28 13:22:16,127 - TPE using 162/162 trials with best loss -0.903190\n",
      "  0%|          | 163/100000 [05:59<62:28:34,  2.25s/trial, best loss: -0.90319]2023-04-28 13:22:18,528 - build_posterior_wrapper took 0.010564 seconds\n",
      "2023-04-28 13:22:18,531 - TPE using 163/163 trials with best loss -0.903190\n",
      "  0%|          | 164/100000 [06:02<64:06:41,  2.31s/trial, best loss: -0.90319]2023-04-28 13:22:20,978 - build_posterior_wrapper took 0.010869 seconds\n",
      "2023-04-28 13:22:20,980 - TPE using 164/164 trials with best loss -0.903190\n",
      "  0%|          | 165/100000 [06:04<64:47:22,  2.34s/trial, best loss: -0.90319]2023-04-28 13:22:23,370 - build_posterior_wrapper took 0.010074 seconds\n",
      "2023-04-28 13:22:23,373 - TPE using 165/165 trials with best loss -0.903190\n",
      "  0%|          | 166/100000 [06:06<65:37:20,  2.37s/trial, best loss: -0.90319]2023-04-28 13:22:25,807 - build_posterior_wrapper took 0.010519 seconds\n",
      "2023-04-28 13:22:25,810 - TPE using 166/166 trials with best loss -0.903190\n",
      "  0%|          | 167/100000 [06:09<65:45:21,  2.37s/trial, best loss: -0.90319]2023-04-28 13:22:28,189 - build_posterior_wrapper took 0.010286 seconds\n",
      "2023-04-28 13:22:28,192 - TPE using 167/167 trials with best loss -0.903190\n",
      "  0%|          | 168/100000 [06:11<60:11:52,  2.17s/trial, best loss: -0.90319]2023-04-28 13:22:29,893 - build_posterior_wrapper took 0.010686 seconds\n",
      "2023-04-28 13:22:29,896 - TPE using 168/168 trials with best loss -0.903190\n",
      "  0%|          | 169/100000 [06:13<62:08:10,  2.24s/trial, best loss: -0.90319]2023-04-28 13:22:32,296 - build_posterior_wrapper took 0.009875 seconds\n",
      "2023-04-28 13:22:32,298 - TPE using 169/169 trials with best loss -0.903190\n",
      "  0%|          | 170/100000 [06:15<63:48:31,  2.30s/trial, best loss: -0.90319]2023-04-28 13:22:34,739 - build_posterior_wrapper took 0.010681 seconds\n",
      "2023-04-28 13:22:34,742 - TPE using 170/170 trials with best loss -0.903190\n",
      "  0%|          | 171/100000 [06:18<64:32:23,  2.33s/trial, best loss: -0.90319]2023-04-28 13:22:37,126 - build_posterior_wrapper took 0.009826 seconds\n",
      "2023-04-28 13:22:37,129 - TPE using 171/171 trials with best loss -0.903190\n",
      "  0%|          | 172/100000 [06:20<65:30:42,  2.36s/trial, best loss: -0.90319]2023-04-28 13:22:39,571 - build_posterior_wrapper took 0.010335 seconds\n",
      "2023-04-28 13:22:39,575 - TPE using 172/172 trials with best loss -0.903190\n",
      "  0%|          | 173/100000 [06:22<59:35:52,  2.15s/trial, best loss: -0.90319]2023-04-28 13:22:41,224 - build_posterior_wrapper took 0.011227 seconds\n",
      "2023-04-28 13:22:41,227 - TPE using 173/173 trials with best loss -0.903190\n",
      "  0%|          | 174/100000 [06:24<62:02:16,  2.24s/trial, best loss: -0.90319]2023-04-28 13:22:43,666 - build_posterior_wrapper took 0.010155 seconds\n",
      "2023-04-28 13:22:43,668 - TPE using 174/174 trials with best loss -0.903190\n",
      "  0%|          | 175/100000 [06:27<63:13:59,  2.28s/trial, best loss: -0.90319]2023-04-28 13:22:46,048 - build_posterior_wrapper took 0.011461 seconds\n",
      "2023-04-28 13:22:46,051 - TPE using 175/175 trials with best loss -0.903190\n",
      "  0%|          | 176/100000 [06:29<64:42:48,  2.33s/trial, best loss: -0.90319]2023-04-28 13:22:48,505 - build_posterior_wrapper took 0.010577 seconds\n",
      "2023-04-28 13:22:48,509 - TPE using 176/176 trials with best loss -0.903190\n",
      "  0%|          | 177/100000 [06:32<65:08:47,  2.35s/trial, best loss: -0.90319]2023-04-28 13:22:50,891 - build_posterior_wrapper took 0.010033 seconds\n",
      "2023-04-28 13:22:50,894 - TPE using 177/177 trials with best loss -0.903190\n",
      "  0%|          | 178/100000 [06:34<65:57:46,  2.38s/trial, best loss: -0.90319]2023-04-28 13:22:53,340 - build_posterior_wrapper took 0.010828 seconds\n",
      "2023-04-28 13:22:53,343 - TPE using 178/178 trials with best loss -0.903190\n",
      "  0%|          | 179/100000 [06:36<59:56:41,  2.16s/trial, best loss: -0.90319]2023-04-28 13:22:54,994 - build_posterior_wrapper took 0.009882 seconds\n",
      "2023-04-28 13:22:54,997 - TPE using 179/179 trials with best loss -0.903190\n",
      "  0%|          | 180/100000 [06:38<62:20:10,  2.25s/trial, best loss: -0.90319]2023-04-28 13:22:57,444 - build_posterior_wrapper took 0.011117 seconds\n",
      "2023-04-28 13:22:57,447 - TPE using 180/180 trials with best loss -0.903190\n",
      "  0%|          | 181/100000 [06:41<63:57:08,  2.31s/trial, best loss: -0.90319]2023-04-28 13:22:59,887 - build_posterior_wrapper took 0.011127 seconds\n",
      "2023-04-28 13:22:59,891 - TPE using 181/181 trials with best loss -0.903190\n",
      "  0%|          | 182/100000 [06:43<65:02:55,  2.35s/trial, best loss: -0.90319]2023-04-28 13:23:02,325 - build_posterior_wrapper took 0.010245 seconds\n",
      "2023-04-28 13:23:02,328 - TPE using 182/182 trials with best loss -0.903190\n",
      "  0%|          | 183/100000 [06:45<65:24:36,  2.36s/trial, best loss: -0.90319]2023-04-28 13:23:04,714 - build_posterior_wrapper took 0.009730 seconds\n",
      "2023-04-28 13:23:04,717 - TPE using 183/183 trials with best loss -0.903190\n",
      "  0%|          | 184/100000 [06:48<66:09:06,  2.39s/trial, best loss: -0.90319]2023-04-28 13:23:07,163 - build_posterior_wrapper took 0.010462 seconds\n",
      "2023-04-28 13:23:07,166 - TPE using 184/184 trials with best loss -0.903190\n",
      "  0%|          | 185/100000 [06:49<59:59:15,  2.16s/trial, best loss: -0.90319]2023-04-28 13:23:08,807 - build_posterior_wrapper took 0.010085 seconds\n",
      "2023-04-28 13:23:08,810 - TPE using 185/185 trials with best loss -0.903190\n",
      "  0%|          | 186/100000 [06:52<62:22:17,  2.25s/trial, best loss: -0.90319]2023-04-28 13:23:11,257 - build_posterior_wrapper took 0.010131 seconds\n",
      "2023-04-28 13:23:11,261 - TPE using 186/186 trials with best loss -0.903190\n",
      "  0%|          | 187/100000 [06:54<63:29:22,  2.29s/trial, best loss: -0.90319]2023-04-28 13:23:13,641 - build_posterior_wrapper took 0.010112 seconds\n",
      "2023-04-28 13:23:13,644 - TPE using 187/187 trials with best loss -0.903190\n",
      "  0%|          | 188/100000 [06:57<64:46:07,  2.34s/trial, best loss: -0.90319]2023-04-28 13:23:16,086 - build_posterior_wrapper took 0.011531 seconds\n",
      "2023-04-28 13:23:16,089 - TPE using 188/188 trials with best loss -0.903190\n",
      "  0%|          | 189/100000 [06:59<65:16:17,  2.35s/trial, best loss: -0.90319]2023-04-28 13:23:18,482 - build_posterior_wrapper took 0.010084 seconds\n",
      "2023-04-28 13:23:18,485 - TPE using 189/189 trials with best loss -0.903190\n",
      "  0%|          | 190/100000 [07:02<66:00:53,  2.38s/trial, best loss: -0.90319]2023-04-28 13:23:20,927 - build_posterior_wrapper took 0.011349 seconds\n",
      "2023-04-28 13:23:20,931 - TPE using 190/190 trials with best loss -0.903190\n",
      "  0%|          | 191/100000 [07:03<60:03:36,  2.17s/trial, best loss: -0.90319]2023-04-28 13:23:22,591 - build_posterior_wrapper took 0.010789 seconds\n",
      "2023-04-28 13:23:22,595 - TPE using 191/191 trials with best loss -0.903190\n",
      "  0%|          | 192/100000 [07:06<62:17:59,  2.25s/trial, best loss: -0.90319]2023-04-28 13:23:25,029 - build_posterior_wrapper took 0.011800 seconds\n",
      "2023-04-28 13:23:25,032 - TPE using 192/192 trials with best loss -0.903190\n",
      "  0%|          | 193/100000 [07:08<63:29:31,  2.29s/trial, best loss: -0.90319]2023-04-28 13:23:27,416 - build_posterior_wrapper took 0.009823 seconds\n",
      "2023-04-28 13:23:27,419 - TPE using 193/193 trials with best loss -0.903190\n",
      "  0%|          | 194/100000 [07:11<64:59:20,  2.34s/trial, best loss: -0.90319]2023-04-28 13:23:29,888 - build_posterior_wrapper took 0.010239 seconds\n",
      "2023-04-28 13:23:29,891 - TPE using 194/194 trials with best loss -0.903190\n",
      "  0%|          | 195/100000 [07:13<65:28:36,  2.36s/trial, best loss: -0.90319]2023-04-28 13:23:32,290 - build_posterior_wrapper took 0.010135 seconds\n",
      "2023-04-28 13:23:32,293 - TPE using 195/195 trials with best loss -0.903190\n",
      "  0%|          | 196/100000 [07:15<66:15:05,  2.39s/trial, best loss: -0.90319]2023-04-28 13:23:34,745 - build_posterior_wrapper took 0.010435 seconds\n",
      "2023-04-28 13:23:34,748 - TPE using 196/196 trials with best loss -0.903190\n",
      "  0%|          | 197/100000 [07:18<66:14:43,  2.39s/trial, best loss: -0.90319]2023-04-28 13:23:37,134 - build_posterior_wrapper took 0.010581 seconds\n",
      "2023-04-28 13:23:37,138 - TPE using 197/197 trials with best loss -0.903190\n",
      "  0%|          | 198/100000 [07:19<60:27:48,  2.18s/trial, best loss: -0.90319]2023-04-28 13:23:38,829 - build_posterior_wrapper took 0.011066 seconds\n",
      "2023-04-28 13:23:38,832 - TPE using 198/198 trials with best loss -0.903190\n",
      "  0%|          | 199/100000 [07:22<62:10:04,  2.24s/trial, best loss: -0.90319]2023-04-28 13:23:41,215 - build_posterior_wrapper took 0.010350 seconds\n",
      "2023-04-28 13:23:41,218 - TPE using 199/199 trials with best loss -0.903190\n",
      "  0%|          | 200/100000 [07:24<63:49:51,  2.30s/trial, best loss: -0.90319]2023-04-28 13:23:43,658 - build_posterior_wrapper took 0.011507 seconds\n",
      "2023-04-28 13:23:43,662 - TPE using 200/200 trials with best loss -0.903190\n",
      "  0%|          | 201/100000 [07:27<64:29:49,  2.33s/trial, best loss: -0.90319]2023-04-28 13:23:46,042 - build_posterior_wrapper took 0.011717 seconds\n",
      "2023-04-28 13:23:46,045 - TPE using 201/201 trials with best loss -0.903190\n",
      "  0%|          | 202/100000 [07:29<65:47:24,  2.37s/trial, best loss: -0.90319]2023-04-28 13:23:48,522 - build_posterior_wrapper took 0.010040 seconds\n",
      "2023-04-28 13:23:48,525 - TPE using 202/202 trials with best loss -0.903190\n",
      "  0%|          | 203/100000 [07:32<65:58:09,  2.38s/trial, best loss: -0.90319]2023-04-28 13:23:50,916 - build_posterior_wrapper took 0.009913 seconds\n",
      "2023-04-28 13:23:50,920 - TPE using 203/203 trials with best loss -0.903190\n",
      "  0%|          | 204/100000 [07:33<60:19:18,  2.18s/trial, best loss: -0.90319]2023-04-28 13:23:52,618 - build_posterior_wrapper took 0.010338 seconds\n",
      "2023-04-28 13:23:52,620 - TPE using 204/204 trials with best loss -0.903190\n",
      "  0%|          | 205/100000 [07:36<62:04:22,  2.24s/trial, best loss: -0.90319]2023-04-28 13:23:55,004 - build_posterior_wrapper took 0.010432 seconds\n",
      "2023-04-28 13:23:55,008 - TPE using 205/205 trials with best loss -0.903190\n",
      "  0%|          | 206/100000 [07:38<63:55:38,  2.31s/trial, best loss: -0.90319]2023-04-28 13:23:57,466 - build_posterior_wrapper took 0.009998 seconds\n",
      "2023-04-28 13:23:57,469 - TPE using 206/206 trials with best loss -0.903190\n",
      "  0%|          | 207/100000 [07:41<64:43:35,  2.33s/trial, best loss: -0.90319]2023-04-28 13:23:59,869 - build_posterior_wrapper took 0.010577 seconds\n",
      "2023-04-28 13:23:59,872 - TPE using 207/207 trials with best loss -0.903190\n",
      "  0%|          | 208/100000 [07:43<65:46:00,  2.37s/trial, best loss: -0.90319]2023-04-28 13:24:02,330 - build_posterior_wrapper took 0.011228 seconds\n",
      "2023-04-28 13:24:02,333 - TPE using 208/208 trials with best loss -0.903190\n",
      "  0%|          | 209/100000 [07:45<59:58:33,  2.16s/trial, best loss: -0.90319]2023-04-28 13:24:04,005 - build_posterior_wrapper took 0.010121 seconds\n",
      "2023-04-28 13:24:04,008 - TPE using 209/209 trials with best loss -0.903190\n",
      "  0%|          | 210/100000 [07:47<62:29:31,  2.25s/trial, best loss: -0.90319]2023-04-28 13:24:06,472 - build_posterior_wrapper took 0.010188 seconds\n",
      "2023-04-28 13:24:06,475 - TPE using 210/210 trials with best loss -0.903190\n",
      "  0%|          | 211/100000 [07:50<63:38:44,  2.30s/trial, best loss: -0.90319]2023-04-28 13:24:08,865 - build_posterior_wrapper took 0.010350 seconds\n",
      "2023-04-28 13:24:08,868 - TPE using 211/211 trials with best loss -0.903190\n",
      "  0%|          | 212/100000 [07:52<64:57:56,  2.34s/trial, best loss: -0.90319]2023-04-28 13:24:11,320 - build_posterior_wrapper took 0.010224 seconds\n",
      "2023-04-28 13:24:11,323 - TPE using 212/212 trials with best loss -0.903190\n",
      "  0%|          | 213/100000 [07:54<65:23:23,  2.36s/trial, best loss: -0.90319]2023-04-28 13:24:13,714 - build_posterior_wrapper took 0.009873 seconds\n",
      "2023-04-28 13:24:13,717 - TPE using 213/213 trials with best loss -0.903190\n",
      "  0%|          | 214/100000 [07:57<66:18:41,  2.39s/trial, best loss: -0.90319]2023-04-28 13:24:16,185 - build_posterior_wrapper took 0.011170 seconds\n",
      "2023-04-28 13:24:16,189 - TPE using 214/214 trials with best loss -0.903190\n",
      "  0%|          | 215/100000 [07:59<66:26:51,  2.40s/trial, best loss: -0.90319]2023-04-28 13:24:18,593 - build_posterior_wrapper took 0.009948 seconds\n",
      "2023-04-28 13:24:18,598 - TPE using 215/215 trials with best loss -0.903190\n",
      "  0%|          | 216/100000 [08:01<60:45:18,  2.19s/trial, best loss: -0.90319]2023-04-28 13:24:20,307 - build_posterior_wrapper took 0.010216 seconds\n",
      "2023-04-28 13:24:20,310 - TPE using 216/216 trials with best loss -0.903190\n",
      "  0%|          | 217/100000 [08:03<62:41:11,  2.26s/trial, best loss: -0.90319]2023-04-28 13:24:22,730 - build_posterior_wrapper took 0.010002 seconds\n",
      "2023-04-28 13:24:22,733 - TPE using 217/217 trials with best loss -0.903190\n",
      "  0%|          | 218/100000 [08:06<65:46:00,  2.37s/trial, best loss: -0.90319]2023-04-28 13:24:25,368 - build_posterior_wrapper took 0.015017 seconds\n",
      "2023-04-28 13:24:25,372 - TPE using 218/218 trials with best loss -0.903190\n",
      "  0%|          | 219/100000 [08:09<68:24:41,  2.47s/trial, best loss: -0.90319]2023-04-28 13:24:28,053 - build_posterior_wrapper took 0.009944 seconds\n",
      "2023-04-28 13:24:28,057 - TPE using 219/219 trials with best loss -0.903190\n",
      "  0%|          | 220/100000 [08:11<68:31:07,  2.47s/trial, best loss: -0.90319]2023-04-28 13:24:30,536 - build_posterior_wrapper took 0.011699 seconds\n",
      "2023-04-28 13:24:30,540 - TPE using 220/220 trials with best loss -0.903190\n",
      "  0%|          | 221/100000 [08:13<61:57:44,  2.24s/trial, best loss: -0.90319]2023-04-28 13:24:32,219 - build_posterior_wrapper took 0.010711 seconds\n",
      "2023-04-28 13:24:32,222 - TPE using 221/221 trials with best loss -0.903190\n",
      "  0%|          | 222/100000 [08:15<63:51:20,  2.30s/trial, best loss: -0.90319]2023-04-28 13:24:34,682 - build_posterior_wrapper took 0.010963 seconds\n",
      "2023-04-28 13:24:34,685 - TPE using 222/222 trials with best loss -0.903190\n",
      "  0%|          | 223/100000 [08:18<64:42:56,  2.33s/trial, best loss: -0.90319]2023-04-28 13:24:37,089 - build_posterior_wrapper took 0.009887 seconds\n",
      "2023-04-28 13:24:37,092 - TPE using 223/223 trials with best loss -0.903190\n",
      "  0%|          | 224/100000 [08:20<65:51:57,  2.38s/trial, best loss: -0.90319]2023-04-28 13:24:39,563 - build_posterior_wrapper took 0.010727 seconds\n",
      "2023-04-28 13:24:39,566 - TPE using 224/224 trials with best loss -0.903190\n",
      "  0%|          | 225/100000 [08:23<65:58:02,  2.38s/trial, best loss: -0.90319]2023-04-28 13:24:41,951 - build_posterior_wrapper took 0.009841 seconds\n",
      "2023-04-28 13:24:41,954 - TPE using 225/225 trials with best loss -0.903190\n",
      "  0%|          | 226/100000 [08:25<66:41:22,  2.41s/trial, best loss: -0.90319]2023-04-28 13:24:44,419 - build_posterior_wrapper took 0.010269 seconds\n",
      "2023-04-28 13:24:44,422 - TPE using 226/226 trials with best loss -0.903190\n",
      "  0%|          | 227/100000 [08:27<66:47:15,  2.41s/trial, best loss: -0.90319]2023-04-28 13:24:46,836 - build_posterior_wrapper took 0.009926 seconds\n",
      "2023-04-28 13:24:46,839 - TPE using 227/227 trials with best loss -0.903190\n",
      "  0%|          | 228/100000 [08:29<61:00:54,  2.20s/trial, best loss: -0.90319]2023-04-28 13:24:48,553 - build_posterior_wrapper took 0.010643 seconds\n",
      "2023-04-28 13:24:48,556 - TPE using 228/228 trials with best loss -0.903190\n",
      "  0%|          | 229/100000 [08:32<62:42:09,  2.26s/trial, best loss: -0.90319]2023-04-28 13:24:50,956 - build_posterior_wrapper took 0.009815 seconds\n",
      "2023-04-28 13:24:50,959 - TPE using 229/229 trials with best loss -0.903190\n",
      "  0%|          | 230/100000 [08:34<64:25:38,  2.32s/trial, best loss: -0.90319]2023-04-28 13:24:53,428 - build_posterior_wrapper took 0.010933 seconds\n",
      "2023-04-28 13:24:53,431 - TPE using 230/230 trials with best loss -0.903190\n",
      "  0%|          | 231/100000 [08:36<65:04:46,  2.35s/trial, best loss: -0.90319]2023-04-28 13:24:55,830 - build_posterior_wrapper took 0.010187 seconds\n",
      "2023-04-28 13:24:55,833 - TPE using 231/231 trials with best loss -0.903190\n",
      "  0%|          | 232/100000 [08:39<66:11:30,  2.39s/trial, best loss: -0.90319]2023-04-28 13:24:58,312 - build_posterior_wrapper took 0.010383 seconds\n",
      "2023-04-28 13:24:58,316 - TPE using 232/232 trials with best loss -0.903190\n",
      "  0%|          | 233/100000 [08:41<66:14:04,  2.39s/trial, best loss: -0.90319]2023-04-28 13:25:00,706 - build_posterior_wrapper took 0.009908 seconds\n",
      "2023-04-28 13:25:00,709 - TPE using 233/233 trials with best loss -0.903190\n",
      "  0%|          | 234/100000 [08:43<60:34:19,  2.19s/trial, best loss: -0.90319]2023-04-28 13:25:02,415 - build_posterior_wrapper took 0.010210 seconds\n",
      "2023-04-28 13:25:02,418 - TPE using 234/234 trials with best loss -0.903190\n",
      "  0%|          | 235/100000 [08:45<62:23:14,  2.25s/trial, best loss: -0.90319]2023-04-28 13:25:04,819 - build_posterior_wrapper took 0.009800 seconds\n",
      "2023-04-28 13:25:04,822 - TPE using 235/235 trials with best loss -0.903190\n",
      "  0%|          | 236/100000 [08:48<64:10:50,  2.32s/trial, best loss: -0.90319]2023-04-28 13:25:07,290 - build_posterior_wrapper took 0.013593 seconds\n",
      "2023-04-28 13:25:07,293 - TPE using 236/236 trials with best loss -0.903190\n",
      "  0%|          | 237/100000 [08:50<64:58:21,  2.34s/trial, best loss: -0.90319]2023-04-28 13:25:09,697 - build_posterior_wrapper took 0.010085 seconds\n",
      "2023-04-28 13:25:09,700 - TPE using 237/237 trials with best loss -0.903190\n",
      "  0%|          | 238/100000 [08:53<65:59:34,  2.38s/trial, best loss: -0.90319]2023-04-28 13:25:12,165 - build_posterior_wrapper took 0.010363 seconds\n",
      "2023-04-28 13:25:12,168 - TPE using 238/238 trials with best loss -0.903190\n",
      "  0%|          | 239/100000 [08:55<66:11:44,  2.39s/trial, best loss: -0.90319]2023-04-28 13:25:14,570 - build_posterior_wrapper took 0.009885 seconds\n",
      "2023-04-28 13:25:14,573 - TPE using 239/239 trials with best loss -0.903190\n",
      "  0%|          | 240/100000 [08:57<62:03:16,  2.24s/trial, best loss: -0.90319]\n",
      "2023-04-28 13:25:18,507 - SimultaneousTuner - Hyperparameters optimization finished\n",
      "2023-04-28 13:25:18,509 - SimultaneousTuner - Return tuned graph due to the fact that obtained metric 0.903 equal or better than initial (+ 0.05% deviation) 0.898\n",
      "2023-04-28 13:25:18,511 - SimultaneousTuner - Final graph: {'depth': 2, 'length': 2, 'nodes': [rf, normalization]}\n",
      "rf - {'n_jobs': 1, 'bootstrap': True, 'criterion': 'entropy', 'max_features': 0.20779545029960408, 'min_samples_leaf': 1, 'min_samples_split': 2}\n",
      "normalization - {}\n",
      "2023-04-28 13:25:18,513 - SimultaneousTuner - Final metric: 0.903\n",
      "2023-04-28 13:25:18,525 - ApiComposer - Hyperparameters tuning finished\n",
      "2023-04-28 13:25:18,684 - ApiComposer - Model generation finished\n",
      "2023-04-28 13:25:19,680 - FEDOT logger - Final pipeline was fitted\n",
      "2023-04-28 13:25:19,683 - FEDOT logger - Final pipeline: {'depth': 2, 'length': 2, 'nodes': [rf, normalization]}\n",
      "rf - {'n_jobs': 2, 'bootstrap': True, 'criterion': 'entropy', 'max_features': 0.20779545029960408, 'min_samples_leaf': 1, 'min_samples_split': 2}\n",
      "normalization - {}\n",
      "Memory consumption for finish in main session: current 21.7 MiB, max: 23.1 MiB\n",
      "2023-04-28 13:25:19,758 - Solver fitted: statistical_extractor -> fedot_pipeline ({'depth': 2, 'length': 2, 'nodes': [rf, normalization]})\n"
     ]
    }
   ],
   "source": [
    "model = industrial.fit(train_features=train_data[0],\n",
    "                       train_target=train_data[1])"
   ]
  },
  {
   "cell_type": "markdown",
   "metadata": {},
   "source": [
    "The output of the `fit` method is the trained Fedot model in the form of `pipeline` that can be used for prediction.\n",
    "\n",
    "Actually, we have access to it and are able to visualize:"
   ]
  },
  {
   "cell_type": "code",
   "execution_count": 6,
   "metadata": {
    "ExecuteTime": {
     "start_time": "2023-04-28T13:26:22.388128Z",
     "end_time": "2023-04-28T13:26:22.598240Z"
    }
   },
   "outputs": [
    {
     "name": "stdout",
     "output_type": "stream",
     "text": [
      "{'depth': 2, 'length': 2, 'nodes': [rf, normalization]}\n"
     ]
    },
    {
     "data": {
      "text/plain": "<Figure size 700x700 with 1 Axes>",
      "image/png": "[encoded data removed]"
     },
     "metadata": {},
     "output_type": "display_data"
    }
   ],
   "source": [
    "print(model.current_pipeline)\n",
    "\n",
    "model.current_pipeline.show(node_size_scale=1)"
   ]
  },
  {
   "cell_type": "markdown",
   "metadata": {},
   "source": [
    "Next, we can predict the values for the test data. In the case of time series classification, the output of the model is the predicted class for each time series in the test data or the probability of belonging to each class."
   ]
  },
  {
   "cell_type": "code",
   "execution_count": 7,
   "metadata": {
    "ExecuteTime": {
     "start_time": "2023-04-28T13:26:26.266394Z",
     "end_time": "2023-04-28T13:26:33.837477Z"
    }
   },
   "outputs": [
    {
     "name": "stdout",
     "output_type": "stream",
     "text": [
      "2023-04-28 13:26:26,262 - Predicting with statistical generator\n",
      "2023-04-28 13:26:26,277 - Trying to load features from cache\n",
      "2023-04-28 13:26:26,278 - Cache not found. Generating features\n",
      "2023-04-28 13:26:33,762 - Caching features\n",
      "[[1]\n",
      " [1]\n",
      " [1]\n",
      " ...\n",
      " [1]\n",
      " [2]\n",
      " [2]]\n"
     ]
    }
   ],
   "source": [
    "labels = industrial.predict(test_features=test_data[0])\n",
    "\n",
    "print(labels)"
   ]
  },
  {
   "cell_type": "code",
   "execution_count": 8,
   "metadata": {
    "ExecuteTime": {
     "start_time": "2023-04-28T13:26:36.172828Z",
     "end_time": "2023-04-28T13:26:36.245584Z"
    }
   },
   "outputs": [
    {
     "name": "stdout",
     "output_type": "stream",
     "text": [
      "2023-04-28 13:26:36,170 - Predicting with statistical generator\n",
      "[[0.49]\n",
      " [0.42]\n",
      " [0.43]\n",
      " ...\n",
      " [0.15]\n",
      " [0.85]\n",
      " [0.81]]\n"
     ]
    }
   ],
   "source": [
    "probs = industrial.predict_proba(test_features=test_data[0])\n",
    "\n",
    "print(probs)"
   ]
  },
  {
   "cell_type": "markdown",
   "metadata": {},
   "source": [
    "At the end of the experiment we can obtain the desired metric values using `get_metrics` method. Now there are five available metrics for classification task:\n",
    "- `f1`\n",
    "- `roc_auc`\n",
    "- `accuracy`\n",
    "- `precision`\n",
    "- `recall`.\n",
    "\n",
    "Let's say we want to get the `roc_auc` metric for the test data since ItalyPowerDemand dataset is binary."
   ]
  },
  {
   "cell_type": "code",
   "execution_count": 9,
   "metadata": {
    "ExecuteTime": {
     "start_time": "2023-04-28T13:26:39.738766Z",
     "end_time": "2023-04-28T13:26:39.751177Z"
    }
   },
   "outputs": [
    {
     "name": "stdout",
     "output_type": "stream",
     "text": [
      "2023-04-28 13:26:39,735 - Calculating metrics: ['roc_auc']\n",
      "2023-04-28 13:26:39,742 - Metrics are: {'roc_auc': 0.729}\n",
      "{'roc_auc': 0.729}\n"
     ]
    }
   ],
   "source": [
    "metric = industrial.get_metrics(target=test_data[1],\n",
    "                                metric_names=['roc_auc'])\n",
    "print(metric)"
   ]
  },
  {
   "cell_type": "markdown",
   "metadata": {},
   "source": [
    "Also, there is an opportunity to save metrics, predicted labels and probabilities to the csv file:"
   ]
  },
  {
   "cell_type": "code",
   "execution_count": 14,
   "metadata": {},
   "outputs": [
    {
     "name": "stderr",
     "output_type": "stream",
     "text": [
      "/Users/technocreep/Desktop/Working-Folder/fedot-industrial/Fedot.Industrial/core/api/utils/saver_collections.py:32: FutureWarning: In a future version, passing float-dtype values and an integer dtype to DataFrame will retain floating dtype if they cannot be cast losslessly (matching Series behavior). To retain the old behavior, use DataFrame(data).astype(dtype)\n",
      "  df = pd.DataFrame(label_data, dtype=int)\n"
     ]
    }
   ],
   "source": [
    "for pred in [labels, probs]:\n",
    "    industrial.save_predict(predicted_data=pred)\n",
    "\n",
    "industrial.save_metrics(metrics=metric)"
   ]
  }
 ],
 "metadata": {
  "kernelspec": {
   "display_name": "Python 3 (ipykernel)",
   "language": "python",
   "name": "python3"
  },
  "language_info": {
   "codemirror_mode": {
    "name": "ipython",
    "version": 3
   },
   "file_extension": ".py",
   "mimetype": "text/x-python",
   "name": "python",
   "nbconvert_exporter": "python",
   "pygments_lexer": "ipython3",
   "version": "3.8.1"
  }
 },
 "nbformat": 4,
 "nbformat_minor": 1
}
