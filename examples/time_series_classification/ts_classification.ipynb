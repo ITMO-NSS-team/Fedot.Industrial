{
 "cells": [
  {
   "cell_type": "markdown",
   "metadata": {},
   "source": [
    "In this example we will consider the mechanism of interaction with API of FEDOT.Industrial framework to solve the problem of time series classification\n",
    "\n",
    "First of all, it is necessary to import the base class FedotIndustrial and determine the parameters of the experiment"
   ]
  },
  {
   "cell_type": "code",
   "execution_count": 2,
   "metadata": {},
   "outputs": [],
   "source": [
    "from fedot_ind.api.main import FedotIndustrial"
   ]
  },
  {
   "cell_type": "markdown",
   "metadata": {},
   "source": [
    "The parameters of the experiment are:"
   ]
  },
  {
   "cell_type": "code",
   "execution_count": 3,
   "metadata": {},
   "outputs": [
    {
     "name": "stdout",
     "output_type": "stream",
     "text": [
      "2023-04-04 16:51:12,675 - Initialising experiment setup\n",
      "Experiment setup:\n",
      "        dataset - ItalyPowerDemand,\n",
      "        feature generator - quantile,\n",
      "        use_cache - False,\n",
      "        error_correction - False,\n",
      "        n_jobs - -1,\n",
      "        timeout - 5,\n",
      "        ensemble - None\n"
     ]
    }
   ],
   "source": [
    "config = dict(task='ts_classification',\n",
    "              dataset='ItalyPowerDemand',\n",
    "              feature_generator='quantile',\n",
    "              use_cache=False,\n",
    "              error_correction=False,\n",
    "              timeout=5,\n",
    "              n_jobs=-1,\n",
    "              window_sizes='auto')\n",
    "\n",
    "industrial = FedotIndustrial(input_config=config,\n",
    "                             output_folder=None)"
   ]
  },
  {
   "cell_type": "markdown",
   "metadata": {},
   "source": [
    "Now we must download the dataset. It could be done by using `DataReader` class that implemented as attribute of `FedotIndustrial` class. This class firstly tries to read the data from local project folder `data` and then if it is not possible, it downloads the data from the UCR/UEA archive. The data will be saved in the `data` folder."
   ]
  },
  {
   "cell_type": "code",
   "execution_count": 4,
   "metadata": {},
   "outputs": [
    {
     "name": "stdout",
     "output_type": "stream",
     "text": [
      "2023-04-04 16:51:12,686 - Trying to read ItalyPowerDemand data locally\n",
      "2023-04-04 16:51:12,702 - Loaded data from ItalyPowerDemand local data folder\n",
      "2023-04-04 16:51:12,704 - 2 classes detected\n"
     ]
    }
   ],
   "source": [
    "train_data, test_data, _ = industrial.reader.read(dataset_name='ItalyPowerDemand')"
   ]
  },
  {
   "cell_type": "markdown",
   "metadata": {},
   "source": [
    "Next steps are quite straightforward. We need to fit the model and then predict the values for the test data just like for any other model in sklearn.\n",
    "\n",
    "At the `fit` stage FedotIndustrial will transform initial time series data into features dataframe and will train Fedot classification model."
   ]
  },
  {
   "cell_type": "code",
   "execution_count": 5,
   "metadata": {},
   "outputs": [
    {
     "name": "stdout",
     "output_type": "stream",
     "text": [
      "2023-04-04 16:51:14,039 - Fitting model...\n",
      "2023-04-04 16:51:14,041 - StatsExtractor is working...\n",
      "2023-04-04 16:51:16,411 - AssumptionsHandler - Initial pipeline fitting started\n",
      "2023-04-04 16:51:17,549 - AssumptionsHandler - Initial pipeline was fitted successfully\n",
      "2023-04-04 16:51:17,551 - AssumptionsHandler - Memory consumption for fitting of the initial pipeline in main session: current 19.9 MiB, max: 20.4 MiB\n",
      "2023-04-04 16:51:17,553 - ApiComposer - Initial pipeline was fitted in 1.1 sec.\n",
      "2023-04-04 16:51:17,556 - AssumptionsHandler - Preset was changed to best_quality due to fit time estimation for initial model.\n",
      "2023-04-04 16:51:17,574 - ApiComposer - AutoML configured. Parameters tuning: True. Time limit: 5 min. Set of candidate models: ['logit', 'resample', 'poly_features', 'dt', 'normalization', 'rf', 'scaling', 'fast_ica', 'lgbm', 'pca', 'bernb', 'knn', 'qda', 'mlp', 'isolation_forest_class', 'logit', 'resample', 'poly_features', 'dt', 'normalization', 'rf', 'scaling', 'fast_ica', 'lgbm', 'pca', 'bernb', 'knn', 'qda', 'mlp', 'isolation_forest_class'].\n",
      "2023-04-04 16:51:17,580 - ApiComposer - Pipeline composition started.\n",
      "2023-04-04 16:51:17,583 - DataSourceSplitter - K-folds cross validation is applied.\n"
     ]
    },
    {
     "name": "stderr",
     "output_type": "stream",
     "text": [
      "Generations:   0%|          | 1/10000 [00:00<?, ?gen/s]"
     ]
    },
    {
     "name": "stdout",
     "output_type": "stream",
     "text": [
      "2023-04-04 16:51:17,618 - MultiprocessingDispatcher - Number of used CPU's: 8\n",
      "2023-04-04 16:51:22,592 - MultiprocessingDispatcher - 1 individuals out of 1 in previous population were evaluated successfully.\n",
      "2023-04-04 16:51:22,599 - EvoGraphOptimizer - Generation num: 1 size: 1\n",
      "2023-04-04 16:51:22,602 - EvoGraphOptimizer - Best individuals: HallOfFame archive fitness (1): ['<ClassificationMetricsEnum.ROCAUC_penalty=-0.886 ComplexityMetricsEnum.node_num=0.200>']\n",
      "2023-04-04 16:51:25,500 - MultiprocessingDispatcher - Number of used CPU's: 8\n",
      "2023-04-04 16:51:34,977 - MultiprocessingDispatcher - 21 individuals out of 21 in previous population were evaluated successfully.\n",
      "2023-04-04 16:51:34,980 - EvoGraphOptimizer - Generation num: 2 size: 21\n",
      "2023-04-04 16:51:34,983 - EvoGraphOptimizer - Best individuals: HallOfFame archive fitness (1): ['<ClassificationMetricsEnum.ROCAUC_penalty=-0.916 ComplexityMetricsEnum.node_num=0.300>']\n",
      "2023-04-04 16:51:34,986 - EvoGraphOptimizer - Next population size: 21; max graph depth: 10\n",
      "2023-04-04 16:51:37,386 - MultiprocessingDispatcher - Number of used CPU's: 8\n",
      "2023-04-04 16:51:39,685 - MultiprocessingDispatcher - 20 individuals out of 20 in previous population were evaluated successfully.\n",
      "2023-04-04 16:51:39,694 - EvoGraphOptimizer - Generation num: 3 size: 21\n",
      "2023-04-04 16:51:39,696 - EvoGraphOptimizer - Best individuals: HallOfFame archive fitness (1): ['<ClassificationMetricsEnum.ROCAUC_penalty=-0.916 ComplexityMetricsEnum.node_num=0.300>']\n",
      "2023-04-04 16:51:39,698 - EvoGraphOptimizer - no improvements for 1 iterations\n",
      "2023-04-04 16:51:39,700 - EvoGraphOptimizer - spent time: 0.4 min\n",
      "2023-04-04 16:51:39,703 - EvoGraphOptimizer - Next population size: 34; max graph depth: 10\n",
      "2023-04-04 16:51:41,433 - MultiprocessingDispatcher - Number of used CPU's: 8\n",
      "2023-04-04 16:51:43,527 - MultiprocessingDispatcher - 20 individuals out of 20 in previous population were evaluated successfully.\n",
      "2023-04-04 16:51:43,545 - EvoGraphOptimizer - Generation num: 4 size: 34\n",
      "2023-04-04 16:51:43,548 - EvoGraphOptimizer - Best individuals: HallOfFame archive fitness (1): ['<ClassificationMetricsEnum.ROCAUC_penalty=-0.916 ComplexityMetricsEnum.node_num=0.300>']\n",
      "2023-04-04 16:51:43,551 - EvoGraphOptimizer - no improvements for 2 iterations\n",
      "2023-04-04 16:51:43,553 - EvoGraphOptimizer - spent time: 0.4 min\n",
      "2023-04-04 16:51:43,561 - EvoGraphOptimizer - Next population size: 55; max graph depth: 10\n",
      "2023-04-04 16:51:46,733 - MultiprocessingDispatcher - Number of used CPU's: 8\n",
      "2023-04-04 16:51:50,117 - MultiprocessingDispatcher - 32 individuals out of 32 in previous population were evaluated successfully.\n",
      "2023-04-04 16:51:50,149 - EvoGraphOptimizer - Generation num: 5 size: 55\n",
      "2023-04-04 16:51:50,151 - EvoGraphOptimizer - Best individuals: HallOfFame archive fitness (1): ['<ClassificationMetricsEnum.ROCAUC_penalty=-0.916 ComplexityMetricsEnum.node_num=0.300>']\n",
      "2023-04-04 16:51:50,154 - EvoGraphOptimizer - no improvements for 3 iterations\n",
      "2023-04-04 16:51:50,158 - EvoGraphOptimizer - spent time: 0.5 min\n",
      "2023-04-04 16:51:50,161 - EvoGraphOptimizer - Next population size: 55; max graph depth: 10\n",
      "2023-04-04 16:51:54,800 - MultiprocessingDispatcher - Number of used CPU's: 8\n",
      "2023-04-04 16:52:00,123 - MultiprocessingDispatcher - 54 individuals out of 54 in previous population were evaluated successfully.\n",
      "2023-04-04 16:52:00,161 - EvoGraphOptimizer - Generation num: 6 size: 55\n",
      "2023-04-04 16:52:00,164 - EvoGraphOptimizer - Best individuals: HallOfFame archive fitness (1): ['<ClassificationMetricsEnum.ROCAUC_penalty=-0.916 ComplexityMetricsEnum.node_num=0.300>']\n",
      "2023-04-04 16:52:00,168 - EvoGraphOptimizer - no improvements for 4 iterations\n",
      "2023-04-04 16:52:00,171 - EvoGraphOptimizer - spent time: 0.7 min\n",
      "2023-04-04 16:52:00,175 - EvoGraphOptimizer - Next population size: 55; max graph depth: 10\n",
      "2023-04-04 16:52:03,538 - MultiprocessingDispatcher - Number of used CPU's: 8\n",
      "2023-04-04 16:52:08,516 - MultiprocessingDispatcher - 54 individuals out of 54 in previous population were evaluated successfully.\n",
      "2023-04-04 16:52:08,566 - EvoGraphOptimizer - Generation num: 7 size: 55\n",
      "2023-04-04 16:52:08,568 - EvoGraphOptimizer - Best individuals: HallOfFame archive fitness (1): ['<ClassificationMetricsEnum.ROCAUC_penalty=-0.916 ComplexityMetricsEnum.node_num=0.300>']\n",
      "2023-04-04 16:52:08,571 - EvoGraphOptimizer - no improvements for 5 iterations\n",
      "2023-04-04 16:52:08,573 - EvoGraphOptimizer - spent time: 0.8 min\n",
      "2023-04-04 16:52:08,576 - GroupedCondition - Optimisation finished: Early stopping iterations criteria was satisfied\n"
     ]
    },
    {
     "name": "stderr",
     "output_type": "stream",
     "text": [
      "Generations:   0%|          | 1/10000 [00:50<?, ?gen/s]"
     ]
    },
    {
     "name": "stdout",
     "output_type": "stream",
     "text": [
      "2023-04-04 16:52:08,579 - OptimisationTimer - Composition time: 0.85 min\n",
      "2023-04-04 16:52:08,582 - EvoGraphOptimizer - Generation num: 8 size: 1\n",
      "2023-04-04 16:52:08,584 - EvoGraphOptimizer - Best individuals: HallOfFame archive fitness (1): ['<ClassificationMetricsEnum.ROCAUC_penalty=-0.916 ComplexityMetricsEnum.node_num=0.300>']\n",
      "2023-04-04 16:52:08,586 - EvoGraphOptimizer - no improvements for 6 iterations\n",
      "2023-04-04 16:52:08,588 - EvoGraphOptimizer - spent time: 0.9 min\n",
      "2023-04-04 16:52:08,595 - GPComposer - GP composition finished\n",
      "2023-04-04 16:52:08,601 - DataSourceSplitter - K-folds cross validation is applied.\n",
      "2023-04-04 16:52:08,603 - ApiComposer - Hyperparameters tuning started with 4 min. timeout\n",
      "2023-04-04 16:52:08,609 - SimultaneousTuner - Hyperparameters optimization start: estimation of metric for initial pipeline\n"
     ]
    },
    {
     "name": "stderr",
     "output_type": "stream",
     "text": [
      "\n"
     ]
    },
    {
     "name": "stdout",
     "output_type": "stream",
     "text": [
      "2023-04-04 16:52:11,146 - SimultaneousTuner - Initial graph: {'depth': 3, 'length': 3, 'nodes': [rf, poly_features, scaling]}\n",
      "rf - {'n_jobs': 1}\n",
      "poly_features - {}\n",
      "scaling - {} \n",
      "Initial metric: 0.847\n",
      "  0%|          | 0/100000 [00:00<?, ?trial/s, best loss=?]2023-04-04 16:52:11,194 - build_posterior_wrapper took 0.021713 seconds\n",
      "2023-04-04 16:52:11,198 - TPE using 0 trials\n",
      "  0%|          | 1/100000 [00:02<74:08:49,  2.67s/trial, best loss: -0.747498]2023-04-04 16:52:13,859 - build_posterior_wrapper took 0.014781 seconds\n",
      "2023-04-04 16:52:13,861 - TPE using 1/1 trials with best loss -0.747498\n",
      "  0%|          | 2/100000 [00:05<73:00:13,  2.63s/trial, best loss: -0.747498]2023-04-04 16:52:16,460 - build_posterior_wrapper took 0.017531 seconds\n",
      "2023-04-04 16:52:16,462 - TPE using 2/2 trials with best loss -0.747498\n",
      "  0%|          | 3/100000 [00:07<62:21:54,  2.25s/trial, best loss: -0.747498]2023-04-04 16:52:18,247 - build_posterior_wrapper took 0.014882 seconds\n",
      "2023-04-04 16:52:18,250 - TPE using 3/3 trials with best loss -0.747498\n",
      "  0%|          | 4/100000 [00:09<60:30:54,  2.18s/trial, best loss: -0.752478]2023-04-04 16:52:20,325 - build_posterior_wrapper took 0.015947 seconds\n",
      "2023-04-04 16:52:20,328 - TPE using 4/4 trials with best loss -0.752478\n",
      "  0%|          | 5/100000 [00:11<64:45:35,  2.33s/trial, best loss: -0.752478]2023-04-04 16:52:22,926 - build_posterior_wrapper took 0.014224 seconds\n",
      "2023-04-04 16:52:22,928 - TPE using 5/5 trials with best loss -0.752478\n",
      "  0%|          | 6/100000 [00:14<65:43:40,  2.37s/trial, best loss: -0.790824]2023-04-04 16:52:25,360 - build_posterior_wrapper took 0.014180 seconds\n",
      "2023-04-04 16:52:25,362 - TPE using 6/6 trials with best loss -0.790824\n",
      "  0%|          | 7/100000 [00:17<70:07:39,  2.52s/trial, best loss: -0.790824]2023-04-04 16:52:28,212 - build_posterior_wrapper took 0.015662 seconds\n",
      "2023-04-04 16:52:28,215 - TPE using 7/7 trials with best loss -0.790824\n",
      "  0%|          | 8/100000 [00:19<71:52:22,  2.59s/trial, best loss: -0.790824]2023-04-04 16:52:30,932 - build_posterior_wrapper took 0.014075 seconds\n",
      "2023-04-04 16:52:30,935 - TPE using 8/8 trials with best loss -0.790824\n",
      "  0%|          | 9/100000 [00:22<72:44:20,  2.62s/trial, best loss: -0.790824]2023-04-04 16:52:33,621 - build_posterior_wrapper took 0.014979 seconds\n",
      "2023-04-04 16:52:33,624 - TPE using 9/9 trials with best loss -0.790824\n",
      "  0%|          | 10/100000 [00:24<64:56:33,  2.34s/trial, best loss: -0.790824]2023-04-04 16:52:35,330 - build_posterior_wrapper took 0.014866 seconds\n",
      "2023-04-04 16:52:35,333 - TPE using 10/10 trials with best loss -0.790824\n",
      "  0%|          | 11/100000 [00:26<67:45:15,  2.44s/trial, best loss: -0.790824]2023-04-04 16:52:37,999 - build_posterior_wrapper took 0.014590 seconds\n",
      "2023-04-04 16:52:38,002 - TPE using 11/11 trials with best loss -0.790824\n",
      "  0%|          | 12/100000 [00:29<69:45:05,  2.51s/trial, best loss: -0.790824]2023-04-04 16:52:40,677 - build_posterior_wrapper took 0.016117 seconds\n",
      "2023-04-04 16:52:40,680 - TPE using 12/12 trials with best loss -0.790824\n",
      "  0%|          | 13/100000 [00:31<63:59:31,  2.30s/trial, best loss: -0.790824]2023-04-04 16:52:42,502 - build_posterior_wrapper took 0.014222 seconds\n",
      "2023-04-04 16:52:42,504 - TPE using 13/13 trials with best loss -0.790824\n",
      "  0%|          | 14/100000 [00:33<67:04:49,  2.42s/trial, best loss: -0.790824]2023-04-04 16:52:45,174 - build_posterior_wrapper took 0.014208 seconds\n",
      "2023-04-04 16:52:45,176 - TPE using 14/14 trials with best loss -0.790824\n",
      "  0%|          | 15/100000 [00:36<67:15:04,  2.42s/trial, best loss: -0.790824]2023-04-04 16:52:47,610 - build_posterior_wrapper took 0.014968 seconds\n",
      "2023-04-04 16:52:47,613 - TPE using 15/15 trials with best loss -0.790824\n",
      "  0%|          | 16/100000 [00:38<62:36:09,  2.25s/trial, best loss: -0.790824]2023-04-04 16:52:49,477 - build_posterior_wrapper took 0.015286 seconds\n",
      "2023-04-04 16:52:49,479 - TPE using 16/16 trials with best loss -0.790824\n",
      "  0%|          | 17/100000 [00:40<65:33:52,  2.36s/trial, best loss: -0.790824]2023-04-04 16:52:52,084 - build_posterior_wrapper took 0.014395 seconds\n",
      "2023-04-04 16:52:52,087 - TPE using 17/17 trials with best loss -0.790824\n",
      "  0%|          | 18/100000 [00:42<59:36:23,  2.15s/trial, best loss: -0.790824]2023-04-04 16:52:53,731 - build_posterior_wrapper took 0.014561 seconds\n",
      "2023-04-04 16:52:53,733 - TPE using 18/18 trials with best loss -0.790824\n",
      "  0%|          | 19/100000 [00:44<58:34:00,  2.11s/trial, best loss: -0.790824]2023-04-04 16:52:55,764 - build_posterior_wrapper took 0.023421 seconds\n",
      "2023-04-04 16:52:55,770 - TPE using 19/19 trials with best loss -0.790824\n",
      "  0%|          | 20/100000 [00:46<58:33:51,  2.11s/trial, best loss: -0.790824]2023-04-04 16:52:57,867 - build_posterior_wrapper took 0.017390 seconds\n",
      "2023-04-04 16:52:57,870 - TPE using 20/20 trials with best loss -0.790824\n",
      "  0%|          | 21/100000 [00:48<56:52:06,  2.05s/trial, best loss: -0.85407] 2023-04-04 16:52:59,767 - build_posterior_wrapper took 0.014811 seconds\n",
      "2023-04-04 16:52:59,769 - TPE using 21/21 trials with best loss -0.854070\n",
      "  0%|          | 22/100000 [00:50<56:08:33,  2.02s/trial, best loss: -0.85407]2023-04-04 16:53:01,729 - build_posterior_wrapper took 0.015482 seconds\n",
      "2023-04-04 16:53:01,732 - TPE using 22/22 trials with best loss -0.854070\n",
      "  0%|          | 23/100000 [00:52<55:10:31,  1.99s/trial, best loss: -0.861042]2023-04-04 16:53:03,640 - build_posterior_wrapper took 0.021394 seconds\n",
      "2023-04-04 16:53:03,644 - TPE using 23/23 trials with best loss -0.861042\n",
      "  0%|          | 24/100000 [00:54<53:08:07,  1.91s/trial, best loss: -0.861042]2023-04-04 16:53:05,375 - build_posterior_wrapper took 0.014835 seconds\n",
      "2023-04-04 16:53:05,378 - TPE using 24/24 trials with best loss -0.861042\n",
      "  0%|          | 25/100000 [00:55<51:57:01,  1.87s/trial, best loss: -0.861042]2023-04-04 16:53:07,150 - build_posterior_wrapper took 0.017598 seconds\n",
      "2023-04-04 16:53:07,152 - TPE using 25/25 trials with best loss -0.861042\n",
      "  0%|          | 26/100000 [00:57<51:27:53,  1.85s/trial, best loss: -0.861042]2023-04-04 16:53:08,958 - build_posterior_wrapper took 0.014280 seconds\n",
      "2023-04-04 16:53:08,960 - TPE using 26/26 trials with best loss -0.861042\n",
      "  0%|          | 27/100000 [00:59<52:13:27,  1.88s/trial, best loss: -0.861042]2023-04-04 16:53:10,904 - build_posterior_wrapper took 0.014935 seconds\n",
      "2023-04-04 16:53:10,907 - TPE using 27/27 trials with best loss -0.861042\n",
      "  0%|          | 28/100000 [01:01<53:37:36,  1.93s/trial, best loss: -0.861042]2023-04-04 16:53:12,952 - build_posterior_wrapper took 0.015052 seconds\n",
      "2023-04-04 16:53:12,955 - TPE using 28/28 trials with best loss -0.861042\n",
      "  0%|          | 29/100000 [01:03<53:05:14,  1.91s/trial, best loss: -0.861042]2023-04-04 16:53:14,818 - build_posterior_wrapper took 0.014497 seconds\n",
      "2023-04-04 16:53:14,821 - TPE using 29/29 trials with best loss -0.861042\n",
      "  0%|          | 30/100000 [01:05<52:38:00,  1.90s/trial, best loss: -0.885444]2023-04-04 16:53:16,678 - build_posterior_wrapper took 0.016175 seconds\n",
      "2023-04-04 16:53:16,680 - TPE using 30/30 trials with best loss -0.885444\n",
      "  0%|          | 31/100000 [01:07<52:53:04,  1.90s/trial, best loss: -0.885444]2023-04-04 16:53:18,601 - build_posterior_wrapper took 0.014681 seconds\n",
      "2023-04-04 16:53:18,604 - TPE using 31/31 trials with best loss -0.885444\n",
      "  0%|          | 32/100000 [01:09<51:55:49,  1.87s/trial, best loss: -0.885444]2023-04-04 16:53:20,392 - build_posterior_wrapper took 0.015220 seconds\n",
      "2023-04-04 16:53:20,394 - TPE using 32/32 trials with best loss -0.885444\n",
      "  0%|          | 33/100000 [01:10<50:48:49,  1.83s/trial, best loss: -0.885444]2023-04-04 16:53:22,127 - build_posterior_wrapper took 0.014313 seconds\n",
      "2023-04-04 16:53:22,129 - TPE using 33/33 trials with best loss -0.885444\n",
      "  0%|          | 34/100000 [01:12<50:52:35,  1.83s/trial, best loss: -0.885444]2023-04-04 16:53:23,967 - build_posterior_wrapper took 0.015421 seconds\n",
      "2023-04-04 16:53:23,970 - TPE using 34/34 trials with best loss -0.885444\n",
      "  0%|          | 35/100000 [01:14<52:09:14,  1.88s/trial, best loss: -0.885444]2023-04-04 16:53:25,951 - build_posterior_wrapper took 0.014945 seconds\n",
      "2023-04-04 16:53:25,954 - TPE using 35/35 trials with best loss -0.885444\n",
      "  0%|          | 36/100000 [01:16<51:11:10,  1.84s/trial, best loss: -0.885444]2023-04-04 16:53:27,713 - build_posterior_wrapper took 0.014522 seconds\n",
      "2023-04-04 16:53:27,715 - TPE using 36/36 trials with best loss -0.885444\n",
      "  0%|          | 37/100000 [01:18<52:08:26,  1.88s/trial, best loss: -0.885444]2023-04-04 16:53:29,672 - build_posterior_wrapper took 0.015280 seconds\n",
      "2023-04-04 16:53:29,675 - TPE using 37/37 trials with best loss -0.885444\n",
      "  0%|          | 38/100000 [01:20<50:46:35,  1.83s/trial, best loss: -0.885444]2023-04-04 16:53:31,384 - build_posterior_wrapper took 0.013715 seconds\n",
      "2023-04-04 16:53:31,387 - TPE using 38/38 trials with best loss -0.885444\n",
      "  0%|          | 39/100000 [01:21<49:21:46,  1.78s/trial, best loss: -0.885444]2023-04-04 16:53:33,043 - build_posterior_wrapper took 0.013763 seconds\n",
      "2023-04-04 16:53:33,045 - TPE using 39/39 trials with best loss -0.885444\n",
      "  0%|          | 40/100000 [01:23<48:14:20,  1.74s/trial, best loss: -0.885444]2023-04-04 16:53:34,686 - build_posterior_wrapper took 0.013610 seconds\n",
      "2023-04-04 16:53:34,688 - TPE using 40/40 trials with best loss -0.885444\n",
      "  0%|          | 41/100000 [01:25<47:47:34,  1.72s/trial, best loss: -0.885444]2023-04-04 16:53:36,380 - build_posterior_wrapper took 0.023120 seconds\n",
      "2023-04-04 16:53:36,384 - TPE using 41/41 trials with best loss -0.885444\n",
      "  0%|          | 42/100000 [01:27<55:00:39,  1.98s/trial, best loss: -0.885444]2023-04-04 16:53:38,958 - build_posterior_wrapper took 0.014435 seconds\n",
      "2023-04-04 16:53:38,961 - TPE using 42/42 trials with best loss -0.885444\n",
      "  0%|          | 43/100000 [01:29<52:49:31,  1.90s/trial, best loss: -0.885444]2023-04-04 16:53:40,677 - build_posterior_wrapper took 0.014423 seconds\n",
      "2023-04-04 16:53:40,679 - TPE using 43/43 trials with best loss -0.885444\n",
      "  0%|          | 44/100000 [01:31<57:33:56,  2.07s/trial, best loss: -0.885444]2023-04-04 16:53:43,149 - build_posterior_wrapper took 0.014225 seconds\n",
      "2023-04-04 16:53:43,151 - TPE using 44/44 trials with best loss -0.885444\n",
      "  0%|          | 45/100000 [01:33<54:29:21,  1.96s/trial, best loss: -0.885444]2023-04-04 16:53:44,853 - build_posterior_wrapper took 0.014533 seconds\n",
      "2023-04-04 16:53:44,855 - TPE using 45/45 trials with best loss -0.885444\n",
      "  0%|          | 46/100000 [01:36<59:18:48,  2.14s/trial, best loss: -0.885444]2023-04-04 16:53:47,395 - build_posterior_wrapper took 0.014633 seconds\n",
      "2023-04-04 16:53:47,397 - TPE using 46/46 trials with best loss -0.885444\n",
      "  0%|          | 47/100000 [01:37<55:45:29,  2.01s/trial, best loss: -0.885444]2023-04-04 16:53:49,104 - build_posterior_wrapper took 0.014446 seconds\n",
      "2023-04-04 16:53:49,106 - TPE using 47/47 trials with best loss -0.885444\n",
      "  0%|          | 48/100000 [01:40<60:29:32,  2.18s/trial, best loss: -0.885444]2023-04-04 16:53:51,681 - build_posterior_wrapper took 0.014704 seconds\n",
      "2023-04-04 16:53:51,684 - TPE using 48/48 trials with best loss -0.885444\n",
      "  0%|          | 49/100000 [01:42<56:49:10,  2.05s/trial, best loss: -0.885444]2023-04-04 16:53:53,419 - build_posterior_wrapper took 0.015108 seconds\n",
      "2023-04-04 16:53:53,422 - TPE using 49/49 trials with best loss -0.885444\n",
      "  0%|          | 50/100000 [01:43<54:28:47,  1.96s/trial, best loss: -0.885444]2023-04-04 16:53:55,184 - build_posterior_wrapper took 0.014419 seconds\n",
      "2023-04-04 16:53:55,188 - TPE using 50/50 trials with best loss -0.885444\n",
      "  0%|          | 51/100000 [01:46<59:17:54,  2.14s/trial, best loss: -0.885444]2023-04-04 16:53:57,725 - build_posterior_wrapper took 0.014758 seconds\n",
      "2023-04-04 16:53:57,728 - TPE using 51/51 trials with best loss -0.885444\n",
      "  0%|          | 52/100000 [01:48<56:34:58,  2.04s/trial, best loss: -0.885444]2023-04-04 16:53:59,536 - build_posterior_wrapper took 0.015117 seconds\n",
      "2023-04-04 16:53:59,539 - TPE using 52/52 trials with best loss -0.885444\n",
      "  0%|          | 53/100000 [01:50<54:20:31,  1.96s/trial, best loss: -0.885444]2023-04-04 16:54:01,304 - build_posterior_wrapper took 0.014392 seconds\n",
      "2023-04-04 16:54:01,307 - TPE using 53/53 trials with best loss -0.885444\n",
      "  0%|          | 54/100000 [01:52<58:16:39,  2.10s/trial, best loss: -0.885444]2023-04-04 16:54:03,734 - build_posterior_wrapper took 0.014348 seconds\n",
      "2023-04-04 16:54:03,737 - TPE using 54/54 trials with best loss -0.885444\n",
      "  0%|          | 55/100000 [01:54<55:15:22,  1.99s/trial, best loss: -0.885444]2023-04-04 16:54:05,471 - build_posterior_wrapper took 0.014891 seconds\n",
      "2023-04-04 16:54:05,473 - TPE using 55/55 trials with best loss -0.885444\n",
      "  0%|          | 56/100000 [01:56<53:03:40,  1.91s/trial, best loss: -0.885444]2023-04-04 16:54:07,197 - build_posterior_wrapper took 0.014326 seconds\n",
      "2023-04-04 16:54:07,200 - TPE using 56/56 trials with best loss -0.885444\n",
      "  0%|          | 57/100000 [01:57<51:21:55,  1.85s/trial, best loss: -0.885444]2023-04-04 16:54:08,904 - build_posterior_wrapper took 0.013813 seconds\n",
      "2023-04-04 16:54:08,907 - TPE using 57/57 trials with best loss -0.885444\n",
      "  0%|          | 58/100000 [02:00<55:53:15,  2.01s/trial, best loss: -0.885444]2023-04-04 16:54:11,299 - build_posterior_wrapper took 0.015621 seconds\n",
      "2023-04-04 16:54:11,302 - TPE using 58/58 trials with best loss -0.885444\n",
      "  0%|          | 59/100000 [02:01<53:55:34,  1.94s/trial, best loss: -0.885444]2023-04-04 16:54:13,076 - build_posterior_wrapper took 0.014887 seconds\n",
      "2023-04-04 16:54:13,079 - TPE using 59/59 trials with best loss -0.885444\n",
      "  0%|          | 60/100000 [02:03<51:51:05,  1.87s/trial, best loss: -0.885444]2023-04-04 16:54:14,769 - build_posterior_wrapper took 0.014521 seconds\n",
      "2023-04-04 16:54:14,772 - TPE using 60/60 trials with best loss -0.885444\n",
      "  0%|          | 61/100000 [02:05<50:28:13,  1.82s/trial, best loss: -0.885444]2023-04-04 16:54:16,473 - build_posterior_wrapper took 0.016310 seconds\n",
      "2023-04-04 16:54:16,476 - TPE using 61/61 trials with best loss -0.885444\n",
      "  0%|          | 62/100000 [02:07<55:53:08,  2.01s/trial, best loss: -0.885444]2023-04-04 16:54:18,939 - build_posterior_wrapper took 0.013924 seconds\n",
      "2023-04-04 16:54:18,942 - TPE using 62/62 trials with best loss -0.885444\n",
      "  0%|          | 63/100000 [02:09<53:19:42,  1.92s/trial, best loss: -0.885444]2023-04-04 16:54:20,645 - build_posterior_wrapper took 0.013902 seconds\n",
      "2023-04-04 16:54:20,648 - TPE using 63/63 trials with best loss -0.885444\n",
      "  0%|          | 64/100000 [02:11<51:38:04,  1.86s/trial, best loss: -0.885444]2023-04-04 16:54:22,366 - build_posterior_wrapper took 0.016457 seconds\n",
      "2023-04-04 16:54:22,369 - TPE using 64/64 trials with best loss -0.885444\n",
      "  0%|          | 65/100000 [02:12<50:35:26,  1.82s/trial, best loss: -0.885444]2023-04-04 16:54:24,098 - build_posterior_wrapper took 0.014011 seconds\n",
      "2023-04-04 16:54:24,100 - TPE using 65/65 trials with best loss -0.885444\n",
      "  0%|          | 66/100000 [02:14<49:39:32,  1.79s/trial, best loss: -0.885444]2023-04-04 16:54:25,808 - build_posterior_wrapper took 0.013965 seconds\n",
      "2023-04-04 16:54:25,811 - TPE using 66/66 trials with best loss -0.885444\n",
      "  0%|          | 67/100000 [02:16<48:55:20,  1.76s/trial, best loss: -0.885444]2023-04-04 16:54:27,510 - build_posterior_wrapper took 0.014452 seconds\n",
      "2023-04-04 16:54:27,512 - TPE using 67/67 trials with best loss -0.885444\n",
      "  0%|          | 68/100000 [02:18<48:43:10,  1.76s/trial, best loss: -0.891918]2023-04-04 16:54:29,247 - build_posterior_wrapper took 0.014064 seconds\n",
      "2023-04-04 16:54:29,250 - TPE using 68/68 trials with best loss -0.891918\n",
      "  0%|          | 69/100000 [02:19<48:17:03,  1.74s/trial, best loss: -0.891918]2023-04-04 16:54:30,950 - build_posterior_wrapper took 0.013894 seconds\n",
      "2023-04-04 16:54:30,952 - TPE using 69/69 trials with best loss -0.891918\n",
      "  0%|          | 70/100000 [02:21<47:58:02,  1.73s/trial, best loss: -0.891918]2023-04-04 16:54:32,652 - build_posterior_wrapper took 0.014132 seconds\n",
      "2023-04-04 16:54:32,654 - TPE using 70/70 trials with best loss -0.891918\n",
      "  0%|          | 71/100000 [02:23<47:53:32,  1.73s/trial, best loss: -0.891918]2023-04-04 16:54:34,371 - build_posterior_wrapper took 0.014500 seconds\n",
      "2023-04-04 16:54:34,374 - TPE using 71/71 trials with best loss -0.891918\n",
      "  0%|          | 72/100000 [02:24<47:42:33,  1.72s/trial, best loss: -0.891918]2023-04-04 16:54:36,075 - build_posterior_wrapper took 0.014801 seconds\n",
      "2023-04-04 16:54:36,078 - TPE using 72/72 trials with best loss -0.891918\n",
      "  0%|          | 73/100000 [02:26<47:38:25,  1.72s/trial, best loss: -0.891918]2023-04-04 16:54:37,785 - build_posterior_wrapper took 0.014312 seconds\n",
      "2023-04-04 16:54:37,788 - TPE using 73/73 trials with best loss -0.891918\n",
      "  0%|          | 74/100000 [02:28<47:46:43,  1.72s/trial, best loss: -0.891918]2023-04-04 16:54:39,518 - build_posterior_wrapper took 0.014776 seconds\n",
      "2023-04-04 16:54:39,521 - TPE using 74/74 trials with best loss -0.891918\n",
      "  0%|          | 75/100000 [02:30<47:36:52,  1.72s/trial, best loss: -0.891918]2023-04-04 16:54:41,220 - build_posterior_wrapper took 0.014592 seconds\n",
      "2023-04-04 16:54:41,222 - TPE using 75/75 trials with best loss -0.891918\n",
      "  0%|          | 76/100000 [02:31<47:30:29,  1.71s/trial, best loss: -0.891918]2023-04-04 16:54:42,922 - build_posterior_wrapper took 0.014335 seconds\n",
      "2023-04-04 16:54:42,925 - TPE using 76/76 trials with best loss -0.891918\n",
      "  0%|          | 77/100000 [02:33<47:27:15,  1.71s/trial, best loss: -0.891918]2023-04-04 16:54:44,628 - build_posterior_wrapper took 0.014599 seconds\n",
      "2023-04-04 16:54:44,631 - TPE using 77/77 trials with best loss -0.891918\n",
      "  0%|          | 78/100000 [02:35<47:21:17,  1.71s/trial, best loss: -0.891918]2023-04-04 16:54:46,326 - build_posterior_wrapper took 0.014755 seconds\n",
      "2023-04-04 16:54:46,329 - TPE using 78/78 trials with best loss -0.891918\n",
      "  0%|          | 79/100000 [02:36<47:17:43,  1.70s/trial, best loss: -0.891918]2023-04-04 16:54:48,026 - build_posterior_wrapper took 0.015403 seconds\n",
      "2023-04-04 16:54:48,029 - TPE using 79/79 trials with best loss -0.891918\n",
      "  0%|          | 80/100000 [02:39<53:11:25,  1.92s/trial, best loss: -0.891918]2023-04-04 16:54:50,438 - build_posterior_wrapper took 0.015870 seconds\n",
      "2023-04-04 16:54:50,440 - TPE using 80/80 trials with best loss -0.891918\n",
      "  0%|          | 81/100000 [02:40<51:45:06,  1.86s/trial, best loss: -0.891918]2023-04-04 16:54:52,180 - build_posterior_wrapper took 0.014665 seconds\n",
      "2023-04-04 16:54:52,183 - TPE using 81/81 trials with best loss -0.891918\n",
      "  0%|          | 82/100000 [02:42<50:45:01,  1.83s/trial, best loss: -0.891918]2023-04-04 16:54:53,926 - build_posterior_wrapper took 0.015515 seconds\n",
      "2023-04-04 16:54:53,929 - TPE using 82/82 trials with best loss -0.891918\n",
      "  0%|          | 83/100000 [02:44<49:38:18,  1.79s/trial, best loss: -0.891918]2023-04-04 16:54:55,620 - build_posterior_wrapper took 0.014739 seconds\n",
      "2023-04-04 16:54:55,623 - TPE using 83/83 trials with best loss -0.891918\n",
      "  0%|          | 84/100000 [02:46<54:49:02,  1.98s/trial, best loss: -0.891918]2023-04-04 16:54:58,030 - build_posterior_wrapper took 0.014751 seconds\n",
      "2023-04-04 16:54:58,033 - TPE using 84/84 trials with best loss -0.891918\n",
      "  0%|          | 85/100000 [02:48<52:26:16,  1.89s/trial, best loss: -0.891918]2023-04-04 16:54:59,719 - build_posterior_wrapper took 0.014260 seconds\n",
      "2023-04-04 16:54:59,722 - TPE using 85/85 trials with best loss -0.891918\n",
      "  0%|          | 86/100000 [02:50<50:41:51,  1.83s/trial, best loss: -0.891918]2023-04-04 16:55:01,400 - build_posterior_wrapper took 0.014586 seconds\n",
      "2023-04-04 16:55:01,403 - TPE using 86/86 trials with best loss -0.891918\n",
      "  0%|          | 87/100000 [02:51<49:46:42,  1.79s/trial, best loss: -0.891918]2023-04-04 16:55:03,116 - build_posterior_wrapper took 0.014037 seconds\n",
      "2023-04-04 16:55:03,119 - TPE using 87/87 trials with best loss -0.891918\n",
      "  0%|          | 88/100000 [02:53<49:15:37,  1.77s/trial, best loss: -0.891918]2023-04-04 16:55:04,847 - build_posterior_wrapper took 0.014147 seconds\n",
      "2023-04-04 16:55:04,850 - TPE using 88/88 trials with best loss -0.891918\n",
      "  0%|          | 89/100000 [02:56<54:36:07,  1.97s/trial, best loss: -0.891918]2023-04-04 16:55:07,264 - build_posterior_wrapper took 0.014167 seconds\n",
      "2023-04-04 16:55:07,267 - TPE using 89/89 trials with best loss -0.891918\n",
      "  0%|          | 90/100000 [02:57<52:21:49,  1.89s/trial, best loss: -0.891918]2023-04-04 16:55:08,962 - build_posterior_wrapper took 0.013830 seconds\n",
      "2023-04-04 16:55:08,965 - TPE using 90/90 trials with best loss -0.891918\n",
      "  0%|          | 91/100000 [02:59<51:47:15,  1.87s/trial, best loss: -0.891918]2023-04-04 16:55:10,781 - build_posterior_wrapper took 0.014707 seconds\n",
      "2023-04-04 16:55:10,783 - TPE using 91/91 trials with best loss -0.891918\n",
      "  0%|          | 92/100000 [03:01<51:16:19,  1.85s/trial, best loss: -0.891918]2023-04-04 16:55:12,585 - build_posterior_wrapper took 0.014492 seconds\n",
      "2023-04-04 16:55:12,587 - TPE using 92/92 trials with best loss -0.891918\n",
      "  0%|          | 93/100000 [03:03<56:16:31,  2.03s/trial, best loss: -0.891918]2023-04-04 16:55:15,033 - build_posterior_wrapper took 0.014585 seconds\n",
      "2023-04-04 16:55:15,036 - TPE using 93/93 trials with best loss -0.891918\n",
      "  0%|          | 94/100000 [03:05<54:01:05,  1.95s/trial, best loss: -0.891918]2023-04-04 16:55:16,790 - build_posterior_wrapper took 0.014284 seconds\n",
      "2023-04-04 16:55:16,792 - TPE using 94/94 trials with best loss -0.891918\n",
      "  0%|          | 95/100000 [03:07<51:58:27,  1.87s/trial, best loss: -0.9038700000000001]2023-04-04 16:55:18,492 - build_posterior_wrapper took 0.015163 seconds\n",
      "2023-04-04 16:55:18,495 - TPE using 95/95 trials with best loss -0.903870\n",
      "  0%|          | 96/100000 [03:09<50:49:26,  1.83s/trial, best loss: -0.9038700000000001]2023-04-04 16:55:20,225 - build_posterior_wrapper took 0.013939 seconds\n",
      "2023-04-04 16:55:20,228 - TPE using 96/96 trials with best loss -0.903870\n",
      "  0%|          | 97/100000 [03:10<49:42:56,  1.79s/trial, best loss: -0.9038700000000001]2023-04-04 16:55:21,925 - build_posterior_wrapper took 0.014951 seconds\n",
      "2023-04-04 16:55:21,927 - TPE using 97/97 trials with best loss -0.903870\n",
      "  0%|          | 98/100000 [03:13<54:57:48,  1.98s/trial, best loss: -0.9038700000000001]2023-04-04 16:55:24,346 - build_posterior_wrapper took 0.014493 seconds\n",
      "2023-04-04 16:55:24,349 - TPE using 98/98 trials with best loss -0.903870\n",
      "  0%|          | 99/100000 [03:14<52:44:29,  1.90s/trial, best loss: -0.9038700000000001]2023-04-04 16:55:26,059 - build_posterior_wrapper took 0.013836 seconds\n",
      "2023-04-04 16:55:26,062 - TPE using 99/99 trials with best loss -0.903870\n",
      "  0%|          | 100/100000 [03:16<51:16:04,  1.85s/trial, best loss: -0.9038700000000001]2023-04-04 16:55:27,784 - build_posterior_wrapper took 0.014826 seconds\n",
      "2023-04-04 16:55:27,787 - TPE using 100/100 trials with best loss -0.903870\n",
      "  0%|          | 101/100000 [03:18<50:20:57,  1.81s/trial, best loss: -0.9038700000000001]2023-04-04 16:55:29,520 - build_posterior_wrapper took 0.014001 seconds\n",
      "2023-04-04 16:55:29,523 - TPE using 101/101 trials with best loss -0.903870\n",
      "  0%|          | 102/100000 [03:20<49:25:30,  1.78s/trial, best loss: -0.9038700000000001]2023-04-04 16:55:31,226 - build_posterior_wrapper took 0.016339 seconds\n",
      "2023-04-04 16:55:31,229 - TPE using 102/102 trials with best loss -0.903870\n",
      "  0%|          | 103/100000 [03:22<54:43:10,  1.97s/trial, best loss: -0.9038700000000001]2023-04-04 16:55:33,641 - build_posterior_wrapper took 0.014273 seconds\n",
      "2023-04-04 16:55:33,644 - TPE using 103/103 trials with best loss -0.903870\n",
      "  0%|          | 104/100000 [03:24<52:25:37,  1.89s/trial, best loss: -0.9038700000000001]2023-04-04 16:55:35,339 - build_posterior_wrapper took 0.014414 seconds\n",
      "2023-04-04 16:55:35,341 - TPE using 104/104 trials with best loss -0.903870\n",
      "  0%|          | 105/100000 [03:25<51:03:24,  1.84s/trial, best loss: -0.9038700000000001]2023-04-04 16:55:37,062 - build_posterior_wrapper took 0.013936 seconds\n",
      "2023-04-04 16:55:37,065 - TPE using 105/105 trials with best loss -0.903870\n",
      "  0%|          | 106/100000 [03:27<50:05:19,  1.81s/trial, best loss: -0.9038700000000001]2023-04-04 16:55:38,787 - build_posterior_wrapper took 0.014726 seconds\n",
      "2023-04-04 16:55:38,790 - TPE using 106/106 trials with best loss -0.903870\n",
      "  0%|          | 107/100000 [03:29<49:12:42,  1.77s/trial, best loss: -0.9038700000000001]2023-04-04 16:55:40,487 - build_posterior_wrapper took 0.014760 seconds\n",
      "2023-04-04 16:55:40,490 - TPE using 107/107 trials with best loss -0.903870\n",
      "  0%|          | 108/100000 [03:31<48:44:13,  1.76s/trial, best loss: -0.9038700000000001]2023-04-04 16:55:42,202 - build_posterior_wrapper took 0.013816 seconds\n",
      "2023-04-04 16:55:42,205 - TPE using 108/108 trials with best loss -0.903870\n",
      "  0%|          | 109/100000 [03:33<54:18:21,  1.96s/trial, best loss: -0.9038700000000001]2023-04-04 16:55:44,629 - build_posterior_wrapper took 0.014618 seconds\n",
      "2023-04-04 16:55:44,631 - TPE using 109/109 trials with best loss -0.903870\n",
      "  0%|          | 110/100000 [03:35<52:13:23,  1.88s/trial, best loss: -0.9038700000000001]2023-04-04 16:55:46,335 - build_posterior_wrapper took 0.014541 seconds\n",
      "2023-04-04 16:55:46,338 - TPE using 110/110 trials with best loss -0.903870\n",
      "  0%|          | 111/100000 [03:36<50:55:13,  1.84s/trial, best loss: -0.9038700000000001]2023-04-04 16:55:48,061 - build_posterior_wrapper took 0.013937 seconds\n",
      "2023-04-04 16:55:48,064 - TPE using 111/111 trials with best loss -0.903870\n",
      "  0%|          | 112/100000 [03:38<49:47:45,  1.79s/trial, best loss: -0.9038700000000001]2023-04-04 16:55:49,761 - build_posterior_wrapper took 0.014313 seconds\n",
      "2023-04-04 16:55:49,764 - TPE using 112/112 trials with best loss -0.903870\n",
      "  0%|          | 113/100000 [03:40<49:11:14,  1.77s/trial, best loss: -0.9038700000000001]2023-04-04 16:55:51,486 - build_posterior_wrapper took 0.017692 seconds\n",
      "2023-04-04 16:55:51,489 - TPE using 113/113 trials with best loss -0.903870\n",
      "  0%|          | 114/100000 [03:42<54:47:20,  1.97s/trial, best loss: -0.9038700000000001]2023-04-04 16:55:53,928 - build_posterior_wrapper took 0.014161 seconds\n",
      "2023-04-04 16:55:53,931 - TPE using 114/114 trials with best loss -0.903870\n",
      "  0%|          | 115/100000 [03:44<52:33:36,  1.89s/trial, best loss: -0.9038700000000001]2023-04-04 16:55:55,639 - build_posterior_wrapper took 0.018229 seconds\n",
      "2023-04-04 16:55:55,642 - TPE using 115/115 trials with best loss -0.903870\n",
      "  0%|          | 116/100000 [03:46<50:58:33,  1.84s/trial, best loss: -0.9038700000000001]2023-04-04 16:55:57,340 - build_posterior_wrapper took 0.014602 seconds\n",
      "2023-04-04 16:55:57,343 - TPE using 116/116 trials with best loss -0.903870\n",
      "  0%|          | 117/100000 [03:47<50:02:23,  1.80s/trial, best loss: -0.9038700000000001]2023-04-04 16:55:59,064 - build_posterior_wrapper took 0.013979 seconds\n",
      "2023-04-04 16:55:59,067 - TPE using 117/117 trials with best loss -0.903870\n",
      "  0%|          | 118/100000 [03:49<49:11:56,  1.77s/trial, best loss: -0.9038700000000001]2023-04-04 16:56:00,767 - build_posterior_wrapper took 0.013914 seconds\n",
      "2023-04-04 16:56:00,769 - TPE using 118/118 trials with best loss -0.903870\n",
      "  0%|          | 119/100000 [03:52<54:37:00,  1.97s/trial, best loss: -0.9038700000000001]2023-04-04 16:56:03,191 - build_posterior_wrapper took 0.013646 seconds\n",
      "2023-04-04 16:56:03,193 - TPE using 119/119 trials with best loss -0.903870\n",
      "  0%|          | 120/100000 [03:53<52:29:16,  1.89s/trial, best loss: -0.9038700000000001]2023-04-04 16:56:04,903 - build_posterior_wrapper took 0.013663 seconds\n",
      "2023-04-04 16:56:04,906 - TPE using 120/120 trials with best loss -0.903870\n",
      "  0%|          | 121/100000 [03:55<51:13:35,  1.85s/trial, best loss: -0.9038700000000001]2023-04-04 16:56:06,644 - build_posterior_wrapper took 0.013984 seconds\n",
      "2023-04-04 16:56:06,647 - TPE using 121/121 trials with best loss -0.903870\n",
      "  0%|          | 122/100000 [03:57<50:03:08,  1.80s/trial, best loss: -0.9038700000000001]2023-04-04 16:56:08,350 - build_posterior_wrapper took 0.013739 seconds\n",
      "2023-04-04 16:56:08,352 - TPE using 122/122 trials with best loss -0.903870\n",
      "  0%|          | 123/100000 [03:58<49:13:07,  1.77s/trial, best loss: -0.9038700000000001]2023-04-04 16:56:10,053 - build_posterior_wrapper took 0.013975 seconds\n",
      "2023-04-04 16:56:10,056 - TPE using 123/123 trials with best loss -0.903870\n",
      "  0%|          | 124/100000 [04:01<54:35:46,  1.97s/trial, best loss: -0.9038700000000001]2023-04-04 16:56:12,474 - build_posterior_wrapper took 0.014351 seconds\n",
      "2023-04-04 16:56:12,477 - TPE using 124/124 trials with best loss -0.903870\n",
      "  0%|          | 125/100000 [04:02<53:55:54,  1.94s/trial, best loss: -0.9038700000000001]\n",
      "2023-04-04 16:56:15,698 - SimultaneousTuner - Hyperparameters optimization finished\n",
      "2023-04-04 16:56:15,701 - SimultaneousTuner - Return tuned graph due to the fact that obtained metric 0.904 equal or better than initial (+ 0.05% deviation) 0.847\n",
      "2023-04-04 16:56:15,702 - SimultaneousTuner - Final graph: {'depth': 3, 'length': 3, 'nodes': [rf, poly_features, scaling]}\n",
      "rf - {'n_jobs': 1, 'bootstrap': False, 'criterion': 'entropy', 'max_features': 0.07896211939956765, 'min_samples_leaf': 1, 'min_samples_split': 6}\n",
      "poly_features - {'degree': 2, 'interaction_only': True}\n",
      "scaling - {}\n",
      "2023-04-04 16:56:15,705 - SimultaneousTuner - Final metric: 0.904\n",
      "2023-04-04 16:56:15,715 - ApiComposer - Hyperparameters tuning finished\n",
      "2023-04-04 16:56:15,909 - ApiComposer - Model generation finished\n",
      "2023-04-04 16:56:16,587 - FEDOT logger - Final pipeline was fitted\n",
      "2023-04-04 16:56:16,590 - FEDOT logger - Final pipeline: {'depth': 3, 'length': 3, 'nodes': [rf, poly_features, scaling]}\n",
      "rf - {'n_jobs': -1, 'bootstrap': False, 'criterion': 'entropy', 'max_features': 0.07896211939956765, 'min_samples_leaf': 1, 'min_samples_split': 6}\n",
      "poly_features - {'degree': 2, 'interaction_only': True}\n",
      "scaling - {}\n",
      "Memory consumption for finish in main session: current 21.4 MiB, max: 22.7 MiB\n"
     ]
    }
   ],
   "source": [
    "model = industrial.fit(train_features=train_data[0],\n",
    "                       train_target=train_data[1])"
   ]
  },
  {
   "cell_type": "markdown",
   "metadata": {},
   "source": [
    "The output of the `fit` method is the trained Fedot model in the form of `pipeline` that can be used for prediction.\n",
    "\n",
    "Actually, we have access to it and are able to visualize:"
   ]
  },
  {
   "cell_type": "code",
   "execution_count": 10,
   "metadata": {},
   "outputs": [
    {
     "name": "stdout",
     "output_type": "stream",
     "text": [
      "{'depth': 3, 'length': 3, 'nodes': [rf, poly_features, scaling]}\n"
     ]
    },
    {
     "data": {
      "image/png": "[encoded data removed]",
      "text/plain": [
       "<Figure size 700x700 with 1 Axes>"
      ]
     },
     "metadata": {},
     "output_type": "display_data"
    }
   ],
   "source": [
    "print(model.current_pipeline)\n",
    "\n",
    "model.current_pipeline.show(node_size_scale=1)"
   ]
  },
  {
   "cell_type": "markdown",
   "metadata": {},
   "source": [
    "Next, we can predict the values for the test data. In the case of time series classification, the output of the model is the predicted class for each time series in the test data or the probability of belonging to each class."
   ]
  },
  {
   "cell_type": "code",
   "execution_count": 11,
   "metadata": {},
   "outputs": [
    {
     "name": "stdout",
     "output_type": "stream",
     "text": [
      "[[1]\n",
      " [2]\n",
      " [1]\n",
      " ...\n",
      " [1]\n",
      " [2]\n",
      " [2]]\n"
     ]
    }
   ],
   "source": [
    "labels = industrial.predict(test_features=test_data[0])\n",
    "\n",
    "print(labels)"
   ]
  },
  {
   "cell_type": "code",
   "execution_count": 12,
   "metadata": {},
   "outputs": [
    {
     "name": "stdout",
     "output_type": "stream",
     "text": [
      "[[0.45533333]\n",
      " [0.50383333]\n",
      " [0.424     ]\n",
      " ...\n",
      " [0.33316667]\n",
      " [0.8385    ]\n",
      " [0.77216667]]\n"
     ]
    }
   ],
   "source": [
    "probs = industrial.predict_proba(test_features=test_data[0])\n",
    "\n",
    "print(probs)"
   ]
  },
  {
   "cell_type": "markdown",
   "metadata": {},
   "source": [
    "At the end of the experiment we can obtain the desiered metric values using `get_metrics` method. Now there are five available metrics for classification task:\n",
    "- `f1`\n",
    "- `roc_auc`\n",
    "- `accuracy`\n",
    "- `precision`\n",
    "- `recall`.\n",
    "\n",
    "Let's say we want to get the `roc_auc` metric for the test data since ItalyPowerDemand dataset is binary."
   ]
  },
  {
   "cell_type": "code",
   "execution_count": 13,
   "metadata": {},
   "outputs": [
    {
     "name": "stdout",
     "output_type": "stream",
     "text": [
      "{'roc_auc': 0.752}\n"
     ]
    }
   ],
   "source": [
    "metric = industrial.get_metrics(target=test_data[1],\n",
    "                                metric_names=['roc_auc'])\n",
    "print(metric)"
   ]
  },
  {
   "cell_type": "markdown",
   "metadata": {},
   "source": [
    "Also, there is an opportunity to save metrics, predicted labels and probabilities to the csv file:"
   ]
  },
  {
   "cell_type": "code",
   "execution_count": 14,
   "metadata": {},
   "outputs": [
    {
     "name": "stderr",
     "output_type": "stream",
     "text": [
      "/Users/technocreep/Desktop/Working-Folder/fedot-industrial/Fedot.Industrial/core/api/utils/saver_collections.py:32: FutureWarning: In a future version, passing float-dtype values and an integer dtype to DataFrame will retain floating dtype if they cannot be cast losslessly (matching Series behavior). To retain the old behavior, use DataFrame(data).astype(dtype)\n",
      "  df = pd.DataFrame(label_data, dtype=int)\n"
     ]
    }
   ],
   "source": [
    "for pred in [labels, probs]:\n",
    "    industrial.save_predict(predicted_data=pred)\n",
    "\n",
    "industrial.save_metrics(metrics=metric)"
   ]
  }
 ],
 "metadata": {
  "kernelspec": {
   "display_name": "Python 3 (ipykernel)",
   "language": "python",
   "name": "python3"
  },
  "language_info": {
   "codemirror_mode": {
    "name": "ipython",
    "version": 3
   },
   "file_extension": ".py",
   "mimetype": "text/x-python",
   "name": "python",
   "nbconvert_exporter": "python",
   "pygments_lexer": "ipython3",
   "version": "3.8.1"
  }
 },
 "nbformat": 4,
 "nbformat_minor": 1
}
