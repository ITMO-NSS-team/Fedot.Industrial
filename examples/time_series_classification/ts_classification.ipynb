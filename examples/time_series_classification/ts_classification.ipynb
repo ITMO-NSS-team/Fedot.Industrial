{
 "cells": [
  {
   "cell_type": "markdown",
   "metadata": {},
   "source": [
    "In this example we will consider the mechanism of interaction with API of FEDOT.Industrial framework to solve the problem of time series classification\n",
    "\n",
    "First of all, it is necessary to import the base class FedotIndustrial and determine the parameters of the experiment"
   ]
  },
  {
   "cell_type": "code",
   "execution_count": 1,
   "metadata": {
    "ExecuteTime": {
     "end_time": "2023-07-27T15:03:03.759197Z",
     "start_time": "2023-07-27T15:02:55.617996Z"
    }
   },
   "outputs": [],
   "source": [
    "from fedot_ind.core.architecture.preprocessing.DatasetLoader import DataLoader\n",
    "from fedot_ind.api.main import FedotIndustrial"
   ]
  },
  {
   "cell_type": "markdown",
   "metadata": {},
   "source": [
    "The parameters of the experiment are:"
   ]
  },
  {
   "cell_type": "code",
   "execution_count": 14,
   "metadata": {
    "ExecuteTime": {
     "end_time": "2023-07-27T16:09:23.789316Z",
     "start_time": "2023-07-27T16:09:23.766348Z"
    }
   },
   "outputs": [
    {
     "name": "stdout",
     "output_type": "stream",
     "text": [
      "2023-07-27 18:09:23,765 - Initialising experiment setup\n",
      "2023-07-27 18:09:23,767 - Experiment setup:\n",
      "2023-07-27 18:09:23,768 - task - ts_classification\n",
      "2023-07-27 18:09:23,769 - dataset - ItalyPowerDemand\n",
      "2023-07-27 18:09:23,770 - strategy - quantile\n",
      "2023-07-27 18:09:23,771 - use_cache - False\n",
      "2023-07-27 18:09:23,772 - Initialising solver\n",
      "2023-07-27 18:09:23,774 - TimeSeriesClassifier initialised\n"
     ]
    }
   ],
   "source": [
    "industrial = FedotIndustrial(task='ts_classification',\n",
    "                             dataset='ItalyPowerDemand',\n",
    "                             strategy='quantile',\n",
    "                             use_cache=False,\n",
    "                             timeout=15,\n",
    "                             n_jobs=2,\n",
    "                             logging_level=20)"
   ]
  },
  {
   "cell_type": "markdown",
   "metadata": {},
   "source": [
    "Now we must download the dataset. It could be done by using `DataReader` class that implemented as attribute of `FedotIndustrial` class. This class firstly tries to read the data from local project folder `data` and then if it is not possible, it downloads the data from the UCR/UEA archive. The data will be saved in the `data` folder."
   ]
  },
  {
   "cell_type": "code",
   "execution_count": 15,
   "metadata": {
    "ExecuteTime": {
     "end_time": "2023-07-27T16:09:24.883511Z",
     "start_time": "2023-07-27T16:09:24.718137Z"
    }
   },
   "outputs": [
    {
     "name": "stdout",
     "output_type": "stream",
     "text": [
      "2023-07-27 18:09:24,715 - Reading data from /Users/technocreep/Desktop/Working-Folder/fedot-industrial/Fedot.Industrial/data/ECG5000\n",
      "2023-07-27 18:09:24,877 - Data readed successfully from local folder\n"
     ]
    }
   ],
   "source": [
    "train_data, test_data = DataLoader(dataset_name='ECG5000').load_data()"
   ]
  },
  {
   "cell_type": "markdown",
   "metadata": {},
   "source": [
    "Next steps are quite straightforward. We need to fit the model and then predict the values for the test data just like for any other model in sklearn.\n",
    "\n",
    "At the `fit` stage FedotIndustrial will transform initial time series data into features dataframe and will train Fedot classification model."
   ]
  },
  {
   "cell_type": "code",
   "execution_count": 16,
   "metadata": {
    "ExecuteTime": {
     "end_time": "2023-07-27T16:28:49.556066Z",
     "start_time": "2023-07-27T16:09:25.533213Z"
    }
   },
   "outputs": [
    {
     "name": "stdout",
     "output_type": "stream",
     "text": [
      "2023-07-27 18:09:25,530 - Fitting model\n",
      "2023-07-27 18:09:32,093 - AssumptionsHandler - Initial pipeline fitting started\n",
      "2023-07-27 18:09:33,149 - AssumptionsHandler - Initial pipeline was fitted successfully\n",
      "2023-07-27 18:09:33,151 - AssumptionsHandler - Memory consumption for fitting of the initial pipeline in main session: current 0.4 MiB, max: 1.0 MiB\n",
      "2023-07-27 18:09:33,153 - ApiComposer - Initial pipeline was fitted in 1.1 sec.\n",
      "2023-07-27 18:09:33,156 - AssumptionsHandler - Preset was changed to best_quality due to fit time estimation for initial model.\n",
      "2023-07-27 18:09:33,168 - ApiComposer - AutoML configured. Parameters tuning: False. Time limit: 15 min. Set of candidate models: ['poly_features', 'scaling', 'logit', 'knn', 'mlp', 'lgbm', 'normalization', 'fast_ica', 'qda', 'rf', 'bernb', 'dt', 'pca', 'isolation_forest_class', 'resample'].\n",
      "2023-07-27 18:09:33,173 - ApiComposer - Pipeline composition started.\n",
      "2023-07-27 18:09:33,176 - DataSourceSplitter - K-folds cross validation is applied.\n"
     ]
    },
    {
     "name": "stderr",
     "output_type": "stream",
     "text": [
      "Generations:   0%|          | 1/10000 [00:00<?, ?gen/s]"
     ]
    },
    {
     "name": "stdout",
     "output_type": "stream",
     "text": [
      "2023-07-27 18:09:33,181 - MultiprocessingDispatcher - Number of used CPU's: 2\n",
      "2023-07-27 18:09:48,762 - MultiprocessingDispatcher - 3 individuals out of 3 in previous population were evaluated successfully.\n",
      "2023-07-27 18:09:48,772 - EvoGraphOptimizer - Generation num: 1 size: 3\n",
      "2023-07-27 18:09:48,775 - EvoGraphOptimizer - Best individuals: HallOfFame archive fitness (1): ['<roc_auc_pen=-0.939 node_number=0.200>']\n",
      "2023-07-27 18:09:55,692 - MultiprocessingDispatcher - Number of used CPU's: 2\n",
      "2023-07-27 18:09:55,708 - PipelineObjectiveEvaluate - Unsuccessful pipeline fit during fitness evaluation. Skipping the pipeline. Exception <Input X contains infinity or a value too large for dtype('float32').> on (/n_isolation_forest_class;)/n_rf_{'n_jobs': 1}\n",
      "2023-07-27 18:09:56,667 - PipelineObjectiveEvaluate - Unsuccessful pipeline fit during fitness evaluation. Skipping the pipeline. Exception <Input X contains infinity or a value too large for dtype('float32').> on /n_rf_{'n_jobs': 1}\n",
      "2023-07-27 18:10:02,843 - PipelineObjectiveEvaluate - Unsuccessful pipeline fit during fitness evaluation. Skipping the pipeline. Exception <Input X contains infinity or a value too large for dtype('float32').> on (/n_poly_features;;/n_scaling;)/n_rf_{'n_jobs': 1}\n",
      "2023-07-27 18:11:55,536 - MultiprocessingDispatcher - 18 individuals out of 21 in previous population were evaluated successfully.\n",
      "2023-07-27 18:11:55,584 - EvoGraphOptimizer - Generation num: 2 size: 18\n",
      "2023-07-27 18:11:55,589 - EvoGraphOptimizer - Best individuals: HallOfFame archive fitness (1): ['<roc_auc_pen=-0.939 node_number=0.200>']\n",
      "2023-07-27 18:11:55,592 - EvoGraphOptimizer - no improvements for 1 iterations\n",
      "2023-07-27 18:11:55,595 - EvoGraphOptimizer - spent time: 2.4 min\n",
      "2023-07-27 18:11:55,598 - EvoGraphOptimizer - Next population size: 34; max graph depth: 10\n",
      "2023-07-27 18:12:03,344 - MultiprocessingDispatcher - Number of used CPU's: 2\n",
      "2023-07-27 18:12:11,904 - MultiprocessingDispatcher - 18 individuals out of 18 in previous population were evaluated successfully.\n",
      "2023-07-27 18:12:12,006 - EvoGraphOptimizer - Generation num: 3 size: 34\n",
      "2023-07-27 18:12:12,010 - EvoGraphOptimizer - Best individuals: HallOfFame archive fitness (1): ['<roc_auc_pen=-0.939 node_number=0.200>']\n",
      "2023-07-27 18:12:12,012 - EvoGraphOptimizer - no improvements for 2 iterations\n",
      "2023-07-27 18:12:12,015 - EvoGraphOptimizer - spent time: 2.6 min\n",
      "2023-07-27 18:12:12,017 - EvoGraphOptimizer - Next population size: 55; max graph depth: 10\n",
      "2023-07-27 18:12:16,175 - MultiprocessingDispatcher - Number of used CPU's: 2\n",
      "2023-07-27 18:12:21,714 - MultiprocessingDispatcher - 32 individuals out of 32 in previous population were evaluated successfully.\n",
      "2023-07-27 18:12:21,872 - EvoGraphOptimizer - Generation num: 4 size: 55\n",
      "2023-07-27 18:12:21,875 - EvoGraphOptimizer - Best individuals: HallOfFame archive fitness (1): ['<roc_auc_pen=-0.939 node_number=0.200>']\n",
      "2023-07-27 18:12:21,878 - EvoGraphOptimizer - no improvements for 3 iterations\n",
      "2023-07-27 18:12:21,880 - EvoGraphOptimizer - spent time: 2.8 min\n",
      "2023-07-27 18:12:21,884 - EvoGraphOptimizer - Next population size: 55; max graph depth: 10\n",
      "2023-07-27 18:12:25,818 - MultiprocessingDispatcher - Number of used CPU's: 2\n",
      "2023-07-27 18:12:26,687 - PipelineObjectiveEvaluate - Unsuccessful pipeline fit during fitness evaluation. Skipping the pipeline. Exception <Input X contains infinity or a value too large for dtype('float32').> on (/n_isolation_forest_class;)/n_rf_{'n_jobs': 1, 'criterion': 'gini', 'max_features': 0.8478920089411052, 'min_samples_split': 5, 'min_samples_leaf': 8, 'bootstrap': False}\n",
      "2023-07-27 18:12:35,462 - PipelineObjectiveEvaluate - Unsuccessful pipeline fit during fitness evaluation. Skipping the pipeline. Exception <Input X contains infinity or a value too large for dtype('float32').> on ((/n_isolation_forest_class;;/n_pca_{'svd_solver': 'full', 'n_components': 0.7};;/n_resample_{'balance': 'expand_minority', 'replace': False, 'balance_ratio': 1};)/n_scaling;)/n_rf_{'n_jobs': 1, 'criterion': 'gini', 'max_features': 0.8478920089411052, 'min_samples_split': 5, 'min_samples_leaf': 8, 'bootstrap': False}\n",
      "2023-07-27 18:12:37,620 - PipelineObjectiveEvaluate - Unsuccessful pipeline fit during fitness evaluation. Skipping the pipeline. Exception <Input X contains infinity or a value too large for dtype('float32').> on ((/n_isolation_forest_class;)/n_scaling;)/n_logit_{'C': 8.025420880239098}\n",
      "2023-07-27 18:12:41,987 - PipelineObjectiveEvaluate - Unsuccessful pipeline fit during fitness evaluation. Skipping the pipeline. Exception <Input X contains infinity or a value too large for dtype('float32').> on (/n_isolation_forest_class;)/n_logit\n",
      "2023-07-27 18:12:43,155 - PipelineObjectiveEvaluate - Unsuccessful pipeline fit during fitness evaluation. Skipping the pipeline. Exception <Input X contains infinity or a value too large for dtype('float32').> on (/n_isolation_forest_class;;/n_scaling;)/n_knn\n",
      "2023-07-27 18:12:43,715 - MultiprocessingDispatcher - 49 individuals out of 54 in previous population were evaluated successfully.\n",
      "2023-07-27 18:12:43,856 - EvoGraphOptimizer - Generation num: 5 size: 55\n",
      "2023-07-27 18:12:43,858 - EvoGraphOptimizer - Best individuals: HallOfFame archive fitness (1): ['<roc_auc_pen=-0.939 node_number=0.300>']\n",
      "2023-07-27 18:12:43,860 - EvoGraphOptimizer - Next population size: 55; max graph depth: 10\n",
      "2023-07-27 18:12:54,253 - MultiprocessingDispatcher - Number of used CPU's: 2\n",
      "2023-07-27 18:12:55,996 - PipelineObjectiveEvaluate - Unsuccessful pipeline fit during fitness evaluation. Skipping the pipeline. Exception <y has only 1 sample in class 5, covariance is ill defined.> on ((/n_scaling;)/n_scaling;)/n_qda\n",
      "2023-07-27 18:12:59,168 - PipelineObjectiveEvaluate - Unsuccessful pipeline fit during fitness evaluation. Skipping the pipeline. Exception <Input X contains infinity or a value too large for dtype('float32').> on (/n_pca_{'svd_solver': 'full', 'n_components': 0.7};)/n_rf_{'n_jobs': 1, 'criterion': 'gini', 'max_features': 0.8478920089411052, 'min_samples_split': 5, 'min_samples_leaf': 8, 'bootstrap': False}\n",
      "2023-07-27 18:13:13,573 - PipelineObjectiveEvaluate - Unsuccessful pipeline fit during fitness evaluation. Skipping the pipeline. Exception <Input X contains infinity or a value too large for dtype('float32').> on (/n_poly_features;)/n_rf_{'n_jobs': 1}\n",
      "2023-07-27 18:13:14,015 - MultiprocessingDispatcher - 51 individuals out of 54 in previous population were evaluated successfully.\n",
      "2023-07-27 18:13:14,169 - EvoGraphOptimizer - Generation num: 6 size: 55\n",
      "2023-07-27 18:13:14,171 - EvoGraphOptimizer - Best individuals: HallOfFame archive fitness (1): ['<roc_auc_pen=-0.939 node_number=0.300>']\n",
      "2023-07-27 18:13:14,173 - EvoGraphOptimizer - no improvements for 1 iterations\n",
      "2023-07-27 18:13:14,175 - EvoGraphOptimizer - spent time: 3.7 min\n",
      "2023-07-27 18:13:14,177 - EvoGraphOptimizer - Next population size: 55; max graph depth: 10\n",
      "2023-07-27 18:13:20,182 - MultiprocessingDispatcher - Number of used CPU's: 2\n",
      "2023-07-27 18:13:20,215 - PipelineObjectiveEvaluate - Unsuccessful pipeline fit during fitness evaluation. Skipping the pipeline. Exception <Input X contains infinity or a value too large for dtype('float32').> on ((/n_scaling;)/n_scaling;;/n_normalization;;/n_pca_{'svd_solver': 'full', 'n_components': 0.7};;/n_poly_features;)/n_rf_{'n_jobs': 1}\n",
      "2023-07-27 18:13:27,376 - PipelineObjectiveEvaluate - Unsuccessful pipeline fit during fitness evaluation. Skipping the pipeline. Exception <Input X contains infinity or a value too large for dtype('float32').> on /n_rf_{'n_jobs': 1}\n",
      "2023-07-27 18:13:37,349 - PipelineObjectiveEvaluate - Unsuccessful pipeline fit during fitness evaluation. Skipping the pipeline. Exception <Input X contains infinity or a value too large for dtype('float32').> on /n_rf_{'n_jobs': 1}\n",
      "2023-07-27 18:13:59,800 - PipelineObjectiveEvaluate - Unsuccessful pipeline fit during fitness evaluation. Skipping the pipeline. Exception <y has only 1 sample in class 5, covariance is ill defined.> on ((/n_scaling;)/n_rf_{'n_jobs': 1};)/n_qda\n",
      "2023-07-27 18:14:19,035 - PipelineObjectiveEvaluate - Unsuccessful pipeline fit during fitness evaluation. Skipping the pipeline. Exception <Input X contains infinity or a value too large for dtype('float32').> on /n_rf_{'n_jobs': 1}\n",
      "2023-07-27 18:16:05,226 - PipelineObjectiveEvaluate - Unsuccessful pipeline fit during fitness evaluation. Skipping the pipeline. Exception <y has only 1 sample in class 5, covariance is ill defined.> on ((/n_scaling;)/n_scaling;)/n_qda\n",
      "2023-07-27 18:21:15,082 - MultiprocessingDispatcher - 48 individuals out of 54 in previous population were evaluated successfully.\n",
      "2023-07-27 18:21:15,248 - EvoGraphOptimizer - Generation num: 7 size: 55\n",
      "2023-07-27 18:21:15,250 - EvoGraphOptimizer - Best individuals: HallOfFame archive fitness (1): ['<roc_auc_pen=-0.944 node_number=0.100>']\n",
      "2023-07-27 18:21:15,252 - EvoGraphOptimizer - Next population size: 34; max graph depth: 10\n",
      "2023-07-27 18:21:16,405 - MultiprocessingDispatcher - Number of used CPU's: 2\n",
      "2023-07-27 18:22:01,022 - PipelineObjectiveEvaluate - Unsuccessful pipeline fit during fitness evaluation. Skipping the pipeline. Exception <Input X contains infinity or a value too large for dtype('float32').> on /n_rf_{'n_jobs': 1}\n",
      "2023-07-27 18:22:02,814 - PipelineObjectiveEvaluate - Unsuccessful pipeline fit during fitness evaluation. Skipping the pipeline. Exception <Input X contains infinity or a value too large for dtype('float32').> on (/n_poly_features;)/n_rf_{'n_jobs': 1}\n",
      "2023-07-27 18:22:04,716 - PipelineObjectiveEvaluate - Unsuccessful pipeline fit during fitness evaluation. Skipping the pipeline. Exception <Input X contains infinity or a value too large for dtype('float32').> on (((/n_fast_ica_{'whiten': 'unit-variance'};;/n_isolation_forest_class;;/n_normalization;)/n_scaling;)/n_poly_features;)/n_rf_{'n_jobs': 1}\n",
      "2023-07-27 18:22:06,613 - PipelineObjectiveEvaluate - Unsuccessful pipeline fit during fitness evaluation. Skipping the pipeline. Exception <Input X contains infinity or a value too large for dtype('float32').> on (/n_resample_{'balance': 'expand_minority', 'replace': False, 'balance_ratio': 1};)/n_rf_{'n_jobs': 1}\n",
      "2023-07-27 18:22:06,859 - PipelineObjectiveEvaluate - Unsuccessful pipeline fit during fitness evaluation. Skipping the pipeline. Exception <Input X contains infinity or a value too large for dtype('float32').> on /n_rf_{'n_jobs': 1}\n",
      "2023-07-27 18:22:07,178 - PipelineObjectiveEvaluate - Unsuccessful pipeline fit during fitness evaluation. Skipping the pipeline. Exception <Input X contains infinity or a value too large for dtype('float32').> on /n_rf_{'n_jobs': 1}\n",
      "2023-07-27 18:22:09,471 - PipelineObjectiveEvaluate - Unsuccessful pipeline fit during fitness evaluation. Skipping the pipeline. Exception <Input X contains infinity or a value too large for dtype('float32').> on (/n_pca_{'svd_solver': 'full', 'n_components': 0.7};)/n_rf_{'n_jobs': 1}\n",
      "2023-07-27 18:22:17,940 - MultiprocessingDispatcher - 27 individuals out of 34 in previous population were evaluated successfully.\n",
      "2023-07-27 18:22:18,049 - EvoGraphOptimizer - Generation num: 8 size: 34\n",
      "2023-07-27 18:22:18,051 - EvoGraphOptimizer - Best individuals: HallOfFame archive fitness (1): ['<roc_auc_pen=-0.945 node_number=0.100>']\n",
      "2023-07-27 18:22:18,053 - EvoGraphOptimizer - Next population size: 34; max graph depth: 10\n",
      "2023-07-27 18:22:19,140 - MultiprocessingDispatcher - Number of used CPU's: 2\n",
      "2023-07-27 18:22:19,157 - PipelineObjectiveEvaluate - Unsuccessful pipeline fit during fitness evaluation. Skipping the pipeline. Exception <Input X contains infinity or a value too large for dtype('float32').> on (/n_poly_features;)/n_rf_{'n_jobs': 1}\n",
      "2023-07-27 18:22:19,410 - PipelineObjectiveEvaluate - Unsuccessful pipeline fit during fitness evaluation. Skipping the pipeline. Exception <y has only 1 sample in class 5, covariance is ill defined.> on ((/n_scaling;)/n_rf_{'n_jobs': 1};)/n_qda\n",
      "2023-07-27 18:22:19,628 - PipelineObjectiveEvaluate - Unsuccessful pipeline fit during fitness evaluation. Skipping the pipeline. Exception <Input X contains infinity or a value too large for dtype('float32').> on /n_rf_{'n_jobs': 1}\n",
      "2023-07-27 18:22:20,089 - PipelineObjectiveEvaluate - Unsuccessful pipeline fit during fitness evaluation. Skipping the pipeline. Exception <y has only 1 sample in class 5, covariance is ill defined.> on ((/n_scaling;)/n_dt;)/n_qda\n",
      "2023-07-27 18:22:22,009 - PipelineObjectiveEvaluate - Unsuccessful pipeline fit during fitness evaluation. Skipping the pipeline. Exception <y has only 1 sample in class 5, covariance is ill defined.> on (/n_scaling;)/n_qda\n",
      "2023-07-27 18:28:41,671 - MultiprocessingDispatcher - 27 individuals out of 32 in previous population were evaluated successfully.\n",
      "2023-07-27 18:28:41,773 - EvoGraphOptimizer - Generation num: 9 size: 34\n",
      "2023-07-27 18:28:41,776 - EvoGraphOptimizer - Best individuals: HallOfFame archive fitness (1): ['<roc_auc_pen=-0.945 node_number=0.100>']\n",
      "2023-07-27 18:28:41,779 - EvoGraphOptimizer - no improvements for 1 iterations\n",
      "2023-07-27 18:28:41,782 - EvoGraphOptimizer - spent time: 19.1 min\n",
      "2023-07-27 18:28:41,785 - GroupedCondition - Optimisation stopped: Time limit is reached\n"
     ]
    },
    {
     "name": "stderr",
     "output_type": "stream",
     "text": [
      "Generations:   0%|          | 1/10000 [19:08<?, ?gen/s]"
     ]
    },
    {
     "name": "stdout",
     "output_type": "stream",
     "text": [
      "2023-07-27 18:28:41,789 - OptimisationTimer - Composition time: 19.144 min\n",
      "2023-07-27 18:28:41,793 - OptimisationTimer - Algorithm was terminated due to processing time limit\n",
      "2023-07-27 18:28:41,803 - EvoGraphOptimizer - Generation num: 10 size: 1\n",
      "2023-07-27 18:28:41,805 - EvoGraphOptimizer - Best individuals: HallOfFame archive fitness (1): ['<roc_auc_pen=-0.945 node_number=0.100>']\n",
      "2023-07-27 18:28:41,808 - EvoGraphOptimizer - no improvements for 2 iterations\n",
      "2023-07-27 18:28:41,812 - EvoGraphOptimizer - spent time: 19.1 min\n",
      "2023-07-27 18:28:41,819 - GPComposer - GP composition finished\n",
      "2023-07-27 18:28:42,065 - ApiComposer - Model generation finished\n"
     ]
    },
    {
     "name": "stderr",
     "output_type": "stream",
     "text": [
      "\n"
     ]
    },
    {
     "name": "stdout",
     "output_type": "stream",
     "text": [
      "2023-07-27 18:28:49,499 - FEDOT logger - Final pipeline was fitted\n",
      "2023-07-27 18:28:49,502 - FEDOT logger - Final pipeline: {'depth': 1, 'length': 1, 'nodes': [catboost]}\n",
      "catboost - {'allow_writing_files': False, 'verbose': False, 'max_depth': 8, 'learning_rate': 0.0721852287559151, 'min_data_in_leaf': 28.0, 'border_count': 62, 'l2_leaf_reg': 1.1440937570682182e-05}\n",
      "2023-07-27 18:28:49,504 - MemoryAnalytics - Memory consumption for finish in main session: current 1.2 MiB, max: 2.2 MiB\n",
      "2023-07-27 18:28:49,516 - Solver fitted: quantile_extractor -> fedot_pipeline ({'depth': 1, 'length': 1, 'nodes': [catboost]})\n"
     ]
    }
   ],
   "source": [
    "model = industrial.fit(features=train_data[0],\n",
    "                       target=train_data[1])"
   ]
  },
  {
   "cell_type": "markdown",
   "metadata": {},
   "source": [
    "The output of the `fit` method is the trained Fedot model in the form of `pipeline` that can be used for prediction.\n",
    "\n",
    "Actually, we have access to it and are able to visualize:"
   ]
  },
  {
   "cell_type": "code",
   "execution_count": 17,
   "metadata": {
    "ExecuteTime": {
     "end_time": "2023-07-27T16:28:49.730545Z",
     "start_time": "2023-07-27T16:28:49.544883Z"
    }
   },
   "outputs": [
    {
     "name": "stdout",
     "output_type": "stream",
     "text": [
      "{'depth': 1, 'length': 1, 'nodes': [catboost]}\n"
     ]
    },
    {
     "data": {
      "text/plain": "<Figure size 700x700 with 1 Axes>",
      "image/png": "[encoded data removed]"
     },
     "metadata": {},
     "output_type": "display_data"
    }
   ],
   "source": [
    "print(model.current_pipeline)\n",
    "\n",
    "model.current_pipeline.show(node_size_scale=1)"
   ]
  },
  {
   "cell_type": "markdown",
   "metadata": {},
   "source": [
    "Next, we can predict the values for the test data. In the case of time series classification, the output of the model is the predicted class for each time series in the test data or the probability of belonging to each class."
   ]
  },
  {
   "cell_type": "code",
   "execution_count": 18,
   "metadata": {
    "ExecuteTime": {
     "end_time": "2023-07-27T16:29:39.544810Z",
     "start_time": "2023-07-27T16:28:49.733600Z"
    }
   },
   "outputs": [
    {
     "name": "stdout",
     "output_type": "stream",
     "text": [
      "2023-07-27 18:28:49,730 - Predicting with quantile generator\n",
      "[[1]\n",
      " [1]\n",
      " [1]\n",
      " ...\n",
      " [2]\n",
      " [2]\n",
      " [4]]\n"
     ]
    }
   ],
   "source": [
    "labels = industrial.predict(features=test_data[0])\n",
    "\n",
    "print(labels)"
   ]
  },
  {
   "cell_type": "code",
   "execution_count": 19,
   "metadata": {
    "ExecuteTime": {
     "end_time": "2023-07-27T16:30:28.680503Z",
     "start_time": "2023-07-27T16:29:39.550575Z"
    }
   },
   "outputs": [
    {
     "name": "stdout",
     "output_type": "stream",
     "text": [
      "2023-07-27 18:29:39,547 - Predicting with quantile generator\n",
      "[[9.99999979e-01 4.52913547e-09 1.37947518e-08 1.21006395e-09\n",
      "  1.10984978e-09]\n",
      " [1.00000000e+00 2.28019011e-11 5.25537647e-11 2.38789245e-10\n",
      "  3.91549344e-11]\n",
      " [9.99999983e-01 1.02320415e-08 7.23849309e-10 5.50606589e-09\n",
      "  6.64328762e-10]\n",
      " ...\n",
      " [3.41585910e-09 9.99999010e-01 3.60650414e-09 9.78457988e-07\n",
      "  4.32197675e-09]\n",
      " [1.17373208e-09 9.99999680e-01 8.19526700e-10 3.17568428e-07\n",
      "  8.33180984e-10]\n",
      " [3.77805304e-06 2.43269118e-07 5.72845944e-09 9.99995964e-01\n",
      "  9.28216885e-09]]\n"
     ]
    }
   ],
   "source": [
    "probs = industrial.predict_proba(features=test_data[0])\n",
    "\n",
    "print(probs)"
   ]
  },
  {
   "cell_type": "markdown",
   "metadata": {},
   "source": [
    "At the end of the experiment we can obtain the desired metric values using `get_metrics` method. Now there are five available metrics for classification task:\n",
    "- `f1`\n",
    "- `roc_auc`\n",
    "- `accuracy`\n",
    "- `precision`\n",
    "- `recall`.\n",
    "\n",
    "Let's say we want to get the `f1` metric for the test data since ItalyPowerDemand dataset is multi-class."
   ]
  },
  {
   "cell_type": "code",
   "execution_count": 20,
   "metadata": {
    "ExecuteTime": {
     "end_time": "2023-07-27T16:30:28.727847Z",
     "start_time": "2023-07-27T16:30:28.683387Z"
    }
   },
   "outputs": [
    {
     "name": "stdout",
     "output_type": "stream",
     "text": [
      "2023-07-27 18:30:28,681 - Calculating metrics: ['f1']\n",
      "2023-07-27 18:30:28,693 - Metrics are: {'f1': 0.01}\n",
      "{'f1': 0.01}\n"
     ]
    }
   ],
   "source": [
    "metric = industrial.get_metrics(target=test_data[1],\n",
    "                                metric_names=['f1'])\n",
    "print(metric)"
   ]
  },
  {
   "cell_type": "markdown",
   "metadata": {},
   "source": [
    "Also, there is an opportunity to save metrics, predicted labels and probabilities to the csv file:"
   ]
  },
  {
   "cell_type": "code",
   "execution_count": 21,
   "metadata": {
    "ExecuteTime": {
     "end_time": "2023-07-27T16:30:28.747540Z",
     "start_time": "2023-07-27T16:30:28.701638Z"
    }
   },
   "outputs": [
    {
     "name": "stdout",
     "output_type": "stream",
     "text": [
      "2023-07-27 18:30:28,699 - Saving predicted None to /Users/technocreep/Desktop/Working-Folder/fedot-industrial/Fedot.Industrial/results_of_experiments/quantile/ItalyPowerDemand\n",
      "2023-07-27 18:30:28,701 - Can not save None type to /Users/technocreep/Desktop/Working-Folder/fedot-industrial/Fedot.Industrial/results_of_experiments/quantile/ItalyPowerDemand\n",
      "2023-07-27 18:30:28,702 - Saving predicted None to /Users/technocreep/Desktop/Working-Folder/fedot-industrial/Fedot.Industrial/results_of_experiments/quantile/ItalyPowerDemand\n",
      "2023-07-27 18:30:28,704 - Can not save None type to /Users/technocreep/Desktop/Working-Folder/fedot-industrial/Fedot.Industrial/results_of_experiments/quantile/ItalyPowerDemand\n",
      "2023-07-27 18:30:28,705 - Saving predicted metrics to /Users/technocreep/Desktop/Working-Folder/fedot-industrial/Fedot.Industrial/results_of_experiments/quantile/ItalyPowerDemand\n"
     ]
    }
   ],
   "source": [
    "for pred in [labels, probs]:\n",
    "    industrial.save_predict(predicted_data=pred)\n",
    "\n",
    "industrial.save_metrics(metrics=metric)"
   ]
  },
  {
   "cell_type": "code",
   "execution_count": null,
   "outputs": [],
   "source": [],
   "metadata": {
    "collapsed": false
   }
  }
 ],
 "metadata": {
  "kernelspec": {
   "display_name": "Python 3 (ipykernel)",
   "language": "python",
   "name": "python3"
  },
  "language_info": {
   "codemirror_mode": {
    "name": "ipython",
    "version": 3
   },
   "file_extension": ".py",
   "mimetype": "text/x-python",
   "name": "python",
   "nbconvert_exporter": "python",
   "pygments_lexer": "ipython3",
   "version": "3.8.1"
  }
 },
 "nbformat": 4,
 "nbformat_minor": 1
}
