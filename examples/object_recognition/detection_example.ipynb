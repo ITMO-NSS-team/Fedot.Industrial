{
 "cells": [
  {
   "cell_type": "code",
   "execution_count": 1,
   "outputs": [],
   "source": [
    "import sys\n",
    "\n",
    "sys.path.append('../..')"
   ],
   "metadata": {
    "collapsed": false,
    "ExecuteTime": {
     "start_time": "2023-04-21T14:14:28.147728Z",
     "end_time": "2023-04-21T14:14:28.148471Z"
    }
   }
  },
  {
   "cell_type": "markdown",
   "source": [
    "1) Prepare the dataset in the pytorch Dataset format.\n",
    "For example like this with COCO annotation format:"
   ],
   "metadata": {
    "collapsed": false
   }
  },
  {
   "cell_type": "code",
   "execution_count": null,
   "outputs": [],
   "source": [
    "from torchvision.transforms import ToTensor\n",
    "\n",
    "from fedot_ind.core.architecture.datasets.object_detection_datasets import COCODataset\n",
    "\n",
    "train_dataset_path = '' # your path to train part of dataset\n",
    "val_dataset_path = '' # your path to validation part of dataset\n",
    "train_json_path = '' # your path to train annotations of dataset\n",
    "val_json_path = '' # your path to validation annotations of dataset\n",
    "\n",
    "transform = ToTensor()\n",
    "train_dataset = COCODataset(images_path=train_dataset_path, json_path=train_json_path, transform=transform)\n",
    "val_dataset = COCODataset(images_path=val_dataset_path, json_path=val_json_path, transform=transform)"
   ],
   "metadata": {
    "collapsed": false,
    "pycharm": {
     "is_executing": true
    }
   }
  },
  {
   "cell_type": "markdown",
   "source": [
    "2) Model initialization."
   ],
   "metadata": {
    "collapsed": false
   }
  },
  {
   "cell_type": "code",
   "execution_count": 4,
   "outputs": [],
   "source": [
    "from fedot_ind.core.architecture.experiment.nn_experimenter import ObjectDetectionExperimenter\n",
    "from torchvision.models.detection import ssdlite320_mobilenet_v3_large\n",
    "\n",
    "experimenter = ObjectDetectionExperimenter(\n",
    "    model=ssdlite320_mobilenet_v3_large(num_classes = len(train_dataset.classes) + 1)\n",
    ")"
   ],
   "metadata": {
    "collapsed": false
   }
  },
  {
   "cell_type": "markdown",
   "source": [
    "3) Fit parameters."
   ],
   "metadata": {
    "collapsed": false
   }
  },
  {
   "cell_type": "code",
   "execution_count": 5,
   "outputs": [],
   "source": [
    "from torch.utils.data import DataLoader\n",
    "from torch.optim.lr_scheduler import StepLR\n",
    "from fedot_ind.core.architecture.experiment.nn_experimenter import FitParameters\n",
    "\n",
    "dl_params = {\n",
    "    'batch_size': 4,\n",
    "    'num_workers': 4,\n",
    "    'collate_fn': lambda x: tuple(zip(*x))\n",
    "}\n",
    "\n",
    "fit_params = FitParameters(\n",
    "    dataset_name='your dataset name',\n",
    "    train_dl=DataLoader(train_dataset, shuffle=True, **dl_params),\n",
    "    val_dl=DataLoader(val_dataset, **dl_params),\n",
    "    num_epochs=300,\n",
    "    lr_scheduler=StepLR,\n",
    "    lr_scheduler_params={'step_size': 10, 'gamma': 0.5}\n",
    ")"
   ],
   "metadata": {
    "collapsed": false
   }
  },
  {
   "cell_type": "markdown",
   "source": [
    "4) Initialization of the structure optimization (optionally)."
   ],
   "metadata": {
    "collapsed": false
   }
  },
  {
   "cell_type": "code",
   "execution_count": 6,
   "outputs": [],
   "source": [
    "from fedot_ind.core.operation.optimization.structure_optimization import SVDOptimization\n",
    "\n",
    "svd_optimization = SVDOptimization(energy_thresholds=[0.1, 0.3, 0.5, 0.7, 0.9, 0.99, 0.995, 0.999, 1])"
   ],
   "metadata": {
    "collapsed": false
   }
  },
  {
   "cell_type": "markdown",
   "source": [
    "5) Running Model Training.\n",
    "If you want to use structure optimization use ``svd_optimization.fit()`` instead of ``experimenter.fit()``"
   ],
   "metadata": {
    "collapsed": false
   }
  },
  {
   "cell_type": "code",
   "execution_count": null,
   "outputs": [],
   "source": [
    "import os\n",
    "os.environ['TF_CPP_MIN_LOG_LEVEL']='3'\n",
    "import warnings\n",
    "warnings.filterwarnings(\"ignore\")\n",
    "\n",
    "experimenter.fit(p=fit_params)\n",
    "# svd_optimization.fit(exp=experimenter, params=fit_params)"
   ],
   "metadata": {
    "collapsed": false,
    "pycharm": {
     "is_executing": true
    }
   }
  },
  {
   "cell_type": "markdown",
   "source": [
    "Now you can get predictions for all images in a folder. The method returns a dictionary {'image name': predictions}"
   ],
   "metadata": {
    "collapsed": false
   }
  },
  {
   "cell_type": "code",
   "execution_count": null,
   "outputs": [],
   "source": [
    "from core.architecture.datasets.prediction_datasets import PredictionFolderDataset\n",
    "\n",
    "prediction_dataset = PredictionFolderDataset(\n",
    "    image_folder='', # Path to your folder with images\n",
    "    transform=transform,\n",
    ")\n",
    "prediction_dl = DataLoader(prediction_dataset, **dl_params)\n",
    "preds = experimenter.predict(prediction_dl)\n",
    "preds"
   ],
   "metadata": {
    "collapsed": false
   }
  }
 ],
 "metadata": {
  "kernelspec": {
   "display_name": "Python 3",
   "language": "python",
   "name": "python3"
  },
  "language_info": {
   "codemirror_mode": {
    "name": "ipython",
    "version": 2
   },
   "file_extension": ".py",
   "mimetype": "text/x-python",
   "name": "python",
   "nbconvert_exporter": "python",
   "pygments_lexer": "ipython2",
   "version": "2.7.6"
  }
 },
 "nbformat": 4,
 "nbformat_minor": 0
}
