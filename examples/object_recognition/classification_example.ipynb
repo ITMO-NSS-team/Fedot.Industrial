{
 "cells": [
  {
   "cell_type": "code",
   "execution_count": 1,
   "outputs": [],
   "source": [
    "import sys\n",
    "\n",
    "sys.path.append('../../..')"
   ],
   "metadata": {
    "collapsed": false
   }
  },
  {
   "cell_type": "markdown",
   "source": [
    "1) Prepare the dataset in the pytorch Dataset format.\n",
    "For example like this:"
   ],
   "metadata": {
    "collapsed": false
   }
  },
  {
   "cell_type": "code",
   "execution_count": 2,
   "outputs": [],
   "source": [
    "from torchvision.transforms import Compose, ToTensor, Resize\n",
    "from torchvision.datasets import ImageFolder\n",
    "\n",
    "train_dataset_path = '' # your path to train part of dataset\n",
    "val_dataset_path = '' # your path to validation part of dataset\n",
    "\n",
    "transform = Compose([ToTensor(), Resize((256, 256))])\n",
    "train_dataset = ImageFolder(root=train_dataset_path, transform=transform)\n",
    "val_dataset = ImageFolder(root=val_dataset_path, transform=transform)"
   ],
   "metadata": {
    "collapsed": false
   }
  },
  {
   "cell_type": "markdown",
   "source": [
    "ImageFolder is a generic data loader where the images are arranged in this way by default:\n",
    "\n",
    "root/dog/xxx.png\n",
    "root/dog/xxy.png\n",
    "root/dog/[...]/xxz.png\n",
    "\n",
    "root/cat/123.png\n",
    "root/cat/nsdf3.png\n",
    "root/cat/[...]/asd932_.png"
   ],
   "metadata": {
    "collapsed": false
   }
  },
  {
   "cell_type": "markdown",
   "source": [
    "2) Model initialization."
   ],
   "metadata": {
    "collapsed": false
   }
  },
  {
   "cell_type": "code",
   "execution_count": 3,
   "outputs": [],
   "source": [
    "from torchvision.models import resnet18\n",
    "from core.architecture.experiment.nn_experimenter import ClassificationExperimenter\n",
    "\n",
    "experimenter = ClassificationExperimenter(\n",
    "    model=resnet18(num_classes=21), # Number of classes in your dataset\n",
    "    name='ResNet18'\n",
    ")"
   ],
   "metadata": {
    "collapsed": false
   }
  },
  {
   "cell_type": "markdown",
   "source": [
    "3) Fit parameters."
   ],
   "metadata": {
    "collapsed": false
   }
  },
  {
   "cell_type": "code",
   "execution_count": null,
   "outputs": [],
   "source": [
    "from torch.utils.data import DataLoader\n",
    "from core.architecture.experiment.nn_experimenter import FitParameters\n",
    "\n",
    "dl_params={'batch_size': 32, 'num_workers': 8}\n",
    "\n",
    "fit_params = FitParameters(\n",
    "    dataset_name='Land-Use_Scene_Classification',\n",
    "    train_dl=DataLoader(train_dataset, shuffle=True, **dl_params),\n",
    "    val_dl=DataLoader(val_dataset, **dl_params),\n",
    "    num_epochs=50\n",
    ")"
   ],
   "metadata": {
    "collapsed": false
   }
  },
  {
   "cell_type": "markdown",
   "source": [
    "4) Initialization of the structure optimization (optionally)."
   ],
   "metadata": {
    "collapsed": false
   }
  },
  {
   "cell_type": "code",
   "execution_count": null,
   "outputs": [],
   "source": [
    "from core.operation.optimization.structure_optimization import SVDOptimization\n",
    "\n",
    "svd_optimization = SVDOptimization(energy_thresholds=[0.1, 0.3, 0.5, 0.7, 0.9])"
   ],
   "metadata": {
    "collapsed": false
   }
  },
  {
   "cell_type": "markdown",
   "source": [
    "5) Running Model Training.\n",
    "If you want to use structure optimization use ``svd_optimization.fit()`` instead of ``experimenter.fit()``"
   ],
   "metadata": {
    "collapsed": false
   }
  },
  {
   "cell_type": "code",
   "execution_count": null,
   "outputs": [],
   "source": [
    "import os\n",
    "os.environ['TF_CPP_MIN_LOG_LEVEL']='3'\n",
    "import warnings\n",
    "warnings.filterwarnings(\"ignore\")\n",
    "\n",
    "experimenter.fit(p=fit_params)\n",
    "# svd_optimization.fit(exp=experimenter, params=fit_params)"
   ],
   "metadata": {
    "collapsed": false,
    "pycharm": {
     "is_executing": true
    }
   }
  },
  {
   "cell_type": "markdown",
   "source": [
    "Now you can get predictions for all images in a folder. The method returns a dictionary {'image_name': class}."
   ],
   "metadata": {
    "collapsed": false
   }
  },
  {
   "cell_type": "code",
   "execution_count": null,
   "outputs": [],
   "source": [
    "from core.architecture.datasets.prediction_datasets import PredictionFolderDataset\n",
    "\n",
    "prediction_dataset = PredictionFolderDataset(\n",
    "    image_folder='', # Path to your folder with images\n",
    "    transform=transform,\n",
    ")\n",
    "prediction_dl = DataLoader(prediction_dataset, **dl_params)\n",
    "preds = experimenter.predict(prediction_dl)\n",
    "preds"
   ],
   "metadata": {
    "collapsed": false
   }
  }
 ],
 "metadata": {
  "kernelspec": {
   "display_name": "Python 3",
   "language": "python",
   "name": "python3"
  },
  "language_info": {
   "codemirror_mode": {
    "name": "ipython",
    "version": 2
   },
   "file_extension": ".py",
   "mimetype": "text/x-python",
   "name": "python",
   "nbconvert_exporter": "python",
   "pygments_lexer": "ipython2",
   "version": "2.7.6"
  }
 },
 "nbformat": 4,
 "nbformat_minor": 0
}
