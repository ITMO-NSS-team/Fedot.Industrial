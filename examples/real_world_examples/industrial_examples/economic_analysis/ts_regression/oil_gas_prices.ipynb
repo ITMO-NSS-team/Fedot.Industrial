{
 "cells": [
  {
   "cell_type": "markdown",
   "source": [
    "## Predict historical prices of Brent Oil, Crude Oil WTI, Natural Gas, Heating Oil from 2000-2022 with Fedot.Industrial"
   ],
   "metadata": {
    "collapsed": false,
    "pycharm": {
     "name": "#%% md\n"
    }
   }
  },
  {
   "cell_type": "markdown",
   "source": [
    "Dataset published on Kaggle3 consists of historical prices of Brent Oil, CrudeOil WTI, Natural Gas, and Heating Oil from 2000 to 2022. This sample of DailyOilGasPrices was created by using 30 consecutive business days of **Crude Oil WTI close prices** and **traded volumes** as **predictors** and the **average natural gas close** price during each 30-day time frame as the **target** variable. The final dataset has 191 2-dimensional time series of length 30, of which 70% were randomly sampled as training data and the remaining 30% as testing data. This type of model could help companies and governments to better analyse and predict economic situations and correlations regarding oil and natural gas.\n",
    "Link to the dataset - https://www.kaggl.com/datasets/prasertk/historical-daily-oil-and-natural-gas-prices"
   ],
   "metadata": {
    "collapsed": false,
    "pycharm": {
     "name": "#%% md\n"
    }
   }
  },
  {
   "cell_type": "code",
   "execution_count": 1,
   "metadata": {
    "ExecuteTime": {
     "end_time": "2023-08-28T10:34:48.354623Z",
     "start_time": "2023-08-28T10:34:39.594404Z"
    },
    "pycharm": {
     "name": "#%%\n"
    }
   },
   "outputs": [],
   "source": [
    "import pandas as pd\n",
    "from fedot_ind.api.utils.path_lib import PROJECT_PATH"
   ]
  },
  {
   "cell_type": "code",
   "execution_count": 2,
   "outputs": [],
   "source": [
    "finetune = False\n",
    "api_config = dict(problem='regression',\n",
    "                             metric='rmse',\n",
    "                             timeout=15,\n",
    "                             n_jobs=-1,\n",
    "                             with_tuning = finetune,\n",
    "                             logging_level=20)\n",
    "metric_list = ('r2', 'rmse', 'mae')\n",
    "dataset_name = 'DailyOilGasPrices'\n",
    "data_path = PROJECT_PATH + '/examples/data'"
   ],
   "metadata": {
    "collapsed": false,
    "pycharm": {
     "name": "#%%\n"
    }
   }
  },
  {
   "cell_type": "code",
   "execution_count": 3,
   "outputs": [],
   "source": [
    "from fedot_ind.core.architecture.pipelines.abstract_pipeline import ApiTemplate\n",
    "api_client = ApiTemplate(api_config=api_config,\n",
    "                         metric_list=metric_list)"
   ],
   "metadata": {
    "collapsed": false,
    "pycharm": {
     "name": "#%%\n"
    }
   }
  },
  {
   "cell_type": "markdown",
   "source": [
    "Next steps are quite straightforward. We need to fit the model and then predict the values for the test data just like for any other model in sklearn.\n",
    "\n",
    "At the `fit` stage FedotIndustrial will transform initial time series data into features dataframe and will train regression model."
   ],
   "metadata": {
    "collapsed": false,
    "pycharm": {
     "name": "#%% md\n"
    }
   }
  },
  {
   "cell_type": "code",
   "execution_count": 4,
   "metadata": {
    "ExecuteTime": {
     "start_time": "2023-08-28T10:35:27.965798Z"
    },
    "pycharm": {
     "name": "#%%\n"
    }
   },
   "outputs": [
    {
     "name": "stdout",
     "output_type": "stream",
     "text": [
      "Creating Dask Server\n",
      "2024-07-09 15:45:55,255 - To route to workers diagnostics web server please install jupyter-server-proxy: python -m pip install jupyter-server-proxy\n",
      "2024-07-09 15:45:55,261 - State start\n",
      "2024-07-09 15:45:56,757 -   Scheduler at: inproc://10.64.4.227/32408/1\n",
      "2024-07-09 15:45:56,757 -   dashboard at:  http://10.64.4.227:63908/status\n",
      "2024-07-09 15:45:56,758 - Registering Worker plugin shuffle\n",
      "2024-07-09 15:45:58,265 -       Start worker at: inproc://10.64.4.227/32408/4\n",
      "2024-07-09 15:45:58,266 -          Listening to:          inproc10.64.4.227\n",
      "2024-07-09 15:45:58,267 -           Worker name:                          0\n",
      "2024-07-09 15:45:58,268 -          dashboard at:          10.64.4.227:63918\n",
      "2024-07-09 15:45:58,268 - Waiting to connect to: inproc://10.64.4.227/32408/1\n",
      "2024-07-09 15:45:58,269 - -------------------------------------------------\n",
      "2024-07-09 15:45:58,270 -               Threads:                          8\n",
      "2024-07-09 15:45:58,271 -                Memory:                  31.95 GiB\n",
      "2024-07-09 15:45:58,271 -       Local Directory: C:\\Users\\user\\AppData\\Local\\Temp\\dask-scratch-space\\worker-zw0lcj1l\n",
      "2024-07-09 15:45:58,272 - -------------------------------------------------\n",
      "2024-07-09 15:45:58,285 - Register worker <WorkerState 'inproc://10.64.4.227/32408/4', name: 0, status: init, memory: 0, processing: 0>\n",
      "2024-07-09 15:45:58,287 - Starting worker compute stream, inproc://10.64.4.227/32408/4\n",
      "2024-07-09 15:45:58,288 - Starting established connection to inproc://10.64.4.227/32408/5\n",
      "2024-07-09 15:45:58,289 - Starting Worker plugin shuffle\n",
      "2024-07-09 15:45:58,290 -         Registered to: inproc://10.64.4.227/32408/1\n",
      "2024-07-09 15:45:58,291 - -------------------------------------------------\n",
      "2024-07-09 15:45:58,292 - Starting established connection to inproc://10.64.4.227/32408/1\n",
      "2024-07-09 15:45:58,297 - Receive client connection: Client-30902bc0-3df1-11ef-be98-b42e99a00ea1\n",
      "2024-07-09 15:45:58,299 - Starting established connection to inproc://10.64.4.227/32408/6\n",
      "AssumptionsHandler - Initial pipeline fitting started\n",
      "AssumptionsHandler - Initial pipeline was fitted successfully\n",
      "AssumptionsHandler - Memory consumption for fitting of the initial pipeline in main session: current 1.8 MiB, max: 3.3 MiB\n",
      "ApiComposer - Initial pipeline was fitted in 9.8 sec.\n",
      "AssumptionsHandler - Preset was changed to best_quality due to fit time estimation for initial model.\n",
      "ApiComposer - AutoML configured. Parameters tuning: False. Time limit: 15 min. Set of candidate models: ['xgbreg', 'sgdr', 'treg', 'ridge', 'lasso', 'dtreg', 'lgbmreg', 'catboostreg', 'inception_model', 'resnet_model', 'channel_filtration', 'eigen_basis', 'wavelet_basis', 'fourier_basis', 'quantile_extractor', 'minirocket_extractor', 'scaling', 'normalization', 'simple_imputation', 'kernel_pca'].\n",
      "ApiComposer - Pipeline composition started.\n",
      "DataSourceSplitter - Stratificated splitting of data is disabled.\n",
      "DataSourceSplitter - Hold out validation is applied.\n"
     ]
    },
    {
     "name": "stderr",
     "output_type": "stream",
     "text": [
      "Generations:   0%|          | 0/10000 [00:00<?, ?gen/s]"
     ]
    },
    {
     "name": "stdout",
     "output_type": "stream",
     "text": [
      "IndustrialDispatcher - Number of used CPU's: 8\n",
      "Not enough class samples for validation\n"
     ]
    },
    {
     "name": "stderr",
     "output_type": "stream",
     "text": [
      "\n",
      "  0%|          | 0/1 [00:00<?, ?it/s]\u001B[A\n",
      "100%|██████████| 1/1 [00:00<00:00,  6.49it/s]\u001B[A\n"
     ]
    },
    {
     "name": "stdout",
     "output_type": "stream",
     "text": [
      "Epoch: 1, RMSE= 0.29018699205838716, Training Loss: 0.29\n"
     ]
    },
    {
     "name": "stderr",
     "output_type": "stream",
     "text": [
      "\n",
      "  0%|          | 0/1 [00:00<?, ?it/s]\u001B[A\n",
      "100%|██████████| 1/1 [00:00<00:00,  8.29it/s]\u001B[A\n"
     ]
    },
    {
     "name": "stdout",
     "output_type": "stream",
     "text": [
      "Epoch: 2, RMSE= 0.28750802920414853, Training Loss: 0.29\n"
     ]
    },
    {
     "name": "stderr",
     "output_type": "stream",
     "text": [
      "\n",
      "  0%|          | 0/1 [00:00<?, ?it/s]\u001B[A\n",
      "100%|██████████| 1/1 [00:00<00:00,  7.90it/s]\u001B[A\n"
     ]
    },
    {
     "name": "stdout",
     "output_type": "stream",
     "text": [
      "Epoch: 3, RMSE= 0.285338805272029, Training Loss: 0.29\n"
     ]
    },
    {
     "name": "stderr",
     "output_type": "stream",
     "text": [
      "\n",
      "  0%|          | 0/1 [00:00<?, ?it/s]\u001B[A\n",
      "100%|██████████| 1/1 [00:00<00:00,  8.22it/s]\u001B[A\n"
     ]
    },
    {
     "name": "stdout",
     "output_type": "stream",
     "text": [
      "Epoch: 4, RMSE= 0.2833399039048415, Training Loss: 0.28\n"
     ]
    },
    {
     "name": "stderr",
     "output_type": "stream",
     "text": [
      "\n",
      "  0%|          | 0/1 [00:00<?, ?it/s]\u001B[A\n",
      "100%|██████████| 1/1 [00:00<00:00,  8.57it/s]\u001B[A\n"
     ]
    },
    {
     "name": "stdout",
     "output_type": "stream",
     "text": [
      "Epoch: 5, RMSE= 0.28120913872352016, Training Loss: 0.28\n"
     ]
    },
    {
     "name": "stderr",
     "output_type": "stream",
     "text": [
      "\n",
      "  0%|          | 0/1 [00:00<?, ?it/s]\u001B[A\n",
      "100%|██████████| 1/1 [00:00<00:00,  8.15it/s]\u001B[A\n"
     ]
    },
    {
     "name": "stdout",
     "output_type": "stream",
     "text": [
      "Epoch: 6, RMSE= 0.2791653046241173, Training Loss: 0.28\n"
     ]
    },
    {
     "name": "stderr",
     "output_type": "stream",
     "text": [
      "\n",
      "  0%|          | 0/1 [00:00<?, ?it/s]\u001B[A\n",
      "100%|██████████| 1/1 [00:00<00:00,  7.90it/s]\u001B[A\n"
     ]
    },
    {
     "name": "stdout",
     "output_type": "stream",
     "text": [
      "Epoch: 7, RMSE= 0.27706258113567644, Training Loss: 0.28\n"
     ]
    },
    {
     "name": "stderr",
     "output_type": "stream",
     "text": [
      "\n",
      "  0%|          | 0/1 [00:00<?, ?it/s]\u001B[A\n",
      "100%|██████████| 1/1 [00:00<00:00,  6.47it/s]\u001B[A\n"
     ]
    },
    {
     "name": "stdout",
     "output_type": "stream",
     "text": [
      "Epoch: 8, RMSE= 0.2746672813708966, Training Loss: 0.27\n"
     ]
    },
    {
     "name": "stderr",
     "output_type": "stream",
     "text": [
      "\n",
      "  0%|          | 0/1 [00:00<?, ?it/s]\u001B[A\n",
      "100%|██████████| 1/1 [00:00<00:00,  8.35it/s]\u001B[A\n"
     ]
    },
    {
     "name": "stdout",
     "output_type": "stream",
     "text": [
      "Epoch: 9, RMSE= 0.27184369013859677, Training Loss: 0.27\n"
     ]
    },
    {
     "name": "stderr",
     "output_type": "stream",
     "text": [
      "\n",
      "  0%|          | 0/1 [00:00<?, ?it/s]\u001B[A\n",
      "100%|██████████| 1/1 [00:00<00:00,  4.10it/s]\u001B[A\n"
     ]
    },
    {
     "name": "stdout",
     "output_type": "stream",
     "text": [
      "Epoch: 10, RMSE= 0.2690262244297908, Training Loss: 0.27\n"
     ]
    },
    {
     "name": "stderr",
     "output_type": "stream",
     "text": [
      "\n",
      "  0%|          | 0/1 [00:00<?, ?it/s]\u001B[A\n",
      "100%|██████████| 1/1 [00:00<00:00,  5.75it/s]\u001B[A\n"
     ]
    },
    {
     "name": "stdout",
     "output_type": "stream",
     "text": [
      "Epoch: 11, RMSE= 0.26572097264803374, Training Loss: 0.27\n"
     ]
    },
    {
     "name": "stderr",
     "output_type": "stream",
     "text": [
      "\n",
      "  0%|          | 0/1 [00:00<?, ?it/s]\u001B[A\n",
      "100%|██████████| 1/1 [00:00<00:00,  7.93it/s]\u001B[A\n"
     ]
    },
    {
     "name": "stdout",
     "output_type": "stream",
     "text": [
      "Epoch: 12, RMSE= 0.2618892743037297, Training Loss: 0.26\n"
     ]
    },
    {
     "name": "stderr",
     "output_type": "stream",
     "text": [
      "\n",
      "  0%|          | 0/1 [00:00<?, ?it/s]\u001B[A\n",
      "100%|██████████| 1/1 [00:00<00:00,  7.97it/s]\u001B[A\n"
     ]
    },
    {
     "name": "stdout",
     "output_type": "stream",
     "text": [
      "Epoch: 13, RMSE= 0.25787670795734113, Training Loss: 0.26\n"
     ]
    },
    {
     "name": "stderr",
     "output_type": "stream",
     "text": [
      "\n",
      "  0%|          | 0/1 [00:00<?, ?it/s]\u001B[A\n",
      "100%|██████████| 1/1 [00:00<00:00,  5.97it/s]\u001B[A\n"
     ]
    },
    {
     "name": "stdout",
     "output_type": "stream",
     "text": [
      "Epoch: 14, RMSE= 0.2533537241128775, Training Loss: 0.25\n"
     ]
    },
    {
     "name": "stderr",
     "output_type": "stream",
     "text": [
      "\n",
      "  0%|          | 0/1 [00:00<?, ?it/s]\u001B[A\n",
      "100%|██████████| 1/1 [00:00<00:00,  6.54it/s]\u001B[A\n"
     ]
    },
    {
     "name": "stdout",
     "output_type": "stream",
     "text": [
      "Epoch: 15, RMSE= 0.24733770810640776, Training Loss: 0.25\n"
     ]
    },
    {
     "name": "stderr",
     "output_type": "stream",
     "text": [
      "\n",
      "  0%|          | 0/1 [00:00<?, ?it/s]\u001B[A\n",
      "100%|██████████| 1/1 [00:00<00:00,  7.82it/s]\u001B[A\n"
     ]
    },
    {
     "name": "stdout",
     "output_type": "stream",
     "text": [
      "Epoch: 16, RMSE= 0.24265456199645996, Training Loss: 0.24\n"
     ]
    },
    {
     "name": "stderr",
     "output_type": "stream",
     "text": [
      "\n",
      "  0%|          | 0/1 [00:00<?, ?it/s]\u001B[A\n",
      "100%|██████████| 1/1 [00:00<00:00,  8.14it/s]\u001B[A\n"
     ]
    },
    {
     "name": "stdout",
     "output_type": "stream",
     "text": [
      "Epoch: 17, RMSE= 0.2385707268348107, Training Loss: 0.24\n"
     ]
    },
    {
     "name": "stderr",
     "output_type": "stream",
     "text": [
      "\n",
      "  0%|          | 0/1 [00:00<?, ?it/s]\u001B[A\n",
      "100%|██████████| 1/1 [00:00<00:00,  8.09it/s]\u001B[A\n"
     ]
    },
    {
     "name": "stdout",
     "output_type": "stream",
     "text": [
      "Epoch: 18, RMSE= 0.23488989243140587, Training Loss: 0.23\n"
     ]
    },
    {
     "name": "stderr",
     "output_type": "stream",
     "text": [
      "\n",
      "  0%|          | 0/1 [00:00<?, ?it/s]\u001B[A\n",
      "100%|██████████| 1/1 [00:00<00:00,  4.64it/s]\u001B[A\n"
     ]
    },
    {
     "name": "stdout",
     "output_type": "stream",
     "text": [
      "Epoch: 19, RMSE= 0.23009309401878944, Training Loss: 0.23\n"
     ]
    },
    {
     "name": "stderr",
     "output_type": "stream",
     "text": [
      "\n",
      "  0%|          | 0/1 [00:00<?, ?it/s]\u001B[A\n",
      "100%|██████████| 1/1 [00:00<00:00,  6.92it/s]\u001B[A\n"
     ]
    },
    {
     "name": "stdout",
     "output_type": "stream",
     "text": [
      "Epoch: 20, RMSE= 0.2261970960176908, Training Loss: 0.23\n"
     ]
    },
    {
     "name": "stderr",
     "output_type": "stream",
     "text": [
      "\n",
      "  0%|          | 0/1 [00:00<?, ?it/s]\u001B[A\n",
      "100%|██████████| 1/1 [00:00<00:00,  7.53it/s]\u001B[A\n"
     ]
    },
    {
     "name": "stdout",
     "output_type": "stream",
     "text": [
      "Epoch: 21, RMSE= 0.22186095897968, Training Loss: 0.22\n"
     ]
    },
    {
     "name": "stderr",
     "output_type": "stream",
     "text": [
      "\n",
      "  0%|          | 0/1 [00:00<?, ?it/s]\u001B[A\n",
      "100%|██████████| 1/1 [00:00<00:00,  8.25it/s]\u001B[A\n"
     ]
    },
    {
     "name": "stdout",
     "output_type": "stream",
     "text": [
      "Epoch: 22, RMSE= 0.21772538698636568, Training Loss: 0.22\n"
     ]
    },
    {
     "name": "stderr",
     "output_type": "stream",
     "text": [
      "\n",
      "  0%|          | 0/1 [00:00<?, ?it/s]\u001B[A\n",
      "100%|██████████| 1/1 [00:00<00:00,  8.39it/s]\u001B[A\n"
     ]
    },
    {
     "name": "stdout",
     "output_type": "stream",
     "text": [
      "Epoch: 23, RMSE= 0.21348149959857649, Training Loss: 0.21\n"
     ]
    },
    {
     "name": "stderr",
     "output_type": "stream",
     "text": [
      "\n",
      "  0%|          | 0/1 [00:00<?, ?it/s]\u001B[A\n",
      "100%|██████████| 1/1 [00:00<00:00,  8.15it/s]\u001B[A\n"
     ]
    },
    {
     "name": "stdout",
     "output_type": "stream",
     "text": [
      "Epoch: 24, RMSE= 0.212157286130465, Training Loss: 0.21\n"
     ]
    },
    {
     "name": "stderr",
     "output_type": "stream",
     "text": [
      "\n",
      "  0%|          | 0/1 [00:00<?, ?it/s]\u001B[A\n",
      "100%|██████████| 1/1 [00:00<00:00,  7.90it/s]\u001B[A\n"
     ]
    },
    {
     "name": "stdout",
     "output_type": "stream",
     "text": [
      "Epoch: 25, RMSE= 0.20682452275202826, Training Loss: 0.21\n"
     ]
    },
    {
     "name": "stderr",
     "output_type": "stream",
     "text": [
      "\n",
      "  0%|          | 0/1 [00:00<?, ?it/s]\u001B[A\n",
      "100%|██████████| 1/1 [00:00<00:00,  8.46it/s]\u001B[A\n"
     ]
    },
    {
     "name": "stdout",
     "output_type": "stream",
     "text": [
      "Epoch: 26, RMSE= 0.20180742557232195, Training Loss: 0.20\n"
     ]
    },
    {
     "name": "stderr",
     "output_type": "stream",
     "text": [
      "\n",
      "  0%|          | 0/1 [00:00<?, ?it/s]\u001B[A\n",
      "100%|██████████| 1/1 [00:00<00:00,  8.61it/s]\u001B[A\n"
     ]
    },
    {
     "name": "stdout",
     "output_type": "stream",
     "text": [
      "Epoch: 27, RMSE= 0.19767368756807768, Training Loss: 0.20\n"
     ]
    },
    {
     "name": "stderr",
     "output_type": "stream",
     "text": [
      "\n",
      "  0%|          | 0/1 [00:00<?, ?it/s]\u001B[A\n",
      "100%|██████████| 1/1 [00:00<00:00,  7.11it/s]\u001B[A\n"
     ]
    },
    {
     "name": "stdout",
     "output_type": "stream",
     "text": [
      "Epoch: 28, RMSE= 0.19165477385887733, Training Loss: 0.19\n"
     ]
    },
    {
     "name": "stderr",
     "output_type": "stream",
     "text": [
      "\n",
      "  0%|          | 0/1 [00:00<?, ?it/s]\u001B[A\n",
      "100%|██████████| 1/1 [00:00<00:00,  8.29it/s]\u001B[A\n"
     ]
    },
    {
     "name": "stdout",
     "output_type": "stream",
     "text": [
      "Epoch: 29, RMSE= 0.18860061352069563, Training Loss: 0.19\n"
     ]
    },
    {
     "name": "stderr",
     "output_type": "stream",
     "text": [
      "\n",
      "  0%|          | 0/1 [00:00<?, ?it/s]\u001B[A\n",
      "100%|██████████| 1/1 [00:00<00:00,  8.61it/s]\u001B[A\n"
     ]
    },
    {
     "name": "stdout",
     "output_type": "stream",
     "text": [
      "Epoch: 30, RMSE= 0.18405499825110802, Training Loss: 0.18\n"
     ]
    },
    {
     "name": "stderr",
     "output_type": "stream",
     "text": [
      "\n",
      "  0%|          | 0/1 [00:00<?, ?it/s]\u001B[A\n",
      "100%|██████████| 1/1 [00:00<00:00,  7.74it/s]\u001B[A\n"
     ]
    },
    {
     "name": "stdout",
     "output_type": "stream",
     "text": [
      "Epoch: 31, RMSE= 0.18011357234074518, Training Loss: 0.18\n"
     ]
    },
    {
     "name": "stderr",
     "output_type": "stream",
     "text": [
      "\n",
      "  0%|          | 0/1 [00:00<?, ?it/s]\u001B[A\n",
      "100%|██████████| 1/1 [00:00<00:00,  8.43it/s]\u001B[A\n"
     ]
    },
    {
     "name": "stdout",
     "output_type": "stream",
     "text": [
      "Epoch: 32, RMSE= 0.1752467889052171, Training Loss: 0.18\n"
     ]
    },
    {
     "name": "stderr",
     "output_type": "stream",
     "text": [
      "\n",
      "  0%|          | 0/1 [00:00<?, ?it/s]\u001B[A\n",
      "100%|██████████| 1/1 [00:00<00:00,  8.29it/s]\u001B[A\n"
     ]
    },
    {
     "name": "stdout",
     "output_type": "stream",
     "text": [
      "Epoch: 33, RMSE= 0.17128716982327974, Training Loss: 0.17\n"
     ]
    },
    {
     "name": "stderr",
     "output_type": "stream",
     "text": [
      "\n",
      "  0%|          | 0/1 [00:00<?, ?it/s]\u001B[A\n",
      "100%|██████████| 1/1 [00:00<00:00,  8.24it/s]\u001B[A\n"
     ]
    },
    {
     "name": "stdout",
     "output_type": "stream",
     "text": [
      "Epoch: 34, RMSE= 0.16719530178950384, Training Loss: 0.17\n"
     ]
    },
    {
     "name": "stderr",
     "output_type": "stream",
     "text": [
      "\n",
      "  0%|          | 0/1 [00:00<?, ?it/s]\u001B[A\n",
      "100%|██████████| 1/1 [00:00<00:00,  4.33it/s]\u001B[A\n"
     ]
    },
    {
     "name": "stdout",
     "output_type": "stream",
     "text": [
      "Epoch: 35, RMSE= 0.16346258383530837, Training Loss: 0.16\n"
     ]
    },
    {
     "name": "stderr",
     "output_type": "stream",
     "text": [
      "\n",
      "  0%|          | 0/1 [00:00<?, ?it/s]\u001B[A\n",
      "100%|██████████| 1/1 [00:00<00:00,  8.53it/s]\u001B[A\n"
     ]
    },
    {
     "name": "stdout",
     "output_type": "stream",
     "text": [
      "Epoch: 36, RMSE= 0.15961280235877404, Training Loss: 0.16\n"
     ]
    },
    {
     "name": "stderr",
     "output_type": "stream",
     "text": [
      "\n",
      "  0%|          | 0/1 [00:00<?, ?it/s]\u001B[A\n",
      "100%|██████████| 1/1 [00:00<00:00,  8.43it/s]\u001B[A\n"
     ]
    },
    {
     "name": "stdout",
     "output_type": "stream",
     "text": [
      "Epoch: 37, RMSE= 0.1560515807225154, Training Loss: 0.16\n"
     ]
    },
    {
     "name": "stderr",
     "output_type": "stream",
     "text": [
      "\n",
      "  0%|          | 0/1 [00:00<?, ?it/s]\u001B[A\n",
      "100%|██████████| 1/1 [00:00<00:00,  8.18it/s]\u001B[A\n"
     ]
    },
    {
     "name": "stdout",
     "output_type": "stream",
     "text": [
      "Epoch: 38, RMSE= 0.1524739357141348, Training Loss: 0.15\n"
     ]
    },
    {
     "name": "stderr",
     "output_type": "stream",
     "text": [
      "\n",
      "  0%|          | 0/1 [00:00<?, ?it/s]\u001B[A\n",
      "100%|██████████| 1/1 [00:00<00:00,  8.18it/s]\u001B[A\n"
     ]
    },
    {
     "name": "stdout",
     "output_type": "stream",
     "text": [
      "Epoch: 39, RMSE= 0.1492860225530771, Training Loss: 0.15\n"
     ]
    },
    {
     "name": "stderr",
     "output_type": "stream",
     "text": [
      "\n",
      "  0%|          | 0/1 [00:00<?, ?it/s]\u001B[A\n",
      "100%|██████████| 1/1 [00:00<00:00,  8.68it/s]\u001B[A\n"
     ]
    },
    {
     "name": "stdout",
     "output_type": "stream",
     "text": [
      "Epoch: 40, RMSE= 0.14603139803959772, Training Loss: 0.15\n"
     ]
    },
    {
     "name": "stderr",
     "output_type": "stream",
     "text": [
      "\n",
      "  0%|          | 0/1 [00:00<?, ?it/s]\u001B[A\n",
      "100%|██████████| 1/1 [00:00<00:00,  6.55it/s]\u001B[A\n"
     ]
    },
    {
     "name": "stdout",
     "output_type": "stream",
     "text": [
      "Epoch: 41, RMSE= 0.14290949014516977, Training Loss: 0.14\n"
     ]
    },
    {
     "name": "stderr",
     "output_type": "stream",
     "text": [
      "\n",
      "  0%|          | 0/1 [00:00<?, ?it/s]\u001B[A\n",
      "100%|██████████| 1/1 [00:00<00:00,  5.63it/s]\u001B[A\n"
     ]
    },
    {
     "name": "stdout",
     "output_type": "stream",
     "text": [
      "Epoch: 42, RMSE= 0.14000855042384222, Training Loss: 0.14\n"
     ]
    },
    {
     "name": "stderr",
     "output_type": "stream",
     "text": [
      "\n",
      "  0%|          | 0/1 [00:00<?, ?it/s]\u001B[A\n",
      "100%|██████████| 1/1 [00:00<00:00,  7.98it/s]\u001B[A\n"
     ]
    },
    {
     "name": "stdout",
     "output_type": "stream",
     "text": [
      "Epoch: 43, RMSE= 0.1373689999947181, Training Loss: 0.14\n"
     ]
    },
    {
     "name": "stderr",
     "output_type": "stream",
     "text": [
      "\n",
      "  0%|          | 0/1 [00:00<?, ?it/s]\u001B[A\n",
      "100%|██████████| 1/1 [00:00<00:00,  7.37it/s]\u001B[A\n"
     ]
    },
    {
     "name": "stdout",
     "output_type": "stream",
     "text": [
      "Epoch: 44, RMSE= 0.13503744969001183, Training Loss: 0.14\n"
     ]
    },
    {
     "name": "stderr",
     "output_type": "stream",
     "text": [
      "\n",
      "  0%|          | 0/1 [00:00<?, ?it/s]\u001B[A\n",
      "100%|██████████| 1/1 [00:00<00:00,  7.21it/s]\u001B[A\n"
     ]
    },
    {
     "name": "stdout",
     "output_type": "stream",
     "text": [
      "Epoch: 45, RMSE= 0.13228904283963716, Training Loss: 0.13\n"
     ]
    },
    {
     "name": "stderr",
     "output_type": "stream",
     "text": [
      "\n",
      "  0%|          | 0/1 [00:00<?, ?it/s]\u001B[A\n",
      "100%|██████████| 1/1 [00:00<00:00,  6.81it/s]\u001B[A\n"
     ]
    },
    {
     "name": "stdout",
     "output_type": "stream",
     "text": [
      "Epoch: 46, RMSE= 0.13008062656109148, Training Loss: 0.13\n"
     ]
    },
    {
     "name": "stderr",
     "output_type": "stream",
     "text": [
      "\n",
      "  0%|          | 0/1 [00:00<?, ?it/s]\u001B[A\n",
      "100%|██████████| 1/1 [00:00<00:00,  7.73it/s]\u001B[A\n"
     ]
    },
    {
     "name": "stdout",
     "output_type": "stream",
     "text": [
      "Epoch: 47, RMSE= 0.12799276755406305, Training Loss: 0.13\n"
     ]
    },
    {
     "name": "stderr",
     "output_type": "stream",
     "text": [
      "\n",
      "  0%|          | 0/1 [00:00<?, ?it/s]\u001B[A\n",
      "100%|██████████| 1/1 [00:00<00:00,  6.34it/s]\u001B[A\n"
     ]
    },
    {
     "name": "stdout",
     "output_type": "stream",
     "text": [
      "Epoch: 48, RMSE= 0.12590388151315543, Training Loss: 0.13\n"
     ]
    },
    {
     "name": "stderr",
     "output_type": "stream",
     "text": [
      "\n",
      "  0%|          | 0/1 [00:00<?, ?it/s]\u001B[A\n",
      "100%|██████████| 1/1 [00:00<00:00,  7.25it/s]\u001B[A\n"
     ]
    },
    {
     "name": "stdout",
     "output_type": "stream",
     "text": [
      "Epoch: 49, RMSE= 0.12407950254587027, Training Loss: 0.12\n"
     ]
    },
    {
     "name": "stderr",
     "output_type": "stream",
     "text": [
      "\n",
      "  0%|          | 0/1 [00:00<?, ?it/s]\u001B[A\n",
      "100%|██████████| 1/1 [00:00<00:00,  7.94it/s]\u001B[A\n"
     ]
    },
    {
     "name": "stdout",
     "output_type": "stream",
     "text": [
      "Epoch: 50, RMSE= 0.12230886862828182, Training Loss: 0.12\n"
     ]
    },
    {
     "name": "stderr",
     "output_type": "stream",
     "text": [
      "\n",
      "  0%|          | 0/1 [00:00<?, ?it/s]\u001B[A\n",
      "100%|██████████| 1/1 [00:00<00:00,  7.70it/s]\u001B[A\n"
     ]
    },
    {
     "name": "stdout",
     "output_type": "stream",
     "text": [
      "Epoch: 51, RMSE= 0.12080568533677322, Training Loss: 0.12\n"
     ]
    },
    {
     "name": "stderr",
     "output_type": "stream",
     "text": [
      "\n",
      "  0%|          | 0/1 [00:00<?, ?it/s]\u001B[A\n",
      "100%|██████████| 1/1 [00:00<00:00,  8.00it/s]\u001B[A\n"
     ]
    },
    {
     "name": "stdout",
     "output_type": "stream",
     "text": [
      "Epoch: 52, RMSE= 0.11934351921081543, Training Loss: 0.12\n"
     ]
    },
    {
     "name": "stderr",
     "output_type": "stream",
     "text": [
      "\n",
      "  0%|          | 0/1 [00:00<?, ?it/s]\u001B[A\n",
      "100%|██████████| 1/1 [00:00<00:00,  8.20it/s]\u001B[A\n"
     ]
    },
    {
     "name": "stdout",
     "output_type": "stream",
     "text": [
      "Epoch: 53, RMSE= 0.11806515546945426, Training Loss: 0.12\n"
     ]
    },
    {
     "name": "stderr",
     "output_type": "stream",
     "text": [
      "\n",
      "  0%|          | 0/1 [00:00<?, ?it/s]\u001B[A\n",
      "100%|██████████| 1/1 [00:00<00:00,  7.70it/s]\u001B[A\n"
     ]
    },
    {
     "name": "stdout",
     "output_type": "stream",
     "text": [
      "Epoch: 54, RMSE= 0.11686520393078144, Training Loss: 0.12\n"
     ]
    },
    {
     "name": "stderr",
     "output_type": "stream",
     "text": [
      "\n",
      "  0%|          | 0/1 [00:00<?, ?it/s]\u001B[A\n",
      "100%|██████████| 1/1 [00:00<00:00,  6.17it/s]\u001B[A\n"
     ]
    },
    {
     "name": "stdout",
     "output_type": "stream",
     "text": [
      "Epoch: 55, RMSE= 0.11583375013791598, Training Loss: 0.12\n"
     ]
    },
    {
     "name": "stderr",
     "output_type": "stream",
     "text": [
      "\n",
      "  0%|          | 0/1 [00:00<?, ?it/s]\u001B[A\n",
      "100%|██████████| 1/1 [00:00<00:00,  6.95it/s]\u001B[A\n"
     ]
    },
    {
     "name": "stdout",
     "output_type": "stream",
     "text": [
      "Epoch: 56, RMSE= 0.11487329923189603, Training Loss: 0.11\n"
     ]
    },
    {
     "name": "stderr",
     "output_type": "stream",
     "text": [
      "\n",
      "  0%|          | 0/1 [00:00<?, ?it/s]\u001B[A\n",
      "100%|██████████| 1/1 [00:00<00:00,  4.81it/s]\u001B[A\n"
     ]
    },
    {
     "name": "stdout",
     "output_type": "stream",
     "text": [
      "Epoch: 57, RMSE= 0.11406495937934288, Training Loss: 0.11\n"
     ]
    },
    {
     "name": "stderr",
     "output_type": "stream",
     "text": [
      "\n",
      "  0%|          | 0/1 [00:00<?, ?it/s]\u001B[A\n",
      "100%|██████████| 1/1 [00:00<00:00,  5.40it/s]\u001B[A\n"
     ]
    },
    {
     "name": "stdout",
     "output_type": "stream",
     "text": [
      "Epoch: 58, RMSE= 0.1132955917945275, Training Loss: 0.11\n"
     ]
    },
    {
     "name": "stderr",
     "output_type": "stream",
     "text": [
      "\n",
      "  0%|          | 0/1 [00:00<?, ?it/s]\u001B[A\n",
      "100%|██████████| 1/1 [00:00<00:00,  5.69it/s]\u001B[A\n"
     ]
    },
    {
     "name": "stdout",
     "output_type": "stream",
     "text": [
      "Epoch: 59, RMSE= 0.11262902846703163, Training Loss: 0.11\n"
     ]
    },
    {
     "name": "stderr",
     "output_type": "stream",
     "text": [
      "\n",
      "  0%|          | 0/1 [00:00<?, ?it/s]\u001B[A\n",
      "100%|██████████| 1/1 [00:00<00:00,  4.87it/s]\u001B[A\n"
     ]
    },
    {
     "name": "stdout",
     "output_type": "stream",
     "text": [
      "Epoch: 60, RMSE= 0.11204834167773907, Training Loss: 0.11\n"
     ]
    },
    {
     "name": "stderr",
     "output_type": "stream",
     "text": [
      "\n",
      "  0%|          | 0/1 [00:00<?, ?it/s]\u001B[A\n",
      "100%|██████████| 1/1 [00:00<00:00,  5.54it/s]\u001B[A\n"
     ]
    },
    {
     "name": "stdout",
     "output_type": "stream",
     "text": [
      "Epoch: 61, RMSE= 0.11154480163867657, Training Loss: 0.11\n"
     ]
    },
    {
     "name": "stderr",
     "output_type": "stream",
     "text": [
      "\n",
      "  0%|          | 0/1 [00:00<?, ?it/s]\u001B[A\n",
      "100%|██████████| 1/1 [00:00<00:00,  7.19it/s]\u001B[A\n"
     ]
    },
    {
     "name": "stdout",
     "output_type": "stream",
     "text": [
      "Epoch: 62, RMSE= 0.11110422244438758, Training Loss: 0.11\n"
     ]
    },
    {
     "name": "stderr",
     "output_type": "stream",
     "text": [
      "\n",
      "  0%|          | 0/1 [00:00<?, ?it/s]\u001B[A\n",
      "100%|██████████| 1/1 [00:00<00:00,  7.99it/s]\u001B[A\n"
     ]
    },
    {
     "name": "stdout",
     "output_type": "stream",
     "text": [
      "Epoch: 63, RMSE= 0.11071995588449332, Training Loss: 0.11\n"
     ]
    },
    {
     "name": "stderr",
     "output_type": "stream",
     "text": [
      "\n",
      "  0%|          | 0/1 [00:00<?, ?it/s]\u001B[A\n",
      "100%|██████████| 1/1 [00:00<00:00,  7.77it/s]\u001B[A\n"
     ]
    },
    {
     "name": "stdout",
     "output_type": "stream",
     "text": [
      "Epoch: 64, RMSE= 0.1103812364431528, Training Loss: 0.11\n"
     ]
    },
    {
     "name": "stderr",
     "output_type": "stream",
     "text": [
      "\n",
      "  0%|          | 0/1 [00:00<?, ?it/s]\u001B[A\n",
      "100%|██████████| 1/1 [00:00<00:00,  7.71it/s]\u001B[A\n"
     ]
    },
    {
     "name": "stdout",
     "output_type": "stream",
     "text": [
      "Epoch: 65, RMSE= 0.11008267219250019, Training Loss: 0.11\n"
     ]
    },
    {
     "name": "stderr",
     "output_type": "stream",
     "text": [
      "\n",
      "  0%|          | 0/1 [00:00<?, ?it/s]\u001B[A\n",
      "100%|██████████| 1/1 [00:00<00:00,  7.74it/s]\u001B[A\n"
     ]
    },
    {
     "name": "stdout",
     "output_type": "stream",
     "text": [
      "Epoch: 66, RMSE= 0.10983402912433331, Training Loss: 0.11\n"
     ]
    },
    {
     "name": "stderr",
     "output_type": "stream",
     "text": [
      "\n",
      "  0%|          | 0/1 [00:00<?, ?it/s]\u001B[A\n",
      "100%|██████████| 1/1 [00:00<00:00,  6.06it/s]\u001B[A\n"
     ]
    },
    {
     "name": "stdout",
     "output_type": "stream",
     "text": [
      "Epoch: 67, RMSE= 0.10961916813483605, Training Loss: 0.11\n"
     ]
    },
    {
     "name": "stderr",
     "output_type": "stream",
     "text": [
      "\n",
      "  0%|          | 0/1 [00:00<?, ?it/s]\u001B[A\n",
      "100%|██████████| 1/1 [00:00<00:00,  6.34it/s]\u001B[A\n"
     ]
    },
    {
     "name": "stdout",
     "output_type": "stream",
     "text": [
      "Epoch: 68, RMSE= 0.10943243136772743, Training Loss: 0.11\n"
     ]
    },
    {
     "name": "stderr",
     "output_type": "stream",
     "text": [
      "\n",
      "  0%|          | 0/1 [00:00<?, ?it/s]\u001B[A\n",
      "100%|██████████| 1/1 [00:00<00:00,  7.90it/s]\u001B[A\n"
     ]
    },
    {
     "name": "stdout",
     "output_type": "stream",
     "text": [
      "Epoch: 69, RMSE= 0.10927199400388278, Training Loss: 0.11\n"
     ]
    },
    {
     "name": "stderr",
     "output_type": "stream",
     "text": [
      "\n",
      "  0%|          | 0/1 [00:00<?, ?it/s]\u001B[A\n",
      "100%|██████████| 1/1 [00:00<00:00,  7.80it/s]\u001B[A\n"
     ]
    },
    {
     "name": "stdout",
     "output_type": "stream",
     "text": [
      "Epoch: 70, RMSE= 0.10913336277008057, Training Loss: 0.11\n"
     ]
    },
    {
     "name": "stderr",
     "output_type": "stream",
     "text": [
      "\n",
      "  0%|          | 0/1 [00:00<?, ?it/s]\u001B[A\n",
      "100%|██████████| 1/1 [00:00<00:00,  7.65it/s]\u001B[A\n"
     ]
    },
    {
     "name": "stdout",
     "output_type": "stream",
     "text": [
      "Epoch: 71, RMSE= 0.10901568486140324, Training Loss: 0.11\n"
     ]
    },
    {
     "name": "stderr",
     "output_type": "stream",
     "text": [
      "\n",
      "  0%|          | 0/1 [00:00<?, ?it/s]\u001B[A\n",
      "100%|██████████| 1/1 [00:00<00:00,  7.35it/s]\u001B[A\n"
     ]
    },
    {
     "name": "stdout",
     "output_type": "stream",
     "text": [
      "Epoch: 72, RMSE= 0.10891501720135029, Training Loss: 0.11\n"
     ]
    },
    {
     "name": "stderr",
     "output_type": "stream",
     "text": [
      "\n",
      "  0%|          | 0/1 [00:00<?, ?it/s]\u001B[A\n",
      "100%|██████████| 1/1 [00:00<00:00,  7.80it/s]\u001B[A\n"
     ]
    },
    {
     "name": "stdout",
     "output_type": "stream",
     "text": [
      "Epoch: 73, RMSE= 0.10882734335385837, Training Loss: 0.11\n"
     ]
    },
    {
     "name": "stderr",
     "output_type": "stream",
     "text": [
      "\n",
      "  0%|          | 0/1 [00:00<?, ?it/s]\u001B[A\n",
      "100%|██████████| 1/1 [00:00<00:00,  6.84it/s]\u001B[A\n"
     ]
    },
    {
     "name": "stdout",
     "output_type": "stream",
     "text": [
      "Epoch: 74, RMSE= 0.10875192055335411, Training Loss: 0.11\n"
     ]
    },
    {
     "name": "stderr",
     "output_type": "stream",
     "text": [
      "\n",
      "  0%|          | 0/1 [00:00<?, ?it/s]\u001B[A\n",
      "100%|██████████| 1/1 [00:00<00:00,  6.82it/s]\u001B[A\n"
     ]
    },
    {
     "name": "stdout",
     "output_type": "stream",
     "text": [
      "Epoch: 75, RMSE= 0.1086880243741549, Training Loss: 0.11\n"
     ]
    },
    {
     "name": "stderr",
     "output_type": "stream",
     "text": [
      "\n",
      "  0%|          | 0/1 [00:00<?, ?it/s]\u001B[A\n",
      "100%|██████████| 1/1 [00:00<00:00,  8.15it/s]\u001B[A\n"
     ]
    },
    {
     "name": "stdout",
     "output_type": "stream",
     "text": [
      "Epoch: 76, RMSE= 0.10863336232992318, Training Loss: 0.11\n"
     ]
    },
    {
     "name": "stderr",
     "output_type": "stream",
     "text": [
      "\n",
      "  0%|          | 0/1 [00:00<?, ?it/s]\u001B[A\n",
      "100%|██████████| 1/1 [00:00<00:00,  5.85it/s]\u001B[A\n"
     ]
    },
    {
     "name": "stdout",
     "output_type": "stream",
     "text": [
      "Epoch: 77, RMSE= 0.10858659560863788, Training Loss: 0.11\n"
     ]
    },
    {
     "name": "stderr",
     "output_type": "stream",
     "text": [
      "\n",
      "  0%|          | 0/1 [00:00<?, ?it/s]\u001B[A\n",
      "100%|██████████| 1/1 [00:00<00:00,  6.71it/s]\u001B[A\n"
     ]
    },
    {
     "name": "stdout",
     "output_type": "stream",
     "text": [
      "Epoch: 78, RMSE= 0.10854694476494423, Training Loss: 0.11\n"
     ]
    },
    {
     "name": "stderr",
     "output_type": "stream",
     "text": [
      "\n",
      "  0%|          | 0/1 [00:00<?, ?it/s]\u001B[A\n",
      "100%|██████████| 1/1 [00:00<00:00,  7.97it/s]\u001B[A\n"
     ]
    },
    {
     "name": "stdout",
     "output_type": "stream",
     "text": [
      "Epoch: 79, RMSE= 0.10851333691523625, Training Loss: 0.11\n"
     ]
    },
    {
     "name": "stderr",
     "output_type": "stream",
     "text": [
      "\n",
      "  0%|          | 0/1 [00:00<?, ?it/s]\u001B[A\n",
      "100%|██████████| 1/1 [00:00<00:00,  7.37it/s]\u001B[A\n"
     ]
    },
    {
     "name": "stdout",
     "output_type": "stream",
     "text": [
      "Epoch: 80, RMSE= 0.10848448826716496, Training Loss: 0.11\n"
     ]
    },
    {
     "name": "stderr",
     "output_type": "stream",
     "text": [
      "\n",
      "  0%|          | 0/1 [00:00<?, ?it/s]\u001B[A\n",
      "100%|██████████| 1/1 [00:00<00:00,  7.29it/s]\u001B[A\n"
     ]
    },
    {
     "name": "stdout",
     "output_type": "stream",
     "text": [
      "Epoch: 81, RMSE= 0.108459656055157, Training Loss: 0.11\n"
     ]
    },
    {
     "name": "stderr",
     "output_type": "stream",
     "text": [
      "\n",
      "  0%|          | 0/1 [00:00<?, ?it/s]\u001B[A\n",
      "100%|██████████| 1/1 [00:00<00:00,  7.19it/s]\u001B[A\n"
     ]
    },
    {
     "name": "stdout",
     "output_type": "stream",
     "text": [
      "Epoch: 82, RMSE= 0.10843845514150766, Training Loss: 0.11\n"
     ]
    },
    {
     "name": "stderr",
     "output_type": "stream",
     "text": [
      "\n",
      "  0%|          | 0/1 [00:00<?, ?it/s]\u001B[A\n",
      "100%|██████████| 1/1 [00:00<00:00,  7.86it/s]\u001B[A\n"
     ]
    },
    {
     "name": "stdout",
     "output_type": "stream",
     "text": [
      "Epoch: 83, RMSE= 0.1084204912185669, Training Loss: 0.11\n"
     ]
    },
    {
     "name": "stderr",
     "output_type": "stream",
     "text": [
      "\n",
      "  0%|          | 0/1 [00:00<?, ?it/s]\u001B[A\n",
      "100%|██████████| 1/1 [00:00<00:00,  7.68it/s]\u001B[A\n"
     ]
    },
    {
     "name": "stdout",
     "output_type": "stream",
     "text": [
      "Epoch: 84, RMSE= 0.1084053241289579, Training Loss: 0.11\n"
     ]
    },
    {
     "name": "stderr",
     "output_type": "stream",
     "text": [
      "\n",
      "  0%|          | 0/1 [00:00<?, ?it/s]\u001B[A\n",
      "100%|██████████| 1/1 [00:00<00:00,  7.43it/s]\u001B[A\n"
     ]
    },
    {
     "name": "stdout",
     "output_type": "stream",
     "text": [
      "Epoch: 85, RMSE= 0.10839247703552246, Training Loss: 0.11\n"
     ]
    },
    {
     "name": "stderr",
     "output_type": "stream",
     "text": [
      "\n",
      "  0%|          | 0/1 [00:00<?, ?it/s]\u001B[A\n",
      "100%|██████████| 1/1 [00:00<00:00,  8.32it/s]\u001B[A\n"
     ]
    },
    {
     "name": "stdout",
     "output_type": "stream",
     "text": [
      "Epoch: 86, RMSE= 0.108381619820228, Training Loss: 0.11\n"
     ]
    },
    {
     "name": "stderr",
     "output_type": "stream",
     "text": [
      "\n",
      "  0%|          | 0/1 [00:00<?, ?it/s]\u001B[A\n",
      "100%|██████████| 1/1 [00:00<00:00,  6.62it/s]\u001B[A\n"
     ]
    },
    {
     "name": "stdout",
     "output_type": "stream",
     "text": [
      "Epoch: 87, RMSE= 0.10837248655465934, Training Loss: 0.11\n"
     ]
    },
    {
     "name": "stderr",
     "output_type": "stream",
     "text": [
      "\n",
      "  0%|          | 0/1 [00:00<?, ?it/s]\u001B[A\n",
      "100%|██████████| 1/1 [00:00<00:00,  5.92it/s]\u001B[A\n"
     ]
    },
    {
     "name": "stdout",
     "output_type": "stream",
     "text": [
      "Epoch: 88, RMSE= 0.10836487550001878, Training Loss: 0.11\n"
     ]
    },
    {
     "name": "stderr",
     "output_type": "stream",
     "text": [
      "\n",
      "  0%|          | 0/1 [00:00<?, ?it/s]\u001B[A\n",
      "100%|██████████| 1/1 [00:00<00:00,  7.80it/s]\u001B[A\n"
     ]
    },
    {
     "name": "stdout",
     "output_type": "stream",
     "text": [
      "Epoch: 89, RMSE= 0.1083586124273447, Training Loss: 0.11\n"
     ]
    },
    {
     "name": "stderr",
     "output_type": "stream",
     "text": [
      "\n",
      "  0%|          | 0/1 [00:00<?, ?it/s]\u001B[A\n",
      "100%|██████████| 1/1 [00:00<00:00,  7.62it/s]\u001B[A\n"
     ]
    },
    {
     "name": "stdout",
     "output_type": "stream",
     "text": [
      "Epoch: 90, RMSE= 0.1083535231076754, Training Loss: 0.11\n"
     ]
    },
    {
     "name": "stderr",
     "output_type": "stream",
     "text": [
      "\n",
      "  0%|          | 0/1 [00:00<?, ?it/s]\u001B[A\n",
      "100%|██████████| 1/1 [00:00<00:00,  8.43it/s]\u001B[A\n"
     ]
    },
    {
     "name": "stdout",
     "output_type": "stream",
     "text": [
      "Epoch: 91, RMSE= 0.10834944248199463, Training Loss: 0.11\n"
     ]
    },
    {
     "name": "stderr",
     "output_type": "stream",
     "text": [
      "\n",
      "  0%|          | 0/1 [00:00<?, ?it/s]\u001B[A\n",
      "100%|██████████| 1/1 [00:00<00:00,  7.83it/s]\u001B[A\n"
     ]
    },
    {
     "name": "stdout",
     "output_type": "stream",
     "text": [
      "Epoch: 92, RMSE= 0.10834622383117676, Training Loss: 0.11\n"
     ]
    },
    {
     "name": "stderr",
     "output_type": "stream",
     "text": [
      "\n",
      "  0%|          | 0/1 [00:00<?, ?it/s]\u001B[A\n",
      "100%|██████████| 1/1 [00:00<00:00,  8.05it/s]\u001B[A\n"
     ]
    },
    {
     "name": "stdout",
     "output_type": "stream",
     "text": [
      "Epoch: 93, RMSE= 0.1083437387759869, Training Loss: 0.11\n"
     ]
    },
    {
     "name": "stderr",
     "output_type": "stream",
     "text": [
      "\n",
      "  0%|          | 0/1 [00:00<?, ?it/s]\u001B[A\n",
      "100%|██████████| 1/1 [00:00<00:00,  8.05it/s]\u001B[A\n"
     ]
    },
    {
     "name": "stdout",
     "output_type": "stream",
     "text": [
      "Epoch: 94, RMSE= 0.10834186810713547, Training Loss: 0.11\n"
     ]
    },
    {
     "name": "stderr",
     "output_type": "stream",
     "text": [
      "\n",
      "  0%|          | 0/1 [00:00<?, ?it/s]\u001B[A\n",
      "100%|██████████| 1/1 [00:00<00:00,  5.68it/s]\u001B[A\n"
     ]
    },
    {
     "name": "stdout",
     "output_type": "stream",
     "text": [
      "Epoch: 95, RMSE= 0.10834052012516902, Training Loss: 0.11\n"
     ]
    },
    {
     "name": "stderr",
     "output_type": "stream",
     "text": [
      "\n",
      "  0%|          | 0/1 [00:00<?, ?it/s]\u001B[A\n",
      "100%|██████████| 1/1 [00:00<00:00,  7.62it/s]\u001B[A\n"
     ]
    },
    {
     "name": "stdout",
     "output_type": "stream",
     "text": [
      "Epoch: 96, RMSE= 0.10833959396068867, Training Loss: 0.11\n"
     ]
    },
    {
     "name": "stderr",
     "output_type": "stream",
     "text": [
      "\n",
      "  0%|          | 0/1 [00:00<?, ?it/s]\u001B[A\n",
      "100%|██████████| 1/1 [00:00<00:00,  7.90it/s]\u001B[A\n"
     ]
    },
    {
     "name": "stdout",
     "output_type": "stream",
     "text": [
      "Epoch: 97, RMSE= 0.10833901625413161, Training Loss: 0.11\n"
     ]
    },
    {
     "name": "stderr",
     "output_type": "stream",
     "text": [
      "\n",
      "  0%|          | 0/1 [00:00<?, ?it/s]\u001B[A\n",
      "100%|██████████| 1/1 [00:00<00:00,  8.39it/s]\u001B[A\n"
     ]
    },
    {
     "name": "stdout",
     "output_type": "stream",
     "text": [
      "Epoch: 98, RMSE= 0.10833868613609901, Training Loss: 0.11\n"
     ]
    },
    {
     "name": "stderr",
     "output_type": "stream",
     "text": [
      "\n",
      "  0%|          | 0/1 [00:00<?, ?it/s]\u001B[A\n",
      "100%|██████████| 1/1 [00:00<00:00,  7.62it/s]\u001B[A\n"
     ]
    },
    {
     "name": "stdout",
     "output_type": "stream",
     "text": [
      "Epoch: 99, RMSE= 0.10833854858691876, Training Loss: 0.11\n"
     ]
    },
    {
     "name": "stderr",
     "output_type": "stream",
     "text": [
      "\n",
      "  0%|          | 0/1 [00:00<?, ?it/s]\u001B[A\n",
      "100%|██████████| 1/1 [00:00<00:00,  8.12it/s]\u001B[A\n"
     ]
    },
    {
     "name": "stdout",
     "output_type": "stream",
     "text": [
      "Epoch: 100, RMSE= 0.10833851190713736, Training Loss: 0.11\n",
      "IndustrialDispatcher - 21 individuals out of 21 in previous population were evaluated successfully.\n",
      "IndustrialEvoOptimizer - Generation num: 1 size: 21\n",
      "IndustrialEvoOptimizer - Best individuals: HallOfFame archive fitness (1): ['<rmse=2.560 node_number=0.200>']\n",
      "IndustrialEvoOptimizer - Next population size: 13; max graph depth: 6\n",
      "IndustrialDispatcher - Number of used CPU's: 8\n",
      "2024-07-09 15:54:46,509 - full garbage collections took 14% CPU time recently (threshold: 10%)\n",
      "2024-07-09 15:54:59,660 - full garbage collections took 18% CPU time recently (threshold: 10%)\n",
      "2024-07-09 15:55:19,702 - full garbage collections took 18% CPU time recently (threshold: 10%)\n",
      "2024-07-09 15:55:24,341 - full garbage collections took 18% CPU time recently (threshold: 10%)\n",
      "IndustrialDispatcher - 12 individuals out of 12 in previous population were evaluated successfully.\n",
      "ReproductionController - Reproduction achieved pop size 12 using 1 attempt(s) with success rate 0.992\n",
      "RandomAgent - len=12 nonzero=2 avg=-0.379 std=0.375 min=-0.755 max=-0.004 \n",
      "RandomAgent - actions/rewards: [(<bound method IndustrialMutations.single_change of <fedot_ind.core.repository.industrial_implementations.optimisation.IndustrialMutations object at 0x000001EAFF561100>>, 0.0), (<bound method IndustrialMutations.add_preprocessing of <fedot_ind.core.repository.industrial_implementations.optimisation.IndustrialMutations object at 0x000001EAFF561100>>, 0.0), (<bound method IndustrialMutations.single_change of <fedot_ind.core.repository.industrial_implementations.optimisation.IndustrialMutations object at 0x000001EAFF561100>>, 0.0), (<bound method IndustrialMutations.parameter_change_mutation of <fedot_ind.core.repository.industrial_implementations.optimisation.IndustrialMutations object at 0x000001EAFF561100>>, 0.0), (<bound method IndustrialMutations.parameter_change_mutation of <fedot_ind.core.repository.industrial_implementations.optimisation.IndustrialMutations object at 0x000001EAFF561100>>, 0.0), (<bound method IndustrialMutations.parameter_change_mutation of <fedot_ind.core.repository.industrial_implementations.optimisation.IndustrialMutations object at 0x000001EAFF561100>>, -0.7548), (<bound method IndustrialMutations.single_change of <fedot_ind.core.repository.industrial_implementations.optimisation.IndustrialMutations object at 0x000001EAFF561100>>, 0.0), (<bound method IndustrialMutations.single_change of <fedot_ind.core.repository.industrial_implementations.optimisation.IndustrialMutations object at 0x000001EAFF561100>>, 0.0), (<bound method IndustrialMutations.single_change of <fedot_ind.core.repository.industrial_implementations.optimisation.IndustrialMutations object at 0x000001EAFF561100>>, 0.0), (<bound method IndustrialMutations.parameter_change_mutation of <fedot_ind.core.repository.industrial_implementations.optimisation.IndustrialMutations object at 0x000001EAFF561100>>, 0.0), (<bound method IndustrialMutations.parameter_change_mutation of <fedot_ind.core.repository.industrial_implementations.optimisation.IndustrialMutations object at 0x000001EAFF561100>>, -0.0041), (<bound method IndustrialMutations.single_change of <fedot_ind.core.repository.industrial_implementations.optimisation.IndustrialMutations object at 0x000001EAFF561100>>, 0.0)]\n",
      "RandomAgent - exp=[0.4 0.2 0.2 0.1 0.1] probs=[0.4 0.2 0.2 0.1 0.1]\n"
     ]
    },
    {
     "name": "stderr",
     "output_type": "stream",
     "text": [
      "Generations:   0%|          | 1/10000 [09:16<1544:46:15, 556.17s/gen]"
     ]
    },
    {
     "name": "stdout",
     "output_type": "stream",
     "text": [
      "IndustrialEvoOptimizer - Generation num: 2 size: 13\n",
      "IndustrialEvoOptimizer - Best individuals: HallOfFame archive fitness (1): ['<rmse=2.558 node_number=0.200>']\n",
      "GroupedCondition - Optimisation stopped: Time limit is reached\n"
     ]
    },
    {
     "name": "stderr",
     "output_type": "stream",
     "text": [
      "Generations:   0%|          | 1/10000 [09:16<1544:52:24, 556.21s/gen]"
     ]
    },
    {
     "name": "stdout",
     "output_type": "stream",
     "text": [
      "OptimisationTimer - Composition time: 9.27 min\n",
      "OptimisationTimer - Algorithm was terminated due to processing time limit\n",
      "IndustrialEvoOptimizer - Generation num: 3 size: 1\n",
      "IndustrialEvoOptimizer - Best individuals: HallOfFame archive fitness (1): ['<rmse=2.558 node_number=0.200>']\n",
      "IndustrialEvoOptimizer - no improvements for 1 iterations\n",
      "IndustrialEvoOptimizer - spent time: 9.3 min\n",
      "GPComposer - GP composition finished\n"
     ]
    },
    {
     "name": "stderr",
     "output_type": "stream",
     "text": [
      "\n"
     ]
    },
    {
     "name": "stdout",
     "output_type": "stream",
     "text": [
      "2024-07-09 15:55:24,685 - full garbage collections took 19% CPU time recently (threshold: 10%)\n",
      "ApiComposer - Model generation finished\n",
      "FEDOT logger - Final pipeline was fitted\n",
      "FEDOT logger - Final pipeline: {'depth': 2, 'length': 2, 'nodes': [treg, quantile_extractor]}\n",
      "treg - {'max_features': 0.1379931513733657, 'min_samples_split': 14, 'min_samples_leaf': 4, 'bootstrap': True}\n",
      "quantile_extractor - {'window_size': 30, 'stride': 2, 'add_global_features': False}\n",
      "MemoryAnalytics - Memory consumption for finish in main session: current 151.4 MiB, max: 153.2 MiB\n",
      "FEDOT logger - Predictions was saved in current directory.\n"
     ]
    }
   ],
   "source": [
    "result_dict = api_client.eval(dataset=dataset_name, finetune=finetune)"
   ]
  },
  {
   "cell_type": "code",
   "execution_count": 5,
   "outputs": [
    {
     "data": {
      "text/plain": "      r2   rmse    mae\n0  0.584  1.161  0.833",
      "text/html": "<div>\n<style scoped>\n    .dataframe tbody tr th:only-of-type {\n        vertical-align: middle;\n    }\n\n    .dataframe tbody tr th {\n        vertical-align: top;\n    }\n\n    .dataframe thead th {\n        text-align: right;\n    }\n</style>\n<table border=\"1\" class=\"dataframe\">\n  <thead>\n    <tr style=\"text-align: right;\">\n      <th></th>\n      <th>r2</th>\n      <th>rmse</th>\n      <th>mae</th>\n    </tr>\n  </thead>\n  <tbody>\n    <tr>\n      <th>0</th>\n      <td>0.584</td>\n      <td>1.161</td>\n      <td>0.833</td>\n    </tr>\n  </tbody>\n</table>\n</div>"
     },
     "execution_count": 5,
     "metadata": {},
     "output_type": "execute_result"
    }
   ],
   "source": [
    "result_dict['metrics']"
   ],
   "metadata": {
    "collapsed": false,
    "pycharm": {
     "name": "#%%\n"
    }
   }
  },
  {
   "cell_type": "code",
   "execution_count": 9,
   "outputs": [],
   "source": [
    "opt_hist = result_dict['industrial_model'].save_optimization_history(return_history=True)"
   ],
   "metadata": {
    "collapsed": false,
    "pycharm": {
     "name": "#%%\n"
    }
   }
  },
  {
   "cell_type": "code",
   "execution_count": 10,
   "outputs": [
    {
     "data": {
      "text/plain": "<Figure size 700x700 with 1 Axes>",
      "image/png": "[encoded data removed]"
     },
     "metadata": {},
     "output_type": "display_data"
    }
   ],
   "source": [
    "result_dict['industrial_model'].solver.current_pipeline.show()"
   ],
   "metadata": {
    "collapsed": false,
    "pycharm": {
     "name": "#%%\n"
    }
   }
  },
  {
   "cell_type": "code",
   "execution_count": 11,
   "outputs": [
    {
     "name": "stdout",
     "output_type": "stream",
     "text": [
      "FitnessBox - Visualizing optimization history... It may take some time, depending on the history size.\n",
      "2024-07-09 15:58:20,154 - Using categorical units to plot a list of strings that are all parsable as floats or dates. If these strings should be plotted as numbers, cast to the appropriate data type before plotting.\n",
      "2024-07-09 15:58:20,160 - Using categorical units to plot a list of strings that are all parsable as floats or dates. If these strings should be plotted as numbers, cast to the appropriate data type before plotting.\n",
      "default - The figure was saved to \"D:\\WORK\\Repo\\Industiral\\IndustrialTS\\examples\\real_world_examples\\industrial_examples\\economic_analysis\\ts_regression\\fitness_by_generation.png\".\n"
     ]
    }
   ],
   "source": [
    "opt_hist = result_dict['industrial_model'].vis_optimisation_history(\n",
    "        opt_history_path=opt_hist,mode='fitness', return_history=True)"
   ],
   "metadata": {
    "collapsed": false,
    "pycharm": {
     "name": "#%%\n"
    }
   }
  },
  {
   "cell_type": "code",
   "execution_count": 12,
   "outputs": [
    {
     "name": "stdout",
     "output_type": "stream",
     "text": [
      "OperationsAnimatedBar - Visualizing optimization history... It may take some time, depending on the history size.\n",
      "2024-07-09 15:58:21,343 - MovieWriter ffmpeg unavailable; using Pillow instead.\n",
      "2024-07-09 15:58:21,344 - Animation.save using <class 'matplotlib.animation.PillowWriter'>\n",
      "OperationsAnimatedBar - The animation was saved to \"D:\\WORK\\Repo\\Industiral\\IndustrialTS\\examples\\real_world_examples\\industrial_examples\\economic_analysis\\ts_regression\\operations_animated_bar.gif\".\n"
     ]
    }
   ],
   "source": [
    "opt_hist = result_dict['industrial_model'].vis_optimisation_history(\n",
    "        opt_history_path=opt_hist,mode='models', return_history=True)"
   ],
   "metadata": {
    "collapsed": false,
    "pycharm": {
     "name": "#%%\n"
    }
   }
  },
  {
   "cell_type": "code",
   "execution_count": 13,
   "outputs": [],
   "source": [
    "import numpy as np\n",
    "from matplotlib import pyplot as plt\n",
    "predictions = np.vstack([api_client.test_data[1].flatten(),result_dict['labels'].flatten()]).T"
   ],
   "metadata": {
    "collapsed": false,
    "pycharm": {
     "name": "#%%\n"
    }
   }
  },
  {
   "cell_type": "code",
   "execution_count": 14,
   "outputs": [],
   "source": [
    "all_prediction = pd.DataFrame(predictions,columns=['target','automl'])"
   ],
   "metadata": {
    "collapsed": false,
    "pycharm": {
     "name": "#%%\n"
    }
   }
  },
  {
   "cell_type": "code",
   "execution_count": 15,
   "outputs": [
    {
     "data": {
      "text/plain": "<Figure size 640x480 with 1 Axes>",
      "image/png": "[encoded data removed]"
     },
     "metadata": {},
     "output_type": "display_data"
    }
   ],
   "source": [
    "all_prediction.plot()\n",
    "plt.show()"
   ],
   "metadata": {
    "collapsed": false,
    "pycharm": {
     "name": "#%%\n"
    }
   }
  },
  {
   "cell_type": "markdown",
   "source": [
    "## Compare with State of Art (SOTA) models"
   ],
   "metadata": {
    "collapsed": false,
    "pycharm": {
     "name": "#%% md\n"
    }
   }
  },
  {
   "cell_type": "code",
   "execution_count": 16,
   "outputs": [],
   "source": [
    "df = pd.read_csv(data_path+'/ts_regression_sota_results.csv',sep=';')\n",
    "df = df[df['ds/type'] == dataset_name].iloc[:,:25]\n",
    "df.index = df['algorithm']\n",
    "df = df.drop(['algorithm','ds/type'], axis=1)\n",
    "df = df.replace(',','.', regex=True).astype(float)"
   ],
   "metadata": {
    "collapsed": false,
    "pycharm": {
     "name": "#%%\n"
    }
   }
  },
  {
   "cell_type": "code",
   "execution_count": 17,
   "outputs": [],
   "source": [
    "df['Fedot_Industrial_tuned'] = result_dict['metrics']['rmse'][0]\n",
    "df = df.T"
   ],
   "metadata": {
    "collapsed": false,
    "pycharm": {
     "name": "#%%\n"
    }
   }
  },
  {
   "cell_type": "code",
   "execution_count": 18,
   "outputs": [
    {
     "data": {
      "text/plain": "FreshPRINCE_RMSE          1.020426\nDrCIF_RMSE                1.046399\nRotF_RMSE                 1.097089\nFedot_Industrial_tuned    1.161000\nTSF_RMSE                  1.172730\nRandF_RMSE                1.182821\nXGBoost_RMSE              1.272832\nRIST_RMSE                 1.301506\nRDST_RMSE                 1.382981\nMultiROCKET_RMSE          1.454406\nSingleInception_RMSE      1.490343\nInceptionT_RMSE           1.542210\n5NN-DTW_RMSE              1.593567\nCNN_RMSE                  1.602674\nFPCR-Bs_RMSE              1.607024\nResNet_RMSE               1.610736\nFCN_RMSE                  1.636335\nFPCR_RMSE                 1.637966\nGrid-SVR_RMSE             1.699988\nRidge_RMSE                1.713667\nROCKET_RMSE               1.856612\n5NN-ED_RMSE               1.905470\n1NN-ED_RMSE               2.129638\n1NN-DTW_RMSE              2.211915\nName: min, dtype: float64"
     },
     "execution_count": 18,
     "metadata": {},
     "output_type": "execute_result"
    }
   ],
   "source": [
    "df.sort_values('min')['min']"
   ],
   "metadata": {
    "collapsed": false,
    "pycharm": {
     "name": "#%%\n"
    }
   }
  },
  {
   "cell_type": "code",
   "execution_count": 19,
   "outputs": [
    {
     "data": {
      "text/plain": "Fedot_Industrial_tuned    1.161000\nRIST_RMSE                 1.887153\nRotF_RMSE                 2.088333\nFreshPRINCE_RMSE          2.101253\nMultiROCKET_RMSE          2.137563\nTSF_RMSE                  2.181236\nRDST_RMSE                 2.200364\nDrCIF_RMSE                2.201153\nResNet_RMSE               2.404590\nRandF_RMSE                2.446314\n5NN-DTW_RMSE              2.502464\nXGBoost_RMSE              2.511297\nFPCR-Bs_RMSE              2.512605\nFPCR_RMSE                 2.523426\n5NN-ED_RMSE               2.554152\nFCN_RMSE                  2.559661\nInceptionT_RMSE           2.574168\nSingleInception_RMSE      2.633115\nCNN_RMSE                  2.674200\nGrid-SVR_RMSE             2.800419\nROCKET_RMSE               2.870444\nRidge_RMSE                2.904762\n1NN-ED_RMSE               3.281798\n1NN-DTW_RMSE              3.408802\nName: max, dtype: float64"
     },
     "execution_count": 19,
     "metadata": {},
     "output_type": "execute_result"
    }
   ],
   "source": [
    "df.sort_values('max')['max']"
   ],
   "metadata": {
    "collapsed": false,
    "pycharm": {
     "name": "#%%\n"
    }
   }
  },
  {
   "cell_type": "code",
   "execution_count": 20,
   "outputs": [
    {
     "data": {
      "text/plain": "Fedot_Industrial_tuned    1.161000\nFreshPRINCE_RMSE          1.490442\nRIST_RMSE                 1.501047\nRotF_RMSE                 1.559385\nDrCIF_RMSE                1.594442\nTSF_RMSE                  1.684828\nRandF_RMSE                1.708196\nXGBoost_RMSE              1.716903\nRDST_RMSE                 1.772813\nMultiROCKET_RMSE          1.773578\nResNet_RMSE               1.938074\nInceptionT_RMSE           2.030315\nFPCR_RMSE                 2.052389\n5NN-DTW_RMSE              2.055256\nFCN_RMSE                  2.069046\nFPCR-Bs_RMSE              2.097964\nSingleInception_RMSE      2.149368\nCNN_RMSE                  2.150854\nGrid-SVR_RMSE             2.203537\n5NN-ED_RMSE               2.251424\nROCKET_RMSE               2.275254\nRidge_RMSE                2.363609\n1NN-DTW_RMSE              2.742105\n1NN-ED_RMSE               2.822595\nName: average, dtype: float64"
     },
     "execution_count": 20,
     "metadata": {},
     "output_type": "execute_result"
    }
   ],
   "source": [
    "df.sort_values('average')['average']"
   ],
   "metadata": {
    "collapsed": false,
    "pycharm": {
     "name": "#%%\n"
    }
   }
  }
 ],
 "metadata": {
  "kernelspec": {
   "display_name": "Python 3 (ipykernel)",
   "language": "python",
   "name": "python3"
  },
  "language_info": {
   "codemirror_mode": {
    "name": "ipython",
    "version": 3
   },
   "file_extension": ".py",
   "mimetype": "text/x-python",
   "name": "python",
   "nbconvert_exporter": "python",
   "pygments_lexer": "ipython3",
   "version": "3.8.1"
  }
 },
 "nbformat": 4,
 "nbformat_minor": 1
}