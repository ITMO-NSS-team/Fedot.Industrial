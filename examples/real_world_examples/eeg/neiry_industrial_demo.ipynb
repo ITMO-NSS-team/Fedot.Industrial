{
 "cells": [
  {
   "cell_type": "code",
   "execution_count": 3,
   "metadata": {
    "collapsed": true,
    "pycharm": {
     "name": "#%%\n"
    }
   },
   "outputs": [],
   "source": [
    "import numpy as np\n",
    "from fedot_ind.api.main import FedotIndustrial\n",
    "from sklearn.model_selection import train_test_split\n",
    "from fedot_ind.core.models.tabular.tabular_extractor import TabularExtractor\n",
    "from fedot_ind.api.utils.checkers_collections import DataCheck"
   ]
  },
  {
   "cell_type": "markdown",
   "source": [
    "# Загрузка и разделение данных"
   ],
   "metadata": {
    "collapsed": false,
    "pycharm": {
     "name": "#%% md\n"
    }
   }
  },
  {
   "cell_type": "code",
   "execution_count": 4,
   "outputs": [],
   "source": [
    "sig_X = np.load('./sig_data.npy').swapaxes(1, 2)\n",
    "sig_y = np.load('./sig_target.npy')\n",
    "metric_names = ('f1', 'accuracy')\n",
    "task_type = 'classification'\n",
    "x_train, x_test, y_train, y_test = train_test_split(sig_X, sig_y, test_size=0.2, random_state=42)\n",
    "train_data, test_data = (x_train, y_train), (x_test, y_test)"
   ],
   "metadata": {
    "collapsed": false,
    "pycharm": {
     "name": "#%%\n"
    }
   }
  },
  {
   "cell_type": "markdown",
   "source": [
    "# Трансформация в тип данных совместимый с Индастриалом"
   ],
   "metadata": {
    "collapsed": false,
    "pycharm": {
     "name": "#%% md\n"
    }
   }
  },
  {
   "cell_type": "code",
   "execution_count": 5,
   "outputs": [],
   "source": [
    "input_data_train = DataCheck(input_data=train_data, task=task_type, fit_stage=True).check_input_data()\n",
    "input_data_test = DataCheck(input_data=test_data, task=task_type, fit_stage=True).check_input_data()"
   ],
   "metadata": {
    "collapsed": false,
    "pycharm": {
     "name": "#%%\n"
    }
   }
  },
  {
   "cell_type": "markdown",
   "source": [
    "# Создание признакового представления из сырых данных ЭЭГ"
   ],
   "metadata": {
    "collapsed": false,
    "pycharm": {
     "name": "#%% md\n"
    }
   }
  },
  {
   "cell_type": "code",
   "execution_count": 6,
   "outputs": [],
   "source": [
    "tabular_params = dict(feature_domain = 'all',\n",
    "                      use_sliding_window = False)"
   ],
   "metadata": {
    "collapsed": false,
    "pycharm": {
     "name": "#%%\n"
    }
   }
  },
  {
   "cell_type": "code",
   "execution_count": 7,
   "outputs": [],
   "source": [
    "ts_to_tabular = TabularExtractor(tabular_params)"
   ],
   "metadata": {
    "collapsed": false,
    "pycharm": {
     "name": "#%%\n"
    }
   }
  },
  {
   "cell_type": "code",
   "execution_count": 8,
   "outputs": [],
   "source": [
    "feature_matrix_train = ts_to_tabular.transform(input_data_train)"
   ],
   "metadata": {
    "collapsed": false,
    "pycharm": {
     "name": "#%%\n"
    }
   }
  },
  {
   "cell_type": "code",
   "execution_count": 9,
   "outputs": [],
   "source": [
    "feature_train = ts_to_tabular.feature_list"
   ],
   "metadata": {
    "collapsed": false,
    "pycharm": {
     "name": "#%%\n"
    }
   }
  },
  {
   "cell_type": "code",
   "execution_count": 10,
   "outputs": [],
   "source": [
    "feature_matrix_test = ts_to_tabular.transform(input_data_test)"
   ],
   "metadata": {
    "collapsed": false,
    "pycharm": {
     "name": "#%%\n"
    }
   }
  },
  {
   "cell_type": "code",
   "execution_count": 11,
   "outputs": [],
   "source": [
    "feature_test = ts_to_tabular.feature_list"
   ],
   "metadata": {
    "collapsed": false,
    "pycharm": {
     "name": "#%%\n"
    }
   }
  },
  {
   "cell_type": "code",
   "execution_count": 12,
   "outputs": [],
   "source": [
    "train_data, test_data = (feature_matrix_train.predict, y_train), (feature_matrix_test.predict, y_test)"
   ],
   "metadata": {
    "collapsed": false,
    "pycharm": {
     "name": "#%%\n"
    }
   }
  },
  {
   "cell_type": "markdown",
   "source": [
    "# Автоматическое создание модели классификации сигнала"
   ],
   "metadata": {
    "collapsed": false,
    "pycharm": {
     "name": "#%% md\n"
    }
   }
  },
  {
   "cell_type": "code",
   "execution_count": 13,
   "outputs": [],
   "source": [
    "industrial = FedotIndustrial(problem='classification',\n",
    "                             use_cache=False,\n",
    "                             preset='classification_tabular',\n",
    "                             timeout=15,\n",
    "                             n_jobs=-1,\n",
    "                             logging_level=20)"
   ],
   "metadata": {
    "collapsed": false,
    "pycharm": {
     "name": "#%%\n"
    }
   }
  },
  {
   "cell_type": "code",
   "execution_count": 14,
   "outputs": [
    {
     "name": "stdout",
     "output_type": "stream",
     "text": [
      "Creating Dask Server\n",
      "2024-09-30 15:08:08,406 - To route to workers diagnostics web server please install jupyter-server-proxy: python -m pip install jupyter-server-proxy\n",
      "2024-09-30 15:08:08,411 - State start\n",
      "2024-09-30 15:08:08,420 -   Scheduler at: inproc://10.64.4.172/14028/1\n",
      "2024-09-30 15:08:08,421 -   dashboard at:  http://10.64.4.172:8787/status\n",
      "2024-09-30 15:08:08,422 - Registering Worker plugin shuffle\n",
      "2024-09-30 15:08:08,434 -       Start worker at: inproc://10.64.4.172/14028/4\n",
      "2024-09-30 15:08:08,435 -          Listening to:          inproc10.64.4.172\n",
      "2024-09-30 15:08:08,436 -           Worker name:                          0\n",
      "2024-09-30 15:08:08,437 -          dashboard at:          10.64.4.172:65102\n",
      "2024-09-30 15:08:08,438 - Waiting to connect to: inproc://10.64.4.172/14028/1\n",
      "2024-09-30 15:08:08,438 - -------------------------------------------------\n",
      "2024-09-30 15:08:08,439 -               Threads:                          8\n",
      "2024-09-30 15:08:08,440 -                Memory:                  31.95 GiB\n",
      "2024-09-30 15:08:08,440 -       Local Directory: C:\\Users\\user\\AppData\\Local\\Temp\\dask-scratch-space\\worker-zkqr6gfw\n",
      "2024-09-30 15:08:08,441 - -------------------------------------------------\n",
      "2024-09-30 15:08:08,445 - Register worker <WorkerState 'inproc://10.64.4.172/14028/4', name: 0, status: init, memory: 0, processing: 0>\n",
      "2024-09-30 15:08:08,447 - Starting worker compute stream, inproc://10.64.4.172/14028/4\n",
      "2024-09-30 15:08:08,448 - Starting established connection to inproc://10.64.4.172/14028/5\n",
      "2024-09-30 15:08:08,449 - Starting Worker plugin shuffle\n",
      "2024-09-30 15:08:08,451 -         Registered to: inproc://10.64.4.172/14028/1\n",
      "2024-09-30 15:08:08,451 - -------------------------------------------------\n",
      "2024-09-30 15:08:08,453 - Starting established connection to inproc://10.64.4.172/14028/1\n",
      "2024-09-30 15:08:08,456 - Receive client connection: Client-a7eb582e-7f24-11ef-b6cc-b42e99a00ea1\n",
      "2024-09-30 15:08:08,458 - Starting established connection to inproc://10.64.4.172/14028/6\n",
      "AssumptionsHandler - Initial pipeline fitting started\n",
      "AssumptionsHandler - Initial pipeline was fitted successfully\n",
      "AssumptionsHandler - Memory consumption for fitting of the initial pipeline in main session: current 1.5 MiB, max: 3.6 MiB\n",
      "ApiComposer - Initial pipeline was fitted in 1.8 sec.\n",
      "ApiComposer - AutoML configured. Parameters tuning: True. Time limit: 15 min. Set of candidate models: ['xgboost', 'logit', 'dt', 'rf', 'mlp', 'lgbm', 'scaling', 'normalization', 'simple_imputation', 'kernel_pca'].\n",
      "ApiComposer - Pipeline composition started.\n",
      "DataSourceSplitter - K-folds cross validation is applied.\n"
     ]
    },
    {
     "name": "stderr",
     "output_type": "stream",
     "text": [
      "Generations:   0%|          | 0/10000 [00:00<?, ?gen/s]"
     ]
    },
    {
     "name": "stdout",
     "output_type": "stream",
     "text": [
      "MultiprocessingDispatcher - Number of used CPU's: 8\n",
      "MultiprocessingDispatcher - 1 individuals out of 1 in previous population were evaluated successfully.\n",
      "EvoGraphOptimizer - Generation num: 1 size: 1\n",
      "EvoGraphOptimizer - Best individuals: HallOfFame archive fitness (1): ['<roc_auc_pen=-0.731 node_number=0.100>']\n",
      "MultiprocessingDispatcher - Number of used CPU's: 8\n",
      "MultiprocessingDispatcher - 20 individuals out of 21 in previous population were evaluated successfully.\n",
      "EvoGraphOptimizer - Generation num: 2 size: 20\n",
      "EvoGraphOptimizer - Best individuals: HallOfFame archive fitness (1): ['<roc_auc_pen=-0.742 node_number=0.100>']\n",
      "EvoGraphOptimizer - Next population size: 20; max graph depth: 6\n",
      "MultiprocessingDispatcher - Number of used CPU's: 8\n",
      "MultiprocessingDispatcher - 10 individuals out of 13 in previous population were evaluated successfully.\n",
      "MultiprocessingDispatcher - Number of used CPU's: 8\n",
      "MultiprocessingDispatcher - 9 individuals out of 10 in previous population were evaluated successfully.\n",
      "ReproductionController - Reproduction achieved pop size 19 using 2 attempt(s) with success rate 0.940\n",
      "RandomAgent - len=23 nonzero=11 avg=-0.355 std=0.488 min=-1.000 max=0.060 \n",
      "RandomAgent - actions/rewards: [(<MutationTypesEnum.single_add: 'single_add'>, -1.0), (<MutationTypesEnum.single_add: 'single_add'>, -1.0), (<MutationTypesEnum.single_add: 'single_add'>, -1.0), (<MutationTypesEnum.single_add: 'single_add'>, -1.0), (<MutationTypesEnum.single_change: 'single_change'>, 0.0), (<function parameter_change_mutation at 0x0000017A9ABC4670>, 0.0302), (<function parameter_change_mutation at 0x0000017A9ABC4670>, 0.0601), (<function parameter_change_mutation at 0x0000017A9ABC4670>, 0.0), (<function parameter_change_mutation at 0x0000017A9ABC4670>, 0.0), (<MutationTypesEnum.single_change: 'single_change'>, 0.0), (<MutationTypesEnum.single_drop: 'single_drop'>, 0.0), (<MutationTypesEnum.single_add: 'single_add'>, 0.0075), (<function parameter_change_mutation at 0x0000017A9ABC4670>, 0.0), (<function parameter_change_mutation at 0x0000017A9ABC4670>, 0.0), (<MutationTypesEnum.single_change: 'single_change'>, 0.0), (<MutationTypesEnum.single_change: 'single_change'>, 0.0), (<function parameter_change_mutation at 0x0000017A9ABC4670>, -0.0041), (<function parameter_change_mutation at 0x0000017A9ABC4670>, 0.0175), (<MutationTypesEnum.single_add: 'single_add'>, 0.0), (<function parameter_change_mutation at 0x0000017A9ABC4670>, -0.0252), (<function parameter_change_mutation at 0x0000017A9ABC4670>, 0.0079), (<MutationTypesEnum.single_change: 'single_change'>, 0.0), (<MutationTypesEnum.single_change: 'single_change'>, 0.0)]\n",
      "RandomAgent - exp=[0.1667 0.1667 0.1667 0.1667 0.1667 0.1667] probs=[0.1667 0.1667 0.1667 0.1667 0.1667 0.1667]\n"
     ]
    },
    {
     "name": "stderr",
     "output_type": "stream",
     "text": [
      "Generations:   0%|          | 1/10000 [00:19<54:36:34, 19.66s/gen]"
     ]
    },
    {
     "name": "stdout",
     "output_type": "stream",
     "text": [
      "EvoGraphOptimizer - Generation num: 3 size: 20\n",
      "EvoGraphOptimizer - Best individuals: HallOfFame archive fitness (1): ['<roc_auc_pen=-0.742 node_number=0.100>']\n",
      "EvoGraphOptimizer - no improvements for 1 iterations\n",
      "EvoGraphOptimizer - spent time: 0.3 min\n",
      "EvoGraphOptimizer - Next mutation proba: 0.05; Next crossover proba: 0.95\n",
      "EvoGraphOptimizer - Next population size: 34; max graph depth: 6\n",
      "MultiprocessingDispatcher - Number of used CPU's: 8\n",
      "MultiprocessingDispatcher - 12 individuals out of 14 in previous population were evaluated successfully.\n",
      "MultiprocessingDispatcher - Number of used CPU's: 8\n",
      "MultiprocessingDispatcher - 13 individuals out of 15 in previous population were evaluated successfully.\n",
      "MultiprocessingDispatcher - Number of used CPU's: 8\n",
      "MultiprocessingDispatcher - 6 individuals out of 6 in previous population were evaluated successfully.\n",
      "ReproductionController - Reproduction achieved pop size 31 using 3 attempt(s) with success rate 0.825\n",
      "RandomAgent - len=32 nonzero=4 avg=-0.251 std=0.432 min=-1.000 max=-0.001 \n",
      "RandomAgent - actions/rewards: [(<MutationTypesEnum.single_add: 'single_add'>, -1.0), (<MutationTypesEnum.single_change: 'single_change'>, 0.0), (<MutationTypesEnum.single_add: 'single_add'>, -0.0013), (<function parameter_change_mutation at 0x0000017A9ABC4670>, 0.0), (<MutationTypesEnum.single_change: 'single_change'>, 0.0), (<MutationTypesEnum.single_change: 'single_change'>, 0.0), (<MutationTypesEnum.single_change: 'single_change'>, 0.0), (<function parameter_change_mutation at 0x0000017A9ABC4670>, 0.0), (<MutationTypesEnum.single_change: 'single_change'>, 0.0), (<function parameter_change_mutation at 0x0000017A9ABC4670>, 0.0), (<function parameter_change_mutation at 0x0000017A9ABC4670>, 0.0), (<MutationTypesEnum.single_change: 'single_change'>, 0.0), (<MutationTypesEnum.single_add: 'single_add'>, 0.0), (<MutationTypesEnum.single_change: 'single_change'>, 0.0), (<function parameter_change_mutation at 0x0000017A9ABC4670>, 0.0), (<MutationTypesEnum.single_change: 'single_change'>, 0.0), (<function parameter_change_mutation at 0x0000017A9ABC4670>, 0.0), (<function parameter_change_mutation at 0x0000017A9ABC4670>, 0.0), (<MutationTypesEnum.single_add: 'single_add'>, 0.0), (<MutationTypesEnum.single_add: 'single_add'>, 0.0), (<MutationTypesEnum.single_add: 'single_add'>, 0.0), (<MutationTypesEnum.single_drop: 'single_drop'>, 0.0), (<function parameter_change_mutation at 0x0000017A9ABC4670>, 0.0), (<function parameter_change_mutation at 0x0000017A9ABC4670>, 0.0), (<MutationTypesEnum.single_add: 'single_add'>, 0.0), (<MutationTypesEnum.single_change: 'single_change'>, 0.0), (<MutationTypesEnum.single_add: 'single_add'>, 0.0), (<function parameter_change_mutation at 0x0000017A9ABC4670>, 0.0), (<MutationTypesEnum.single_drop: 'single_drop'>, 0.0), (<MutationTypesEnum.single_add: 'single_add'>, -0.0013), (<MutationTypesEnum.single_add: 'single_add'>, -0.0013), (<function parameter_change_mutation at 0x0000017A9ABC4670>, 0.0)]\n",
      "RandomAgent - exp=[0.1667 0.1667 0.1667 0.1667 0.1667 0.1667] probs=[0.1667 0.1667 0.1667 0.1667 0.1667 0.1667]\n"
     ]
    },
    {
     "name": "stderr",
     "output_type": "stream",
     "text": [
      "Generations:   0%|          | 2/10000 [00:36<50:17:13, 18.11s/gen]"
     ]
    },
    {
     "name": "stdout",
     "output_type": "stream",
     "text": [
      "EvoGraphOptimizer - Generation num: 4 size: 34\n",
      "EvoGraphOptimizer - Best individuals: HallOfFame archive fitness (1): ['<roc_auc_pen=-0.744 node_number=0.100>']\n",
      "EvoGraphOptimizer - Next population size: 34; max graph depth: 6\n",
      "MultiprocessingDispatcher - Number of used CPU's: 8\n",
      "MultiprocessingDispatcher - 23 individuals out of 28 in previous population were evaluated successfully.\n",
      "MultiprocessingDispatcher - Number of used CPU's: 8\n",
      "MultiprocessingDispatcher - 4 individuals out of 6 in previous population were evaluated successfully.\n",
      "MultiprocessingDispatcher - Number of used CPU's: 8\n",
      "MultiprocessingDispatcher - 5 individuals out of 6 in previous population were evaluated successfully.\n",
      "ReproductionController - Reproduction achieved pop size 32 using 3 attempt(s) with success rate 0.755\n",
      "RandomAgent - len=34 nonzero=4 avg=-0.537 std=0.465 min=-1.000 max=-0.021 \n",
      "RandomAgent - actions/rewards: [(<MutationTypesEnum.single_add: 'single_add'>, -1.0), (<MutationTypesEnum.single_add: 'single_add'>, -1.0), (<MutationTypesEnum.single_change: 'single_change'>, 0.0), (<MutationTypesEnum.single_change: 'single_change'>, 0.0), (<MutationTypesEnum.single_add: 'single_add'>, 0.0), (<MutationTypesEnum.single_drop: 'single_drop'>, 0.0), (<function parameter_change_mutation at 0x0000017A9ABC4670>, 0.0), (<MutationTypesEnum.single_change: 'single_change'>, -0.125), (<MutationTypesEnum.single_change: 'single_change'>, -0.0215), (<MutationTypesEnum.single_add: 'single_add'>, 0.0), (<MutationTypesEnum.single_drop: 'single_drop'>, 0.0), (<MutationTypesEnum.single_add: 'single_add'>, 0.0), (<MutationTypesEnum.single_drop: 'single_drop'>, 0.0), (<MutationTypesEnum.single_change: 'single_change'>, 0.0), (<MutationTypesEnum.single_change: 'single_change'>, 0.0), (<MutationTypesEnum.single_change: 'single_change'>, 0.0), (<function parameter_change_mutation at 0x0000017A9ABC4670>, 0.0), (<MutationTypesEnum.single_add: 'single_add'>, 0.0), (<MutationTypesEnum.single_change: 'single_change'>, 0.0), (<MutationTypesEnum.single_add: 'single_add'>, 0.0), (<MutationTypesEnum.single_change: 'single_change'>, 0.0), (<MutationTypesEnum.single_drop: 'single_drop'>, 0.0), (<function parameter_change_mutation at 0x0000017A9ABC4670>, 0.0), (<function parameter_change_mutation at 0x0000017A9ABC4670>, 0.0), (<function parameter_change_mutation at 0x0000017A9ABC4670>, 0.0), (<MutationTypesEnum.single_add: 'single_add'>, 0.0), (<MutationTypesEnum.single_add: 'single_add'>, 0.0), (<function parameter_change_mutation at 0x0000017A9ABC4670>, 0.0), (<MutationTypesEnum.single_drop: 'single_drop'>, 0.0), (<function parameter_change_mutation at 0x0000017A9ABC4670>, 0.0), (<function parameter_change_mutation at 0x0000017A9ABC4670>, 0.0), (<function parameter_change_mutation at 0x0000017A9ABC4670>, 0.0), (<function parameter_change_mutation at 0x0000017A9ABC4670>, 0.0), (<MutationTypesEnum.single_add: 'single_add'>, 0.0)]\n",
      "RandomAgent - exp=[0.1667 0.1667 0.1667 0.1667 0.1667 0.1667] probs=[0.1667 0.1667 0.1667 0.1667 0.1667 0.1667]\n"
     ]
    },
    {
     "name": "stderr",
     "output_type": "stream",
     "text": [
      "Generations:   0%|          | 3/10000 [00:50<44:22:09, 15.98s/gen]"
     ]
    },
    {
     "name": "stdout",
     "output_type": "stream",
     "text": [
      "EvoGraphOptimizer - Generation num: 5 size: 34\n",
      "EvoGraphOptimizer - Best individuals: HallOfFame archive fitness (1): ['<roc_auc_pen=-0.753 node_number=0.100>']\n",
      "EvoGraphOptimizer - Next population size: 34; max graph depth: 6\n",
      "MultiprocessingDispatcher - Number of used CPU's: 8\n",
      "MultiprocessingDispatcher - 14 individuals out of 25 in previous population were evaluated successfully.\n",
      "MultiprocessingDispatcher - Number of used CPU's: 8\n",
      "MultiprocessingDispatcher - 17 individuals out of 25 in previous population were evaluated successfully.\n",
      "ReproductionController - Reproduction achieved pop size 31 using 2 attempt(s) with success rate 0.657\n",
      "RandomAgent - len=34 nonzero=5 avg=-0.619 std=0.468 min=-1.000 max=0.010 \n",
      "RandomAgent - actions/rewards: [(<MutationTypesEnum.single_drop: 'single_drop'>, -1.0), (<MutationTypesEnum.single_drop: 'single_drop'>, -1.0), (<MutationTypesEnum.single_add: 'single_add'>, -1.0), (<MutationTypesEnum.single_add: 'single_add'>, 0.0), (<MutationTypesEnum.single_drop: 'single_drop'>, 0.0), (<function parameter_change_mutation at 0x0000017A9ABC4670>, 0.0), (<function parameter_change_mutation at 0x0000017A9ABC4670>, 0.0102), (<MutationTypesEnum.single_change: 'single_change'>, -0.1043), (<function parameter_change_mutation at 0x0000017A9ABC4670>, 0.0), (<MutationTypesEnum.single_drop: 'single_drop'>, 0.0), (<function parameter_change_mutation at 0x0000017A9ABC4670>, 0.0), (<MutationTypesEnum.single_change: 'single_change'>, 0.0), (<MutationTypesEnum.single_change: 'single_change'>, 0.0), (<MutationTypesEnum.single_add: 'single_add'>, 0.0), (<function parameter_change_mutation at 0x0000017A9ABC4670>, 0.0), (<function parameter_change_mutation at 0x0000017A9ABC4670>, 0.0), (<MutationTypesEnum.single_change: 'single_change'>, 0.0), (<MutationTypesEnum.single_add: 'single_add'>, 0.0), (<MutationTypesEnum.single_change: 'single_change'>, 0.0), (<MutationTypesEnum.single_add: 'single_add'>, 0.0), (<function parameter_change_mutation at 0x0000017A9ABC4670>, 0.0), (<function parameter_change_mutation at 0x0000017A9ABC4670>, 0.0), (<MutationTypesEnum.single_drop: 'single_drop'>, 0.0), (<MutationTypesEnum.single_add: 'single_add'>, 0.0), (<MutationTypesEnum.single_change: 'single_change'>, 0.0), (<MutationTypesEnum.single_change: 'single_change'>, 0.0), (<MutationTypesEnum.single_change: 'single_change'>, 0.0), (<function parameter_change_mutation at 0x0000017A9ABC4670>, 0.0), (<MutationTypesEnum.single_change: 'single_change'>, 0.0), (<MutationTypesEnum.single_change: 'single_change'>, 0.0), (<MutationTypesEnum.single_change: 'single_change'>, 0.0), (<function parameter_change_mutation at 0x0000017A9ABC4670>, 0.0), (<MutationTypesEnum.single_add: 'single_add'>, 0.0), (<MutationTypesEnum.single_change: 'single_change'>, 0.0)]\n",
      "RandomAgent - exp=[0.1667 0.1667 0.1667 0.1667 0.1667 0.1667] probs=[0.1667 0.1667 0.1667 0.1667 0.1667 0.1667]\n",
      "MultiprocessingDispatcher - Number of used CPU's: 8\n",
      "MultiprocessingDispatcher - 31 individuals out of 31 in previous population were evaluated successfully.\n"
     ]
    },
    {
     "name": "stderr",
     "output_type": "stream",
     "text": [
      "Generations:   0%|          | 4/10000 [01:05<43:55:03, 15.82s/gen]"
     ]
    },
    {
     "name": "stdout",
     "output_type": "stream",
     "text": [
      "EvoGraphOptimizer - Generation num: 6 size: 31\n",
      "EvoGraphOptimizer - Best individuals: HallOfFame archive fitness (1): ['<roc_auc_pen=-0.753 node_number=0.100>']\n",
      "EvoGraphOptimizer - no improvements for 1 iterations\n",
      "EvoGraphOptimizer - spent time: 1.1 min\n",
      "EvoGraphOptimizer - Next mutation proba: 0.6202357138145096; Next crossover proba: 0.3797642861854904\n",
      "EvoGraphOptimizer - Next population size: 55; max graph depth: 6\n",
      "MultiprocessingDispatcher - Number of used CPU's: 8\n",
      "MultiprocessingDispatcher - 14 individuals out of 21 in previous population were evaluated successfully.\n",
      "MultiprocessingDispatcher - Number of used CPU's: 8\n",
      "MultiprocessingDispatcher - 10 individuals out of 16 in previous population were evaluated successfully.\n",
      "MultiprocessingDispatcher - Number of used CPU's: 8\n",
      "MultiprocessingDispatcher - 16 individuals out of 20 in previous population were evaluated successfully.\n",
      "MultiprocessingDispatcher - Number of used CPU's: 8\n",
      "MultiprocessingDispatcher - 7 individuals out of 12 in previous population were evaluated successfully.\n",
      "MultiprocessingDispatcher - Number of used CPU's: 8\n",
      "MultiprocessingDispatcher - 7 individuals out of 11 in previous population were evaluated successfully.\n",
      "ReproductionController - Reproduction achieved pop size 54 using 5 attempt(s) with success rate 0.494\n",
      "RandomAgent - len=60 nonzero=41 avg=-0.220 std=0.331 min=-1.000 max=0.002 \n",
      "RandomAgent - actions/rewards: [(<MutationTypesEnum.single_drop: 'single_drop'>, -1.0), (<MutationTypesEnum.single_drop: 'single_drop'>, -1.0), (<MutationTypesEnum.single_add: 'single_add'>, -1.0), (<MutationTypesEnum.single_add: 'single_add'>, -1.0), (<MutationTypesEnum.single_add: 'single_add'>, -1.0), (<MutationTypesEnum.single_drop: 'single_drop'>, -1.0), (<MutationTypesEnum.single_change: 'single_change'>, -0.0473), (<MutationTypesEnum.single_drop: 'single_drop'>, 0.0013), (<MutationTypesEnum.single_change: 'single_change'>, 0.0), (<function parameter_change_mutation at 0x0000017A9ABC4670>, -0.0064), (<MutationTypesEnum.single_change: 'single_change'>, -0.1316), (<function parameter_change_mutation at 0x0000017A9ABC4670>, -0.0648), (<function parameter_change_mutation at 0x0000017A9ABC4670>, -0.0477), (<MutationTypesEnum.single_add: 'single_add'>, -0.2878), (<MutationTypesEnum.single_change: 'single_change'>, -0.162), (<function parameter_change_mutation at 0x0000017A9ABC4670>, 0.0), (<MutationTypesEnum.single_change: 'single_change'>, -0.132), (<MutationTypesEnum.single_change: 'single_change'>, -0.05), (<function parameter_change_mutation at 0x0000017A9ABC4670>, 0.0), (<MutationTypesEnum.single_drop: 'single_drop'>, 0.0013), (<function parameter_change_mutation at 0x0000017A9ABC4670>, -0.0018), (<MutationTypesEnum.single_add: 'single_add'>, -0.0013), (<function parameter_change_mutation at 0x0000017A9ABC4670>, -0.0065), (<MutationTypesEnum.single_change: 'single_change'>, -0.1458), (<function parameter_change_mutation at 0x0000017A9ABC4670>, -0.0141), (<MutationTypesEnum.single_add: 'single_add'>, -0.0013), (<function parameter_change_mutation at 0x0000017A9ABC4670>, 0.0), (<MutationTypesEnum.single_drop: 'single_drop'>, -0.1733), (<MutationTypesEnum.single_add: 'single_add'>, -0.1694), (<MutationTypesEnum.single_change: 'single_change'>, -0.1358), (<MutationTypesEnum.single_add: 'single_add'>, 0.0), (<MutationTypesEnum.single_change: 'single_change'>, 0.0), (<function parameter_change_mutation at 0x0000017A9ABC4670>, 0.0), (<MutationTypesEnum.single_add: 'single_add'>, -0.002), (<MutationTypesEnum.single_drop: 'single_drop'>, 0.002), (<MutationTypesEnum.single_change: 'single_change'>, -0.1373), (<MutationTypesEnum.single_change: 'single_change'>, -0.2334), (<MutationTypesEnum.single_change: 'single_change'>, -0.1509), (<MutationTypesEnum.single_add: 'single_add'>, -0.002), (<MutationTypesEnum.single_change: 'single_change'>, 0.0), (<MutationTypesEnum.single_change: 'single_change'>, 0.0), (<MutationTypesEnum.single_change: 'single_change'>, -0.1281), (<function parameter_change_mutation at 0x0000017A9ABC4670>, 0.0), (<function parameter_change_mutation at 0x0000017A9ABC4670>, -0.0519), (<MutationTypesEnum.single_change: 'single_change'>, -0.1744), (<MutationTypesEnum.single_change: 'single_change'>, -0.1465), (<MutationTypesEnum.single_change: 'single_change'>, -0.1397), (<MutationTypesEnum.single_change: 'single_change'>, 0.0), (<MutationTypesEnum.single_change: 'single_change'>, -0.1427), (<function parameter_change_mutation at 0x0000017A9ABC4670>, 0.0), (<MutationTypesEnum.single_change: 'single_change'>, 0.0), (<MutationTypesEnum.single_change: 'single_change'>, 0.0), (<MutationTypesEnum.single_add: 'single_add'>, -0.0013), (<function parameter_change_mutation at 0x0000017A9ABC4670>, 0.0), (<function parameter_change_mutation at 0x0000017A9ABC4670>, 0.0), (<MutationTypesEnum.single_change: 'single_change'>, 0.0), (<function parameter_change_mutation at 0x0000017A9ABC4670>, 0.0), (<MutationTypesEnum.single_add: 'single_add'>, 0.0), (<MutationTypesEnum.single_add: 'single_add'>, -0.0013), (<MutationTypesEnum.single_change: 'single_change'>, -0.1482)]\n",
      "RandomAgent - exp=[0.1667 0.1667 0.1667 0.1667 0.1667 0.1667] probs=[0.1667 0.1667 0.1667 0.1667 0.1667 0.1667]\n"
     ]
    },
    {
     "name": "stderr",
     "output_type": "stream",
     "text": [
      "Generations:   0%|          | 5/10000 [01:27<49:40:11, 17.89s/gen]"
     ]
    },
    {
     "name": "stdout",
     "output_type": "stream",
     "text": [
      "EvoGraphOptimizer - Generation num: 7 size: 55\n",
      "EvoGraphOptimizer - Best individuals: HallOfFame archive fitness (1): ['<roc_auc_pen=-0.753 node_number=0.100>']\n",
      "EvoGraphOptimizer - no improvements for 2 iterations\n",
      "EvoGraphOptimizer - spent time: 1.5 min\n",
      "EvoGraphOptimizer - Next mutation proba: 0.2915524857640056; Next crossover proba: 0.7084475142359944\n",
      "EvoGraphOptimizer - Next population size: 55; max graph depth: 6\n",
      "MultiprocessingDispatcher - Number of used CPU's: 8\n",
      "MultiprocessingDispatcher - 19 individuals out of 31 in previous population were evaluated successfully.\n",
      "MultiprocessingDispatcher - Number of used CPU's: 8\n",
      "MultiprocessingDispatcher - 27 individuals out of 35 in previous population were evaluated successfully.\n",
      "MultiprocessingDispatcher - Number of used CPU's: 8\n",
      "MultiprocessingDispatcher - 9 individuals out of 14 in previous population were evaluated successfully.\n",
      "ReproductionController - Reproduction achieved pop size 55 using 3 attempt(s) with success rate 0.432\n",
      "RandomAgent - len=67 nonzero=24 avg=-0.519 std=0.482 min=-1.000 max=0.004 \n",
      "RandomAgent - actions/rewards: [(<MutationTypesEnum.single_add: 'single_add'>, -1.0), (<MutationTypesEnum.single_drop: 'single_drop'>, -1.0), (<MutationTypesEnum.single_add: 'single_add'>, -1.0), (<MutationTypesEnum.single_add: 'single_add'>, -1.0), (<MutationTypesEnum.single_drop: 'single_drop'>, -1.0), (<MutationTypesEnum.single_drop: 'single_drop'>, -1.0), (<MutationTypesEnum.single_drop: 'single_drop'>, -1.0), (<MutationTypesEnum.single_drop: 'single_drop'>, -1.0), (<MutationTypesEnum.single_add: 'single_add'>, -1.0), (<MutationTypesEnum.single_drop: 'single_drop'>, -1.0), (<MutationTypesEnum.single_add: 'single_add'>, -1.0), (<MutationTypesEnum.single_add: 'single_add'>, -1.0), (<MutationTypesEnum.single_drop: 'single_drop'>, 0.0), (<MutationTypesEnum.single_add: 'single_add'>, 0.0), (<function parameter_change_mutation at 0x0000017A9ABC4670>, 0.0), (<function parameter_change_mutation at 0x0000017A9ABC4670>, 0.0), (<MutationTypesEnum.single_change: 'single_change'>, 0.0), (<MutationTypesEnum.single_change: 'single_change'>, 0.0), (<MutationTypesEnum.single_edge: 'single_edge'>, -0.0091), (<MutationTypesEnum.single_change: 'single_change'>, 0.0), (<function parameter_change_mutation at 0x0000017A9ABC4670>, 0.0), (<MutationTypesEnum.single_change: 'single_change'>, 0.0), (<MutationTypesEnum.single_add: 'single_add'>, 0.0), (<function parameter_change_mutation at 0x0000017A9ABC4670>, 0.0), (<MutationTypesEnum.single_change: 'single_change'>, 0.0), (<MutationTypesEnum.single_change: 'single_change'>, 0.0), (<MutationTypesEnum.single_add: 'single_add'>, -0.06), (<MutationTypesEnum.single_change: 'single_change'>, -0.1602), (<function parameter_change_mutation at 0x0000017A9ABC4670>, -0.0279), (<function parameter_change_mutation at 0x0000017A9ABC4670>, 0.0), (<MutationTypesEnum.single_add: 'single_add'>, 0.0), (<MutationTypesEnum.single_drop: 'single_drop'>, 0.0), (<MutationTypesEnum.single_add: 'single_add'>, 0.0), (<MutationTypesEnum.single_add: 'single_add'>, 0.0), (<MutationTypesEnum.single_add: 'single_add'>, -0.0013), (<MutationTypesEnum.single_change: 'single_change'>, 0.0), (<MutationTypesEnum.single_change: 'single_change'>, 0.0), (<MutationTypesEnum.single_drop: 'single_drop'>, 0.002), (<MutationTypesEnum.single_change: 'single_change'>, 0.0), (<MutationTypesEnum.single_drop: 'single_drop'>, 0.0), (<MutationTypesEnum.single_change: 'single_change'>, 0.0), (<MutationTypesEnum.single_add: 'single_add'>, 0.0), (<MutationTypesEnum.single_change: 'single_change'>, -0.0991), (<function parameter_change_mutation at 0x0000017A9ABC4670>, -0.0373), (<MutationTypesEnum.single_change: 'single_change'>, 0.0), (<MutationTypesEnum.single_edge: 'single_edge'>, 0.0039), (<MutationTypesEnum.single_add: 'single_add'>, 0.0), (<MutationTypesEnum.single_add: 'single_add'>, 0.0), (<MutationTypesEnum.single_drop: 'single_drop'>, 0.0013), (<MutationTypesEnum.single_change: 'single_change'>, 0.0), (<MutationTypesEnum.single_change: 'single_change'>, 0.0), (<MutationTypesEnum.single_change: 'single_change'>, 0.0), (<MutationTypesEnum.single_change: 'single_change'>, 0.0), (<MutationTypesEnum.single_change: 'single_change'>, 0.0), (<MutationTypesEnum.single_add: 'single_add'>, 0.0), (<MutationTypesEnum.single_change: 'single_change'>, 0.0), (<function parameter_change_mutation at 0x0000017A9ABC4670>, 0.0), (<MutationTypesEnum.single_add: 'single_add'>, 0.0), (<MutationTypesEnum.single_change: 'single_change'>, 0.0), (<MutationTypesEnum.single_drop: 'single_drop'>, 0.0), (<MutationTypesEnum.single_add: 'single_add'>, 0.0), (<function parameter_change_mutation at 0x0000017A9ABC4670>, 0.0), (<MutationTypesEnum.single_drop: 'single_drop'>, 0.0013), (<MutationTypesEnum.single_add: 'single_add'>, 0.0), (<MutationTypesEnum.single_change: 'single_change'>, -0.0712), (<MutationTypesEnum.single_change: 'single_change'>, 0.0), (<MutationTypesEnum.single_add: 'single_add'>, 0.0)]\n",
      "RandomAgent - exp=[0.1667 0.1667 0.1667 0.1667 0.1667 0.1667] probs=[0.1667 0.1667 0.1667 0.1667 0.1667 0.1667]\n"
     ]
    },
    {
     "name": "stderr",
     "output_type": "stream",
     "text": [
      "Generations:   0%|          | 6/10000 [01:52<56:42:48, 20.43s/gen]"
     ]
    },
    {
     "name": "stdout",
     "output_type": "stream",
     "text": [
      "EvoGraphOptimizer - Generation num: 8 size: 55\n",
      "EvoGraphOptimizer - Best individuals: HallOfFame archive fitness (1): ['<roc_auc_pen=-0.753 node_number=0.100>']\n",
      "EvoGraphOptimizer - no improvements for 3 iterations\n",
      "EvoGraphOptimizer - spent time: 1.9 min\n",
      "EvoGraphOptimizer - Next mutation proba: 0.5940944416766811; Next crossover proba: 0.40590555832331887\n",
      "EvoGraphOptimizer - Next population size: 55; max graph depth: 6\n",
      "MultiprocessingDispatcher - Number of used CPU's: 8\n",
      "MultiprocessingDispatcher - 26 individuals out of 35 in previous population were evaluated successfully.\n",
      "MultiprocessingDispatcher - Number of used CPU's: 8\n",
      "MultiprocessingDispatcher - 26 individuals out of 35 in previous population were evaluated successfully.\n",
      "ReproductionController - Reproduction achieved pop size 52 using 2 attempt(s) with success rate 0.425\n",
      "RandomAgent - len=63 nonzero=40 avg=-0.327 std=0.424 min=-1.000 max=0.001 \n",
      "RandomAgent - actions/rewards: [(<MutationTypesEnum.single_drop: 'single_drop'>, -1.0), (<MutationTypesEnum.single_drop: 'single_drop'>, -1.0), (<MutationTypesEnum.single_add: 'single_add'>, -1.0), (<MutationTypesEnum.single_add: 'single_add'>, -1.0), (<MutationTypesEnum.single_drop: 'single_drop'>, -1.0), (<MutationTypesEnum.single_drop: 'single_drop'>, -1.0), (<MutationTypesEnum.single_drop: 'single_drop'>, -1.0), (<MutationTypesEnum.single_drop: 'single_drop'>, -1.0), (<MutationTypesEnum.single_drop: 'single_drop'>, -1.0), (<MutationTypesEnum.single_drop: 'single_drop'>, -1.0), (<MutationTypesEnum.single_drop: 'single_drop'>, -1.0), (<MutationTypesEnum.single_drop: 'single_drop'>, 0.0013), (<MutationTypesEnum.single_change: 'single_change'>, 0.0), (<MutationTypesEnum.single_drop: 'single_drop'>, 0.0013), (<MutationTypesEnum.single_change: 'single_change'>, 0.0), (<MutationTypesEnum.single_change: 'single_change'>, -0.0365), (<MutationTypesEnum.single_change: 'single_change'>, -0.1294), (<MutationTypesEnum.single_add: 'single_add'>, -0.002), (<MutationTypesEnum.single_add: 'single_add'>, -0.0013), (<MutationTypesEnum.single_add: 'single_add'>, -0.0013), (<MutationTypesEnum.single_change: 'single_change'>, 0.0), (<function parameter_change_mutation at 0x0000017A9ABC4670>, 0.0), (<MutationTypesEnum.single_change: 'single_change'>, -0.1086), (<MutationTypesEnum.single_add: 'single_add'>, -0.0156), (<MutationTypesEnum.single_add: 'single_add'>, 0.0), (<MutationTypesEnum.single_change: 'single_change'>, 0.0), (<MutationTypesEnum.single_change: 'single_change'>, -0.1719), (<MutationTypesEnum.single_drop: 'single_drop'>, 0.0013), (<MutationTypesEnum.single_change: 'single_change'>, 0.0), (<MutationTypesEnum.single_drop: 'single_drop'>, 0.0013), (<function parameter_change_mutation at 0x0000017A9ABC4670>, 0.0), (<MutationTypesEnum.single_change: 'single_change'>, -0.0472), (<MutationTypesEnum.single_drop: 'single_drop'>, -0.3896), (<MutationTypesEnum.single_drop: 'single_drop'>, 0.0), (<MutationTypesEnum.single_add: 'single_add'>, -0.024), (<MutationTypesEnum.single_change: 'single_change'>, 0.0), (<MutationTypesEnum.single_add: 'single_add'>, 0.0), (<MutationTypesEnum.single_add: 'single_add'>, -0.1312), (<MutationTypesEnum.single_change: 'single_change'>, 0.0), (<MutationTypesEnum.single_add: 'single_add'>, -0.1405), (<MutationTypesEnum.single_change: 'single_change'>, -0.0441), (<MutationTypesEnum.single_change: 'single_change'>, -0.05), (<MutationTypesEnum.single_add: 'single_add'>, -0.002), (<MutationTypesEnum.single_add: 'single_add'>, 0.0), (<MutationTypesEnum.single_change: 'single_change'>, 0.0), (<function parameter_change_mutation at 0x0000017A9ABC4670>, -0.0479), (<MutationTypesEnum.single_add: 'single_add'>, 0.0), (<MutationTypesEnum.single_change: 'single_change'>, 0.0), (<MutationTypesEnum.single_change: 'single_change'>, 0.0), (<function parameter_change_mutation at 0x0000017A9ABC4670>, 0.0), (<MutationTypesEnum.single_change: 'single_change'>, -0.099), (<function parameter_change_mutation at 0x0000017A9ABC4670>, -0.019), (<MutationTypesEnum.single_add: 'single_add'>, -0.002), (<MutationTypesEnum.single_change: 'single_change'>, 0.0), (<MutationTypesEnum.single_add: 'single_add'>, -0.002), (<MutationTypesEnum.single_add: 'single_add'>, -0.002), (<MutationTypesEnum.single_drop: 'single_drop'>, -0.3896), (<MutationTypesEnum.single_change: 'single_change'>, 0.0), (<MutationTypesEnum.single_change: 'single_change'>, -0.1382), (<function parameter_change_mutation at 0x0000017A9ABC4670>, -0.0802), (<MutationTypesEnum.single_add: 'single_add'>, 0.0), (<function parameter_change_mutation at 0x0000017A9ABC4670>, 0.0), (<MutationTypesEnum.single_change: 'single_change'>, 0.0)]\n",
      "RandomAgent - exp=[0.1667 0.1667 0.1667 0.1667 0.1667 0.1667] probs=[0.1667 0.1667 0.1667 0.1667 0.1667 0.1667]\n"
     ]
    },
    {
     "name": "stderr",
     "output_type": "stream",
     "text": [
      "Generations:   0%|          | 7/10000 [02:11<55:32:07, 20.01s/gen]"
     ]
    },
    {
     "name": "stdout",
     "output_type": "stream",
     "text": [
      "EvoGraphOptimizer - Generation num: 9 size: 55\n",
      "EvoGraphOptimizer - Best individuals: HallOfFame archive fitness (1): ['<roc_auc_pen=-0.753 node_number=0.100>']\n",
      "EvoGraphOptimizer - no improvements for 4 iterations\n",
      "EvoGraphOptimizer - spent time: 2.2 min\n",
      "EvoGraphOptimizer - Next mutation proba: 0.6190843869553077; Next crossover proba: 0.38091561304469235\n",
      "EvoGraphOptimizer - Next population size: 55; max graph depth: 6\n",
      "MultiprocessingDispatcher - Number of used CPU's: 8\n",
      "MultiprocessingDispatcher - 27 individuals out of 39 in previous population were evaluated successfully.\n",
      "MultiprocessingDispatcher - Number of used CPU's: 8\n",
      "MultiprocessingDispatcher - 27 individuals out of 34 in previous population were evaluated successfully.\n",
      "ReproductionController - Reproduction achieved pop size 54 using 2 attempt(s) with success rate 0.446\n",
      "RandomAgent - len=61 nonzero=44 avg=-0.200 std=0.356 min=-1.000 max=0.005 \n",
      "RandomAgent - actions/rewards: [(<MutationTypesEnum.single_add: 'single_add'>, -1.0), (<MutationTypesEnum.single_drop: 'single_drop'>, -1.0), (<MutationTypesEnum.single_add: 'single_add'>, -1.0), (<MutationTypesEnum.single_add: 'single_add'>, -1.0), (<MutationTypesEnum.single_drop: 'single_drop'>, -1.0), (<MutationTypesEnum.single_add: 'single_add'>, -1.0), (<MutationTypesEnum.single_add: 'single_add'>, -1.0), (<function parameter_change_mutation at 0x0000017A9ABC4670>, -0.0664), (<MutationTypesEnum.single_change: 'single_change'>, 0.0), (<MutationTypesEnum.single_drop: 'single_drop'>, -0.3896), (<MutationTypesEnum.single_drop: 'single_drop'>, 0.0013), (<MutationTypesEnum.single_add: 'single_add'>, 0.0), (<function parameter_change_mutation at 0x0000017A9ABC4670>, -0.0191), (<MutationTypesEnum.single_change: 'single_change'>, 0.0), (<MutationTypesEnum.single_change: 'single_change'>, -0.1237), (<MutationTypesEnum.single_add: 'single_add'>, -0.0017), (<MutationTypesEnum.single_drop: 'single_drop'>, 0.0013), (<MutationTypesEnum.single_change: 'single_change'>, -0.0493), (<MutationTypesEnum.single_drop: 'single_drop'>, 0.0013), (<MutationTypesEnum.single_drop: 'single_drop'>, 0.0013), (<MutationTypesEnum.single_drop: 'single_drop'>, 0.0013), (<MutationTypesEnum.single_change: 'single_change'>, 0.0), (<MutationTypesEnum.single_change: 'single_change'>, 0.0), (<MutationTypesEnum.single_drop: 'single_drop'>, 0.0013), (<MutationTypesEnum.single_drop: 'single_drop'>, 0.0013), (<MutationTypesEnum.single_drop: 'single_drop'>, 0.0), (<MutationTypesEnum.single_edge: 'single_edge'>, 0.0), (<MutationTypesEnum.single_change: 'single_change'>, 0.0), (<MutationTypesEnum.single_drop: 'single_drop'>, 0.0), (<function parameter_change_mutation at 0x0000017A9ABC4670>, 0.0049), (<MutationTypesEnum.single_add: 'single_add'>, -0.002), (<MutationTypesEnum.single_add: 'single_add'>, 0.0), (<MutationTypesEnum.single_change: 'single_change'>, -0.0552), (<function parameter_change_mutation at 0x0000017A9ABC4670>, -0.0314), (<MutationTypesEnum.single_drop: 'single_drop'>, 0.0013), (<MutationTypesEnum.single_add: 'single_add'>, -0.0027), (<MutationTypesEnum.single_change: 'single_change'>, -0.1744), (<MutationTypesEnum.single_change: 'single_change'>, 0.0), (<function parameter_change_mutation at 0x0000017A9ABC4670>, -0.0305), (<MutationTypesEnum.single_add: 'single_add'>, 0.0003), (<function parameter_change_mutation at 0x0000017A9ABC4670>, -0.053), (<MutationTypesEnum.single_add: 'single_add'>, -0.0013), (<MutationTypesEnum.single_drop: 'single_drop'>, 0.0013), (<function parameter_change_mutation at 0x0000017A9ABC4670>, 0.004), (<function parameter_change_mutation at 0x0000017A9ABC4670>, -0.0761), (<MutationTypesEnum.single_change: 'single_change'>, 0.0), (<function parameter_change_mutation at 0x0000017A9ABC4670>, 0.0), (<MutationTypesEnum.single_change: 'single_change'>, -0.2786), (<function parameter_change_mutation at 0x0000017A9ABC4670>, -0.0883), (<MutationTypesEnum.single_change: 'single_change'>, -0.1294), (<MutationTypesEnum.single_change: 'single_change'>, -0.1467), (<MutationTypesEnum.single_drop: 'single_drop'>, 0.002), (<MutationTypesEnum.single_edge: 'single_edge'>, -0.0273), (<function parameter_change_mutation at 0x0000017A9ABC4670>, -0.0124), (<function parameter_change_mutation at 0x0000017A9ABC4670>, -0.0334), (<MutationTypesEnum.single_add: 'single_add'>, 0.0), (<function parameter_change_mutation at 0x0000017A9ABC4670>, 0.0), (<MutationTypesEnum.single_change: 'single_change'>, 0.0), (<MutationTypesEnum.single_add: 'single_add'>, -0.0231), (<MutationTypesEnum.single_drop: 'single_drop'>, 0.0013), (<function parameter_change_mutation at 0x0000017A9ABC4670>, 0.0)]\n",
      "RandomAgent - exp=[0.1667 0.1667 0.1667 0.1667 0.1667 0.1667] probs=[0.1667 0.1667 0.1667 0.1667 0.1667 0.1667]\n"
     ]
    },
    {
     "name": "stderr",
     "output_type": "stream",
     "text": [
      "Generations:   0%|          | 8/10000 [02:38<61:43:38, 22.24s/gen]"
     ]
    },
    {
     "name": "stdout",
     "output_type": "stream",
     "text": [
      "EvoGraphOptimizer - Generation num: 10 size: 55\n",
      "EvoGraphOptimizer - Best individuals: HallOfFame archive fitness (1): ['<roc_auc_pen=-0.753 node_number=0.100>']\n",
      "EvoGraphOptimizer - no improvements for 5 iterations\n",
      "EvoGraphOptimizer - spent time: 2.6 min\n",
      "EvoGraphOptimizer - Next mutation proba: 0.6402213036960854; Next crossover proba: 0.35977869630391457\n",
      "EvoGraphOptimizer - Next population size: 55; max graph depth: 6\n",
      "MultiprocessingDispatcher - Number of used CPU's: 8\n",
      "MultiprocessingDispatcher - 30 individuals out of 43 in previous population were evaluated successfully.\n",
      "MultiprocessingDispatcher - Number of used CPU's: 8\n",
      "MultiprocessingDispatcher - 31 individuals out of 42 in previous population were evaluated successfully.\n",
      "ReproductionController - Reproduction achieved pop size 61 using 2 attempt(s) with success rate 0.479\n",
      "RandomAgent - len=62 nonzero=40 avg=-0.224 std=0.364 min=-1.000 max=0.003 \n",
      "RandomAgent - actions/rewards: [(<MutationTypesEnum.single_add: 'single_add'>, -1.0), (<MutationTypesEnum.single_drop: 'single_drop'>, -1.0), (<MutationTypesEnum.single_add: 'single_add'>, -1.0), (<MutationTypesEnum.single_add: 'single_add'>, -1.0), (<MutationTypesEnum.single_edge: 'single_edge'>, -1.0), (<MutationTypesEnum.single_add: 'single_add'>, -1.0), (<MutationTypesEnum.single_drop: 'single_drop'>, -1.0), (<MutationTypesEnum.single_edge: 'single_edge'>, -0.0259), (<MutationTypesEnum.single_change: 'single_change'>, -0.1382), (<MutationTypesEnum.single_add: 'single_add'>, 0.0), (<MutationTypesEnum.single_change: 'single_change'>, 0.0), (<function parameter_change_mutation at 0x0000017A9ABC4670>, -0.0135), (<MutationTypesEnum.single_add: 'single_add'>, 0.0), (<MutationTypesEnum.single_drop: 'single_drop'>, 0.0), (<MutationTypesEnum.single_add: 'single_add'>, -0.002), (<MutationTypesEnum.single_add: 'single_add'>, 0.0), (<MutationTypesEnum.single_change: 'single_change'>, 0.0), (<function parameter_change_mutation at 0x0000017A9ABC4670>, 0.0), (<MutationTypesEnum.single_change: 'single_change'>, 0.0), (<MutationTypesEnum.single_change: 'single_change'>, -0.05), (<MutationTypesEnum.single_drop: 'single_drop'>, 0.0013), (<MutationTypesEnum.single_change: 'single_change'>, 0.0), (<MutationTypesEnum.single_add: 'single_add'>, -0.0231), (<MutationTypesEnum.single_edge: 'single_edge'>, -0.0037), (<function parameter_change_mutation at 0x0000017A9ABC4670>, 0.0), (<MutationTypesEnum.single_add: 'single_add'>, 0.0), (<MutationTypesEnum.single_drop: 'single_drop'>, 0.0027), (<MutationTypesEnum.single_change: 'single_change'>, -0.2909), (<MutationTypesEnum.single_edge: 'single_edge'>, -0.0259), (<MutationTypesEnum.single_change: 'single_change'>, 0.0), (<function parameter_change_mutation at 0x0000017A9ABC4670>, -0.0361), (<MutationTypesEnum.single_add: 'single_add'>, -0.002), (<MutationTypesEnum.single_change: 'single_change'>, -0.132), (<MutationTypesEnum.single_drop: 'single_drop'>, 0.002), (<MutationTypesEnum.single_change: 'single_change'>, -0.132), (<function parameter_change_mutation at 0x0000017A9ABC4670>, 0.0), (<function parameter_change_mutation at 0x0000017A9ABC4670>, 0.0), (<function parameter_change_mutation at 0x0000017A9ABC4670>, -0.0438), (<MutationTypesEnum.single_add: 'single_add'>, -0.0013), (<MutationTypesEnum.single_add: 'single_add'>, -0.0027), (<MutationTypesEnum.single_add: 'single_add'>, -0.0033), (<function parameter_change_mutation at 0x0000017A9ABC4670>, -0.0553), (<MutationTypesEnum.single_change: 'single_change'>, 0.0), (<MutationTypesEnum.single_add: 'single_add'>, 0.0), (<MutationTypesEnum.single_add: 'single_add'>, -0.2262), (<MutationTypesEnum.single_add: 'single_add'>, -0.002), (<MutationTypesEnum.single_change: 'single_change'>, -0.1509), (<MutationTypesEnum.single_change: 'single_change'>, 0.0), (<MutationTypesEnum.single_change: 'single_change'>, 0.0), (<MutationTypesEnum.single_change: 'single_change'>, 0.0), (<function parameter_change_mutation at 0x0000017A9ABC4670>, 0.0), (<MutationTypesEnum.single_change: 'single_change'>, -0.1467), (<MutationTypesEnum.single_add: 'single_add'>, -0.0033), (<MutationTypesEnum.single_drop: 'single_drop'>, -0.1733), (<MutationTypesEnum.single_change: 'single_change'>, 0.0), (<MutationTypesEnum.single_edge: 'single_edge'>, -0.0236), (<MutationTypesEnum.single_add: 'single_add'>, -0.002), (<MutationTypesEnum.single_add: 'single_add'>, -0.0424), (<MutationTypesEnum.single_add: 'single_add'>, -0.0013), (<MutationTypesEnum.single_change: 'single_change'>, -0.115), (<MutationTypesEnum.single_add: 'single_add'>, -0.1167), (<MutationTypesEnum.single_add: 'single_add'>, 0.0)]\n",
      "RandomAgent - exp=[0.1667 0.1667 0.1667 0.1667 0.1667 0.1667] probs=[0.1667 0.1667 0.1667 0.1667 0.1667 0.1667]\n",
      "MultiprocessingDispatcher - Number of used CPU's: 8\n",
      "MultiprocessingDispatcher - 28 individuals out of 28 in previous population were evaluated successfully.\n"
     ]
    },
    {
     "name": "stderr",
     "output_type": "stream",
     "text": [
      "Generations:   0%|          | 9/10000 [02:56<57:41:45, 20.79s/gen]"
     ]
    },
    {
     "name": "stdout",
     "output_type": "stream",
     "text": [
      "EvoGraphOptimizer - Generation num: 11 size: 28\n",
      "EvoGraphOptimizer - Best individuals: HallOfFame archive fitness (1): ['<roc_auc_pen=-0.753 node_number=0.100>']\n",
      "EvoGraphOptimizer - no improvements for 6 iterations\n",
      "EvoGraphOptimizer - spent time: 2.9 min\n",
      "EvoGraphOptimizer - Next mutation proba: 0.7261589737828731; Next crossover proba: 0.2738410262171269\n",
      "EvoGraphOptimizer - Next population size: 28; max graph depth: 6\n",
      "MultiprocessingDispatcher - Number of used CPU's: 8\n",
      "MultiprocessingDispatcher - 20 individuals out of 24 in previous population were evaluated successfully.\n",
      "MultiprocessingDispatcher - Number of used CPU's: 8\n",
      "MultiprocessingDispatcher - 9 individuals out of 10 in previous population were evaluated successfully.\n",
      "ReproductionController - Reproduction achieved pop size 29 using 2 attempt(s) with success rate 0.529\n",
      "RandomAgent - len=35 nonzero=26 avg=-0.364 std=0.408 min=-1.000 max=0.003 \n",
      "RandomAgent - actions/rewards: [(<MutationTypesEnum.single_edge: 'single_edge'>, -1.0), (<MutationTypesEnum.single_edge: 'single_edge'>, -1.0), (<MutationTypesEnum.single_drop: 'single_drop'>, -1.0), (<MutationTypesEnum.single_edge: 'single_edge'>, -1.0), (<MutationTypesEnum.single_drop: 'single_drop'>, -1.0), (<MutationTypesEnum.single_drop: 'single_drop'>, -1.0), (<MutationTypesEnum.single_edge: 'single_edge'>, -1.0), (<MutationTypesEnum.single_drop: 'single_drop'>, 0.002), (<MutationTypesEnum.single_change: 'single_change'>, -0.132), (<MutationTypesEnum.single_drop: 'single_drop'>, 0.0013), (<MutationTypesEnum.single_change: 'single_change'>, 0.0), (<MutationTypesEnum.single_add: 'single_add'>, -0.002), (<MutationTypesEnum.single_add: 'single_add'>, -0.0231), (<MutationTypesEnum.single_change: 'single_change'>, -0.4012), (<MutationTypesEnum.single_change: 'single_change'>, -0.1706), (<MutationTypesEnum.single_change: 'single_change'>, -0.1382), (<MutationTypesEnum.single_change: 'single_change'>, -0.0568), (<MutationTypesEnum.single_add: 'single_add'>, 0.0), (<function parameter_change_mutation at 0x0000017A9ABC4670>, 0.0), (<MutationTypesEnum.single_drop: 'single_drop'>, 0.0013), (<function parameter_change_mutation at 0x0000017A9ABC4670>, -0.0555), (<MutationTypesEnum.single_drop: 'single_drop'>, 0.0033), (<MutationTypesEnum.single_change: 'single_change'>, -0.0241), (<MutationTypesEnum.single_add: 'single_add'>, -0.002), (<MutationTypesEnum.single_drop: 'single_drop'>, -0.4), (<MutationTypesEnum.single_change: 'single_change'>, 0.0), (<MutationTypesEnum.single_drop: 'single_drop'>, -0.394), (<MutationTypesEnum.single_drop: 'single_drop'>, 0.0), (<function parameter_change_mutation at 0x0000017A9ABC4670>, 0.0), (<MutationTypesEnum.single_drop: 'single_drop'>, -0.2478), (<MutationTypesEnum.single_edge: 'single_edge'>, 0.0), (<MutationTypesEnum.single_change: 'single_change'>, 0.0), (<MutationTypesEnum.single_add: 'single_add'>, -0.024), (<MutationTypesEnum.single_add: 'single_add'>, -0.395), (<MutationTypesEnum.single_change: 'single_change'>, 0.0)]\n",
      "RandomAgent - exp=[0.1667 0.1667 0.1667 0.1667 0.1667 0.1667] probs=[0.1667 0.1667 0.1667 0.1667 0.1667 0.1667]\n"
     ]
    },
    {
     "name": "stderr",
     "output_type": "stream",
     "text": [
      "Generations:   0%|          | 10/10000 [03:10<51:35:33, 18.59s/gen]"
     ]
    },
    {
     "name": "stdout",
     "output_type": "stream",
     "text": [
      "EvoGraphOptimizer - Generation num: 12 size: 28\n",
      "EvoGraphOptimizer - Best individuals: HallOfFame archive fitness (1): ['<roc_auc_pen=-0.753 node_number=0.100>']\n",
      "EvoGraphOptimizer - no improvements for 7 iterations\n",
      "EvoGraphOptimizer - spent time: 3.2 min\n",
      "EvoGraphOptimizer - Next mutation proba: 0.7568230268820664; Next crossover proba: 0.24317697311793363\n",
      "EvoGraphOptimizer - Next population size: 28; max graph depth: 6\n",
      "MultiprocessingDispatcher - Number of used CPU's: 8\n",
      "MultiprocessingDispatcher - 17 individuals out of 20 in previous population were evaluated successfully.\n",
      "MultiprocessingDispatcher - Number of used CPU's: 8\n",
      "MultiprocessingDispatcher - 11 individuals out of 15 in previous population were evaluated successfully.\n",
      "ReproductionController - Reproduction achieved pop size 28 using 2 attempt(s) with success rate 0.551\n",
      "RandomAgent - len=34 nonzero=25 avg=-0.284 std=0.413 min=-1.000 max=0.002 \n",
      "RandomAgent - actions/rewards: [(<MutationTypesEnum.single_edge: 'single_edge'>, -1.0), (<MutationTypesEnum.single_drop: 'single_drop'>, -1.0), (<MutationTypesEnum.single_drop: 'single_drop'>, -1.0), (<MutationTypesEnum.single_add: 'single_add'>, -1.0), (<MutationTypesEnum.single_add: 'single_add'>, -1.0), (<MutationTypesEnum.single_add: 'single_add'>, -1.0), (<MutationTypesEnum.single_drop: 'single_drop'>, 0.002), (<MutationTypesEnum.single_change: 'single_change'>, 0.0), (<MutationTypesEnum.single_edge: 'single_edge'>, 0.0), (<function parameter_change_mutation at 0x0000017A9ABC4670>, -0.0113), (<MutationTypesEnum.single_drop: 'single_drop'>, 0.0), (<MutationTypesEnum.single_edge: 'single_edge'>, 0.0), (<MutationTypesEnum.single_change: 'single_change'>, 0.0), (<MutationTypesEnum.single_change: 'single_change'>, 0.0), (<MutationTypesEnum.single_drop: 'single_drop'>, 0.002), (<MutationTypesEnum.single_add: 'single_add'>, 0.0), (<MutationTypesEnum.single_add: 'single_add'>, -0.0033), (<MutationTypesEnum.single_add: 'single_add'>, -0.0877), (<function parameter_change_mutation at 0x0000017A9ABC4670>, -0.1475), (<function parameter_change_mutation at 0x0000017A9ABC4670>, -0.0397), (<function parameter_change_mutation at 0x0000017A9ABC4670>, -0.0389), (<MutationTypesEnum.single_edge: 'single_edge'>, -0.0259), (<MutationTypesEnum.single_add: 'single_add'>, -0.002), (<MutationTypesEnum.single_drop: 'single_drop'>, 0.0013), (<MutationTypesEnum.single_add: 'single_add'>, -0.2914), (<MutationTypesEnum.single_add: 'single_add'>, -0.0013), (<MutationTypesEnum.single_change: 'single_change'>, 0.0), (<function parameter_change_mutation at 0x0000017A9ABC4670>, -0.0253), (<MutationTypesEnum.single_add: 'single_add'>, -0.0033), (<MutationTypesEnum.single_edge: 'single_edge'>, -0.3948), (<MutationTypesEnum.single_add: 'single_add'>, -0.0291), (<MutationTypesEnum.single_add: 'single_add'>, -0.0013), (<MutationTypesEnum.single_drop: 'single_drop'>, 0.002), (<MutationTypesEnum.single_change: 'single_change'>, 0.0)]\n",
      "RandomAgent - exp=[0.1667 0.1667 0.1667 0.1667 0.1667 0.1667] probs=[0.1667 0.1667 0.1667 0.1667 0.1667 0.1667]\n"
     ]
    },
    {
     "name": "stderr",
     "output_type": "stream",
     "text": [
      "Generations:   0%|          | 11/10000 [03:19<44:10:35, 15.92s/gen]"
     ]
    },
    {
     "name": "stdout",
     "output_type": "stream",
     "text": [
      "EvoGraphOptimizer - Generation num: 13 size: 28\n",
      "EvoGraphOptimizer - Best individuals: HallOfFame archive fitness (1): ['<roc_auc_pen=-0.753 node_number=0.100>']\n",
      "EvoGraphOptimizer - no improvements for 8 iterations\n",
      "EvoGraphOptimizer - spent time: 3.3 min\n",
      "EvoGraphOptimizer - Next mutation proba: 0.8449845083839029; Next crossover proba: 0.15501549161609707\n",
      "EvoGraphOptimizer - Next population size: 28; max graph depth: 6\n",
      "MultiprocessingDispatcher - Number of used CPU's: 8\n",
      "MultiprocessingDispatcher - 20 individuals out of 23 in previous population were evaluated successfully.\n",
      "MultiprocessingDispatcher - Number of used CPU's: 8\n",
      "MultiprocessingDispatcher - 7 individuals out of 9 in previous population were evaluated successfully.\n",
      "ReproductionController - Reproduction achieved pop size 27 using 2 attempt(s) with success rate 0.582\n",
      "RandomAgent - len=31 nonzero=25 avg=-0.228 std=0.351 min=-1.000 max=0.002 \n",
      "RandomAgent - actions/rewards: [(<MutationTypesEnum.single_edge: 'single_edge'>, -1.0), (<MutationTypesEnum.single_edge: 'single_edge'>, -1.0), (<MutationTypesEnum.single_drop: 'single_drop'>, -1.0), (<MutationTypesEnum.single_drop: 'single_drop'>, -1.0), (<MutationTypesEnum.single_drop: 'single_drop'>, 0.002), (<function parameter_change_mutation at 0x0000017A9ABC4670>, -0.0488), (<MutationTypesEnum.single_add: 'single_add'>, -0.0027), (<function parameter_change_mutation at 0x0000017A9ABC4670>, -0.0497), (<MutationTypesEnum.single_add: 'single_add'>, -0.0494), (<function parameter_change_mutation at 0x0000017A9ABC4670>, 0.0), (<function parameter_change_mutation at 0x0000017A9ABC4670>, 0.0), (<MutationTypesEnum.single_add: 'single_add'>, -0.1484), (<MutationTypesEnum.single_change: 'single_change'>, 0.0), (<MutationTypesEnum.single_add: 'single_add'>, -0.0027), (<MutationTypesEnum.single_change: 'single_change'>, -0.0712), (<MutationTypesEnum.single_add: 'single_add'>, -0.0027), (<function parameter_change_mutation at 0x0000017A9ABC4670>, -0.043), (<MutationTypesEnum.single_add: 'single_add'>, -0.002), (<MutationTypesEnum.single_drop: 'single_drop'>, 0.0013), (<MutationTypesEnum.single_add: 'single_add'>, 0.0), (<function parameter_change_mutation at 0x0000017A9ABC4670>, -0.025), (<MutationTypesEnum.single_add: 'single_add'>, -0.0262), (<MutationTypesEnum.single_add: 'single_add'>, -0.4074), (<MutationTypesEnum.single_change: 'single_change'>, -0.1884), (<MutationTypesEnum.single_edge: 'single_edge'>, -0.2592), (<function parameter_change_mutation at 0x0000017A9ABC4670>, -0.0478), (<function parameter_change_mutation at 0x0000017A9ABC4670>, -0.0535), (<MutationTypesEnum.single_change: 'single_change'>, -0.2498), (<MutationTypesEnum.single_edge: 'single_edge'>, -0.0259), (<MutationTypesEnum.single_change: 'single_change'>, 0.0), (<function parameter_change_mutation at 0x0000017A9ABC4670>, 0.0)]\n",
      "RandomAgent - exp=[0.1667 0.1667 0.1667 0.1667 0.1667 0.1667] probs=[0.1667 0.1667 0.1667 0.1667 0.1667 0.1667]\n"
     ]
    },
    {
     "name": "stderr",
     "output_type": "stream",
     "text": [
      "Generations:   0%|          | 12/10000 [03:33<41:49:18, 15.07s/gen]"
     ]
    },
    {
     "name": "stdout",
     "output_type": "stream",
     "text": [
      "EvoGraphOptimizer - Generation num: 14 size: 28\n",
      "EvoGraphOptimizer - Best individuals: HallOfFame archive fitness (1): ['<roc_auc_pen=-0.753 node_number=0.100>']\n",
      "EvoGraphOptimizer - no improvements for 9 iterations\n",
      "EvoGraphOptimizer - spent time: 3.6 min\n",
      "EvoGraphOptimizer - Next mutation proba: 0.8614677552414379; Next crossover proba: 0.13853224475856207\n",
      "EvoGraphOptimizer - Next population size: 28; max graph depth: 6\n",
      "MultiprocessingDispatcher - Number of used CPU's: 8\n",
      "MultiprocessingDispatcher - 16 individuals out of 20 in previous population were evaluated successfully.\n",
      "MultiprocessingDispatcher - Number of used CPU's: 8\n",
      "MultiprocessingDispatcher - 12 individuals out of 16 in previous population were evaluated successfully.\n",
      "ReproductionController - Reproduction achieved pop size 28 using 2 attempt(s) with success rate 0.600\n",
      "RandomAgent - len=35 nonzero=27 avg=-0.300 std=0.421 min=-1.000 max=0.002 \n",
      "RandomAgent - actions/rewards: [(<MutationTypesEnum.single_drop: 'single_drop'>, -1.0), (<MutationTypesEnum.single_edge: 'single_edge'>, -1.0), (<MutationTypesEnum.single_drop: 'single_drop'>, -1.0), (<MutationTypesEnum.single_edge: 'single_edge'>, -1.0), (<MutationTypesEnum.single_edge: 'single_edge'>, -1.0), (<MutationTypesEnum.single_drop: 'single_drop'>, -1.0), (<MutationTypesEnum.single_add: 'single_add'>, -1.0), (<MutationTypesEnum.single_drop: 'single_drop'>, 0.0), (<function parameter_change_mutation at 0x0000017A9ABC4670>, 0.0), (<MutationTypesEnum.single_drop: 'single_drop'>, 0.002), (<function parameter_change_mutation at 0x0000017A9ABC4670>, -0.0594), (<MutationTypesEnum.single_change: 'single_change'>, 0.0), (<MutationTypesEnum.single_add: 'single_add'>, -0.002), (<MutationTypesEnum.single_change: 'single_change'>, 0.0), (<function parameter_change_mutation at 0x0000017A9ABC4670>, -0.0655), (<MutationTypesEnum.single_change: 'single_change'>, 0.0), (<MutationTypesEnum.single_edge: 'single_edge'>, -0.0259), (<function parameter_change_mutation at 0x0000017A9ABC4670>, -0.0634), (<MutationTypesEnum.single_add: 'single_add'>, -0.0034), (<MutationTypesEnum.single_change: 'single_change'>, -0.1884), (<function parameter_change_mutation at 0x0000017A9ABC4670>, -0.0496), (<MutationTypesEnum.single_add: 'single_add'>, -0.0027), (<function parameter_change_mutation at 0x0000017A9ABC4670>, -0.107), (<MutationTypesEnum.single_drop: 'single_drop'>, 0.002), (<MutationTypesEnum.single_drop: 'single_drop'>, 0.002), (<MutationTypesEnum.single_add: 'single_add'>, -0.395), (<MutationTypesEnum.single_add: 'single_add'>, -0.0027), (<MutationTypesEnum.single_add: 'single_add'>, -0.0262), (<MutationTypesEnum.single_edge: 'single_edge'>, -0.0259), (<MutationTypesEnum.single_add: 'single_add'>, -0.0262), (<MutationTypesEnum.single_edge: 'single_edge'>, -0.0259), (<function parameter_change_mutation at 0x0000017A9ABC4670>, 0.0), (<MutationTypesEnum.single_drop: 'single_drop'>, 0.0), (<MutationTypesEnum.single_change: 'single_change'>, 0.0), (<function parameter_change_mutation at 0x0000017A9ABC4670>, -0.0442)]\n",
      "RandomAgent - exp=[0.1667 0.1667 0.1667 0.1667 0.1667 0.1667] probs=[0.1667 0.1667 0.1667 0.1667 0.1667 0.1667]\n"
     ]
    },
    {
     "name": "stderr",
     "output_type": "stream",
     "text": [
      "Generations:   0%|          | 13/10000 [03:47<41:12:48, 14.86s/gen]"
     ]
    },
    {
     "name": "stdout",
     "output_type": "stream",
     "text": [
      "EvoGraphOptimizer - Generation num: 15 size: 28\n",
      "EvoGraphOptimizer - Best individuals: HallOfFame archive fitness (1): ['<roc_auc_pen=-0.753 node_number=0.100>']\n",
      "EvoGraphOptimizer - no improvements for 10 iterations\n",
      "EvoGraphOptimizer - spent time: 3.8 min\n",
      "EvoGraphOptimizer - Next mutation proba: 0.8912044020970271; Next crossover proba: 0.10879559790297288\n",
      "EvoGraphOptimizer - Next population size: 28; max graph depth: 6\n",
      "MultiprocessingDispatcher - Number of used CPU's: 8\n",
      "MultiprocessingDispatcher - 15 individuals out of 20 in previous population were evaluated successfully.\n",
      "MultiprocessingDispatcher - Number of used CPU's: 8\n",
      "MultiprocessingDispatcher - 12 individuals out of 13 in previous population were evaluated successfully.\n",
      "ReproductionController - Reproduction achieved pop size 27 using 2 attempt(s) with success rate 0.600\n",
      "RandomAgent - len=32 nonzero=30 avg=-0.202 std=0.362 min=-1.000 max=0.002 \n",
      "RandomAgent - actions/rewards: [(<MutationTypesEnum.single_add: 'single_add'>, -1.0), (<MutationTypesEnum.single_edge: 'single_edge'>, -1.0), (<MutationTypesEnum.single_add: 'single_add'>, -1.0), (<MutationTypesEnum.single_add: 'single_add'>, -1.0), (<MutationTypesEnum.single_add: 'single_add'>, -1.0), (<MutationTypesEnum.single_add: 'single_add'>, -0.0033), (<MutationTypesEnum.single_change: 'single_change'>, -0.1237), (<MutationTypesEnum.single_add: 'single_add'>, -0.0093), (<MutationTypesEnum.single_drop: 'single_drop'>, 0.0013), (<MutationTypesEnum.single_add: 'single_add'>, -0.2971), (<MutationTypesEnum.single_change: 'single_change'>, -0.008), (<function parameter_change_mutation at 0x0000017A9ABC4670>, -0.0652), (<MutationTypesEnum.single_drop: 'single_drop'>, 0.002), (<function parameter_change_mutation at 0x0000017A9ABC4670>, -0.0768), (<MutationTypesEnum.single_add: 'single_add'>, -0.0262), (<function parameter_change_mutation at 0x0000017A9ABC4670>, -0.0209), (<MutationTypesEnum.single_change: 'single_change'>, -0.1237), (<function parameter_change_mutation at 0x0000017A9ABC4670>, -0.0718), (<MutationTypesEnum.single_add: 'single_add'>, -0.0262), (<MutationTypesEnum.single_add: 'single_add'>, -0.0033), (<MutationTypesEnum.single_change: 'single_change'>, 0.0), (<MutationTypesEnum.single_add: 'single_add'>, -0.0027), (<MutationTypesEnum.single_add: 'single_add'>, -0.0262), (<MutationTypesEnum.single_add: 'single_add'>, -0.002), (<MutationTypesEnum.single_change: 'single_change'>, -0.0712), (<MutationTypesEnum.single_change: 'single_change'>, 0.0), (<function parameter_change_mutation at 0x0000017A9ABC4670>, -0.0335), (<MutationTypesEnum.single_add: 'single_add'>, -0.002), (<MutationTypesEnum.single_drop: 'single_drop'>, 0.0013), (<MutationTypesEnum.single_add: 'single_add'>, -0.0093), (<MutationTypesEnum.single_add: 'single_add'>, -0.0093), (<MutationTypesEnum.single_change: 'single_change'>, -0.0485)]\n",
      "RandomAgent - exp=[0.1667 0.1667 0.1667 0.1667 0.1667 0.1667] probs=[0.1667 0.1667 0.1667 0.1667 0.1667 0.1667]\n",
      "MultiprocessingDispatcher - Number of used CPU's: 8\n",
      "MultiprocessingDispatcher - 10 individuals out of 10 in previous population were evaluated successfully.\n"
     ]
    },
    {
     "name": "stderr",
     "output_type": "stream",
     "text": [
      "Generations:   0%|          | 14/10000 [03:56<36:42:29, 13.23s/gen]"
     ]
    },
    {
     "name": "stdout",
     "output_type": "stream",
     "text": [
      "EvoGraphOptimizer - Generation num: 16 size: 10\n",
      "EvoGraphOptimizer - Best individuals: HallOfFame archive fitness (1): ['<roc_auc_pen=-0.753 node_number=0.100>']\n",
      "EvoGraphOptimizer - no improvements for 11 iterations\n",
      "EvoGraphOptimizer - spent time: 3.9 min\n",
      "EvoGraphOptimizer - Next mutation proba: 0.8707341603757669; Next crossover proba: 0.1292658396242331\n",
      "EvoGraphOptimizer - Next population size: 10; max graph depth: 6\n",
      "MultiprocessingDispatcher - Number of used CPU's: 8\n",
      "MultiprocessingDispatcher - 6 individuals out of 8 in previous population were evaluated successfully.\n",
      "MultiprocessingDispatcher - Number of used CPU's: 8\n",
      "MultiprocessingDispatcher - 3 individuals out of 4 in previous population were evaluated successfully.\n",
      "ReproductionController - Reproduction achieved pop size 9 using 2 attempt(s) with success rate 0.589\n",
      "RandomAgent - len=13 nonzero=12 avg=-0.364 std=0.453 min=-1.000 max=0.002 \n",
      "RandomAgent - actions/rewards: [(<MutationTypesEnum.single_add: 'single_add'>, -1.0), (<MutationTypesEnum.single_edge: 'single_edge'>, -1.0), (<MutationTypesEnum.single_edge: 'single_edge'>, -1.0), (<MutationTypesEnum.single_drop: 'single_drop'>, -1.0), (<MutationTypesEnum.single_change: 'single_change'>, -0.1884), (<MutationTypesEnum.single_drop: 'single_drop'>, 0.002), (<MutationTypesEnum.single_add: 'single_add'>, -0.01), (<MutationTypesEnum.single_drop: 'single_drop'>, 0.002), (<MutationTypesEnum.single_change: 'single_change'>, 0.0), (<MutationTypesEnum.single_add: 'single_add'>, -0.0013), (<MutationTypesEnum.single_edge: 'single_edge'>, -0.0259), (<MutationTypesEnum.single_change: 'single_change'>, -0.1467), (<MutationTypesEnum.single_add: 'single_add'>, -0.0027)]\n",
      "RandomAgent - exp=[0.1667 0.1667 0.1667 0.1667 0.1667 0.1667] probs=[0.1667 0.1667 0.1667 0.1667 0.1667 0.1667]\n"
     ]
    },
    {
     "name": "stderr",
     "output_type": "stream",
     "text": [
      "Generations:   0%|          | 15/10000 [03:59<27:34:12,  9.94s/gen]"
     ]
    },
    {
     "name": "stdout",
     "output_type": "stream",
     "text": [
      "EvoGraphOptimizer - Generation num: 17 size: 10\n",
      "EvoGraphOptimizer - Best individuals: HallOfFame archive fitness (1): ['<roc_auc_pen=-0.753 node_number=0.100>']\n",
      "EvoGraphOptimizer - no improvements for 12 iterations\n",
      "EvoGraphOptimizer - spent time: 4.0 min\n",
      "EvoGraphOptimizer - Next mutation proba: 0.05; Next crossover proba: 0.95\n",
      "EvoGraphOptimizer - Next population size: 10; max graph depth: 6\n",
      "MultiprocessingDispatcher - Number of used CPU's: 8\n",
      "MultiprocessingDispatcher - 6 individuals out of 9 in previous population were evaluated successfully.\n",
      "MultiprocessingDispatcher - Number of used CPU's: 8\n",
      "MultiprocessingDispatcher - 5 individuals out of 5 in previous population were evaluated successfully.\n",
      "ReproductionController - Reproduction achieved pop size 11 using 2 attempt(s) with success rate 0.611\n",
      "RandomAgent - len=12 nonzero=3 avg=-0.682 std=0.449 min=-1.000 max=-0.048 \n",
      "RandomAgent - actions/rewards: [(<MutationTypesEnum.single_add: 'single_add'>, -1.0), (<MutationTypesEnum.single_drop: 'single_drop'>, -1.0), (<MutationTypesEnum.single_change: 'single_change'>, 0.0), (<MutationTypesEnum.single_change: 'single_change'>, 0.0), (<MutationTypesEnum.single_change: 'single_change'>, -0.0475), (<MutationTypesEnum.single_change: 'single_change'>, 0.0), (<MutationTypesEnum.single_change: 'single_change'>, 0.0), (<MutationTypesEnum.single_change: 'single_change'>, 0.0), (<MutationTypesEnum.single_drop: 'single_drop'>, 0.0), (<MutationTypesEnum.single_change: 'single_change'>, 0.0), (<MutationTypesEnum.single_add: 'single_add'>, 0.0), (<MutationTypesEnum.single_edge: 'single_edge'>, 0.0)]\n",
      "RandomAgent - exp=[0.1667 0.1667 0.1667 0.1667 0.1667 0.1667] probs=[0.1667 0.1667 0.1667 0.1667 0.1667 0.1667]\n"
     ]
    },
    {
     "name": "stderr",
     "output_type": "stream",
     "text": [
      "Generations:   0%|          | 16/10000 [04:02<21:40:40,  7.82s/gen]"
     ]
    },
    {
     "name": "stdout",
     "output_type": "stream",
     "text": [
      "EvoGraphOptimizer - Generation num: 18 size: 10\n",
      "EvoGraphOptimizer - Best individuals: HallOfFame archive fitness (1): ['<roc_auc_pen=-0.753 node_number=0.100>']\n",
      "EvoGraphOptimizer - no improvements for 13 iterations\n",
      "EvoGraphOptimizer - spent time: 4.0 min\n",
      "EvoGraphOptimizer - Next mutation proba: 0.9676428370235942; Next crossover proba: 0.032357162976405784\n",
      "EvoGraphOptimizer - Next population size: 10; max graph depth: 6\n",
      "MultiprocessingDispatcher - Number of used CPU's: 8\n",
      "MultiprocessingDispatcher - 5 individuals out of 8 in previous population were evaluated successfully.\n",
      "MultiprocessingDispatcher - Number of used CPU's: 8\n",
      "MultiprocessingDispatcher - 3 individuals out of 7 in previous population were evaluated successfully. 0.42857142857142855% is a fairly small percentage of successful evaluation.\n",
      "MultiprocessingDispatcher - Number of used CPU's: 8\n",
      "MultiprocessingDispatcher - 2 individuals out of 3 in previous population were evaluated successfully.\n",
      "ReproductionController - Reproduction achieved pop size 10 using 3 attempt(s) with success rate 0.606\n",
      "RandomAgent - len=13 nonzero=12 avg=-0.320 std=0.400 min=-1.000 max=-0.002 \n",
      "RandomAgent - actions/rewards: [(<MutationTypesEnum.single_add: 'single_add'>, -1.0), (<MutationTypesEnum.single_drop: 'single_drop'>, -1.0), (<MutationTypesEnum.single_add: 'single_add'>, -1.0), (<MutationTypesEnum.single_change: 'single_change'>, 0.0), (<MutationTypesEnum.single_drop: 'single_drop'>, -0.2894), (<MutationTypesEnum.single_add: 'single_add'>, -0.002), (<MutationTypesEnum.single_change: 'single_change'>, -0.1467), (<MutationTypesEnum.single_add: 'single_add'>, -0.0262), (<MutationTypesEnum.single_add: 'single_add'>, -0.0107), (<MutationTypesEnum.single_change: 'single_change'>, -0.1237), (<MutationTypesEnum.single_change: 'single_change'>, -0.1467), (<function parameter_change_mutation at 0x0000017A9ABC4670>, -0.0453), (<MutationTypesEnum.single_add: 'single_add'>, -0.0501)]\n",
      "RandomAgent - exp=[0.1667 0.1667 0.1667 0.1667 0.1667 0.1667] probs=[0.1667 0.1667 0.1667 0.1667 0.1667 0.1667]\n"
     ]
    },
    {
     "name": "stderr",
     "output_type": "stream",
     "text": [
      "Generations:   0%|          | 17/10000 [04:06<19:08:20,  6.90s/gen]"
     ]
    },
    {
     "name": "stdout",
     "output_type": "stream",
     "text": [
      "EvoGraphOptimizer - Generation num: 19 size: 10\n",
      "EvoGraphOptimizer - Best individuals: HallOfFame archive fitness (1): ['<roc_auc_pen=-0.753 node_number=0.100>']\n",
      "EvoGraphOptimizer - no improvements for 14 iterations\n",
      "EvoGraphOptimizer - spent time: 4.1 min\n",
      "EvoGraphOptimizer - Next mutation proba: 0.15372160918491506; Next crossover proba: 0.8462783908150849\n",
      "EvoGraphOptimizer - Next population size: 10; max graph depth: 6\n",
      "MultiprocessingDispatcher - Number of used CPU's: 8\n",
      "MultiprocessingDispatcher - 5 individuals out of 6 in previous population were evaluated successfully.\n",
      "MultiprocessingDispatcher - Number of used CPU's: 8\n",
      "MultiprocessingDispatcher - 3 individuals out of 7 in previous population were evaluated successfully. 0.42857142857142855% is a fairly small percentage of successful evaluation.\n",
      "MultiprocessingDispatcher - Number of used CPU's: 8\n",
      "MultiprocessingDispatcher - 0 individuals out of 3 in previous population were evaluated successfully. 0.0% is a fairly small percentage of successful evaluation.\n",
      "PipelineObjectiveEvaluate - Unsuccessful pipeline fit during fitness evaluation. Skipping the pipeline. Exception <Found array with dim 4. StandardScaler expected <= 2.> on (((/n_resample_{'balance': 'expand_minority', 'replace': False, 'balance_ratio': 1};)/n_scaling;)/n_scaling;)/n_rf_{'n_jobs': 1, 'criterion': 'gini', 'max_features': 0.1060482801672528, 'min_samples_split': 4, 'min_samples_leaf': 15, 'bootstrap': False}\n",
      "PipelineObjectiveEvaluate - Unsuccessful pipeline fit during fitness evaluation. Skipping the pipeline. Exception <Found array with dim 4. MinMaxScaler expected <= 2.> on (((/n_resample_{'balance': 'expand_minority', 'replace': False, 'balance_ratio': 1};)/n_normalization;)/n_normalization;)/n_rf_{'n_jobs': 1, 'criterion': 'gini', 'max_features': 0.1060482801672528, 'min_samples_split': 4, 'min_samples_leaf': 15, 'bootstrap': False}\n",
      "PipelineObjectiveEvaluate - Unsuccessful pipeline fit during fitness evaluation. Skipping the pipeline. Exception <Found array with dim 4. MinMaxScaler expected <= 2.> on ((/n_resample_{'balance': 'expand_minority', 'replace': False, 'balance_ratio': 1};)/n_normalization;)/n_rf_{'n_jobs': 1, 'criterion': 'gini', 'max_features': 0.1060482801672528, 'min_samples_split': 4, 'min_samples_leaf': 15, 'bootstrap': False}\n",
      "MultiprocessingDispatcher - Number of used CPU's: 8\n",
      "MultiprocessingDispatcher - 3 individuals out of 3 in previous population were evaluated successfully.\n",
      "ReproductionController - Reproduction achieved pop size 11 using 4 attempt(s) with success rate 0.585\n",
      "RandomAgent - len=14 nonzero=8 avg=-0.531 std=0.471 min=-1.000 max=0.002 \n",
      "RandomAgent - actions/rewards: [(<MutationTypesEnum.single_change: 'single_change'>, -1.0), (<MutationTypesEnum.single_edge: 'single_edge'>, -1.0), (<MutationTypesEnum.single_drop: 'single_drop'>, -1.0), (<MutationTypesEnum.single_edge: 'single_edge'>, -1.0), (<MutationTypesEnum.single_change: 'single_change'>, -0.0485), (<MutationTypesEnum.single_drop: 'single_drop'>, -0.0413), (<MutationTypesEnum.single_add: 'single_add'>, 0.0), (<MutationTypesEnum.single_edge: 'single_edge'>, 0.0), (<MutationTypesEnum.single_add: 'single_add'>, 0.0), (<MutationTypesEnum.single_add: 'single_add'>, -0.1633), (<MutationTypesEnum.single_add: 'single_add'>, 0.0), (<MutationTypesEnum.single_change: 'single_change'>, 0.0), (<MutationTypesEnum.single_change: 'single_change'>, 0.0), (<MutationTypesEnum.single_drop: 'single_drop'>, 0.002)]\n",
      "RandomAgent - exp=[0.1667 0.1667 0.1667 0.1667 0.1667 0.1667] probs=[0.1667 0.1667 0.1667 0.1667 0.1667 0.1667]\n"
     ]
    },
    {
     "name": "stderr",
     "output_type": "stream",
     "text": [
      "Generations:   0%|          | 18/10000 [04:20<24:30:42,  8.84s/gen]"
     ]
    },
    {
     "name": "stdout",
     "output_type": "stream",
     "text": [
      "EvoGraphOptimizer - Generation num: 20 size: 10\n",
      "EvoGraphOptimizer - Best individuals: HallOfFame archive fitness (1): ['<roc_auc_pen=-0.753 node_number=0.100>']\n",
      "EvoGraphOptimizer - no improvements for 15 iterations\n",
      "EvoGraphOptimizer - spent time: 4.3 min\n",
      "EvoGraphOptimizer - Next mutation proba: 0.11993157685492073; Next crossover proba: 0.8800684231450793\n",
      "EvoGraphOptimizer - Next population size: 10; max graph depth: 6\n",
      "MultiprocessingDispatcher - Number of used CPU's: 8\n",
      "MultiprocessingDispatcher - 4 individuals out of 7 in previous population were evaluated successfully.\n",
      "MultiprocessingDispatcher - Number of used CPU's: 8\n",
      "MultiprocessingDispatcher - 4 individuals out of 6 in previous population were evaluated successfully.\n",
      "MultiprocessingDispatcher - Number of used CPU's: 8\n",
      "MultiprocessingDispatcher - 1 individuals out of 2 in previous population were evaluated successfully. 0.5% is a fairly small percentage of successful evaluation.\n",
      "ReproductionController - Reproduction achieved pop size 9 using 3 attempt(s) with success rate 0.585\n",
      "RandomAgent - len=12 nonzero=5 avg=-0.600 std=0.490 min=-1.000 max=0.001 \n",
      "RandomAgent - actions/rewards: [(<MutationTypesEnum.single_edge: 'single_edge'>, -1.0), (<MutationTypesEnum.single_drop: 'single_drop'>, -1.0), (<MutationTypesEnum.single_drop: 'single_drop'>, -1.0), (<MutationTypesEnum.single_edge: 'single_edge'>, 0.0), (<MutationTypesEnum.single_add: 'single_add'>, -0.002), (<function parameter_change_mutation at 0x0000017A9ABC4670>, 0.0), (<MutationTypesEnum.single_add: 'single_add'>, 0.0), (<MutationTypesEnum.single_change: 'single_change'>, 0.0), (<MutationTypesEnum.single_drop: 'single_drop'>, 0.0013), (<MutationTypesEnum.single_add: 'single_add'>, 0.0), (<MutationTypesEnum.single_add: 'single_add'>, 0.0), (<MutationTypesEnum.single_change: 'single_change'>, 0.0)]\n",
      "RandomAgent - exp=[0.1667 0.1667 0.1667 0.1667 0.1667 0.1667] probs=[0.1667 0.1667 0.1667 0.1667 0.1667 0.1667]\n",
      "MultiprocessingDispatcher - Number of used CPU's: 8\n",
      "MultiprocessingDispatcher - 6 individuals out of 6 in previous population were evaluated successfully.\n"
     ]
    },
    {
     "name": "stderr",
     "output_type": "stream",
     "text": [
      "Generations:   0%|          | 19/10000 [04:41<35:03:15, 12.64s/gen]"
     ]
    },
    {
     "name": "stdout",
     "output_type": "stream",
     "text": [
      "EvoGraphOptimizer - Generation num: 21 size: 6\n",
      "EvoGraphOptimizer - Best individuals: HallOfFame archive fitness (1): ['<roc_auc_pen=-0.753 node_number=0.100>']\n",
      "EvoGraphOptimizer - no improvements for 16 iterations\n",
      "EvoGraphOptimizer - spent time: 4.7 min\n",
      "EvoGraphOptimizer - Next mutation proba: 0.5963436574384386; Next crossover proba: 0.40365634256156135\n",
      "EvoGraphOptimizer - Next population size: 6; max graph depth: 6\n",
      "MultiprocessingDispatcher - Number of used CPU's: 8\n",
      "MultiprocessingDispatcher - 3 individuals out of 4 in previous population were evaluated successfully.\n",
      "MultiprocessingDispatcher - Number of used CPU's: 8\n",
      "MultiprocessingDispatcher - 1 individuals out of 3 in previous population were evaluated successfully. 0.3333333333333333% is a fairly small percentage of successful evaluation.\n",
      "MultiprocessingDispatcher - Number of used CPU's: 8\n",
      "MultiprocessingDispatcher - 4 individuals out of 4 in previous population were evaluated successfully.\n",
      "ReproductionController - Reproduction achieved pop size 8 using 3 attempt(s) with success rate 0.585\n",
      "RandomAgent - len=6 nonzero=3 avg=-0.072 std=0.061 min=-0.147 max=0.002 \n",
      "RandomAgent - actions/rewards: [(<MutationTypesEnum.single_change: 'single_change'>, -0.1467), (<MutationTypesEnum.single_add: 'single_add'>, 0.0021), (<MutationTypesEnum.single_change: 'single_change'>, 0.0), (<MutationTypesEnum.single_change: 'single_change'>, -0.0712), (<MutationTypesEnum.single_change: 'single_change'>, 0.0), (<function parameter_change_mutation at 0x0000017A9ABC4670>, 0.0)]\n",
      "RandomAgent - exp=[0.1667 0.1667 0.1667 0.1667 0.1667 0.1667] probs=[0.1667 0.1667 0.1667 0.1667 0.1667 0.1667]\n"
     ]
    },
    {
     "name": "stderr",
     "output_type": "stream",
     "text": [
      "Generations:   0%|          | 20/10000 [04:51<32:44:43, 11.81s/gen]"
     ]
    },
    {
     "name": "stdout",
     "output_type": "stream",
     "text": [
      "EvoGraphOptimizer - Generation num: 22 size: 6\n",
      "EvoGraphOptimizer - Best individuals: HallOfFame archive fitness (1): ['<roc_auc_pen=-0.753 node_number=0.100>']\n",
      "EvoGraphOptimizer - no improvements for 17 iterations\n",
      "EvoGraphOptimizer - spent time: 4.9 min\n",
      "EvoGraphOptimizer - Next mutation proba: 0.05; Next crossover proba: 0.95\n",
      "EvoGraphOptimizer - Next population size: 6; max graph depth: 6\n",
      "MultiprocessingDispatcher - Number of used CPU's: 8\n",
      "MultiprocessingDispatcher - 4 individuals out of 6 in previous population were evaluated successfully.\n",
      "MultiprocessingDispatcher - Number of used CPU's: 8\n",
      "MultiprocessingDispatcher - 2 individuals out of 3 in previous population were evaluated successfully.\n",
      "ReproductionController - Reproduction achieved pop size 6 using 2 attempt(s) with success rate 0.585\n",
      "RandomAgent - len=9 nonzero=4 avg=-0.750 std=0.434 min=-1.000 max=0.002 \n",
      "RandomAgent - actions/rewards: [(<MutationTypesEnum.single_drop: 'single_drop'>, -1.0), (<MutationTypesEnum.single_edge: 'single_edge'>, -1.0), (<MutationTypesEnum.single_edge: 'single_edge'>, -1.0), (<function parameter_change_mutation at 0x0000017A9ABC4670>, 0.0), (<MutationTypesEnum.single_drop: 'single_drop'>, 0.002), (<MutationTypesEnum.single_drop: 'single_drop'>, 0.0), (<function parameter_change_mutation at 0x0000017A9ABC4670>, 0.0), (<MutationTypesEnum.single_add: 'single_add'>, 0.0), (<MutationTypesEnum.single_change: 'single_change'>, 0.0)]\n",
      "RandomAgent - exp=[0.1667 0.1667 0.1667 0.1667 0.1667 0.1667] probs=[0.1667 0.1667 0.1667 0.1667 0.1667 0.1667]\n"
     ]
    },
    {
     "name": "stderr",
     "output_type": "stream",
     "text": [
      "Generations:   0%|          | 21/10000 [05:00<30:19:32, 10.94s/gen]"
     ]
    },
    {
     "name": "stdout",
     "output_type": "stream",
     "text": [
      "EvoGraphOptimizer - Generation num: 23 size: 6\n",
      "EvoGraphOptimizer - Best individuals: HallOfFame archive fitness (1): ['<roc_auc_pen=-0.753 node_number=0.100>']\n",
      "EvoGraphOptimizer - no improvements for 18 iterations\n",
      "EvoGraphOptimizer - spent time: 5.0 min\n",
      "EvoGraphOptimizer - Next mutation proba: 0.4791811497778823; Next crossover proba: 0.5208188502221177\n",
      "EvoGraphOptimizer - Next population size: 6; max graph depth: 6\n",
      "MultiprocessingDispatcher - Number of used CPU's: 8\n",
      "MultiprocessingDispatcher - 3 individuals out of 6 in previous population were evaluated successfully. 0.5% is a fairly small percentage of successful evaluation.\n",
      "MultiprocessingDispatcher - Number of used CPU's: 8\n",
      "MultiprocessingDispatcher - 2 individuals out of 2 in previous population were evaluated successfully.\n",
      "MultiprocessingDispatcher - Number of used CPU's: 8\n",
      "MultiprocessingDispatcher - 3 individuals out of 3 in previous population were evaluated successfully.\n",
      "ReproductionController - Reproduction achieved pop size 8 using 3 attempt(s) with success rate 0.585\n",
      "RandomAgent - len=12 nonzero=10 avg=-0.620 std=0.467 min=-1.000 max=0.002 \n",
      "RandomAgent - actions/rewards: [(<MutationTypesEnum.single_edge: 'single_edge'>, -1.0), (<MutationTypesEnum.single_edge: 'single_edge'>, -1.0), (<MutationTypesEnum.single_edge: 'single_edge'>, -1.0), (<MutationTypesEnum.single_add: 'single_add'>, -1.0), (<MutationTypesEnum.single_add: 'single_add'>, -1.0), (<MutationTypesEnum.single_drop: 'single_drop'>, -1.0), (<MutationTypesEnum.single_drop: 'single_drop'>, 0.002), (<MutationTypesEnum.single_change: 'single_change'>, -0.1467), (<MutationTypesEnum.single_edge: 'single_edge'>, -0.0259), (<function parameter_change_mutation at 0x0000017A9ABC4670>, 0.0), (<MutationTypesEnum.single_add: 'single_add'>, -0.0262), (<function parameter_change_mutation at 0x0000017A9ABC4670>, 0.0)]\n",
      "RandomAgent - exp=[0.1667 0.1667 0.1667 0.1667 0.1667 0.1667] probs=[0.1667 0.1667 0.1667 0.1667 0.1667 0.1667]\n"
     ]
    },
    {
     "name": "stderr",
     "output_type": "stream",
     "text": [
      "Generations:   0%|          | 22/10000 [05:07<26:42:26,  9.64s/gen]"
     ]
    },
    {
     "name": "stdout",
     "output_type": "stream",
     "text": [
      "EvoGraphOptimizer - Generation num: 24 size: 6\n",
      "EvoGraphOptimizer - Best individuals: HallOfFame archive fitness (1): ['<roc_auc_pen=-0.753 node_number=0.100>']\n",
      "EvoGraphOptimizer - no improvements for 19 iterations\n",
      "EvoGraphOptimizer - spent time: 5.1 min\n",
      "EvoGraphOptimizer - Next mutation proba: 0.8086057647748344; Next crossover proba: 0.19139423522516563\n",
      "EvoGraphOptimizer - Next population size: 6; max graph depth: 6\n",
      "MultiprocessingDispatcher - Number of used CPU's: 8\n",
      "MultiprocessingDispatcher - 3 individuals out of 5 in previous population were evaluated successfully.\n",
      "MultiprocessingDispatcher - Number of used CPU's: 8\n",
      "MultiprocessingDispatcher - 3 individuals out of 3 in previous population were evaluated successfully.\n",
      "ReproductionController - Reproduction achieved pop size 6 using 2 attempt(s) with success rate 0.585\n",
      "RandomAgent - len=9 nonzero=9 avg=-0.357 std=0.457 min=-1.000 max=0.002 \n",
      "RandomAgent - actions/rewards: [(<MutationTypesEnum.single_change: 'single_change'>, -1.0), (<MutationTypesEnum.single_add: 'single_add'>, -1.0), (<MutationTypesEnum.single_drop: 'single_drop'>, -1.0), (<MutationTypesEnum.single_drop: 'single_drop'>, 0.0013), (<MutationTypesEnum.single_add: 'single_add'>, -0.0262), (<MutationTypesEnum.single_change: 'single_change'>, -0.161), (<MutationTypesEnum.single_edge: 'single_edge'>, -0.0259), (<MutationTypesEnum.single_drop: 'single_drop'>, 0.002), (<MutationTypesEnum.single_add: 'single_add'>, -0.0013)]\n",
      "RandomAgent - exp=[0.1667 0.1667 0.1667 0.1667 0.1667 0.1667] probs=[0.1667 0.1667 0.1667 0.1667 0.1667 0.1667]\n"
     ]
    },
    {
     "name": "stderr",
     "output_type": "stream",
     "text": [
      "Generations:   0%|          | 23/10000 [05:09<20:20:02,  7.34s/gen]"
     ]
    },
    {
     "name": "stdout",
     "output_type": "stream",
     "text": [
      "EvoGraphOptimizer - Generation num: 25 size: 6\n",
      "EvoGraphOptimizer - Best individuals: HallOfFame archive fitness (1): ['<roc_auc_pen=-0.753 node_number=0.100>']\n",
      "EvoGraphOptimizer - no improvements for 20 iterations\n",
      "EvoGraphOptimizer - spent time: 5.2 min\n",
      "EvoGraphOptimizer - Next mutation proba: 0.8086057647748344; Next crossover proba: 0.19139423522516563\n",
      "EvoGraphOptimizer - Next population size: 6; max graph depth: 6\n",
      "MultiprocessingDispatcher - Number of used CPU's: 8\n",
      "MultiprocessingDispatcher - 3 individuals out of 3 in previous population were evaluated successfully.\n",
      "MultiprocessingDispatcher - Number of used CPU's: 8\n",
      "MultiprocessingDispatcher - 2 individuals out of 3 in previous population were evaluated successfully.\n",
      "MultiprocessingDispatcher - Number of used CPU's: 8\n",
      "MultiprocessingDispatcher - 2 individuals out of 2 in previous population were evaluated successfully.\n",
      "ReproductionController - Reproduction achieved pop size 7 using 3 attempt(s) with success rate 0.585\n",
      "RandomAgent - len=9 nonzero=8 avg=-0.432 std=0.457 min=-1.000 max=0.002 \n",
      "RandomAgent - actions/rewards: [(<MutationTypesEnum.single_drop: 'single_drop'>, -1.0), (<MutationTypesEnum.single_drop: 'single_drop'>, -1.0), (<MutationTypesEnum.single_drop: 'single_drop'>, -1.0), (<MutationTypesEnum.single_add: 'single_add'>, -0.002), (<MutationTypesEnum.single_add: 'single_add'>, -0.0027), (<MutationTypesEnum.single_change: 'single_change'>, 0.0), (<MutationTypesEnum.single_change: 'single_change'>, -0.0485), (<MutationTypesEnum.single_change: 'single_change'>, -0.4012), (<MutationTypesEnum.single_drop: 'single_drop'>, 0.002)]\n",
      "RandomAgent - exp=[0.1667 0.1667 0.1667 0.1667 0.1667 0.1667] probs=[0.1667 0.1667 0.1667 0.1667 0.1667 0.1667]\n",
      "MultiprocessingDispatcher - Number of used CPU's: 8\n",
      "MultiprocessingDispatcher - 5 individuals out of 5 in previous population were evaluated successfully.\n"
     ]
    },
    {
     "name": "stderr",
     "output_type": "stream",
     "text": [
      "Generations:   0%|          | 24/10000 [05:13<17:47:10,  6.42s/gen]"
     ]
    },
    {
     "name": "stdout",
     "output_type": "stream",
     "text": [
      "EvoGraphOptimizer - Generation num: 26 size: 5\n",
      "EvoGraphOptimizer - Best individuals: HallOfFame archive fitness (1): ['<roc_auc_pen=-0.753 node_number=0.100>']\n",
      "EvoGraphOptimizer - no improvements for 21 iterations\n",
      "EvoGraphOptimizer - spent time: 5.2 min\n",
      "EvoGraphOptimizer - Next mutation proba: 0.7983543556311041; Next crossover proba: 0.20164564436889587\n",
      "EvoGraphOptimizer - Next population size: 5; max graph depth: 6\n",
      "MultiprocessingDispatcher - Number of used CPU's: 8\n",
      "MultiprocessingDispatcher - 1 individuals out of 3 in previous population were evaluated successfully. 0.3333333333333333% is a fairly small percentage of successful evaluation.\n",
      "MultiprocessingDispatcher - Number of used CPU's: 8\n",
      "MultiprocessingDispatcher - 3 individuals out of 3 in previous population were evaluated successfully.\n",
      "MultiprocessingDispatcher - Number of used CPU's: 8\n",
      "MultiprocessingDispatcher - 2 individuals out of 3 in previous population were evaluated successfully.\n",
      "ReproductionController - Reproduction achieved pop size 6 using 3 attempt(s) with success rate 0.585\n",
      "RandomAgent - len=7 nonzero=6 avg=-0.354 std=0.457 min=-1.000 max=-0.003 \n",
      "RandomAgent - actions/rewards: [(<MutationTypesEnum.single_drop: 'single_drop'>, -1.0), (<MutationTypesEnum.single_add: 'single_add'>, -1.0), (<MutationTypesEnum.single_edge: 'single_edge'>, 0.0), (<function parameter_change_mutation at 0x0000017A9ABC4670>, -0.0601), (<function parameter_change_mutation at 0x0000017A9ABC4670>, -0.0587), (<MutationTypesEnum.single_add: 'single_add'>, -0.0034), (<MutationTypesEnum.single_add: 'single_add'>, -0.0027)]\n",
      "RandomAgent - exp=[0.1667 0.1667 0.1667 0.1667 0.1667 0.1667] probs=[0.1667 0.1667 0.1667 0.1667 0.1667 0.1667]\n"
     ]
    },
    {
     "name": "stderr",
     "output_type": "stream",
     "text": [
      "Generations:   0%|          | 25/10000 [05:33<29:01:19, 10.47s/gen]"
     ]
    },
    {
     "name": "stdout",
     "output_type": "stream",
     "text": [
      "EvoGraphOptimizer - Generation num: 27 size: 5\n",
      "EvoGraphOptimizer - Best individuals: HallOfFame archive fitness (1): ['<roc_auc_pen=-0.753 node_number=0.100>']\n",
      "EvoGraphOptimizer - no improvements for 22 iterations\n",
      "EvoGraphOptimizer - spent time: 5.6 min\n",
      "EvoGraphOptimizer - Next mutation proba: 0.8081141600357604; Next crossover proba: 0.19188583996423958\n",
      "EvoGraphOptimizer - Next population size: 5; max graph depth: 6\n",
      "MultiprocessingDispatcher - Number of used CPU's: 8\n",
      "MultiprocessingDispatcher - 1 individuals out of 2 in previous population were evaluated successfully. 0.5% is a fairly small percentage of successful evaluation.\n",
      "MultiprocessingDispatcher - Number of used CPU's: 8\n",
      "MultiprocessingDispatcher - 2 individuals out of 2 in previous population were evaluated successfully.\n",
      "MultiprocessingDispatcher - Number of used CPU's: 8\n",
      "MultiprocessingDispatcher - 2 individuals out of 4 in previous population were evaluated successfully. 0.5% is a fairly small percentage of successful evaluation.\n",
      "ReproductionController - Reproduction achieved pop size 5 using 3 attempt(s) with success rate 0.585\n",
      "RandomAgent - len=6 nonzero=5 avg=-0.242 std=0.383 min=-1.000 max=0.003 \n",
      "RandomAgent - actions/rewards: [(<MutationTypesEnum.single_add: 'single_add'>, -1.0), (<MutationTypesEnum.single_add: 'single_add'>, 0.0), (<MutationTypesEnum.single_drop: 'single_drop'>, 0.0027), (<MutationTypesEnum.single_add: 'single_add'>, -0.0027), (<function parameter_change_mutation at 0x0000017A9ABC4670>, -0.0508), (<MutationTypesEnum.single_change: 'single_change'>, -0.161)]\n",
      "RandomAgent - exp=[0.1667 0.1667 0.1667 0.1667 0.1667 0.1667] probs=[0.1667 0.1667 0.1667 0.1667 0.1667 0.1667]\n"
     ]
    },
    {
     "name": "stderr",
     "output_type": "stream",
     "text": [
      "Generations:   0%|          | 26/10000 [05:36<23:18:33,  8.41s/gen]"
     ]
    },
    {
     "name": "stdout",
     "output_type": "stream",
     "text": [
      "EvoGraphOptimizer - Generation num: 28 size: 5\n",
      "EvoGraphOptimizer - Best individuals: HallOfFame archive fitness (1): ['<roc_auc_pen=-0.753 node_number=0.100>']\n",
      "EvoGraphOptimizer - no improvements for 23 iterations\n",
      "EvoGraphOptimizer - spent time: 5.6 min\n",
      "EvoGraphOptimizer - Next mutation proba: 0.9617745132911353; Next crossover proba: 0.03822548670886472\n",
      "EvoGraphOptimizer - Next population size: 5; max graph depth: 6\n",
      "MultiprocessingDispatcher - Number of used CPU's: 8\n",
      "MultiprocessingDispatcher - 3 individuals out of 4 in previous population were evaluated successfully.\n",
      "MultiprocessingDispatcher - Number of used CPU's: 8\n",
      "MultiprocessingDispatcher - 3 individuals out of 4 in previous population were evaluated successfully.\n",
      "ReproductionController - Reproduction achieved pop size 6 using 2 attempt(s) with success rate 0.585\n",
      "RandomAgent - len=7 nonzero=7 avg=-0.332 std=0.430 min=-1.000 max=0.001 \n",
      "RandomAgent - actions/rewards: [(<MutationTypesEnum.single_edge: 'single_edge'>, -1.0), (<MutationTypesEnum.single_edge: 'single_edge'>, -1.0), (<function parameter_change_mutation at 0x0000017A9ABC4670>, -0.0483), (<MutationTypesEnum.single_edge: 'single_edge'>, -0.0259), (<MutationTypesEnum.single_drop: 'single_drop'>, 0.0013), (<MutationTypesEnum.single_add: 'single_add'>, -0.0027), (<MutationTypesEnum.single_change: 'single_change'>, -0.2498)]\n",
      "RandomAgent - exp=[0.1667 0.1667 0.1667 0.1667 0.1667 0.1667] probs=[0.1667 0.1667 0.1667 0.1667 0.1667 0.1667]\n"
     ]
    },
    {
     "name": "stderr",
     "output_type": "stream",
     "text": [
      "Generations:   0%|          | 27/10000 [05:40<19:38:47,  7.09s/gen]"
     ]
    },
    {
     "name": "stdout",
     "output_type": "stream",
     "text": [
      "EvoGraphOptimizer - Generation num: 29 size: 5\n",
      "EvoGraphOptimizer - Best individuals: HallOfFame archive fitness (1): ['<roc_auc_pen=-0.753 node_number=0.100>']\n",
      "EvoGraphOptimizer - no improvements for 24 iterations\n",
      "EvoGraphOptimizer - spent time: 5.7 min\n",
      "EvoGraphOptimizer - Next mutation proba: 0.9571531636950594; Next crossover proba: 0.04284683630494057\n",
      "EvoGraphOptimizer - Next population size: 5; max graph depth: 6\n",
      "MultiprocessingDispatcher - Number of used CPU's: 8\n",
      "MultiprocessingDispatcher - 3 individuals out of 3 in previous population were evaluated successfully.\n",
      "MultiprocessingDispatcher - Number of used CPU's: 8\n",
      "MultiprocessingDispatcher - 2 individuals out of 3 in previous population were evaluated successfully.\n",
      "ReproductionController - Reproduction achieved pop size 5 using 2 attempt(s) with success rate 0.585\n",
      "RandomAgent - len=5 nonzero=5 avg=-0.061 std=0.052 min=-0.147 max=-0.003 \n",
      "RandomAgent - actions/rewards: [(<MutationTypesEnum.single_edge: 'single_edge'>, -0.0259), (<MutationTypesEnum.single_change: 'single_change'>, -0.1467), (<MutationTypesEnum.single_add: 'single_add'>, -0.0027), (<function parameter_change_mutation at 0x0000017A9ABC4670>, -0.0938), (<function parameter_change_mutation at 0x0000017A9ABC4670>, -0.0346)]\n",
      "RandomAgent - exp=[0.1667 0.1667 0.1667 0.1667 0.1667 0.1667] probs=[0.1667 0.1667 0.1667 0.1667 0.1667 0.1667]\n"
     ]
    },
    {
     "name": "stderr",
     "output_type": "stream",
     "text": [
      "Generations:   0%|          | 28/10000 [05:45<17:26:03,  6.29s/gen]"
     ]
    },
    {
     "name": "stdout",
     "output_type": "stream",
     "text": [
      "EvoGraphOptimizer - Generation num: 30 size: 5\n",
      "EvoGraphOptimizer - Best individuals: HallOfFame archive fitness (1): ['<roc_auc_pen=-0.753 node_number=0.100>']\n",
      "EvoGraphOptimizer - no improvements for 25 iterations\n",
      "EvoGraphOptimizer - spent time: 5.8 min\n",
      "EvoGraphOptimizer - Next mutation proba: 0.9571531636950594; Next crossover proba: 0.04284683630494057\n",
      "EvoGraphOptimizer - Next population size: 5; max graph depth: 6\n",
      "MultiprocessingDispatcher - Number of used CPU's: 8\n",
      "MultiprocessingDispatcher - 3 individuals out of 3 in previous population were evaluated successfully.\n",
      "MultiprocessingDispatcher - Number of used CPU's: 8\n",
      "MultiprocessingDispatcher - 3 individuals out of 4 in previous population were evaluated successfully.\n",
      "ReproductionController - Reproduction achieved pop size 6 using 2 attempt(s) with success rate 0.585\n",
      "RandomAgent - len=6 nonzero=6 avg=-0.226 std=0.352 min=-1.000 max=0.002 \n",
      "RandomAgent - actions/rewards: [(<MutationTypesEnum.single_edge: 'single_edge'>, -1.0), (<MutationTypesEnum.single_change: 'single_change'>, -0.0661), (<MutationTypesEnum.single_edge: 'single_edge'>, -0.0198), (<MutationTypesEnum.single_change: 'single_change'>, -0.1884), (<function parameter_change_mutation at 0x0000017A9ABC4670>, -0.0817), (<MutationTypesEnum.single_drop: 'single_drop'>, 0.002)]\n",
      "RandomAgent - exp=[0.1667 0.1667 0.1667 0.1667 0.1667 0.1667] probs=[0.1667 0.1667 0.1667 0.1667 0.1667 0.1667]\n",
      "MultiprocessingDispatcher - Number of used CPU's: 8\n",
      "MultiprocessingDispatcher - 5 individuals out of 5 in previous population were evaluated successfully.\n"
     ]
    },
    {
     "name": "stderr",
     "output_type": "stream",
     "text": [
      "Generations:   0%|          | 29/10000 [05:51<17:44:15,  6.40s/gen]"
     ]
    },
    {
     "name": "stdout",
     "output_type": "stream",
     "text": [
      "EvoGraphOptimizer - Generation num: 31 size: 5\n",
      "EvoGraphOptimizer - Best individuals: HallOfFame archive fitness (1): ['<roc_auc_pen=-0.753 node_number=0.100>']\n",
      "EvoGraphOptimizer - no improvements for 26 iterations\n",
      "EvoGraphOptimizer - spent time: 5.9 min\n",
      "EvoGraphOptimizer - Next mutation proba: 0.7682504773624003; Next crossover proba: 0.23174952263759974\n",
      "EvoGraphOptimizer - Next population size: 5; max graph depth: 6\n",
      "MultiprocessingDispatcher - Number of used CPU's: 8\n",
      "MultiprocessingDispatcher - 3 individuals out of 3 in previous population were evaluated successfully.\n",
      "MultiprocessingDispatcher - Number of used CPU's: 8\n",
      "MultiprocessingDispatcher - 3 individuals out of 4 in previous population were evaluated successfully.\n",
      "ReproductionController - Reproduction achieved pop size 6 using 2 attempt(s) with success rate 0.585\n",
      "RandomAgent - len=7 nonzero=5 avg=-0.473 std=0.446 min=-1.000 max=-0.003 \n",
      "RandomAgent - actions/rewards: [(<MutationTypesEnum.single_edge: 'single_edge'>, -1.0), (<MutationTypesEnum.single_edge: 'single_edge'>, -1.0), (<MutationTypesEnum.single_add: 'single_add'>, -0.0034), (<MutationTypesEnum.single_change: 'single_change'>, 0.0), (<function parameter_change_mutation at 0x0000017A9ABC4670>, 0.0), (<MutationTypesEnum.single_add: 'single_add'>, -0.0262), (<MutationTypesEnum.single_change: 'single_change'>, -0.3368)]\n",
      "RandomAgent - exp=[0.1667 0.1667 0.1667 0.1667 0.1667 0.1667] probs=[0.1667 0.1667 0.1667 0.1667 0.1667 0.1667]\n"
     ]
    },
    {
     "name": "stderr",
     "output_type": "stream",
     "text": [
      "Generations:   0%|          | 30/10000 [05:56<15:55:06,  5.75s/gen]"
     ]
    },
    {
     "name": "stdout",
     "output_type": "stream",
     "text": [
      "EvoGraphOptimizer - Generation num: 32 size: 5\n",
      "EvoGraphOptimizer - Best individuals: HallOfFame archive fitness (1): ['<roc_auc_pen=-0.753 node_number=0.100>']\n",
      "EvoGraphOptimizer - no improvements for 27 iterations\n",
      "EvoGraphOptimizer - spent time: 5.9 min\n",
      "EvoGraphOptimizer - Next mutation proba: 0.8267780352456171; Next crossover proba: 0.1732219647543829\n",
      "EvoGraphOptimizer - Next population size: 5; max graph depth: 6\n",
      "MultiprocessingDispatcher - Number of used CPU's: 8\n",
      "MultiprocessingDispatcher - 0 individuals out of 3 in previous population were evaluated successfully. 0.0% is a fairly small percentage of successful evaluation.\n",
      "PipelineObjectiveEvaluate - Unsuccessful pipeline fit during fitness evaluation. Skipping the pipeline. Exception <Found array with dim 4. MinMaxScaler expected <= 2.> on ((((/n_resample_{'balance': 'expand_minority', 'replace': False, 'balance_ratio': 1};)/n_normalization;)/n_normalization;)/n_scaling;)/n_rf_{'n_jobs': 1, 'criterion': 'gini', 'max_features': 0.1060482801672528, 'min_samples_split': 4, 'min_samples_leaf': 15, 'bootstrap': False}\n",
      "PipelineObjectiveEvaluate - Unsuccessful pipeline fit during fitness evaluation. Skipping the pipeline. Exception <Found array with dim 4. MinMaxScaler expected <= 2.> on ((((/n_resample_{'balance': 'expand_minority', 'replace': False, 'balance_ratio': 1};)/n_normalization;)/n_normalization;)/n_scaling;;((/n_resample_{'balance': 'expand_minority', 'replace': False, 'balance_ratio': 1};)/n_normalization;)/n_normalization;;(/n_resample_{'balance': 'expand_minority', 'replace': False, 'balance_ratio': 1};)/n_normalization;)/n_rf_{'n_jobs': 1, 'criterion': 'gini', 'max_features': 0.1060482801672528, 'min_samples_split': 4, 'min_samples_leaf': 15, 'bootstrap': False}\n",
      "PipelineObjectiveEvaluate - Unsuccessful pipeline fit during fitness evaluation. Skipping the pipeline. Exception <Found array with dim 4. RandomForestClassifier expected <= 2.> on (/n_resample_{'balance': 'expand_minority', 'replace': False, 'balance_ratio': 1};)/n_rf_{'n_jobs': 1, 'criterion': 'gini', 'max_features': 0.1060482801672528, 'min_samples_split': 4, 'min_samples_leaf': 15, 'bootstrap': False}\n",
      "MultiprocessingDispatcher - Number of used CPU's: 8\n",
      "MultiprocessingDispatcher - 3 individuals out of 3 in previous population were evaluated successfully.\n",
      "MultiprocessingDispatcher - Number of used CPU's: 8\n",
      "MultiprocessingDispatcher - 3 individuals out of 3 in previous population were evaluated successfully.\n",
      "ReproductionController - Reproduction achieved pop size 6 using 3 attempt(s) with success rate 0.585\n",
      "RandomAgent - len=7 nonzero=4 avg=-0.500 std=0.500 min=-1.000 max=0.003 \n",
      "RandomAgent - actions/rewards: [(<MutationTypesEnum.single_add: 'single_add'>, -1.0), (<MutationTypesEnum.single_add: 'single_add'>, -1.0), (<MutationTypesEnum.single_drop: 'single_drop'>, 0.0), (<function parameter_change_mutation at 0x0000017A9ABC4670>, 0.0), (<function parameter_change_mutation at 0x0000017A9ABC4670>, 0.0), (<MutationTypesEnum.single_drop: 'single_drop'>, 0.0027), (<MutationTypesEnum.single_drop: 'single_drop'>, -0.0035)]\n",
      "RandomAgent - exp=[0.1667 0.1667 0.1667 0.1667 0.1667 0.1667] probs=[0.1667 0.1667 0.1667 0.1667 0.1667 0.1667]\n"
     ]
    },
    {
     "name": "stderr",
     "output_type": "stream",
     "text": [
      "Generations:   0%|          | 31/10000 [06:00<14:27:38,  5.22s/gen]"
     ]
    },
    {
     "name": "stdout",
     "output_type": "stream",
     "text": [
      "EvoGraphOptimizer - Generation num: 33 size: 5\n",
      "EvoGraphOptimizer - Best individuals: HallOfFame archive fitness (1): ['<roc_auc_pen=-0.753 node_number=0.100>']\n",
      "EvoGraphOptimizer - no improvements for 28 iterations\n",
      "EvoGraphOptimizer - spent time: 6.0 min\n",
      "EvoGraphOptimizer - Next mutation proba: 0.766046845189612; Next crossover proba: 0.23395315481038803\n",
      "EvoGraphOptimizer - Next population size: 5; max graph depth: 6\n",
      "MultiprocessingDispatcher - Number of used CPU's: 8\n",
      "MultiprocessingDispatcher - 3 individuals out of 4 in previous population were evaluated successfully.\n",
      "MultiprocessingDispatcher - Number of used CPU's: 8\n",
      "MultiprocessingDispatcher - 1 individuals out of 1 in previous population were evaluated successfully.\n",
      "MultiprocessingDispatcher - Number of used CPU's: 8\n",
      "MultiprocessingDispatcher - 2 individuals out of 2 in previous population were evaluated successfully.\n",
      "ReproductionController - Reproduction achieved pop size 6 using 3 attempt(s) with success rate 0.585\n",
      "RandomAgent - len=6 nonzero=5 avg=-0.282 std=0.369 min=-1.000 max=-0.003 \n",
      "RandomAgent - actions/rewards: [(<MutationTypesEnum.single_add: 'single_add'>, -1.0), (<MutationTypesEnum.single_add: 'single_add'>, -0.0027), (<MutationTypesEnum.single_edge: 'single_edge'>, -0.0198), (<MutationTypesEnum.single_change: 'single_change'>, -0.161), (<MutationTypesEnum.single_change: 'single_change'>, 0.0), (<MutationTypesEnum.single_change: 'single_change'>, -0.2282)]\n",
      "RandomAgent - exp=[0.1667 0.1667 0.1667 0.1667 0.1667 0.1667] probs=[0.1667 0.1667 0.1667 0.1667 0.1667 0.1667]\n"
     ]
    },
    {
     "name": "stderr",
     "output_type": "stream",
     "text": [
      "Generations:   0%|          | 32/10000 [06:03<13:05:28,  4.73s/gen]"
     ]
    },
    {
     "name": "stdout",
     "output_type": "stream",
     "text": [
      "EvoGraphOptimizer - Generation num: 34 size: 5\n",
      "EvoGraphOptimizer - Best individuals: HallOfFame archive fitness (1): ['<roc_auc_pen=-0.753 node_number=0.100>']\n",
      "EvoGraphOptimizer - no improvements for 29 iterations\n",
      "EvoGraphOptimizer - spent time: 6.1 min\n",
      "EvoGraphOptimizer - Next mutation proba: 0.05; Next crossover proba: 0.95\n",
      "EvoGraphOptimizer - Next population size: 5; max graph depth: 6\n",
      "MultiprocessingDispatcher - Number of used CPU's: 8\n",
      "MultiprocessingDispatcher - 1 individuals out of 1 in previous population were evaluated successfully.\n",
      "MultiprocessingDispatcher - Number of used CPU's: 8\n",
      "MultiprocessingDispatcher - 2 individuals out of 3 in previous population were evaluated successfully.\n",
      "MultiprocessingDispatcher - Number of used CPU's: 8\n",
      "MultiprocessingDispatcher - 2 individuals out of 3 in previous population were evaluated successfully.\n",
      "ReproductionController - Reproduction achieved pop size 5 using 3 attempt(s) with success rate 0.585\n",
      "RandomAgent - len=6 nonzero=1 avg=-1.000 std=0.000 min=-1.000 max=-1.000 \n",
      "RandomAgent - actions/rewards: [(<MutationTypesEnum.single_add: 'single_add'>, -1.0), (<MutationTypesEnum.single_drop: 'single_drop'>, 0.0), (<MutationTypesEnum.single_add: 'single_add'>, 0.0), (<MutationTypesEnum.single_drop: 'single_drop'>, 0.0), (<MutationTypesEnum.single_drop: 'single_drop'>, 0.0), (<MutationTypesEnum.single_add: 'single_add'>, 0.0)]\n",
      "RandomAgent - exp=[0.1667 0.1667 0.1667 0.1667 0.1667 0.1667] probs=[0.1667 0.1667 0.1667 0.1667 0.1667 0.1667]\n"
     ]
    },
    {
     "name": "stderr",
     "output_type": "stream",
     "text": [
      "Generations:   0%|          | 33/10000 [06:06<11:42:30,  4.23s/gen]"
     ]
    },
    {
     "name": "stdout",
     "output_type": "stream",
     "text": [
      "EvoGraphOptimizer - Generation num: 35 size: 5\n",
      "EvoGraphOptimizer - Best individuals: HallOfFame archive fitness (1): ['<roc_auc_pen=-0.753 node_number=0.100>']\n",
      "EvoGraphOptimizer - no improvements for 30 iterations\n",
      "EvoGraphOptimizer - spent time: 6.1 min\n",
      "EvoGraphOptimizer - Next mutation proba: 0.8448402354169886; Next crossover proba: 0.1551597645830114\n",
      "EvoGraphOptimizer - Next population size: 5; max graph depth: 6\n",
      "MultiprocessingDispatcher - Number of used CPU's: 8\n",
      "MultiprocessingDispatcher - 1 individuals out of 4 in previous population were evaluated successfully. 0.25% is a fairly small percentage of successful evaluation.\n",
      "MultiprocessingDispatcher - Number of used CPU's: 8\n",
      "MultiprocessingDispatcher - 2 individuals out of 3 in previous population were evaluated successfully.\n",
      "MultiprocessingDispatcher - Number of used CPU's: 8\n",
      "MultiprocessingDispatcher - 3 individuals out of 4 in previous population were evaluated successfully.\n",
      "ReproductionController - Reproduction achieved pop size 6 using 3 attempt(s) with success rate 0.585\n",
      "RandomAgent - len=8 nonzero=7 avg=-0.442 std=0.484 min=-1.000 max=0.002 \n",
      "RandomAgent - actions/rewards: [(<MutationTypesEnum.single_add: 'single_add'>, -1.0), (<MutationTypesEnum.single_edge: 'single_edge'>, -1.0), (<MutationTypesEnum.single_drop: 'single_drop'>, -1.0), (<function parameter_change_mutation at 0x0000017A9ABC4670>, -0.0065), (<function parameter_change_mutation at 0x0000017A9ABC4670>, -0.0834), (<MutationTypesEnum.single_drop: 'single_drop'>, -0.0035), (<MutationTypesEnum.single_change: 'single_change'>, 0.0), (<MutationTypesEnum.single_drop: 'single_drop'>, 0.002)]\n",
      "RandomAgent - exp=[0.1667 0.1667 0.1667 0.1667 0.1667 0.1667] probs=[0.1667 0.1667 0.1667 0.1667 0.1667 0.1667]\n",
      "MultiprocessingDispatcher - Number of used CPU's: 8\n",
      "MultiprocessingDispatcher - 5 individuals out of 5 in previous population were evaluated successfully.\n"
     ]
    },
    {
     "name": "stderr",
     "output_type": "stream",
     "text": [
      "Generations:   0%|          | 34/10000 [06:13<14:04:32,  5.08s/gen]"
     ]
    },
    {
     "name": "stdout",
     "output_type": "stream",
     "text": [
      "EvoGraphOptimizer - Generation num: 36 size: 5\n",
      "EvoGraphOptimizer - Best individuals: HallOfFame archive fitness (1): ['<roc_auc_pen=-0.753 node_number=0.100>']\n",
      "EvoGraphOptimizer - no improvements for 31 iterations\n",
      "EvoGraphOptimizer - spent time: 6.2 min\n",
      "EvoGraphOptimizer - Next mutation proba: 0.8030587152494763; Next crossover proba: 0.19694128475052375\n",
      "EvoGraphOptimizer - Next population size: 5; max graph depth: 6\n",
      "MultiprocessingDispatcher - Number of used CPU's: 8\n",
      "MultiprocessingDispatcher - 4 individuals out of 4 in previous population were evaluated successfully.\n",
      "MultiprocessingDispatcher - Number of used CPU's: 8\n",
      "MultiprocessingDispatcher - 3 individuals out of 3 in previous population were evaluated successfully.\n",
      "ReproductionController - Reproduction achieved pop size 7 using 2 attempt(s) with success rate 0.585\n",
      "RandomAgent - len=8 nonzero=4 avg=-0.746 std=0.440 min=-1.000 max=0.016 \n",
      "RandomAgent - actions/rewards: [(<MutationTypesEnum.single_edge: 'single_edge'>, -1.0), (<MutationTypesEnum.single_add: 'single_add'>, -1.0), (<MutationTypesEnum.single_edge: 'single_edge'>, -1.0), (<MutationTypesEnum.single_drop: 'single_drop'>, 0.0), (<MutationTypesEnum.single_change: 'single_change'>, 0.0), (<MutationTypesEnum.single_change: 'single_change'>, 0.0), (<MutationTypesEnum.single_add: 'single_add'>, 0.0), (<MutationTypesEnum.single_drop: 'single_drop'>, 0.0163)]\n",
      "RandomAgent - exp=[0.1667 0.1667 0.1667 0.1667 0.1667 0.1667] probs=[0.1667 0.1667 0.1667 0.1667 0.1667 0.1667]\n"
     ]
    },
    {
     "name": "stderr",
     "output_type": "stream",
     "text": [
      "Generations:   0%|          | 35/10000 [06:16<12:22:50,  4.47s/gen]"
     ]
    },
    {
     "name": "stdout",
     "output_type": "stream",
     "text": [
      "EvoGraphOptimizer - Generation num: 37 size: 5\n",
      "EvoGraphOptimizer - Best individuals: HallOfFame archive fitness (1): ['<roc_auc_pen=-0.753 node_number=0.100>']\n",
      "EvoGraphOptimizer - no improvements for 32 iterations\n",
      "EvoGraphOptimizer - spent time: 6.3 min\n",
      "EvoGraphOptimizer - Next mutation proba: 0.9625834985431662; Next crossover proba: 0.03741650145683384\n",
      "EvoGraphOptimizer - Next population size: 5; max graph depth: 6\n",
      "MultiprocessingDispatcher - Number of used CPU's: 8\n",
      "MultiprocessingDispatcher - 2 individuals out of 3 in previous population were evaluated successfully.\n",
      "MultiprocessingDispatcher - Number of used CPU's: 8\n",
      "MultiprocessingDispatcher - 1 individuals out of 1 in previous population were evaluated successfully.\n",
      "MultiprocessingDispatcher - Number of used CPU's: 8\n",
      "MultiprocessingDispatcher - 3 individuals out of 3 in previous population were evaluated successfully.\n",
      "ReproductionController - Reproduction achieved pop size 6 using 3 attempt(s) with success rate 0.585\n",
      "RandomAgent - len=6 nonzero=5 avg=-0.244 std=0.382 min=-1.000 max=-0.003 \n",
      "RandomAgent - actions/rewards: [(<MutationTypesEnum.single_drop: 'single_drop'>, -1.0), (<MutationTypesEnum.single_edge: 'single_edge'>, -0.0259), (<MutationTypesEnum.single_add: 'single_add'>, -0.0034), (<MutationTypesEnum.single_edge: 'single_edge'>, -0.0259), (<MutationTypesEnum.single_drop: 'single_drop'>, 0.0), (<MutationTypesEnum.single_add: 'single_add'>, -0.1667)]\n",
      "RandomAgent - exp=[0.1667 0.1667 0.1667 0.1667 0.1667 0.1667] probs=[0.1667 0.1667 0.1667 0.1667 0.1667 0.1667]\n"
     ]
    },
    {
     "name": "stderr",
     "output_type": "stream",
     "text": [
      "Generations:   0%|          | 36/10000 [06:21<12:31:26,  4.52s/gen]"
     ]
    },
    {
     "name": "stdout",
     "output_type": "stream",
     "text": [
      "EvoGraphOptimizer - Generation num: 38 size: 5\n",
      "EvoGraphOptimizer - Best individuals: HallOfFame archive fitness (1): ['<roc_auc_pen=-0.753 node_number=0.100>']\n",
      "EvoGraphOptimizer - no improvements for 33 iterations\n",
      "EvoGraphOptimizer - spent time: 6.4 min\n",
      "EvoGraphOptimizer - Next mutation proba: 0.9625834985431662; Next crossover proba: 0.03741650145683384\n",
      "EvoGraphOptimizer - Next population size: 5; max graph depth: 6\n",
      "MultiprocessingDispatcher - Number of used CPU's: 8\n",
      "MultiprocessingDispatcher - 2 individuals out of 2 in previous population were evaluated successfully.\n",
      "MultiprocessingDispatcher - Number of used CPU's: 8\n",
      "MultiprocessingDispatcher - 2 individuals out of 2 in previous population were evaluated successfully.\n",
      "MultiprocessingDispatcher - Number of used CPU's: 8\n",
      "MultiprocessingDispatcher - 1 individuals out of 3 in previous population were evaluated successfully. 0.3333333333333333% is a fairly small percentage of successful evaluation.\n",
      "ReproductionController - Reproduction achieved pop size 5 using 3 attempt(s) with success rate 0.585\n",
      "RandomAgent - len=7 nonzero=7 avg=-0.302 std=0.442 min=-1.000 max=-0.003 \n",
      "RandomAgent - actions/rewards: [(<MutationTypesEnum.single_add: 'single_add'>, -1.0), (<MutationTypesEnum.single_edge: 'single_edge'>, -1.0), (<MutationTypesEnum.single_add: 'single_add'>, -0.0034), (<function parameter_change_mutation at 0x0000017A9ABC4670>, -0.0766), (<MutationTypesEnum.single_add: 'single_add'>, -0.0027), (<MutationTypesEnum.single_add: 'single_add'>, -0.0027), (<MutationTypesEnum.single_add: 'single_add'>, -0.0262)]\n",
      "RandomAgent - exp=[0.1667 0.1667 0.1667 0.1667 0.1667 0.1667] probs=[0.1667 0.1667 0.1667 0.1667 0.1667 0.1667]\n"
     ]
    },
    {
     "name": "stderr",
     "output_type": "stream",
     "text": [
      "Generations:   0%|          | 37/10000 [06:26<13:06:29,  4.74s/gen]"
     ]
    },
    {
     "name": "stdout",
     "output_type": "stream",
     "text": [
      "EvoGraphOptimizer - Generation num: 39 size: 5\n",
      "EvoGraphOptimizer - Best individuals: HallOfFame archive fitness (1): ['<roc_auc_pen=-0.753 node_number=0.100>']\n",
      "EvoGraphOptimizer - no improvements for 34 iterations\n",
      "EvoGraphOptimizer - spent time: 6.4 min\n",
      "EvoGraphOptimizer - Next mutation proba: 0.9625834985431662; Next crossover proba: 0.03741650145683384\n",
      "EvoGraphOptimizer - Next population size: 5; max graph depth: 6\n",
      "MultiprocessingDispatcher - Number of used CPU's: 8\n",
      "MultiprocessingDispatcher - 4 individuals out of 4 in previous population were evaluated successfully.\n",
      "MultiprocessingDispatcher - Number of used CPU's: 8\n",
      "MultiprocessingDispatcher - 4 individuals out of 4 in previous population were evaluated successfully.\n",
      "ReproductionController - Reproduction achieved pop size 8 using 2 attempt(s) with success rate 0.585\n",
      "RandomAgent - len=6 nonzero=5 avg=-0.248 std=0.379 min=-1.000 max=-0.003 \n",
      "RandomAgent - actions/rewards: [(<MutationTypesEnum.single_add: 'single_add'>, -1.0), (<MutationTypesEnum.single_change: 'single_change'>, -0.1467), (<MutationTypesEnum.single_add: 'single_add'>, -0.0027), (<MutationTypesEnum.single_edge: 'single_edge'>, -0.0259), (<MutationTypesEnum.single_change: 'single_change'>, -0.0661), (<MutationTypesEnum.single_edge: 'single_edge'>, 0.0)]\n",
      "RandomAgent - exp=[0.1667 0.1667 0.1667 0.1667 0.1667 0.1667] probs=[0.1667 0.1667 0.1667 0.1667 0.1667 0.1667]\n"
     ]
    },
    {
     "name": "stderr",
     "output_type": "stream",
     "text": [
      "Generations:   0%|          | 38/10000 [06:32<13:37:03,  4.92s/gen]"
     ]
    },
    {
     "name": "stdout",
     "output_type": "stream",
     "text": [
      "EvoGraphOptimizer - Generation num: 40 size: 5\n",
      "EvoGraphOptimizer - Best individuals: HallOfFame archive fitness (1): ['<roc_auc_pen=-0.753 node_number=0.100>']\n",
      "EvoGraphOptimizer - no improvements for 35 iterations\n",
      "EvoGraphOptimizer - spent time: 6.5 min\n",
      "EvoGraphOptimizer - Next mutation proba: 0.8253586596141566; Next crossover proba: 0.17464134038584345\n",
      "EvoGraphOptimizer - Next population size: 5; max graph depth: 6\n",
      "MultiprocessingDispatcher - Number of used CPU's: 8\n",
      "MultiprocessingDispatcher - 3 individuals out of 3 in previous population were evaluated successfully.\n",
      "MultiprocessingDispatcher - Number of used CPU's: 8\n",
      "MultiprocessingDispatcher - 1 individuals out of 2 in previous population were evaluated successfully. 0.5% is a fairly small percentage of successful evaluation.\n",
      "MultiprocessingDispatcher - Number of used CPU's: 8\n",
      "MultiprocessingDispatcher - 4 individuals out of 4 in previous population were evaluated successfully.\n",
      "ReproductionController - Reproduction achieved pop size 8 using 3 attempt(s) with success rate 0.585\n",
      "RandomAgent - len=6 nonzero=3 avg=-0.381 std=0.442 min=-1.000 max=0.003 \n",
      "RandomAgent - actions/rewards: [(<MutationTypesEnum.single_drop: 'single_drop'>, -1.0), (<MutationTypesEnum.single_drop: 'single_drop'>, 0.0), (<MutationTypesEnum.single_edge: 'single_edge'>, 0.0), (<MutationTypesEnum.single_add: 'single_add'>, 0.0), (<MutationTypesEnum.single_drop: 'single_drop'>, 0.0027), (<MutationTypesEnum.single_change: 'single_change'>, -0.1467)]\n",
      "RandomAgent - exp=[0.1667 0.1667 0.1667 0.1667 0.1667 0.1667] probs=[0.1667 0.1667 0.1667 0.1667 0.1667 0.1667]\n",
      "MultiprocessingDispatcher - Number of used CPU's: 8\n",
      "MultiprocessingDispatcher - 5 individuals out of 5 in previous population were evaluated successfully.\n"
     ]
    },
    {
     "name": "stderr",
     "output_type": "stream",
     "text": [
      "Generations:   0%|          | 39/10000 [06:38<15:08:58,  5.48s/gen]"
     ]
    },
    {
     "name": "stdout",
     "output_type": "stream",
     "text": [
      "EvoGraphOptimizer - Generation num: 41 size: 5\n",
      "EvoGraphOptimizer - Best individuals: HallOfFame archive fitness (1): ['<roc_auc_pen=-0.753 node_number=0.100>']\n",
      "EvoGraphOptimizer - no improvements for 36 iterations\n",
      "EvoGraphOptimizer - spent time: 6.7 min\n",
      "EvoGraphOptimizer - Next mutation proba: 0.9655478313077709; Next crossover proba: 0.03445216869222911\n",
      "EvoGraphOptimizer - Next population size: 5; max graph depth: 6\n",
      "MultiprocessingDispatcher - Number of used CPU's: 8\n",
      "MultiprocessingDispatcher - 3 individuals out of 3 in previous population were evaluated successfully.\n",
      "MultiprocessingDispatcher - Number of used CPU's: 8\n",
      "MultiprocessingDispatcher - 2 individuals out of 4 in previous population were evaluated successfully. 0.5% is a fairly small percentage of successful evaluation.\n",
      "ReproductionController - Reproduction achieved pop size 5 using 2 attempt(s) with success rate 0.585\n",
      "RandomAgent - len=6 nonzero=5 avg=-0.315 std=0.371 min=-1.000 max=0.003 \n",
      "RandomAgent - actions/rewards: [(<MutationTypesEnum.single_drop: 'single_drop'>, -1.0), (<MutationTypesEnum.single_drop: 'single_drop'>, 0.0027), (<MutationTypesEnum.single_change: 'single_change'>, -0.4012), (<MutationTypesEnum.single_change: 'single_change'>, 0.0), (<MutationTypesEnum.single_edge: 'single_edge'>, -0.0259), (<MutationTypesEnum.single_add: 'single_add'>, -0.1486)]\n",
      "RandomAgent - exp=[0.1667 0.1667 0.1667 0.1667 0.1667 0.1667] probs=[0.1667 0.1667 0.1667 0.1667 0.1667 0.1667]\n"
     ]
    },
    {
     "name": "stderr",
     "output_type": "stream",
     "text": [
      "Generations:   0%|          | 40/10000 [06:41<12:49:38,  4.64s/gen]"
     ]
    },
    {
     "name": "stdout",
     "output_type": "stream",
     "text": [
      "EvoGraphOptimizer - Generation num: 42 size: 5\n",
      "EvoGraphOptimizer - Best individuals: HallOfFame archive fitness (1): ['<roc_auc_pen=-0.753 node_number=0.100>']\n",
      "EvoGraphOptimizer - no improvements for 37 iterations\n",
      "EvoGraphOptimizer - spent time: 6.7 min\n",
      "EvoGraphOptimizer - Next mutation proba: 0.8016176549701584; Next crossover proba: 0.19838234502984164\n",
      "EvoGraphOptimizer - Next population size: 5; max graph depth: 6\n",
      "MultiprocessingDispatcher - Number of used CPU's: 8\n",
      "MultiprocessingDispatcher - 2 individuals out of 2 in previous population were evaluated successfully.\n",
      "MultiprocessingDispatcher - Number of used CPU's: 8\n",
      "MultiprocessingDispatcher - 2 individuals out of 2 in previous population were evaluated successfully.\n",
      "MultiprocessingDispatcher - Number of used CPU's: 8\n",
      "MultiprocessingDispatcher - 3 individuals out of 4 in previous population were evaluated successfully.\n",
      "ReproductionController - Reproduction achieved pop size 7 using 3 attempt(s) with success rate 0.585\n",
      "RandomAgent - len=6 nonzero=3 avg=-0.343 std=0.465 min=-1.000 max=-0.003 \n",
      "RandomAgent - actions/rewards: [(<MutationTypesEnum.single_edge: 'single_edge'>, -1.0), (<MutationTypesEnum.single_edge: 'single_edge'>, 0.0), (<MutationTypesEnum.single_add: 'single_add'>, 0.0), (<MutationTypesEnum.single_add: 'single_add'>, -0.0262), (<MutationTypesEnum.single_add: 'single_add'>, 0.0), (<MutationTypesEnum.single_add: 'single_add'>, -0.0027)]\n",
      "RandomAgent - exp=[0.1667 0.1667 0.1667 0.1667 0.1667 0.1667] probs=[0.1667 0.1667 0.1667 0.1667 0.1667 0.1667]\n"
     ]
    },
    {
     "name": "stderr",
     "output_type": "stream",
     "text": [
      "Generations:   0%|          | 41/10000 [06:45<11:59:29,  4.33s/gen]"
     ]
    },
    {
     "name": "stdout",
     "output_type": "stream",
     "text": [
      "EvoGraphOptimizer - Generation num: 43 size: 5\n",
      "EvoGraphOptimizer - Best individuals: HallOfFame archive fitness (1): ['<roc_auc_pen=-0.753 node_number=0.100>']\n",
      "EvoGraphOptimizer - no improvements for 38 iterations\n",
      "EvoGraphOptimizer - spent time: 6.8 min\n",
      "EvoGraphOptimizer - Next mutation proba: 0.9768120919806564; Next crossover proba: 0.02318790801934356\n",
      "EvoGraphOptimizer - Next population size: 5; max graph depth: 6\n",
      "MultiprocessingDispatcher - Number of used CPU's: 8\n",
      "MultiprocessingDispatcher - 1 individuals out of 3 in previous population were evaluated successfully. 0.3333333333333333% is a fairly small percentage of successful evaluation.\n",
      "MultiprocessingDispatcher - Number of used CPU's: 8\n",
      "MultiprocessingDispatcher - 1 individuals out of 2 in previous population were evaluated successfully. 0.5% is a fairly small percentage of successful evaluation.\n",
      "MultiprocessingDispatcher - Number of used CPU's: 8\n",
      "MultiprocessingDispatcher - 2 individuals out of 3 in previous population were evaluated successfully.\n",
      "MultiprocessingDispatcher - Number of used CPU's: 8\n",
      "MultiprocessingDispatcher - 1 individuals out of 2 in previous population were evaluated successfully. 0.5% is a fairly small percentage of successful evaluation.\n",
      "ReproductionController - Reproduction achieved pop size 5 using 4 attempt(s) with success rate 0.585\n",
      "RandomAgent - len=8 nonzero=7 avg=-0.453 std=0.476 min=-1.000 max=0.002 \n",
      "RandomAgent - actions/rewards: [(<MutationTypesEnum.single_drop: 'single_drop'>, -1.0), (<MutationTypesEnum.single_drop: 'single_drop'>, -1.0), (<MutationTypesEnum.single_edge: 'single_edge'>, -1.0), (<MutationTypesEnum.single_drop: 'single_drop'>, 0.002), (<MutationTypesEnum.single_edge: 'single_edge'>, -0.0259), (<MutationTypesEnum.single_drop: 'single_drop'>, 0.002), (<MutationTypesEnum.single_change: 'single_change'>, 0.0), (<MutationTypesEnum.single_change: 'single_change'>, -0.1467)]\n",
      "RandomAgent - exp=[0.1667 0.1667 0.1667 0.1667 0.1667 0.1667] probs=[0.1667 0.1667 0.1667 0.1667 0.1667 0.1667]\n"
     ]
    },
    {
     "name": "stderr",
     "output_type": "stream",
     "text": [
      "Generations:   0%|          | 42/10000 [06:48<11:17:59,  4.09s/gen]"
     ]
    },
    {
     "name": "stdout",
     "output_type": "stream",
     "text": [
      "EvoGraphOptimizer - Generation num: 44 size: 5\n",
      "EvoGraphOptimizer - Best individuals: HallOfFame archive fitness (1): ['<roc_auc_pen=-0.753 node_number=0.100>']\n",
      "EvoGraphOptimizer - no improvements for 39 iterations\n",
      "EvoGraphOptimizer - spent time: 6.8 min\n",
      "EvoGraphOptimizer - Next mutation proba: 0.9819823302105367; Next crossover proba: 0.018017669789463286\n",
      "EvoGraphOptimizer - Next population size: 5; max graph depth: 6\n",
      "MultiprocessingDispatcher - Number of used CPU's: 8\n",
      "MultiprocessingDispatcher - 2 individuals out of 2 in previous population were evaluated successfully.\n",
      "MultiprocessingDispatcher - Number of used CPU's: 8\n",
      "MultiprocessingDispatcher - 3 individuals out of 3 in previous population were evaluated successfully.\n",
      "ReproductionController - Reproduction achieved pop size 5 using 2 attempt(s) with success rate 0.585\n",
      "RandomAgent - len=8 nonzero=7 avg=-0.460 std=0.470 min=-1.000 max=0.002 \n",
      "RandomAgent - actions/rewards: [(<MutationTypesEnum.single_edge: 'single_edge'>, -1.0), (<MutationTypesEnum.single_drop: 'single_drop'>, -1.0), (<MutationTypesEnum.single_edge: 'single_edge'>, -1.0), (<MutationTypesEnum.single_change: 'single_change'>, 0.0), (<MutationTypesEnum.single_drop: 'single_drop'>, 0.002), (<MutationTypesEnum.single_add: 'single_add'>, -0.002), (<function parameter_change_mutation at 0x0000017A9ABC4670>, -0.0715), (<MutationTypesEnum.single_change: 'single_change'>, -0.1467)]\n",
      "RandomAgent - exp=[0.1667 0.1667 0.1667 0.1667 0.1667 0.1667] probs=[0.1667 0.1667 0.1667 0.1667 0.1667 0.1667]\n"
     ]
    },
    {
     "name": "stderr",
     "output_type": "stream",
     "text": [
      "Generations:   0%|          | 43/10000 [06:53<11:31:44,  4.17s/gen]"
     ]
    },
    {
     "name": "stdout",
     "output_type": "stream",
     "text": [
      "EvoGraphOptimizer - Generation num: 45 size: 5\n",
      "EvoGraphOptimizer - Best individuals: HallOfFame archive fitness (1): ['<roc_auc_pen=-0.753 node_number=0.100>']\n",
      "EvoGraphOptimizer - no improvements for 40 iterations\n",
      "EvoGraphOptimizer - spent time: 6.9 min\n",
      "EvoGraphOptimizer - Next mutation proba: 0.9819823302105367; Next crossover proba: 0.018017669789463286\n",
      "EvoGraphOptimizer - Next population size: 5; max graph depth: 6\n",
      "MultiprocessingDispatcher - Number of used CPU's: 8\n",
      "MultiprocessingDispatcher - 3 individuals out of 4 in previous population were evaluated successfully.\n",
      "MultiprocessingDispatcher - Number of used CPU's: 8\n",
      "MultiprocessingDispatcher - 0 individuals out of 1 in previous population were evaluated successfully. 0.0% is a fairly small percentage of successful evaluation.\n",
      "PipelineObjectiveEvaluate - Unsuccessful pipeline fit during fitness evaluation. Skipping the pipeline. Exception <Found array with dim 4. StandardScaler expected <= 2.> on ((/n_resample_{'balance': 'expand_minority', 'replace': False, 'balance_ratio': 1};)/n_scaling;)/n_rf_{'n_jobs': 1, 'criterion': 'gini', 'max_features': 0.1060482801672528, 'min_samples_split': 4, 'min_samples_leaf': 15, 'bootstrap': False}\n",
      "MultiprocessingDispatcher - Number of used CPU's: 8\n",
      "MultiprocessingDispatcher - 1 individuals out of 2 in previous population were evaluated successfully. 0.5% is a fairly small percentage of successful evaluation.\n",
      "MultiprocessingDispatcher - Number of used CPU's: 8\n",
      "MultiprocessingDispatcher - 2 individuals out of 3 in previous population were evaluated successfully.\n",
      "ReproductionController - Reproduction achieved pop size 6 using 4 attempt(s) with success rate 0.585\n",
      "RandomAgent - len=5 nonzero=5 avg=-0.063 std=0.031 min=-0.091 max=-0.002 \n",
      "RandomAgent - actions/rewards: [(<MutationTypesEnum.single_add: 'single_add'>, -0.002), (<MutationTypesEnum.single_change: 'single_change'>, -0.0712), (<MutationTypesEnum.single_add: 'single_add'>, -0.0709), (<function parameter_change_mutation at 0x0000017A9ABC4670>, -0.0785), (<MutationTypesEnum.single_add: 'single_add'>, -0.0912)]\n",
      "RandomAgent - exp=[0.1667 0.1667 0.1667 0.1667 0.1667 0.1667] probs=[0.1667 0.1667 0.1667 0.1667 0.1667 0.1667]\n",
      "MultiprocessingDispatcher - Number of used CPU's: 8\n",
      "MultiprocessingDispatcher - 5 individuals out of 5 in previous population were evaluated successfully.\n"
     ]
    },
    {
     "name": "stderr",
     "output_type": "stream",
     "text": [
      "Generations:   0%|          | 44/10000 [07:01<14:50:31,  5.37s/gen]"
     ]
    },
    {
     "name": "stdout",
     "output_type": "stream",
     "text": [
      "EvoGraphOptimizer - Generation num: 46 size: 5\n",
      "EvoGraphOptimizer - Best individuals: HallOfFame archive fitness (1): ['<roc_auc_pen=-0.753 node_number=0.100>']\n",
      "EvoGraphOptimizer - no improvements for 41 iterations\n",
      "EvoGraphOptimizer - spent time: 7.0 min\n",
      "EvoGraphOptimizer - Next mutation proba: 0.7625783534274; Next crossover proba: 0.2374216465726\n",
      "EvoGraphOptimizer - Next population size: 5; max graph depth: 6\n",
      "MultiprocessingDispatcher - Number of used CPU's: 8\n",
      "MultiprocessingDispatcher - 2 individuals out of 3 in previous population were evaluated successfully.\n",
      "MultiprocessingDispatcher - Number of used CPU's: 8\n",
      "MultiprocessingDispatcher - 2 individuals out of 3 in previous population were evaluated successfully.\n",
      "MultiprocessingDispatcher - Number of used CPU's: 8\n",
      "MultiprocessingDispatcher - 3 individuals out of 3 in previous population were evaluated successfully.\n",
      "ReproductionController - Reproduction achieved pop size 7 using 3 attempt(s) with success rate 0.585\n",
      "RandomAgent - len=6 nonzero=3 avg=-0.335 std=0.470 min=-1.000 max=-0.002 \n",
      "RandomAgent - actions/rewards: [(<MutationTypesEnum.single_drop: 'single_drop'>, -1.0), (<MutationTypesEnum.single_add: 'single_add'>, -0.0027), (<MutationTypesEnum.single_change: 'single_change'>, 0.0), (<MutationTypesEnum.single_add: 'single_add'>, -0.002), (<MutationTypesEnum.single_change: 'single_change'>, 0.0), (<MutationTypesEnum.single_change: 'single_change'>, 0.0)]\n",
      "RandomAgent - exp=[0.1667 0.1667 0.1667 0.1667 0.1667 0.1667] probs=[0.1667 0.1667 0.1667 0.1667 0.1667 0.1667]\n"
     ]
    },
    {
     "name": "stderr",
     "output_type": "stream",
     "text": [
      "Generations:   0%|          | 45/10000 [07:06<14:23:07,  5.20s/gen]"
     ]
    },
    {
     "name": "stdout",
     "output_type": "stream",
     "text": [
      "EvoGraphOptimizer - Generation num: 47 size: 5\n",
      "EvoGraphOptimizer - Best individuals: HallOfFame archive fitness (1): ['<roc_auc_pen=-0.753 node_number=0.100>']\n",
      "EvoGraphOptimizer - no improvements for 42 iterations\n",
      "EvoGraphOptimizer - spent time: 7.1 min\n",
      "EvoGraphOptimizer - Next mutation proba: 0.9646754864546135; Next crossover proba: 0.03532451354538646\n",
      "EvoGraphOptimizer - Next population size: 5; max graph depth: 6\n",
      "MultiprocessingDispatcher - Number of used CPU's: 8\n",
      "MultiprocessingDispatcher - 1 individuals out of 1 in previous population were evaluated successfully.\n",
      "MultiprocessingDispatcher - Number of used CPU's: 8\n",
      "MultiprocessingDispatcher - 2 individuals out of 3 in previous population were evaluated successfully.\n",
      "MultiprocessingDispatcher - Number of used CPU's: 8\n",
      "MultiprocessingDispatcher - 1 individuals out of 2 in previous population were evaluated successfully. 0.5% is a fairly small percentage of successful evaluation.\n",
      "MultiprocessingDispatcher - Number of used CPU's: 8\n",
      "MultiprocessingDispatcher - 1 individuals out of 4 in previous population were evaluated successfully. 0.25% is a fairly small percentage of successful evaluation.\n",
      "ReproductionController - Reproduction achieved pop size 5 using 4 attempt(s) with success rate 0.585\n",
      "RandomAgent - len=5 nonzero=5 avg=-0.023 std=0.027 min=-0.058 max=0.001 \n",
      "RandomAgent - actions/rewards: [(<MutationTypesEnum.single_add: 'single_add'>, -0.002), (<MutationTypesEnum.single_add: 'single_add'>, -0.002), (<function parameter_change_mutation at 0x0000017A9ABC4670>, -0.0534), (<MutationTypesEnum.single_drop: 'single_drop'>, 0.0013), (<function parameter_change_mutation at 0x0000017A9ABC4670>, -0.0584)]\n",
      "RandomAgent - exp=[0.1667 0.1667 0.1667 0.1667 0.1667 0.1667] probs=[0.1667 0.1667 0.1667 0.1667 0.1667 0.1667]\n"
     ]
    },
    {
     "name": "stderr",
     "output_type": "stream",
     "text": [
      "Generations:   0%|          | 46/10000 [07:12<15:39:12,  5.66s/gen]"
     ]
    },
    {
     "name": "stdout",
     "output_type": "stream",
     "text": [
      "EvoGraphOptimizer - Generation num: 48 size: 5\n",
      "EvoGraphOptimizer - Best individuals: HallOfFame archive fitness (1): ['<roc_auc_pen=-0.753 node_number=0.100>']\n",
      "EvoGraphOptimizer - no improvements for 43 iterations\n",
      "EvoGraphOptimizer - spent time: 7.2 min\n",
      "EvoGraphOptimizer - Next mutation proba: 0.9768120919806564; Next crossover proba: 0.02318790801934356\n",
      "EvoGraphOptimizer - Next population size: 5; max graph depth: 6\n",
      "MultiprocessingDispatcher - Number of used CPU's: 8\n",
      "MultiprocessingDispatcher - 2 individuals out of 3 in previous population were evaluated successfully.\n",
      "MultiprocessingDispatcher - Number of used CPU's: 8\n",
      "MultiprocessingDispatcher - 3 individuals out of 4 in previous population were evaluated successfully.\n",
      "ReproductionController - Reproduction achieved pop size 5 using 2 attempt(s) with success rate 0.585\n",
      "RandomAgent - len=5 nonzero=5 avg=-0.096 std=0.079 min=-0.188 max=-0.003 \n",
      "RandomAgent - actions/rewards: [(<MutationTypesEnum.single_add: 'single_add'>, -0.0027), (<MutationTypesEnum.single_change: 'single_change'>, -0.161), (<MutationTypesEnum.single_change: 'single_change'>, -0.1237), (<MutationTypesEnum.single_add: 'single_add'>, -0.0027), (<MutationTypesEnum.single_change: 'single_change'>, -0.1884)]\n",
      "RandomAgent - exp=[0.1667 0.1667 0.1667 0.1667 0.1667 0.1667] probs=[0.1667 0.1667 0.1667 0.1667 0.1667 0.1667]\n"
     ]
    },
    {
     "name": "stderr",
     "output_type": "stream",
     "text": [
      "Generations:   0%|          | 47/10000 [07:14<12:26:39,  4.50s/gen]"
     ]
    },
    {
     "name": "stdout",
     "output_type": "stream",
     "text": [
      "EvoGraphOptimizer - Generation num: 49 size: 5\n",
      "EvoGraphOptimizer - Best individuals: HallOfFame archive fitness (1): ['<roc_auc_pen=-0.753 node_number=0.100>']\n",
      "EvoGraphOptimizer - no improvements for 44 iterations\n",
      "EvoGraphOptimizer - spent time: 7.2 min\n",
      "EvoGraphOptimizer - Next mutation proba: 0.158304993401146; Next crossover proba: 0.841695006598854\n",
      "EvoGraphOptimizer - Next population size: 5; max graph depth: 6\n",
      "MultiprocessingDispatcher - Number of used CPU's: 8\n",
      "MultiprocessingDispatcher - 1 individuals out of 3 in previous population were evaluated successfully. 0.3333333333333333% is a fairly small percentage of successful evaluation.\n",
      "MultiprocessingDispatcher - Number of used CPU's: 8\n",
      "MultiprocessingDispatcher - 3 individuals out of 3 in previous population were evaluated successfully.\n",
      "MultiprocessingDispatcher - Number of used CPU's: 8\n",
      "MultiprocessingDispatcher - 2 individuals out of 2 in previous population were evaluated successfully.\n",
      "ReproductionController - Reproduction achieved pop size 6 using 3 attempt(s) with success rate 0.585\n",
      "RandomAgent - len=6 nonzero=5 avg=-0.253 std=0.377 min=-1.000 max=0.001 \n",
      "RandomAgent - actions/rewards: [(<MutationTypesEnum.single_drop: 'single_drop'>, -1.0), (<MutationTypesEnum.single_drop: 'single_drop'>, 0.0013), (<MutationTypesEnum.single_change: 'single_change'>, 0.0), (<function parameter_change_mutation at 0x0000017A9ABC4670>, -0.0541), (<MutationTypesEnum.single_change: 'single_change'>, -0.161), (<MutationTypesEnum.single_add: 'single_add'>, -0.0494)]\n",
      "RandomAgent - exp=[0.1667 0.1667 0.1667 0.1667 0.1667 0.1667] probs=[0.1667 0.1667 0.1667 0.1667 0.1667 0.1667]\n"
     ]
    },
    {
     "name": "stderr",
     "output_type": "stream",
     "text": [
      "Generations:   0%|          | 48/10000 [07:19<12:36:16,  4.56s/gen]"
     ]
    },
    {
     "name": "stdout",
     "output_type": "stream",
     "text": [
      "EvoGraphOptimizer - Generation num: 50 size: 5\n",
      "EvoGraphOptimizer - Best individuals: HallOfFame archive fitness (1): ['<roc_auc_pen=-0.753 node_number=0.100>']\n",
      "EvoGraphOptimizer - no improvements for 45 iterations\n",
      "EvoGraphOptimizer - spent time: 7.3 min\n",
      "EvoGraphOptimizer - Next mutation proba: 0.6650632398189014; Next crossover proba: 0.33493676018109864\n",
      "EvoGraphOptimizer - Next population size: 5; max graph depth: 6\n",
      "MultiprocessingDispatcher - Number of used CPU's: 8\n",
      "MultiprocessingDispatcher - 3 individuals out of 4 in previous population were evaluated successfully.\n",
      "MultiprocessingDispatcher - Number of used CPU's: 8\n",
      "MultiprocessingDispatcher - 3 individuals out of 3 in previous population were evaluated successfully.\n",
      "ReproductionController - Reproduction achieved pop size 6 using 2 attempt(s) with success rate 0.585\n",
      "RandomAgent - len=6 nonzero=3 avg=-0.426 std=0.414 min=-1.000 max=-0.037 \n",
      "RandomAgent - actions/rewards: [(<MutationTypesEnum.single_add: 'single_add'>, -1.0), (<MutationTypesEnum.single_change: 'single_change'>, -0.2423), (<MutationTypesEnum.single_add: 'single_add'>, 0.0), (<MutationTypesEnum.single_change: 'single_change'>, 0.0), (<MutationTypesEnum.single_edge: 'single_edge'>, -0.0367), (<MutationTypesEnum.single_change: 'single_change'>, 0.0)]\n",
      "RandomAgent - exp=[0.1667 0.1667 0.1667 0.1667 0.1667 0.1667] probs=[0.1667 0.1667 0.1667 0.1667 0.1667 0.1667]\n",
      "MultiprocessingDispatcher - Number of used CPU's: 8\n",
      "MultiprocessingDispatcher - 4 individuals out of 5 in previous population were evaluated successfully.\n"
     ]
    },
    {
     "name": "stderr",
     "output_type": "stream",
     "text": [
      "Generations:   0%|          | 49/10000 [07:22<11:10:17,  4.04s/gen]"
     ]
    },
    {
     "name": "stdout",
     "output_type": "stream",
     "text": [
      "EvoGraphOptimizer - Generation num: 51 size: 4\n",
      "EvoGraphOptimizer - Best individuals: HallOfFame archive fitness (1): ['<roc_auc_pen=-0.753 node_number=0.100>']\n",
      "EvoGraphOptimizer - no improvements for 46 iterations\n",
      "EvoGraphOptimizer - spent time: 7.4 min\n",
      "EvoGraphOptimizer - Next mutation proba: 0.48126568206241604; Next crossover proba: 0.518734317937584\n",
      "EvoGraphOptimizer - Next population size: 5; max graph depth: 6\n",
      "MultiprocessingDispatcher - Number of used CPU's: 8\n",
      "MultiprocessingDispatcher - 3 individuals out of 3 in previous population were evaluated successfully.\n",
      "MultiprocessingDispatcher - Number of used CPU's: 8\n",
      "MultiprocessingDispatcher - 2 individuals out of 2 in previous population were evaluated successfully.\n",
      "ReproductionController - Reproduction achieved pop size 5 using 2 attempt(s) with success rate 0.585\n",
      "RandomAgent - len=5 nonzero=2 avg=0.011 std=0.012 min=-0.001 max=0.022 \n",
      "RandomAgent - actions/rewards: [(<MutationTypesEnum.single_change: 'single_change'>, 0.0), (<MutationTypesEnum.single_change: 'single_change'>, 0.0), (<MutationTypesEnum.single_add: 'single_add'>, 0.0225), (<MutationTypesEnum.single_change: 'single_change'>, 0.0), (<function parameter_change_mutation at 0x0000017A9ABC4670>, -0.0006)]\n",
      "RandomAgent - exp=[0.1667 0.1667 0.1667 0.1667 0.1667 0.1667] probs=[0.1667 0.1667 0.1667 0.1667 0.1667 0.1667]\n"
     ]
    },
    {
     "name": "stderr",
     "output_type": "stream",
     "text": [
      "Generations:   0%|          | 50/10000 [07:24<9:57:42,  3.60s/gen] "
     ]
    },
    {
     "name": "stdout",
     "output_type": "stream",
     "text": [
      "EvoGraphOptimizer - Generation num: 52 size: 5\n",
      "EvoGraphOptimizer - Best individuals: HallOfFame archive fitness (1): ['<roc_auc_pen=-0.753 node_number=0.100>']\n",
      "EvoGraphOptimizer - no improvements for 47 iterations\n",
      "EvoGraphOptimizer - spent time: 7.4 min\n",
      "EvoGraphOptimizer - Next mutation proba: 0.4525337322506391; Next crossover proba: 0.5474662677493609\n",
      "EvoGraphOptimizer - Next population size: 5; max graph depth: 6\n",
      "MultiprocessingDispatcher - Number of used CPU's: 8\n",
      "MultiprocessingDispatcher - 1 individuals out of 2 in previous population were evaluated successfully. 0.5% is a fairly small percentage of successful evaluation.\n",
      "MultiprocessingDispatcher - Number of used CPU's: 8\n",
      "MultiprocessingDispatcher - 3 individuals out of 4 in previous population were evaluated successfully.\n",
      "MultiprocessingDispatcher - Number of used CPU's: 8\n",
      "MultiprocessingDispatcher - 4 individuals out of 4 in previous population were evaluated successfully.\n",
      "ReproductionController - Reproduction achieved pop size 8 using 3 attempt(s) with success rate 0.585\n",
      "RandomAgent - len=6 nonzero=3 avg=-0.350 std=0.460 min=-1.000 max=-0.001 \n",
      "RandomAgent - actions/rewards: [(<MutationTypesEnum.single_add: 'single_add'>, -1.0), (<function parameter_change_mutation at 0x0000017A9ABC4670>, 0.0), (<MutationTypesEnum.single_add: 'single_add'>, -0.0013), (<MutationTypesEnum.single_change: 'single_change'>, -0.0485), (<function parameter_change_mutation at 0x0000017A9ABC4670>, 0.0), (<function parameter_change_mutation at 0x0000017A9ABC4670>, 0.0)]\n",
      "RandomAgent - exp=[0.1667 0.1667 0.1667 0.1667 0.1667 0.1667] probs=[0.1667 0.1667 0.1667 0.1667 0.1667 0.1667]\n"
     ]
    },
    {
     "name": "stderr",
     "output_type": "stream",
     "text": [
      "Generations:   1%|          | 51/10000 [07:31<12:35:42,  4.56s/gen]"
     ]
    },
    {
     "name": "stdout",
     "output_type": "stream",
     "text": [
      "EvoGraphOptimizer - Generation num: 53 size: 5\n",
      "EvoGraphOptimizer - Best individuals: HallOfFame archive fitness (1): ['<roc_auc_pen=-0.753 node_number=0.100>']\n",
      "EvoGraphOptimizer - no improvements for 48 iterations\n",
      "EvoGraphOptimizer - spent time: 7.5 min\n",
      "EvoGraphOptimizer - Next mutation proba: 0.6643260826213313; Next crossover proba: 0.3356739173786687\n",
      "EvoGraphOptimizer - Next population size: 5; max graph depth: 6\n",
      "MultiprocessingDispatcher - Number of used CPU's: 8\n",
      "MultiprocessingDispatcher - 2 individuals out of 3 in previous population were evaluated successfully.\n",
      "MultiprocessingDispatcher - Number of used CPU's: 8\n",
      "MultiprocessingDispatcher - 3 individuals out of 4 in previous population were evaluated successfully.\n",
      "ReproductionController - Reproduction achieved pop size 5 using 2 attempt(s) with success rate 0.585\n",
      "RandomAgent - len=6 nonzero=5 avg=-0.250 std=0.381 min=-1.000 max=-0.003 \n",
      "RandomAgent - actions/rewards: [(<MutationTypesEnum.single_add: 'single_add'>, -1.0), (<MutationTypesEnum.single_change: 'single_change'>, -0.1884), (<function parameter_change_mutation at 0x0000017A9ABC4670>, -0.036), (<function parameter_change_mutation at 0x0000017A9ABC4670>, 0.0), (<MutationTypesEnum.single_change: 'single_change'>, -0.0239), (<MutationTypesEnum.single_add: 'single_add'>, -0.0033)]\n",
      "RandomAgent - exp=[0.1667 0.1667 0.1667 0.1667 0.1667 0.1667] probs=[0.1667 0.1667 0.1667 0.1667 0.1667 0.1667]\n"
     ]
    },
    {
     "name": "stderr",
     "output_type": "stream",
     "text": [
      "Generations:   1%|          | 52/10000 [07:34<11:00:27,  3.98s/gen]"
     ]
    },
    {
     "name": "stdout",
     "output_type": "stream",
     "text": [
      "EvoGraphOptimizer - Generation num: 54 size: 5\n",
      "EvoGraphOptimizer - Best individuals: HallOfFame archive fitness (1): ['<roc_auc_pen=-0.753 node_number=0.100>']\n",
      "EvoGraphOptimizer - no improvements for 49 iterations\n",
      "EvoGraphOptimizer - spent time: 7.6 min\n",
      "EvoGraphOptimizer - Next mutation proba: 0.5287950334943368; Next crossover proba: 0.47120496650566324\n",
      "EvoGraphOptimizer - Next population size: 5; max graph depth: 6\n",
      "MultiprocessingDispatcher - Number of used CPU's: 8\n",
      "MultiprocessingDispatcher - 1 individuals out of 4 in previous population were evaluated successfully. 0.25% is a fairly small percentage of successful evaluation.\n",
      "MultiprocessingDispatcher - Number of used CPU's: 8\n",
      "MultiprocessingDispatcher - 1 individuals out of 2 in previous population were evaluated successfully. 0.5% is a fairly small percentage of successful evaluation.\n",
      "MultiprocessingDispatcher - Number of used CPU's: 8\n",
      "MultiprocessingDispatcher - 3 individuals out of 3 in previous population were evaluated successfully.\n",
      "ReproductionController - Reproduction achieved pop size 5 using 3 attempt(s) with success rate 0.585\n",
      "RandomAgent - len=8 nonzero=6 avg=-0.529 std=0.473 min=-1.000 max=-0.001 \n",
      "RandomAgent - actions/rewards: [(<MutationTypesEnum.single_drop: 'single_drop'>, -1.0), (<MutationTypesEnum.single_add: 'single_add'>, -1.0), (<MutationTypesEnum.single_drop: 'single_drop'>, -1.0), (<MutationTypesEnum.single_edge: 'single_edge'>, 0.0), (<MutationTypesEnum.single_add: 'single_add'>, -0.0013), (<MutationTypesEnum.single_drop: 'single_drop'>, 0.0), (<MutationTypesEnum.single_edge: 'single_edge'>, -0.0259), (<MutationTypesEnum.single_change: 'single_change'>, -0.1467)]\n",
      "RandomAgent - exp=[0.1667 0.1667 0.1667 0.1667 0.1667 0.1667] probs=[0.1667 0.1667 0.1667 0.1667 0.1667 0.1667]\n"
     ]
    },
    {
     "name": "stderr",
     "output_type": "stream",
     "text": [
      "Generations:   1%|          | 53/10000 [07:36<10:01:02,  3.63s/gen]"
     ]
    },
    {
     "name": "stdout",
     "output_type": "stream",
     "text": [
      "EvoGraphOptimizer - Generation num: 55 size: 5\n",
      "EvoGraphOptimizer - Best individuals: HallOfFame archive fitness (1): ['<roc_auc_pen=-0.753 node_number=0.100>']\n",
      "EvoGraphOptimizer - no improvements for 50 iterations\n",
      "EvoGraphOptimizer - spent time: 7.6 min\n",
      "GroupedCondition - Optimisation finished: Early stopping iterations criteria was satisfied\n"
     ]
    },
    {
     "name": "stderr",
     "output_type": "stream",
     "text": [
      "Generations:   1%|          | 53/10000 [07:36<23:49:26,  8.62s/gen]"
     ]
    },
    {
     "name": "stdout",
     "output_type": "stream",
     "text": [
      "OptimisationTimer - Composition time: 7.617 min\n",
      "EvoGraphOptimizer - Generation num: 56 size: 1\n",
      "EvoGraphOptimizer - Best individuals: HallOfFame archive fitness (1): ['<roc_auc_pen=-0.753 node_number=0.100>']\n",
      "EvoGraphOptimizer - no improvements for 51 iterations\n",
      "EvoGraphOptimizer - spent time: 7.6 min\n",
      "GPComposer - GP composition finished\n",
      "DataSourceSplitter - K-folds cross validation is applied.\n",
      "ApiComposer - Hyperparameters tuning started with 7 min. timeout\n",
      "SimultaneousTuner - Hyperparameters optimization start: estimation of metric for initial graph\n"
     ]
    },
    {
     "name": "stderr",
     "output_type": "stream",
     "text": [
      "\n"
     ]
    },
    {
     "name": "stdout",
     "output_type": "stream",
     "text": [
      "SimultaneousTuner - Initial graph: {'depth': 1, 'length': 1, 'nodes': [rf]}\n",
      "rf - {'n_jobs': 1, 'criterion': 'gini', 'max_features': 0.1060482801672528, 'min_samples_split': 4, 'min_samples_leaf': 15, 'bootstrap': False} \n",
      "Initial metric: [0.753]\n",
      "  0%|          | 0/1 [00:00<?, ?trial/s, best loss=?]2024-09-30 15:15:48,872 - build_posterior_wrapper took 0.005005 seconds\n",
      "2024-09-30 15:15:48,872 - TPE using 0 trials\n",
      "100%|██████████| 1/1 [00:01<00:00,  1.52s/trial, best loss: -0.7531452572032048]\n",
      "  0%|          | 1/100000 [00:00<?, ?trial/s, best loss=?]2024-09-30 15:15:50,398 - build_posterior_wrapper took 0.006032 seconds\n",
      "2024-09-30 15:15:50,400 - TPE using 1/1 trials with best loss -0.753145\n",
      "  0%|          | 2/100000 [00:02<65:04:55,  2.34s/trial, best loss: -0.7531452572032048]2024-09-30 15:15:52,742 - build_posterior_wrapper took 0.006001 seconds\n",
      "2024-09-30 15:15:52,744 - TPE using 2/2 trials with best loss -0.753145\n",
      "  0%|          | 3/100000 [00:06<87:52:31,  3.16s/trial, best loss: -0.7531452572032048]2024-09-30 15:15:56,480 - build_posterior_wrapper took 0.006010 seconds\n",
      "2024-09-30 15:15:56,482 - TPE using 3/3 trials with best loss -0.753145\n",
      "  0%|          | 4/100000 [00:11<114:57:30,  4.14s/trial, best loss: -0.7531452572032048]2024-09-30 15:16:01,780 - build_posterior_wrapper took 0.005994 seconds\n",
      "2024-09-30 15:16:01,781 - TPE using 4/4 trials with best loss -0.753145\n",
      "  0%|          | 5/100000 [00:14<103:24:50,  3.72s/trial, best loss: -0.7531452572032048]2024-09-30 15:16:04,865 - build_posterior_wrapper took 0.006040 seconds\n",
      "2024-09-30 15:16:04,866 - TPE using 5/5 trials with best loss -0.753145\n",
      "  0%|          | 6/100000 [00:19<111:32:41,  4.02s/trial, best loss: -0.7531452572032048]2024-09-30 15:16:09,400 - build_posterior_wrapper took 0.005997 seconds\n",
      "2024-09-30 15:16:09,402 - TPE using 6/6 trials with best loss -0.753145\n",
      "  0%|          | 7/100000 [00:22<103:15:12,  3.72s/trial, best loss: -0.7531452572032048]2024-09-30 15:16:12,541 - build_posterior_wrapper took 0.007033 seconds\n",
      "2024-09-30 15:16:12,542 - TPE using 7/7 trials with best loss -0.753145\n",
      "  0%|          | 8/100000 [00:24<93:00:56,  3.35s/trial, best loss: -0.7531452572032048] 2024-09-30 15:16:15,129 - build_posterior_wrapper took 0.007028 seconds\n",
      "2024-09-30 15:16:15,131 - TPE using 8/8 trials with best loss -0.753145\n",
      "  0%|          | 9/100000 [00:28<94:08:52,  3.39s/trial, best loss: -0.7531452572032048]2024-09-30 15:16:18,605 - build_posterior_wrapper took 0.006037 seconds\n",
      "2024-09-30 15:16:18,606 - TPE using 9/9 trials with best loss -0.753145\n",
      "  0%|          | 10/100000 [00:30<83:01:38,  2.99s/trial, best loss: -0.7531452572032048]2024-09-30 15:16:20,714 - build_posterior_wrapper took 0.005970 seconds\n",
      "2024-09-30 15:16:20,715 - TPE using 10/10 trials with best loss -0.753145\n",
      "  0%|          | 11/100000 [00:33<88:07:02,  3.17s/trial, best loss: -0.7531452572032048]2024-09-30 15:16:24,297 - build_posterior_wrapper took 0.005999 seconds\n",
      "2024-09-30 15:16:24,299 - TPE using 11/11 trials with best loss -0.753145\n",
      "  0%|          | 12/100000 [00:40<117:00:18,  4.21s/trial, best loss: -0.7531452572032048]2024-09-30 15:16:30,868 - build_posterior_wrapper took 0.006039 seconds\n",
      "2024-09-30 15:16:30,869 - TPE using 12/12 trials with best loss -0.753145\n",
      "  0%|          | 13/100000 [00:42<101:02:33,  3.64s/trial, best loss: -0.7531452572032048]2024-09-30 15:16:33,191 - build_posterior_wrapper took 0.006007 seconds\n",
      "2024-09-30 15:16:33,193 - TPE using 13/13 trials with best loss -0.753145\n",
      "  0%|          | 14/100000 [00:46<102:03:35,  3.67s/trial, best loss: -0.7531452572032048]2024-09-30 15:16:36,950 - build_posterior_wrapper took 0.006006 seconds\n",
      "2024-09-30 15:16:36,955 - TPE using 14/14 trials with best loss -0.753145\n",
      "  0%|          | 15/100000 [00:49<96:55:01,  3.49s/trial, best loss: -0.7531452572032048] 2024-09-30 15:16:40,013 - build_posterior_wrapper took 0.007000 seconds\n",
      "2024-09-30 15:16:40,014 - TPE using 15/15 trials with best loss -0.753145\n",
      "  0%|          | 16/100000 [00:51<87:08:30,  3.14s/trial, best loss: -0.7531452572032048]2024-09-30 15:16:42,333 - build_posterior_wrapper took 0.005035 seconds\n",
      "2024-09-30 15:16:42,335 - TPE using 16/16 trials with best loss -0.753145\n",
      "  0%|          | 17/100000 [00:54<85:59:55,  3.10s/trial, best loss: -0.7531452572032048]2024-09-30 15:16:45,335 - build_posterior_wrapper took 0.005999 seconds\n",
      "2024-09-30 15:16:45,337 - TPE using 17/17 trials with best loss -0.753145\n",
      "  0%|          | 18/100000 [00:57<81:57:34,  2.95s/trial, best loss: -0.7531452572032048]2024-09-30 15:16:47,948 - build_posterior_wrapper took 0.005999 seconds\n",
      "2024-09-30 15:16:47,950 - TPE using 18/18 trials with best loss -0.753145\n",
      "  0%|          | 19/100000 [01:00<78:28:37,  2.83s/trial, best loss: -0.7531452572032048]2024-09-30 15:16:50,483 - build_posterior_wrapper took 0.006037 seconds\n",
      "2024-09-30 15:16:50,484 - TPE using 19/19 trials with best loss -0.753145\n",
      "  0%|          | 20/100000 [01:02<74:04:58,  2.67s/trial, best loss: -0.7531452572032048]2024-09-30 15:16:52,782 - build_posterior_wrapper took 0.007008 seconds\n",
      "2024-09-30 15:16:52,783 - TPE using 20/20 trials with best loss -0.753145\n",
      "  0%|          | 21/100000 [01:05<80:59:25,  2.92s/trial, best loss: -0.7531452572032048]2024-09-30 15:16:56,277 - build_posterior_wrapper took 0.005999 seconds\n",
      "2024-09-30 15:16:56,279 - TPE using 21/21 trials with best loss -0.753145\n",
      "  0%|          | 22/100000 [01:08<80:29:42,  2.90s/trial, best loss: -0.7531452572032048]2024-09-30 15:16:59,134 - build_posterior_wrapper took 0.005004 seconds\n",
      "2024-09-30 15:16:59,136 - TPE using 22/22 trials with best loss -0.753145\n",
      "  0%|          | 23/100000 [01:11<75:23:07,  2.71s/trial, best loss: -0.7531452572032048]2024-09-30 15:17:01,419 - build_posterior_wrapper took 0.005968 seconds\n",
      "2024-09-30 15:17:01,421 - TPE using 23/23 trials with best loss -0.753145\n",
      "  0%|          | 24/100000 [01:14<82:47:51,  2.98s/trial, best loss: -0.7531452572032048]2024-09-30 15:17:05,024 - build_posterior_wrapper took 0.006044 seconds\n",
      "2024-09-30 15:17:05,025 - TPE using 24/24 trials with best loss -0.753145\n",
      "  0%|          | 25/100000 [01:16<71:31:25,  2.58s/trial, best loss: -0.7531452572032048]2024-09-30 15:17:06,653 - build_posterior_wrapper took 0.006025 seconds\n",
      "2024-09-30 15:17:06,656 - TPE using 25/25 trials with best loss -0.753145\n",
      "  0%|          | 26/100000 [01:18<70:26:08,  2.54s/trial, best loss: -0.7531452572032048]2024-09-30 15:17:09,098 - build_posterior_wrapper took 0.007039 seconds\n",
      "2024-09-30 15:17:09,099 - TPE using 26/26 trials with best loss -0.753145\n",
      "  0%|          | 27/100000 [01:21<71:53:56,  2.59s/trial, best loss: -0.7531452572032048]2024-09-30 15:17:11,809 - build_posterior_wrapper took 0.005999 seconds\n",
      "2024-09-30 15:17:11,811 - TPE using 27/27 trials with best loss -0.753145\n",
      "  0%|          | 28/100000 [01:24<75:04:17,  2.70s/trial, best loss: -0.7531452572032048]2024-09-30 15:17:14,780 - build_posterior_wrapper took 0.006038 seconds\n",
      "2024-09-30 15:17:14,783 - TPE using 28/28 trials with best loss -0.753145\n",
      "  0%|          | 29/100000 [01:27<77:56:33,  2.81s/trial, best loss: -0.7531452572032048]2024-09-30 15:17:17,827 - build_posterior_wrapper took 0.004999 seconds\n",
      "2024-09-30 15:17:17,828 - TPE using 29/29 trials with best loss -0.753145\n",
      "  0%|          | 30/100000 [01:31<85:27:48,  3.08s/trial, best loss: -0.7531452572032048]2024-09-30 15:17:21,538 - build_posterior_wrapper took 0.007001 seconds\n",
      "2024-09-30 15:17:21,538 - TPE using 30/30 trials with best loss -0.753145\n",
      "  0%|          | 31/100000 [01:34<87:46:32,  3.16s/trial, best loss: -0.7531452572032048]2024-09-30 15:17:24,891 - build_posterior_wrapper took 0.005030 seconds\n",
      "2024-09-30 15:17:24,894 - TPE using 31/31 trials with best loss -0.753145\n",
      "  0%|          | 32/100000 [01:37<82:30:37,  2.97s/trial, best loss: -0.7531452572032048]2024-09-30 15:17:27,422 - build_posterior_wrapper took 0.007000 seconds\n",
      "2024-09-30 15:17:27,424 - TPE using 32/32 trials with best loss -0.753145\n",
      "  0%|          | 33/100000 [01:40<88:39:47,  3.19s/trial, best loss: -0.7531452572032048]2024-09-30 15:17:31,131 - build_posterior_wrapper took 0.006009 seconds\n",
      "2024-09-30 15:17:31,133 - TPE using 33/33 trials with best loss -0.753145\n",
      "  0%|          | 34/100000 [01:46<111:40:45,  4.02s/trial, best loss: -0.7531452572032048]2024-09-30 15:17:37,087 - build_posterior_wrapper took 0.005968 seconds\n",
      "2024-09-30 15:17:37,088 - TPE using 34/34 trials with best loss -0.753145\n",
      "  0%|          | 35/100000 [01:49<101:24:29,  3.65s/trial, best loss: -0.7531452572032048]2024-09-30 15:17:39,877 - build_posterior_wrapper took 0.006008 seconds\n",
      "2024-09-30 15:17:39,879 - TPE using 35/35 trials with best loss -0.753145\n",
      "  0%|          | 36/100000 [01:53<104:55:25,  3.78s/trial, best loss: -0.7531452572032048]2024-09-30 15:17:43,951 - build_posterior_wrapper took 0.006001 seconds\n",
      "2024-09-30 15:17:43,952 - TPE using 36/36 trials with best loss -0.753145\n",
      "  0%|          | 37/100000 [01:59<125:07:10,  4.51s/trial, best loss: -0.7531452572032048]2024-09-30 15:17:50,155 - build_posterior_wrapper took 0.006037 seconds\n",
      "2024-09-30 15:17:50,156 - TPE using 37/37 trials with best loss -0.753145\n",
      "  0%|          | 38/100000 [02:02<111:42:56,  4.02s/trial, best loss: -0.7531452572032048]2024-09-30 15:17:53,050 - build_posterior_wrapper took 0.006037 seconds\n",
      "2024-09-30 15:17:53,051 - TPE using 38/38 trials with best loss -0.753145\n",
      "  0%|          | 39/100000 [02:04<93:10:08,  3.36s/trial, best loss: -0.7531452572032048] 2024-09-30 15:17:54,847 - build_posterior_wrapper took 0.005996 seconds\n",
      "2024-09-30 15:17:54,848 - TPE using 39/39 trials with best loss -0.753145\n",
      "  0%|          | 40/100000 [02:08<96:41:44,  3.48s/trial, best loss: -0.7531452572032048]2024-09-30 15:17:58,626 - build_posterior_wrapper took 0.006010 seconds\n",
      "2024-09-30 15:17:58,627 - TPE using 40/40 trials with best loss -0.753145\n",
      "  0%|          | 41/100000 [02:11<91:01:34,  3.28s/trial, best loss: -0.7531452572032048]2024-09-30 15:18:01,428 - build_posterior_wrapper took 0.005999 seconds\n",
      "2024-09-30 15:18:01,430 - TPE using 41/41 trials with best loss -0.753145\n",
      "  0%|          | 42/100000 [02:14<91:31:21,  3.30s/trial, best loss: -0.7531452572032048]2024-09-30 15:18:04,765 - build_posterior_wrapper took 0.006007 seconds\n",
      "2024-09-30 15:18:04,766 - TPE using 42/42 trials with best loss -0.753145\n",
      "  0%|          | 43/100000 [02:16<84:53:45,  3.06s/trial, best loss: -0.7531452572032048]2024-09-30 15:18:07,267 - build_posterior_wrapper took 0.006018 seconds\n",
      "2024-09-30 15:18:07,269 - TPE using 43/43 trials with best loss -0.753145\n",
      "  0%|          | 44/100000 [02:19<82:47:11,  2.98s/trial, best loss: -0.7531452572032048]2024-09-30 15:18:10,071 - build_posterior_wrapper took 0.005999 seconds\n",
      "2024-09-30 15:18:10,072 - TPE using 44/44 trials with best loss -0.753145\n",
      "  0%|          | 45/100000 [02:23<86:30:48,  3.12s/trial, best loss: -0.7531452572032048]2024-09-30 15:18:13,501 - build_posterior_wrapper took 0.006000 seconds\n",
      "2024-09-30 15:18:13,503 - TPE using 45/45 trials with best loss -0.753145\n",
      "  0%|          | 46/100000 [02:25<79:40:29,  2.87s/trial, best loss: -0.7531452572032048]2024-09-30 15:18:15,794 - build_posterior_wrapper took 0.005000 seconds\n",
      "2024-09-30 15:18:15,795 - TPE using 46/46 trials with best loss -0.753145\n",
      "  0%|          | 47/100000 [02:28<81:59:34,  2.95s/trial, best loss: -0.7531452572032048]2024-09-30 15:18:18,943 - build_posterior_wrapper took 0.006031 seconds\n",
      "2024-09-30 15:18:18,944 - TPE using 47/47 trials with best loss -0.753145\n",
      "  0%|          | 48/100000 [02:32<89:06:16,  3.21s/trial, best loss: -0.7531452572032048]2024-09-30 15:18:22,752 - build_posterior_wrapper took 0.006037 seconds\n",
      "2024-09-30 15:18:22,753 - TPE using 48/48 trials with best loss -0.753145\n",
      "  0%|          | 49/100000 [02:35<86:13:38,  3.11s/trial, best loss: -0.7531452572032048]2024-09-30 15:18:25,614 - build_posterior_wrapper took 0.005998 seconds\n",
      "2024-09-30 15:18:25,616 - TPE using 49/49 trials with best loss -0.753145\n",
      "  0%|          | 50/100000 [02:39<93:51:35,  3.38s/trial, best loss: -0.7531452572032048]2024-09-30 15:18:29,636 - build_posterior_wrapper took 0.005000 seconds\n",
      "2024-09-30 15:18:29,638 - TPE using 50/50 trials with best loss -0.753145\n",
      "  0%|          | 51/100000 [02:43<102:26:17,  3.69s/trial, best loss: -0.7531452572032048]2024-09-30 15:18:34,048 - build_posterior_wrapper took 0.007000 seconds\n",
      "2024-09-30 15:18:34,049 - TPE using 51/51 trials with best loss -0.753145\n",
      "  0%|          | 52/100000 [02:47<106:38:16,  3.84s/trial, best loss: -0.7531452572032048]2024-09-30 15:18:38,241 - build_posterior_wrapper took 0.005999 seconds\n",
      "2024-09-30 15:18:38,242 - TPE using 52/52 trials with best loss -0.753145\n",
      "  0%|          | 53/100000 [02:50<92:56:09,  3.35s/trial, best loss: -0.7531452572032048] 2024-09-30 15:18:40,440 - build_posterior_wrapper took 0.009001 seconds\n",
      "2024-09-30 15:18:40,443 - TPE using 53/53 trials with best loss -0.753145\n",
      "  0%|          | 54/100000 [02:52<84:14:40,  3.03s/trial, best loss: -0.7531452572032048]2024-09-30 15:18:42,742 - build_posterior_wrapper took 0.006972 seconds\n",
      "2024-09-30 15:18:42,744 - TPE using 54/54 trials with best loss -0.753145\n",
      "  0%|          | 55/100000 [02:55<85:06:20,  3.07s/trial, best loss: -0.7531452572032048]2024-09-30 15:18:45,879 - build_posterior_wrapper took 0.006029 seconds\n",
      "2024-09-30 15:18:45,881 - TPE using 55/55 trials with best loss -0.753145\n",
      "  0%|          | 56/100000 [02:57<79:56:43,  2.88s/trial, best loss: -0.7531452572032048]2024-09-30 15:18:48,325 - build_posterior_wrapper took 0.005999 seconds\n",
      "2024-09-30 15:18:48,327 - TPE using 56/56 trials with best loss -0.753145\n",
      "  0%|          | 57/100000 [03:01<83:05:15,  2.99s/trial, best loss: -0.7531452572032048]2024-09-30 15:18:51,583 - build_posterior_wrapper took 0.006948 seconds\n",
      "2024-09-30 15:18:51,584 - TPE using 57/57 trials with best loss -0.753145\n",
      "  0%|          | 58/100000 [03:05<90:42:01,  3.27s/trial, best loss: -0.7531452572032048]2024-09-30 15:18:55,490 - build_posterior_wrapper took 0.006000 seconds\n",
      "2024-09-30 15:18:55,491 - TPE using 58/58 trials with best loss -0.753145\n",
      "  0%|          | 59/100000 [03:07<85:28:26,  3.08s/trial, best loss: -0.7531452572032048]2024-09-30 15:18:58,128 - build_posterior_wrapper took 0.006046 seconds\n",
      "2024-09-30 15:18:58,130 - TPE using 59/59 trials with best loss -0.753145\n",
      "  0%|          | 60/100000 [03:10<80:50:23,  2.91s/trial, best loss: -0.7531452572032048]2024-09-30 15:19:00,651 - build_posterior_wrapper took 0.006038 seconds\n",
      "2024-09-30 15:19:00,652 - TPE using 60/60 trials with best loss -0.753145\n",
      "  0%|          | 61/100000 [03:13<84:12:23,  3.03s/trial, best loss: -0.7531452572032048]2024-09-30 15:19:03,968 - build_posterior_wrapper took 0.006038 seconds\n",
      "2024-09-30 15:19:03,969 - TPE using 61/61 trials with best loss -0.753145\n",
      "  0%|          | 62/100000 [03:16<83:51:31,  3.02s/trial, best loss: -0.7531452572032048]2024-09-30 15:19:06,958 - build_posterior_wrapper took 0.004999 seconds\n",
      "2024-09-30 15:19:06,959 - TPE using 62/62 trials with best loss -0.753145\n",
      "  0%|          | 63/100000 [03:20<92:14:16,  3.32s/trial, best loss: -0.7531452572032048]2024-09-30 15:19:10,988 - build_posterior_wrapper took 0.006998 seconds\n",
      "2024-09-30 15:19:10,990 - TPE using 63/63 trials with best loss -0.753145\n",
      "  0%|          | 64/100000 [03:24<93:41:50,  3.38s/trial, best loss: -0.7531452572032048]2024-09-30 15:19:14,485 - build_posterior_wrapper took 0.006036 seconds\n",
      "2024-09-30 15:19:14,486 - TPE using 64/64 trials with best loss -0.753145\n",
      "  0%|          | 65/100000 [03:25<78:40:10,  2.83s/trial, best loss: -0.7531452572032048]2024-09-30 15:19:16,055 - build_posterior_wrapper took 0.006004 seconds\n",
      "2024-09-30 15:19:16,057 - TPE using 65/65 trials with best loss -0.753145\n",
      "  0%|          | 66/100000 [03:28<79:09:19,  2.85s/trial, best loss: -0.7531452572032048]2024-09-30 15:19:18,948 - build_posterior_wrapper took 0.006999 seconds\n",
      "2024-09-30 15:19:18,949 - TPE using 66/66 trials with best loss -0.753145\n",
      "  0%|          | 67/100000 [03:31<81:41:32,  2.94s/trial, best loss: -0.7531452572032048]2024-09-30 15:19:22,104 - build_posterior_wrapper took 0.006046 seconds\n",
      "2024-09-30 15:19:22,105 - TPE using 67/67 trials with best loss -0.753145\n",
      "  0%|          | 68/100000 [03:34<83:53:53,  3.02s/trial, best loss: -0.7531452572032048]2024-09-30 15:19:25,313 - build_posterior_wrapper took 0.006037 seconds\n",
      "2024-09-30 15:19:25,313 - TPE using 68/68 trials with best loss -0.753145\n",
      "  0%|          | 69/100000 [03:38<90:01:51,  3.24s/trial, best loss: -0.7531452572032048]2024-09-30 15:19:29,071 - build_posterior_wrapper took 0.005961 seconds\n",
      "2024-09-30 15:19:29,073 - TPE using 69/69 trials with best loss -0.753145\n",
      "  0%|          | 70/100000 [03:42<91:24:28,  3.29s/trial, best loss: -0.7531452572032048]2024-09-30 15:19:32,479 - build_posterior_wrapper took 0.006030 seconds\n",
      "2024-09-30 15:19:32,481 - TPE using 70/70 trials with best loss -0.753145\n",
      "  0%|          | 71/100000 [03:45<92:43:52,  3.34s/trial, best loss: -0.7531452572032048]2024-09-30 15:19:35,931 - build_posterior_wrapper took 0.006011 seconds\n",
      "2024-09-30 15:19:35,933 - TPE using 71/71 trials with best loss -0.753145\n",
      "  0%|          | 72/100000 [03:48<89:08:06,  3.21s/trial, best loss: -0.7531452572032048]2024-09-30 15:19:38,840 - build_posterior_wrapper took 0.006037 seconds\n",
      "2024-09-30 15:19:38,842 - TPE using 72/72 trials with best loss -0.753145\n",
      "  0%|          | 73/100000 [03:53<102:24:44,  3.69s/trial, best loss: -0.7531452572032048]2024-09-30 15:19:43,646 - build_posterior_wrapper took 0.005031 seconds\n",
      "2024-09-30 15:19:43,648 - TPE using 73/73 trials with best loss -0.753145\n",
      "  0%|          | 74/100000 [03:56<98:07:36,  3.54s/trial, best loss: -0.7531452572032048] 2024-09-30 15:19:46,821 - build_posterior_wrapper took 0.005999 seconds\n",
      "2024-09-30 15:19:46,822 - TPE using 74/74 trials with best loss -0.753145\n",
      "  0%|          | 75/100000 [03:59<93:36:29,  3.37s/trial, best loss: -0.7531452572032048]2024-09-30 15:19:49,815 - build_posterior_wrapper took 0.006006 seconds\n",
      "2024-09-30 15:19:49,817 - TPE using 75/75 trials with best loss -0.753145\n",
      "  0%|          | 76/100000 [04:03<96:42:36,  3.48s/trial, best loss: -0.7531452572032048]2024-09-30 15:19:53,560 - build_posterior_wrapper took 0.005006 seconds\n",
      "2024-09-30 15:19:53,561 - TPE using 76/76 trials with best loss -0.753145\n",
      "  0%|          | 77/100000 [04:06<97:41:27,  3.52s/trial, best loss: -0.7531452572032048]2024-09-30 15:19:57,162 - build_posterior_wrapper took 0.006012 seconds\n",
      "2024-09-30 15:19:57,163 - TPE using 77/77 trials with best loss -0.753145\n",
      "  0%|          | 78/100000 [04:10<96:43:18,  3.48s/trial, best loss: -0.7531452572032048]2024-09-30 15:20:00,564 - build_posterior_wrapper took 0.005970 seconds\n",
      "2024-09-30 15:20:00,566 - TPE using 78/78 trials with best loss -0.753145\n",
      "  0%|          | 79/100000 [04:13<95:53:18,  3.45s/trial, best loss: -0.7531452572032048]2024-09-30 15:20:03,949 - build_posterior_wrapper took 0.006048 seconds\n",
      "2024-09-30 15:20:03,950 - TPE using 79/79 trials with best loss -0.753145\n",
      "  0%|          | 80/100000 [04:18<104:27:29,  3.76s/trial, best loss: -0.7531452572032048]2024-09-30 15:20:08,433 - build_posterior_wrapper took 0.006013 seconds\n",
      "2024-09-30 15:20:08,435 - TPE using 80/80 trials with best loss -0.753145\n",
      "  0%|          | 81/100000 [04:21<101:06:17,  3.64s/trial, best loss: -0.7531452572032048]2024-09-30 15:20:11,795 - build_posterior_wrapper took 0.006037 seconds\n",
      "2024-09-30 15:20:11,797 - TPE using 81/81 trials with best loss -0.753145\n",
      "  0%|          | 82/100000 [04:24<93:54:43,  3.38s/trial, best loss: -0.7531452572032048] 2024-09-30 15:20:14,573 - build_posterior_wrapper took 0.004986 seconds\n",
      "2024-09-30 15:20:14,575 - TPE using 82/82 trials with best loss -0.753145\n",
      "  0%|          | 83/100000 [04:27<93:03:51,  3.35s/trial, best loss: -0.7531452572032048]2024-09-30 15:20:17,855 - build_posterior_wrapper took 0.005968 seconds\n",
      "2024-09-30 15:20:17,857 - TPE using 83/83 trials with best loss -0.753145\n",
      "  0%|          | 84/100000 [04:29<85:21:37,  3.08s/trial, best loss: -0.7531452572032048]2024-09-30 15:20:20,284 - build_posterior_wrapper took 0.006000 seconds\n",
      "2024-09-30 15:20:20,285 - TPE using 84/84 trials with best loss -0.753145\n",
      "  0%|          | 85/100000 [04:32<79:07:07,  2.85s/trial, best loss: -0.7531452572032048]2024-09-30 15:20:22,610 - build_posterior_wrapper took 0.005000 seconds\n",
      "2024-09-30 15:20:22,612 - TPE using 85/85 trials with best loss -0.753145\n",
      "  0%|          | 86/100000 [04:35<81:38:03,  2.94s/trial, best loss: -0.7531452572032048]2024-09-30 15:20:25,762 - build_posterior_wrapper took 0.006031 seconds\n",
      "2024-09-30 15:20:25,764 - TPE using 86/86 trials with best loss -0.753145\n",
      "  0%|          | 87/100000 [04:38<84:08:26,  3.03s/trial, best loss: -0.7531452572032048]2024-09-30 15:20:29,004 - build_posterior_wrapper took 0.006001 seconds\n",
      "2024-09-30 15:20:29,006 - TPE using 87/87 trials with best loss -0.753145\n",
      "  0%|          | 88/100000 [04:42<91:15:16,  3.29s/trial, best loss: -0.7531452572032048]2024-09-30 15:20:32,891 - build_posterior_wrapper took 0.007007 seconds\n",
      "2024-09-30 15:20:32,893 - TPE using 88/88 trials with best loss -0.753145\n",
      "  0%|          | 89/100000 [04:46<98:17:52,  3.54s/trial, best loss: -0.7531452572032048]2024-09-30 15:20:37,024 - build_posterior_wrapper took 0.006041 seconds\n",
      "2024-09-30 15:20:37,025 - TPE using 89/89 trials with best loss -0.753145\n",
      "  0%|          | 90/100000 [04:49<92:40:43,  3.34s/trial, best loss: -0.7531452572032048]2024-09-30 15:20:39,893 - build_posterior_wrapper took 0.007002 seconds\n",
      "2024-09-30 15:20:39,895 - TPE using 90/90 trials with best loss -0.753145\n",
      "  0%|          | 91/100000 [04:53<101:40:20,  3.66s/trial, best loss: -0.7531452572032048]2024-09-30 15:20:44,311 - build_posterior_wrapper took 0.005997 seconds\n",
      "2024-09-30 15:20:44,313 - TPE using 91/91 trials with best loss -0.753145\n",
      "  0%|          | 92/100000 [04:56<93:49:26,  3.38s/trial, best loss: -0.7615259751764759] 2024-09-30 15:20:47,034 - build_posterior_wrapper took 0.007026 seconds\n",
      "2024-09-30 15:20:47,036 - TPE using 92/92 trials with best loss -0.761526\n",
      "  0%|          | 93/100000 [04:58<85:00:59,  3.06s/trial, best loss: -0.7615259751764759]2024-09-30 15:20:49,355 - build_posterior_wrapper took 0.006007 seconds\n",
      "2024-09-30 15:20:49,356 - TPE using 93/93 trials with best loss -0.761526\n",
      "  0%|          | 94/100000 [05:01<77:13:38,  2.78s/trial, best loss: -0.7615259751764759]2024-09-30 15:20:51,484 - build_posterior_wrapper took 0.006972 seconds\n",
      "2024-09-30 15:20:51,485 - TPE using 94/94 trials with best loss -0.761526\n",
      "  0%|          | 95/100000 [05:03<73:06:33,  2.63s/trial, best loss: -0.7615259751764759]2024-09-30 15:20:53,772 - build_posterior_wrapper took 0.006017 seconds\n",
      "2024-09-30 15:20:53,773 - TPE using 95/95 trials with best loss -0.761526\n",
      "  0%|          | 96/100000 [05:04<63:44:21,  2.30s/trial, best loss: -0.7615259751764759]2024-09-30 15:20:55,281 - build_posterior_wrapper took 0.006037 seconds\n",
      "2024-09-30 15:20:55,283 - TPE using 96/96 trials with best loss -0.761526\n",
      "  0%|          | 97/100000 [05:07<65:35:48,  2.36s/trial, best loss: -0.7615259751764759]2024-09-30 15:20:57,801 - build_posterior_wrapper took 0.006029 seconds\n",
      "2024-09-30 15:20:57,803 - TPE using 97/97 trials with best loss -0.761526\n",
      "  0%|          | 98/100000 [05:09<65:43:55,  2.37s/trial, best loss: -0.7615259751764759]2024-09-30 15:21:00,181 - build_posterior_wrapper took 0.006000 seconds\n",
      "2024-09-30 15:21:00,183 - TPE using 98/98 trials with best loss -0.761526\n",
      "  0%|          | 99/100000 [05:12<68:29:22,  2.47s/trial, best loss: -0.7615259751764759]2024-09-30 15:21:02,881 - build_posterior_wrapper took 0.006030 seconds\n",
      "2024-09-30 15:21:02,884 - TPE using 99/99 trials with best loss -0.761526\n",
      "  0%|          | 100/100000 [05:15<70:46:10,  2.55s/trial, best loss: -0.7615259751764759]2024-09-30 15:21:05,623 - build_posterior_wrapper took 0.004999 seconds\n",
      "2024-09-30 15:21:05,624 - TPE using 100/100 trials with best loss -0.761526\n",
      "  0%|          | 101/100000 [05:17<68:28:07,  2.47s/trial, best loss: -0.7615259751764759]2024-09-30 15:21:07,898 - build_posterior_wrapper took 0.007000 seconds\n",
      "2024-09-30 15:21:07,900 - TPE using 101/101 trials with best loss -0.761526\n",
      "  0%|          | 102/100000 [05:19<66:46:01,  2.41s/trial, best loss: -0.7615259751764759]2024-09-30 15:21:10,160 - build_posterior_wrapper took 0.005000 seconds\n",
      "2024-09-30 15:21:10,162 - TPE using 102/102 trials with best loss -0.761526\n",
      "  0%|          | 103/100000 [05:22<66:54:31,  2.41s/trial, best loss: -0.7615259751764759]2024-09-30 15:21:12,584 - build_posterior_wrapper took 0.007043 seconds\n",
      "2024-09-30 15:21:12,585 - TPE using 103/103 trials with best loss -0.761526\n",
      "  0%|          | 104/100000 [05:24<67:32:50,  2.43s/trial, best loss: -0.7615259751764759]2024-09-30 15:21:15,072 - build_posterior_wrapper took 0.007104 seconds\n",
      "2024-09-30 15:21:15,074 - TPE using 104/104 trials with best loss -0.761526\n",
      "  0%|          | 105/100000 [05:27<66:48:23,  2.41s/trial, best loss: -0.7615259751764759]2024-09-30 15:21:17,416 - build_posterior_wrapper took 0.006010 seconds\n",
      "2024-09-30 15:21:17,420 - TPE using 105/105 trials with best loss -0.761526\n",
      "  0%|          | 106/100000 [05:28<62:36:41,  2.26s/trial, best loss: -0.7615259751764759]2024-09-30 15:21:19,322 - build_posterior_wrapper took 0.006998 seconds\n",
      "2024-09-30 15:21:19,324 - TPE using 106/106 trials with best loss -0.761526\n",
      "  0%|          | 107/100000 [05:31<61:34:32,  2.22s/trial, best loss: -0.7615259751764759]2024-09-30 15:21:21,456 - build_posterior_wrapper took 0.006000 seconds\n",
      "2024-09-30 15:21:21,459 - TPE using 107/107 trials with best loss -0.761526\n",
      "  0%|          | 108/100000 [05:35<82:48:06,  2.98s/trial, best loss: -0.7615259751764759]2024-09-30 15:21:26,221 - build_posterior_wrapper took 0.006000 seconds\n",
      "2024-09-30 15:21:26,223 - TPE using 108/108 trials with best loss -0.761526\n",
      "  0%|          | 109/100000 [05:38<77:21:26,  2.79s/trial, best loss: -0.7615259751764759]2024-09-30 15:21:28,551 - build_posterior_wrapper took 0.006012 seconds\n",
      "2024-09-30 15:21:28,553 - TPE using 109/109 trials with best loss -0.761526\n",
      "  0%|          | 110/100000 [05:41<79:58:45,  2.88s/trial, best loss: -0.7615259751764759]2024-09-30 15:21:31,654 - build_posterior_wrapper took 0.006031 seconds\n",
      "2024-09-30 15:21:31,656 - TPE using 110/110 trials with best loss -0.761526\n",
      "  0%|          | 111/100000 [05:45<94:05:30,  3.39s/trial, best loss: -0.7615259751764759]2024-09-30 15:21:36,233 - build_posterior_wrapper took 0.007038 seconds\n",
      "2024-09-30 15:21:36,234 - TPE using 111/111 trials with best loss -0.761526\n",
      "  0%|          | 112/100000 [05:49<92:44:31,  3.34s/trial, best loss: -0.7615259751764759]2024-09-30 15:21:39,461 - build_posterior_wrapper took 0.005970 seconds\n",
      "2024-09-30 15:21:39,463 - TPE using 112/112 trials with best loss -0.761526\n",
      "  0%|          | 113/100000 [05:51<87:17:36,  3.15s/trial, best loss: -0.7615259751764759]2024-09-30 15:21:42,150 - build_posterior_wrapper took 0.006040 seconds\n",
      "2024-09-30 15:21:42,151 - TPE using 113/113 trials with best loss -0.761526\n",
      "  0%|          | 114/100000 [05:55<95:23:56,  3.44s/trial, best loss: -0.7615259751764759]2024-09-30 15:21:46,269 - build_posterior_wrapper took 0.005999 seconds\n",
      "2024-09-30 15:21:46,271 - TPE using 114/114 trials with best loss -0.761526\n",
      "  0%|          | 115/100000 [05:58<92:43:55,  3.34s/trial, best loss: -0.7615259751764759]2024-09-30 15:21:49,387 - build_posterior_wrapper took 0.006000 seconds\n",
      "2024-09-30 15:21:49,389 - TPE using 115/115 trials with best loss -0.761526\n",
      "  0%|          | 116/100000 [06:01<87:42:38,  3.16s/trial, best loss: -0.7615259751764759]2024-09-30 15:21:52,126 - build_posterior_wrapper took 0.005969 seconds\n",
      "2024-09-30 15:21:52,128 - TPE using 116/116 trials with best loss -0.761526\n",
      "  0%|          | 117/100000 [06:04<84:02:12,  3.03s/trial, best loss: -0.7615259751764759]2024-09-30 15:21:54,847 - build_posterior_wrapper took 0.006000 seconds\n",
      "2024-09-30 15:21:54,848 - TPE using 117/117 trials with best loss -0.761526\n",
      "  0%|          | 118/100000 [06:07<84:18:28,  3.04s/trial, best loss: -0.7615259751764759]2024-09-30 15:21:57,908 - build_posterior_wrapper took 0.005999 seconds\n",
      "2024-09-30 15:21:57,910 - TPE using 118/118 trials with best loss -0.761526\n",
      "  0%|          | 119/100000 [06:10<87:21:21,  3.15s/trial, best loss: -0.7615259751764759]2024-09-30 15:22:01,313 - build_posterior_wrapper took 0.005983 seconds\n",
      "2024-09-30 15:22:01,315 - TPE using 119/119 trials with best loss -0.761526\n",
      "  0%|          | 120/100000 [06:13<86:07:36,  3.10s/trial, best loss: -0.7615259751764759]2024-09-30 15:22:04,315 - build_posterior_wrapper took 0.006000 seconds\n",
      "2024-09-30 15:22:04,316 - TPE using 120/120 trials with best loss -0.761526\n",
      "  0%|          | 121/100000 [06:19<105:37:26,  3.81s/trial, best loss: -0.7615259751764759]2024-09-30 15:22:09,760 - build_posterior_wrapper took 0.006038 seconds\n",
      "2024-09-30 15:22:09,763 - TPE using 121/121 trials with best loss -0.761526\n",
      "  0%|          | 122/100000 [06:22<103:06:49,  3.72s/trial, best loss: -0.7615259751764759]2024-09-30 15:22:13,268 - build_posterior_wrapper took 0.007009 seconds\n",
      "2024-09-30 15:22:13,270 - TPE using 122/122 trials with best loss -0.761526\n",
      "  0%|          | 123/100000 [06:25<91:38:03,  3.30s/trial, best loss: -0.7615259751764759] 2024-09-30 15:22:15,604 - build_posterior_wrapper took 0.006005 seconds\n",
      "2024-09-30 15:22:15,606 - TPE using 123/123 trials with best loss -0.761526\n",
      "  0%|          | 124/100000 [06:27<79:30:58,  2.87s/trial, best loss: -0.7615259751764759]2024-09-30 15:22:17,451 - build_posterior_wrapper took 0.006008 seconds\n",
      "2024-09-30 15:22:17,453 - TPE using 124/124 trials with best loss -0.761526\n",
      "  0%|          | 125/100000 [06:30<81:15:48,  2.93s/trial, best loss: -0.7615259751764759]2024-09-30 15:22:20,527 - build_posterior_wrapper took 0.005971 seconds\n",
      "2024-09-30 15:22:20,528 - TPE using 125/125 trials with best loss -0.761526\n",
      "  0%|          | 126/100000 [06:31<69:35:02,  2.51s/trial, best loss: -0.7615259751764759]2024-09-30 15:22:22,053 - build_posterior_wrapper took 0.005998 seconds\n",
      "2024-09-30 15:22:22,054 - TPE using 126/126 trials with best loss -0.761526\n",
      "  0%|          | 127/100000 [06:34<72:44:39,  2.62s/trial, best loss: -0.7615259751764759]2024-09-30 15:22:24,941 - build_posterior_wrapper took 0.006008 seconds\n",
      "2024-09-30 15:22:24,942 - TPE using 127/127 trials with best loss -0.761526\n",
      "  0%|          | 128/100000 [06:37<72:29:58,  2.61s/trial, best loss: -0.7615259751764759]2024-09-30 15:22:27,535 - build_posterior_wrapper took 0.006038 seconds\n",
      "2024-09-30 15:22:27,537 - TPE using 128/128 trials with best loss -0.761526\n",
      "  0%|          | 129/100000 [06:43<100:36:05,  3.63s/trial, best loss: -0.7615259751764759]2024-09-30 15:22:33,524 - build_posterior_wrapper took 0.006000 seconds\n",
      "2024-09-30 15:22:33,527 - TPE using 129/129 trials with best loss -0.761526\n",
      "  0%|          | 130/100000 [06:46<94:48:49,  3.42s/trial, best loss: -0.7615259751764759] 2024-09-30 15:22:36,456 - build_posterior_wrapper took 0.006969 seconds\n",
      "2024-09-30 15:22:36,457 - TPE using 130/130 trials with best loss -0.761526\n",
      "  0%|          | 131/100000 [06:49<92:43:33,  3.34s/trial, best loss: -0.7615259751764759]2024-09-30 15:22:39,623 - build_posterior_wrapper took 0.005999 seconds\n",
      "2024-09-30 15:22:39,624 - TPE using 131/131 trials with best loss -0.761526\n",
      "  0%|          | 132/100000 [06:52<92:38:44,  3.34s/trial, best loss: -0.7615259751764759]2024-09-30 15:22:42,956 - build_posterior_wrapper took 0.007030 seconds\n",
      "2024-09-30 15:22:42,958 - TPE using 132/132 trials with best loss -0.761526\n",
      "  0%|          | 133/100000 [06:55<87:22:18,  3.15s/trial, best loss: -0.7615259751764759]2024-09-30 15:22:45,661 - build_posterior_wrapper took 0.006000 seconds\n",
      "2024-09-30 15:22:45,663 - TPE using 133/133 trials with best loss -0.761526\n",
      "  0%|          | 134/100000 [06:57<81:47:55,  2.95s/trial, best loss: -0.7615259751764759]2024-09-30 15:22:48,141 - build_posterior_wrapper took 0.006000 seconds\n",
      "2024-09-30 15:22:48,142 - TPE using 134/134 trials with best loss -0.761526\n",
      "  0%|          | 135/100000 [07:00<77:48:51,  2.81s/trial, best loss: -0.7615259751764759]2024-09-30 15:22:50,611 - build_posterior_wrapper took 0.006000 seconds\n",
      "2024-09-30 15:22:50,612 - TPE using 135/135 trials with best loss -0.761526\n",
      "  0%|          | 136/100000 [07:03<78:30:11,  2.83s/trial, best loss: -0.7615259751764759]2024-09-30 15:22:53,500 - build_posterior_wrapper took 0.007039 seconds\n",
      "2024-09-30 15:22:53,501 - TPE using 136/136 trials with best loss -0.761526\n",
      "  0%|          | 137/100000 [07:05<77:45:44,  2.80s/trial, best loss: -0.7615259751764759]2024-09-30 15:22:56,241 - build_posterior_wrapper took 0.005996 seconds\n",
      "2024-09-30 15:22:56,242 - TPE using 137/137 trials with best loss -0.761526\n",
      "  0%|          | 138/100000 [07:08<79:07:25,  2.85s/trial, best loss: -0.7615259751764759]2024-09-30 15:22:59,207 - build_posterior_wrapper took 0.006000 seconds\n",
      "2024-09-30 15:22:59,209 - TPE using 138/138 trials with best loss -0.761526\n",
      "  0%|          | 139/100000 [07:13<94:43:55,  3.42s/trial, best loss: -0.7615259751764759]2024-09-30 15:23:03,937 - build_posterior_wrapper took 0.005037 seconds\n",
      "2024-09-30 15:23:03,939 - TPE using 139/139 trials with best loss -0.761526\n",
      "  0%|          | 140/100000 [07:16<87:11:16,  3.14s/trial, best loss: -0.7615259751764759]\n",
      "SimultaneousTuner - Hyperparameters optimization finished\n",
      "SimultaneousTuner - Return tuned graph due to the fact that obtained metric 0.762 equal or better than initial (+ 0.05% deviation) 0.754\n",
      "SimultaneousTuner - Final graph: {'depth': 1, 'length': 1, 'nodes': [rf]}\n",
      "rf - {'n_jobs': 1, 'criterion': 'entropy', 'max_features': 0.3053519317489086, 'min_samples_split': 2, 'min_samples_leaf': 14, 'bootstrap': True}\n",
      "SimultaneousTuner - Final metric: 0.762\n",
      "ApiComposer - Hyperparameters tuning finished\n",
      "ApiComposer - Model generation finished\n",
      "FEDOT logger - Final pipeline was fitted\n",
      "FEDOT logger - Final pipeline: {'depth': 1, 'length': 1, 'nodes': [rf]}\n",
      "rf - {'n_jobs': 8, 'criterion': 'entropy', 'max_features': 0.3053519317489086, 'min_samples_split': 2, 'min_samples_leaf': 14, 'bootstrap': True}\n",
      "MemoryAnalytics - Memory consumption for finish in main session: current 6.9 MiB, max: 8.5 MiB\n"
     ]
    }
   ],
   "source": [
    "industrial.fit(train_data)"
   ],
   "metadata": {
    "collapsed": false,
    "pycharm": {
     "name": "#%%\n"
    }
   }
  },
  {
   "cell_type": "code",
   "execution_count": 15,
   "outputs": [
    {
     "name": "stdout",
     "output_type": "stream",
     "text": [
      "FEDOT logger - Predictions was saved in current directory.\n",
      "FEDOT logger - Predictions was saved in current directory.\n"
     ]
    }
   ],
   "source": [
    "labels = industrial.predict(test_data)\n",
    "probs = industrial.predict_proba(test_data)"
   ],
   "metadata": {
    "collapsed": false,
    "pycharm": {
     "name": "#%%\n"
    }
   }
  },
  {
   "cell_type": "code",
   "execution_count": 16,
   "outputs": [],
   "source": [
    "metrics = industrial.get_metrics(target=test_data[1],\n",
    "                                 rounding_order=3,\n",
    "                                 metric_names=metric_names)"
   ],
   "metadata": {
    "collapsed": false,
    "pycharm": {
     "name": "#%%\n"
    }
   }
  },
  {
   "cell_type": "code",
   "execution_count": 17,
   "outputs": [
    {
     "data": {
      "text/plain": "   accuracy     f1\n0     0.788  0.759",
      "text/html": "<div>\n<style scoped>\n    .dataframe tbody tr th:only-of-type {\n        vertical-align: middle;\n    }\n\n    .dataframe tbody tr th {\n        vertical-align: top;\n    }\n\n    .dataframe thead th {\n        text-align: right;\n    }\n</style>\n<table border=\"1\" class=\"dataframe\">\n  <thead>\n    <tr style=\"text-align: right;\">\n      <th></th>\n      <th>accuracy</th>\n      <th>f1</th>\n    </tr>\n  </thead>\n  <tbody>\n    <tr>\n      <th>0</th>\n      <td>0.788</td>\n      <td>0.759</td>\n    </tr>\n  </tbody>\n</table>\n</div>"
     },
     "execution_count": 17,
     "metadata": {},
     "output_type": "execute_result"
    }
   ],
   "source": [
    "metrics"
   ],
   "metadata": {
    "collapsed": false,
    "pycharm": {
     "name": "#%%\n"
    }
   }
  },
  {
   "cell_type": "code",
   "execution_count": null,
   "outputs": [],
   "source": [],
   "metadata": {
    "collapsed": false,
    "pycharm": {
     "name": "#%%\n"
    }
   }
  }
 ],
 "metadata": {
  "kernelspec": {
   "display_name": "Python 3",
   "language": "python",
   "name": "python3"
  },
  "language_info": {
   "codemirror_mode": {
    "name": "ipython",
    "version": 2
   },
   "file_extension": ".py",
   "mimetype": "text/x-python",
   "name": "python",
   "nbconvert_exporter": "python",
   "pygments_lexer": "ipython2",
   "version": "2.7.6"
  }
 },
 "nbformat": 4,
 "nbformat_minor": 0
}