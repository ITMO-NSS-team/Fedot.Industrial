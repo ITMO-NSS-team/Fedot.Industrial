{
 "cells": [
  {
   "cell_type": "code",
   "execution_count": null,
   "metadata": {
    "collapsed": true
   },
   "outputs": [],
   "source": [
    "import numpy as np\n",
    "import os\n",
    "import pandas as pd\n",
    "import matplotlib.pyplot as plt\n",
    "from fedot_ind.core.operation.filtration.quantile_filtration import quantile_filter\n",
    "from fedot_ind.core.architecture.pipelines.anomaly_detection import AnomalyDetectionPipelines"
   ]
  },
  {
   "cell_type": "markdown",
   "source": [
    "Download and filter data"
   ],
   "metadata": {
    "collapsed": false
   }
  },
  {
   "cell_type": "code",
   "execution_count": null,
   "outputs": [],
   "source": [
    "selected_col = [\n",
    "    'Accelerometer1RMS',\n",
    "    'Accelerometer2RMS',\n",
    "    'Current',\n",
    "    'Pressure',\n",
    "    'Temperature',\n",
    "    'Thermocouple',\n",
    "    # 'Voltage',\n",
    "    'Volume Flow RateRMS'\n",
    "    # ,'anomaly', 'changepoint'\n",
    "]\n",
    "def download_skab_data():\n",
    "    all_files = []\n",
    "    for root, dirs, files in os.walk(r\".\\SKAB\"):\n",
    "        for file in files:\n",
    "            if file.endswith(\".csv\"):\n",
    "                all_files.append(os.path.join(root, file))\n",
    "    # datasets with anomalies loading\n",
    "    list_of_df = [pd.read_csv(file,\n",
    "                              sep=';',\n",
    "                              index_col='datetime',\n",
    "                              parse_dates=True) for file in all_files if 'anomaly-free' not in file]\n",
    "    # anomaly-free df loading\n",
    "    anomaly_free_df = pd.read_csv([file for file in all_files if 'anomaly-free' in file][0],\n",
    "                                  sep=';',\n",
    "                                  index_col='datetime',\n",
    "                                  parse_dates=True)\n",
    "    return list_of_df,anomaly_free_df\n",
    "\n",
    "def filter_data(data):\n",
    "    mask = ((data['Accelerometer1RMS'] > 0) &\n",
    "            (data['Accelerometer2RMS'] > 0) &\n",
    "            (data['Volume Flow RateRMS'] > 0) &\n",
    "            (data['Current'] < 100) &\n",
    "            (data['Voltage'] > 100)\n",
    "            )\n",
    "    return data[mask]\n",
    "\n",
    "\n",
    "def get_target(list_of_df, type: str = 'anomaly'):\n",
    "    anomaly_list = []\n",
    "    for i in list_of_df:\n",
    "        i = i[type].values.flatten()\n",
    "        anomaly_list.append(i)\n",
    "    return anomaly_list\n",
    "\n",
    "def smooth_data(list_of_df, anomaly_free_df, window_size = 10):\n",
    "    filter_data_list = []\n",
    "    for i in list_of_df:\n",
    "        i = i.rolling(window=window_size).mean()\n",
    "        i = i.bfill()\n",
    "        i = i[selected_col]\n",
    "        filter_data_list.append(filter_data(i))\n",
    "    anomaly_free_df = filter_data(anomaly_free_df)\n",
    "    anomaly_free_df = anomaly_free_df.rolling(window=window_size).mean()\n",
    "    anomaly_free_df = anomaly_free_df.bfill()\n",
    "    anomaly_free_df = anomaly_free_df[selected_col]\n",
    "    return filter_data_list,anomaly_free_df"
   ],
   "metadata": {
    "collapsed": false
   }
  },
  {
   "cell_type": "markdown",
   "source": [
    "Prepare data for experiment"
   ],
   "metadata": {
    "collapsed": false
   }
  },
  {
   "cell_type": "code",
   "execution_count": null,
   "outputs": [],
   "source": [
    "list_of_df, anomaly_free_df = download_skab_data()\n",
    "test_features, train_features = smooth_data(list_of_df, anomaly_free_df)\n",
    "test_target = get_target(list_of_df)\n",
    "train_features = train_features.iloc[:1200, :].T.values\n",
    "train, test = (train_features, None), (test_features, test_target)\n",
    "window_length = 20"
   ],
   "metadata": {
    "collapsed": false
   }
  },
  {
   "cell_type": "markdown",
   "source": [
    "Initialize Fedot and Industrial models hyperparams"
   ],
   "metadata": {
    "collapsed": false
   }
  },
  {
   "cell_type": "code",
   "execution_count": null,
   "outputs": [],
   "source": [
    "feature_hyperparams = {\n",
    "    'window_mode': True,\n",
    "    'window_size': 10\n",
    "}\n",
    "fedot_model_hyperparams = {\n",
    "    'problem': 'regression',\n",
    "    'seed': 42,\n",
    "    'metric': 'rmse',\n",
    "    'timeout': 10,\n",
    "    'max_depth': 6,\n",
    "    'max_arity': 3,\n",
    "    'cv_folds': 3,\n",
    "    'logging_level': 20,\n",
    "    'n_jobs': 4\n",
    "}\n",
    "dict_result = {}"
   ],
   "metadata": {
    "collapsed": false
   }
  },
  {
   "cell_type": "markdown",
   "source": [
    "Initilize Industrial anomaly detection pipelines"
   ],
   "metadata": {
    "collapsed": false
   }
  },
  {
   "cell_type": "code",
   "execution_count": null,
   "outputs": [],
   "source": [
    "detection_model = AnomalyDetectionPipelines(train_data=train, test_data=test)"
   ],
   "metadata": {
    "collapsed": false
   }
  },
  {
   "cell_type": "markdown",
   "source": [
    "Experiment with Singular Transformation pipeline"
   ],
   "metadata": {
    "collapsed": false
   }
  },
  {
   "cell_type": "code",
   "execution_count": null,
   "outputs": [],
   "source": [
    "sst_model_hyperparams = {\n",
    "    'n_components': 3,\n",
    "    'window_length': 60,\n",
    "    'trajectory_window_length': 15,\n",
    "    'dynamic_mode': True,\n",
    "    'delay_lag': 60\n",
    "}\n",
    "model_sst, prediction_sst = detection_model('SST')(model_hyperparams=sst_model_hyperparams,\n",
    "                                                   feature_hyperparams=feature_hyperparams,\n",
    "                                                   window_length=window_length,\n",
    "                                                   mode='multits')"
   ],
   "metadata": {
    "collapsed": false
   }
  },
  {
   "cell_type": "markdown",
   "source": [
    "Experiment with Fedot Unscented Kalman Filter"
   ],
   "metadata": {
    "collapsed": false
   }
  },
  {
   "cell_type": "code",
   "execution_count": null,
   "outputs": [],
   "source": [
    "model_kalman, prediction_kalman = detection_model('Kalman')(model_hyperparams=fedot_model_hyperparams,\n",
    "                                                    feature_hyperparams=feature_hyperparams,\n",
    "                                                    window_length=window_length)"
   ],
   "metadata": {
    "collapsed": false
   }
  },
  {
   "cell_type": "markdown",
   "source": [
    "Experiment with Fedot Functional PCA Filter"
   ],
   "metadata": {
    "collapsed": false
   }
  },
  {
   "cell_type": "code",
   "execution_count": null,
   "outputs": [],
   "source": [
    "pca_model_hyperparams = {\n",
    "    'n_components': 2,\n",
    "    'regularization': None,\n",
    "    'basis_function': None\n",
    "}\n",
    "\n",
    "model_functional, prediction_functional = detection_model('FunctionalPCA')(component=[[1], [1], [1]],\n",
    "                                           model_hyperparams=pca_model_hyperparams,\n",
    "                                           feature_hyperparams=feature_hyperparams)"
   ],
   "metadata": {
    "collapsed": false
   }
  },
  {
   "cell_type": "markdown",
   "source": [],
   "metadata": {
    "collapsed": false
   }
  },
  {
   "cell_type": "code",
   "execution_count": null,
   "outputs": [],
   "source": [
    "for i in range(len(prediction_functional)):\n",
    "    recover_func = prediction_functional[i][0].T\n",
    "    recover_kalman = np.concatenate(prediction_kalman[i][0], axis=1)\n",
    "    test_features = test[0][i]\n",
    "    test_target = test[1][i]\n",
    "    fig, ax = plt.subplots(2, 1)\n",
    "    ax[0, 0].plot(pd.DataFrame(test_features - recover_func).T.values)\n",
    "    ax[1, 0].plot(pd.DataFrame(recover_kalman).T.values)\n",
    "    ax.vlines(0.5, 0, 3)\n",
    "    ax.vlines(0.5, 0, 3)\n",
    "    plt.show()\n",
    "\n",
    "    pd.DataFrame(test_features - recover_func).T.plot()\n",
    "    plt.show()\n",
    "    pd.DataFrame(recover_kalman).T.plot()\n",
    "    plt.show()\n",
    "    outlier_idx = quantile_filter(input_data=test_features, predicted_data=recover_func)\n",
    "_ = 1\n",
    "\n"
   ],
   "metadata": {
    "collapsed": false
   }
  }
 ],
 "metadata": {
  "kernelspec": {
   "display_name": "Python 3",
   "language": "python",
   "name": "python3"
  },
  "language_info": {
   "codemirror_mode": {
    "name": "ipython",
    "version": 2
   },
   "file_extension": ".py",
   "mimetype": "text/x-python",
   "name": "python",
   "nbconvert_exporter": "python",
   "pygments_lexer": "ipython2",
   "version": "2.7.6"
  }
 },
 "nbformat": 4,
 "nbformat_minor": 0
}
