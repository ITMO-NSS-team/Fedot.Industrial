{
 "cells": [
  {
   "cell_type": "markdown",
   "source": [
    "## Experiment on image classification"
   ],
   "metadata": {
    "collapsed": false
   }
  },
  {
   "cell_type": "markdown",
   "source": [
    "### Basic Image classification example"
   ],
   "metadata": {
    "collapsed": false
   }
  },
  {
   "cell_type": "markdown",
   "source": [
    "At the first step we need to import the necessary libraries and packages, and also configure a path to train and validation datasets"
   ],
   "metadata": {
    "collapsed": false
   }
  },
  {
   "cell_type": "code",
   "execution_count": 1,
   "outputs": [],
   "source": [
    "import os\n",
    "import platform\n",
    "\n",
    "from torchvision.transforms import ToTensor, Resize, Compose\n",
    "\n",
    "from fedot_ind.api.main import FedotIndustrial\n",
    "\n",
    "\n",
    "DATASETS_PATH = os.path.abspath('../data/cv/datasets')"
   ],
   "metadata": {
    "collapsed": false,
    "ExecuteTime": {
     "end_time": "2023-06-05T11:20:40.334851639Z",
     "start_time": "2023-06-05T11:20:38.744337395Z"
    }
   }
  },
  {
   "cell_type": "markdown",
   "source": [
    "Let's take a look at the datasets available in the folder:"
   ],
   "metadata": {
    "collapsed": false
   }
  },
  {
   "cell_type": "code",
   "execution_count": 2,
   "outputs": [
    {
     "data": {
      "text/plain": "['Agricultural', 'minerals']"
     },
     "execution_count": 2,
     "metadata": {},
     "output_type": "execute_result"
    }
   ],
   "source": [
    "os.listdir(DATASETS_PATH)"
   ],
   "metadata": {
    "collapsed": false,
    "ExecuteTime": {
     "end_time": "2023-06-05T11:20:40.340293183Z",
     "start_time": "2023-06-05T11:20:40.335666944Z"
    }
   }
  },
  {
   "cell_type": "markdown",
   "source": [
    "In this example we will use the dataset with images of agricultural products. The dataset contains 3 classes: `cherry`, `banana` and `lemon`. The dataset is divided into train and validation parts. The train part contains 3 folders with images of each class as well as the validation part."
   ],
   "metadata": {
    "collapsed": false
   }
  },
  {
   "cell_type": "code",
   "execution_count": 3,
   "outputs": [
    {
     "data": {
      "text/plain": "(['train', 'val'], ['Cherry', 'Lemon', 'banana'])"
     },
     "execution_count": 3,
     "metadata": {},
     "output_type": "execute_result"
    }
   ],
   "source": [
    "os.listdir(os.path.join(DATASETS_PATH, 'Agricultural')), os.listdir(os.path.join(DATASETS_PATH, 'Agricultural/train'))"
   ],
   "metadata": {
    "collapsed": false,
    "ExecuteTime": {
     "end_time": "2023-06-05T11:20:40.393114429Z",
     "start_time": "2023-06-05T11:20:40.339827146Z"
    }
   }
  },
  {
   "cell_type": "markdown",
   "source": [
    "As it was described in other examples, we need to instantiate the class FedotIndustrial with appropriate task type. Also, as the important parameter either the number of classes or torch model should be passed."
   ],
   "metadata": {
    "collapsed": false
   }
  },
  {
   "cell_type": "code",
   "execution_count": 4,
   "outputs": [
    {
     "name": "stdout",
     "output_type": "stream",
     "text": [
      "2023-06-05 14:20:40,365 - Initialising experiment setup\n",
      "2023-06-05 14:20:40,365 - Initialising solver\n"
     ]
    }
   ],
   "source": [
    "fed = FedotIndustrial(task='image_classification', num_classes=3)"
   ],
   "metadata": {
    "collapsed": false,
    "ExecuteTime": {
     "end_time": "2023-06-05T11:20:41.167738214Z",
     "start_time": "2023-06-05T11:20:40.359120706Z"
    }
   }
  },
  {
   "cell_type": "markdown",
   "source": [
    "The next step is model training with conventional method fit. Here we pass dataset_path, transform option and desirable number of epochs:"
   ],
   "metadata": {
    "collapsed": false
   }
  },
  {
   "cell_type": "code",
   "execution_count": 5,
   "outputs": [
    {
     "name": "stderr",
     "output_type": "stream",
     "text": [
      "100%|██████████| 61/61 [00:00<00:00, 332.64it/s]"
     ]
    },
    {
     "name": "stdout",
     "output_type": "stream",
     "text": [
      "2023-06-05 14:20:43,116 - train: ResNet, using device: cuda\n"
     ]
    },
    {
     "name": "stderr",
     "output_type": "stream",
     "text": [
      "\n",
      "100%|██████████| 2/2 [00:01<00:00,  1.95it/s]"
     ]
    },
    {
     "name": "stdout",
     "output_type": "stream",
     "text": [
      "2023-06-05 14:20:44,148 - Best f1 score: 0.17543859649122806\n",
      "2023-06-05 14:20:44,204 - Saved to /home/n31v/workspace/Fedot.Industrial/fedot_ind/results_of_experiments/models/train/ResNet/train.sd.pt.\n",
      "2023-06-05 14:20:44,205 - Epoch 1\n"
     ]
    },
    {
     "name": "stderr",
     "output_type": "stream",
     "text": [
      "\n",
      "/home/n31v/workspace/Fedot.Industrial/venv/lib/python3.10/site-packages/sklearn/metrics/_classification.py:1344: UndefinedMetricWarning: Precision and F-score are ill-defined and being set to 0.0 in labels with no predicted samples. Use `zero_division` parameter to control this behavior.\n",
      "  _warn_prf(average, modifier, msg_start, len(result))\n",
      "100%|██████████| 6/6 [00:00<00:00, 14.87it/s, loss=1.82]\n",
      "100%|██████████| 2/2 [00:00<00:00,  8.17it/s]"
     ]
    },
    {
     "name": "stdout",
     "output_type": "stream",
     "text": [
      "2023-06-05 14:20:44,866 - Epoch 2\n"
     ]
    },
    {
     "name": "stderr",
     "output_type": "stream",
     "text": [
      "\n",
      "/home/n31v/workspace/Fedot.Industrial/venv/lib/python3.10/site-packages/sklearn/metrics/_classification.py:1344: UndefinedMetricWarning: Precision and F-score are ill-defined and being set to 0.0 in labels with no predicted samples. Use `zero_division` parameter to control this behavior.\n",
      "  _warn_prf(average, modifier, msg_start, len(result))\n",
      "100%|██████████| 6/6 [00:00<00:00, 22.10it/s, loss=1.09]\n",
      "100%|██████████| 2/2 [00:00<00:00,  8.35it/s]"
     ]
    },
    {
     "name": "stdout",
     "output_type": "stream",
     "text": [
      "2023-06-05 14:20:45,388 - Epoch 3\n"
     ]
    },
    {
     "name": "stderr",
     "output_type": "stream",
     "text": [
      "\n",
      "/home/n31v/workspace/Fedot.Industrial/venv/lib/python3.10/site-packages/sklearn/metrics/_classification.py:1344: UndefinedMetricWarning: Precision and F-score are ill-defined and being set to 0.0 in labels with no predicted samples. Use `zero_division` parameter to control this behavior.\n",
      "  _warn_prf(average, modifier, msg_start, len(result))\n",
      "100%|██████████| 6/6 [00:00<00:00, 20.23it/s, loss=0.808]\n",
      "100%|██████████| 2/2 [00:00<00:00,  8.14it/s]"
     ]
    },
    {
     "name": "stdout",
     "output_type": "stream",
     "text": [
      "2023-06-05 14:20:45,944 - Epoch 4\n"
     ]
    },
    {
     "name": "stderr",
     "output_type": "stream",
     "text": [
      "\n",
      "/home/n31v/workspace/Fedot.Industrial/venv/lib/python3.10/site-packages/sklearn/metrics/_classification.py:1344: UndefinedMetricWarning: Precision and F-score are ill-defined and being set to 0.0 in labels with no predicted samples. Use `zero_division` parameter to control this behavior.\n",
      "  _warn_prf(average, modifier, msg_start, len(result))\n",
      "100%|██████████| 6/6 [00:00<00:00, 19.78it/s, loss=0.663]\n",
      "100%|██████████| 2/2 [00:00<00:00,  7.98it/s]"
     ]
    },
    {
     "name": "stdout",
     "output_type": "stream",
     "text": [
      "2023-06-05 14:20:46,508 - Epoch 5\n"
     ]
    },
    {
     "name": "stderr",
     "output_type": "stream",
     "text": [
      "\n",
      "/home/n31v/workspace/Fedot.Industrial/venv/lib/python3.10/site-packages/sklearn/metrics/_classification.py:1344: UndefinedMetricWarning: Precision and F-score are ill-defined and being set to 0.0 in labels with no predicted samples. Use `zero_division` parameter to control this behavior.\n",
      "  _warn_prf(average, modifier, msg_start, len(result))\n",
      "100%|██████████| 6/6 [00:00<00:00, 22.31it/s, loss=0.573]\n",
      "100%|██████████| 2/2 [00:00<00:00,  8.43it/s]"
     ]
    },
    {
     "name": "stdout",
     "output_type": "stream",
     "text": [
      "2023-06-05 14:20:47,025 - Epoch 6\n"
     ]
    },
    {
     "name": "stderr",
     "output_type": "stream",
     "text": [
      "\n",
      "/home/n31v/workspace/Fedot.Industrial/venv/lib/python3.10/site-packages/sklearn/metrics/_classification.py:1344: UndefinedMetricWarning: Precision and F-score are ill-defined and being set to 0.0 in labels with no predicted samples. Use `zero_division` parameter to control this behavior.\n",
      "  _warn_prf(average, modifier, msg_start, len(result))\n",
      "100%|██████████| 6/6 [00:00<00:00, 22.08it/s, loss=0.66] \n",
      "100%|██████████| 2/2 [00:00<00:00,  7.86it/s]"
     ]
    },
    {
     "name": "stdout",
     "output_type": "stream",
     "text": [
      "2023-06-05 14:20:47,562 - Best f1 score: 0.3682539682539683\n",
      "2023-06-05 14:20:47,612 - Saved to /home/n31v/workspace/Fedot.Industrial/fedot_ind/results_of_experiments/models/train/ResNet/train.sd.pt.\n",
      "2023-06-05 14:20:47,613 - Epoch 7\n"
     ]
    },
    {
     "name": "stderr",
     "output_type": "stream",
     "text": [
      "\n",
      "100%|██████████| 6/6 [00:00<00:00, 22.95it/s, loss=0.366]\n",
      "100%|██████████| 2/2 [00:00<00:00,  8.49it/s]"
     ]
    },
    {
     "name": "stdout",
     "output_type": "stream",
     "text": [
      "2023-06-05 14:20:48,120 - Epoch 8\n"
     ]
    },
    {
     "name": "stderr",
     "output_type": "stream",
     "text": [
      "\n",
      "/home/n31v/workspace/Fedot.Industrial/venv/lib/python3.10/site-packages/sklearn/metrics/_classification.py:1344: UndefinedMetricWarning: Precision and F-score are ill-defined and being set to 0.0 in labels with no predicted samples. Use `zero_division` parameter to control this behavior.\n",
      "  _warn_prf(average, modifier, msg_start, len(result))\n",
      "100%|██████████| 6/6 [00:00<00:00, 21.22it/s, loss=0.29] \n",
      "100%|██████████| 2/2 [00:00<00:00,  7.69it/s]"
     ]
    },
    {
     "name": "stdout",
     "output_type": "stream",
     "text": [
      "2023-06-05 14:20:48,673 - Epoch 9\n"
     ]
    },
    {
     "name": "stderr",
     "output_type": "stream",
     "text": [
      "\n",
      "/home/n31v/workspace/Fedot.Industrial/venv/lib/python3.10/site-packages/sklearn/metrics/_classification.py:1344: UndefinedMetricWarning: Precision and F-score are ill-defined and being set to 0.0 in labels with no predicted samples. Use `zero_division` parameter to control this behavior.\n",
      "  _warn_prf(average, modifier, msg_start, len(result))\n",
      "100%|██████████| 6/6 [00:00<00:00, 21.62it/s, loss=0.228]\n",
      "100%|██████████| 2/2 [00:00<00:00,  8.42it/s]"
     ]
    },
    {
     "name": "stdout",
     "output_type": "stream",
     "text": [
      "2023-06-05 14:20:49,199 - Best f1 score: 0.6349206349206349\n",
      "2023-06-05 14:20:49,264 - Saved to /home/n31v/workspace/Fedot.Industrial/fedot_ind/results_of_experiments/models/train/ResNet/train.sd.pt.\n",
      "2023-06-05 14:20:49,265 - Epoch 10\n"
     ]
    },
    {
     "name": "stderr",
     "output_type": "stream",
     "text": [
      "\n",
      "100%|██████████| 6/6 [00:00<00:00, 21.82it/s, loss=0.503]\n",
      "100%|██████████| 2/2 [00:00<00:00,  8.77it/s]"
     ]
    },
    {
     "name": "stdout",
     "output_type": "stream",
     "text": [
      "2023-06-05 14:20:49,810 - Model state dict loaded.\n"
     ]
    },
    {
     "name": "stderr",
     "output_type": "stream",
     "text": [
      "\n"
     ]
    }
   ],
   "source": [
    "trained_model = fed.fit(dataset_path=os.path.join(DATASETS_PATH, 'Agricultural/train'),\n",
    "                        transform=Compose([ToTensor(), Resize((256, 256), antialias=None)]),\n",
    "                        num_epochs=10)"
   ],
   "metadata": {
    "collapsed": false,
    "ExecuteTime": {
     "end_time": "2023-06-05T11:20:49.813243202Z",
     "start_time": "2023-06-05T11:20:42.931081713Z"
    }
   }
  },
  {
   "cell_type": "markdown",
   "source": [
    "At this moment we can inspect the model architecture:"
   ],
   "metadata": {
    "collapsed": false
   }
  },
  {
   "cell_type": "code",
   "execution_count": 6,
   "outputs": [
    {
     "data": {
      "text/plain": "ResNet(\n  (conv1): Conv2d(3, 64, kernel_size=(7, 7), stride=(2, 2), padding=(3, 3), bias=False)\n  (bn1): BatchNorm2d(64, eps=1e-05, momentum=0.1, affine=True, track_running_stats=True)\n  (relu): ReLU(inplace=True)\n  (maxpool): MaxPool2d(kernel_size=3, stride=2, padding=1, dilation=1, ceil_mode=False)\n  (layer1): Sequential(\n    (0): BasicBlock(\n      (conv1): Conv2d(64, 64, kernel_size=(3, 3), stride=(1, 1), padding=(1, 1), bias=False)\n      (bn1): BatchNorm2d(64, eps=1e-05, momentum=0.1, affine=True, track_running_stats=True)\n      (relu): ReLU(inplace=True)\n      (conv2): Conv2d(64, 64, kernel_size=(3, 3), stride=(1, 1), padding=(1, 1), bias=False)\n      (bn2): BatchNorm2d(64, eps=1e-05, momentum=0.1, affine=True, track_running_stats=True)\n    )\n    (1): BasicBlock(\n      (conv1): Conv2d(64, 64, kernel_size=(3, 3), stride=(1, 1), padding=(1, 1), bias=False)\n      (bn1): BatchNorm2d(64, eps=1e-05, momentum=0.1, affine=True, track_running_stats=True)\n      (relu): ReLU(inplace=True)\n      (conv2): Conv2d(64, 64, kernel_size=(3, 3), stride=(1, 1), padding=(1, 1), bias=False)\n      (bn2): BatchNorm2d(64, eps=1e-05, momentum=0.1, affine=True, track_running_stats=True)\n    )\n  )\n  (layer2): Sequential(\n    (0): BasicBlock(\n      (conv1): Conv2d(64, 128, kernel_size=(3, 3), stride=(2, 2), padding=(1, 1), bias=False)\n      (bn1): BatchNorm2d(128, eps=1e-05, momentum=0.1, affine=True, track_running_stats=True)\n      (relu): ReLU(inplace=True)\n      (conv2): Conv2d(128, 128, kernel_size=(3, 3), stride=(1, 1), padding=(1, 1), bias=False)\n      (bn2): BatchNorm2d(128, eps=1e-05, momentum=0.1, affine=True, track_running_stats=True)\n      (downsample): Sequential(\n        (0): Conv2d(64, 128, kernel_size=(1, 1), stride=(2, 2), bias=False)\n        (1): BatchNorm2d(128, eps=1e-05, momentum=0.1, affine=True, track_running_stats=True)\n      )\n    )\n    (1): BasicBlock(\n      (conv1): Conv2d(128, 128, kernel_size=(3, 3), stride=(1, 1), padding=(1, 1), bias=False)\n      (bn1): BatchNorm2d(128, eps=1e-05, momentum=0.1, affine=True, track_running_stats=True)\n      (relu): ReLU(inplace=True)\n      (conv2): Conv2d(128, 128, kernel_size=(3, 3), stride=(1, 1), padding=(1, 1), bias=False)\n      (bn2): BatchNorm2d(128, eps=1e-05, momentum=0.1, affine=True, track_running_stats=True)\n    )\n  )\n  (layer3): Sequential(\n    (0): BasicBlock(\n      (conv1): Conv2d(128, 256, kernel_size=(3, 3), stride=(2, 2), padding=(1, 1), bias=False)\n      (bn1): BatchNorm2d(256, eps=1e-05, momentum=0.1, affine=True, track_running_stats=True)\n      (relu): ReLU(inplace=True)\n      (conv2): Conv2d(256, 256, kernel_size=(3, 3), stride=(1, 1), padding=(1, 1), bias=False)\n      (bn2): BatchNorm2d(256, eps=1e-05, momentum=0.1, affine=True, track_running_stats=True)\n      (downsample): Sequential(\n        (0): Conv2d(128, 256, kernel_size=(1, 1), stride=(2, 2), bias=False)\n        (1): BatchNorm2d(256, eps=1e-05, momentum=0.1, affine=True, track_running_stats=True)\n      )\n    )\n    (1): BasicBlock(\n      (conv1): Conv2d(256, 256, kernel_size=(3, 3), stride=(1, 1), padding=(1, 1), bias=False)\n      (bn1): BatchNorm2d(256, eps=1e-05, momentum=0.1, affine=True, track_running_stats=True)\n      (relu): ReLU(inplace=True)\n      (conv2): Conv2d(256, 256, kernel_size=(3, 3), stride=(1, 1), padding=(1, 1), bias=False)\n      (bn2): BatchNorm2d(256, eps=1e-05, momentum=0.1, affine=True, track_running_stats=True)\n    )\n  )\n  (layer4): Sequential(\n    (0): BasicBlock(\n      (conv1): Conv2d(256, 512, kernel_size=(3, 3), stride=(2, 2), padding=(1, 1), bias=False)\n      (bn1): BatchNorm2d(512, eps=1e-05, momentum=0.1, affine=True, track_running_stats=True)\n      (relu): ReLU(inplace=True)\n      (conv2): Conv2d(512, 512, kernel_size=(3, 3), stride=(1, 1), padding=(1, 1), bias=False)\n      (bn2): BatchNorm2d(512, eps=1e-05, momentum=0.1, affine=True, track_running_stats=True)\n      (downsample): Sequential(\n        (0): Conv2d(256, 512, kernel_size=(1, 1), stride=(2, 2), bias=False)\n        (1): BatchNorm2d(512, eps=1e-05, momentum=0.1, affine=True, track_running_stats=True)\n      )\n    )\n    (1): BasicBlock(\n      (conv1): Conv2d(512, 512, kernel_size=(3, 3), stride=(1, 1), padding=(1, 1), bias=False)\n      (bn1): BatchNorm2d(512, eps=1e-05, momentum=0.1, affine=True, track_running_stats=True)\n      (relu): ReLU(inplace=True)\n      (conv2): Conv2d(512, 512, kernel_size=(3, 3), stride=(1, 1), padding=(1, 1), bias=False)\n      (bn2): BatchNorm2d(512, eps=1e-05, momentum=0.1, affine=True, track_running_stats=True)\n    )\n  )\n  (avgpool): AdaptiveAvgPool2d(output_size=(1, 1))\n  (fc): Linear(in_features=512, out_features=3, bias=True)\n)"
     },
     "execution_count": 6,
     "metadata": {},
     "output_type": "execute_result"
    }
   ],
   "source": [
    "trained_model"
   ],
   "metadata": {
    "collapsed": false,
    "ExecuteTime": {
     "end_time": "2023-06-05T11:21:34.480799679Z",
     "start_time": "2023-06-05T11:21:34.438434130Z"
    }
   }
  },
  {
   "cell_type": "markdown",
   "source": [
    "To obtain predict one must use the following code:"
   ],
   "metadata": {
    "collapsed": false
   }
  },
  {
   "cell_type": "code",
   "execution_count": 8,
   "outputs": [
    {
     "name": "stderr",
     "output_type": "stream",
     "text": [
      "100%|██████████| 30/30 [00:00<00:00, 154.03it/s]\n"
     ]
    }
   ],
   "source": [
    "predict = fed.predict(data_path=os.path.join(DATASETS_PATH, 'Agricultural/val'),\n",
    "                      transform=Compose([ToTensor(), Resize((256, 256), antialias=None)]))"
   ],
   "metadata": {
    "collapsed": false,
    "ExecuteTime": {
     "end_time": "2023-06-05T11:22:11.365093543Z",
     "start_time": "2023-06-05T11:22:11.166236864Z"
    }
   }
  },
  {
   "cell_type": "code",
   "execution_count": 9,
   "outputs": [
    {
     "data": {
      "text/plain": "{'/home/n31v/workspace/Fedot.Industrial/examples/data/cv/datasets/Agricultural/val/Cherry/images27.jpg': 1,\n '/home/n31v/workspace/Fedot.Industrial/examples/data/cv/datasets/Agricultural/val/Cherry/images54.jpg': 1,\n '/home/n31v/workspace/Fedot.Industrial/examples/data/cv/datasets/Agricultural/val/Cherry/images41.jpg': 1,\n '/home/n31v/workspace/Fedot.Industrial/examples/data/cv/datasets/Agricultural/val/Cherry/images20.jpg': 2,\n '/home/n31v/workspace/Fedot.Industrial/examples/data/cv/datasets/Agricultural/val/Cherry/images37.jpg': 0,\n '/home/n31v/workspace/Fedot.Industrial/examples/data/cv/datasets/Agricultural/val/Cherry/images30.jpg': 1,\n '/home/n31v/workspace/Fedot.Industrial/examples/data/cv/datasets/Agricultural/val/Cherry/images42.jpg': 0,\n '/home/n31v/workspace/Fedot.Industrial/examples/data/cv/datasets/Agricultural/val/Cherry/images21.jpg': 0,\n '/home/n31v/workspace/Fedot.Industrial/examples/data/cv/datasets/Agricultural/val/Cherry/images25.jpg': 1,\n '/home/n31v/workspace/Fedot.Industrial/examples/data/cv/datasets/Agricultural/val/Cherry/images53.jpg': 2,\n '/home/n31v/workspace/Fedot.Industrial/examples/data/cv/datasets/Agricultural/val/Lemon/image32.jpeg': 1,\n '/home/n31v/workspace/Fedot.Industrial/examples/data/cv/datasets/Agricultural/val/Lemon/images28.jpg': 1,\n '/home/n31v/workspace/Fedot.Industrial/examples/data/cv/datasets/Agricultural/val/Lemon/images10.jpg': 1,\n '/home/n31v/workspace/Fedot.Industrial/examples/data/cv/datasets/Agricultural/val/Lemon/images11.jpg': 1,\n '/home/n31v/workspace/Fedot.Industrial/examples/data/cv/datasets/Agricultural/val/Lemon/images20.jpg': 1,\n '/home/n31v/workspace/Fedot.Industrial/examples/data/cv/datasets/Agricultural/val/Lemon/images23.jpg': 1,\n '/home/n31v/workspace/Fedot.Industrial/examples/data/cv/datasets/Agricultural/val/Lemon/images34.jpg': 1,\n '/home/n31v/workspace/Fedot.Industrial/examples/data/cv/datasets/Agricultural/val/Lemon/images21.jpg': 1,\n '/home/n31v/workspace/Fedot.Industrial/examples/data/cv/datasets/Agricultural/val/Lemon/images32.jpg': 2,\n '/home/n31v/workspace/Fedot.Industrial/examples/data/cv/datasets/Agricultural/val/Lemon/images24.jpg': 2,\n '/home/n31v/workspace/Fedot.Industrial/examples/data/cv/datasets/Agricultural/val/banana/image (21).jpg': 2,\n '/home/n31v/workspace/Fedot.Industrial/examples/data/cv/datasets/Agricultural/val/banana/image (25).jpg': 2,\n '/home/n31v/workspace/Fedot.Industrial/examples/data/cv/datasets/Agricultural/val/banana/image (24).jpg': 2,\n '/home/n31v/workspace/Fedot.Industrial/examples/data/cv/datasets/Agricultural/val/banana/image (23).jpg': 2,\n '/home/n31v/workspace/Fedot.Industrial/examples/data/cv/datasets/Agricultural/val/banana/image (26).jpg': 2,\n '/home/n31v/workspace/Fedot.Industrial/examples/data/cv/datasets/Agricultural/val/banana/image (22).jpg': 2,\n '/home/n31v/workspace/Fedot.Industrial/examples/data/cv/datasets/Agricultural/val/banana/image (29).jpg': 2,\n '/home/n31v/workspace/Fedot.Industrial/examples/data/cv/datasets/Agricultural/val/banana/image (30).jpg': 2,\n '/home/n31v/workspace/Fedot.Industrial/examples/data/cv/datasets/Agricultural/val/banana/image (28).jpg': 1,\n '/home/n31v/workspace/Fedot.Industrial/examples/data/cv/datasets/Agricultural/val/banana/image (27).jpg': 2}"
     },
     "execution_count": 9,
     "metadata": {},
     "output_type": "execute_result"
    }
   ],
   "source": [
    "predict"
   ],
   "metadata": {
    "collapsed": false,
    "ExecuteTime": {
     "end_time": "2023-06-05T11:22:14.719883299Z",
     "start_time": "2023-06-05T11:22:14.716446269Z"
    }
   }
  },
  {
   "cell_type": "code",
   "execution_count": 10,
   "outputs": [
    {
     "name": "stderr",
     "output_type": "stream",
     "text": [
      "100%|██████████| 30/30 [00:00<00:00, 144.32it/s]\n"
     ]
    }
   ],
   "source": [
    "predict_proba = fed.predict_proba(data_path=os.path.join(DATASETS_PATH, 'Agricultural/val'),\n",
    "                                  transform=Compose([ToTensor(), Resize((256, 256), antialias=None)]))"
   ],
   "metadata": {
    "collapsed": false,
    "ExecuteTime": {
     "end_time": "2023-06-05T11:22:28.973774422Z",
     "start_time": "2023-06-05T11:22:28.761633523Z"
    }
   }
  },
  {
   "cell_type": "code",
   "execution_count": 11,
   "outputs": [
    {
     "data": {
      "text/plain": "{'/home/n31v/workspace/Fedot.Industrial/examples/data/cv/datasets/Agricultural/val/Cherry/images27.jpg': [0.03428883105516434,\n  0.9619233012199402,\n  0.00378790101967752],\n '/home/n31v/workspace/Fedot.Industrial/examples/data/cv/datasets/Agricultural/val/Cherry/images54.jpg': [0.3341401219367981,\n  0.6523725986480713,\n  0.013487319462001324],\n '/home/n31v/workspace/Fedot.Industrial/examples/data/cv/datasets/Agricultural/val/Cherry/images41.jpg': [0.00018775278294924647,\n  0.9995469450950623,\n  0.0002652930561453104],\n '/home/n31v/workspace/Fedot.Industrial/examples/data/cv/datasets/Agricultural/val/Cherry/images20.jpg': [0.4673509895801544,\n  0.0572119802236557,\n  0.47543707489967346],\n '/home/n31v/workspace/Fedot.Industrial/examples/data/cv/datasets/Agricultural/val/Cherry/images37.jpg': [0.519879937171936,\n  0.4707961082458496,\n  0.00932394340634346],\n '/home/n31v/workspace/Fedot.Industrial/examples/data/cv/datasets/Agricultural/val/Cherry/images30.jpg': [0.10481094568967819,\n  0.8083517551422119,\n  0.0868372768163681],\n '/home/n31v/workspace/Fedot.Industrial/examples/data/cv/datasets/Agricultural/val/Cherry/images42.jpg': [0.9207546710968018,\n  0.05035778507590294,\n  0.028887532651424408],\n '/home/n31v/workspace/Fedot.Industrial/examples/data/cv/datasets/Agricultural/val/Cherry/images21.jpg': [0.5402511358261108,\n  0.43779435753822327,\n  0.02195451781153679],\n '/home/n31v/workspace/Fedot.Industrial/examples/data/cv/datasets/Agricultural/val/Cherry/images25.jpg': [0.023376982659101486,\n  0.9309202432632446,\n  0.04570276662707329],\n '/home/n31v/workspace/Fedot.Industrial/examples/data/cv/datasets/Agricultural/val/Cherry/images53.jpg': [0.22571583092212677,\n  0.002087788190692663,\n  0.7721964120864868],\n '/home/n31v/workspace/Fedot.Industrial/examples/data/cv/datasets/Agricultural/val/Lemon/image32.jpeg': [0.0006740759708918631,\n  0.9989868998527527,\n  0.0003389722260180861],\n '/home/n31v/workspace/Fedot.Industrial/examples/data/cv/datasets/Agricultural/val/Lemon/images28.jpg': [0.025780823081731796,\n  0.9517860412597656,\n  0.022433191537857056],\n '/home/n31v/workspace/Fedot.Industrial/examples/data/cv/datasets/Agricultural/val/Lemon/images10.jpg': [0.008761411532759666,\n  0.8797980546951294,\n  0.11144048720598221],\n '/home/n31v/workspace/Fedot.Industrial/examples/data/cv/datasets/Agricultural/val/Lemon/images11.jpg': [3.2749634115702975e-09,\n  0.9999403953552246,\n  5.9578163927653804e-05],\n '/home/n31v/workspace/Fedot.Industrial/examples/data/cv/datasets/Agricultural/val/Lemon/images20.jpg': [0.0007304580649361014,\n  0.9956485629081726,\n  0.003620966337621212],\n '/home/n31v/workspace/Fedot.Industrial/examples/data/cv/datasets/Agricultural/val/Lemon/images23.jpg': [0.0707460343837738,\n  0.6439133286476135,\n  0.2853405773639679],\n '/home/n31v/workspace/Fedot.Industrial/examples/data/cv/datasets/Agricultural/val/Lemon/images34.jpg': [0.0012885425239801407,\n  0.9948429465293884,\n  0.0038685761392116547],\n '/home/n31v/workspace/Fedot.Industrial/examples/data/cv/datasets/Agricultural/val/Lemon/images21.jpg': [0.018165303394198418,\n  0.7658425569534302,\n  0.21599213778972626],\n '/home/n31v/workspace/Fedot.Industrial/examples/data/cv/datasets/Agricultural/val/Lemon/images32.jpg': [0.0009628420230001211,\n  0.3222421407699585,\n  0.6767950654029846],\n '/home/n31v/workspace/Fedot.Industrial/examples/data/cv/datasets/Agricultural/val/Lemon/images24.jpg': [0.0022768203634768724,\n  0.3233557343482971,\n  0.6743674874305725],\n '/home/n31v/workspace/Fedot.Industrial/examples/data/cv/datasets/Agricultural/val/banana/image (21).jpg': [0.17434930801391602,\n  0.11627596616744995,\n  0.7093747854232788],\n '/home/n31v/workspace/Fedot.Industrial/examples/data/cv/datasets/Agricultural/val/banana/image (25).jpg': [1.4706987712997943e-05,\n  0.02457844279706478,\n  0.9754069447517395],\n '/home/n31v/workspace/Fedot.Industrial/examples/data/cv/datasets/Agricultural/val/banana/image (24).jpg': [5.410427547758445e-05,\n  0.00017947751621250063,\n  0.9997664093971252],\n '/home/n31v/workspace/Fedot.Industrial/examples/data/cv/datasets/Agricultural/val/banana/image (23).jpg': [0.00012740329839289188,\n  1.3598112673207652e-05,\n  0.9998589754104614],\n '/home/n31v/workspace/Fedot.Industrial/examples/data/cv/datasets/Agricultural/val/banana/image (26).jpg': [8.648546099720988e-06,\n  3.76319553652138e-06,\n  0.9999874830245972],\n '/home/n31v/workspace/Fedot.Industrial/examples/data/cv/datasets/Agricultural/val/banana/image (22).jpg': [0.006766084581613541,\n  0.0856124758720398,\n  0.9076215028762817],\n '/home/n31v/workspace/Fedot.Industrial/examples/data/cv/datasets/Agricultural/val/banana/image (29).jpg': [0.00862031802535057,\n  0.0030756115447729826,\n  0.9883041381835938],\n '/home/n31v/workspace/Fedot.Industrial/examples/data/cv/datasets/Agricultural/val/banana/image (30).jpg': [0.0006951678078621626,\n  0.03618498146533966,\n  0.9631198048591614],\n '/home/n31v/workspace/Fedot.Industrial/examples/data/cv/datasets/Agricultural/val/banana/image (28).jpg': [8.328812084457127e-10,\n  0.9914042949676514,\n  0.008595691993832588],\n '/home/n31v/workspace/Fedot.Industrial/examples/data/cv/datasets/Agricultural/val/banana/image (27).jpg': [0.004301552660763264,\n  0.26745694875717163,\n  0.728241503238678]}"
     },
     "execution_count": 11,
     "metadata": {},
     "output_type": "execute_result"
    }
   ],
   "source": [
    "predict_proba"
   ],
   "metadata": {
    "collapsed": false,
    "ExecuteTime": {
     "end_time": "2023-06-05T11:22:31.888291334Z",
     "start_time": "2023-06-05T11:22:31.885763977Z"
    }
   }
  },
  {
   "cell_type": "markdown",
   "source": [
    "### Advanced Image classification example"
   ],
   "metadata": {
    "collapsed": false
   }
  },
  {
   "cell_type": "markdown",
   "source": [
    "In this example we will use the same dataset as in the previous example, but we will use the advanced features of\n",
    "FedotIndustrial class. To conduct an advanced experiment one should instantiate FedotIndustrial class with optimization method argument and optimization parameters:"
   ],
   "metadata": {
    "collapsed": false
   }
  },
  {
   "cell_type": "code",
   "execution_count": 18,
   "outputs": [
    {
     "name": "stdout",
     "output_type": "stream",
     "text": [
      "2023-06-05 14:27:32,082 - Initialising experiment setup\n",
      "2023-06-05 14:27:32,084 - Initialising solver\n"
     ]
    }
   ],
   "source": [
    "fed = FedotIndustrial(task='image_classification',\n",
    "                      num_classes=3,\n",
    "                      optimization='svd',\n",
    "                      optimization_params={'energy_thresholds': [0.9]}\n",
    "                      )"
   ],
   "metadata": {
    "collapsed": false,
    "ExecuteTime": {
     "end_time": "2023-06-05T11:27:32.199928480Z",
     "start_time": "2023-06-05T11:27:32.084301762Z"
    }
   }
  },
  {
   "cell_type": "markdown",
   "source": [
    "Method fit also must be provided with additional argument – finetuning_params:"
   ],
   "metadata": {
    "collapsed": false
   }
  },
  {
   "cell_type": "code",
   "execution_count": 19,
   "outputs": [
    {
     "name": "stderr",
     "output_type": "stream",
     "text": [
      "100%|██████████| 61/61 [00:00<00:00, 330.06it/s]"
     ]
    },
    {
     "name": "stdout",
     "output_type": "stream",
     "text": [
      "2023-06-05 14:27:33,370 - Default size: 44.75 Mb\n"
     ]
    },
    {
     "name": "stderr",
     "output_type": "stream",
     "text": [
      "\n"
     ]
    },
    {
     "name": "stdout",
     "output_type": "stream",
     "text": [
      "2023-06-05 14:27:34,147 - SVD decomposed size: 50.70 Mb\n",
      "2023-06-05 14:27:34,149 - train: ResNet_SVD_channel_O-10_H-0.1, using device: cuda\n"
     ]
    },
    {
     "name": "stderr",
     "output_type": "stream",
     "text": [
      "100%|██████████| 2/2 [00:00<00:00,  8.62it/s]"
     ]
    },
    {
     "name": "stdout",
     "output_type": "stream",
     "text": [
      "2023-06-05 14:27:34,388 - Best f1 score: 0.17543859649122806\n",
      "2023-06-05 14:27:34,454 - Saved to /home/n31v/workspace/Fedot.Industrial/fedot_ind/results_of_experiments/models/train/ResNet_SVD_channel_O-10_H-0.1/train.sd.pt.\n",
      "2023-06-05 14:27:34,455 - Epoch 1\n"
     ]
    },
    {
     "name": "stderr",
     "output_type": "stream",
     "text": [
      "\n",
      "/home/n31v/workspace/Fedot.Industrial/venv/lib/python3.10/site-packages/sklearn/metrics/_classification.py:1344: UndefinedMetricWarning: Precision and F-score are ill-defined and being set to 0.0 in labels with no predicted samples. Use `zero_division` parameter to control this behavior.\n",
      "  _warn_prf(average, modifier, msg_start, len(result))\n",
      "100%|██████████| 6/6 [00:00<00:00, 17.24it/s, loss=2.05, orthogonal_loss=0.0434, hoer_loss=1.34]  \n",
      "100%|██████████| 2/2 [00:00<00:00,  8.95it/s]"
     ]
    },
    {
     "name": "stdout",
     "output_type": "stream",
     "text": [
      "2023-06-05 14:27:35,040 - Epoch 2\n"
     ]
    },
    {
     "name": "stderr",
     "output_type": "stream",
     "text": [
      "\n",
      "/home/n31v/workspace/Fedot.Industrial/venv/lib/python3.10/site-packages/sklearn/metrics/_classification.py:1344: UndefinedMetricWarning: Precision and F-score are ill-defined and being set to 0.0 in labels with no predicted samples. Use `zero_division` parameter to control this behavior.\n",
      "  _warn_prf(average, modifier, msg_start, len(result))\n",
      "100%|██████████| 6/6 [00:00<00:00, 15.11it/s, loss=1.58, orthogonal_loss=0.37, hoer_loss=1.34] \n",
      "100%|██████████| 2/2 [00:00<00:00,  8.55it/s]"
     ]
    },
    {
     "name": "stdout",
     "output_type": "stream",
     "text": [
      "2023-06-05 14:27:35,685 - Epoch 3\n"
     ]
    },
    {
     "name": "stderr",
     "output_type": "stream",
     "text": [
      "\n",
      "/home/n31v/workspace/Fedot.Industrial/venv/lib/python3.10/site-packages/sklearn/metrics/_classification.py:1344: UndefinedMetricWarning: Precision and F-score are ill-defined and being set to 0.0 in labels with no predicted samples. Use `zero_division` parameter to control this behavior.\n",
      "  _warn_prf(average, modifier, msg_start, len(result))\n",
      "100%|██████████| 6/6 [00:00<00:00, 16.43it/s, loss=0.844, orthogonal_loss=0.826, hoer_loss=1.34]\n",
      "100%|██████████| 2/2 [00:00<00:00,  8.84it/s]"
     ]
    },
    {
     "name": "stdout",
     "output_type": "stream",
     "text": [
      "2023-06-05 14:27:36,288 - Epoch 4\n"
     ]
    },
    {
     "name": "stderr",
     "output_type": "stream",
     "text": [
      "\n",
      "/home/n31v/workspace/Fedot.Industrial/venv/lib/python3.10/site-packages/sklearn/metrics/_classification.py:1344: UndefinedMetricWarning: Precision and F-score are ill-defined and being set to 0.0 in labels with no predicted samples. Use `zero_division` parameter to control this behavior.\n",
      "  _warn_prf(average, modifier, msg_start, len(result))\n",
      "100%|██████████| 6/6 [00:00<00:00, 16.35it/s, loss=0.616, orthogonal_loss=0.946, hoer_loss=1.34]\n",
      "100%|██████████| 2/2 [00:00<00:00,  8.42it/s]"
     ]
    },
    {
     "name": "stdout",
     "output_type": "stream",
     "text": [
      "2023-06-05 14:27:36,903 - Epoch 5\n"
     ]
    },
    {
     "name": "stderr",
     "output_type": "stream",
     "text": [
      "\n",
      "/home/n31v/workspace/Fedot.Industrial/venv/lib/python3.10/site-packages/sklearn/metrics/_classification.py:1344: UndefinedMetricWarning: Precision and F-score are ill-defined and being set to 0.0 in labels with no predicted samples. Use `zero_division` parameter to control this behavior.\n",
      "  _warn_prf(average, modifier, msg_start, len(result))\n",
      "100%|██████████| 6/6 [00:00<00:00, 16.58it/s, loss=0.523, orthogonal_loss=0.805, hoer_loss=1.34]\n",
      "100%|██████████| 2/2 [00:00<00:00,  8.42it/s]"
     ]
    },
    {
     "name": "stdout",
     "output_type": "stream",
     "text": [
      "2023-06-05 14:27:37,513 - Epoch 6\n"
     ]
    },
    {
     "name": "stderr",
     "output_type": "stream",
     "text": [
      "\n",
      "/home/n31v/workspace/Fedot.Industrial/venv/lib/python3.10/site-packages/sklearn/metrics/_classification.py:1344: UndefinedMetricWarning: Precision and F-score are ill-defined and being set to 0.0 in labels with no predicted samples. Use `zero_division` parameter to control this behavior.\n",
      "  _warn_prf(average, modifier, msg_start, len(result))\n",
      "100%|██████████| 6/6 [00:00<00:00, 14.75it/s, loss=0.617, orthogonal_loss=0.625, hoer_loss=1.34]\n",
      "100%|██████████| 2/2 [00:00<00:00,  7.91it/s]"
     ]
    },
    {
     "name": "stdout",
     "output_type": "stream",
     "text": [
      "2023-06-05 14:27:38,186 - Epoch 7\n"
     ]
    },
    {
     "name": "stderr",
     "output_type": "stream",
     "text": [
      "\n",
      "/home/n31v/workspace/Fedot.Industrial/venv/lib/python3.10/site-packages/sklearn/metrics/_classification.py:1344: UndefinedMetricWarning: Precision and F-score are ill-defined and being set to 0.0 in labels with no predicted samples. Use `zero_division` parameter to control this behavior.\n",
      "  _warn_prf(average, modifier, msg_start, len(result))\n",
      "100%|██████████| 6/6 [00:00<00:00, 15.09it/s, loss=0.668, orthogonal_loss=0.484, hoer_loss=1.34]\n",
      "100%|██████████| 2/2 [00:00<00:00,  7.84it/s]"
     ]
    },
    {
     "name": "stdout",
     "output_type": "stream",
     "text": [
      "2023-06-05 14:27:38,850 - Best f1 score: 0.3571428571428572\n",
      "2023-06-05 14:27:38,914 - Saved to /home/n31v/workspace/Fedot.Industrial/fedot_ind/results_of_experiments/models/train/ResNet_SVD_channel_O-10_H-0.1/train.sd.pt.\n",
      "2023-06-05 14:27:38,915 - Epoch 8\n"
     ]
    },
    {
     "name": "stderr",
     "output_type": "stream",
     "text": [
      "\n",
      "/home/n31v/workspace/Fedot.Industrial/venv/lib/python3.10/site-packages/sklearn/metrics/_classification.py:1344: UndefinedMetricWarning: Precision and F-score are ill-defined and being set to 0.0 in labels with no predicted samples. Use `zero_division` parameter to control this behavior.\n",
      "  _warn_prf(average, modifier, msg_start, len(result))\n",
      "100%|██████████| 6/6 [00:00<00:00, 16.72it/s, loss=0.709, orthogonal_loss=0.382, hoer_loss=1.34]\n",
      "100%|██████████| 2/2 [00:00<00:00,  8.87it/s]"
     ]
    },
    {
     "name": "stdout",
     "output_type": "stream",
     "text": [
      "2023-06-05 14:27:39,510 - Best f1 score: 0.3841269841269841\n",
      "2023-06-05 14:27:39,585 - Saved to /home/n31v/workspace/Fedot.Industrial/fedot_ind/results_of_experiments/models/train/ResNet_SVD_channel_O-10_H-0.1/train.sd.pt.\n",
      "2023-06-05 14:27:39,585 - Epoch 9\n"
     ]
    },
    {
     "name": "stderr",
     "output_type": "stream",
     "text": [
      "\n",
      "100%|██████████| 6/6 [00:00<00:00, 17.74it/s, loss=0.586, orthogonal_loss=0.311, hoer_loss=1.34]\n",
      "100%|██████████| 2/2 [00:00<00:00,  8.20it/s]"
     ]
    },
    {
     "name": "stdout",
     "output_type": "stream",
     "text": [
      "2023-06-05 14:27:40,178 - Best f1 score: 0.5515873015873015\n",
      "2023-06-05 14:27:40,242 - Saved to /home/n31v/workspace/Fedot.Industrial/fedot_ind/results_of_experiments/models/train/ResNet_SVD_channel_O-10_H-0.1/train.sd.pt.\n",
      "2023-06-05 14:27:40,243 - Epoch 10\n"
     ]
    },
    {
     "name": "stderr",
     "output_type": "stream",
     "text": [
      "\n",
      "100%|██████████| 6/6 [00:00<00:00, 17.52it/s, loss=0.81, orthogonal_loss=0.263, hoer_loss=1.34] \n",
      "100%|██████████| 2/2 [00:00<00:00,  8.36it/s]"
     ]
    },
    {
     "name": "stdout",
     "output_type": "stream",
     "text": [
      "2023-06-05 14:27:40,835 - Best f1 score: 0.595959595959596\n",
      "2023-06-05 14:27:40,891 - Saved to /home/n31v/workspace/Fedot.Industrial/fedot_ind/results_of_experiments/models/train/ResNet_SVD_channel_O-10_H-0.1/train.sd.pt.\n",
      "2023-06-05 14:27:40,892 - Epoch 11\n"
     ]
    },
    {
     "name": "stderr",
     "output_type": "stream",
     "text": [
      "\n",
      "100%|██████████| 6/6 [00:00<00:00, 17.05it/s, loss=0.592, orthogonal_loss=0.233, hoer_loss=1.34]\n",
      "100%|██████████| 2/2 [00:00<00:00,  8.41it/s]"
     ]
    },
    {
     "name": "stdout",
     "output_type": "stream",
     "text": [
      "2023-06-05 14:27:41,493 - Best f1 score: 0.7008547008547007\n",
      "2023-06-05 14:27:41,551 - Saved to /home/n31v/workspace/Fedot.Industrial/fedot_ind/results_of_experiments/models/train/ResNet_SVD_channel_O-10_H-0.1/train.sd.pt.\n",
      "2023-06-05 14:27:41,552 - Epoch 12\n"
     ]
    },
    {
     "name": "stderr",
     "output_type": "stream",
     "text": [
      "\n",
      "100%|██████████| 6/6 [00:00<00:00, 16.47it/s, loss=0.559, orthogonal_loss=0.207, hoer_loss=1.34]\n",
      "100%|██████████| 2/2 [00:00<00:00,  8.83it/s]"
     ]
    },
    {
     "name": "stdout",
     "output_type": "stream",
     "text": [
      "2023-06-05 14:27:42,153 - Best f1 score: 0.7053872053872053\n",
      "2023-06-05 14:27:42,213 - Saved to /home/n31v/workspace/Fedot.Industrial/fedot_ind/results_of_experiments/models/train/ResNet_SVD_channel_O-10_H-0.1/train.sd.pt.\n",
      "2023-06-05 14:27:42,214 - Epoch 13\n"
     ]
    },
    {
     "name": "stderr",
     "output_type": "stream",
     "text": [
      "\n",
      "100%|██████████| 6/6 [00:00<00:00, 15.94it/s, loss=0.417, orthogonal_loss=0.182, hoer_loss=1.34]\n",
      "100%|██████████| 2/2 [00:00<00:00,  8.22it/s]"
     ]
    },
    {
     "name": "stdout",
     "output_type": "stream",
     "text": [
      "2023-06-05 14:27:42,847 - Epoch 14\n"
     ]
    },
    {
     "name": "stderr",
     "output_type": "stream",
     "text": [
      "\n",
      "100%|██████████| 6/6 [00:00<00:00, 17.16it/s, loss=0.586, orthogonal_loss=0.16, hoer_loss=1.34] \n",
      "100%|██████████| 2/2 [00:00<00:00,  8.32it/s]"
     ]
    },
    {
     "name": "stdout",
     "output_type": "stream",
     "text": [
      "2023-06-05 14:27:43,449 - Epoch 15\n"
     ]
    },
    {
     "name": "stderr",
     "output_type": "stream",
     "text": [
      "\n",
      "100%|██████████| 6/6 [00:00<00:00, 14.82it/s, loss=0.295, orthogonal_loss=0.144, hoer_loss=1.34]\n",
      "100%|██████████| 2/2 [00:00<00:00,  8.00it/s]"
     ]
    },
    {
     "name": "stdout",
     "output_type": "stream",
     "text": [
      "2023-06-05 14:27:44,117 - Best f1 score: 0.7111111111111109\n"
     ]
    },
    {
     "name": "stderr",
     "output_type": "stream",
     "text": [
      "\n"
     ]
    },
    {
     "name": "stdout",
     "output_type": "stream",
     "text": [
      "2023-06-05 14:27:44,190 - Saved to /home/n31v/workspace/Fedot.Industrial/fedot_ind/results_of_experiments/models/train/ResNet_SVD_channel_O-10_H-0.1/train.sd.pt.\n",
      "2023-06-05 14:27:44,211 - Model state dict loaded.\n",
      "2023-06-05 14:27:44,266 - Saved to /home/n31v/workspace/Fedot.Industrial/fedot_ind/results_of_experiments/models/train/ResNet_SVD_channel_O-10_H-0.1/trained.model.pt.\n",
      "2023-06-05 14:27:44,286 - Model loaded.\n",
      "2023-06-05 14:27:44,457 - Saved to /home/n31v/workspace/Fedot.Industrial/fedot_ind/results_of_experiments/models/train/ResNet_SVD_channel_O-10_H-0.1/e_0.9.sd.pt.\n"
     ]
    },
    {
     "name": "stderr",
     "output_type": "stream",
     "text": [
      "100%|██████████| 2/2 [00:00<00:00,  8.50it/s]"
     ]
    },
    {
     "name": "stdout",
     "output_type": "stream",
     "text": [
      "2023-06-05 14:27:44,700 - pruning with e=0.9, size: 41.16 Mb, f1: 0.7146\n",
      "2023-06-05 14:27:44,701 - e_0.9: ResNet_SVD_channel_O-10_H-0.1, using device: cuda\n"
     ]
    },
    {
     "name": "stderr",
     "output_type": "stream",
     "text": [
      "\n",
      "100%|██████████| 2/2 [00:00<00:00,  8.63it/s]"
     ]
    },
    {
     "name": "stdout",
     "output_type": "stream",
     "text": [
      "2023-06-05 14:27:44,940 - Epoch 16\n"
     ]
    },
    {
     "name": "stderr",
     "output_type": "stream",
     "text": [
      "\n",
      "100%|██████████| 6/6 [00:00<00:00, 17.99it/s, loss=1.12, orthogonal_loss=0.19]  \n",
      "100%|██████████| 2/2 [00:00<00:00,  8.22it/s]"
     ]
    },
    {
     "name": "stdout",
     "output_type": "stream",
     "text": [
      "2023-06-05 14:27:45,528 - Epoch 17\n"
     ]
    },
    {
     "name": "stderr",
     "output_type": "stream",
     "text": [
      "\n",
      "/home/n31v/workspace/Fedot.Industrial/venv/lib/python3.10/site-packages/sklearn/metrics/_classification.py:1344: UndefinedMetricWarning: Precision and F-score are ill-defined and being set to 0.0 in labels with no predicted samples. Use `zero_division` parameter to control this behavior.\n",
      "  _warn_prf(average, modifier, msg_start, len(result))\n",
      "100%|██████████| 6/6 [00:00<00:00, 16.72it/s, loss=0.904, orthogonal_loss=0.366]\n",
      "100%|██████████| 2/2 [00:00<00:00,  8.31it/s]"
     ]
    },
    {
     "name": "stdout",
     "output_type": "stream",
     "text": [
      "2023-06-05 14:27:46,139 - Epoch 18\n"
     ]
    },
    {
     "name": "stderr",
     "output_type": "stream",
     "text": [
      "\n",
      "/home/n31v/workspace/Fedot.Industrial/venv/lib/python3.10/site-packages/sklearn/metrics/_classification.py:1344: UndefinedMetricWarning: Precision and F-score are ill-defined and being set to 0.0 in labels with no predicted samples. Use `zero_division` parameter to control this behavior.\n",
      "  _warn_prf(average, modifier, msg_start, len(result))\n",
      "100%|██████████| 6/6 [00:00<00:00, 15.60it/s, loss=0.768, orthogonal_loss=0.322]\n",
      "100%|██████████| 2/2 [00:00<00:00,  8.32it/s]"
     ]
    },
    {
     "name": "stdout",
     "output_type": "stream",
     "text": [
      "2023-06-05 14:27:46,774 - Best f1 score: 0.8597883597883597\n",
      "2023-06-05 14:27:46,827 - Saved to /home/n31v/workspace/Fedot.Industrial/fedot_ind/results_of_experiments/models/train/ResNet_SVD_channel_O-10_H-0.1/e_0.9.sd.pt.\n",
      "2023-06-05 14:27:46,848 - Model state dict loaded.\n"
     ]
    },
    {
     "name": "stderr",
     "output_type": "stream",
     "text": [
      "\n"
     ]
    }
   ],
   "source": [
    "fitted_model = fed.fit(dataset_path=os.path.join(DATASETS_PATH, 'Agricultural/train'),\n",
    "                       transform=Compose([ToTensor(), Resize((256, 256), antialias=None)]),\n",
    "                       num_epochs=15,\n",
    "                       finetuning_params={'num_epochs': 3})"
   ],
   "metadata": {
    "collapsed": false,
    "ExecuteTime": {
     "end_time": "2023-06-05T11:27:46.854607707Z",
     "start_time": "2023-06-05T11:27:33.183504161Z"
    }
   }
  },
  {
   "cell_type": "code",
   "execution_count": 20,
   "outputs": [
    {
     "data": {
      "text/plain": "ResNet(\n  (conv1): DecomposedConv2d(3, 64, kernel_size=(7, 7), stride=(2, 2), padding=(3, 3), bias=False)\n  (bn1): BatchNorm2d(64, eps=1e-05, momentum=0.1, affine=True, track_running_stats=True)\n  (relu): ReLU(inplace=True)\n  (maxpool): MaxPool2d(kernel_size=3, stride=2, padding=1, dilation=1, ceil_mode=False)\n  (layer1): Sequential(\n    (0): BasicBlock(\n      (conv1): DecomposedConv2d(64, 64, kernel_size=(3, 3), stride=(1, 1), padding=(1, 1), bias=False)\n      (bn1): BatchNorm2d(64, eps=1e-05, momentum=0.1, affine=True, track_running_stats=True)\n      (relu): ReLU(inplace=True)\n      (conv2): DecomposedConv2d(64, 64, kernel_size=(3, 3), stride=(1, 1), padding=(1, 1), bias=False)\n      (bn2): BatchNorm2d(64, eps=1e-05, momentum=0.1, affine=True, track_running_stats=True)\n    )\n    (1): BasicBlock(\n      (conv1): DecomposedConv2d(64, 64, kernel_size=(3, 3), stride=(1, 1), padding=(1, 1), bias=False)\n      (bn1): BatchNorm2d(64, eps=1e-05, momentum=0.1, affine=True, track_running_stats=True)\n      (relu): ReLU(inplace=True)\n      (conv2): DecomposedConv2d(64, 64, kernel_size=(3, 3), stride=(1, 1), padding=(1, 1), bias=False)\n      (bn2): BatchNorm2d(64, eps=1e-05, momentum=0.1, affine=True, track_running_stats=True)\n    )\n  )\n  (layer2): Sequential(\n    (0): BasicBlock(\n      (conv1): DecomposedConv2d(64, 128, kernel_size=(3, 3), stride=(2, 2), padding=(1, 1), bias=False)\n      (bn1): BatchNorm2d(128, eps=1e-05, momentum=0.1, affine=True, track_running_stats=True)\n      (relu): ReLU(inplace=True)\n      (conv2): DecomposedConv2d(128, 128, kernel_size=(3, 3), stride=(1, 1), padding=(1, 1), bias=False)\n      (bn2): BatchNorm2d(128, eps=1e-05, momentum=0.1, affine=True, track_running_stats=True)\n      (downsample): Sequential(\n        (0): DecomposedConv2d(64, 128, kernel_size=(1, 1), stride=(2, 2), bias=False)\n        (1): BatchNorm2d(128, eps=1e-05, momentum=0.1, affine=True, track_running_stats=True)\n      )\n    )\n    (1): BasicBlock(\n      (conv1): DecomposedConv2d(128, 128, kernel_size=(3, 3), stride=(1, 1), padding=(1, 1), bias=False)\n      (bn1): BatchNorm2d(128, eps=1e-05, momentum=0.1, affine=True, track_running_stats=True)\n      (relu): ReLU(inplace=True)\n      (conv2): DecomposedConv2d(128, 128, kernel_size=(3, 3), stride=(1, 1), padding=(1, 1), bias=False)\n      (bn2): BatchNorm2d(128, eps=1e-05, momentum=0.1, affine=True, track_running_stats=True)\n    )\n  )\n  (layer3): Sequential(\n    (0): BasicBlock(\n      (conv1): DecomposedConv2d(128, 256, kernel_size=(3, 3), stride=(2, 2), padding=(1, 1), bias=False)\n      (bn1): BatchNorm2d(256, eps=1e-05, momentum=0.1, affine=True, track_running_stats=True)\n      (relu): ReLU(inplace=True)\n      (conv2): DecomposedConv2d(256, 256, kernel_size=(3, 3), stride=(1, 1), padding=(1, 1), bias=False)\n      (bn2): BatchNorm2d(256, eps=1e-05, momentum=0.1, affine=True, track_running_stats=True)\n      (downsample): Sequential(\n        (0): DecomposedConv2d(128, 256, kernel_size=(1, 1), stride=(2, 2), bias=False)\n        (1): BatchNorm2d(256, eps=1e-05, momentum=0.1, affine=True, track_running_stats=True)\n      )\n    )\n    (1): BasicBlock(\n      (conv1): DecomposedConv2d(256, 256, kernel_size=(3, 3), stride=(1, 1), padding=(1, 1), bias=False)\n      (bn1): BatchNorm2d(256, eps=1e-05, momentum=0.1, affine=True, track_running_stats=True)\n      (relu): ReLU(inplace=True)\n      (conv2): DecomposedConv2d(256, 256, kernel_size=(3, 3), stride=(1, 1), padding=(1, 1), bias=False)\n      (bn2): BatchNorm2d(256, eps=1e-05, momentum=0.1, affine=True, track_running_stats=True)\n    )\n  )\n  (layer4): Sequential(\n    (0): BasicBlock(\n      (conv1): DecomposedConv2d(256, 512, kernel_size=(3, 3), stride=(2, 2), padding=(1, 1), bias=False)\n      (bn1): BatchNorm2d(512, eps=1e-05, momentum=0.1, affine=True, track_running_stats=True)\n      (relu): ReLU(inplace=True)\n      (conv2): DecomposedConv2d(512, 512, kernel_size=(3, 3), stride=(1, 1), padding=(1, 1), bias=False)\n      (bn2): BatchNorm2d(512, eps=1e-05, momentum=0.1, affine=True, track_running_stats=True)\n      (downsample): Sequential(\n        (0): DecomposedConv2d(256, 512, kernel_size=(1, 1), stride=(2, 2), bias=False)\n        (1): BatchNorm2d(512, eps=1e-05, momentum=0.1, affine=True, track_running_stats=True)\n      )\n    )\n    (1): BasicBlock(\n      (conv1): DecomposedConv2d(512, 512, kernel_size=(3, 3), stride=(1, 1), padding=(1, 1), bias=False)\n      (bn1): BatchNorm2d(512, eps=1e-05, momentum=0.1, affine=True, track_running_stats=True)\n      (relu): ReLU(inplace=True)\n      (conv2): DecomposedConv2d(512, 512, kernel_size=(3, 3), stride=(1, 1), padding=(1, 1), bias=False)\n      (bn2): BatchNorm2d(512, eps=1e-05, momentum=0.1, affine=True, track_running_stats=True)\n    )\n  )\n  (avgpool): AdaptiveAvgPool2d(output_size=(1, 1))\n  (fc): Linear(in_features=512, out_features=3, bias=True)\n)"
     },
     "execution_count": 20,
     "metadata": {},
     "output_type": "execute_result"
    }
   ],
   "source": [
    "fitted_model"
   ],
   "metadata": {
    "collapsed": false,
    "ExecuteTime": {
     "end_time": "2023-06-05T11:28:11.324763274Z",
     "start_time": "2023-06-05T11:28:11.281322059Z"
    }
   }
  },
  {
   "cell_type": "markdown",
   "source": [
    "To obtain predict one must use the following code:"
   ],
   "metadata": {
    "collapsed": false
   }
  },
  {
   "cell_type": "code",
   "execution_count": 21,
   "outputs": [
    {
     "name": "stderr",
     "output_type": "stream",
     "text": [
      "100%|██████████| 30/30 [00:00<00:00, 118.16it/s]\n"
     ]
    }
   ],
   "source": [
    "predict = fed.predict(data_path=os.path.join(DATASETS_PATH, 'Agricultural/val'),\n",
    "                      transform=Compose([ToTensor(), Resize((256, 256), antialias=None)]))"
   ],
   "metadata": {
    "collapsed": false,
    "ExecuteTime": {
     "end_time": "2023-06-05T11:28:20.909445759Z",
     "start_time": "2023-06-05T11:28:20.651638337Z"
    }
   }
  },
  {
   "cell_type": "code",
   "execution_count": 22,
   "outputs": [
    {
     "data": {
      "text/plain": "{'/home/n31v/workspace/Fedot.Industrial/examples/data/cv/datasets/Agricultural/val/Cherry/images27.jpg': 0,\n '/home/n31v/workspace/Fedot.Industrial/examples/data/cv/datasets/Agricultural/val/Cherry/images54.jpg': 0,\n '/home/n31v/workspace/Fedot.Industrial/examples/data/cv/datasets/Agricultural/val/Cherry/images41.jpg': 0,\n '/home/n31v/workspace/Fedot.Industrial/examples/data/cv/datasets/Agricultural/val/Cherry/images20.jpg': 0,\n '/home/n31v/workspace/Fedot.Industrial/examples/data/cv/datasets/Agricultural/val/Cherry/images37.jpg': 0,\n '/home/n31v/workspace/Fedot.Industrial/examples/data/cv/datasets/Agricultural/val/Cherry/images30.jpg': 2,\n '/home/n31v/workspace/Fedot.Industrial/examples/data/cv/datasets/Agricultural/val/Cherry/images42.jpg': 0,\n '/home/n31v/workspace/Fedot.Industrial/examples/data/cv/datasets/Agricultural/val/Cherry/images21.jpg': 0,\n '/home/n31v/workspace/Fedot.Industrial/examples/data/cv/datasets/Agricultural/val/Cherry/images25.jpg': 2,\n '/home/n31v/workspace/Fedot.Industrial/examples/data/cv/datasets/Agricultural/val/Cherry/images53.jpg': 2,\n '/home/n31v/workspace/Fedot.Industrial/examples/data/cv/datasets/Agricultural/val/Lemon/image32.jpeg': 1,\n '/home/n31v/workspace/Fedot.Industrial/examples/data/cv/datasets/Agricultural/val/Lemon/images28.jpg': 1,\n '/home/n31v/workspace/Fedot.Industrial/examples/data/cv/datasets/Agricultural/val/Lemon/images10.jpg': 2,\n '/home/n31v/workspace/Fedot.Industrial/examples/data/cv/datasets/Agricultural/val/Lemon/images11.jpg': 2,\n '/home/n31v/workspace/Fedot.Industrial/examples/data/cv/datasets/Agricultural/val/Lemon/images20.jpg': 0,\n '/home/n31v/workspace/Fedot.Industrial/examples/data/cv/datasets/Agricultural/val/Lemon/images23.jpg': 2,\n '/home/n31v/workspace/Fedot.Industrial/examples/data/cv/datasets/Agricultural/val/Lemon/images34.jpg': 0,\n '/home/n31v/workspace/Fedot.Industrial/examples/data/cv/datasets/Agricultural/val/Lemon/images21.jpg': 2,\n '/home/n31v/workspace/Fedot.Industrial/examples/data/cv/datasets/Agricultural/val/Lemon/images32.jpg': 2,\n '/home/n31v/workspace/Fedot.Industrial/examples/data/cv/datasets/Agricultural/val/Lemon/images24.jpg': 1,\n '/home/n31v/workspace/Fedot.Industrial/examples/data/cv/datasets/Agricultural/val/banana/image (21).jpg': 2,\n '/home/n31v/workspace/Fedot.Industrial/examples/data/cv/datasets/Agricultural/val/banana/image (25).jpg': 2,\n '/home/n31v/workspace/Fedot.Industrial/examples/data/cv/datasets/Agricultural/val/banana/image (24).jpg': 2,\n '/home/n31v/workspace/Fedot.Industrial/examples/data/cv/datasets/Agricultural/val/banana/image (23).jpg': 2,\n '/home/n31v/workspace/Fedot.Industrial/examples/data/cv/datasets/Agricultural/val/banana/image (26).jpg': 2,\n '/home/n31v/workspace/Fedot.Industrial/examples/data/cv/datasets/Agricultural/val/banana/image (22).jpg': 2,\n '/home/n31v/workspace/Fedot.Industrial/examples/data/cv/datasets/Agricultural/val/banana/image (29).jpg': 2,\n '/home/n31v/workspace/Fedot.Industrial/examples/data/cv/datasets/Agricultural/val/banana/image (30).jpg': 2,\n '/home/n31v/workspace/Fedot.Industrial/examples/data/cv/datasets/Agricultural/val/banana/image (28).jpg': 2,\n '/home/n31v/workspace/Fedot.Industrial/examples/data/cv/datasets/Agricultural/val/banana/image (27).jpg': 2}"
     },
     "execution_count": 22,
     "metadata": {},
     "output_type": "execute_result"
    }
   ],
   "source": [
    "predict"
   ],
   "metadata": {
    "collapsed": false,
    "ExecuteTime": {
     "end_time": "2023-06-05T11:28:34.515237854Z",
     "start_time": "2023-06-05T11:28:34.513232730Z"
    }
   }
  },
  {
   "cell_type": "code",
   "execution_count": 23,
   "outputs": [
    {
     "name": "stderr",
     "output_type": "stream",
     "text": [
      "  0%|          | 0/30 [00:00<?, ?it/s]/home/n31v/workspace/Fedot.Industrial/venv/lib/python3.10/site-packages/torchvision/transforms/functional.py:1603: UserWarning: The default value of the antialias parameter of all the resizing transforms (Resize(), RandomResizedCrop(), etc.) will change from None to True in v0.17, in order to be consistent across the PIL and Tensor backends. To suppress this warning, directly pass antialias=True (recommended, future default), antialias=None (current default, which means False for Tensors and True for PIL), or antialias=False (only works on Tensors - PIL will still use antialiasing). This also applies if you are using the inference transforms from the models weights: update the call to weights.transforms(antialias=True).\n",
      "  warnings.warn(\n",
      "100%|██████████| 30/30 [00:00<00:00, 129.80it/s]\n"
     ]
    }
   ],
   "source": [
    "predict_proba = fed.predict_proba(data_path=os.path.join(DATASETS_PATH, 'Agricultural/val'),\n",
    "                                  transform=Compose([ToTensor(), Resize((256, 256), antialias=None)]))"
   ],
   "metadata": {
    "collapsed": false,
    "ExecuteTime": {
     "end_time": "2023-06-05T11:28:37.852603772Z",
     "start_time": "2023-06-05T11:28:37.618234393Z"
    }
   }
  },
  {
   "cell_type": "code",
   "execution_count": 24,
   "outputs": [
    {
     "data": {
      "text/plain": "{'/home/n31v/workspace/Fedot.Industrial/examples/data/cv/datasets/Agricultural/val/Cherry/images27.jpg': [0.8240686655044556,\n  0.14329202473163605,\n  0.03263929858803749],\n '/home/n31v/workspace/Fedot.Industrial/examples/data/cv/datasets/Agricultural/val/Cherry/images54.jpg': [0.9760830402374268,\n  0.007481661159545183,\n  0.0164352897554636],\n '/home/n31v/workspace/Fedot.Industrial/examples/data/cv/datasets/Agricultural/val/Cherry/images41.jpg': [0.7134418487548828,\n  0.18337561190128326,\n  0.10318247973918915],\n '/home/n31v/workspace/Fedot.Industrial/examples/data/cv/datasets/Agricultural/val/Cherry/images20.jpg': [0.9309377074241638,\n  5.545025851461105e-05,\n  0.06900676339864731],\n '/home/n31v/workspace/Fedot.Industrial/examples/data/cv/datasets/Agricultural/val/Cherry/images37.jpg': [0.9309789538383484,\n  0.028697054833173752,\n  0.04032395780086517],\n '/home/n31v/workspace/Fedot.Industrial/examples/data/cv/datasets/Agricultural/val/Cherry/images30.jpg': [0.05528883635997772,\n  0.036686010658741,\n  0.9080251455307007],\n '/home/n31v/workspace/Fedot.Industrial/examples/data/cv/datasets/Agricultural/val/Cherry/images42.jpg': [0.8741467595100403,\n  0.014385190792381763,\n  0.11146807670593262],\n '/home/n31v/workspace/Fedot.Industrial/examples/data/cv/datasets/Agricultural/val/Cherry/images21.jpg': [0.9687373638153076,\n  0.0013336522970348597,\n  0.02992894873023033],\n '/home/n31v/workspace/Fedot.Industrial/examples/data/cv/datasets/Agricultural/val/Cherry/images25.jpg': [0.0024475811515003443,\n  0.01732313260436058,\n  0.9802292585372925],\n '/home/n31v/workspace/Fedot.Industrial/examples/data/cv/datasets/Agricultural/val/Cherry/images53.jpg': [0.010170609690248966,\n  0.026713544502854347,\n  0.9631158709526062],\n '/home/n31v/workspace/Fedot.Industrial/examples/data/cv/datasets/Agricultural/val/Lemon/image32.jpeg': [0.3647316098213196,\n  0.5941034555435181,\n  0.04116494581103325],\n '/home/n31v/workspace/Fedot.Industrial/examples/data/cv/datasets/Agricultural/val/Lemon/images28.jpg': [0.19427390396595,\n  0.6503046751022339,\n  0.1554214060306549],\n '/home/n31v/workspace/Fedot.Industrial/examples/data/cv/datasets/Agricultural/val/Lemon/images10.jpg': [0.06446811556816101,\n  0.21717102825641632,\n  0.7183607816696167],\n '/home/n31v/workspace/Fedot.Industrial/examples/data/cv/datasets/Agricultural/val/Lemon/images11.jpg': [4.777512003784068e-05,\n  0.0010602648835629225,\n  0.9988920092582703],\n '/home/n31v/workspace/Fedot.Industrial/examples/data/cv/datasets/Agricultural/val/Lemon/images20.jpg': [0.47268611192703247,\n  0.2873324453830719,\n  0.2399815022945404],\n '/home/n31v/workspace/Fedot.Industrial/examples/data/cv/datasets/Agricultural/val/Lemon/images23.jpg': [0.03178334981203079,\n  0.07915801554918289,\n  0.8890586495399475],\n '/home/n31v/workspace/Fedot.Industrial/examples/data/cv/datasets/Agricultural/val/Lemon/images34.jpg': [0.5244289040565491,\n  0.4739105701446533,\n  0.0016605353448539972],\n '/home/n31v/workspace/Fedot.Industrial/examples/data/cv/datasets/Agricultural/val/Lemon/images21.jpg': [0.04615310952067375,\n  0.20129697024822235,\n  0.7525498867034912],\n '/home/n31v/workspace/Fedot.Industrial/examples/data/cv/datasets/Agricultural/val/Lemon/images32.jpg': [0.0031303013674914837,\n  0.04605363309383392,\n  0.9508160352706909],\n '/home/n31v/workspace/Fedot.Industrial/examples/data/cv/datasets/Agricultural/val/Lemon/images24.jpg': [0.21817687153816223,\n  0.40564480423927307,\n  0.3761783540248871],\n '/home/n31v/workspace/Fedot.Industrial/examples/data/cv/datasets/Agricultural/val/banana/image (21).jpg': [0.02266550436615944,\n  0.15189777314662933,\n  0.8254367113113403],\n '/home/n31v/workspace/Fedot.Industrial/examples/data/cv/datasets/Agricultural/val/banana/image (25).jpg': [0.00025238728267140687,\n  0.0034551399294286966,\n  0.9962924122810364],\n '/home/n31v/workspace/Fedot.Industrial/examples/data/cv/datasets/Agricultural/val/banana/image (24).jpg': [0.04867486655712128,\n  0.28895556926727295,\n  0.6623695492744446],\n '/home/n31v/workspace/Fedot.Industrial/examples/data/cv/datasets/Agricultural/val/banana/image (23).jpg': [5.7929963048763966e-08,\n  4.1023362427949905e-05,\n  0.9999589920043945],\n '/home/n31v/workspace/Fedot.Industrial/examples/data/cv/datasets/Agricultural/val/banana/image (26).jpg': [1.667426295171026e-05,\n  0.0010814726119861007,\n  0.9989018440246582],\n '/home/n31v/workspace/Fedot.Industrial/examples/data/cv/datasets/Agricultural/val/banana/image (22).jpg': [0.0031410076189786196,\n  0.030808381736278534,\n  0.9660505056381226],\n '/home/n31v/workspace/Fedot.Industrial/examples/data/cv/datasets/Agricultural/val/banana/image (29).jpg': [0.0011875724885612726,\n  0.004276635125279427,\n  0.9945358037948608],\n '/home/n31v/workspace/Fedot.Industrial/examples/data/cv/datasets/Agricultural/val/banana/image (30).jpg': [1.1245194400544278e-05,\n  0.0009590268018655479,\n  0.9990297555923462],\n '/home/n31v/workspace/Fedot.Industrial/examples/data/cv/datasets/Agricultural/val/banana/image (28).jpg': [0.0005737674655392766,\n  0.004507624544203281,\n  0.9949185252189636],\n '/home/n31v/workspace/Fedot.Industrial/examples/data/cv/datasets/Agricultural/val/banana/image (27).jpg': [1.5277202692232095e-05,\n  0.0007029384141787887,\n  0.9992818236351013]}"
     },
     "execution_count": 24,
     "metadata": {},
     "output_type": "execute_result"
    }
   ],
   "source": [
    "predict_proba"
   ],
   "metadata": {
    "collapsed": false,
    "ExecuteTime": {
     "end_time": "2023-06-05T11:28:40.232703861Z",
     "start_time": "2023-06-05T11:28:40.191734078Z"
    }
   }
  }
 ],
 "metadata": {
  "kernelspec": {
   "display_name": "Python 3 (ipykernel)",
   "language": "python",
   "name": "python3"
  },
  "language_info": {
   "codemirror_mode": {
    "name": "ipython",
    "version": 3
   },
   "file_extension": ".py",
   "mimetype": "text/x-python",
   "name": "python",
   "nbconvert_exporter": "python",
   "pygments_lexer": "ipython3",
   "version": "3.8.1"
  }
 },
 "nbformat": 4,
 "nbformat_minor": 4
}
