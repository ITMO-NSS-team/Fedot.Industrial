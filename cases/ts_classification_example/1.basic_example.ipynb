{
 "cells": [
  {
   "cell_type": "code",
   "execution_count": null,
   "metadata": {
    "collapsed": true,
    "pycharm": {
     "name": "#%%\n"
    }
   },
   "outputs": [],
   "source": [
    "from core.api.tsc_API import Industrial"
   ]
  },
  {
   "cell_type": "code",
   "execution_count": null,
   "outputs": [],
   "source": [
    "config_name = 'cases/ts_classification_example/configs_for_examples/BasicConfigCLF.yaml'\n",
    "ExperimentHelper = Industrial()"
   ],
   "metadata": {
    "collapsed": false,
    "pycharm": {
     "name": "#%%\n"
    }
   }
  },
  {
   "cell_type": "markdown",
   "source": [
    "To start an experiment, first of all, you need to create a file (config) with the experiment parameters. In this example, we will analyze an example of the simplest version of the experiment on the classification of time series using the Fedot.Industrial framework.\n"
   ],
   "metadata": {
    "collapsed": false,
    "pycharm": {
     "name": "#%% md\n"
    }
   }
  },
  {
   "cell_type": "markdown",
   "source": [
    "Experiment configuration file consists of many fields, the configuration of each of which allows you to select models quite flexibly and efficiently, depending on the characteristics of the process being studied. Let's analyze each of the fields in more detail.\n",
    "1. Feature generator. This field contains a set of the name of the feature generators that will be used during the experiment.\n",
    "2. Error correction. The field that is responsible for the possibility of launching an error correction model after selecting the final composite model.\n",
    "3. Launches. The number of runs of the experiment for each of the feature generators.\n",
    "4. Feature generator params. A dictionary that stores hyperparameters for each of the feature generators.\n",
    "5. Fedot params. A field that stores hyperparameters of the FEDOT automatic machine learning framework.\n",
    "6. Task. The type of machine learning problem to be solved.\n",
    "7. Logger. A field that can be used to create your own experiment logger"
   ],
   "metadata": {
    "collapsed": false
   }
  },
  {
   "cell_type": "code",
   "execution_count": null,
   "outputs": [],
   "source": [
    "ExperimentHelper.run_experiment(config_name)\n"
   ],
   "metadata": {
    "collapsed": false,
    "pycharm": {
     "name": "#%%\n"
    }
   }
  }
 ],
 "metadata": {
  "kernelspec": {
   "display_name": "Python 3",
   "language": "python",
   "name": "python3"
  },
  "language_info": {
   "codemirror_mode": {
    "name": "ipython",
    "version": 2
   },
   "file_extension": ".py",
   "mimetype": "text/x-python",
   "name": "python",
   "nbconvert_exporter": "python",
   "pygments_lexer": "ipython2",
   "version": "2.7.6"
  }
 },
 "nbformat": 4,
 "nbformat_minor": 0
}