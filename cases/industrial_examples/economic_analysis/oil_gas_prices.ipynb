{
 "cells": [
  {
   "cell_type": "markdown",
   "source": [
    "## Predict historical prices of Brent Oil, Crude Oil WTI, Natural Gas, Heating Oil from 2000-2022 with Fedot.Industrial"
   ],
   "metadata": {
    "collapsed": false,
    "pycharm": {
     "name": "#%% md\n"
    }
   }
  },
  {
   "cell_type": "markdown",
   "source": [
    "Dataset published on Kaggle3 consists of historical prices of Brent Oil, CrudeOil WTI, Natural Gas, and Heating Oil from 2000 to 2022. This sample of DailyOilGasPrices was created by using 30 consecutive business days of **Crude Oil WTI close prices** and **traded volumes** as **predictors** and the **average natural gas close** price during each 30-day time frame as the **target** variable. The final dataset has 191 2-dimensional time series of length 30, of which 70% were randomly sampled as training data and the remaining 30% as testing data. This type of model could help companies and governments to better analyse and predict economic situations and correlations regarding oil and natural gas.\n",
    "Link to the dataset - https://www.kaggl.com/datasets/prasertk/historical-daily-oil-and-natural-gas-prices"
   ],
   "metadata": {
    "collapsed": false,
    "pycharm": {
     "name": "#%% md\n"
    }
   }
  },
  {
   "cell_type": "code",
   "execution_count": 1,
   "metadata": {
    "ExecuteTime": {
     "end_time": "2023-08-28T10:34:48.354623Z",
     "start_time": "2023-08-28T10:34:39.594404Z"
    },
    "pycharm": {
     "name": "#%%\n"
    }
   },
   "outputs": [],
   "source": [
    "import pandas as pd\n",
    "\n",
    "from fedot_ind.api.utils.path_lib import PROJECT_PATH\n",
    "from fedot.core.pipelines.pipeline_builder import PipelineBuilder\n",
    "from fedot_ind.tools.loader import DataLoader\n",
    "from fedot_ind.core.repository.initializer_industrial_models import IndustrialModels\n",
    "from examples.example_utils import init_input_data, calculate_regression_metric\n",
    "from fedot.core.pipelines.tuning.tuner_builder import TunerBuilder\n",
    "from fedot.core.repository.metrics_repository import RegressionMetricsEnum\n",
    "from fedot_ind.core.optimizer.IndustrialEvoOptimizer import IndustrialEvoOptimizer\n",
    "from golem.core.tuning.simultaneous import SimultaneousTuner\n",
    "import matplotlib\n",
    "from fedot_ind.api.main import FedotIndustrial\n",
    "matplotlib.use('TkAgg')"
   ]
  },
  {
   "cell_type": "markdown",
   "metadata": {
    "pycharm": {
     "name": "#%% md\n"
    }
   },
   "source": [
    "The list of basic fedot industrial models for experiment are shown below. We using simple linear machine learning pipelines with 3 different feature generators: Statistical, Reccurence, Topological. And for each of them we add PCA transformation with 90 % of explained dispersion."
   ]
  },
  {
   "cell_type": "code",
   "execution_count": 2,
   "outputs": [],
   "source": [
    "model_dict = {\n",
    "    'regression_with_statistical_features': PipelineBuilder().add_node('quantile_extractor',\n",
    "                                                                       params={'window_size': 5}).add_node('ridge')\n",
    "}\n",
    "experiment_setup = {'problem': 'regression',\n",
    "                    'metric': 'rmse',\n",
    "                    'timeout': 10,\n",
    "                    'num_of_generations': 5,\n",
    "                    'pop_size': 10,\n",
    "                    'logging_level': 40,\n",
    "                    'available_operations':\n",
    "                        ['rfr',\n",
    "                         'ridge',\n",
    "                         'gbr',\n",
    "                         'sgdr',\n",
    "                         'linear',\n",
    "                         'xgbreg',\n",
    "                         'dtreg',\n",
    "                         'treg',\n",
    "                         'knnreg',\n",
    "                         'scaling',\n",
    "                         'normalization',\n",
    "                         'pca'\n",
    "                         'eigen_basis',\n",
    "                         'fourier_basis',\n",
    "                         'minirocket_extractor',\n",
    "                         'quantile_extractor',\n",
    "                         'signal_extractor'\n",
    "                         ],\n",
    "                    'n_jobs': 4,\n",
    "                    'industrial_preprocessing': True,\n",
    "                    'initial_assumption': None,\n",
    "                    'max_pipeline_fit_time': 5,\n",
    "                    'with_tuning': False,\n",
    "                    'early_stopping_iterations': 5,\n",
    "                    'early_stopping_timeout': 10,\n",
    "                    'optimizer': IndustrialEvoOptimizer}\n",
    "\n",
    "dataset_name = 'DailyOilGasPrices'\n",
    "data_path = PROJECT_PATH + '/examples/data'\n",
    "experiment_setup['output_folder'] = f'./{dataset_name}/results_of_experiment'\n",
    "OperationTypesRepository = IndustrialModels().setup_repository()\n",
    "tuning_params = {'task': 'regression',\n",
    "                 'metric': RegressionMetricsEnum.RMSE,\n",
    "                 'tuning_timeout':10,\n",
    "                 'tuning_iterations':30}"
   ],
   "metadata": {
    "collapsed": false,
    "pycharm": {
     "name": "#%%\n"
    }
   }
  },
  {
   "cell_type": "code",
   "execution_count": 17,
   "outputs": [],
   "source": [
    "def evaluate_industrial_model(train_data, test_data, task:str = 'regression'):\n",
    "    metric_dict = {}\n",
    "    input_data = init_input_data(train_data[0], train_data[1], task=task)\n",
    "    val_data = init_input_data(test_data[0], test_data[1], task=task)\n",
    "    for model in model_dict.keys():\n",
    "        print(f'Current_model - {model}')\n",
    "        pipeline = model_dict[model].build()\n",
    "        pipeline.fit(input_data)\n",
    "        features = pipeline.predict(val_data).predict\n",
    "        metric = calculate_regression_metric(test_target=test_data[1], labels=features)\n",
    "        metric_dict.update({model: metric})\n",
    "    return metric_dict\n",
    "\n",
    "def tuning_industrial_pipelines(pipeline, tuning_params, train_data):\n",
    "    input_data = init_input_data(train_data[0], train_data[1], task=tuning_params['task'])\n",
    "    tuning_method = SimultaneousTuner\n",
    "    pipeline_tuner = TunerBuilder(input_data.task) \\\n",
    "        .with_tuner(tuning_method) \\\n",
    "        .with_metric(tuning_params['metric']) \\\n",
    "        .with_timeout(tuning_params['tuning_timeout']) \\\n",
    "        .with_iterations(tuning_params['tuning_iterations']) \\\n",
    "        .build(input_data)\n",
    "\n",
    "    pipeline = pipeline_tuner.tune(pipeline)\n",
    "    return pipeline\n",
    "\n",
    "def evaluate_automl(runs = 5):\n",
    "    metric_dict = {}\n",
    "    model_list = []\n",
    "\n",
    "    if 'tuning_params' in experiment_setup.keys():\n",
    "        del experiment_setup['tuning_params']\n",
    "\n",
    "    if 'industrial_preprocessing' in experiment_setup.keys():\n",
    "        ind_preproc = experiment_setup['industrial_preprocessing']\n",
    "        del experiment_setup['industrial_preprocessing']\n",
    "    else:\n",
    "        ind_preproc = True\n",
    "\n",
    "    for run in range(runs):\n",
    "        model = FedotIndustrial(**experiment_setup)\n",
    "        model.preprocessing = ind_preproc\n",
    "        model.fit(train_data)\n",
    "        prediction = model.predict(test_data)\n",
    "\n",
    "        metric = calculate_regression_metric(test_target=test_data[1], labels=prediction)\n",
    "        metric = metric.T\n",
    "        metric.columns = metric.columns.values\n",
    "\n",
    "        metric_dict.update({f'run_number - {run}':metric})\n",
    "        model_list.append(model)\n",
    "\n",
    "    return metric_dict, model_list"
   ],
   "metadata": {
    "collapsed": false,
    "pycharm": {
     "name": "#%%\n"
    }
   }
  },
  {
   "cell_type": "markdown",
   "metadata": {
    "pycharm": {
     "name": "#%% md\n"
    }
   },
   "source": [
    "Now we must download the dataset. It could be done by using `DataReader` class that implemented as attribute of `FedotIndustrial` class. This class firstly tries to read the data from local project folder `data_path` and then if it is not possible, it downloads the data from the UCR/UEA archive. The data will be saved in the `data` folder."
   ]
  },
  {
   "cell_type": "code",
   "execution_count": 4,
   "metadata": {
    "ExecuteTime": {
     "end_time": "2023-08-28T10:35:13.321212Z",
     "start_time": "2023-08-28T10:35:12.913025Z"
    },
    "pycharm": {
     "name": "#%%\n"
    }
   },
   "outputs": [
    {
     "name": "stdout",
     "output_type": "stream",
     "text": [
      "2024-01-11 17:08:08,298 - Reading data from D:\\WORK\\Repo\\Industiral\\IndustrialTS/examples/data/DailyOilGasPrices\n"
     ]
    }
   ],
   "source": [
    "_, train_data, test_data = DataLoader(dataset_name=dataset_name).read_train_test_files(\n",
    "            dataset_name=dataset_name,\n",
    "            data_path=data_path)"
   ]
  },
  {
   "cell_type": "code",
   "execution_count": 5,
   "outputs": [],
   "source": [
    "input_data = init_input_data(train_data[0], train_data[1], task=tuning_params['task'])\n",
    "val_data = init_input_data(test_data[0], test_data[1], task=tuning_params['task'])"
   ],
   "metadata": {
    "collapsed": false,
    "pycharm": {
     "name": "#%%\n"
    }
   }
  },
  {
   "cell_type": "markdown",
   "source": [
    "Lets check our data."
   ],
   "metadata": {
    "collapsed": false,
    "pycharm": {
     "name": "#%% md\n"
    }
   }
  },
  {
   "cell_type": "code",
   "execution_count": 6,
   "outputs": [
    {
     "data": {
      "text/plain": "(133, 2, 30)"
     },
     "execution_count": 6,
     "metadata": {},
     "output_type": "execute_result"
    }
   ],
   "source": [
    "input_data.features.shape"
   ],
   "metadata": {
    "collapsed": false,
    "pycharm": {
     "name": "#%%\n"
    }
   }
  },
  {
   "cell_type": "markdown",
   "source": [
    "Lets visualise our predictors."
   ],
   "metadata": {
    "collapsed": false,
    "pycharm": {
     "name": "#%% md\n"
    }
   }
  },
  {
   "cell_type": "code",
   "execution_count": 7,
   "outputs": [],
   "source": [
    "from matplotlib import pyplot as plt\n",
    "pd.DataFrame(input_data.features[1, 0, :]).plot(title='Crude Oil WTI close prices')\n",
    "pd.DataFrame(input_data.features[1, 1, :]).plot(title='Crude Oil WTI traded volumes')\n",
    "plt.show()"
   ],
   "metadata": {
    "collapsed": false,
    "pycharm": {
     "name": "#%%\n"
    }
   }
  },
  {
   "cell_type": "markdown",
   "source": [
    "Next steps are quite straightforward. We need to fit the model and then predict the values for the test data just like for any other model in sklearn.\n",
    "\n",
    "At the `fit` stage FedotIndustrial will transform initial time series data into features dataframe and will train regression model."
   ],
   "metadata": {
    "collapsed": false,
    "pycharm": {
     "name": "#%% md\n"
    }
   }
  },
  {
   "cell_type": "code",
   "execution_count": 8,
   "metadata": {
    "ExecuteTime": {
     "start_time": "2023-08-28T10:35:27.965798Z"
    },
    "pycharm": {
     "name": "#%%\n"
    }
   },
   "outputs": [
    {
     "name": "stdout",
     "output_type": "stream",
     "text": [
      "Current_model - regression_with_statistical_features\n"
     ]
    },
    {
     "name": "stderr",
     "output_type": "stream",
     "text": [
      "100%|██████████| 133/133 [00:04<00:00, 26.69it/s]\n",
      "100%|██████████| 58/58 [00:00<00:00, 796.64it/s]\n"
     ]
    }
   ],
   "source": [
    "metric_dict = evaluate_industrial_model(train_data,test_data)"
   ]
  },
  {
   "cell_type": "markdown",
   "metadata": {
    "pycharm": {
     "name": "#%% md\n"
    }
   },
   "source": [
    "At the end of the experiment we can obtain the desired metric values using `calculate_regression_metric` method. Now there are five available metrics for classification task:\n",
    "- `explained_variance_score`\n",
    "- `max_error`\n",
    "- `mean_absolute_error`\n",
    "- `mean_squared_error`\n",
    "- `d2_absolute_error_score`.\n",
    "- `median_absolute_error`\n",
    "- `r2_score`"
   ]
  },
  {
   "cell_type": "code",
   "execution_count": 9,
   "metadata": {
    "ExecuteTime": {
     "end_time": "2023-08-28T11:01:34.941934Z",
     "start_time": "2023-08-28T11:01:34.928460Z"
    },
    "pycharm": {
     "name": "#%%\n"
    }
   },
   "outputs": [
    {
     "data": {
      "text/plain": "                                      r2_score:  mean_squared_error:  \\\nregression_with_statistical_features  -5.644074            21.505536   \n\n                                      root_mean_squared_error:  \\\nregression_with_statistical_features                  4.637406   \n\n                                      mean_absolute_error  \\\nregression_with_statistical_features             3.231781   \n\n                                      median_absolute_error  \\\nregression_with_statistical_features               2.051471   \n\n                                      explained_variance_score  max_error  \\\nregression_with_statistical_features                 -5.295417  18.537842   \n\n                                      d2_absolute_error_score  \nregression_with_statistical_features                -1.248095  ",
      "text/html": "<div>\n<style scoped>\n    .dataframe tbody tr th:only-of-type {\n        vertical-align: middle;\n    }\n\n    .dataframe tbody tr th {\n        vertical-align: top;\n    }\n\n    .dataframe thead th {\n        text-align: right;\n    }\n</style>\n<table border=\"1\" class=\"dataframe\">\n  <thead>\n    <tr style=\"text-align: right;\">\n      <th></th>\n      <th>r2_score:</th>\n      <th>mean_squared_error:</th>\n      <th>root_mean_squared_error:</th>\n      <th>mean_absolute_error</th>\n      <th>median_absolute_error</th>\n      <th>explained_variance_score</th>\n      <th>max_error</th>\n      <th>d2_absolute_error_score</th>\n    </tr>\n  </thead>\n  <tbody>\n    <tr>\n      <th>regression_with_statistical_features</th>\n      <td>-5.644074</td>\n      <td>21.505536</td>\n      <td>4.637406</td>\n      <td>3.231781</td>\n      <td>2.051471</td>\n      <td>-5.295417</td>\n      <td>18.537842</td>\n      <td>-1.248095</td>\n    </tr>\n  </tbody>\n</table>\n</div>"
     },
     "execution_count": 9,
     "metadata": {},
     "output_type": "execute_result"
    }
   ],
   "source": [
    "df_baseline = pd.concat([x for x in metric_dict.values()],axis=1)\n",
    "df_baseline.columns = list(metric_dict.keys())\n",
    "df_baseline = df_baseline.T\n",
    "df_baseline"
   ]
  },
  {
   "cell_type": "code",
   "execution_count": 10,
   "outputs": [],
   "source": [
    "best_baseline = df_baseline.sort_values('root_mean_squared_error:')['root_mean_squared_error:'].iloc[0]"
   ],
   "metadata": {
    "collapsed": false,
    "pycharm": {
     "name": "#%%\n"
    }
   }
  },
  {
   "cell_type": "markdown",
   "source": [
    "## Could it be done better? Tuning approach"
   ],
   "metadata": {
    "collapsed": false,
    "pycharm": {
     "name": "#%% md\n"
    }
   }
  },
  {
   "cell_type": "code",
   "execution_count": 11,
   "outputs": [
    {
     "name": "stdout",
     "output_type": "stream",
     "text": [
      "Current_model - regression_with_statistical_features\n",
      "2024-01-11 17:08:37,555 - DataSourceSplitter - Stratificated splitting of data is disabled.\n",
      "2024-01-11 17:08:37,555 - DataSourceSplitter - Hold out validation is applied.\n",
      "2024-01-11 17:08:37,558 - SimultaneousTuner - Hyperparameters optimization start: estimation of metric for initial graph\n"
     ]
    },
    {
     "name": "stderr",
     "output_type": "stream",
     "text": [
      "100%|██████████| 106/106 [00:00<00:00, 603.88it/s]\n",
      "100%|██████████| 27/27 [00:00<00:00, 731.68it/s]\n"
     ]
    },
    {
     "name": "stdout",
     "output_type": "stream",
     "text": [
      "2024-01-11 17:08:38,009 - SimultaneousTuner - Initial graph: {'depth': 2, 'length': 2, 'nodes': [ridge, quantile_extractor]}\n",
      "ridge - {}\n",
      "quantile_extractor - {'window_size': 5} \n",
      "Initial metric: [7.546]\n",
      "  0%|          | 0/3 [00:00<?, ?trial/s, best loss=?]2024-01-11 17:08:38,014 - build_posterior_wrapper took 0.001994 seconds\n",
      "2024-01-11 17:08:38,014 - TPE using 0 trials\n"
     ]
    },
    {
     "name": "stderr",
     "output_type": "stream",
     "text": [
      "  0%|          | 0/106 [00:00<?, ?it/s]\n",
      "\u001B[A\n",
      " 57%|#####6    | 60/106 [00:00<00:00, 567.55it/s]\n",
      "\u001B[A\n",
      "100%|##########| 106/106 [00:00<00:00, 603.88it/s]\n",
      "  0%|          | 0/27 [00:00<?, ?it/s]\n",
      "\u001B[A\n",
      "100%|##########| 27/27 [00:00<00:00, 731.69it/s]\n"
     ]
    },
    {
     "name": "stdout",
     "output_type": "stream",
     "text": [
      " 33%|███▎      | 1/3 [00:00<00:00,  2.21trial/s, best loss: 7.546356685867857]2024-01-11 17:08:38,467 - build_posterior_wrapper took 0.000997 seconds\n",
      "2024-01-11 17:08:38,468 - TPE using 1/1 trials with best loss 7.546357\n"
     ]
    },
    {
     "name": "stderr",
     "output_type": "stream",
     "text": [
      "  0%|          | 0/106 [00:00<?, ?it/s]\n",
      "\u001B[A\n",
      " 57%|#####6    | 60/106 [00:00<00:00, 530.01it/s]\n",
      "\u001B[A\n",
      "100%|##########| 106/106 [00:00<00:00, 563.82it/s]\n",
      "  0%|          | 0/27 [00:00<?, ?it/s]\n",
      "\u001B[A\n",
      "100%|##########| 27/27 [00:00<00:00, 660.29it/s]\n"
     ]
    },
    {
     "name": "stdout",
     "output_type": "stream",
     "text": [
      " 67%|██████▋   | 2/3 [00:00<00:00,  2.12trial/s, best loss: 7.546356685867857]2024-01-11 17:08:38,952 - build_posterior_wrapper took 0.000998 seconds\n",
      "2024-01-11 17:08:38,954 - TPE using 2/2 trials with best loss 7.546357\n"
     ]
    },
    {
     "name": "stderr",
     "output_type": "stream",
     "text": [
      "  0%|          | 0/106 [00:00<?, ?it/s]\n",
      "\u001B[A\n",
      " 57%|#####6    | 60/106 [00:00<00:00, 544.40it/s]\n",
      "\u001B[A\n",
      "100%|##########| 106/106 [00:00<00:00, 576.04it/s]\n",
      "  0%|          | 0/27 [00:00<?, ?it/s]\n",
      "\u001B[A\n",
      "100%|##########| 27/27 [00:00<00:00, 731.68it/s]\n"
     ]
    },
    {
     "name": "stdout",
     "output_type": "stream",
     "text": [
      "100%|██████████| 3/3 [00:01<00:00,  2.16trial/s, best loss: 7.546356685867857]\n",
      " 10%|█         | 3/30 [00:00<?, ?trial/s, best loss=?]2024-01-11 17:08:39,408 - build_posterior_wrapper took 0.001994 seconds\n",
      "2024-01-11 17:08:39,408 - TPE using 3/3 trials with best loss 7.546357\n"
     ]
    },
    {
     "name": "stderr",
     "output_type": "stream",
     "text": [
      "  0%|          | 0/106 [00:00<?, ?it/s]\n",
      "\u001B[A\n",
      " 79%|#######9  | 84/106 [00:00<00:00, 565.27it/s]\n",
      "\u001B[A\n",
      "100%|##########| 106/106 [00:00<00:00, 703.87it/s]\n",
      "  0%|          | 0/27 [00:00<?, ?it/s]\n",
      "\u001B[A\n",
      "100%|##########| 27/27 [00:00<00:00, 796.22it/s]\n"
     ]
    },
    {
     "name": "stdout",
     "output_type": "stream",
     "text": [
      " 13%|█▎        | 4/30 [00:00<00:10,  2.50trial/s, best loss: 7.546356685867857]2024-01-11 17:08:39,808 - build_posterior_wrapper took 0.000997 seconds\n",
      "2024-01-11 17:08:39,809 - TPE using 4/4 trials with best loss 7.546357\n"
     ]
    },
    {
     "name": "stderr",
     "output_type": "stream",
     "text": [
      "  0%|          | 0/106 [00:00<?, ?it/s]\n",
      "\u001B[A\n",
      " 79%|#######9  | 84/106 [00:00<00:00, 546.91it/s]\n",
      "\u001B[A\n",
      "100%|##########| 106/106 [00:00<00:00, 685.70it/s]\n",
      "  0%|          | 0/27 [00:00<?, ?it/s]\n",
      "\u001B[A\n",
      "100%|##########| 27/27 [00:00<00:00, 873.28it/s]\n"
     ]
    },
    {
     "name": "stdout",
     "output_type": "stream",
     "text": [
      " 17%|█▋        | 5/30 [00:00<00:09,  2.51trial/s, best loss: 7.546356685867857]2024-01-11 17:08:40,205 - build_posterior_wrapper took 0.001993 seconds\n",
      "2024-01-11 17:08:40,206 - TPE using 5/5 trials with best loss 7.546357\n"
     ]
    },
    {
     "name": "stderr",
     "output_type": "stream",
     "text": [
      "  0%|          | 0/106 [00:00<?, ?it/s]\n",
      "\u001B[A\n",
      " 79%|#######9  | 84/106 [00:00<00:00, 554.11it/s]\n",
      "\u001B[A\n",
      "100%|##########| 106/106 [00:00<00:00, 694.66it/s]\n",
      "  0%|          | 0/27 [00:00<?, ?it/s]\n",
      "\u001B[A\n",
      "100%|##########| 27/27 [00:00<00:00, 773.48it/s]\n"
     ]
    },
    {
     "name": "stdout",
     "output_type": "stream",
     "text": [
      " 20%|██        | 6/30 [00:01<00:09,  2.49trial/s, best loss: 5.2924339912484015]2024-01-11 17:08:40,611 - build_posterior_wrapper took 0.000997 seconds\n",
      "2024-01-11 17:08:40,612 - TPE using 6/6 trials with best loss 5.292434\n"
     ]
    },
    {
     "name": "stderr",
     "output_type": "stream",
     "text": [
      "  0%|          | 0/106 [00:00<?, ?it/s]\n",
      "\u001B[A\n",
      " 79%|#######9  | 84/106 [00:00<00:00, 576.88it/s]\n",
      "\u001B[A\n",
      "100%|##########| 106/106 [00:00<00:00, 723.02it/s]\n",
      "  0%|          | 0/27 [00:00<?, ?it/s]\n",
      "\u001B[A\n",
      "100%|##########| 27/27 [00:00<00:00, 859.20it/s]\n"
     ]
    },
    {
     "name": "stdout",
     "output_type": "stream",
     "text": [
      " 23%|██▎       | 7/30 [00:01<00:09,  2.55trial/s, best loss: 5.2924339912484015]2024-01-11 17:08:40,989 - build_posterior_wrapper took 0.000997 seconds\n",
      "2024-01-11 17:08:40,990 - TPE using 7/7 trials with best loss 5.292434\n"
     ]
    },
    {
     "name": "stderr",
     "output_type": "stream",
     "text": [
      "  0%|          | 0/106 [00:00<?, ?it/s]\n",
      "\u001B[A\n",
      " 57%|#####6    | 60/106 [00:00<00:00, 544.40it/s]\n",
      "\u001B[A\n",
      "100%|##########| 106/106 [00:00<00:00, 579.03it/s]\n",
      "  0%|          | 0/27 [00:00<?, ?it/s]\n",
      "\u001B[A\n",
      "100%|##########| 27/27 [00:00<00:00, 731.67it/s]\n"
     ]
    },
    {
     "name": "stdout",
     "output_type": "stream",
     "text": [
      " 27%|██▋       | 8/30 [00:02<00:09,  2.38trial/s, best loss: 5.2924339912484015]2024-01-11 17:08:41,459 - build_posterior_wrapper took 0.000997 seconds\n",
      "2024-01-11 17:08:41,460 - TPE using 8/8 trials with best loss 5.292434\n"
     ]
    },
    {
     "name": "stderr",
     "output_type": "stream",
     "text": [
      "  0%|          | 0/106 [00:00<?, ?it/s]\n",
      "\u001B[A\n",
      " 57%|#####6    | 60/106 [00:00<00:00, 584.08it/s]\n",
      "\u001B[A\n",
      "100%|##########| 106/106 [00:00<00:00, 614.36it/s]\n",
      "  0%|          | 0/27 [00:00<?, ?it/s]\n",
      "\u001B[A\n",
      "100%|##########| 27/27 [00:00<00:00, 712.43it/s]\n"
     ]
    },
    {
     "name": "stdout",
     "output_type": "stream",
     "text": [
      " 30%|███       | 9/30 [00:02<00:09,  2.32trial/s, best loss: 5.2924339912484015]2024-01-11 17:08:41,910 - build_posterior_wrapper took 0.000997 seconds\n",
      "2024-01-11 17:08:41,911 - TPE using 9/9 trials with best loss 5.292434\n"
     ]
    },
    {
     "name": "stderr",
     "output_type": "stream",
     "text": [
      "  0%|          | 0/106 [00:00<?, ?it/s]\n",
      "\u001B[A\n",
      "100%|##########| 106/106 [00:00<00:00, 1068.06it/s]\n",
      "  0%|          | 0/27 [00:00<?, ?it/s]\n",
      "\u001B[A\n",
      "100%|##########| 27/27 [00:00<00:00, 1353.63it/s]\n"
     ]
    },
    {
     "name": "stdout",
     "output_type": "stream",
     "text": [
      " 33%|███▎      | 10/30 [00:02<00:07,  2.65trial/s, best loss: 2.740364806635174]2024-01-11 17:08:42,175 - build_posterior_wrapper took 0.000998 seconds\n",
      "2024-01-11 17:08:42,176 - TPE using 10/10 trials with best loss 2.740365\n"
     ]
    },
    {
     "name": "stderr",
     "output_type": "stream",
     "text": [
      "  0%|          | 0/106 [00:00<?, ?it/s]\n",
      "\u001B[A\n",
      " 57%|#####6    | 60/106 [00:00<00:00, 562.25it/s]\n",
      "\u001B[A\n",
      "100%|##########| 106/106 [00:00<00:00, 597.09it/s]\n",
      "  0%|          | 0/27 [00:00<?, ?it/s]\n",
      "\u001B[A\n",
      "100%|##########| 27/27 [00:00<00:00, 731.68it/s]\n"
     ]
    },
    {
     "name": "stdout",
     "output_type": "stream",
     "text": [
      " 37%|███▋      | 11/30 [00:03<00:07,  2.50trial/s, best loss: 2.740364806635174]2024-01-11 17:08:42,628 - build_posterior_wrapper took 0.000997 seconds\n",
      "2024-01-11 17:08:42,629 - TPE using 11/11 trials with best loss 2.740365\n"
     ]
    },
    {
     "name": "stderr",
     "output_type": "stream",
     "text": [
      "  0%|          | 0/106 [00:00<?, ?it/s]\n",
      "\u001B[A\n",
      " 79%|#######9  | 84/106 [00:00<00:00, 513.57it/s]\n",
      "\u001B[A\n",
      "100%|##########| 106/106 [00:00<00:00, 640.26it/s]\n",
      "  0%|          | 0/27 [00:00<?, ?it/s]\n",
      "\u001B[A\n",
      "100%|##########| 27/27 [00:00<00:00, 773.48it/s]\n"
     ]
    },
    {
     "name": "stdout",
     "output_type": "stream",
     "text": [
      " 40%|████      | 12/30 [00:03<00:07,  2.46trial/s, best loss: 2.740364806635174]2024-01-11 17:08:43,049 - build_posterior_wrapper took 0.000998 seconds\n",
      "2024-01-11 17:08:43,050 - TPE using 12/12 trials with best loss 2.740365\n"
     ]
    },
    {
     "name": "stderr",
     "output_type": "stream",
     "text": [
      "  0%|          | 0/106 [00:00<?, ?it/s]\n",
      "\u001B[A\n",
      " 57%|#####6    | 60/106 [00:00<00:00, 575.64it/s]\n",
      "\u001B[A\n",
      "100%|##########| 106/106 [00:00<00:00, 617.86it/s]\n",
      "  0%|          | 0/27 [00:00<?, ?it/s]\n",
      "\u001B[A\n",
      "100%|##########| 27/27 [00:00<00:00, 731.66it/s]\n"
     ]
    },
    {
     "name": "stdout",
     "output_type": "stream",
     "text": [
      " 43%|████▎     | 13/30 [00:04<00:07,  2.40trial/s, best loss: 2.740364806635174]2024-01-11 17:08:43,486 - build_posterior_wrapper took 0.000997 seconds\n",
      "2024-01-11 17:08:43,488 - TPE using 13/13 trials with best loss 2.740365\n"
     ]
    },
    {
     "name": "stderr",
     "output_type": "stream",
     "text": [
      "  0%|          | 0/106 [00:00<?, ?it/s]\n",
      "\u001B[A\n",
      "100%|##########| 106/106 [00:00<00:00, 1155.25it/s]\n",
      "  0%|          | 0/27 [00:00<?, ?it/s]\n",
      "\u001B[A\n",
      "100%|##########| 27/27 [00:00<00:00, 1177.04it/s]\n"
     ]
    },
    {
     "name": "stdout",
     "output_type": "stream",
     "text": [
      " 47%|████▋     | 14/30 [00:04<00:05,  2.73trial/s, best loss: 2.740364806635174]2024-01-11 17:08:43,737 - build_posterior_wrapper took 0.000998 seconds\n",
      "2024-01-11 17:08:43,738 - TPE using 14/14 trials with best loss 2.740365\n"
     ]
    },
    {
     "name": "stderr",
     "output_type": "stream",
     "text": [
      "  0%|          | 0/106 [00:00<?, ?it/s]\n",
      "\u001B[A\n",
      " 79%|#######9  | 84/106 [00:00<00:00, 543.39it/s]\n",
      "\u001B[A\n",
      "100%|##########| 106/106 [00:00<00:00, 681.30it/s]\n",
      "  0%|          | 0/27 [00:00<?, ?it/s]\n",
      "\u001B[A\n",
      "100%|##########| 27/27 [00:00<00:00, 796.22it/s]\n"
     ]
    },
    {
     "name": "stdout",
     "output_type": "stream",
     "text": [
      " 50%|█████     | 15/30 [00:04<00:05,  2.68trial/s, best loss: 2.740364806635174]2024-01-11 17:08:44,128 - build_posterior_wrapper took 0.000996 seconds\n",
      "2024-01-11 17:08:44,129 - TPE using 15/15 trials with best loss 2.740365\n"
     ]
    },
    {
     "name": "stderr",
     "output_type": "stream",
     "text": [
      "  0%|          | 0/106 [00:00<?, ?it/s]\n",
      "\u001B[A\n",
      " 79%|#######9  | 84/106 [00:00<00:00, 519.91it/s]\n",
      "\u001B[A\n",
      "100%|##########| 106/106 [00:00<00:00, 652.05it/s]\n",
      "  0%|          | 0/27 [00:00<?, ?it/s]\n",
      "\u001B[A\n",
      "100%|##########| 27/27 [00:00<00:00, 820.35it/s]\n"
     ]
    },
    {
     "name": "stdout",
     "output_type": "stream",
     "text": [
      " 53%|█████▎    | 16/30 [00:05<00:05,  2.61trial/s, best loss: 2.740364806635174]2024-01-11 17:08:44,535 - build_posterior_wrapper took 0.000997 seconds\n",
      "2024-01-11 17:08:44,536 - TPE using 16/16 trials with best loss 2.740365\n"
     ]
    },
    {
     "name": "stderr",
     "output_type": "stream",
     "text": [
      "  0%|          | 0/106 [00:00<?, ?it/s]\n",
      "\u001B[A\n",
      " 57%|#####6    | 60/106 [00:00<00:00, 578.47it/s]\n",
      "\u001B[A\n",
      "100%|##########| 106/106 [00:00<00:00, 621.54it/s]\n",
      "  0%|          | 0/27 [00:00<?, ?it/s]\n",
      "\u001B[A\n",
      "100%|##########| 27/27 [00:00<00:00, 694.16it/s]\n"
     ]
    },
    {
     "name": "stdout",
     "output_type": "stream",
     "text": [
      " 57%|█████▋    | 17/30 [00:05<00:05,  2.50trial/s, best loss: 2.740364806635174]2024-01-11 17:08:44,972 - build_posterior_wrapper took 0.000997 seconds\n",
      "2024-01-11 17:08:44,973 - TPE using 17/17 trials with best loss 2.740365\n"
     ]
    },
    {
     "name": "stderr",
     "output_type": "stream",
     "text": [
      "  0%|          | 0/106 [00:00<?, ?it/s]\n",
      "\u001B[A\n",
      "100%|##########| 106/106 [00:00<00:00, 1142.82it/s]\n",
      "  0%|          | 0/27 [00:00<?, ?it/s]\n",
      "\u001B[A\n",
      "100%|##########| 27/27 [00:00<00:00, 1353.60it/s]\n"
     ]
    },
    {
     "name": "stdout",
     "output_type": "stream",
     "text": [
      " 60%|██████    | 18/30 [00:05<00:04,  2.82trial/s, best loss: 2.740364806635174]2024-01-11 17:08:45,221 - build_posterior_wrapper took 0.000997 seconds\n",
      "2024-01-11 17:08:45,222 - TPE using 18/18 trials with best loss 2.740365\n"
     ]
    },
    {
     "name": "stderr",
     "output_type": "stream",
     "text": [
      "  0%|          | 0/106 [00:00<?, ?it/s]\n",
      "\u001B[A\n",
      " 79%|#######9  | 84/106 [00:00<00:00, 516.72it/s]\n",
      "\u001B[A\n",
      "100%|##########| 106/106 [00:00<00:00, 644.14it/s]\n",
      "  0%|          | 0/27 [00:00<?, ?it/s]\n",
      "\u001B[A\n",
      "100%|##########| 27/27 [00:00<00:00, 731.67it/s]\n"
     ]
    },
    {
     "name": "stdout",
     "output_type": "stream",
     "text": [
      " 63%|██████▎   | 19/30 [00:06<00:04,  2.67trial/s, best loss: 2.740364806635174]2024-01-11 17:08:45,643 - build_posterior_wrapper took 0.000998 seconds\n",
      "2024-01-11 17:08:45,644 - TPE using 19/19 trials with best loss 2.740365\n"
     ]
    },
    {
     "name": "stderr",
     "output_type": "stream",
     "text": [
      "  0%|          | 0/106 [00:00<?, ?it/s]\n",
      "\u001B[A\n",
      " 79%|#######9  | 84/106 [00:00<00:00, 552.25it/s]\n",
      "\u001B[A\n",
      "100%|##########| 106/106 [00:00<00:00, 692.35it/s]\n",
      "  0%|          | 0/27 [00:00<?, ?it/s]\n",
      "\u001B[A\n",
      "100%|##########| 27/27 [00:00<00:00, 846.01it/s]\n"
     ]
    },
    {
     "name": "stdout",
     "output_type": "stream",
     "text": [
      " 67%|██████▋   | 20/30 [00:06<00:03,  2.63trial/s, best loss: 2.740364806635174]2024-01-11 17:08:46,034 - build_posterior_wrapper took 0.000997 seconds\n",
      "2024-01-11 17:08:46,035 - TPE using 20/20 trials with best loss 2.740365\n"
     ]
    },
    {
     "name": "stderr",
     "output_type": "stream",
     "text": [
      "  0%|          | 0/106 [00:00<?, ?it/s]\n",
      "\u001B[A\n",
      "100%|##########| 106/106 [00:00<00:00, 1130.68it/s]\n",
      "  0%|          | 0/27 [00:00<?, ?it/s]\n",
      "\u001B[A\n",
      "100%|##########| 27/27 [00:00<00:00, 1289.12it/s]\n"
     ]
    },
    {
     "name": "stdout",
     "output_type": "stream",
     "text": [
      " 70%|███████   | 21/30 [00:06<00:03,  2.90trial/s, best loss: 2.740364806635174]2024-01-11 17:08:46,299 - build_posterior_wrapper took 0.000998 seconds\n",
      "2024-01-11 17:08:46,300 - TPE using 21/21 trials with best loss 2.740365\n"
     ]
    },
    {
     "name": "stderr",
     "output_type": "stream",
     "text": [
      "  0%|          | 0/106 [00:00<?, ?it/s]\n",
      "\u001B[A\n",
      "100%|##########| 106/106 [00:00<00:00, 1130.68it/s]\n",
      "  0%|          | 0/27 [00:00<?, ?it/s]\n",
      "\u001B[A\n",
      "100%|##########| 27/27 [00:00<00:00, 1289.13it/s]\n"
     ]
    },
    {
     "name": "stdout",
     "output_type": "stream",
     "text": [
      " 73%|███████▎  | 22/30 [00:07<00:02,  3.16trial/s, best loss: 2.740364806635174]2024-01-11 17:08:46,549 - build_posterior_wrapper took 0.000997 seconds\n",
      "2024-01-11 17:08:46,550 - TPE using 22/22 trials with best loss 2.740365\n"
     ]
    },
    {
     "name": "stderr",
     "output_type": "stream",
     "text": [
      "  0%|          | 0/106 [00:00<?, ?it/s]\n",
      "\u001B[A\n",
      " 57%|#####6    | 60/106 [00:00<00:00, 567.55it/s]\n",
      "\u001B[A\n",
      "100%|##########| 106/106 [00:00<00:00, 603.88it/s]\n",
      "  0%|          | 0/27 [00:00<?, ?it/s]\n",
      "\u001B[A\n",
      "100%|##########| 27/27 [00:00<00:00, 731.70it/s]\n"
     ]
    },
    {
     "name": "stdout",
     "output_type": "stream",
     "text": [
      " 77%|███████▋  | 23/30 [00:07<00:02,  2.80trial/s, best loss: 2.740364806635174]2024-01-11 17:08:47,002 - build_posterior_wrapper took 0.000997 seconds\n",
      "2024-01-11 17:08:47,003 - TPE using 23/23 trials with best loss 2.740365\n"
     ]
    },
    {
     "name": "stderr",
     "output_type": "stream",
     "text": [
      "  0%|          | 0/106 [00:00<?, ?it/s]\n",
      "\u001B[A\n",
      " 57%|#####6    | 60/106 [00:00<00:00, 578.47it/s]\n",
      "\u001B[A\n",
      "100%|##########| 106/106 [00:00<00:00, 614.35it/s]\n",
      "  0%|          | 0/27 [00:00<?, ?it/s]\n",
      "\u001B[A\n",
      "100%|##########| 27/27 [00:00<00:00, 731.68it/s]\n"
     ]
    },
    {
     "name": "stdout",
     "output_type": "stream",
     "text": [
      " 80%|████████  | 24/30 [00:08<00:02,  2.59trial/s, best loss: 2.740364806635174]2024-01-11 17:08:47,457 - build_posterior_wrapper took 0.000997 seconds\n",
      "2024-01-11 17:08:47,458 - TPE using 24/24 trials with best loss 2.740365\n"
     ]
    },
    {
     "name": "stderr",
     "output_type": "stream",
     "text": [
      "  0%|          | 0/106 [00:00<?, ?it/s]\n",
      "\u001B[A\n",
      " 57%|#####6    | 60/106 [00:00<00:00, 581.21it/s]\n",
      "\u001B[A\n",
      "100%|##########| 106/106 [00:00<00:00, 610.76it/s]\n",
      "  0%|          | 0/27 [00:00<?, ?it/s]\n",
      "\u001B[A\n",
      "100%|##########| 27/27 [00:00<00:00, 712.42it/s]\n"
     ]
    },
    {
     "name": "stdout",
     "output_type": "stream",
     "text": [
      " 83%|████████▎ | 25/30 [00:08<00:02,  2.46trial/s, best loss: 2.740364806635174]2024-01-11 17:08:47,908 - build_posterior_wrapper took 0.000998 seconds\n",
      "2024-01-11 17:08:47,909 - TPE using 25/25 trials with best loss 2.740365\n"
     ]
    },
    {
     "name": "stderr",
     "output_type": "stream",
     "text": [
      "  0%|          | 0/106 [00:00<?, ?it/s]\n",
      "\u001B[A\n",
      " 79%|#######9  | 84/106 [00:00<00:00, 557.78it/s]\n",
      "\u001B[A\n",
      "100%|##########| 106/106 [00:00<00:00, 694.66it/s]\n",
      "  0%|          | 0/27 [00:00<?, ?it/s]\n",
      "\u001B[A\n",
      "100%|##########| 27/27 [00:00<00:00, 820.37it/s]\n"
     ]
    },
    {
     "name": "stdout",
     "output_type": "stream",
     "text": [
      " 87%|████████▋ | 26/30 [00:08<00:01,  2.49trial/s, best loss: 2.740364806635174]2024-01-11 17:08:48,299 - build_posterior_wrapper took 0.000998 seconds\n",
      "2024-01-11 17:08:48,300 - TPE using 26/26 trials with best loss 2.740365\n"
     ]
    },
    {
     "name": "stderr",
     "output_type": "stream",
     "text": [
      "  0%|          | 0/106 [00:00<?, ?it/s]\n",
      "\u001B[A\n",
      " 57%|#####6    | 60/106 [00:00<00:00, 572.96it/s]\n",
      "\u001B[A\n",
      "100%|##########| 106/106 [00:00<00:00, 603.88it/s]\n",
      "  0%|          | 0/27 [00:00<?, ?it/s]\n",
      "\u001B[A\n",
      "100%|##########| 27/27 [00:00<00:00, 752.00it/s]\n"
     ]
    },
    {
     "name": "stdout",
     "output_type": "stream",
     "text": [
      " 90%|█████████ | 27/30 [00:09<00:01,  2.43trial/s, best loss: 2.740364806635174]2024-01-11 17:08:48,734 - build_posterior_wrapper took 0.000997 seconds\n",
      "2024-01-11 17:08:48,735 - TPE using 27/27 trials with best loss 2.740365\n"
     ]
    },
    {
     "name": "stderr",
     "output_type": "stream",
     "text": [
      "  0%|          | 0/106 [00:00<?, ?it/s]\n",
      "\u001B[A\n",
      "100%|##########| 106/106 [00:00<00:00, 1155.25it/s]\n",
      "  0%|          | 0/27 [00:00<?, ?it/s]\n",
      "\u001B[A\n",
      "100%|##########| 27/27 [00:00<00:00, 1353.58it/s]\n"
     ]
    },
    {
     "name": "stdout",
     "output_type": "stream",
     "text": [
      " 93%|█████████▎| 28/30 [00:09<00:00,  2.75trial/s, best loss: 2.740364806635174]2024-01-11 17:08:48,987 - build_posterior_wrapper took 0.000997 seconds\n",
      "2024-01-11 17:08:48,988 - TPE using 28/28 trials with best loss 2.740365\n"
     ]
    },
    {
     "name": "stderr",
     "output_type": "stream",
     "text": [
      "  0%|          | 0/106 [00:00<?, ?it/s]\n",
      "\u001B[A\n",
      " 57%|#####6    | 60/106 [00:00<00:00, 595.65it/s]\n",
      "\u001B[A\n",
      "100%|##########| 106/106 [00:00<00:00, 636.43it/s]\n",
      "  0%|          | 0/27 [00:00<?, ?it/s]\n",
      "\u001B[A\n",
      "100%|##########| 27/27 [00:00<00:00, 712.42it/s]\n"
     ]
    },
    {
     "name": "stdout",
     "output_type": "stream",
     "text": [
      " 97%|█████████▋| 29/30 [00:10<00:00,  2.59trial/s, best loss: 2.740364806635174]2024-01-11 17:08:49,424 - build_posterior_wrapper took 0.000997 seconds\n",
      "2024-01-11 17:08:49,425 - TPE using 29/29 trials with best loss 2.740365\n"
     ]
    },
    {
     "name": "stderr",
     "output_type": "stream",
     "text": [
      "  0%|          | 0/106 [00:00<?, ?it/s]\n",
      "\u001B[A\n",
      "100%|##########| 106/106 [00:00<00:00, 1142.83it/s]\n",
      "  0%|          | 0/27 [00:00<?, ?it/s]\n",
      "\u001B[A\n",
      "100%|##########| 27/27 [00:00<00:00, 1353.58it/s]\n"
     ]
    },
    {
     "name": "stdout",
     "output_type": "stream",
     "text": [
      "100%|██████████| 30/30 [00:10<00:00,  2.63trial/s, best loss: 2.740364806635174]\n",
      "2024-01-11 17:08:49,675 - SimultaneousTuner - Hyperparameters optimization finished\n"
     ]
    },
    {
     "name": "stderr",
     "output_type": "stream",
     "text": [
      "100%|██████████| 106/106 [00:00<00:00, 1084.52it/s]\n",
      "100%|██████████| 27/27 [00:00<00:00, 1289.14it/s]"
     ]
    },
    {
     "name": "stdout",
     "output_type": "stream",
     "text": [
      "2024-01-11 17:08:49,938 - SimultaneousTuner - Return tuned graph due to the fact that obtained metric 2.740 equal or better than initial (+ 0.05% deviation) 7.543\n",
      "2024-01-11 17:08:49,939 - SimultaneousTuner - Final graph: {'depth': 2, 'length': 2, 'nodes': [ridge, quantile_extractor]}\n",
      "ridge - {'alpha': 2.1380306940047142}\n",
      "quantile_extractor - {'window_size': 0, 'stride': 1}\n",
      "2024-01-11 17:08:49,939 - SimultaneousTuner - Final metric: 2.740\n"
     ]
    },
    {
     "name": "stderr",
     "output_type": "stream",
     "text": [
      "\n",
      "100%|██████████| 133/133 [00:00<00:00, 1002.67it/s]\n",
      "100%|██████████| 58/58 [00:00<00:00, 1530.38it/s]\n"
     ]
    }
   ],
   "source": [
    "metric_dict = {}\n",
    "for model in model_dict.keys():\n",
    "    print(f'Current_model - {model}')\n",
    "    pipeline = model_dict[model].build()\n",
    "    tuned_pipeline = tuning_industrial_pipelines(pipeline,tuning_params,train_data)\n",
    "    tuned_pipeline.fit(input_data)\n",
    "    features = tuned_pipeline.predict(val_data).predict\n",
    "    metric = calculate_regression_metric(test_target=test_data[1], labels=features)\n",
    "    metric = metric.T\n",
    "    metric.columns = metric.columns.values\n",
    "    metric['model_params'] = metric['model_params'] = str({node:node.parameters for node in tuned_pipeline.graph_description['nodes']})\n",
    "    metric_dict.update({model: metric})"
   ],
   "metadata": {
    "collapsed": false,
    "pycharm": {
     "name": "#%%\n"
    }
   }
  },
  {
   "cell_type": "code",
   "execution_count": 13,
   "outputs": [
    {
     "data": {
      "text/plain": "                                     r2_score: mean_squared_error:  \\\nregression_with_statistical_features  0.426662            1.855782   \n\n                                     root_mean_squared_error:  \\\nregression_with_statistical_features                 1.362271   \n\n                                     mean_absolute_error  \\\nregression_with_statistical_features            1.056372   \n\n                                     median_absolute_error  \\\nregression_with_statistical_features              0.880141   \n\n                                     explained_variance_score max_error  \\\nregression_with_statistical_features                 0.432458  4.171815   \n\n                                     d2_absolute_error_score  \\\nregression_with_statistical_features                0.265165   \n\n                                                                                                                     model_params  \nregression_with_statistical_features  {ridge: {'alpha': 2.1380306940047142}, quantile_extractor: {'window_size': 0, 'stride': 1}}  ",
      "text/html": "<div>\n<style scoped>\n    .dataframe tbody tr th:only-of-type {\n        vertical-align: middle;\n    }\n\n    .dataframe tbody tr th {\n        vertical-align: top;\n    }\n\n    .dataframe thead th {\n        text-align: right;\n    }\n</style>\n<table border=\"1\" class=\"dataframe\">\n  <thead>\n    <tr style=\"text-align: right;\">\n      <th></th>\n      <th>r2_score:</th>\n      <th>mean_squared_error:</th>\n      <th>root_mean_squared_error:</th>\n      <th>mean_absolute_error</th>\n      <th>median_absolute_error</th>\n      <th>explained_variance_score</th>\n      <th>max_error</th>\n      <th>d2_absolute_error_score</th>\n      <th>model_params</th>\n    </tr>\n  </thead>\n  <tbody>\n    <tr>\n      <th>regression_with_statistical_features</th>\n      <td>0.426662</td>\n      <td>1.855782</td>\n      <td>1.362271</td>\n      <td>1.056372</td>\n      <td>0.880141</td>\n      <td>0.432458</td>\n      <td>4.171815</td>\n      <td>0.265165</td>\n      <td>{ridge: {'alpha': 2.1380306940047142}, quantile_extractor: {'window_size': 0, 'stride': 1}}</td>\n    </tr>\n  </tbody>\n</table>\n</div>"
     },
     "execution_count": 13,
     "metadata": {},
     "output_type": "execute_result"
    }
   ],
   "source": [
    "df_tuned = pd.concat([x for x in metric_dict.values()],axis=0).T\n",
    "df_tuned.columns = list(metric_dict.keys())\n",
    "df_tuned.T.sort_values('root_mean_squared_error:')"
   ],
   "metadata": {
    "collapsed": false,
    "pycharm": {
     "name": "#%%\n"
    }
   }
  },
  {
   "cell_type": "code",
   "execution_count": 14,
   "outputs": [
    {
     "data": {
      "text/plain": "\"{ridge: {'alpha': 2.1380306940047142}, quantile_extractor: {'window_size': 0, 'stride': 1}}\""
     },
     "execution_count": 14,
     "metadata": {},
     "output_type": "execute_result"
    }
   ],
   "source": [
    "df_tuned.T.sort_values('root_mean_squared_error:')['model_params'].iloc[0]"
   ],
   "metadata": {
    "collapsed": false,
    "pycharm": {
     "name": "#%%\n"
    }
   }
  },
  {
   "cell_type": "code",
   "execution_count": 15,
   "outputs": [],
   "source": [
    "best_tuned = df_tuned.T.sort_values('root_mean_squared_error:')['root_mean_squared_error:'].iloc[0]"
   ],
   "metadata": {
    "collapsed": false,
    "pycharm": {
     "name": "#%%\n"
    }
   }
  },
  {
   "cell_type": "markdown",
   "source": [
    "## Even better? AutoML approach"
   ],
   "metadata": {
    "collapsed": false,
    "pycharm": {
     "name": "#%% md\n"
    }
   }
  },
  {
   "cell_type": "code",
   "execution_count": 18,
   "outputs": [
    {
     "name": "stdout",
     "output_type": "stream",
     "text": [
      "2024-01-11 17:23:04,362 - AssumptionsHandler - Memory consumption for fitting of the initial pipeline in main session: current 0.3 MiB, max: 1.8 MiB\n",
      "2024-01-11 17:23:04,364 - ApiComposer - Initial pipeline was fitted in 1.0 sec.\n",
      "2024-01-11 17:23:04,365 - AssumptionsHandler - Preset was changed to best_quality due to fit time estimation for initial model.\n",
      "2024-01-11 17:23:04,373 - ApiComposer - AutoML configured. Parameters tuning: False. Time limit: 10 min. Set of candidate models: ['rfr', 'ridge', 'gbr', 'sgdr', 'linear', 'xgbreg', 'dtreg', 'treg', 'knnreg', 'scaling', 'normalization', 'pcaeigen_basis', 'fourier_basis', 'minirocket_extractor', 'quantile_extractor', 'signal_extractor'].\n",
      "2024-01-11 17:23:04,397 - ApiComposer - Pipeline composition started.\n"
     ]
    },
    {
     "name": "stderr",
     "output_type": "stream",
     "text": [
      "Generations:   0%|          | 0/5 [00:00<?, ?gen/s]"
     ]
    },
    {
     "name": "stdout",
     "output_type": "stream",
     "text": [
      "2024-01-11 17:23:08,018 - IndustrialDispatcher - 2 individuals out of 2 in previous population were evaluated successfully.\n"
     ]
    },
    {
     "name": "stderr",
     "output_type": "stream",
     "text": [
      "\n",
      "SVD estimation:   0%|          | 0/106 [00:00<?, ?it/s]\u001B[A\n",
      "SVD estimation:   8%|▊         | 8/106 [00:00<00:01, 60.24it/s]\u001B[A\n",
      "SVD estimation:  26%|██▋       | 28/106 [00:00<00:00, 132.17it/s]\u001B[A\n",
      "SVD estimation:  42%|████▏     | 45/106 [00:00<00:00, 146.35it/s]\u001B[A\n",
      "SVD estimation:  58%|█████▊    | 61/106 [00:00<00:00, 128.53it/s]\u001B[A\n",
      "\n",
      "  0%|          | 0/106 [00:00<?, ?it/s]\u001B[A\u001B[A\n",
      "SVD estimation:  99%|█████████▉| 105/106 [00:00<00:00, 225.27it/s]\u001B[A\n",
      "\n",
      " 34%|███▍      | 36/106 [00:00<00:00, 247.24it/s]\u001B[A\u001B[A\n",
      "SVD estimation: 136it [00:00, 214.62it/s]                         \u001B[A\n",
      "\n",
      "100%|██████████| 106/106 [00:00<00:00, 240.46it/s][A\u001B[A\n",
      "\n",
      "SVD estimation: 159it [00:01, 150.49it/s]\u001B[A\n",
      "SVD estimation: 212it [00:01, 183.96it/s]\u001B[A\n",
      "\n",
      "  0%|          | 0/27 [00:00<?, ?it/s]\u001B[A\n",
      " 44%|████▍     | 12/27 [00:00<00:00, 46.88it/s]\u001B[A\n",
      " 67%|██████▋   | 18/27 [00:00<00:00, 31.37it/s]\u001B[A\n",
      "100%|██████████| 27/27 [00:00<00:00, 27.10it/s]\u001B[A\n",
      "\n",
      "  0%|          | 0/106 [00:00<?, ?it/s]\u001B[A\n",
      " 34%|███▍      | 36/106 [00:00<00:00, 245.55it/s]\u001B[A\n",
      "100%|██████████| 106/106 [00:00<00:00, 304.54it/s][A\n",
      "\n",
      "  0%|          | 0/27 [00:00<?, ?it/s]\u001B[A\n",
      "\n",
      "  0%|          | 0/106 [00:00<?, ?it/s]\u001B[A\u001B[A\n",
      "\n",
      "  6%|▌         | 6/106 [00:00<00:02, 42.01it/s]\u001B[A\u001B[A\n",
      "\n",
      " 11%|█▏        | 12/106 [00:00<00:01, 50.24it/s]\u001B[A\u001B[A\n",
      " 44%|████▍     | 12/27 [00:00<00:00, 24.29it/s]\u001B[A\n",
      "\n",
      " 17%|█▋        | 18/106 [00:00<00:02, 31.72it/s]\u001B[A\u001B[A\n",
      "\n",
      " 21%|██        | 22/106 [00:00<00:02, 33.02it/s]\u001B[A\u001B[A\n",
      " 67%|██████▋   | 18/27 [00:00<00:00, 21.02it/s]\u001B[A\n",
      "\n",
      " 25%|██▍       | 26/106 [00:00<00:03, 25.90it/s]\u001B[A\u001B[A\n",
      "\n",
      " 28%|██▊       | 30/106 [00:01<00:04, 18.66it/s]\u001B[A\u001B[A\n",
      " 89%|████████▉ | 24/27 [00:01<00:00, 17.61it/s]\u001B[A\n",
      "\n",
      " 31%|███       | 33/106 [00:01<00:03, 19.03it/s]\u001B[A\u001B[A\n",
      "100%|██████████| 27/27 [00:01<00:00, 16.53it/s]\u001B[A\n",
      "\n",
      "\n",
      " 34%|███▍      | 36/106 [00:01<00:05, 13.38it/s]\u001B[A\u001B[A\n",
      "\n",
      "100%|██████████| 106/106 [00:02<00:00, 52.44it/s][A\u001B[A\n",
      "\n",
      "  0%|          | 0/106 [00:00<?, ?it/s]\u001B[A\n",
      " 34%|███▍      | 36/106 [00:00<00:00, 250.67it/s]\u001B[A\n",
      "100%|██████████| 106/106 [00:00<00:00, 247.17it/s][A\n",
      "\n",
      "  0%|          | 0/27 [00:00<?, ?it/s]\u001B[A\n",
      " 44%|████▍     | 12/27 [00:00<00:00, 105.74it/s]\u001B[A\n",
      "100%|██████████| 27/27 [00:00<00:00, 57.87it/s] \u001B[A\n",
      "\n",
      "  0%|          | 0/106 [00:00<?, ?it/s]\u001B[A\n",
      "100%|██████████| 106/106 [00:00<00:00, 312.60it/s][A\n",
      "\n",
      "  0%|          | 0/106 [00:00<?, ?it/s]\u001B[A\n",
      "100%|██████████| 106/106 [00:00<00:00, 648.07it/s][A\n",
      "\n",
      "  0%|          | 0/27 [00:00<?, ?it/s]\u001B[A\n",
      " 44%|████▍     | 12/27 [00:00<00:00, 108.40it/s]\u001B[A\n",
      "100%|██████████| 27/27 [00:00<00:00, 70.26it/s] \u001B[A\n",
      "\n",
      "  0%|          | 0/106 [00:00<?, ?it/s]\u001B[A\n",
      "100%|██████████| 106/106 [00:00<00:00, 957.76it/s][A\n",
      "\n",
      "  0%|          | 0/27 [00:00<?, ?it/s]\u001B[A\n",
      " 44%|████▍     | 12/27 [00:00<00:00, 94.00it/s]\u001B[A\n",
      "100%|██████████| 27/27 [00:00<00:00, 70.86it/s]\u001B[A\n",
      "\n",
      "100%|██████████| 106/106 [00:00<00:00, 1032.16it/s]\n",
      "\n",
      "  0%|          | 0/27 [00:00<?, ?it/s]\u001B[A\n",
      "\n",
      "  0%|          | 0/27 [00:00<?, ?it/s]\u001B[A\u001B[A\n",
      "\n",
      " 22%|██▏       | 6/27 [00:00<00:00, 43.28it/s]\u001B[A\u001B[A\n",
      "\n",
      " 41%|████      | 11/27 [00:00<00:00, 36.13it/s]\u001B[A\u001B[A\n",
      " 44%|████▍     | 12/27 [00:00<00:00, 33.51it/s]\u001B[A\n",
      "\n",
      " 56%|█████▌    | 15/27 [00:00<00:00, 33.06it/s]\u001B[A\u001B[A\n",
      " 59%|█████▉    | 16/27 [00:00<00:00, 21.37it/s]\u001B[A\n",
      "\n",
      " 70%|███████   | 19/27 [00:01<00:00, 20.27it/s]\u001B[A\u001B[A\n",
      " 70%|███████   | 19/27 [00:01<00:00, 16.79it/s]\u001B[A\n",
      "\n",
      " 81%|████████▏ | 22/27 [00:01<00:00, 16.59it/s]\u001B[A\u001B[A\n",
      " 78%|███████▊  | 21/27 [00:01<00:00, 12.85it/s]\u001B[A\n",
      "\n",
      " 89%|████████▉ | 24/27 [00:01<00:00, 13.39it/s]\u001B[A\u001B[A\n",
      " 85%|████████▌ | 23/27 [00:01<00:00, 12.01it/s]\u001B[A\n",
      "\n",
      " 96%|█████████▋| 26/27 [00:01<00:00, 12.46it/s]\u001B[A\u001B[A\n",
      "\n",
      "\n",
      "100%|██████████| 27/27 [00:01<00:00, 16.22it/s]\n",
      "100%|██████████| 27/27 [00:01<00:00, 16.26it/s]\n",
      "\n",
      "\n",
      "\n",
      " 22%|██▏       | 6/27 [00:00<00:00, 52.31it/s]\u001B[A\u001B[A\u001B[A\n",
      "\n",
      "\n",
      " 44%|████▍     | 12/27 [00:00<00:00, 23.81it/s]\u001B[A\u001B[A\u001B[A\n",
      "\n",
      "\n",
      " 59%|█████▉    | 16/27 [00:00<00:00, 25.18it/s]\u001B[A\u001B[A\u001B[A\n",
      "\n",
      "\n",
      "100%|██████████| 27/27 [00:00<00:00, 30.69it/s]\u001B[A\u001B[A\u001B[A\n",
      "\n",
      "  0%|          | 0/107 [00:00<?, ?it/s]\u001B[A\n",
      "100%|██████████| 107/107 [00:00<00:00, 794.71it/s][A\n",
      "\n",
      "  0%|          | 0/107 [00:00<?, ?it/s]\u001B[A\n",
      "\n",
      "  0%|          | 0/106 [00:00<?, ?it/s]\u001B[A\u001B[A\n",
      "\n",
      "\n",
      "  0%|          | 0/26 [00:00<?, ?it/s]\u001B[A\u001B[A\u001B[A\n",
      "\n",
      "\n",
      " 46%|████▌     | 12/26 [00:00<00:00, 84.73it/s]\u001B[A\u001B[A\u001B[A\n",
      " 34%|███▎      | 36/107 [00:00<00:00, 115.69it/s]\u001B[A\n",
      "\n",
      "\n",
      "100%|██████████| 26/26 [00:00<00:00, 53.80it/s]\u001B[A\u001B[A\u001B[A\n",
      "\n",
      " 45%|████▍     | 48/107 [00:00<00:00, 75.67it/s] \u001B[A\n",
      "\n",
      " 34%|███▍      | 36/106 [00:00<00:01, 62.07it/s]\u001B[A\u001B[A\n",
      "\n",
      "\n",
      "  0%|          | 0/107 [00:00<?, ?it/s]\u001B[A\u001B[A\u001B[A\n",
      " 56%|█████▌    | 60/107 [00:00<00:00, 84.19it/s]\u001B[A\n",
      "\n",
      " 57%|█████▋    | 60/106 [00:00<00:00, 94.31it/s]\u001B[A\u001B[A\n",
      "\n",
      "\n",
      " 11%|█         | 12/107 [00:00<00:01, 89.79it/s]\u001B[A\u001B[A\u001B[A\n",
      "100%|██████████| 107/107 [00:00<00:00, 123.52it/s][A\n",
      "\n",
      "\n",
      "100%|██████████| 106/106 [00:00<00:00, 123.65it/s][A\u001B[A\n",
      "\n",
      "\n",
      "\n",
      " 34%|███▎      | 36/107 [00:00<00:00, 124.57it/s]\u001B[A\u001B[A\u001B[A\n",
      "\n",
      "\n",
      "100%|██████████| 107/107 [00:00<00:00, 244.95it/s][A\u001B[A\u001B[A\n",
      "\n",
      "  0%|          | 0/26 [00:00<?, ?it/s]\u001B[A\n",
      " 46%|████▌     | 12/26 [00:00<00:00, 87.82it/s]\u001B[A\n",
      "100%|██████████| 26/26 [00:00<00:00, 62.22it/s]\u001B[A\n",
      "\n",
      "  0%|          | 0/27 [00:00<?, ?it/s]\u001B[A\n",
      "100%|██████████| 27/27 [00:00<00:00, 78.46it/s]\u001B[A\n",
      "\n",
      "  0%|          | 0/107 [00:00<?, ?it/s]\u001B[A\n",
      "100%|██████████| 107/107 [00:00<00:00, 1031.61it/s]A\n",
      "\n",
      "  0%|          | 0/26 [00:00<?, ?it/s]\u001B[A\n",
      " 46%|████▌     | 12/26 [00:00<00:00, 47.00it/s]\u001B[A\n",
      " 69%|██████▉   | 18/26 [00:00<00:00, 27.86it/s]\u001B[A\n",
      "100%|██████████| 26/26 [00:00<00:00, 26.52it/s]\u001B[A\n",
      "\n",
      "  0%|          | 0/107 [00:00<?, ?it/s]\u001B[A\n",
      " 34%|███▎      | 36/107 [00:00<00:00, 305.90it/s]\u001B[A\n",
      "100%|██████████| 107/107 [00:00<00:00, 377.77it/s][A\n",
      "\n",
      "  0%|          | 0/26 [00:00<?, ?it/s]\u001B[A\n",
      " 46%|████▌     | 12/26 [00:00<00:00, 115.68it/s]\u001B[A\n",
      "100%|██████████| 26/26 [00:00<00:00, 51.22it/s] \u001B[A\n",
      "\n",
      "100%|██████████| 107/107 [00:00<00:00, 1083.69it/s]\n",
      "\n",
      "  0%|          | 0/26 [00:00<?, ?it/s]\u001B[A\n",
      "100%|██████████| 26/26 [00:00<00:00, 72.62it/s]\u001B[A\n",
      "\n",
      "  0%|          | 0/26 [00:00<?, ?it/s]\u001B[A\n",
      " 46%|████▌     | 12/26 [00:00<00:00, 50.98it/s]\u001B[A\n",
      " 69%|██████▉   | 18/26 [00:00<00:00, 34.28it/s]\u001B[A\n",
      "100%|██████████| 26/26 [00:00<00:00, 28.17it/s]\u001B[A\n",
      "\n",
      "SVD estimation:   0%|          | 0/106 [00:00<?, ?it/s]\u001B[A\n",
      "SVD estimation: 212it [00:00, 1574.23it/s]             \u001B[A\n",
      "\n",
      "SVD estimation:   0%|          | 0/106 [00:00<?, ?it/s]\u001B[A\n",
      "SVD estimation: 212it [00:00, 1551.59it/s]             \u001B[A\n",
      "\n",
      "SVD estimation:   0%|          | 0/107 [00:00<?, ?it/s]\u001B[A\n",
      "SVD estimation: 214it [00:00, 1532.27it/s]             \u001B[A\n",
      "\n",
      "SVD estimation:   0%|          | 0/107 [00:00<?, ?it/s]\u001B[A\n",
      "SVD estimation: 214it [00:00, 1532.55it/s]             \u001B[A\n"
     ]
    },
    {
     "name": "stdout",
     "output_type": "stream",
     "text": [
      "2024-01-11 17:25:06,035 - IndustrialDispatcher - 12 individuals out of 13 in previous population were evaluated successfully.\n"
     ]
    },
    {
     "name": "stderr",
     "output_type": "stream",
     "text": [
      "\n",
      "  0%|          | 0/106 [00:00<?, ?it/s]\u001B[A\n",
      " 11%|█▏        | 12/106 [00:00<00:06, 13.61it/s]\u001B[A\n",
      " 17%|█▋        | 18/106 [00:01<00:09,  9.68it/s]\u001B[A\n",
      " 23%|██▎       | 24/106 [00:02<00:09,  8.35it/s]\u001B[A\n",
      "\n",
      "  0%|          | 0/106 [00:00<?, ?it/s]\u001B[A\u001B[A\n",
      " 28%|██▊       | 30/106 [00:03<00:09,  7.82it/s]\u001B[A\n",
      " 34%|███▍      | 36/106 [00:04<00:09,  7.68it/s]\u001B[A\n",
      "\n",
      " 11%|█▏        | 12/106 [00:01<00:09,  9.51it/s]\u001B[A\u001B[A\n",
      " 40%|███▉      | 42/106 [00:05<00:08,  7.30it/s]\u001B[A\n",
      "\n",
      " 23%|██▎       | 24/106 [00:02<00:07, 11.42it/s]\u001B[A\u001B[A\n",
      " 45%|████▌     | 48/106 [00:06<00:07,  7.34it/s]\u001B[A\n",
      "\n",
      " 34%|███▍      | 36/106 [00:03<00:05, 12.28it/s]\u001B[A\u001B[A\n",
      " 51%|█████     | 54/106 [00:06<00:07,  7.34it/s]\u001B[A\n",
      " 57%|█████▋    | 60/106 [00:07<00:06,  7.29it/s]\u001B[A\n",
      "\n",
      " 45%|████▌     | 48/106 [00:04<00:05,  9.93it/s]\u001B[A\u001B[A\n",
      " 62%|██████▏   | 66/106 [00:08<00:05,  7.28it/s]\u001B[A\n",
      "\n",
      " 57%|█████▋    | 60/106 [00:05<00:04, 11.05it/s]\u001B[A\u001B[A\n",
      " 68%|██████▊   | 72/106 [00:09<00:04,  7.31it/s]\u001B[A\n",
      "\n",
      " 68%|██████▊   | 72/106 [00:06<00:02, 11.72it/s]\u001B[A\u001B[A\n",
      " 74%|███████▎  | 78/106 [00:10<00:03,  7.33it/s]\u001B[A\n",
      " 79%|███████▉  | 84/106 [00:10<00:02,  7.34it/s]\u001B[A\n",
      "\n",
      " 79%|███████▉  | 84/106 [00:07<00:02, 10.20it/s]\u001B[A\u001B[A\n",
      " 85%|████████▍ | 90/106 [00:11<00:02,  7.13it/s]\u001B[A\n",
      "\n",
      "100%|██████████| 106/106 [00:08<00:00, 12.01it/s][A\u001B[A\n",
      "\n",
      " 91%|█████████ | 96/106 [00:12<00:01,  7.20it/s]\u001B[A\n",
      "100%|██████████| 106/106 [00:13<00:00,  7.83it/s]\u001B[A\n",
      "\n",
      "  0%|          | 0/27 [00:00<?, ?it/s]\u001B[A\n",
      "100%|██████████| 27/27 [00:00<00:00, 100.27it/s]\u001B[A\n",
      "\n",
      "  0%|          | 0/106 [00:00<?, ?it/s]\u001B[A\n",
      " 11%|█▏        | 12/106 [00:00<00:03, 25.17it/s]\u001B[A\n",
      " 40%|███▉      | 42/106 [00:00<00:00, 86.21it/s]\u001B[A\n",
      "100%|██████████| 106/106 [00:00<00:00, 144.60it/s]\u001B[A\n",
      "\n",
      "  0%|          | 0/27 [00:00<?, ?it/s]\u001B[A\n",
      "\n",
      "  0%|          | 0/27 [00:00<?, ?it/s]\u001B[A\u001B[A\n",
      "\n",
      "100%|██████████| 27/27 [00:00<00:00, 93.92it/s]\u001B[A\u001B[A\n",
      "\n",
      "\n",
      "  0%|          | 0/106 [00:00<?, ?it/s]\u001B[A\u001B[A\n",
      "\n",
      " 23%|██▎       | 24/106 [00:00<00:00, 239.66it/s]\u001B[A\u001B[A\n",
      "\n",
      "100%|██████████| 106/106 [00:00<00:00, 422.75it/s][A\u001B[A\n",
      "\n",
      "\n",
      "  0%|          | 0/27 [00:00<?, ?it/s]\u001B[A\u001B[A\n",
      "\n",
      "100%|██████████| 27/27 [00:00<00:00, 109.82it/s]\u001B[A\u001B[A\n",
      "\n",
      "\n",
      "  0%|          | 0/107 [00:00<?, ?it/s]\u001B[A\u001B[A\n",
      "\n",
      "100%|██████████| 107/107 [00:00<00:00, 586.25it/s][A\u001B[A\n",
      "\n",
      "\n",
      "  0%|          | 0/26 [00:00<?, ?it/s]\u001B[A\u001B[A\n",
      "\n",
      "100%|██████████| 26/26 [00:00<00:00, 78.89it/s]\u001B[A\u001B[A\n",
      "\n",
      "\n",
      "  0%|          | 0/107 [00:00<?, ?it/s]\u001B[A\u001B[A\n",
      "\n",
      "100%|██████████| 107/107 [00:00<00:00, 536.43it/s][A\u001B[A\n",
      "\n",
      "\n",
      "  0%|          | 0/26 [00:00<?, ?it/s]\u001B[A\u001B[A\n",
      "\n",
      " 46%|████▌     | 12/26 [00:00<00:00, 67.15it/s]\u001B[A\u001B[A\n",
      "\n",
      " 73%|███████▎  | 19/26 [00:00<00:00, 43.33it/s]\u001B[A\u001B[A\n",
      "\n",
      "100%|██████████| 26/26 [00:00<00:00, 44.38it/s]\u001B[A\u001B[A\n",
      "\n",
      "\n",
      "  0%|          | 0/106 [00:00<?, ?it/s]\u001B[A\u001B[A\n",
      "\n",
      "100%|██████████| 106/106 [00:00<00:00, 748.47it/s][A\u001B[A\n",
      "\n",
      " 44%|████▍     | 12/27 [00:22<00:27,  1.84s/it]\u001B[A\n",
      " 67%|██████▋   | 18/27 [00:31<00:15,  1.76s/it]\u001B[A\n",
      "\n",
      "  0%|          | 0/27 [00:00<?, ?it/s]\u001B[A\u001B[A\n",
      "\n",
      " 67%|██████▋   | 18/27 [00:00<00:00, 87.83it/s]\u001B[A\u001B[A\n",
      "\n",
      "100%|██████████| 27/27 [00:00<00:00, 57.67it/s]\u001B[A\u001B[A\n",
      "\n",
      "\n",
      "  0%|          | 0/106 [00:00<?, ?it/s]\u001B[A\u001B[A\n",
      "\n",
      "100%|██████████| 106/106 [00:00<00:00, 878.16it/s][A\u001B[A\n",
      "\n",
      "100%|██████████| 27/27 [00:43<00:00,  1.60s/it]\u001B[A\n",
      "\n",
      "  0%|          | 0/106 [00:00<?, ?it/s]\u001B[A\n",
      " 11%|█▏        | 12/106 [00:00<00:07, 13.19it/s]\u001B[A\n",
      " 17%|█▋        | 18/106 [00:01<00:09,  9.31it/s]\u001B[A\n",
      " 23%|██▎       | 24/106 [00:02<00:09,  8.24it/s]\u001B[A\n",
      " 28%|██▊       | 30/106 [00:03<00:09,  7.76it/s]\u001B[A\n",
      " 34%|███▍      | 36/106 [00:04<00:09,  7.39it/s]\u001B[A\n",
      " 40%|███▉      | 42/106 [00:05<00:09,  7.11it/s]\u001B[A\n",
      " 45%|████▌     | 48/106 [00:06<00:08,  7.04it/s]\u001B[A\n",
      " 51%|█████     | 54/106 [00:07<00:07,  6.95it/s]\u001B[A\n",
      " 57%|█████▋    | 60/106 [00:07<00:06,  6.92it/s]\u001B[A\n",
      "\n",
      "  0%|          | 0/27 [00:00<?, ?it/s]\u001B[A\u001B[A\n",
      "\n",
      " 44%|████▍     | 12/27 [00:00<00:00, 90.56it/s]\u001B[A\u001B[A\n",
      "\n",
      "100%|██████████| 27/27 [00:00<00:00, 57.62it/s]\u001B[A\u001B[A\n",
      "\n",
      " 62%|██████▏   | 66/106 [00:08<00:05,  6.73it/s]\u001B[A\n",
      " 68%|██████▊   | 72/106 [00:09<00:04,  6.94it/s]\u001B[A\n",
      " 74%|███████▎  | 78/106 [00:10<00:03,  7.03it/s]\u001B[A\n",
      " 79%|███████▉  | 84/106 [00:11<00:03,  7.05it/s]\u001B[A\n",
      " 85%|████████▍ | 90/106 [00:12<00:02,  7.11it/s]\u001B[A\n",
      " 91%|█████████ | 96/106 [00:13<00:01,  7.06it/s]\u001B[A\n",
      "100%|██████████| 106/106 [00:13<00:00,  7.60it/s]\u001B[A\n",
      "\n",
      "  0%|          | 0/106 [00:00<?, ?it/s]\u001B[A\n",
      "100%|██████████| 106/106 [00:00<00:00, 508.30it/s][A\n",
      "\n",
      "  0%|          | 0/27 [00:00<?, ?it/s]\u001B[A\n",
      " 44%|████▍     | 12/27 [00:10<00:12,  1.15it/s]\u001B[A\n",
      " 67%|██████▋   | 18/27 [00:20<00:11,  1.23s/it]\u001B[A\n",
      "\n",
      "  0%|          | 0/27 [00:00<?, ?it/s]\u001B[A\u001B[A\n",
      "\n",
      " 44%|████▍     | 12/27 [00:00<00:00, 100.33it/s]\u001B[A\u001B[A\n",
      "\n",
      "100%|██████████| 27/27 [00:00<00:00, 72.54it/s] \u001B[A\u001B[A\n",
      "\n",
      "\n",
      "  0%|          | 0/107 [00:00<?, ?it/s]\u001B[A\u001B[A\n",
      "\n",
      "100%|██████████| 107/107 [00:00<00:00, 734.83it/s][A\u001B[A\n",
      "\n",
      "100%|██████████| 27/27 [00:33<00:00,  1.23s/it]\u001B[A\n",
      "\n",
      "  0%|          | 0/106 [00:00<?, ?it/s]\u001B[A\n",
      " 11%|█▏        | 12/106 [00:00<00:06, 13.71it/s]\u001B[A\n",
      " 17%|█▋        | 18/106 [00:01<00:09,  9.00it/s]\u001B[A\n",
      "\n",
      "  0%|          | 0/26 [00:00<?, ?it/s]\u001B[A\u001B[A\n",
      "\n",
      " 46%|████▌     | 12/26 [00:00<00:00, 84.14it/s]\u001B[A\u001B[A\n",
      "\n",
      "100%|██████████| 26/26 [00:00<00:00, 52.69it/s]\u001B[A\u001B[A\n",
      "\n",
      " 23%|██▎       | 24/106 [00:02<00:10,  8.13it/s]\u001B[A\n",
      " 28%|██▊       | 30/106 [00:03<00:10,  7.47it/s]\u001B[A\n",
      " 34%|███▍      | 36/106 [00:04<00:09,  7.17it/s]\u001B[A\n",
      " 40%|███▉      | 42/106 [00:05<00:09,  7.05it/s]\u001B[A\n",
      " 45%|████▌     | 48/106 [00:06<00:08,  6.98it/s]\u001B[A\n",
      " 51%|█████     | 54/106 [00:07<00:07,  6.93it/s]\u001B[A\n",
      " 57%|█████▋    | 60/106 [00:08<00:06,  6.78it/s]\u001B[A\n",
      " 62%|██████▏   | 66/106 [00:08<00:05,  6.79it/s]\u001B[A\n",
      " 68%|██████▊   | 72/106 [00:09<00:04,  6.84it/s]\u001B[A\n",
      " 74%|███████▎  | 78/106 [00:10<00:04,  6.93it/s]\u001B[A\n",
      " 79%|███████▉  | 84/106 [00:11<00:03,  6.96it/s]\u001B[A\n",
      " 85%|████████▍ | 90/106 [00:12<00:02,  6.83it/s]\u001B[A\n",
      " 91%|█████████ | 96/106 [00:13<00:01,  6.69it/s]\u001B[A\n",
      "100%|██████████| 106/106 [00:14<00:00,  7.42it/s]\u001B[A\n",
      "\n",
      "  0%|          | 0/107 [00:00<?, ?it/s]\u001B[A\n",
      "100%|██████████| 107/107 [00:00<00:00, 519.20it/s][A\n",
      "\n",
      "  0%|          | 0/27 [00:00<?, ?it/s]\u001B[A\n",
      " 44%|████▍     | 12/27 [00:10<00:12,  1.16it/s]\u001B[A\n",
      " 67%|██████▋   | 18/27 [00:20<00:11,  1.22s/it]\u001B[A\n",
      "\n",
      "  0%|          | 0/26 [00:00<?, ?it/s]\u001B[A\u001B[A\n",
      "\n",
      " 46%|████▌     | 12/26 [00:00<00:00, 108.96it/s]\u001B[A\u001B[A\n",
      "\n",
      "100%|██████████| 26/26 [00:00<00:00, 66.05it/s] \u001B[A\u001B[A\n",
      "\n",
      "100%|██████████| 27/27 [00:32<00:00,  1.19s/it]\u001B[A\n",
      "\n",
      "  0%|          | 0/107 [00:00<?, ?it/s]\u001B[A\n",
      " 11%|█         | 12/107 [00:00<00:06, 14.39it/s]\u001B[A\n",
      " 17%|█▋        | 18/107 [00:01<00:08, 10.20it/s]\u001B[A\n",
      " 22%|██▏       | 24/107 [00:02<00:09,  8.68it/s]\u001B[A\n",
      " 28%|██▊       | 30/107 [00:03<00:09,  8.03it/s]\u001B[A\n",
      " 34%|███▎      | 36/107 [00:04<00:09,  7.57it/s]\u001B[A\n",
      " 39%|███▉      | 42/107 [00:05<00:08,  7.44it/s]\u001B[A\n",
      " 45%|████▍     | 48/107 [00:05<00:08,  7.33it/s]\u001B[A\n",
      " 50%|█████     | 54/107 [00:06<00:07,  7.30it/s]\u001B[A\n",
      " 56%|█████▌    | 60/107 [00:07<00:06,  7.24it/s]\u001B[A\n",
      " 62%|██████▏   | 66/107 [00:08<00:05,  7.19it/s]\u001B[A\n",
      " 67%|██████▋   | 72/107 [00:09<00:04,  7.18it/s]\u001B[A\n",
      " 73%|███████▎  | 78/107 [00:10<00:04,  7.14it/s]\u001B[A\n",
      " 79%|███████▊  | 84/107 [00:10<00:03,  7.17it/s]\u001B[A\n",
      " 84%|████████▍ | 90/107 [00:11<00:02,  7.19it/s]\u001B[A\n",
      " 90%|████████▉ | 96/107 [00:12<00:01,  7.19it/s]\u001B[A\n",
      "100%|██████████| 107/107 [00:13<00:00,  7.92it/s]\u001B[A\n",
      "\n",
      "  0%|          | 0/26 [00:00<?, ?it/s]\u001B[A\n",
      " 46%|████▌     | 12/26 [00:10<00:11,  1.19it/s]\u001B[A\n",
      " 69%|██████▉   | 18/26 [00:20<00:09,  1.20s/it]\u001B[A\n",
      "100%|██████████| 26/26 [00:30<00:00,  1.17s/it]\u001B[A\n",
      "\n",
      "  0%|          | 0/107 [00:00<?, ?it/s]\u001B[A\n",
      " 11%|█         | 12/107 [00:00<00:06, 14.64it/s]\u001B[A\n",
      " 17%|█▋        | 18/107 [00:01<00:08, 10.27it/s]\u001B[A\n",
      " 22%|██▏       | 24/107 [00:02<00:09,  8.90it/s]\u001B[A\n",
      " 28%|██▊       | 30/107 [00:03<00:09,  8.20it/s]\u001B[A\n",
      " 34%|███▎      | 36/107 [00:04<00:09,  7.73it/s]\u001B[A\n",
      " 39%|███▉      | 42/107 [00:05<00:08,  7.53it/s]\u001B[A\n",
      " 45%|████▍     | 48/107 [00:05<00:07,  7.38it/s]\u001B[A\n",
      " 50%|█████     | 54/107 [00:06<00:07,  7.32it/s]\u001B[A\n",
      " 56%|█████▌    | 60/107 [00:07<00:06,  7.26it/s]\u001B[A\n",
      " 62%|██████▏   | 66/107 [00:08<00:05,  7.22it/s]\u001B[A\n",
      " 67%|██████▋   | 72/107 [00:09<00:04,  7.21it/s]\u001B[A\n",
      " 73%|███████▎  | 78/107 [00:10<00:04,  7.18it/s]\u001B[A\n",
      " 79%|███████▊  | 84/107 [00:10<00:03,  7.18it/s]\u001B[A\n",
      " 84%|████████▍ | 90/107 [00:11<00:02,  7.20it/s]\u001B[A\n",
      " 90%|████████▉ | 96/107 [00:12<00:01,  7.19it/s]\u001B[A\n",
      "100%|██████████| 107/107 [00:13<00:00,  7.98it/s]\u001B[A\n",
      "\n",
      "  0%|          | 0/26 [00:00<?, ?it/s]\u001B[A\n",
      " 46%|████▌     | 12/26 [00:10<00:11,  1.19it/s]\u001B[A\n",
      " 69%|██████▉   | 18/26 [00:19<00:09,  1.17s/it]\u001B[A\n",
      "100%|██████████| 26/26 [00:29<00:00,  1.14s/it]\u001B[A\n"
     ]
    },
    {
     "name": "stdout",
     "output_type": "stream",
     "text": [
      "2024-01-11 17:30:32,970 - IndustrialDispatcher - 8 individuals out of 8 in previous population were evaluated successfully.\n"
     ]
    },
    {
     "name": "stderr",
     "output_type": "stream",
     "text": [
      "\n",
      "  0%|          | 0/106 [00:00<?, ?it/s]\u001B[A\n",
      "100%|██████████| 106/106 [00:00<00:00, 893.10it/s][A\n",
      "\n",
      "  0%|          | 0/106 [00:00<?, ?it/s]\u001B[A\n",
      "Generations:  20%|██        | 1/5 [07:43<30:53, 463.32s/gen]"
     ]
    },
    {
     "name": "stdout",
     "output_type": "stream",
     "text": [
      "2024-01-11 17:30:47,750 - GroupedCondition - Optimisation stopped: Time limit is reached\n"
     ]
    },
    {
     "name": "stderr",
     "output_type": "stream",
     "text": [
      "Generations:  20%|██        | 1/5 [07:43<30:53, 463.35s/gen]"
     ]
    },
    {
     "name": "stdout",
     "output_type": "stream",
     "text": [
      "2024-01-11 17:30:47,869 - ApiComposer - Model generation finished\n"
     ]
    },
    {
     "name": "stderr",
     "output_type": "stream",
     "text": [
      "\n"
     ]
    },
    {
     "name": "stdout",
     "output_type": "stream",
     "text": [
      "2024-01-11 17:30:48,329 - FEDOT logger - Final pipeline was fitted\n",
      "2024-01-11 17:30:48,330 - FEDOT logger - Final pipeline: {'depth': 1, 'length': 1, 'nodes': [treg]}\n",
      "treg - {}\n",
      "2024-01-11 17:30:48,331 - MemoryAnalytics - Memory consumption for finish in main session: current 0.8 MiB, max: 33.8 MiB\n",
      "2024-01-11 17:30:49,281 - AssumptionsHandler - Memory consumption for fitting of the initial pipeline in main session: current 0.3 MiB, max: 1.8 MiB\n",
      "2024-01-11 17:30:49,282 - ApiComposer - Initial pipeline was fitted in 0.9 sec.\n",
      "2024-01-11 17:30:49,283 - AssumptionsHandler - Preset was changed to best_quality due to fit time estimation for initial model.\n",
      "2024-01-11 17:30:49,291 - ApiComposer - AutoML configured. Parameters tuning: False. Time limit: 10 min. Set of candidate models: ['rfr', 'ridge', 'gbr', 'sgdr', 'linear', 'xgbreg', 'dtreg', 'treg', 'knnreg', 'scaling', 'normalization', 'pcaeigen_basis', 'fourier_basis', 'minirocket_extractor', 'quantile_extractor', 'signal_extractor'].\n",
      "2024-01-11 17:30:49,315 - ApiComposer - Pipeline composition started.\n"
     ]
    },
    {
     "name": "stderr",
     "output_type": "stream",
     "text": [
      "Generations:   0%|          | 0/5 [00:00<?, ?gen/s]"
     ]
    },
    {
     "name": "stdout",
     "output_type": "stream",
     "text": [
      "2024-01-11 17:30:52,993 - IndustrialDispatcher - 2 individuals out of 2 in previous population were evaluated successfully.\n"
     ]
    },
    {
     "name": "stderr",
     "output_type": "stream",
     "text": [
      "\n",
      "100%|██████████| 106/106 [00:00<00:00, 1106.84it/s]\n",
      "\n",
      "  0%|          | 0/27 [00:00<?, ?it/s]\u001B[A\n",
      "100%|██████████| 27/27 [00:00<00:00, 174.74it/s]\u001B[A\n",
      "\n",
      "100%|██████████| 106/106 [00:00<00:00, 1933.94it/s]\n",
      "\n",
      "  0%|          | 0/27 [00:00<?, ?it/s]\u001B[A\n",
      "100%|██████████| 27/27 [00:00<00:00, 189.32it/s]\u001B[A\n",
      "\n",
      "100%|██████████| 106/106 [00:00<00:00, 1635.18it/s]\n",
      "\n",
      "  0%|          | 0/27 [00:00<?, ?it/s]\u001B[A\n",
      "100%|██████████| 27/27 [00:00<00:00, 172.47it/s]\u001B[A\n",
      "\n",
      "100%|██████████| 107/107 [00:00<00:00, 1730.43it/s]\n",
      "\n",
      "  0%|          | 0/26 [00:00<?, ?it/s]\u001B[A\n",
      "100%|██████████| 26/26 [00:00<00:00, 166.32it/s]\u001B[A\n",
      "\n",
      "100%|██████████| 107/107 [00:00<00:00, 1233.16it/s]\n",
      "\n",
      "SVD estimation:   0%|          | 0/106 [00:00<?, ?it/s]\u001B[A\n",
      "SVD estimation:  35%|███▍      | 37/106 [00:00<00:00, 367.22it/s]\u001B[A\n",
      "\n",
      "  0%|          | 0/26 [00:00<?, ?it/s]\u001B[A\u001B[A\n",
      "\n",
      "100%|██████████| 26/26 [00:00<00:00, 178.56it/s]\u001B[A\u001B[A\n",
      "\n",
      "SVD estimation:  70%|██████▉   | 74/106 [00:00<00:00, 223.10it/s]\u001B[A\n",
      "SVD estimation:  94%|█████████▍| 100/106 [00:00<00:00, 190.86it/s]\u001B[A\n",
      "SVD estimation: 166it [00:00, 321.69it/s]                         \u001B[A\n",
      "SVD estimation: 212it [00:00, 293.20it/s]\u001B[A\n",
      "\n",
      "  0%|          | 0/106 [00:00<?, ?it/s]\u001B[A\n",
      "100%|██████████| 106/106 [00:00<00:00, 503.71it/s][A\n",
      "\n",
      "  0%|          | 0/27 [00:00<?, ?it/s]\u001B[A\n",
      " 44%|████▍     | 12/27 [00:00<00:00, 68.75it/s]\u001B[A\n",
      " 70%|███████   | 19/27 [00:00<00:00, 44.43it/s]\u001B[A\n",
      "100%|██████████| 27/27 [00:00<00:00, 36.29it/s]\u001B[A\n",
      "\n",
      "SVD estimation:   0%|          | 0/106 [00:00<?, ?it/s]\u001B[A\n",
      "SVD estimation:  57%|█████▋    | 60/106 [00:00<00:00, 589.83it/s]\u001B[A\n",
      "SVD estimation: 119it [00:00, 587.39it/s]                        \u001B[A\n",
      "SVD estimation: 212it [00:00, 602.18it/s]\u001B[A\n",
      "\n",
      "  0%|          | 0/106 [00:00<?, ?it/s]\u001B[A\n",
      "100%|██████████| 106/106 [00:00<00:00, 506.11it/s][A\n",
      "\n",
      "  0%|          | 0/27 [00:00<?, ?it/s]\u001B[A\n",
      " 44%|████▍     | 12/27 [00:00<00:00, 86.56it/s]\u001B[A\n",
      " 78%|███████▊  | 21/27 [00:00<00:00, 49.19it/s]\u001B[A\n",
      "100%|██████████| 27/27 [00:00<00:00, 38.11it/s]\u001B[A\n",
      "\n",
      "SVD estimation:   0%|          | 0/106 [00:00<?, ?it/s]\u001B[A\n",
      "SVD estimation:  45%|████▌     | 48/106 [00:00<00:00, 476.52it/s]\u001B[A\n",
      "SVD estimation:  96%|█████████▌| 102/106 [00:00<00:00, 511.65it/s]\u001B[A\n",
      "SVD estimation: 154it [00:00, 469.13it/s]                         \u001B[A\n",
      "SVD estimation: 212it [00:00, 487.58it/s]\u001B[A\n",
      "\n",
      "  0%|          | 0/106 [00:00<?, ?it/s]\u001B[A\n",
      " 23%|██▎       | 24/106 [00:00<00:00, 151.35it/s]\u001B[A\n",
      "100%|██████████| 106/106 [00:00<00:00, 359.07it/s][A\n",
      "\n",
      "  0%|          | 0/27 [00:00<?, ?it/s]\u001B[A\n",
      " 44%|████▍     | 12/27 [00:00<00:00, 57.30it/s]\u001B[A\n",
      " 67%|██████▋   | 18/27 [00:00<00:00, 42.47it/s]\u001B[A\n",
      "100%|██████████| 27/27 [00:00<00:00, 43.54it/s]\u001B[A\n",
      "\n",
      "SVD estimation:   0%|          | 0/107 [00:00<?, ?it/s]\u001B[A\n",
      "SVD estimation: 214it [00:00, 1440.08it/s]             \u001B[A\n",
      "\n",
      "  0%|          | 0/107 [00:00<?, ?it/s]\u001B[A\n",
      "100%|██████████| 107/107 [00:00<00:00, 547.38it/s][A\n",
      "\n",
      "  0%|          | 0/26 [00:00<?, ?it/s]\u001B[A\n",
      " 46%|████▌     | 12/26 [00:00<00:00, 63.00it/s]\u001B[A\n",
      " 73%|███████▎  | 19/26 [00:00<00:00, 48.14it/s]\u001B[A\n",
      "100%|██████████| 26/26 [00:00<00:00, 34.76it/s]\u001B[A\n",
      "\n",
      "SVD estimation:   0%|          | 0/107 [00:00<?, ?it/s]\u001B[A\n",
      "SVD estimation: 214it [00:00, 1285.01it/s]             \u001B[A\n",
      "\n",
      "  0%|          | 0/107 [00:00<?, ?it/s]\u001B[A\n",
      "100%|██████████| 107/107 [00:00<00:00, 583.08it/s][A\n",
      "\n",
      "  0%|          | 0/26 [00:00<?, ?it/s]\u001B[A\n",
      " 46%|████▌     | 12/26 [00:00<00:00, 63.00it/s]\u001B[A\n",
      " 73%|███████▎  | 19/26 [00:00<00:00, 46.27it/s]\u001B[A\n",
      "100%|██████████| 26/26 [00:00<00:00, 32.25it/s]\u001B[A\n"
     ]
    },
    {
     "name": "stdout",
     "output_type": "stream",
     "text": [
      "2024-01-11 17:32:40,928 - IndustrialDispatcher - 11 individuals out of 13 in previous population were evaluated successfully.\n"
     ]
    },
    {
     "name": "stderr",
     "output_type": "stream",
     "text": [
      "\n",
      "  0%|          | 0/106 [00:00<?, ?it/s]\u001B[A\n",
      "\n",
      "  0%|          | 0/106 [00:00<?, ?it/s]\u001B[A\u001B[A\n",
      "  1%|          | 1/106 [00:00<00:12,  8.42it/s]\u001B[A\n",
      "\n",
      "\n",
      "  0%|          | 0/106 [00:00<?, ?it/s]\u001B[A\u001B[A\u001B[A\n",
      "  6%|▌         | 6/106 [00:00<00:04, 23.30it/s]\u001B[A\n",
      "\n",
      "  6%|▌         | 6/106 [00:00<00:04, 24.16it/s]\u001B[A\u001B[A\n",
      "\n",
      " 11%|█▏        | 12/106 [00:04<00:43,  2.14it/s]\u001B[A\u001B[A\n",
      "\n",
      "\n",
      " 11%|█▏        | 12/106 [00:04<00:36,  2.60it/s]\u001B[A\u001B[A\u001B[A\n",
      " 11%|█▏        | 12/106 [00:05<00:52,  1.80it/s]\u001B[A\n",
      "\n",
      "\n",
      " 17%|█▋        | 18/106 [00:05<00:25,  3.47it/s]\u001B[A\u001B[A\u001B[A\n",
      " 17%|█▋        | 18/106 [00:06<00:32,  2.67it/s]\u001B[A\n",
      "\n",
      " 17%|█▋        | 18/106 [00:06<00:34,  2.57it/s]\u001B[A\u001B[A\n",
      "\n",
      "\n",
      " 23%|██▎       | 24/106 [00:06<00:19,  4.25it/s]\u001B[A\u001B[A\u001B[A\n",
      " 23%|██▎       | 24/106 [00:07<00:23,  3.53it/s]\u001B[A\n",
      "\n",
      " 28%|██▊       | 30/106 [00:07<00:16,  4.72it/s]\u001B[A\u001B[A\n",
      " 28%|██▊       | 30/106 [00:08<00:17,  4.37it/s]\u001B[A\n",
      "\n",
      " 34%|███▍      | 36/106 [00:08<00:13,  5.31it/s]\u001B[A\u001B[A\n",
      "\n",
      "\n",
      " 34%|███▍      | 36/106 [00:08<00:12,  5.38it/s]\u001B[A\u001B[A\u001B[A\n",
      " 34%|███▍      | 36/106 [00:09<00:13,  5.01it/s]\u001B[A\n",
      "\n",
      " 40%|███▉      | 42/106 [00:09<00:11,  5.74it/s]\u001B[A\u001B[A\n",
      "\n",
      "\n",
      " 45%|████▌     | 48/106 [00:08<00:07,  7.26it/s]\u001B[A\u001B[A\u001B[A\n",
      " 40%|███▉      | 42/106 [00:10<00:11,  5.56it/s]\u001B[A\n",
      "\n",
      " 51%|█████     | 54/106 [00:09<00:06,  7.88it/s]\u001B[A\u001B[A\n",
      " 45%|████▌     | 48/106 [00:10<00:09,  6.03it/s]\u001B[A\n",
      "\n",
      " 57%|█████▋    | 60/106 [00:10<00:05,  7.71it/s]\u001B[A\u001B[A\n",
      "\n",
      "\n",
      " 57%|█████▋    | 60/106 [00:10<00:06,  7.28it/s]\u001B[A\u001B[A\u001B[A\n",
      " 51%|█████     | 54/106 [00:11<00:08,  6.25it/s]\u001B[A\n",
      "\n",
      " 68%|██████▊   | 72/106 [00:11<00:03,  9.32it/s]\u001B[A\u001B[A\n",
      "\n",
      "\n",
      " 68%|██████▊   | 72/106 [00:11<00:03,  8.62it/s]\u001B[A\u001B[A\u001B[A\n",
      "\n",
      " 74%|███████▎  | 78/106 [00:11<00:02, 11.39it/s]\u001B[A\u001B[A\n",
      " 57%|█████▋    | 60/106 [00:12<00:07,  6.53it/s]\u001B[A\n",
      "\n",
      " 79%|███████▉  | 84/106 [00:12<00:02,  9.74it/s]\u001B[A\u001B[A\n",
      " 62%|██████▏   | 66/106 [00:13<00:05,  6.73it/s]\u001B[A\n",
      "\n",
      "\n",
      " 79%|███████▉  | 84/106 [00:13<00:02,  8.22it/s]\u001B[A\u001B[A\u001B[A\n",
      "\n",
      " 85%|████████▍ | 90/106 [00:13<00:01,  9.62it/s]\u001B[A\u001B[A\n",
      " 68%|██████▊   | 72/106 [00:14<00:05,  6.76it/s]\u001B[A\n",
      "\n",
      " 91%|█████████ | 96/106 [00:14<00:01,  8.77it/s]\u001B[A\u001B[A\n",
      "\n",
      "\n",
      "100%|██████████| 106/106 [00:14<00:00,  7.53it/s][A\u001B[A\u001B[A\n",
      "\n",
      "\n",
      "100%|██████████| 106/106 [00:14<00:00,  7.37it/s]\u001B[A\u001B[A\n",
      "\n",
      " 74%|███████▎  | 78/106 [00:15<00:04,  6.87it/s]\u001B[A\n",
      " 79%|███████▉  | 84/106 [00:16<00:03,  6.75it/s]\u001B[A\n",
      "\n",
      "  0%|          | 0/27 [00:00<?, ?it/s]\u001B[A\u001B[A\n",
      "\n",
      " 44%|████▍     | 12/27 [00:00<00:00, 114.59it/s]\u001B[A\u001B[A\n",
      "\n",
      "100%|██████████| 27/27 [00:00<00:00, 53.82it/s] \u001B[A\u001B[A\n",
      "\n",
      " 85%|████████▍ | 90/106 [00:17<00:02,  6.43it/s]\u001B[A\n",
      "\n",
      "  0%|          | 0/106 [00:00<?, ?it/s]\u001B[A\u001B[A\n",
      "\n",
      "\n",
      "  0%|          | 0/27 [00:00<?, ?it/s]\u001B[A\u001B[A\u001B[A\n",
      "\n",
      "\n",
      " 44%|████▍     | 12/27 [00:00<00:00, 81.22it/s]\u001B[A\u001B[A\u001B[A\n",
      "\n",
      "\n",
      "100%|██████████| 27/27 [00:00<00:00, 60.72it/s]\u001B[A\u001B[A\u001B[A\n",
      "\n",
      "\n",
      "\n",
      "  0%|          | 0/106 [00:00<?, ?it/s]\u001B[A\u001B[A\u001B[A\n",
      " 91%|█████████ | 96/106 [00:17<00:01,  6.47it/s]\u001B[A\n",
      "\n",
      " 11%|█▏        | 12/106 [00:00<00:07, 12.78it/s]\u001B[A\u001B[A\n",
      "100%|██████████| 106/106 [00:18<00:00,  5.64it/s]\u001B[A\n",
      "\n",
      "\n",
      "\n",
      " 11%|█▏        | 12/106 [00:00<00:07, 13.21it/s]\u001B[A\u001B[A\u001B[A\n",
      "\n",
      " 23%|██▎       | 24/106 [00:02<00:07, 11.21it/s]\u001B[A\u001B[A\n",
      "\n",
      "\n",
      " 23%|██▎       | 24/106 [00:01<00:06, 13.03it/s]\u001B[A\u001B[A\u001B[A\n",
      "\n",
      " 34%|███▍      | 36/106 [00:02<00:05, 13.89it/s]\u001B[A\u001B[A\n",
      "\n",
      "\n",
      " 34%|███▍      | 36/106 [00:02<00:03, 18.73it/s]\u001B[A\u001B[A\u001B[A\n",
      "\n",
      " 45%|████▌     | 48/106 [00:02<00:02, 19.37it/s]\u001B[A\u001B[A\n",
      "\n",
      "\n",
      " 45%|████▌     | 48/106 [00:02<00:02, 24.50it/s]\u001B[A\u001B[A\u001B[A\n",
      "\n",
      " 57%|█████▋    | 60/106 [00:03<00:01, 25.66it/s]\u001B[A\u001B[A\n",
      "\n",
      "\n",
      " 57%|█████▋    | 60/106 [00:02<00:01, 33.68it/s]\u001B[A\u001B[A\u001B[A\n",
      "\n",
      "100%|██████████| 106/106 [00:03<00:00, 31.84it/s][A\u001B[A\n",
      "\n",
      "\n",
      "\n",
      "100%|██████████| 106/106 [00:02<00:00, 39.15it/s][A\u001B[A\u001B[A\n",
      "\n",
      "  0%|          | 0/106 [00:00<?, ?it/s]\u001B[A\n",
      "100%|██████████| 106/106 [00:00<00:00, 488.99it/s][A\n",
      "\n",
      "  0%|          | 0/27 [00:00<?, ?it/s]\u001B[A\n",
      " 44%|████▍     | 12/27 [00:00<00:00, 90.47it/s]\u001B[A\n",
      "100%|██████████| 27/27 [00:00<00:00, 50.21it/s]\u001B[A\n",
      "\n",
      "\n",
      "  0%|          | 0/27 [00:00<?, ?it/s]\u001B[A\u001B[A\n",
      "  0%|          | 0/106 [00:00<?, ?it/s]\u001B[A\n",
      " 11%|█▏        | 12/106 [00:00<00:03, 27.03it/s]\u001B[A\n",
      " 17%|█▋        | 18/106 [00:00<00:02, 32.19it/s]\u001B[A\n",
      " 23%|██▎       | 24/106 [00:00<00:02, 35.31it/s]\u001B[A\n",
      " 28%|██▊       | 30/106 [00:00<00:01, 38.31it/s]\u001B[A\n",
      " 40%|███▉      | 42/106 [00:01<00:01, 52.87it/s]\u001B[A\n",
      "100%|██████████| 106/106 [00:01<00:00, 89.08it/s][A\n",
      "\n",
      "  0%|          | 0/27 [00:00<?, ?it/s]\u001B[A\n",
      " 44%|████▍     | 12/27 [00:00<00:00, 75.34it/s]\u001B[A\n",
      " 74%|███████▍  | 20/27 [00:00<00:00, 67.82it/s]\u001B[A\n",
      "100%|██████████| 27/27 [00:00<00:00, 48.31it/s]\u001B[A\n",
      "\n",
      "  0%|          | 0/107 [00:00<?, ?it/s]\u001B[A\n",
      " 34%|███▎      | 36/107 [00:00<00:00, 247.23it/s]\u001B[A\n",
      "100%|██████████| 107/107 [00:00<00:00, 367.97it/s][A\n",
      "\n",
      "  0%|          | 0/26 [00:00<?, ?it/s]\u001B[A\n",
      " 46%|████▌     | 12/26 [00:00<00:00, 85.92it/s]\u001B[A\n",
      "100%|██████████| 26/26 [00:00<00:00, 57.15it/s]\u001B[A\n",
      "\n",
      "  0%|          | 0/27 [00:00<?, ?it/s]\u001B[A\n",
      " 22%|██▏       | 6/27 [00:00<00:00, 46.02it/s]\u001B[A\n",
      " 41%|████      | 11/27 [00:00<00:00, 36.42it/s]\u001B[A\n",
      " 67%|██████▋   | 18/27 [00:00<00:00, 39.14it/s]\u001B[A\n",
      " 89%|████████▉ | 24/27 [00:00<00:00, 39.81it/s]\u001B[A\n",
      "\n",
      "\n",
      "100%|██████████| 27/27 [00:00<00:00, 34.98it/s]\n",
      "\n",
      "  0%|          | 0/107 [00:00<?, ?it/s]\u001B[A\n",
      "\n",
      "\n",
      "100%|██████████| 27/27 [00:00<00:00, 101.95it/s][A\u001B[A\u001B[A\n",
      "\n",
      " 11%|█         | 12/107 [00:00<00:01, 71.81it/s]\u001B[A\n",
      " 34%|███▎      | 36/107 [00:00<00:00, 128.41it/s]\u001B[A\n",
      "\n",
      "\n",
      "  0%|          | 0/106 [00:00<?, ?it/s]\u001B[A\u001B[A\u001B[A\n",
      "\n",
      "\n",
      " 11%|█▏        | 12/106 [00:00<00:01, 87.11it/s]\u001B[A\u001B[A\u001B[A\n",
      "100%|██████████| 107/107 [00:00<00:00, 214.60it/s][A\n",
      "\n",
      "\n",
      "\n",
      " 34%|███▍      | 36/106 [00:00<00:00, 102.70it/s]\u001B[A\u001B[A\u001B[A\n",
      "\n",
      "\n",
      "100%|██████████| 106/106 [00:00<00:00, 173.85it/s][A\u001B[A\u001B[A\n",
      "\n",
      "  0%|          | 0/26 [00:00<?, ?it/s]\u001B[A\n",
      " 46%|████▌     | 12/26 [00:00<00:00, 111.38it/s]\u001B[A\n",
      "100%|██████████| 26/26 [00:00<00:00, 54.81it/s] \u001B[A\n",
      "\n",
      "  0%|          | 0/106 [00:00<?, ?it/s]\u001B[A\n",
      " 23%|██▎       | 24/106 [00:00<00:00, 97.42it/s]\u001B[A\n",
      "100%|██████████| 106/106 [00:00<00:00, 243.25it/s][A\n",
      "\n",
      "  0%|          | 0/27 [00:00<?, ?it/s]\u001B[A\n",
      "\n",
      "\n",
      "  0%|          | 0/27 [00:00<?, ?it/s]\u001B[A\u001B[A\u001B[A\n",
      " 44%|████▍     | 12/27 [00:00<00:00, 116.69it/s]\u001B[A\n",
      "\n",
      "\n",
      " 22%|██▏       | 6/27 [00:00<00:00, 56.77it/s]\u001B[A\u001B[A\u001B[A\n",
      " 89%|████████▉ | 24/27 [00:00<00:00, 51.78it/s] \u001B[A\n",
      "\n",
      "\n",
      " 44%|████▍     | 12/27 [00:00<00:00, 29.02it/s]\u001B[A\u001B[A\u001B[A\n",
      "\n",
      "\n",
      "100%|██████████| 27/27 [00:00<00:00, 41.57it/s]\u001B[A\u001B[A\u001B[A\n",
      "100%|██████████| 27/27 [00:00<00:00, 39.66it/s]\n",
      "\n",
      "  0%|          | 0/107 [00:00<?, ?it/s]\u001B[A\n",
      " 34%|███▎      | 36/107 [00:00<00:00, 215.35it/s]\u001B[A\n",
      "100%|██████████| 107/107 [00:00<00:00, 355.54it/s][A\n",
      "\n",
      "  0%|          | 0/106 [00:00<?, ?it/s]\u001B[A\n",
      " 23%|██▎       | 24/106 [00:00<00:00, 187.91it/s]\u001B[A\n",
      "100%|██████████| 106/106 [00:00<00:00, 428.69it/s][A\n",
      "\n",
      "  0%|          | 0/26 [00:00<?, ?it/s]\u001B[A\n",
      " 46%|████▌     | 12/26 [00:00<00:00, 100.27it/s]\u001B[A\n",
      "100%|██████████| 26/26 [00:00<00:00, 69.08it/s] \u001B[A\n",
      "\n",
      "  0%|          | 0/107 [00:00<?, ?it/s]\u001B[A\n",
      "\n",
      "\n",
      "  0%|          | 0/27 [00:00<?, ?it/s]\u001B[A\u001B[A\u001B[A\n",
      " 34%|███▎      | 36/107 [00:00<00:00, 355.55it/s]\u001B[A\n",
      "\n",
      "\n",
      "100%|██████████| 27/27 [00:00<00:00, 178.97it/s]\u001B[A\u001B[A\u001B[A\n",
      "\n",
      "100%|██████████| 107/107 [00:00<00:00, 319.32it/s][A\n",
      "\n",
      "  0%|          | 0/107 [00:00<?, ?it/s]\u001B[A\n",
      "100%|██████████| 107/107 [00:00<00:00, 663.56it/s][A\n",
      "\n",
      "  0%|          | 0/26 [00:00<?, ?it/s]\u001B[A\n",
      " 46%|████▌     | 12/26 [00:00<00:00, 83.79it/s]\u001B[A\n",
      "100%|██████████| 26/26 [00:00<00:00, 56.26it/s]\u001B[A\n",
      "\n",
      "  0%|          | 0/26 [00:00<?, ?it/s]\u001B[A\n",
      "100%|██████████| 26/26 [00:00<00:00, 170.20it/s]\u001B[A\n",
      "\n",
      "100%|██████████| 107/107 [00:00<00:00, 1100.30it/s]\n",
      "\n",
      "100%|██████████| 26/26 [00:00<00:00, 270.93it/s]\n",
      "\n",
      "\n",
      " 44%|████▍     | 12/27 [00:20<00:26,  1.74s/it]\u001B[A\u001B[A\n",
      "\n",
      " 67%|██████▋   | 18/27 [00:31<00:15,  1.73s/it]\u001B[A\u001B[A\n",
      "\n",
      "100%|██████████| 27/27 [00:41<00:00,  1.53s/it]\u001B[A\u001B[A\n",
      "\n",
      "  0%|          | 0/106 [00:00<?, ?it/s]\u001B[A\n",
      " 11%|█▏        | 12/106 [00:00<00:06, 14.27it/s]\u001B[A\n",
      " 17%|█▋        | 18/106 [00:01<00:08, 10.17it/s]\u001B[A\n",
      " 23%|██▎       | 24/106 [00:02<00:09,  8.76it/s]\u001B[A\n",
      " 28%|██▊       | 30/106 [00:03<00:09,  8.18it/s]\u001B[A\n",
      " 34%|███▍      | 36/106 [00:04<00:08,  7.87it/s]\u001B[A\n",
      " 40%|███▉      | 42/106 [00:05<00:08,  7.51it/s]\u001B[A\n",
      " 45%|████▌     | 48/106 [00:05<00:07,  7.42it/s]\u001B[A\n",
      " 51%|█████     | 54/106 [00:06<00:07,  7.37it/s]\u001B[A\n",
      " 57%|█████▋    | 60/106 [00:07<00:06,  7.33it/s]\u001B[A\n",
      " 62%|██████▏   | 66/106 [00:08<00:05,  7.21it/s]\u001B[A\n",
      " 68%|██████▊   | 72/106 [00:09<00:04,  7.23it/s]\u001B[A\n",
      " 74%|███████▎  | 78/106 [00:10<00:03,  7.24it/s]\u001B[A\n",
      " 79%|███████▉  | 84/106 [00:10<00:03,  7.22it/s]\u001B[A\n",
      " 85%|████████▍ | 90/106 [00:11<00:02,  7.19it/s]\u001B[A\n",
      " 91%|█████████ | 96/106 [00:12<00:01,  7.19it/s]\u001B[A\n",
      "100%|██████████| 106/106 [00:13<00:00,  7.93it/s]\u001B[A\n",
      "\n",
      "  0%|          | 0/27 [00:00<?, ?it/s]\u001B[A\n",
      " 44%|████▍     | 12/27 [00:09<00:12,  1.24it/s]\u001B[A\n",
      " 67%|██████▋   | 18/27 [00:19<00:10,  1.15s/it]\u001B[A\n",
      "100%|██████████| 27/27 [00:29<00:00,  1.09s/it]\u001B[A\n",
      "\n",
      "  0%|          | 0/106 [00:00<?, ?it/s]\u001B[A\n",
      " 11%|█▏        | 12/106 [00:00<00:06, 14.39it/s]\u001B[A\n",
      " 17%|█▋        | 18/106 [00:01<00:08, 10.07it/s]\u001B[A\n",
      " 23%|██▎       | 24/106 [00:02<00:09,  8.68it/s]\u001B[A\n",
      " 28%|██▊       | 30/106 [00:03<00:09,  8.11it/s]\u001B[A\n",
      " 34%|███▍      | 36/106 [00:04<00:09,  7.77it/s]\u001B[A\n",
      " 40%|███▉      | 42/106 [00:05<00:08,  7.43it/s]\u001B[A\n",
      " 45%|████▌     | 48/106 [00:05<00:07,  7.34it/s]\u001B[A\n",
      " 51%|█████     | 54/106 [00:06<00:07,  7.26it/s]\u001B[A\n",
      " 57%|█████▋    | 60/106 [00:07<00:06,  7.26it/s]\u001B[A\n",
      " 62%|██████▏   | 66/106 [00:08<00:05,  7.17it/s]\u001B[A\n",
      " 68%|██████▊   | 72/106 [00:09<00:04,  7.06it/s]\u001B[A\n",
      " 74%|███████▎  | 78/106 [00:10<00:03,  7.08it/s]\u001B[A\n",
      " 79%|███████▉  | 84/106 [00:11<00:03,  7.02it/s]\u001B[A\n",
      " 85%|████████▍ | 90/106 [00:11<00:02,  7.02it/s]\u001B[A\n",
      " 91%|█████████ | 96/106 [00:12<00:01,  7.04it/s]\u001B[A\n",
      "100%|██████████| 106/106 [00:13<00:00,  7.77it/s]\u001B[A\n",
      "\n",
      "  0%|          | 0/27 [00:00<?, ?it/s]\u001B[A\n",
      " 44%|████▍     | 12/27 [00:09<00:12,  1.21it/s]\u001B[A\n",
      " 67%|██████▋   | 18/27 [00:20<00:10,  1.20s/it]\u001B[A\n",
      "100%|██████████| 27/27 [00:30<00:00,  1.12s/it]\u001B[A\n",
      "\n",
      "  0%|          | 0/107 [00:00<?, ?it/s]\u001B[A\n",
      " 11%|█         | 12/107 [00:00<00:06, 14.35it/s]\u001B[A\n",
      " 17%|█▋        | 18/107 [00:01<00:08, 10.19it/s]\u001B[A\n",
      " 22%|██▏       | 24/107 [00:02<00:09,  8.84it/s]\u001B[A\n",
      " 28%|██▊       | 30/107 [00:03<00:09,  8.18it/s]\u001B[A\n",
      " 34%|███▎      | 36/107 [00:04<00:09,  7.73it/s]\u001B[A\n",
      " 39%|███▉      | 42/107 [00:05<00:08,  7.34it/s]\u001B[A\n",
      " 45%|████▍     | 48/107 [00:05<00:08,  7.29it/s]\u001B[A\n",
      " 50%|█████     | 54/107 [00:06<00:07,  7.25it/s]\u001B[A\n",
      " 56%|█████▌    | 60/107 [00:07<00:06,  7.16it/s]\u001B[A\n",
      " 62%|██████▏   | 66/107 [00:08<00:05,  7.12it/s]\u001B[A\n",
      " 67%|██████▋   | 72/107 [00:09<00:05,  6.95it/s]\u001B[A\n",
      " 73%|███████▎  | 78/107 [00:10<00:04,  7.01it/s]\u001B[A\n",
      " 79%|███████▊  | 84/107 [00:11<00:03,  7.05it/s]\u001B[A\n",
      " 84%|████████▍ | 90/107 [00:11<00:02,  7.09it/s]\u001B[A\n",
      " 90%|████████▉ | 96/107 [00:12<00:01,  7.10it/s]\u001B[A\n",
      "100%|██████████| 107/107 [00:13<00:00,  7.87it/s]\u001B[A\n",
      "\n",
      "  0%|          | 0/26 [00:00<?, ?it/s]\u001B[A\n",
      " 46%|████▌     | 12/26 [00:09<00:11,  1.23it/s]\u001B[A\n",
      " 69%|██████▉   | 18/26 [00:19<00:09,  1.16s/it]\u001B[A\n",
      "100%|██████████| 26/26 [00:29<00:00,  1.13s/it]\u001B[A\n",
      "\n",
      "  0%|          | 0/107 [00:00<?, ?it/s]\u001B[A\n",
      " 11%|█         | 12/107 [00:00<00:06, 14.46it/s]\u001B[A\n",
      " 17%|█▋        | 18/107 [00:01<00:08, 10.11it/s]\u001B[A\n",
      " 22%|██▏       | 24/107 [00:02<00:09,  8.80it/s]\u001B[A\n",
      " 28%|██▊       | 30/107 [00:03<00:09,  8.18it/s]\u001B[A\n",
      " 34%|███▎      | 36/107 [00:04<00:09,  7.79it/s]\u001B[A\n",
      " 39%|███▉      | 42/107 [00:05<00:08,  7.57it/s]\u001B[A\n",
      " 45%|████▍     | 48/107 [00:05<00:07,  7.42it/s]\u001B[A\n",
      " 50%|█████     | 54/107 [00:06<00:07,  7.33it/s]\u001B[A\n",
      " 56%|█████▌    | 60/107 [00:07<00:06,  7.30it/s]\u001B[A\n",
      " 62%|██████▏   | 66/107 [00:08<00:05,  7.16it/s]\u001B[A\n",
      " 67%|██████▋   | 72/107 [00:09<00:04,  7.09it/s]\u001B[A\n",
      " 73%|███████▎  | 78/107 [00:10<00:04,  7.07it/s]\u001B[A\n",
      " 79%|███████▊  | 84/107 [00:10<00:03,  7.08it/s]\u001B[A\n",
      " 84%|████████▍ | 90/107 [00:11<00:02,  7.10it/s]\u001B[A\n",
      " 90%|████████▉ | 96/107 [00:12<00:01,  7.10it/s]\u001B[A\n",
      "100%|██████████| 107/107 [00:13<00:00,  7.93it/s]\u001B[A\n",
      "\n",
      "  0%|          | 0/26 [00:00<?, ?it/s]\u001B[A\n",
      " 46%|████▌     | 12/26 [00:09<00:11,  1.21it/s]\u001B[A\n",
      " 69%|██████▉   | 18/26 [00:19<00:09,  1.14s/it]\u001B[A\n",
      "100%|██████████| 26/26 [00:28<00:00,  1.11s/it]\u001B[A\n"
     ]
    },
    {
     "name": "stdout",
     "output_type": "stream",
     "text": [
      "2024-01-11 17:37:59,862 - IndustrialDispatcher - 6 individuals out of 9 in previous population were evaluated successfully.\n"
     ]
    },
    {
     "name": "stderr",
     "output_type": "stream",
     "text": [
      "\n",
      "  0%|          | 0/106 [00:00<?, ?it/s]\u001B[A\n",
      "100%|██████████| 106/106 [00:00<00:00, 474.48it/s][A\n",
      "\n",
      "  0%|          | 0/27 [00:00<?, ?it/s]\u001B[A\n",
      " 22%|██▏       | 6/27 [00:00<00:00, 53.70it/s]\u001B[A\n",
      " 67%|██████▋   | 18/27 [00:00<00:00, 49.02it/s]\u001B[A\n",
      "100%|██████████| 27/27 [00:00<00:00, 50.79it/s]\u001B[A\n",
      "\n",
      "  0%|          | 0/106 [00:00<?, ?it/s]\u001B[A\n",
      "100%|██████████| 106/106 [00:00<00:00, 790.41it/s][A\n",
      "\n",
      "  0%|          | 0/27 [00:00<?, ?it/s]\u001B[A\n",
      " 67%|██████▋   | 18/27 [00:00<00:00, 86.77it/s]\u001B[A\n",
      "100%|██████████| 27/27 [00:00<00:00, 79.16it/s]\u001B[A\n",
      "\n",
      "  0%|          | 0/106 [00:00<?, ?it/s]\u001B[A\n",
      "100%|██████████| 106/106 [00:00<00:00, 550.72it/s][A\n",
      "\n",
      "  0%|          | 0/27 [00:00<?, ?it/s]\u001B[A\n",
      "100%|██████████| 27/27 [00:00<00:00, 85.04it/s]\u001B[A\n",
      "\n",
      "  0%|          | 0/107 [00:00<?, ?it/s]\u001B[A\n",
      "100%|██████████| 107/107 [00:00<00:00, 777.51it/s][A\n",
      "\n",
      "  0%|          | 0/26 [00:00<?, ?it/s]\u001B[A\n",
      "100%|██████████| 26/26 [00:00<00:00, 84.01it/s] \u001B[A\n",
      "\n",
      "  0%|          | 0/107 [00:00<?, ?it/s]\u001B[A\n",
      "100%|██████████| 107/107 [00:00<00:00, 545.03it/s][A\n",
      "\n",
      "  0%|          | 0/26 [00:00<?, ?it/s]\u001B[A\n",
      "100%|██████████| 26/26 [00:00<00:00, 80.62it/s]\u001B[A\n"
     ]
    },
    {
     "name": "stdout",
     "output_type": "stream",
     "text": [
      "2024-01-11 17:38:07,618 - IndustrialDispatcher - 3 individuals out of 3 in previous population were evaluated successfully.\n"
     ]
    },
    {
     "name": "stderr",
     "output_type": "stream",
     "text": [
      "\n",
      "  0%|          | 0/106 [00:00<?, ?it/s]\u001B[A\n",
      "100%|██████████| 106/106 [00:00<00:00, 496.67it/s][A\n",
      "\n",
      "  0%|          | 0/106 [00:00<?, ?it/s]\u001B[A\n",
      " 11%|█▏        | 12/106 [00:00<00:00, 94.83it/s]\u001B[A\n",
      "100%|██████████| 106/106 [00:00<00:00, 389.48it/s][A\n",
      "\n",
      "  0%|          | 0/27 [00:00<?, ?it/s]\u001B[A\n",
      " 44%|████▍     | 12/27 [00:00<00:00, 62.67it/s]\u001B[A\n",
      " 70%|███████   | 19/27 [00:00<00:00, 50.73it/s]\u001B[A\n",
      "100%|██████████| 27/27 [00:00<00:00, 40.23it/s]\u001B[A\n",
      "\n",
      "  0%|          | 0/106 [00:00<?, ?it/s]\u001B[A\n",
      "100%|██████████| 106/106 [00:00<00:00, 597.10it/s][A\n",
      "\n",
      "  0%|          | 0/27 [00:00<?, ?it/s]\u001B[A\n",
      " 44%|████▍     | 12/27 [00:00<00:00, 81.29it/s]\u001B[A\n",
      " 78%|███████▊  | 21/27 [00:00<00:00, 50.78it/s]\u001B[A\n",
      "100%|██████████| 27/27 [00:00<00:00, 38.40it/s]\u001B[A\n",
      "\n",
      "  0%|          | 0/106 [00:00<?, ?it/s]\u001B[A\n",
      "100%|██████████| 106/106 [00:00<00:00, 600.47it/s][A\n",
      "\n",
      "  0%|          | 0/27 [00:00<?, ?it/s]\u001B[A\n",
      " 44%|████▍     | 12/27 [00:00<00:00, 98.61it/s]\u001B[A\n",
      "100%|██████████| 27/27 [00:00<00:00, 46.98it/s]\u001B[A\n",
      "\n",
      "  0%|          | 0/107 [00:00<?, ?it/s]\u001B[A\n",
      "100%|██████████| 107/107 [00:00<00:00, 620.15it/s][A\n",
      "\n",
      "  0%|          | 0/26 [00:00<?, ?it/s]\u001B[A\n",
      " 46%|████▌     | 12/26 [00:00<00:00, 75.20it/s]\u001B[A\n",
      " 77%|███████▋  | 20/26 [00:00<00:00, 52.00it/s]\u001B[A\n",
      "100%|██████████| 26/26 [00:00<00:00, 35.00it/s]\u001B[A\n",
      "\n",
      "  0%|          | 0/107 [00:00<?, ?it/s]\u001B[A\n",
      "100%|██████████| 107/107 [00:00<00:00, 609.58it/s][A\n",
      "\n",
      "  0%|          | 0/26 [00:00<?, ?it/s]\u001B[A\n",
      " 46%|████▌     | 12/26 [00:00<00:00, 79.68it/s]\u001B[A\n",
      " 77%|███████▋  | 20/26 [00:00<00:00, 52.08it/s]\u001B[A\n",
      "100%|██████████| 26/26 [00:00<00:00, 42.29it/s]\u001B[A\n",
      "Generations:  20%|██        | 1/5 [07:30<30:01, 450.33s/gen]"
     ]
    },
    {
     "name": "stdout",
     "output_type": "stream",
     "text": [
      "2024-01-11 17:38:19,669 - GroupedCondition - Optimisation stopped: Time limit is reached\n"
     ]
    },
    {
     "name": "stderr",
     "output_type": "stream",
     "text": [
      "Generations:  20%|██        | 1/5 [07:30<30:01, 450.35s/gen]"
     ]
    },
    {
     "name": "stdout",
     "output_type": "stream",
     "text": [
      "2024-01-11 17:38:19,786 - ApiComposer - Model generation finished\n"
     ]
    },
    {
     "name": "stderr",
     "output_type": "stream",
     "text": [
      "\n"
     ]
    },
    {
     "name": "stdout",
     "output_type": "stream",
     "text": [
      "2024-01-11 17:38:20,237 - FEDOT logger - Final pipeline was fitted\n",
      "2024-01-11 17:38:20,238 - FEDOT logger - Final pipeline: {'depth': 1, 'length': 1, 'nodes': [treg]}\n",
      "treg - {}\n",
      "2024-01-11 17:38:20,240 - MemoryAnalytics - Memory consumption for finish in main session: current 0.8 MiB, max: 18.8 MiB\n",
      "2024-01-11 17:38:21,163 - AssumptionsHandler - Memory consumption for fitting of the initial pipeline in main session: current 0.3 MiB, max: 1.8 MiB\n",
      "2024-01-11 17:38:21,164 - ApiComposer - Initial pipeline was fitted in 0.8 sec.\n",
      "2024-01-11 17:38:21,165 - AssumptionsHandler - Preset was changed to best_quality due to fit time estimation for initial model.\n",
      "2024-01-11 17:38:21,173 - ApiComposer - AutoML configured. Parameters tuning: False. Time limit: 10 min. Set of candidate models: ['rfr', 'ridge', 'gbr', 'sgdr', 'linear', 'xgbreg', 'dtreg', 'treg', 'knnreg', 'scaling', 'normalization', 'pcaeigen_basis', 'fourier_basis', 'minirocket_extractor', 'quantile_extractor', 'signal_extractor'].\n",
      "2024-01-11 17:38:21,195 - ApiComposer - Pipeline composition started.\n"
     ]
    },
    {
     "name": "stderr",
     "output_type": "stream",
     "text": [
      "Generations:   0%|          | 0/5 [00:00<?, ?gen/s]"
     ]
    },
    {
     "name": "stdout",
     "output_type": "stream",
     "text": [
      "2024-01-11 17:38:24,826 - IndustrialDispatcher - 2 individuals out of 2 in previous population were evaluated successfully.\n"
     ]
    },
    {
     "name": "stderr",
     "output_type": "stream",
     "text": [
      "\n",
      "  0%|          | 0/106 [00:00<?, ?it/s]\u001B[A\n",
      " 34%|███▍      | 36/106 [00:00<00:00, 303.33it/s]\u001B[A\n",
      "100%|██████████| 106/106 [00:00<00:00, 280.79it/s][A\n",
      "\n",
      "  0%|          | 0/27 [00:00<?, ?it/s]\u001B[A\n",
      " 44%|████▍     | 12/27 [00:00<00:00, 43.10it/s]\u001B[A\n",
      " 63%|██████▎   | 17/27 [00:00<00:00, 40.18it/s]\u001B[A\n",
      " 78%|███████▊  | 21/27 [00:00<00:00, 36.85it/s]\u001B[A\n",
      "100%|██████████| 27/27 [00:01<00:00, 24.00it/s]\u001B[A\n",
      "\n",
      "  0%|          | 0/106 [00:00<?, ?it/s]\u001B[A\n",
      " 34%|███▍      | 36/106 [00:00<00:00, 229.91it/s]\u001B[A\n",
      "100%|██████████| 106/106 [00:00<00:00, 335.07it/s][A\n",
      "\n",
      "  0%|          | 0/27 [00:00<?, ?it/s]\u001B[A\n",
      " 44%|████▍     | 12/27 [00:00<00:00, 35.04it/s]\u001B[A\n",
      " 67%|██████▋   | 18/27 [00:00<00:00, 30.57it/s]\u001B[A\n",
      " 89%|████████▉ | 24/27 [00:01<00:00, 21.59it/s]\u001B[A\n",
      "100%|██████████| 27/27 [00:01<00:00, 19.50it/s]\u001B[A\n",
      "\n",
      "  0%|          | 0/106 [00:00<?, ?it/s]\u001B[A\n",
      " 34%|███▍      | 36/106 [00:00<00:00, 295.90it/s]\u001B[A\n",
      " 62%|██████▏   | 66/106 [00:00<00:00, 239.19it/s]\u001B[A\n",
      "100%|██████████| 106/106 [00:00<00:00, 271.83it/s][A\n",
      "\n",
      "  0%|          | 0/27 [00:00<?, ?it/s]\u001B[A\n",
      " 44%|████▍     | 12/27 [00:00<00:00, 40.93it/s]\u001B[A\n",
      " 67%|██████▋   | 18/27 [00:00<00:00, 28.42it/s]\u001B[A\n",
      " 78%|███████▊  | 21/27 [00:00<00:00, 25.33it/s]\u001B[A\n",
      " 89%|████████▉ | 24/27 [00:00<00:00, 21.78it/s]\u001B[A\n",
      "100%|██████████| 27/27 [00:01<00:00, 24.16it/s]\u001B[A\n",
      "\n",
      "  0%|          | 0/107 [00:00<?, ?it/s]\u001B[A\n",
      " 34%|███▎      | 36/107 [00:00<00:00, 245.93it/s]\u001B[A\n",
      "100%|██████████| 107/107 [00:00<00:00, 326.75it/s][A\n",
      "\n",
      "  0%|          | 0/26 [00:00<?, ?it/s]\u001B[A\n",
      " 46%|████▌     | 12/26 [00:00<00:00, 43.41it/s]\u001B[A\n",
      " 69%|██████▉   | 18/26 [00:00<00:00, 30.27it/s]\u001B[A\n",
      " 85%|████████▍ | 22/26 [00:00<00:00, 32.02it/s]\u001B[A\n",
      "100%|██████████| 26/26 [00:01<00:00, 24.97it/s]\u001B[A\n",
      "\n",
      "  0%|          | 0/107 [00:00<?, ?it/s]\u001B[A\n",
      " 34%|███▎      | 36/107 [00:00<00:00, 282.00it/s]\u001B[A\n",
      "100%|██████████| 107/107 [00:00<00:00, 363.68it/s][A\n",
      "\n",
      "  0%|          | 0/26 [00:00<?, ?it/s]\u001B[A\n",
      " 46%|████▌     | 12/26 [00:00<00:00, 44.24it/s]\u001B[A\n",
      " 65%|██████▌   | 17/26 [00:00<00:00, 45.18it/s]\u001B[A\n",
      " 85%|████████▍ | 22/26 [00:00<00:00, 32.17it/s]\u001B[A\n",
      "100%|██████████| 26/26 [00:01<00:00, 24.73it/s]\u001B[A\n",
      "\n",
      "SVD estimation:   0%|          | 0/106 [00:00<?, ?it/s]\u001B[A\n",
      "SVD estimation:  15%|█▌        | 16/106 [00:00<00:00, 156.90it/s]\u001B[A\n",
      "SVD estimation:  45%|████▌     | 48/106 [00:00<00:00, 248.14it/s]\u001B[A\n",
      "SVD estimation:  75%|███████▍  | 79/106 [00:00<00:00, 275.11it/s]\u001B[A\n",
      "SVD estimation: 122it [00:00, 332.12it/s]                        \u001B[A\n",
      "SVD estimation: 212it [00:00, 282.20it/s]\u001B[A\n",
      "\n",
      "  0%|          | 0/106 [00:00<?, ?it/s]\u001B[A\n",
      "100%|██████████| 106/106 [00:00<00:00, 483.11it/s][A\n",
      "\n",
      "  0%|          | 0/27 [00:00<?, ?it/s]\u001B[A\n",
      " 44%|████▍     | 12/27 [00:00<00:00, 98.62it/s]\u001B[A\n",
      "100%|██████████| 27/27 [00:00<00:00, 45.99it/s]\u001B[A\n",
      "\n",
      "SVD estimation:   0%|          | 0/106 [00:00<?, ?it/s]\u001B[A\n",
      "SVD estimation:  75%|███████▍  | 79/106 [00:00<00:00, 769.04it/s]\u001B[A\n",
      "SVD estimation: 212it [00:00, 778.63it/s]                        \u001B[A\n",
      "\n",
      "  0%|          | 0/106 [00:00<?, ?it/s]\u001B[A\n",
      "100%|██████████| 106/106 [00:00<00:00, 539.54it/s][A\n",
      "\n",
      "  0%|          | 0/27 [00:00<?, ?it/s]\u001B[A\n",
      " 44%|████▍     | 12/27 [00:00<00:00, 62.67it/s]\u001B[A\n",
      " 70%|███████   | 19/27 [00:00<00:00, 42.66it/s]\u001B[A\n",
      "100%|██████████| 27/27 [00:00<00:00, 38.79it/s]\u001B[A\n",
      "\n",
      "SVD estimation:   0%|          | 0/106 [00:00<?, ?it/s]\u001B[A\n",
      "SVD estimation: 212it [00:00, 1466.13it/s]             \u001B[A\n",
      "\n",
      "  0%|          | 0/106 [00:00<?, ?it/s]\u001B[A\n",
      "100%|██████████| 106/106 [00:00<00:00, 577.63it/s][A\n",
      "\n",
      "  0%|          | 0/27 [00:00<?, ?it/s]\u001B[A\n",
      " 44%|████▍     | 12/27 [00:00<00:00, 59.55it/s]\u001B[A\n",
      " 67%|██████▋   | 18/27 [00:00<00:00, 47.92it/s]\u001B[A\n",
      "100%|██████████| 27/27 [00:00<00:00, 44.46it/s]\u001B[A\n",
      "\n",
      "SVD estimation:   0%|          | 0/107 [00:00<?, ?it/s]\u001B[A\n",
      "SVD estimation: 214it [00:00, 1532.35it/s]             \u001B[A\n",
      "\n",
      "  0%|          | 0/107 [00:00<?, ?it/s]\u001B[A\n",
      "100%|██████████| 107/107 [00:00<00:00, 523.35it/s][A\n",
      "\n",
      "  0%|          | 0/26 [00:00<?, ?it/s]\u001B[A\n",
      " 46%|████▌     | 12/26 [00:00<00:00, 65.40it/s]\u001B[A\n",
      " 73%|███████▎  | 19/26 [00:00<00:00, 47.25it/s]\u001B[A\n",
      "100%|██████████| 26/26 [00:00<00:00, 36.41it/s]\u001B[A\n",
      "\n",
      "SVD estimation:   0%|          | 0/107 [00:00<?, ?it/s]\u001B[A\n",
      "SVD estimation: 214it [00:00, 1543.68it/s]             \u001B[A\n",
      "\n",
      "  0%|          | 0/107 [00:00<?, ?it/s]\u001B[A\n",
      "100%|██████████| 107/107 [00:00<00:00, 586.26it/s][A\n",
      "\n",
      "  0%|          | 0/26 [00:00<?, ?it/s]\u001B[A\n",
      " 46%|████▌     | 12/26 [00:00<00:00, 63.99it/s]\u001B[A\n",
      " 73%|███████▎  | 19/26 [00:00<00:00, 50.69it/s]\u001B[A\n",
      "100%|██████████| 26/26 [00:00<00:00, 38.79it/s]\u001B[A\n"
     ]
    },
    {
     "name": "stdout",
     "output_type": "stream",
     "text": [
      "2024-01-11 17:40:25,047 - IndustrialDispatcher - 13 individuals out of 13 in previous population were evaluated successfully.\n"
     ]
    },
    {
     "name": "stderr",
     "output_type": "stream",
     "text": [
      "\n",
      "  0%|          | 0/106 [00:00<?, ?it/s]\u001B[A\n",
      "100%|██████████| 106/106 [00:00<00:00, 652.20it/s][A\n",
      "\n",
      "  0%|          | 0/27 [00:00<?, ?it/s]\u001B[A\n",
      " 44%|████▍     | 12/27 [00:00<00:00, 106.25it/s]\u001B[A\n",
      "100%|██████████| 27/27 [00:00<00:00, 67.27it/s] \u001B[A\n",
      "\n",
      "  0%|          | 0/106 [00:00<?, ?it/s]\u001B[A\n",
      "\n",
      "  0%|          | 0/106 [00:00<?, ?it/s]\u001B[A\u001B[A\n",
      "100%|██████████| 106/106 [00:00<00:00, 652.05it/s][A\n",
      "\n",
      "\n",
      " 34%|███▍      | 36/106 [00:00<00:00, 273.49it/s]\u001B[A\u001B[A\n",
      "\n",
      "100%|██████████| 106/106 [00:00<00:00, 315.40it/s][A\u001B[A\n",
      "\n",
      "  0%|          | 0/27 [00:00<?, ?it/s]\u001B[A\n",
      " 44%|████▍     | 12/27 [00:00<00:00, 60.16it/s]\u001B[A\n",
      "100%|██████████| 27/27 [00:00<00:00, 63.25it/s]\u001B[A\n",
      "\n",
      "  0%|          | 0/106 [00:00<?, ?it/s]\u001B[A\n",
      "100%|██████████| 106/106 [00:00<00:00, 660.14it/s][A\n",
      "\n",
      "  0%|          | 0/27 [00:00<?, ?it/s]\u001B[A\n",
      " 67%|██████▋   | 18/27 [00:00<00:00, 75.52it/s]\u001B[A\n",
      "100%|██████████| 27/27 [00:00<00:00, 61.81it/s]\u001B[A\n",
      "\n",
      "  0%|          | 0/107 [00:00<?, ?it/s]\u001B[A\n",
      "100%|██████████| 107/107 [00:00<00:00, 886.66it/s][A\n",
      "\n",
      "  0%|          | 0/26 [00:00<?, ?it/s]\u001B[A\n",
      " 69%|██████▉   | 18/26 [00:00<00:00, 78.47it/s]\u001B[A\n",
      "100%|██████████| 26/26 [00:00<00:00, 58.85it/s]\u001B[A\n",
      "\n",
      "  0%|          | 0/107 [00:00<?, ?it/s]\u001B[A\n",
      "100%|██████████| 107/107 [00:00<00:00, 901.57it/s][A\n",
      "\n",
      "  0%|          | 0/26 [00:00<?, ?it/s]\u001B[A\n",
      "100%|██████████| 26/26 [00:00<00:00, 76.67it/s]\u001B[A\n",
      "\n",
      "  0%|          | 0/27 [00:00<?, ?it/s]\u001B[A\n",
      " 44%|████▍     | 12/27 [00:00<00:00, 79.68it/s]\u001B[A\n",
      " 74%|███████▍  | 20/27 [00:00<00:00, 51.44it/s]\u001B[A\n",
      "100%|██████████| 27/27 [00:00<00:00, 36.11it/s]\u001B[A\n",
      "\n",
      "  0%|          | 0/106 [00:00<?, ?it/s]\u001B[A\n",
      "100%|██████████| 106/106 [00:00<00:00, 515.94it/s][A\n",
      "\n",
      "  0%|          | 0/27 [00:00<?, ?it/s]\u001B[A\n",
      " 44%|████▍     | 12/27 [00:00<00:00, 60.17it/s]\u001B[A\n",
      " 70%|███████   | 19/27 [00:00<00:00, 41.29it/s]\u001B[A\n",
      "100%|██████████| 27/27 [00:00<00:00, 34.84it/s]\u001B[A\n",
      "\n",
      "  0%|          | 0/106 [00:00<?, ?it/s]\u001B[A\n",
      " 34%|███▍      | 36/106 [00:00<00:00, 308.51it/s]\u001B[A\n",
      "100%|██████████| 106/106 [00:00<00:00, 346.20it/s][A\n",
      "\n",
      "  0%|          | 0/106 [00:00<?, ?it/s]\u001B[A\n",
      " 23%|██▎       | 24/106 [00:00<00:00, 162.62it/s]\u001B[A\n",
      "\n",
      "  0%|          | 0/27 [00:00<?, ?it/s]\u001B[A\u001B[A\n",
      "100%|██████████| 106/106 [00:00<00:00, 208.00it/s][A\n",
      "\n",
      "\n",
      " 44%|████▍     | 12/27 [00:00<00:00, 35.08it/s]\u001B[A\u001B[A\n",
      "\n",
      " 67%|██████▋   | 18/27 [00:00<00:00, 25.94it/s]\u001B[A\u001B[A\n",
      "\n",
      " 78%|███████▊  | 21/27 [00:00<00:00, 26.46it/s]\u001B[A\u001B[A\n",
      "\n",
      "100%|██████████| 27/27 [00:01<00:00, 24.94it/s]\u001B[A\u001B[A\n",
      "\n",
      "  0%|          | 0/106 [00:00<?, ?it/s]\u001B[A\n",
      " 34%|███▍      | 36/106 [00:00<00:00, 303.33it/s]\u001B[A\n",
      "100%|██████████| 106/106 [00:00<00:00, 347.33it/s][A\n",
      "\n",
      "  0%|          | 0/27 [00:00<?, ?it/s]\u001B[A\n",
      " 44%|████▍     | 12/27 [00:00<00:00, 37.60it/s]\u001B[A\n",
      " 59%|█████▉    | 16/27 [00:00<00:00, 36.57it/s]\u001B[A\n",
      " 74%|███████▍  | 20/27 [00:00<00:00, 28.25it/s]\u001B[A\n",
      " 85%|████████▌ | 23/27 [00:00<00:00, 23.82it/s]\u001B[A\n",
      "100%|██████████| 27/27 [00:01<00:00, 24.79it/s]\u001B[A\n",
      "\n",
      "  0%|          | 0/106 [00:00<?, ?it/s]\u001B[A\n",
      " 23%|██▎       | 24/106 [00:00<00:00, 151.35it/s]\u001B[A\n",
      "100%|██████████| 106/106 [00:00<00:00, 284.94it/s][A\n",
      "\n",
      "  0%|          | 0/27 [00:00<?, ?it/s]\u001B[A\n",
      " 44%|████▍     | 12/27 [00:00<00:00, 55.45it/s]\u001B[A\n",
      " 67%|██████▋   | 18/27 [00:00<00:00, 43.46it/s]\u001B[A\n",
      "100%|██████████| 27/27 [00:00<00:00, 38.44it/s]\u001B[A\n",
      "\n",
      "  0%|          | 0/27 [00:00<?, ?it/s]\u001B[A\n",
      " 44%|████▍     | 12/27 [00:00<00:00, 34.18it/s]\u001B[A\n",
      " 59%|█████▉    | 16/27 [00:00<00:00, 29.79it/s]\u001B[A\n",
      " 70%|███████   | 19/27 [00:00<00:00, 28.62it/s]\u001B[A\n",
      " 89%|████████▉ | 24/27 [00:01<00:00, 19.74it/s]\u001B[A\n",
      "100%|██████████| 27/27 [00:01<00:00, 21.02it/s]\u001B[A\n",
      "\n",
      "  0%|          | 0/107 [00:00<?, ?it/s]\u001B[A\n",
      "100%|██████████| 107/107 [00:00<00:00, 499.00it/s][A\n",
      "\n",
      "  0%|          | 0/107 [00:00<?, ?it/s]\u001B[A\n",
      " 34%|███▎      | 36/107 [00:00<00:00, 293.46it/s]\u001B[A\n",
      "100%|██████████| 107/107 [00:00<00:00, 352.92it/s][A\n",
      "\n",
      "  0%|          | 0/26 [00:00<?, ?it/s]\u001B[A\n",
      " 46%|████▌     | 12/26 [00:00<00:00, 53.48it/s]\u001B[A\n",
      " 69%|██████▉   | 18/26 [00:00<00:00, 26.86it/s]\u001B[A\n",
      "100%|██████████| 26/26 [00:01<00:00, 25.00it/s]\u001B[A\n",
      "\n",
      "  0%|          | 0/107 [00:00<?, ?it/s]\u001B[A\n",
      " 34%|███▎      | 36/107 [00:00<00:00, 311.17it/s]\u001B[A\n",
      "100%|██████████| 107/107 [00:00<00:00, 259.77it/s][A\n",
      "\n",
      "  0%|          | 0/26 [00:00<?, ?it/s]\u001B[A\n",
      " 46%|████▌     | 12/26 [00:00<00:00, 74.27it/s]\u001B[A\n",
      " 77%|███████▋  | 20/26 [00:00<00:00, 48.17it/s]\u001B[A\n",
      "100%|██████████| 26/26 [00:00<00:00, 35.47it/s]\u001B[A\n",
      "\n",
      "  0%|          | 0/26 [00:00<?, ?it/s]\u001B[A\n",
      " 46%|████▌     | 12/26 [00:00<00:00, 31.58it/s]\u001B[A\n",
      " 62%|██████▏   | 16/26 [00:00<00:00, 31.82it/s]\u001B[A\n",
      " 77%|███████▋  | 20/26 [00:00<00:00, 27.86it/s]\u001B[A\n",
      " 88%|████████▊ | 23/26 [00:00<00:00, 25.20it/s]\u001B[A\n",
      "100%|██████████| 26/26 [00:01<00:00, 25.36it/s]\u001B[A\n",
      "\n",
      "  0%|          | 0/107 [00:00<?, ?it/s]\u001B[A\n",
      "100%|██████████| 107/107 [00:00<00:00, 368.71it/s][A\n",
      "\n",
      "  0%|          | 0/26 [00:00<?, ?it/s]\u001B[A\n",
      " 46%|████▌     | 12/26 [00:00<00:00, 80.74it/s]\u001B[A\n",
      "100%|██████████| 26/26 [00:00<00:00, 42.32it/s]\u001B[A\n"
     ]
    },
    {
     "name": "stdout",
     "output_type": "stream",
     "text": [
      "2024-01-11 17:43:05,594 - IndustrialDispatcher - 11 individuals out of 11 in previous population were evaluated successfully.\n",
      "2024-01-11 17:43:10,078 - IndustrialDispatcher - 3 individuals out of 4 in previous population were evaluated successfully.\n"
     ]
    },
    {
     "name": "stderr",
     "output_type": "stream",
     "text": [
      "Generations:  20%|██        | 1/5 [04:48<19:15, 288.88s/gen]\n",
      "SVD estimation:   0%|          | 0/106 [00:00<?, ?it/s]\u001B[A\n",
      "SVD estimation:  39%|███▊      | 41/106 [00:00<00:00, 407.14it/s]\u001B[A\n",
      "SVD estimation:  77%|███████▋  | 82/106 [00:00<00:00, 181.18it/s]\u001B[A\n",
      "SVD estimation: 109it [00:00, 204.84it/s]                        \u001B[A\n",
      "SVD estimation: 161it [00:00, 290.44it/s]\u001B[A\n",
      "\n",
      "SVD estimation: 212it [00:00, 300.25it/s]A\u001B[A\n",
      "\n",
      "\n",
      " 23%|██▎       | 24/106 [00:00<00:00, 104.51it/s]\u001B[A\u001B[A\n",
      "\n",
      " 34%|███▍      | 36/106 [00:00<00:00, 71.27it/s] \u001B[A\u001B[A\n",
      "\n",
      " 45%|████▌     | 48/106 [00:00<00:00, 71.88it/s]\u001B[A\u001B[A\n",
      "\n",
      " 57%|█████▋    | 60/106 [00:00<00:00, 68.25it/s]\u001B[A\u001B[A\n",
      "\n",
      " 68%|██████▊   | 72/106 [00:01<00:00, 69.07it/s]\u001B[A\u001B[A\n",
      "\n",
      " 79%|███████▉  | 84/106 [00:01<00:00, 67.72it/s]\u001B[A\u001B[A\n",
      "\n",
      "100%|██████████| 106/106 [00:01<00:00, 77.00it/s][A\u001B[A\n",
      "\n",
      "  0%|          | 0/106 [00:00<?, ?it/s]\u001B[A\n",
      "100%|██████████| 106/106 [00:00<00:00, 466.15it/s][A\n",
      "\n",
      "  0%|          | 0/27 [00:00<?, ?it/s]\u001B[A\n",
      " 44%|████▍     | 12/27 [00:01<00:01, 11.44it/s]\u001B[A\n",
      " 67%|██████▋   | 18/27 [00:01<00:00,  9.17it/s]\u001B[A\n",
      " 70%|███████   | 19/27 [00:02<00:00,  9.06it/s]\u001B[A\n",
      "100%|██████████| 27/27 [00:02<00:00,  9.27it/s]\u001B[A\n",
      "\n",
      "  0%|          | 0/106 [00:00<?, ?it/s]\u001B[A\n",
      " 23%|██▎       | 24/106 [00:00<00:00, 136.73it/s]\u001B[A\n",
      " 36%|███▌      | 38/106 [00:00<00:00, 104.97it/s]\u001B[A\n",
      " 46%|████▌     | 49/106 [00:00<00:00, 86.61it/s] \u001B[A\n",
      " 57%|█████▋    | 60/106 [00:00<00:00, 79.01it/s]\u001B[A\n",
      " 68%|██████▊   | 72/106 [00:00<00:00, 76.36it/s]\u001B[A\n",
      " 79%|███████▉  | 84/106 [00:01<00:00, 73.56it/s]\u001B[A\n",
      "100%|██████████| 106/106 [00:01<00:00, 87.05it/s][A\n",
      "\n",
      "  0%|          | 0/27 [00:00<?, ?it/s]\u001B[A\n",
      " 22%|██▏       | 6/27 [00:00<00:00, 43.59it/s]\u001B[A\n",
      " 44%|████▍     | 12/27 [00:00<00:00, 32.93it/s]\u001B[A\n",
      " 59%|█████▉    | 16/27 [00:00<00:00, 35.14it/s]\u001B[A\n",
      " 74%|███████▍  | 20/27 [00:00<00:00, 32.01it/s]\u001B[A\n",
      " 89%|████████▉ | 24/27 [00:00<00:00, 24.21it/s]\u001B[A\n",
      "100%|██████████| 27/27 [00:01<00:00, 24.76it/s]\u001B[A\n",
      "\n",
      "SVD estimation:   0%|          | 0/106 [00:00<?, ?it/s]\u001B[A\n",
      "SVD estimation:  22%|██▏       | 23/106 [00:00<00:00, 226.09it/s]\u001B[A\n",
      "SVD estimation:  43%|████▎     | 46/106 [00:00<00:00, 133.62it/s]\u001B[A\n",
      "SVD estimation:  58%|█████▊    | 62/106 [00:00<00:00, 119.67it/s]\u001B[A\n",
      "\n",
      "  0%|          | 0/27 [00:00<?, ?it/s]\u001B[A\u001B[A\n",
      "SVD estimation:  72%|███████▏  | 76/106 [00:00<00:00, 121.07it/s]\u001B[A\n",
      "SVD estimation:  84%|████████▍ | 89/106 [00:00<00:00, 99.89it/s] \u001B[A\n",
      "SVD estimation:  94%|█████████▍| 100/106 [00:01<00:00, 63.13it/s]\u001B[A\n",
      "\n",
      " 44%|████▍     | 12/27 [00:00<00:01, 13.22it/s]\u001B[A\u001B[A\n",
      "SVD estimation: 109it [00:01, 42.69it/s]                         \u001B[A\n",
      "SVD estimation: 116it [00:01, 36.74it/s]\u001B[A\n",
      "SVD estimation: 121it [00:02, 34.68it/s]\u001B[A\n",
      "SVD estimation: 126it [00:02, 34.56it/s]\u001B[A\n",
      "\n",
      " 67%|██████▋   | 18/27 [00:01<00:00,  9.58it/s]\u001B[A\u001B[A\n",
      "SVD estimation: 130it [00:02, 30.60it/s]\u001B[A\n",
      "\n",
      " 70%|███████   | 19/27 [00:02<00:00,  9.57it/s]\u001B[A\u001B[A\n",
      "SVD estimation: 134it [00:02, 24.97it/s]\u001B[A\n",
      "\n",
      " 74%|███████▍  | 20/27 [00:02<00:00,  8.61it/s]\u001B[A\u001B[A\n",
      "SVD estimation: 137it [00:03, 20.29it/s]\u001B[A\n",
      "\n",
      " 78%|███████▊  | 21/27 [00:02<00:00,  6.65it/s]\u001B[A\u001B[A\n",
      "SVD estimation: 140it [00:03, 17.27it/s]\u001B[A\n",
      "\n",
      " 81%|████████▏ | 22/27 [00:02<00:00,  5.87it/s]\u001B[A\u001B[A\n",
      "SVD estimation: 142it [00:03, 15.26it/s]\u001B[A\n",
      "\n",
      " 85%|████████▌ | 23/27 [00:02<00:00,  6.27it/s]\u001B[A\u001B[A\n",
      "SVD estimation: 144it [00:03, 15.03it/s]\u001B[A\n",
      "\n",
      " 89%|████████▉ | 24/27 [00:03<00:00,  6.11it/s]\u001B[A\u001B[A\n",
      "SVD estimation: 146it [00:03, 13.70it/s]\u001B[A\n",
      "\n",
      " 93%|█████████▎| 25/27 [00:03<00:00,  5.40it/s]\u001B[A\u001B[A\n",
      "SVD estimation: 148it [00:04, 11.57it/s]\u001B[A\n",
      "\n",
      " 96%|█████████▋| 26/27 [00:03<00:00,  5.24it/s]\u001B[A\u001B[A\n",
      "SVD estimation: 150it [00:04, 11.76it/s]\u001B[A\n",
      "\n",
      "100%|██████████| 27/27 [00:03<00:00,  5.42it/s]\u001B[A\u001B[A\n",
      "100%|██████████| 27/27 [00:03<00:00,  6.87it/s]\n",
      "\n",
      "SVD estimation: 154it [00:04, 10.88it/s]\u001B[A\n",
      "SVD estimation: 156it [00:04,  9.99it/s]\u001B[A\n",
      "SVD estimation: 158it [00:05, 10.26it/s]\u001B[A\n",
      "SVD estimation: 160it [00:05, 11.48it/s]\u001B[A\n",
      "SVD estimation: 165it [00:05, 18.65it/s]\u001B[A\n",
      "SVD estimation: 169it [00:05, 23.03it/s]\u001B[A\n",
      "SVD estimation: 175it [00:05, 31.49it/s]\u001B[A\n",
      "SVD estimation: 212it [00:05, 38.07it/s] \u001B[A\n",
      "\n",
      "  0%|          | 0/106 [00:00<?, ?it/s]\u001B[A\n",
      " 23%|██▎       | 24/106 [00:00<00:00, 146.73it/s]\u001B[A\n",
      "\n",
      "  0%|          | 0/106 [00:00<?, ?it/s]\u001B[A\u001B[A\n",
      " 37%|███▋      | 39/106 [00:00<00:00, 107.79it/s]\u001B[A\n",
      " 47%|████▋     | 50/106 [00:00<00:00, 91.60it/s] \u001B[A\n",
      "\n",
      " 11%|█▏        | 12/106 [00:00<00:02, 41.63it/s]\u001B[A\u001B[A\n",
      " 57%|█████▋    | 60/106 [00:00<00:00, 68.27it/s]\u001B[A\n",
      "\n",
      " 23%|██▎       | 24/106 [00:00<00:01, 41.72it/s]\u001B[A\u001B[A\n",
      " 68%|██████▊   | 72/106 [00:00<00:00, 72.35it/s]\u001B[A\n",
      "\n",
      " 28%|██▊       | 30/106 [00:00<00:01, 42.61it/s]\u001B[A\u001B[A\n",
      " 79%|███████▉  | 84/106 [00:01<00:00, 63.96it/s]\u001B[A\n",
      "\n",
      " 34%|███▍      | 36/106 [00:00<00:01, 38.57it/s]\u001B[A\u001B[A\n",
      "100%|██████████| 106/106 [00:01<00:00, 81.57it/s][A\n",
      "\n",
      "\n",
      " 45%|████▌     | 48/106 [00:01<00:01, 44.08it/s]\u001B[A\u001B[A\n",
      "\n",
      " 51%|█████     | 54/106 [00:01<00:01, 43.96it/s]\u001B[A\u001B[A\n",
      "\n",
      " 57%|█████▋    | 60/106 [00:01<00:01, 45.51it/s]\u001B[A\u001B[A\n",
      "\n",
      "100%|██████████| 106/106 [00:01<00:00, 67.23it/s][A\u001B[A\n",
      "\n",
      "  0%|          | 0/27 [00:00<?, ?it/s]\u001B[A\n",
      " 44%|████▍     | 12/27 [00:00<00:01, 14.78it/s]\u001B[A\n",
      " 52%|█████▏    | 14/27 [00:00<00:00, 15.07it/s]\u001B[A\n",
      " 59%|█████▉    | 16/27 [00:01<00:00, 15.87it/s]\u001B[A\n",
      " 67%|██████▋   | 18/27 [00:01<00:01,  7.28it/s]\u001B[A\n",
      " 89%|████████▉ | 24/27 [00:02<00:00,  7.03it/s]\u001B[A\n",
      "100%|██████████| 27/27 [00:02<00:00,  9.52it/s]\u001B[A\n",
      "\n",
      "  0%|          | 0/107 [00:00<?, ?it/s]\u001B[A\n",
      " 22%|██▏       | 24/107 [00:00<00:00, 140.73it/s]\u001B[A\n",
      " 36%|███▋      | 39/107 [00:00<00:00, 104.64it/s]\u001B[A\n",
      " 47%|████▋     | 50/107 [00:00<00:00, 85.67it/s] \u001B[A\n",
      " 56%|█████▌    | 60/107 [00:00<00:00, 72.78it/s]\u001B[A\n",
      " 67%|██████▋   | 72/107 [00:00<00:00, 67.68it/s]\u001B[A\n",
      " 79%|███████▊  | 84/107 [00:01<00:00, 68.79it/s]\u001B[A\n",
      "\n",
      "  0%|          | 0/27 [00:00<?, ?it/s]\u001B[A\u001B[A\n",
      "100%|██████████| 107/107 [00:01<00:00, 75.18it/s][A\n",
      "\n",
      "\n",
      " 44%|████▍     | 12/27 [00:00<00:00, 49.11it/s]\u001B[A\u001B[A\n",
      "\n",
      " 67%|██████▋   | 18/27 [00:00<00:00, 38.25it/s]\u001B[A\u001B[A\n",
      "\n",
      "100%|██████████| 27/27 [00:00<00:00, 40.80it/s]\u001B[A\u001B[A\n",
      "\n",
      "SVD estimation:   0%|          | 0/106 [00:00<?, ?it/s]\u001B[A\n",
      "SVD estimation:  33%|███▎      | 35/106 [00:00<00:00, 347.46it/s]\u001B[A\n",
      "SVD estimation:  66%|██████▌   | 70/106 [00:00<00:00, 219.57it/s]\u001B[A\n",
      "SVD estimation:  90%|████████▉ | 95/106 [00:00<00:00, 174.84it/s]\u001B[A\n",
      "SVD estimation: 115it [00:00, 154.16it/s]                        \u001B[A\n",
      "SVD estimation: 132it [00:00, 153.99it/s]\u001B[A\n",
      "\n",
      "  0%|          | 0/26 [00:00<?, ?it/s]\u001B[A\u001B[A\n",
      "SVD estimation: 153it [00:00, 159.90it/s]\u001B[A\n",
      "SVD estimation: 170it [00:01, 91.03it/s] \u001B[A\n",
      "SVD estimation: 183it [00:01, 74.75it/s]\u001B[A\n",
      "\n",
      " 46%|████▌     | 12/26 [00:00<00:01, 12.81it/s]\u001B[A\u001B[A\n",
      "SVD estimation: 193it [00:01, 58.58it/s]\u001B[A\n",
      "SVD estimation: 201it [00:02, 52.57it/s]\u001B[A\n",
      "SVD estimation: 212it [00:02, 81.54it/s]\u001B[A\n",
      "\n",
      "\n",
      " 69%|██████▉   | 18/26 [00:01<00:00,  9.24it/s]\u001B[A\u001B[A\n",
      "\n",
      " 73%|███████▎  | 19/26 [00:01<00:00,  9.23it/s]\u001B[A\u001B[A\n",
      "\n",
      " 92%|█████████▏| 24/26 [00:03<00:00,  6.81it/s]\u001B[A\u001B[A\n",
      "\n",
      "100%|██████████| 26/26 [00:03<00:00,  8.22it/s]\u001B[A\u001B[A\n",
      "\n",
      "  0%|          | 0/106 [00:00<?, ?it/s]\u001B[A\n",
      " 34%|███▍      | 36/106 [00:00<00:00, 343.77it/s]\u001B[A\n",
      "100%|██████████| 106/106 [00:00<00:00, 487.54it/s][A\n",
      "\n",
      "  0%|          | 0/107 [00:00<?, ?it/s]\u001B[A\n",
      " 22%|██▏       | 24/107 [00:00<00:00, 147.63it/s]\u001B[A\n",
      " 36%|███▋      | 39/107 [00:00<00:00, 113.43it/s]\u001B[A\n",
      " 48%|████▊     | 51/107 [00:00<00:00, 93.92it/s] \u001B[A\n",
      " 57%|█████▋    | 61/107 [00:00<00:00, 76.91it/s]\u001B[A\n",
      " 67%|██████▋   | 72/107 [00:00<00:00, 71.02it/s]\u001B[A\n",
      " 79%|███████▊  | 84/107 [00:01<00:00, 72.78it/s]\u001B[A\n",
      "100%|██████████| 107/107 [00:01<00:00, 89.55it/s][A\n",
      "\n",
      "  0%|          | 0/106 [00:00<?, ?it/s]\u001B[A\n",
      " 23%|██▎       | 24/106 [00:00<00:00, 144.12it/s]\u001B[A\n",
      " 37%|███▋      | 39/106 [00:00<00:00, 136.90it/s]\u001B[A\n",
      "\n",
      "  0%|          | 0/26 [00:00<?, ?it/s]\u001B[A\u001B[A\n",
      "100%|██████████| 106/106 [00:00<00:00, 236.17it/s][A\n",
      "\n",
      "  0%|          | 0/27 [00:00<?, ?it/s]\u001B[A\n",
      " 44%|████▍     | 12/27 [00:00<00:00, 36.44it/s]\u001B[A\n",
      " 59%|█████▉    | 16/27 [00:00<00:00, 30.92it/s]\u001B[A\n",
      " 70%|███████   | 19/27 [00:00<00:00, 20.82it/s]\u001B[A\n",
      " 81%|████████▏ | 22/27 [00:01<00:00, 16.78it/s]\u001B[A\n",
      " 89%|████████▉ | 24/27 [00:01<00:00, 12.35it/s]\u001B[A\n",
      "100%|██████████| 27/27 [00:01<00:00, 16.27it/s]\u001B[A\n",
      "\n",
      "\n",
      " 46%|████▌     | 12/26 [00:01<00:02,  6.72it/s]\u001B[A\u001B[A\n",
      "\n",
      " 69%|██████▉   | 18/26 [00:02<00:01,  6.02it/s]\u001B[A\u001B[A\n",
      "SVD estimation:   0%|          | 0/107 [00:00<?, ?it/s]\u001B[A\n",
      "\n",
      " 73%|███████▎  | 19/26 [00:03<00:01,  6.24it/s]\u001B[A\u001B[A\n",
      "SVD estimation:   8%|▊         | 9/107 [00:00<00:01, 67.34it/s]\u001B[A\n",
      "\n",
      " 77%|███████▋  | 20/26 [00:03<00:01,  5.80it/s]\u001B[A\u001B[A\n",
      "\n",
      " 81%|████████  | 21/26 [00:03<00:00,  5.54it/s]\u001B[A\u001B[A\n",
      "SVD estimation:  15%|█▍        | 16/107 [00:00<00:02, 32.67it/s]\u001B[A\n",
      "\n",
      " 85%|████████▍ | 22/26 [00:03<00:00,  5.84it/s]\u001B[A\u001B[A\n",
      "\n",
      " 88%|████████▊ | 23/26 [00:03<00:00,  5.25it/s]\u001B[A\u001B[A\n",
      "100%|██████████| 26/26 [00:04<00:00,  6.38it/s]00:03, 22.04it/s]\u001B[A\n",
      "\n",
      "SVD estimation:  22%|██▏       | 24/107 [00:01<00:04, 17.00it/s]\u001B[A\n",
      "SVD estimation:  25%|██▌       | 27/107 [00:01<00:04, 16.12it/s]\u001B[A\n",
      "SVD estimation:  27%|██▋       | 29/107 [00:01<00:05, 14.09it/s]\u001B[A\n",
      "SVD estimation:  29%|██▉       | 31/107 [00:01<00:05, 14.61it/s]\u001B[A\n",
      "SVD estimation:  31%|███       | 33/107 [00:01<00:05, 14.25it/s]\u001B[A\n",
      "SVD estimation:  33%|███▎      | 35/107 [00:02<00:05, 12.93it/s]\u001B[A\n",
      "SVD estimation:  35%|███▍      | 37/107 [00:02<00:06, 10.47it/s]\u001B[A\n",
      "SVD estimation:  36%|███▋      | 39/107 [00:02<00:06, 10.51it/s]\u001B[A\n",
      "SVD estimation:  38%|███▊      | 41/107 [00:02<00:06, 10.15it/s]\u001B[A\n",
      "SVD estimation:  40%|████      | 43/107 [00:02<00:05, 11.41it/s]\u001B[A\n",
      "SVD estimation:  46%|████▌     | 49/107 [00:03<00:03, 16.60it/s]\u001B[A\n",
      "\n",
      "  0%|          | 0/27 [00:00<?, ?it/s]\u001B[A\u001B[A\n",
      "SVD estimation:  69%|██████▉   | 74/107 [00:03<00:00, 58.27it/s]\u001B[A\n",
      "\n",
      " 44%|████▍     | 12/27 [00:00<00:00, 47.71it/s]\u001B[A\u001B[A\n",
      "SVD estimation:  78%|███████▊  | 83/107 [00:03<00:00, 45.23it/s]\u001B[A\n",
      "\n",
      " 63%|██████▎   | 17/27 [00:00<00:00, 46.33it/s]\u001B[A\u001B[A\n",
      "SVD estimation:  84%|████████▍ | 90/107 [00:03<00:00, 44.63it/s]\u001B[A\n",
      "\n",
      " 81%|████████▏ | 22/27 [00:00<00:00, 41.08it/s]\u001B[A\u001B[A\n",
      "\n",
      "100%|██████████| 27/27 [00:00<00:00, 32.58it/s]\u001B[A\u001B[A\n",
      "100%|██████████| 27/27 [00:00<00:00, 29.09it/s]00:00, 34.27it/s]\u001B[A\n",
      "\n",
      "SVD estimation:  95%|█████████▌| 102/107 [00:04<00:00, 31.36it/s]\u001B[A\n",
      "SVD estimation: 100%|██████████| 107/107 [00:04<00:00, 33.65it/s]\u001B[A\n",
      "SVD estimation: 139it [00:04, 84.78it/s]                         \u001B[A\n",
      "SVD estimation: 190it [00:04, 171.10it/s]\u001B[A\n",
      "\n",
      "  0%|          | 0/106 [00:00<?, ?it/s]\u001B[A\u001B[A\n",
      "\n",
      " 23%|██▎       | 24/106 [00:00<00:00, 146.73it/s]\u001B[A\u001B[A\n",
      "SVD estimation: 214it [00:04, 45.48it/s] \u001B[A\n",
      "\n",
      "\n",
      "100%|██████████| 106/106 [00:00<00:00, 331.10it/s][A\u001B[A\n",
      "\n",
      "  0%|          | 0/106 [00:00<?, ?it/s]\u001B[A\n",
      "\n",
      "  0%|          | 0/107 [00:00<?, ?it/s]\u001B[A\u001B[A\n",
      " 34%|███▍      | 36/106 [00:00<00:00, 271.40it/s]\u001B[A\n",
      "\n",
      " 34%|███▎      | 36/107 [00:00<00:00, 182.30it/s]\u001B[A\u001B[A\n",
      "100%|██████████| 106/106 [00:00<00:00, 321.10it/s][A\n",
      "\n",
      "\n",
      "100%|██████████| 107/107 [00:00<00:00, 228.27it/s][A\u001B[A\n",
      "\n",
      "  0%|          | 0/27 [00:00<?, ?it/s]\u001B[A\n",
      " 44%|████▍     | 12/27 [00:00<00:00, 61.09it/s]\u001B[A\n",
      " 70%|███████   | 19/27 [00:00<00:00, 50.48it/s]\u001B[A\n",
      "100%|██████████| 27/27 [00:00<00:00, 31.15it/s]\u001B[A\n",
      "\n",
      "  0%|          | 0/27 [00:00<?, ?it/s]\u001B[A\n",
      " 44%|████▍     | 12/27 [00:00<00:00, 64.33it/s]\u001B[A\n",
      " 70%|███████   | 19/27 [00:00<00:00, 40.32it/s]\u001B[A\n",
      "100%|██████████| 27/27 [00:00<00:00, 35.52it/s]\u001B[A\n",
      "\n",
      "  0%|          | 0/106 [00:00<?, ?it/s]\u001B[A\n",
      "100%|██████████| 106/106 [00:00<00:00, 355.46it/s][A\n",
      "\n",
      "  0%|          | 0/106 [00:00<?, ?it/s]\u001B[A\n",
      "100%|██████████| 106/106 [00:00<00:00, 528.77it/s][A\n",
      "\n",
      "  0%|          | 0/26 [00:00<?, ?it/s]\u001B[A\n",
      " 46%|████▌     | 12/26 [00:00<00:00, 51.57it/s]\u001B[A\n",
      "\n",
      "  0%|          | 0/27 [00:00<?, ?it/s]\u001B[A\u001B[A\n",
      " 69%|██████▉   | 18/26 [00:00<00:00, 40.67it/s]\u001B[A\n",
      " 85%|████████▍ | 22/26 [00:00<00:00, 29.03it/s]\u001B[A\n",
      "\n",
      " 22%|██▏       | 6/27 [00:00<00:00, 38.86it/s]\u001B[A\u001B[A\n",
      " 96%|█████████▌| 25/26 [00:01<00:00, 19.03it/s]\u001B[A\n",
      "\n",
      " 37%|███▋      | 10/27 [00:00<00:00, 17.48it/s]\u001B[A\u001B[A\n",
      "\n",
      "100%|██████████| 26/26 [00:01<00:00, 18.87it/s]\u001B[A\u001B[A\n",
      "\n",
      "\n",
      " 67%|██████▋   | 18/27 [00:01<00:00, 14.94it/s]\u001B[A\u001B[A\n",
      "  0%|          | 0/27 [00:00<?, ?it/s]\u001B[A\n",
      "\n",
      " 89%|████████▉ | 24/27 [00:01<00:00, 17.55it/s]\u001B[A\u001B[A\n",
      " 22%|██▏       | 6/27 [00:00<00:00, 49.31it/s]\u001B[A\n",
      "\n",
      " 96%|█████████▋| 26/27 [00:01<00:00, 15.61it/s]\u001B[A\u001B[A\n",
      "100%|██████████| 27/27 [00:01<00:00, 14.70it/s]\u001B[A\n",
      "\n",
      " 56%|█████▌    | 15/27 [00:00<00:00, 23.76it/s]\u001B[A\n",
      " 67%|██████▋   | 18/27 [00:00<00:00, 20.65it/s]\u001B[A\n",
      " 78%|███████▊  | 21/27 [00:01<00:00, 19.13it/s]\u001B[A\n",
      "\n",
      "SVD estimation:   0%|          | 0/107 [00:00<?, ?it/s]\u001B[A\u001B[A\n",
      " 89%|████████▉ | 24/27 [00:01<00:00, 21.29it/s]\u001B[A\n",
      "\n",
      "SVD estimation:   3%|▎         | 3/107 [00:00<00:03, 29.50it/s]\u001B[A\u001B[A\n",
      "100%|██████████| 27/27 [00:01<00:00, 17.77it/s]\u001B[A\n",
      "\n",
      "100%|██████████| 27/27 [00:01<00:00, 18.19it/s]0:05, 18.87it/s]\u001B[A\u001B[A\n",
      "\n",
      "\n",
      "SVD estimation:  12%|█▏        | 13/107 [00:00<00:02, 35.11it/s]\u001B[A\u001B[A\n",
      "\n",
      "SVD estimation:  16%|█▌        | 17/107 [00:00<00:02, 36.32it/s]\u001B[A\u001B[A\n",
      "\n",
      "SVD estimation:  48%|████▊     | 51/107 [00:00<00:00, 130.58it/s]\u001B[A\u001B[A\n",
      "\n",
      "SVD estimation:  88%|████████▊ | 94/107 [00:00<00:00, 161.06it/s]\u001B[A\u001B[A\n",
      "\n",
      "SVD estimation: 138it [00:00, 227.93it/s]                        \u001B[A\u001B[A\n",
      "  0%|          | 0/106 [00:00<?, ?it/s]\u001B[A\n",
      "\n",
      "SVD estimation: 214it [00:01, 193.27it/s]\u001B[A\u001B[A\n",
      "\n",
      " 34%|███▍      | 36/106 [00:00<00:00, 313.88it/s]\u001B[A\n",
      "100%|██████████| 106/106 [00:00<00:00, 432.05it/s][A\n",
      "\n",
      "  0%|          | 0/107 [00:00<?, ?it/s]\u001B[A\n",
      "100%|██████████| 107/107 [00:00<00:00, 456.54it/s][A\n",
      "\n",
      "  0%|          | 0/107 [00:00<?, ?it/s]\u001B[A\n",
      " 34%|███▎      | 36/107 [00:00<00:00, 303.33it/s]\u001B[A\n",
      "100%|██████████| 107/107 [00:00<00:00, 333.19it/s][A\n",
      "\n",
      "  0%|          | 0/27 [00:00<?, ?it/s]\u001B[A\n",
      "\n",
      "  0%|          | 0/26 [00:00<?, ?it/s]\u001B[A\u001B[A\n",
      " 44%|████▍     | 12/27 [00:00<00:00, 59.57it/s]\u001B[A\n",
      "\n",
      " 23%|██▎       | 6/26 [00:00<00:00, 47.95it/s]\u001B[A\u001B[A\n",
      "\n",
      " 42%|████▏     | 11/26 [00:00<00:00, 34.83it/s]\u001B[A\u001B[A\n",
      " 67%|██████▋   | 18/27 [00:00<00:00, 29.54it/s]\u001B[A\n",
      "\n",
      " 58%|█████▊    | 15/26 [00:00<00:00, 20.88it/s]\u001B[A\u001B[A\n",
      " 81%|████████▏ | 22/27 [00:01<00:00, 17.93it/s]\u001B[A\n",
      " 93%|█████████▎| 25/27 [00:01<00:00, 16.09it/s]\u001B[A\n",
      "\n",
      " 69%|██████▉   | 18/26 [00:01<00:00, 12.73it/s]\u001B[A\u001B[A\n",
      "100%|██████████| 27/27 [00:01<00:00, 13.28it/s]\u001B[A\n",
      "\n",
      "100%|██████████| 27/27 [00:01<00:00, 15.32it/s]\u001B[A\u001B[A\n",
      "100%|██████████| 26/26 [00:01<00:00, 16.22it/s]\n",
      "\n",
      "  0%|          | 0/107 [00:00<?, ?it/s]\u001B[A\n",
      "100%|██████████| 107/107 [00:00<00:00, 483.33it/s][A\n",
      "\n",
      "  0%|          | 0/107 [00:00<?, ?it/s]\u001B[A\n",
      "100%|██████████| 107/107 [00:00<00:00, 468.50it/s][A\n",
      "\n",
      "  0%|          | 0/26 [00:00<?, ?it/s]\u001B[A\n",
      "\n",
      "  0%|          | 0/26 [00:00<?, ?it/s]\u001B[A\u001B[A\n",
      "\n",
      " 23%|██▎       | 6/26 [00:00<00:00, 42.97it/s]\u001B[A\u001B[A\n",
      "\n",
      " 42%|████▏     | 11/26 [00:00<00:00, 35.59it/s]\u001B[A\u001B[A\n",
      " 46%|████▌     | 12/26 [00:00<00:00, 37.23it/s]\u001B[A\n",
      "\n",
      " 58%|█████▊    | 15/26 [00:00<00:00, 25.08it/s]\u001B[A\u001B[A\n",
      " 62%|██████▏   | 16/26 [00:01<00:00, 18.31it/s]\u001B[A\n",
      "\n",
      " 69%|██████▉   | 18/26 [00:01<00:00, 15.17it/s]\u001B[A\u001B[A\n",
      " 73%|███████▎  | 19/26 [00:01<00:00, 14.87it/s]\u001B[A\n",
      "\n",
      " 77%|███████▋  | 20/26 [00:01<00:00, 11.83it/s]\u001B[A\u001B[A\n",
      " 81%|████████  | 21/26 [00:01<00:00, 12.16it/s]\u001B[A\n",
      "\n",
      " 85%|████████▍ | 22/26 [00:01<00:00, 11.47it/s]\u001B[A\u001B[A\n",
      "\n",
      "100%|██████████| 26/26 [00:01<00:00, 14.04it/s]\u001B[A\u001B[A\n",
      "\n",
      "\n",
      "100%|██████████| 26/26 [00:01<00:00, 13.04it/s]\u001B[A\u001B[A\n",
      "\n",
      "  0%|          | 0/26 [00:00<?, ?it/s]\u001B[A\n",
      " 23%|██▎       | 6/26 [00:00<00:00, 50.13it/s]\u001B[A\n",
      " 46%|████▌     | 12/26 [00:00<00:00, 32.90it/s]\u001B[A\n",
      " 62%|██████▏   | 16/26 [00:00<00:00, 32.04it/s]\u001B[A\n",
      " 77%|███████▋  | 20/26 [00:00<00:00, 32.86it/s]\u001B[A\n",
      "100%|██████████| 26/26 [00:00<00:00, 29.23it/s]\u001B[A\n",
      "\n",
      "  0%|          | 0/107 [00:00<?, ?it/s]\u001B[A\n",
      " 34%|███▎      | 36/107 [00:00<00:00, 357.39it/s]\u001B[A\n",
      "100%|██████████| 107/107 [00:00<00:00, 380.44it/s][A\n",
      "\n",
      "  0%|          | 0/26 [00:00<?, ?it/s]\u001B[A\n",
      " 46%|████▌     | 12/26 [00:00<00:00, 53.71it/s]\u001B[A\n",
      " 69%|██████▉   | 18/26 [00:00<00:00, 42.36it/s]\u001B[A\n",
      "100%|██████████| 26/26 [00:00<00:00, 40.67it/s]\u001B[A\n"
     ]
    },
    {
     "name": "stdout",
     "output_type": "stream",
     "text": [
      "2024-01-11 17:45:18,391 - IndustrialDispatcher - 9 individuals out of 10 in previous population were evaluated successfully.\n"
     ]
    },
    {
     "name": "stderr",
     "output_type": "stream",
     "text": [
      "\n",
      "  0%|          | 0/106 [00:00<?, ?it/s]\u001B[A\n",
      "100%|██████████| 106/106 [00:00<00:00, 587.20it/s][A\n",
      "\n",
      "  0%|          | 0/106 [00:00<?, ?it/s]\u001B[A\n",
      " 34%|███▍      | 36/106 [00:00<00:00, 350.45it/s]\u001B[A\n",
      "100%|██████████| 106/106 [00:00<00:00, 496.65it/s][A\n",
      "\n",
      "  0%|          | 0/27 [00:00<?, ?it/s]\u001B[A\n",
      " 44%|████▍     | 12/27 [00:00<00:00, 98.62it/s]\u001B[A\n",
      "100%|██████████| 27/27 [00:00<00:00, 54.14it/s]\u001B[A\n",
      "\n",
      "  0%|          | 0/106 [00:00<?, ?it/s]\u001B[A\n",
      "100%|██████████| 106/106 [00:00<00:00, 574.51it/s][A\n",
      "\n",
      "  0%|          | 0/27 [00:00<?, ?it/s]\u001B[A\n",
      " 67%|██████▋   | 18/27 [00:00<00:00, 80.21it/s]\u001B[A\n",
      "100%|██████████| 27/27 [00:00<00:00, 69.41it/s]\u001B[A\n",
      "\n",
      "  0%|          | 0/106 [00:00<?, ?it/s]\u001B[A\n",
      "100%|██████████| 106/106 [00:00<00:00, 966.22it/s][A\n",
      "\n",
      "  0%|          | 0/27 [00:00<?, ?it/s]\u001B[A\n",
      " 67%|██████▋   | 18/27 [00:00<00:00, 89.36it/s]\u001B[A\n",
      "100%|██████████| 27/27 [00:00<00:00, 71.82it/s]\u001B[A\n",
      "\n",
      "  0%|          | 0/107 [00:00<?, ?it/s]\u001B[A\n",
      "100%|██████████| 107/107 [00:00<00:00, 957.90it/s][A\n",
      "\n",
      "  0%|          | 0/26 [00:00<?, ?it/s]\u001B[A\n",
      " 69%|██████▉   | 18/26 [00:00<00:00, 66.11it/s]\u001B[A\n",
      "100%|██████████| 26/26 [00:00<00:00, 58.06it/s]\u001B[A\n",
      "\n",
      "  0%|          | 0/107 [00:00<?, ?it/s]\u001B[A\n",
      "100%|██████████| 107/107 [00:00<00:00, 957.91it/s][A\n",
      "\n",
      "  0%|          | 0/26 [00:00<?, ?it/s]\u001B[A\n",
      " 46%|████▌     | 12/26 [00:00<00:00, 107.43it/s]\u001B[A\n",
      "100%|██████████| 26/26 [00:00<00:00, 78.36it/s] \u001B[A\n",
      "\n",
      "100%|██████████| 106/106 [00:00<00:00, 1897.92it/s]\n",
      "\n",
      "  0%|          | 0/27 [00:00<?, ?it/s]\u001B[A\n",
      "100%|██████████| 27/27 [00:00<00:00, 160.57it/s]\u001B[A\n",
      "\n",
      "100%|██████████| 106/106 [00:00<00:00, 1296.14it/s]\n",
      "\n",
      "  0%|          | 0/27 [00:00<?, ?it/s]\u001B[A\n",
      "100%|██████████| 27/27 [00:00<00:00, 125.47it/s]\u001B[A\n",
      "\n",
      "100%|██████████| 106/106 [00:00<00:00, 1802.20it/s]\n",
      "\n",
      "  0%|          | 0/27 [00:00<?, ?it/s]\u001B[A\n",
      "100%|██████████| 27/27 [00:00<00:00, 139.55it/s]\u001B[A\n",
      "\n",
      "100%|██████████| 107/107 [00:00<00:00, 1759.67it/s]\n",
      "\n",
      "  0%|          | 0/26 [00:00<?, ?it/s]\u001B[A\n",
      "100%|██████████| 26/26 [00:00<00:00, 113.84it/s]\u001B[A\n",
      "\n",
      "  0%|          | 0/106 [00:00<?, ?it/s]\u001B[A\n",
      " 34%|███▍      | 36/106 [00:00<00:00, 337.35it/s]\u001B[A\n",
      "100%|██████████| 106/106 [00:00<00:00, 454.20it/s][A\n",
      "\n",
      "100%|██████████| 107/107 [00:00<00:00, 1702.97it/s]\n",
      "\n",
      "  0%|          | 0/26 [00:00<?, ?it/s]\u001B[A\n",
      "100%|██████████| 26/26 [00:00<00:00, 122.97it/s]\u001B[A\n",
      "\n",
      "  0%|          | 0/27 [00:00<?, ?it/s]\u001B[A\n",
      " 44%|████▍     | 12/27 [00:00<00:00, 70.78it/s]\u001B[A\n",
      " 74%|███████▍  | 20/27 [00:00<00:00, 49.83it/s]\u001B[A\n",
      "100%|██████████| 27/27 [00:00<00:00, 37.09it/s]\u001B[A\n",
      "\n",
      "  0%|          | 0/106 [00:00<?, ?it/s]\u001B[A\n",
      "100%|██████████| 106/106 [00:00<00:00, 536.78it/s][A\n",
      "\n",
      "  0%|          | 0/27 [00:00<?, ?it/s]\u001B[A\n",
      " 44%|████▍     | 12/27 [00:00<00:00, 64.69it/s]\u001B[A\n",
      " 70%|███████   | 19/27 [00:00<00:00, 44.61it/s]\u001B[A\n",
      "100%|██████████| 27/27 [00:00<00:00, 40.41it/s]\u001B[A\n",
      "\n",
      "  0%|          | 0/106 [00:00<?, ?it/s]\u001B[A\n",
      "100%|██████████| 106/106 [00:00<00:00, 523.56it/s][A\n",
      "\n",
      "  0%|          | 0/27 [00:00<?, ?it/s]\u001B[A\n",
      " 44%|████▍     | 12/27 [00:00<00:00, 65.39it/s]\u001B[A\n",
      " 70%|███████   | 19/27 [00:00<00:00, 47.78it/s]\u001B[A\n",
      "100%|██████████| 27/27 [00:00<00:00, 37.22it/s]\u001B[A\n",
      "\n",
      "  0%|          | 0/107 [00:00<?, ?it/s]\u001B[A\n",
      "100%|██████████| 107/107 [00:00<00:00, 586.26it/s][A\n",
      "\n",
      "  0%|          | 0/27 [00:00<?, ?it/s]\u001B[A\n",
      " 44%|████▍     | 12/27 [00:00<00:00, 80.21it/s]\u001B[A\n",
      " 78%|███████▊  | 21/27 [00:00<00:00, 54.18it/s]\u001B[A\n",
      "100%|██████████| 27/27 [00:00<00:00, 38.74it/s]\u001B[A\n",
      "\n",
      "  0%|          | 0/106 [00:00<?, ?it/s]\u001B[A\n",
      "100%|██████████| 106/106 [00:00<00:00, 489.78it/s][A\n",
      "\n",
      "  0%|          | 0/26 [00:00<?, ?it/s]\u001B[A\n",
      " 46%|████▌     | 12/26 [00:00<00:00, 58.12it/s]\u001B[A\n",
      " 69%|██████▉   | 18/26 [00:00<00:00, 44.99it/s]\u001B[A\n",
      "100%|██████████| 26/26 [00:00<00:00, 34.48it/s]\u001B[A\n",
      "\n",
      "  0%|          | 0/107 [00:00<?, ?it/s]\u001B[A\n",
      "100%|██████████| 107/107 [00:00<00:00, 567.65it/s][A\n",
      "\n",
      "  0%|          | 0/26 [00:00<?, ?it/s]\u001B[A\n",
      " 46%|████▌     | 12/26 [00:00<00:00, 93.27it/s]\u001B[A\n",
      "100%|██████████| 26/26 [00:00<00:00, 40.35it/s]\u001B[A\n",
      "\n",
      "  0%|          | 0/27 [00:00<?, ?it/s]\u001B[A\n",
      " 44%|████▍     | 12/27 [00:00<00:00, 78.77it/s]\u001B[A\n",
      " 74%|███████▍  | 20/27 [00:00<00:00, 53.12it/s]\u001B[A\n",
      "100%|██████████| 27/27 [00:00<00:00, 39.62it/s]\u001B[A\n",
      "\n",
      "  0%|          | 0/106 [00:00<?, ?it/s]\u001B[A\n",
      "100%|██████████| 106/106 [00:00<00:00, 621.54it/s][A\n",
      "\n",
      "  0%|          | 0/27 [00:00<?, ?it/s]\u001B[A\n",
      " 44%|████▍     | 12/27 [00:00<00:00, 57.18it/s]\u001B[A\n",
      " 67%|██████▋   | 18/27 [00:00<00:00, 52.70it/s]\u001B[A\n",
      "100%|██████████| 27/27 [00:00<00:00, 38.28it/s]\u001B[A\n",
      "\n",
      "  0%|          | 0/107 [00:00<?, ?it/s]\u001B[A\n",
      "100%|██████████| 107/107 [00:00<00:00, 616.59it/s][A\n",
      "\n",
      "  0%|          | 0/26 [00:00<?, ?it/s]\u001B[A\n",
      " 46%|████▌     | 12/26 [00:00<00:00, 84.25it/s]\u001B[A\n",
      "100%|██████████| 26/26 [00:00<00:00, 43.46it/s]\u001B[A\n",
      "\n",
      "  0%|          | 0/107 [00:00<?, ?it/s]\u001B[A\n",
      "100%|██████████| 107/107 [00:00<00:00, 609.58it/s][A\n",
      "\n",
      "  0%|          | 0/26 [00:00<?, ?it/s]\u001B[A\n",
      " 46%|████▌     | 12/26 [00:00<00:00, 65.04it/s]\u001B[A\n",
      " 73%|███████▎  | 19/26 [00:00<00:00, 55.59it/s]\u001B[A\n",
      "100%|██████████| 26/26 [00:00<00:00, 42.94it/s]\u001B[A\n"
     ]
    },
    {
     "name": "stdout",
     "output_type": "stream",
     "text": [
      "2024-01-11 17:47:23,547 - IndustrialDispatcher - 10 individuals out of 10 in previous population were evaluated successfully.\n"
     ]
    },
    {
     "name": "stderr",
     "output_type": "stream",
     "text": [
      "Generations:  40%|████      | 2/5 [09:02<13:24, 268.05s/gen]"
     ]
    },
    {
     "name": "stdout",
     "output_type": "stream",
     "text": [
      "2024-01-11 17:47:23,601 - GroupedCondition - Optimisation stopped: Time limit is reached\n"
     ]
    },
    {
     "name": "stderr",
     "output_type": "stream",
     "text": [
      "Generations:  40%|████      | 2/5 [09:02<13:33, 271.20s/gen]"
     ]
    },
    {
     "name": "stdout",
     "output_type": "stream",
     "text": [
      "2024-01-11 17:47:23,714 - ApiComposer - Model generation finished\n"
     ]
    },
    {
     "name": "stderr",
     "output_type": "stream",
     "text": [
      "\n"
     ]
    },
    {
     "name": "stdout",
     "output_type": "stream",
     "text": [
      "2024-01-11 17:47:24,163 - FEDOT logger - Final pipeline was fitted\n",
      "2024-01-11 17:47:24,165 - FEDOT logger - Final pipeline: {'depth': 1, 'length': 1, 'nodes': [treg]}\n",
      "treg - {}\n",
      "2024-01-11 17:47:24,166 - MemoryAnalytics - Memory consumption for finish in main session: current 1.0 MiB, max: 26.2 MiB\n"
     ]
    }
   ],
   "source": [
    "metric_dict, model_list = evaluate_automl(runs=3)"
   ],
   "metadata": {
    "collapsed": false,
    "pycharm": {
     "name": "#%%\n"
    }
   }
  },
  {
   "cell_type": "code",
   "execution_count": 19,
   "outputs": [
    {
     "data": {
      "text/plain": "                r2_score:  mean_squared_error:  root_mean_squared_error:  \\\nrun_number - 0   0.607232             1.271311                  1.127524   \nrun_number - 1   0.607232             1.271311                  1.127524   \nrun_number - 2   0.607232             1.271311                  1.127524   \n\n                mean_absolute_error  median_absolute_error  \\\nrun_number - 0             0.799539               0.640049   \nrun_number - 1             0.799539               0.640049   \nrun_number - 2             0.799539               0.640049   \n\n                explained_variance_score  max_error  d2_absolute_error_score  \nrun_number - 0                  0.607232   4.497106                 0.443824  \nrun_number - 1                  0.607232   4.497106                 0.443824  \nrun_number - 2                  0.607232   4.497106                 0.443824  ",
      "text/html": "<div>\n<style scoped>\n    .dataframe tbody tr th:only-of-type {\n        vertical-align: middle;\n    }\n\n    .dataframe tbody tr th {\n        vertical-align: top;\n    }\n\n    .dataframe thead th {\n        text-align: right;\n    }\n</style>\n<table border=\"1\" class=\"dataframe\">\n  <thead>\n    <tr style=\"text-align: right;\">\n      <th></th>\n      <th>r2_score:</th>\n      <th>mean_squared_error:</th>\n      <th>root_mean_squared_error:</th>\n      <th>mean_absolute_error</th>\n      <th>median_absolute_error</th>\n      <th>explained_variance_score</th>\n      <th>max_error</th>\n      <th>d2_absolute_error_score</th>\n    </tr>\n  </thead>\n  <tbody>\n    <tr>\n      <th>run_number - 0</th>\n      <td>0.607232</td>\n      <td>1.271311</td>\n      <td>1.127524</td>\n      <td>0.799539</td>\n      <td>0.640049</td>\n      <td>0.607232</td>\n      <td>4.497106</td>\n      <td>0.443824</td>\n    </tr>\n    <tr>\n      <th>run_number - 1</th>\n      <td>0.607232</td>\n      <td>1.271311</td>\n      <td>1.127524</td>\n      <td>0.799539</td>\n      <td>0.640049</td>\n      <td>0.607232</td>\n      <td>4.497106</td>\n      <td>0.443824</td>\n    </tr>\n    <tr>\n      <th>run_number - 2</th>\n      <td>0.607232</td>\n      <td>1.271311</td>\n      <td>1.127524</td>\n      <td>0.799539</td>\n      <td>0.640049</td>\n      <td>0.607232</td>\n      <td>4.497106</td>\n      <td>0.443824</td>\n    </tr>\n  </tbody>\n</table>\n</div>"
     },
     "execution_count": 19,
     "metadata": {},
     "output_type": "execute_result"
    }
   ],
   "source": [
    "df_automl = pd.concat([x for x in metric_dict.values()],axis=0).T\n",
    "df_automl.columns = list(metric_dict.keys())\n",
    "df_automl = df_automl.T\n",
    "df_automl.sort_values('root_mean_squared_error:')"
   ],
   "metadata": {
    "collapsed": false,
    "pycharm": {
     "name": "#%%\n"
    }
   }
  },
  {
   "cell_type": "code",
   "execution_count": 22,
   "outputs": [],
   "source": [
    "for model in model_list:\n",
    "    model.solver.current_pipeline.show()\n",
    "    model.plot_operation_distribution(mode='each')\n",
    "    model.plot_fitness_by_generation()"
   ],
   "metadata": {
    "collapsed": false,
    "pycharm": {
     "name": "#%%\n"
    }
   }
  },
  {
   "cell_type": "markdown",
   "source": [
    "## Compare with State of Art (SOTA) models"
   ],
   "metadata": {
    "collapsed": false,
    "pycharm": {
     "name": "#%% md\n"
    }
   }
  },
  {
   "cell_type": "code",
   "execution_count": 49,
   "outputs": [],
   "source": [
    "df = pd.read_csv(data_path+'/ts_regression_sota_results.csv',sep=';')"
   ],
   "metadata": {
    "collapsed": false,
    "pycharm": {
     "name": "#%%\n"
    }
   }
  },
  {
   "cell_type": "code",
   "execution_count": 50,
   "outputs": [],
   "source": [
    "df = df[df['ds/type'] == dataset_name].iloc[:,:25]\n",
    "df.index = df['algorithm']\n",
    "df = df.drop(['algorithm','ds/type'], axis=1)\n",
    "df = df.replace(',','.', regex=True).astype(float)\n",
    "df['Fedot_Industrial_baseline'] = best_baseline\n",
    "df['Fedot_Industrial_tuned'] = best_tuned\n",
    "df['Fedot_Industrial_AutoML'] = 0"
   ],
   "metadata": {
    "collapsed": false,
    "pycharm": {
     "name": "#%%\n"
    }
   }
  },
  {
   "cell_type": "code",
   "execution_count": 51,
   "outputs": [],
   "source": [
    "df.loc['min','Fedot_Industrial_AutoML'] = df_automl['root_mean_squared_error:'].min()\n",
    "df.loc['max','Fedot_Industrial_AutoML'] = df_automl['root_mean_squared_error:'].max()\n",
    "df.loc['average','Fedot_Industrial_AutoML'] = df_automl['root_mean_squared_error:'].mean()\n",
    "df = df.T"
   ],
   "metadata": {
    "collapsed": false,
    "pycharm": {
     "name": "#%%\n"
    }
   }
  },
  {
   "cell_type": "code",
   "execution_count": 58,
   "outputs": [
    {
     "data": {
      "text/plain": "FreshPRINCE_RMSE             1.020426\nDrCIF_RMSE                   1.046399\nRotF_RMSE                    1.097089\nFedot_Industrial_AutoML      1.127524\nTSF_RMSE                     1.172730\nRandF_RMSE                   1.182821\nXGBoost_RMSE                 1.272832\nRIST_RMSE                    1.301506\nFedot_Industrial_tuned       1.362271\nRDST_RMSE                    1.382981\nMultiROCKET_RMSE             1.454406\nSingleInception_RMSE         1.490343\nInceptionT_RMSE              1.542210\n5NN-DTW_RMSE                 1.593567\nCNN_RMSE                     1.602674\nFPCR-Bs_RMSE                 1.607024\nResNet_RMSE                  1.610736\nFCN_RMSE                     1.636335\nFPCR_RMSE                    1.637966\nGrid-SVR_RMSE                1.699988\nRidge_RMSE                   1.713667\nROCKET_RMSE                  1.856612\n5NN-ED_RMSE                  1.905470\n1NN-ED_RMSE                  2.129638\n1NN-DTW_RMSE                 2.211915\nFedot_Industrial_baseline    4.637406\nName: min, dtype: float64"
     },
     "execution_count": 58,
     "metadata": {},
     "output_type": "execute_result"
    }
   ],
   "source": [
    "df.sort_values('min')['min']"
   ],
   "metadata": {
    "collapsed": false,
    "pycharm": {
     "name": "#%%\n"
    }
   }
  },
  {
   "cell_type": "code",
   "execution_count": 57,
   "outputs": [
    {
     "data": {
      "text/plain": "Fedot_Industrial_AutoML      1.127524\nFedot_Industrial_tuned       1.362271\nRIST_RMSE                    1.887153\nRotF_RMSE                    2.088333\nFreshPRINCE_RMSE             2.101253\nMultiROCKET_RMSE             2.137563\nTSF_RMSE                     2.181236\nRDST_RMSE                    2.200364\nDrCIF_RMSE                   2.201153\nResNet_RMSE                  2.404590\nRandF_RMSE                   2.446314\n5NN-DTW_RMSE                 2.502464\nXGBoost_RMSE                 2.511297\nFPCR-Bs_RMSE                 2.512605\nFPCR_RMSE                    2.523426\n5NN-ED_RMSE                  2.554152\nFCN_RMSE                     2.559661\nInceptionT_RMSE              2.574168\nSingleInception_RMSE         2.633115\nCNN_RMSE                     2.674200\nGrid-SVR_RMSE                2.800419\nROCKET_RMSE                  2.870444\nRidge_RMSE                   2.904762\n1NN-ED_RMSE                  3.281798\n1NN-DTW_RMSE                 3.408802\nFedot_Industrial_baseline    4.637406\nName: max, dtype: float64"
     },
     "execution_count": 57,
     "metadata": {},
     "output_type": "execute_result"
    }
   ],
   "source": [
    "df.sort_values('max')['max']"
   ],
   "metadata": {
    "collapsed": false,
    "pycharm": {
     "name": "#%%\n"
    }
   }
  },
  {
   "cell_type": "code",
   "execution_count": 56,
   "outputs": [
    {
     "data": {
      "text/plain": "Fedot_Industrial_AutoML      1.127524\nFedot_Industrial_tuned       1.362271\nFreshPRINCE_RMSE             1.490442\nRIST_RMSE                    1.501047\nRotF_RMSE                    1.559385\nDrCIF_RMSE                   1.594442\nTSF_RMSE                     1.684828\nRandF_RMSE                   1.708196\nXGBoost_RMSE                 1.716903\nRDST_RMSE                    1.772813\nMultiROCKET_RMSE             1.773578\nResNet_RMSE                  1.938074\nInceptionT_RMSE              2.030315\nFPCR_RMSE                    2.052389\n5NN-DTW_RMSE                 2.055256\nFCN_RMSE                     2.069046\nFPCR-Bs_RMSE                 2.097964\nSingleInception_RMSE         2.149368\nCNN_RMSE                     2.150854\nGrid-SVR_RMSE                2.203537\n5NN-ED_RMSE                  2.251424\nROCKET_RMSE                  2.275254\nRidge_RMSE                   2.363609\n1NN-DTW_RMSE                 2.742105\n1NN-ED_RMSE                  2.822595\nFedot_Industrial_baseline    4.637406\nName: average, dtype: float64"
     },
     "execution_count": 56,
     "metadata": {},
     "output_type": "execute_result"
    }
   ],
   "source": [
    "df.sort_values('average')['average']"
   ],
   "metadata": {
    "collapsed": false,
    "pycharm": {
     "name": "#%%\n"
    }
   }
  },
  {
   "cell_type": "code",
   "execution_count": null,
   "outputs": [],
   "source": [],
   "metadata": {
    "collapsed": false,
    "pycharm": {
     "name": "#%%\n"
    }
   }
  }
 ],
 "metadata": {
  "kernelspec": {
   "display_name": "Python 3 (ipykernel)",
   "language": "python",
   "name": "python3"
  },
  "language_info": {
   "codemirror_mode": {
    "name": "ipython",
    "version": 3
   },
   "file_extension": ".py",
   "mimetype": "text/x-python",
   "name": "python",
   "nbconvert_exporter": "python",
   "pygments_lexer": "ipython3",
   "version": "3.8.1"
  }
 },
 "nbformat": 4,
 "nbformat_minor": 1
}