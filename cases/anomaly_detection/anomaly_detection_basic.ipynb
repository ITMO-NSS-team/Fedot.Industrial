{
 "cells": [
  {
   "cell_type": "code",
   "execution_count": null,
   "metadata": {
    "collapsed": true
   },
   "outputs": [],
   "source": [
    "import numpy as np\n",
    "import os\n",
    "import pandas as pd\n",
    "import matplotlib.pyplot as plt\n",
    "\n",
    "from core.architecture.pipelines.anomaly_detection import AnomalyDetectionPipelines\n",
    "from core.models.detection.probalistic.kalman import UnscentedKalmanFilter\n",
    "import pickle"
   ]
  },
  {
   "cell_type": "markdown",
   "source": [
    "Download and filter data"
   ],
   "metadata": {
    "collapsed": false,
    "pycharm": {
     "name": "#%% md\n"
    }
   }
  },
  {
   "cell_type": "code",
   "execution_count": null,
   "outputs": [],
   "source": [
    "selected_col = [\n",
    "    'Accelerometer1RMS',\n",
    "    'Accelerometer2RMS',\n",
    "    'Current',\n",
    "    'Pressure',\n",
    "    'Temperature',\n",
    "    'Thermocouple',\n",
    "    # 'Voltage',\n",
    "    'Volume Flow RateRMS'\n",
    "    # ,'anomaly', 'changepoint'\n",
    "]\n",
    "def download_skab_data():\n",
    "    all_files = []\n",
    "    for root, dirs, files in os.walk(r\".\\SKAB\"):\n",
    "        for file in files:\n",
    "            if file.endswith(\".csv\"):\n",
    "                all_files.append(os.path.join(root, file))\n",
    "    # datasets with anomalies loading\n",
    "    list_of_df = [pd.read_csv(file,\n",
    "                              sep=';',\n",
    "                              index_col='datetime',\n",
    "                              parse_dates=True) for file in all_files if 'anomaly-free' not in file]\n",
    "    # anomaly-free df loading\n",
    "    anomaly_free_df = pd.read_csv([file for file in all_files if 'anomaly-free' in file][0],\n",
    "                                  sep=';',\n",
    "                                  index_col='datetime',\n",
    "                                  parse_dates=True)\n",
    "    return list_of_df,anomaly_free_df\n",
    "\n",
    "def filter_data(data):\n",
    "    mask = ((data['Accelerometer1RMS'] > 0) &\n",
    "            (data['Accelerometer2RMS'] > 0) &\n",
    "            (data['Volume Flow RateRMS'] > 0) &\n",
    "            (data['Current'] < 100) &\n",
    "            (data['Voltage'] > 100)\n",
    "            )\n",
    "    return data[mask]\n",
    "\n",
    "\n",
    "def get_target(list_of_df, type: str = 'anomaly'):\n",
    "    anomaly_list = []\n",
    "    for i in list_of_df:\n",
    "        i = i[type].values.flatten()\n",
    "        anomaly_list.append(i)\n",
    "    return anomaly_list\n",
    "\n",
    "def smooth_data(list_of_df, anomaly_free_df, window_size = 10):\n",
    "    filter_data_list = []\n",
    "    for i in list_of_df:\n",
    "        i = i.rolling(window=window_size).mean()\n",
    "        i = i.bfill()\n",
    "        i = i[selected_col]\n",
    "        filter_data_list.append(filter_data(i))\n",
    "    anomaly_free_df = filter_data(anomaly_free_df)\n",
    "    anomaly_free_df = anomaly_free_df.rolling(window=window_size).mean()\n",
    "    anomaly_free_df = anomaly_free_df.bfill()\n",
    "    anomaly_free_df = anomaly_free_df[selected_col]\n",
    "    return filter_data_list,anomaly_free_df"
   ],
   "metadata": {
    "collapsed": false,
    "pycharm": {
     "name": "#%%\n"
    }
   }
  },
  {
   "cell_type": "markdown",
   "source": [
    "Prepare data for experiment"
   ],
   "metadata": {
    "collapsed": false
   }
  },
  {
   "cell_type": "code",
   "execution_count": null,
   "outputs": [],
   "source": [
    "list_of_df, anomaly_free_df = download_skab_data()\n",
    "test_features, train_features = smooth_data(list_of_df, anomaly_free_df)\n",
    "test_target = get_target(list_of_df)\n",
    "train_features = train_features.iloc[:1800, :].T.values\n",
    "train, test = (train_features, None), (test_features, test_target)\n",
    "window_length = 20"
   ],
   "metadata": {
    "collapsed": false,
    "pycharm": {
     "name": "#%%\n"
    }
   }
  },
  {
   "cell_type": "markdown",
   "source": [
    "Initialize models params"
   ],
   "metadata": {
    "collapsed": false
   }
  },
  {
   "cell_type": "code",
   "execution_count": null,
   "outputs": [],
   "source": [
    "pca_model_hyperparams = {\n",
    "    'n_components': 2,\n",
    "    'regularization': None,\n",
    "    'basis_function': None\n",
    "}\n",
    "feature_hyperparams = {\n",
    "    'window_mode': True,\n",
    "    'window_size': 10\n",
    "}\n",
    "fedot_model_hyperparams = {\n",
    "    'problem': 'regression',\n",
    "    'seed': 42,\n",
    "    'metric': 'rmse',\n",
    "    'timeout': 10,\n",
    "    'max_depth': 6,\n",
    "    'max_arity': 3,\n",
    "    'cv_folds': 3,\n",
    "    'logging_level': 20,\n",
    "    'n_jobs': 4\n",
    "}\n",
    "dict_result = {}"
   ],
   "metadata": {
    "collapsed": false,
    "pycharm": {
     "name": "#%%\n"
    }
   }
  },
  {
   "cell_type": "markdown",
   "source": [
    "Experiment with Fedot Unscented Kalman Filter"
   ],
   "metadata": {
    "collapsed": false,
    "pycharm": {
     "name": "#%% md\n"
    }
   }
  },
  {
   "cell_type": "code",
   "execution_count": null,
   "outputs": [],
   "source": [
    "detection_model = AnomalyDetectionPipelines(train_data=train, test_data=test)\n",
    "model_kalman, predcition = detection_model('Kalman')(model_hyperparams=fedot_model_hyperparams,\n",
    "                                                    feature_hyperparams=feature_hyperparams,\n",
    "                                                    window_length=window_length)"
   ],
   "metadata": {
    "collapsed": false,
    "pycharm": {
     "name": "#%%\n"
    }
   }
  },
  {
   "cell_type": "markdown",
   "source": [
    "Experiment with Fedot Functional PCA Filter"
   ],
   "metadata": {
    "collapsed": false
   }
  },
  {
   "cell_type": "code",
   "execution_count": null,
   "outputs": [],
   "source": [
    "detection_model = AnomalyDetectionPipelines(train_data=train, test_data=test)\n",
    "\n",
    "model_1 = detection_model('FunctionalPCA')(component=[[1], [1], [1]],\n",
    "                                           model_hyperparams=model_hyperparams,\n",
    "                                           feature_hyperparams=feature_hyperparams)"
   ],
   "metadata": {
    "collapsed": false,
    "pycharm": {
     "name": "#%%\n"
    }
   }
  },
  {
   "cell_type": "markdown",
   "source": [],
   "metadata": {
    "collapsed": false
   }
  }
 ],
 "metadata": {
  "kernelspec": {
   "display_name": "Python 3",
   "language": "python",
   "name": "python3"
  },
  "language_info": {
   "codemirror_mode": {
    "name": "ipython",
    "version": 2
   },
   "file_extension": ".py",
   "mimetype": "text/x-python",
   "name": "python",
   "nbconvert_exporter": "python",
   "pygments_lexer": "ipython2",
   "version": "2.7.6"
  }
 },
 "nbformat": 4,
 "nbformat_minor": 0
}