{
 "cells": [
  {
   "cell_type": "code",
   "execution_count": 1,
   "outputs": [],
   "source": [
    "import sys\n",
    "\n",
    "sys.path.append('../..')"
   ],
   "metadata": {
    "collapsed": false
   }
  },
  {
   "cell_type": "markdown",
   "source": [
    "The first step is to prepare the dataset in the pytorch Dataset format.\n",
    "For example like this with COCO annotation format:"
   ],
   "metadata": {
    "collapsed": false
   }
  },
  {
   "cell_type": "code",
   "execution_count": 2,
   "outputs": [
    {
     "name": "stderr",
     "output_type": "stream",
     "text": [
      "100%|██████████| 17635/17635 [00:00<00:00, 439020.13it/s]\n",
      "100%|██████████| 2191/2191 [00:00<00:00, 421527.46it/s]\n"
     ]
    }
   ],
   "source": [
    "from torchvision.transforms import ToTensor\n",
    "\n",
    "from core.architecture.datasets.object_detection_datasets import COCODataset\n",
    "\n",
    "train_dataset_path = '/media/n31v/data/datasets/ALET/train' # your path to train part of dataset\n",
    "val_dataset_path = '/media/n31v/data/datasets/ALET/val' # your path to validation part of dataset\n",
    "train_json_path = '/media/n31v/data/datasets/ALET/train.json' # your path to train annotations of dataset\n",
    "val_json_path = '/media/n31v/data/datasets/ALET/val.json' # your path to validation annotations of dataset\n",
    "\n",
    "transform = ToTensor()\n",
    "train_dataset = COCODataset(images_path=train_dataset_path, json_path=train_json_path, transform=transform)\n",
    "val_dataset = COCODataset(images_path=val_dataset_path, json_path=val_json_path, transform=transform)"
   ],
   "metadata": {
    "collapsed": false
   }
  },
  {
   "cell_type": "markdown",
   "source": [
    "The second step is model initialization."
   ],
   "metadata": {
    "collapsed": false
   }
  },
  {
   "cell_type": "code",
   "execution_count": 3,
   "outputs": [],
   "source": [
    "from core.architecture.experiment.nn_experimenter import FasterRCNNExperimenter\n",
    "\n",
    "experimenter = FasterRCNNExperimenter(\n",
    "    num_classes = len(train_dataset.classes) + 1,\n",
    "    model_params={'weights': 'DEFAULT'}\n",
    ")"
   ],
   "metadata": {
    "collapsed": false
   }
  },
  {
   "cell_type": "markdown",
   "source": [
    "The third step (optionally) initialization of the structure optimization."
   ],
   "metadata": {
    "collapsed": false
   }
  },
  {
   "cell_type": "code",
   "execution_count": 4,
   "outputs": [],
   "source": [
    "from core.operation.optimization.structure_optimization import SVDOptimization\n",
    "\n",
    "svd_optimization = SVDOptimization(energy_thresholds=[0.1, 0.3, 0.5, 0.7, 0.9, 0.99, 0.995, 0.999, 1])"
   ],
   "metadata": {
    "collapsed": false
   }
  },
  {
   "cell_type": "markdown",
   "source": [
    "Running Model Training."
   ],
   "metadata": {
    "collapsed": false
   }
  },
  {
   "cell_type": "code",
   "execution_count": null,
   "outputs": [],
   "source": [
    "import os\n",
    "os.environ['TF_CPP_MIN_LOG_LEVEL']='3'\n",
    "import warnings\n",
    "warnings.filterwarnings(\"ignore\")\n",
    "\n",
    "experimenter.fit(\n",
    "    dataset_name='ALET', # Name of your dataset\n",
    "    train_dataset=train_dataset,\n",
    "    val_dataset=val_dataset,\n",
    "    num_epochs=50,\n",
    "    structure_optimization=svd_optimization, # Optional\n",
    "    dataloader_params={\n",
    "        'batch_size': 2,\n",
    "        'num_workers': 2,\n",
    "    }\n",
    ")"
   ],
   "metadata": {
    "collapsed": false,
    "pycharm": {
     "is_executing": true
    }
   }
  },
  {
   "cell_type": "markdown",
   "source": [
    "Now you can get predictions for all images in a folder. The method returns a dictionary {'image name': predictions}"
   ],
   "metadata": {
    "collapsed": false
   }
  },
  {
   "cell_type": "code",
   "execution_count": null,
   "outputs": [],
   "source": [
    "experimenter.predict('') # Path to your folder with images"
   ],
   "metadata": {
    "collapsed": false
   }
  }
 ],
 "metadata": {
  "kernelspec": {
   "display_name": "Python 3",
   "language": "python",
   "name": "python3"
  },
  "language_info": {
   "codemirror_mode": {
    "name": "ipython",
    "version": 2
   },
   "file_extension": ".py",
   "mimetype": "text/x-python",
   "name": "python",
   "nbconvert_exporter": "python",
   "pygments_lexer": "ipython2",
   "version": "2.7.6"
  }
 },
 "nbformat": 4,
 "nbformat_minor": 0
}
