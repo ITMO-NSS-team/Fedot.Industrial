{
 "cells": [
  {
   "cell_type": "markdown",
   "source": [
    "This notebook is experimenting with two methods of structure optimization: singular value decomposition (SVD) and soft filter pruning (SFP).\n",
    "\n",
    "The idea of the SVD method is shown in the picture below: the weights of each layer are decomposed into three matrices, then training takes place with additional restrictions on maintaining the orthogonality of the matrices and the sparseness of singular values. After training, the least significant singular numbers and the corresponding rows and columns in orthogonal matrices are pruned. Thus, it is possible to achieve a significant reduction in the number of parameters. During the forward pass, the product of these matrices is calculated, which corresponds to the weight matrix of the original dimension.\n",
    "\n",
    "![Singular value decomposition](../../docs/img/SVD.png)\n",
    "\n",
    "The idea of the SVD method is shown in the picture below: after each training epoch, the significance of each filter in the convolutional layer is evaluated, then the least significant filters are set to zero. This procedure is repeated after each training epoch. At the end, unnecessary filters are completely removed from the mozhel.\n",
    "\n",
    "![Soft filter pruning](../../docs/img/SFP.png)"
   ],
   "metadata": {
    "collapsed": false
   }
  },
  {
   "cell_type": "code",
   "execution_count": 1,
   "outputs": [],
   "source": [
    "import sys\n",
    "sys.path.append('../..')"
   ],
   "metadata": {
    "collapsed": false
   }
  },
  {
   "cell_type": "markdown",
   "source": [
    "You can download METU-ALET dataset [here](https://cengmetuedutr-my.sharepoint.com/:u:/g/personal/skalkan_ceng_metu_edu_tr/Ee9IYWHjbWxMrQNuVkuvlU0Buu3DgplFP7BBAWMyG06Qlw?e=z84zLt).\n",
    "The first step is to prepare the dataset in the pytorch Dataset format."
   ],
   "metadata": {
    "collapsed": false
   }
  },
  {
   "cell_type": "code",
   "execution_count": 3,
   "outputs": [
    {
     "name": "stderr",
     "output_type": "stream",
     "text": [
      "100%|██████████| 17635/17635 [00:00<00:00, 469030.32it/s]\n",
      "100%|██████████| 2191/2191 [00:00<00:00, 438754.84it/s]\n"
     ]
    }
   ],
   "source": [
    "from torchvision.transforms import ToTensor\n",
    "\n",
    "from core.operation.utils.object_detection_datasets import COCODataset, collate_fn\n",
    "\n",
    "dataset_path = '/media/n31v/data/datasets/ALET/'\n",
    "\n",
    "transform = ToTensor()\n",
    "train_dataset = COCODataset(images_path=f'{dataset_path}train', json_path=f'{dataset_path}train.json', transform=transform)\n",
    "val_dataset = COCODataset(images_path=f'{dataset_path}val', json_path=f'{dataset_path}val.json', transform=transform)"
   ],
   "metadata": {
    "collapsed": false
   }
  },
  {
   "cell_type": "markdown",
   "source": [
    "In the cell below, we define the parameters of the experiments.\n",
    "\n",
    "If you want to use a pre-trained model, you can set weights parameter like `weights=<your path to state dict>`.\n",
    "\n",
    "If you don't want to reproduce experiments, you can skip this cell."
   ],
   "metadata": {
    "collapsed": false
   }
  },
  {
   "cell_type": "code",
   "execution_count": 4,
   "outputs": [],
   "source": [
    "import torch\n",
    "\n",
    "energy_thresholds = [0.1, 0.3, 0.5, 0.7, 0.9, 0.95, 0.99, 0.999, 1]\n",
    "\n",
    "exp_params = {\n",
    "    'dataset_name': 'ALET',\n",
    "    'train_dataset': train_dataset,\n",
    "    'val_dataset': val_dataset,\n",
    "    'num_classes': len(train_dataset.classes) + 1,\n",
    "    'dataloader_params': {'batch_size': 1, 'num_workers': 2, 'collate_fn': collate_fn},\n",
    "    'model_params': {'weights': 'DEFAULT'},\n",
    "    'models_saving_path': 'models',\n",
    "    'optimizer': torch.optim.SGD,\n",
    "    'optimizer_params': {'lr': 0.005, 'momentum': 0.9, 'weight_decay': 0.0005},\n",
    "    'scheduler_params': {'step_size': 5, 'gamma': 0.5},\n",
    "    'target_metric': 'map_50',\n",
    "    'summary_path': 'runs',\n",
    "    'summary_per_class': False,\n",
    "    'gpu': True\n",
    "}"
   ],
   "metadata": {
    "collapsed": false
   }
  },
  {
   "cell_type": "markdown",
   "source": [
    "In the cell below, we run an experiment without structure optimization for 100 epochs.\n",
    "\n",
    "If you do not want to reproduce experiments, you can skip this cell."
   ],
   "metadata": {
    "collapsed": false
   }
  },
  {
   "cell_type": "code",
   "execution_count": null,
   "outputs": [],
   "source": [
    "import os\n",
    "os.environ['TF_CPP_MIN_LOG_LEVEL']='3'\n",
    "import warnings\n",
    "warnings.filterwarnings(\"ignore\")\n",
    "\n",
    "from core.operation.utils.cv_experimenters import FasterRCNNExperimenter\n",
    "\n",
    "\n",
    "experimenter = FasterRCNNExperimenter(\n",
    "    structure_optimization='none',\n",
    "    structure_optimization_params={},\n",
    "    **exp_params\n",
    ")\n",
    "experimenter.fit(100)"
   ],
   "metadata": {
    "collapsed": false
   }
  },
  {
   "cell_type": "markdown",
   "source": [
    "In the cell below, we run an experiment with soft filter pruning optimization for 100 epochs.\n",
    "\n",
    "If you do not want to reproduce experiments, you can skip this cell."
   ],
   "metadata": {
    "collapsed": false
   }
  },
  {
   "cell_type": "code",
   "execution_count": null,
   "outputs": [
    {
     "name": "stdout",
     "output_type": "stream",
     "text": [
      "Default size: 166.61 MB\n",
      "ALET/FasterR-CNN/ResNet50_SFP_P-0.50, using device: cuda\n",
      "Epoch 1\n"
     ]
    },
    {
     "name": "stderr",
     "output_type": "stream",
     "text": [
      "100%|██████████| 2087/2087 [06:14<00:00,  5.58it/s, loss=1.25]\n",
      "100%|██████████| 262/262 [00:20<00:00, 12.57it/s]\n"
     ]
    },
    {
     "name": "stdout",
     "output_type": "stream",
     "text": [
      "Epoch 2\n"
     ]
    },
    {
     "name": "stderr",
     "output_type": "stream",
     "text": [
      "100%|██████████| 2087/2087 [06:22<00:00,  5.45it/s, loss=1.16]\n",
      "100%|██████████| 262/262 [00:21<00:00, 12.33it/s]\n"
     ]
    },
    {
     "name": "stdout",
     "output_type": "stream",
     "text": [
      "Model state dict saved.\n",
      "Epoch 3\n"
     ]
    },
    {
     "name": "stderr",
     "output_type": "stream",
     "text": [
      "100%|██████████| 2087/2087 [06:07<00:00,  5.68it/s, loss=1.13]\n",
      "100%|██████████| 262/262 [00:21<00:00, 12.38it/s]\n"
     ]
    },
    {
     "name": "stdout",
     "output_type": "stream",
     "text": [
      "Model state dict saved.\n",
      "Epoch 4\n"
     ]
    },
    {
     "name": "stderr",
     "output_type": "stream",
     "text": [
      "100%|██████████| 2087/2087 [06:17<00:00,  5.53it/s, loss=1.09]\n",
      "100%|██████████| 262/262 [00:21<00:00, 12.15it/s]\n"
     ]
    },
    {
     "name": "stdout",
     "output_type": "stream",
     "text": [
      "Model state dict saved.\n",
      "Epoch 5\n"
     ]
    },
    {
     "name": "stderr",
     "output_type": "stream",
     "text": [
      "100%|██████████| 2087/2087 [06:17<00:00,  5.53it/s, loss=1.05]\n",
      "100%|██████████| 262/262 [00:22<00:00, 11.83it/s]\n"
     ]
    },
    {
     "name": "stdout",
     "output_type": "stream",
     "text": [
      "Model state dict saved.\n",
      "Epoch 6\n"
     ]
    },
    {
     "name": "stderr",
     "output_type": "stream",
     "text": [
      "100%|██████████| 2087/2087 [06:33<00:00,  5.30it/s, loss=1.02]\n",
      "100%|██████████| 262/262 [00:22<00:00, 11.84it/s]\n"
     ]
    },
    {
     "name": "stdout",
     "output_type": "stream",
     "text": [
      "Model state dict saved.\n",
      "Epoch 7\n"
     ]
    },
    {
     "name": "stderr",
     "output_type": "stream",
     "text": [
      "100%|██████████| 2087/2087 [06:29<00:00,  5.36it/s, loss=0.991]\n",
      "100%|██████████| 262/262 [00:21<00:00, 12.22it/s]\n"
     ]
    },
    {
     "name": "stdout",
     "output_type": "stream",
     "text": [
      "Model state dict saved.\n",
      "Epoch 8\n"
     ]
    },
    {
     "name": "stderr",
     "output_type": "stream",
     "text": [
      "100%|██████████| 2087/2087 [06:20<00:00,  5.48it/s, loss=0.964]\n",
      "100%|██████████| 262/262 [00:21<00:00, 12.34it/s]\n"
     ]
    },
    {
     "name": "stdout",
     "output_type": "stream",
     "text": [
      "Epoch 9\n"
     ]
    },
    {
     "name": "stderr",
     "output_type": "stream",
     "text": [
      "100%|██████████| 2087/2087 [06:48<00:00,  5.11it/s, loss=0.953]\n",
      "100%|██████████| 262/262 [00:21<00:00, 11.97it/s]\n"
     ]
    },
    {
     "name": "stdout",
     "output_type": "stream",
     "text": [
      "Model state dict saved.\n",
      "Epoch 10\n"
     ]
    },
    {
     "name": "stderr",
     "output_type": "stream",
     "text": [
      "100%|██████████| 2087/2087 [06:31<00:00,  5.33it/s, loss=0.93] \n",
      "100%|██████████| 262/262 [00:21<00:00, 11.96it/s]\n"
     ]
    },
    {
     "name": "stdout",
     "output_type": "stream",
     "text": [
      "Model state dict saved.\n",
      "Epoch 11\n"
     ]
    },
    {
     "name": "stderr",
     "output_type": "stream",
     "text": [
      "100%|██████████| 2087/2087 [06:36<00:00,  5.27it/s, loss=0.916]\n",
      "100%|██████████| 262/262 [00:21<00:00, 12.08it/s]\n"
     ]
    },
    {
     "name": "stdout",
     "output_type": "stream",
     "text": [
      "Epoch 12\n"
     ]
    },
    {
     "name": "stderr",
     "output_type": "stream",
     "text": [
      "100%|██████████| 2087/2087 [06:34<00:00,  5.29it/s, loss=0.892]\n",
      "100%|██████████| 262/262 [00:21<00:00, 12.00it/s]\n"
     ]
    },
    {
     "name": "stdout",
     "output_type": "stream",
     "text": [
      "Model state dict saved.\n",
      "Epoch 13\n"
     ]
    },
    {
     "name": "stderr",
     "output_type": "stream",
     "text": [
      "100%|██████████| 2087/2087 [06:32<00:00,  5.32it/s, loss=0.874]\n",
      "100%|██████████| 262/262 [00:21<00:00, 12.26it/s]\n"
     ]
    },
    {
     "name": "stdout",
     "output_type": "stream",
     "text": [
      "Model state dict saved.\n",
      "Epoch 14\n"
     ]
    },
    {
     "name": "stderr",
     "output_type": "stream",
     "text": [
      "100%|██████████| 2087/2087 [06:16<00:00,  5.54it/s, loss=0.865]\n",
      "100%|██████████| 262/262 [00:20<00:00, 12.57it/s]\n"
     ]
    },
    {
     "name": "stdout",
     "output_type": "stream",
     "text": [
      "Epoch 15\n"
     ]
    },
    {
     "name": "stderr",
     "output_type": "stream",
     "text": [
      " 39%|███▉      | 824/2087 [02:33<03:51,  5.46it/s, loss=0.821]"
     ]
    }
   ],
   "source": [
    "import os\n",
    "os.environ['TF_CPP_MIN_LOG_LEVEL']='3'\n",
    "import warnings\n",
    "warnings.filterwarnings(\"ignore\")\n",
    "\n",
    "from core.operation.utils.cv_experimenters import FasterRCNNExperimenter\n",
    "\n",
    "\n",
    "experimenter = FasterRCNNExperimenter(\n",
    "    structure_optimization='SFP',\n",
    "    structure_optimization_params={\n",
    "        'pruning_ratio': 0.5,\n",
    "        'finetuning_epochs': 3\n",
    "    },\n",
    "    **exp_params\n",
    ")\n",
    "experimenter.fit(100)"
   ],
   "metadata": {
    "collapsed": false,
    "pycharm": {
     "is_executing": true
    }
   }
  },
  {
   "cell_type": "markdown",
   "source": [
    "In the cells below, we run experiments with a singular value decomposition of convolutional layers for 100 epochs.\n",
    "\n",
    "If you do not want to reproduce experiments, you can skip this cell."
   ],
   "metadata": {
    "collapsed": false
   }
  },
  {
   "cell_type": "code",
   "execution_count": null,
   "outputs": [],
   "source": [
    "import os\n",
    "os.environ['TF_CPP_MIN_LOG_LEVEL']='3'\n",
    "import warnings\n",
    "warnings.filterwarnings(\"ignore\")\n",
    "\n",
    "from core.operation.utils.cv_experimenters import FasterRCNNExperimenter\n",
    "\n",
    "\n",
    "experimenter = FasterRCNNExperimenter(\n",
    "    structure_optimization='SVD',\n",
    "    structure_optimization_params={\n",
    "        'decomposing_mode': 'spatial',\n",
    "        'orthogonal_loss_factor': 10,\n",
    "        'hoer_loss_factor': 0.001,\n",
    "        'energy_thresholds': energy_thresholds,\n",
    "        'finetuning_epochs': 3\n",
    "    },\n",
    "    **exp_params\n",
    ")\n",
    "experimenter.fit(100)"
   ],
   "metadata": {
    "collapsed": false
   }
  },
  {
   "cell_type": "code",
   "execution_count": null,
   "outputs": [],
   "source": [
    "import os\n",
    "os.environ['TF_CPP_MIN_LOG_LEVEL']='3'\n",
    "import warnings\n",
    "warnings.filterwarnings(\"ignore\")\n",
    "\n",
    "from core.operation.utils.cv_experimenters import FasterRCNNExperimenter\n",
    "\n",
    "\n",
    "experimenter = FasterRCNNExperimenter(\n",
    "    structure_optimization='SVD',\n",
    "    structure_optimization_params={\n",
    "        'decomposing_mode': 'channel',\n",
    "        'orthogonal_loss_factor': 10,\n",
    "        'hoer_loss_factor': 0.001,\n",
    "        'energy_thresholds': energy_thresholds,\n",
    "        'finetuning_epochs': 3\n",
    "    },\n",
    "    **exp_params\n",
    ")\n",
    "experimenter.fit(100)"
   ],
   "metadata": {
    "collapsed": false
   }
  },
  {
   "cell_type": "code",
   "execution_count": null,
   "outputs": [],
   "source": [],
   "metadata": {
    "collapsed": false
   }
  }
 ],
 "metadata": {
  "kernelspec": {
   "display_name": "Python 3",
   "language": "python",
   "name": "python3"
  },
  "language_info": {
   "codemirror_mode": {
    "name": "ipython",
    "version": 2
   },
   "file_extension": ".py",
   "mimetype": "text/x-python",
   "name": "python",
   "nbconvert_exporter": "python",
   "pygments_lexer": "ipython2",
   "version": "2.7.6"
  }
 },
 "nbformat": 4,
 "nbformat_minor": 0
}
