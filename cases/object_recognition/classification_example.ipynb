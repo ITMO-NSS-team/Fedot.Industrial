{
 "cells": [
  {
   "cell_type": "markdown",
   "source": [
    "The first step is to prepare the dataset in the pytorch Dataset format.\n",
    "For example like this:"
   ],
   "metadata": {
    "collapsed": false
   }
  },
  {
   "cell_type": "code",
   "execution_count": null,
   "outputs": [],
   "source": [
    "from torchvision.transforms import Compose, ToTensor, Resize\n",
    "from torchvision.datasets import ImageFolder\n",
    "\n",
    "train_dataset_path = '' # your path to train part of dataset\n",
    "val_dataset_path = '' # your path to validation part of dataset\n",
    "\n",
    "transform = Compose([ToTensor(), Resize((256, 256))])\n",
    "train_dataset = ImageFolder(root=train_dataset_path, transform=transform)\n",
    "val_dataset = ImageFolder(root=val_dataset_path, transform=transform)"
   ],
   "metadata": {
    "collapsed": false
   }
  },
  {
   "cell_type": "markdown",
   "source": [
    "ImageFolder is a generic data loader where the images are arranged in this way by default:\n",
    "\n",
    "root/dog/xxx.png\n",
    "root/dog/xxy.png\n",
    "root/dog/[...]/xxz.png\n",
    "\n",
    "root/cat/123.png\n",
    "root/cat/nsdf3.png\n",
    "root/cat/[...]/asd932_.png"
   ],
   "metadata": {
    "collapsed": false
   }
  },
  {
   "cell_type": "markdown",
   "source": [
    "The second step is training the model."
   ],
   "metadata": {
    "collapsed": false
   }
  },
  {
   "cell_type": "code",
   "execution_count": null,
   "outputs": [],
   "source": [
    "import os\n",
    "os.environ['TF_CPP_MIN_LOG_LEVEL']='3'\n",
    "import warnings\n",
    "warnings.filterwarnings(\"ignore\")\n",
    "from core.architecture.experiment.CVModule import ClassificationExperimenter\n",
    "\n",
    "experimenter = ClassificationExperimenter(\n",
    "    dataset_name='dataset', # Name of your dataset\n",
    "    train_dataset=train_dataset,\n",
    "    val_dataset=val_dataset,\n",
    "    model='ResNet18',\n",
    "    num_classes=21, # Number of classes in your dataset\n",
    "    structure_optimization='SVD',\n",
    "    structure_optimization_params={'energy_thresholds': [0.99]}\n",
    ")\n",
    "experimenter.fit(100)"
   ],
   "metadata": {
    "collapsed": false
   }
  },
  {
   "cell_type": "markdown",
   "source": [
    "Now you can get predictions for all images in a folder. The method returns a dictionary {'image_name': class}."
   ],
   "metadata": {
    "collapsed": false
   }
  },
  {
   "cell_type": "code",
   "execution_count": null,
   "outputs": [],
   "source": [
    "experimenter.predict('') # Path to your folder with images"
   ],
   "metadata": {
    "collapsed": false
   }
  }
 ],
 "metadata": {
  "kernelspec": {
   "display_name": "Python 3",
   "language": "python",
   "name": "python3"
  },
  "language_info": {
   "codemirror_mode": {
    "name": "ipython",
    "version": 2
   },
   "file_extension": ".py",
   "mimetype": "text/x-python",
   "name": "python",
   "nbconvert_exporter": "python",
   "pygments_lexer": "ipython2",
   "version": "2.7.6"
  }
 },
 "nbformat": 4,
 "nbformat_minor": 0
}
