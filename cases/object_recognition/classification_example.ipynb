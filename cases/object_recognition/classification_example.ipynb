{
 "cells": [
  {
   "cell_type": "code",
   "execution_count": 1,
   "outputs": [],
   "source": [
    "import sys\n",
    "\n",
    "sys.path.append('../..')"
   ],
   "metadata": {
    "collapsed": false
   }
  },
  {
   "cell_type": "markdown",
   "source": [
    "The first step is to prepare the dataset in the pytorch Dataset format.\n",
    "For example like this:"
   ],
   "metadata": {
    "collapsed": false
   }
  },
  {
   "cell_type": "code",
   "execution_count": 2,
   "outputs": [],
   "source": [
    "from torchvision.transforms import Compose, ToTensor, Resize\n",
    "from torchvision.datasets import ImageFolder\n",
    "\n",
    "train_dataset_path = '/media/n31v/data/datasets/Land-Use_Scene_Classification/images_train_test_val/train' # your path to train part of dataset\n",
    "val_dataset_path = '/media/n31v/data/datasets/Land-Use_Scene_Classification/images_train_test_val/validation' # your path to validation part of dataset\n",
    "\n",
    "transform = Compose([ToTensor(), Resize((256, 256))])\n",
    "train_dataset = ImageFolder(root=train_dataset_path, transform=transform)\n",
    "val_dataset = ImageFolder(root=val_dataset_path, transform=transform)"
   ],
   "metadata": {
    "collapsed": false
   }
  },
  {
   "cell_type": "markdown",
   "source": [
    "ImageFolder is a generic data loader where the images are arranged in this way by default:\n",
    "\n",
    "root/dog/xxx.png\n",
    "root/dog/xxy.png\n",
    "root/dog/[...]/xxz.png\n",
    "\n",
    "root/cat/123.png\n",
    "root/cat/nsdf3.png\n",
    "root/cat/[...]/asd932_.png"
   ],
   "metadata": {
    "collapsed": false
   }
  },
  {
   "cell_type": "markdown",
   "source": [
    "The second step is model initialization."
   ],
   "metadata": {
    "collapsed": false
   }
  },
  {
   "cell_type": "code",
   "execution_count": 3,
   "outputs": [],
   "source": [
    "from torchvision.models import resnet18\n",
    "from core.architecture.experiment.nn_experimenter import ClassificationExperimenter\n",
    "\n",
    "experimenter = ClassificationExperimenter(\n",
    "    model=resnet18(num_classes=21), # Number of classes in your dataset\n",
    "    name='ResNet18'\n",
    ")"
   ],
   "metadata": {
    "collapsed": false
   }
  },
  {
   "cell_type": "markdown",
   "source": [
    "The third step (optionally) initialization of the structure optimization."
   ],
   "metadata": {
    "collapsed": false
   }
  },
  {
   "cell_type": "code",
   "execution_count": null,
   "outputs": [],
   "source": [
    "from core.operation.optimization.structure_optimization import SVDOptimization\n",
    "\n",
    "svd_optimization = SVDOptimization(energy_thresholds=[0.1, 0.3, 0.5, 0.7, 0.9])"
   ],
   "metadata": {
    "collapsed": false
   }
  },
  {
   "cell_type": "markdown",
   "source": [
    "Running Model Training."
   ],
   "metadata": {
    "collapsed": false
   }
  },
  {
   "cell_type": "code",
   "execution_count": 5,
   "outputs": [
    {
     "name": "stdout",
     "output_type": "stream",
     "text": [
      "2023-01-20 14:47:30,584 - ClassificationExperimenter - LUSC/ResNet18, using device: cuda\n",
      "2023-01-20 14:47:30,587 - ClassificationExperimenter - Epoch 1\n"
     ]
    },
    {
     "name": "stderr",
     "output_type": "stream",
     "text": [
      "100%|██████████| 230/230 [00:17<00:00, 12.90it/s, loss=0.404]\n",
      "100%|██████████| 66/66 [00:02<00:00, 27.94it/s]\n"
     ]
    },
    {
     "name": "stdout",
     "output_type": "stream",
     "text": [
      "2023-01-20 14:47:50,923 - ClassificationExperimenter - Epoch 2\n"
     ]
    },
    {
     "name": "stderr",
     "output_type": "stream",
     "text": [
      "100%|██████████| 230/230 [00:17<00:00, 12.89it/s, loss=0.33] \n",
      "100%|██████████| 66/66 [00:02<00:00, 27.97it/s]\n"
     ]
    },
    {
     "name": "stdout",
     "output_type": "stream",
     "text": [
      "2023-01-20 14:48:11,272 - ClassificationExperimenter - Best f1 score: 0.7978644311593465\n",
      "2023-01-20 14:48:11,441 - ClassificationExperimenter - Saved to /home/n31v/workspace/Fedot.Industrial/cases/object_recognition/models/LUSC/ResNet18/trained.sd.pt.\n",
      "2023-01-20 14:48:11,444 - ClassificationExperimenter - Epoch 3\n"
     ]
    },
    {
     "name": "stderr",
     "output_type": "stream",
     "text": [
      "100%|██████████| 230/230 [00:18<00:00, 12.67it/s, loss=0.261]\n",
      "100%|██████████| 66/66 [00:02<00:00, 28.41it/s]\n"
     ]
    },
    {
     "name": "stdout",
     "output_type": "stream",
     "text": [
      "2023-01-20 14:48:32,067 - ClassificationExperimenter - Epoch 4\n"
     ]
    },
    {
     "name": "stderr",
     "output_type": "stream",
     "text": [
      "100%|██████████| 230/230 [00:18<00:00, 12.75it/s, loss=0.243]\n",
      "100%|██████████| 66/66 [00:02<00:00, 26.34it/s]\n"
     ]
    },
    {
     "name": "stdout",
     "output_type": "stream",
     "text": [
      "2023-01-20 14:48:52,760 - ClassificationExperimenter - Epoch 5\n"
     ]
    },
    {
     "name": "stderr",
     "output_type": "stream",
     "text": [
      "100%|██████████| 230/230 [00:17<00:00, 12.88it/s, loss=0.197]\n",
      "100%|██████████| 66/66 [00:02<00:00, 28.23it/s]\n"
     ]
    },
    {
     "name": "stdout",
     "output_type": "stream",
     "text": [
      "2023-01-20 14:49:13,093 - ClassificationExperimenter - Epoch 6\n"
     ]
    },
    {
     "name": "stderr",
     "output_type": "stream",
     "text": [
      "100%|██████████| 230/230 [00:18<00:00, 12.71it/s, loss=0.183]\n",
      "100%|██████████| 66/66 [00:02<00:00, 29.37it/s]\n"
     ]
    },
    {
     "name": "stdout",
     "output_type": "stream",
     "text": [
      "2023-01-20 14:49:33,575 - ClassificationExperimenter - Best f1 score: 0.8346985155340121\n",
      "2023-01-20 14:49:33,724 - ClassificationExperimenter - Saved to /home/n31v/workspace/Fedot.Industrial/cases/object_recognition/models/LUSC/ResNet18/trained.sd.pt.\n",
      "2023-01-20 14:49:33,727 - ClassificationExperimenter - Epoch 7\n"
     ]
    },
    {
     "name": "stderr",
     "output_type": "stream",
     "text": [
      "100%|██████████| 230/230 [00:17<00:00, 13.36it/s, loss=0.128]\n",
      "100%|██████████| 66/66 [00:02<00:00, 28.67it/s]\n"
     ]
    },
    {
     "name": "stdout",
     "output_type": "stream",
     "text": [
      "2023-01-20 14:49:53,392 - ClassificationExperimenter - Epoch 8\n"
     ]
    },
    {
     "name": "stderr",
     "output_type": "stream",
     "text": [
      "100%|██████████| 230/230 [00:17<00:00, 13.31it/s, loss=0.132]\n",
      "100%|██████████| 66/66 [00:02<00:00, 28.40it/s]\n"
     ]
    },
    {
     "name": "stdout",
     "output_type": "stream",
     "text": [
      "2023-01-20 14:50:13,132 - ClassificationExperimenter - Best f1 score: 0.8647908510418312\n",
      "2023-01-20 14:50:13,287 - ClassificationExperimenter - Saved to /home/n31v/workspace/Fedot.Industrial/cases/object_recognition/models/LUSC/ResNet18/trained.sd.pt.\n",
      "2023-01-20 14:50:13,291 - ClassificationExperimenter - Epoch 9\n"
     ]
    },
    {
     "name": "stderr",
     "output_type": "stream",
     "text": [
      "100%|██████████| 230/230 [00:17<00:00, 13.46it/s, loss=0.119]\n",
      "100%|██████████| 66/66 [00:02<00:00, 28.61it/s]\n"
     ]
    },
    {
     "name": "stdout",
     "output_type": "stream",
     "text": [
      "2023-01-20 14:50:32,832 - ClassificationExperimenter - Epoch 10\n"
     ]
    },
    {
     "name": "stderr",
     "output_type": "stream",
     "text": [
      "100%|██████████| 230/230 [00:17<00:00, 13.39it/s, loss=0.0992]\n",
      "100%|██████████| 66/66 [00:02<00:00, 27.77it/s]\n"
     ]
    },
    {
     "name": "stdout",
     "output_type": "stream",
     "text": [
      "2023-01-20 14:50:52,562 - ClassificationExperimenter - Model state dict loaded.\n"
     ]
    }
   ],
   "source": [
    "import os\n",
    "os.environ['TF_CPP_MIN_LOG_LEVEL']='3'\n",
    "import warnings\n",
    "warnings.filterwarnings(\"ignore\")\n",
    "\n",
    "experimenter.fit(\n",
    "    dataset_name='LUSC', # Name of your dataset\n",
    "    train_dataset=train_dataset,\n",
    "    val_dataset=val_dataset,\n",
    "    num_epochs=10,\n",
    "    structure_optimization=svd_optimization, # Optional\n",
    "    dataloader_params={'batch_size': 32, 'num_workers': 8}\n",
    ")"
   ],
   "metadata": {
    "collapsed": false
   }
  },
  {
   "cell_type": "markdown",
   "source": [
    "Now you can get predictions for all images in a folder. The method returns a dictionary {'image_name': class}."
   ],
   "metadata": {
    "collapsed": false
   }
  },
  {
   "cell_type": "code",
   "execution_count": null,
   "outputs": [],
   "source": [
    "experimenter.predict('') # Path to your folder with images"
   ],
   "metadata": {
    "collapsed": false
   }
  }
 ],
 "metadata": {
  "kernelspec": {
   "display_name": "Python 3",
   "language": "python",
   "name": "python3"
  },
  "language_info": {
   "codemirror_mode": {
    "name": "ipython",
    "version": 2
   },
   "file_extension": ".py",
   "mimetype": "text/x-python",
   "name": "python",
   "nbconvert_exporter": "python",
   "pygments_lexer": "ipython2",
   "version": "2.7.6"
  }
 },
 "nbformat": 4,
 "nbformat_minor": 0
}
